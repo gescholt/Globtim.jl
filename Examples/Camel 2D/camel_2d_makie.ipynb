{
 "cells": [
  {
   "cell_type": "markdown",
   "metadata": {},
   "source": [
    "Camel 3 Function \n",
    "=====================\n"
   ]
  },
  {
   "cell_type": "code",
   "execution_count": 1,
   "metadata": {},
   "outputs": [
    {
     "name": "stderr",
     "output_type": "stream",
     "text": [
      "\u001b[32m\u001b[1m  Activating\u001b[22m\u001b[39m project at `~/Globtim.jl`\n"
     ]
    },
    {
     "data": {
      "text/plain": [
       "camel (generic function with 1 method)"
      ]
     },
     "metadata": {},
     "output_type": "display_data"
    }
   ],
   "source": [
    "using Pkg\n",
    "Pkg.activate(\"../../.\")\n",
    "using Globtim\n",
    "# include(\"../../../src/lib_func.jl\") # Include the library of functions\n",
    "\n",
    "# Constants and Parameters\n",
    "d = 2 # Initial Degree \n",
    "const n, a, b = 2, 5, 1 \n",
    "const scale_factor = a / b       # Scaling factor appears in `main_computation`, maybe it should be a parameter.\n",
    "const delta, alpha = .5 , 1 / 10  # Sampling parameters\n",
    "const tol_l2 = 3e-4            # Define the tolerance for the L2-norm\n",
    "\n",
    "f = camel # Objective function"
   ]
  },
  {
   "cell_type": "code",
   "execution_count": 2,
   "metadata": {},
   "outputs": [
    {
     "name": "stdout",
     "output_type": "stream",
     "text": [
      "current L2-norm: 88.06221424717013\n",
      "Number of samples: 8\n",
      "Current degree: 2\n",
      "current L2-norm: 56.53376717102288\n",
      "Number of samples: 12\n",
      "Current degree: 3\n",
      "current L2-norm: 7.168172657465275\n",
      "Number of samples: 17\n",
      "Current degree: 4\n",
      "current L2-norm: 5.469105102636791\n",
      "Number of samples: 22\n",
      "Current degree: 5\n",
      "attained the desired L2-norm: 1.4139296557579468e-13\n"
     ]
    }
   ],
   "source": [
    "while true # Potential infinite loop\n",
    "    global poly_approx = MainGenerate(f, 2, d, delta, alpha, scale_factor, 0.2) # computes the approximant in Chebyshev basis\n",
    "    if poly_approx.nrm < tol_l2\n",
    "        println(\"attained the desired L2-norm: \", poly_approx.nrm)\n",
    "        break\n",
    "    else\n",
    "        println(\"current L2-norm: \", poly_approx.nrm)\n",
    "        println(\"Number of samples: \", poly_approx.N)\n",
    "        println(\"Current degree: \", d)\n",
    "        global d += 1\n",
    "    end\n",
    "end;"
   ]
  },
  {
   "cell_type": "code",
   "execution_count": 6,
   "metadata": {},
   "outputs": [
    {
     "name": "stdout",
     "output_type": "stream",
     "text": [
      "The system is of degree: 5\n"
     ]
    }
   ],
   "source": [
    "using DynamicPolynomials, DataFrames\n",
    "using HomotopyContinuation, ProgressLogging\n",
    "\n",
    "@polyvar(x[1:n]) # Define polynomial ring \n",
    "pol = main_nd(x, n, d, poly_approx.coeffs) \n",
    "\n",
    "grad = differentiate.(pol, x)\n",
    "sys = System(grad)\n",
    "println(\"The system is of degree: \", d-1)"
   ]
  },
  {
   "cell_type": "code",
   "execution_count": 4,
   "metadata": {},
   "outputs": [
    {
     "name": "stderr",
     "output_type": "stream",
     "text": [
      "\u001b[32mComputing mixed cells... 2    Time: 0:00:00\u001b[39m\u001b[K\n",
      "\u001b[32mComputing mixed cells... 6    Time: 0:00:00\u001b[39m\u001b[K\n",
      "\u001b[34m  mixed_volume:  25\u001b[39m\u001b[K\n"
     ]
    },
    {
     "name": "stdout",
     "output_type": "stream",
     "text": [
      "\u001b[32mTracking 25 paths...   8%|██▍                           |  ETA: 0:02:10\u001b[39m\u001b[K\n",
      "\n",
      "\n",
      "\n",
      "\u001b[32mTracking 25 paths... 100%|██████████████████████████████| Time: 0:00:11\u001b[39m\u001b[K\n",
      "\u001b[34m  # paths tracked:                  25\u001b[39m\u001b[K\n",
      "\u001b[34m  # non-singular solutions (real):  25 (15)\u001b[39m\u001b[K\n",
      "\u001b[34m  # singular endpoints (real):      0 (0)\u001b[39m\u001b[K\n",
      "\u001b[34m  # total solutions (real):         25 (15)\u001b[39m\u001b[K\n"
     ]
    }
   ],
   "source": [
    "Real_sol_lstsq = HomotopyContinuation.solve(sys)\n",
    "real_pts = HomotopyContinuation.real_solutions(Real_sol_lstsq; only_real=true, multiple_results=false);"
   ]
  },
  {
   "cell_type": "code",
   "execution_count": 7,
   "metadata": {},
   "outputs": [],
   "source": [
    "condition(point) = -1 < point[1] < 1 && -1 < point[2] < 1\n",
    "filtered_points = filter(condition, real_pts) # Filter points using the filter function\n",
    "# Colllect the critical points of the approximant \n",
    "h_x = Float64[point[1] for point in filtered_points] # Initialize the x vector for critical points of approximant\n",
    "h_y = Float64[point[2] for point in filtered_points] # Initialize the y vector\n",
    "h_z = map(p -> f([p[1], p[2]]), zip(scale_factor * h_x, scale_factor * h_y))\n",
    "df = DataFrame(x=scale_factor * h_x, y=scale_factor * h_y, z=h_z); # Create a DataFrame"
   ]
  },
  {
   "cell_type": "code",
   "execution_count": 8,
   "metadata": {},
   "outputs": [],
   "source": [
    "using GLMakie\n",
    "# Extract coordinates and function values\n",
    "coords = poly_approx.scale_factor * poly_approx.grid\n",
    "z_coords = poly_approx.z;"
   ]
  },
  {
   "cell_type": "code",
   "execution_count": 9,
   "metadata": {},
   "outputs": [
    {
     "data": {
      "text/plain": [
       "GLMakie.Screen(...)"
      ]
     },
     "metadata": {},
     "output_type": "display_data"
    }
   ],
   "source": [
    "if size(coords)[2] == 2  # Plot the 3D scatter plot if the dimensions are 2\n",
    "    fig = Figure(size=(800, 600))\n",
    "    ax = Axis3(fig[1, 1], title=\"Camel Sample Points\", xlabel=\"X-axis\", ylabel=\"Y-axis\", zlabel=\"Z-axis\")\n",
    "\n",
    "    # Plot the sampled data with a darker core\n",
    "    scatter!(ax, coords[:, 1], coords[:, 2], z_coords, markersize=2, color=:black, label=\"Sampled Data Core\")\n",
    "\n",
    "    # Plot the sampled data with adjusted size and color to create a halo effect\n",
    "    scatter!(ax, coords[:, 1], coords[:, 2], z_coords, markersize=4, color=z_coords, colormap=:viridis, label=\"Sampled Data Halo\")\n",
    "\n",
    "    # Plot the exact approximant critical points with adjusted size\n",
    "    scatter!(ax, df.x, df.y, df.z, markersize=10, color=:red, label=\"Exact approximant critical points\")\n",
    "\n",
    "    display(fig)\n",
    "end"
   ]
  }
 ],
 "metadata": {
  "kernelspec": {
   "display_name": "Julia 1.11.1",
   "language": "julia",
   "name": "julia-1.11"
  },
  "language_info": {
   "file_extension": ".jl",
   "mimetype": "application/julia",
   "name": "julia",
   "version": "1.11.1"
  }
 },
 "nbformat": 4,
 "nbformat_minor": 2
}
