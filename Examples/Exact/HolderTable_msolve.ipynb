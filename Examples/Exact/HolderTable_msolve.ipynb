{
 "cells": [
  {
   "cell_type": "markdown",
   "metadata": {},
   "source": [
    "## Holder Table Function"
   ]
  },
  {
   "cell_type": "code",
   "execution_count": 1,
   "metadata": {},
   "outputs": [
    {
     "name": "stderr",
     "output_type": "stream",
     "text": [
      "\u001b[32m\u001b[1m  Activating\u001b[22m\u001b[39m project at `~/globtim`\n"
     ]
    }
   ],
   "source": [
    "using Pkg\n",
    "Pkg.activate(\"../../.\")\n",
    "using Globtim\n",
    "using DynamicPolynomials, DataFrames"
   ]
  },
  {
   "cell_type": "code",
   "execution_count": 2,
   "metadata": {},
   "outputs": [
    {
     "data": {
      "text/plain": [
       "HolderTable (generic function with 1 method)"
      ]
     },
     "metadata": {},
     "output_type": "display_data"
    }
   ],
   "source": [
    "# Constants and Parameters\n",
    "const n, a, b = 2, 10, 1\n",
    "const scale_factor = a / b   # Scaling factor appears in `main_computation`, maybe it should be a parameter.\n",
    "const delta, alpha = 0.5, 1 / 10  # Sampling parameters\n",
    "const tol_l2 = 3e-4            # Define the tolerance for the L2-norm\n",
    "f = HolderTable # Objective function"
   ]
  },
  {
   "cell_type": "code",
   "execution_count": 14,
   "metadata": {},
   "outputs": [
    {
     "name": "stdout",
     "output_type": "stream",
     "text": [
      "current L2-norm: 0.025910515773993444\n",
      "current L2-norm: 1.8537895490739256\n"
     ]
    },
    {
     "data": {
      "text/plain": [
       "(Variable{DynamicPolynomials.Commutative{DynamicPolynomials.CreationOrder}, Graded{LexOrder}}[x₁, x₂],)"
      ]
     },
     "metadata": {},
     "output_type": "display_data"
    }
   ],
   "source": [
    "d = 18 # Initial Degree \n",
    "SMPL = 50 # Number of samples\n",
    "center = [0.0, 0.0]\n",
    "TR = test_input(f,\n",
    "                dim = n, \n",
    "                center = center,\n",
    "                GN=SMPL,\n",
    "                sample_range=scale_factor,\n",
    "                degree_max = d+ 4\n",
    "                )\n",
    "pol_cheb = Constructor(TR, d, basis=:chebyshev)\n",
    "pol_lege = Constructor(TR, d, basis=:legendre);\n",
    "@polyvar(x[1:n])"
   ]
  },
  {
   "cell_type": "code",
   "execution_count": 15,
   "metadata": {},
   "outputs": [
    {
     "name": "stdout",
     "output_type": "stream",
     "text": [
      "\n",
      "=== Starting MSolve Parser (dimension: 2) ===\n",
      "Processed 181 points (0.001s)\n"
     ]
    },
    {
     "data": {
      "text/html": [
       "<div><div style = \"float: left;\"><span>181×3 DataFrame</span></div><div style = \"float: right;\"><span style = \"font-style: italic;\">156 rows omitted</span></div><div style = \"clear: both;\"></div></div><div class = \"data-frame\" style = \"overflow-x: scroll;\"><table class = \"data-frame\" style = \"margin-bottom: 6px;\"><thead><tr class = \"header\"><th class = \"rowNumber\" style = \"font-weight: bold; text-align: right;\">Row</th><th style = \"text-align: left;\">x1</th><th style = \"text-align: left;\">x2</th><th style = \"text-align: left;\">z</th></tr><tr class = \"subheader headerLastRow\"><th class = \"rowNumber\" style = \"font-weight: bold; text-align: right;\"></th><th title = \"Float64\" style = \"text-align: left;\">Float64</th><th title = \"Float64\" style = \"text-align: left;\">Float64</th><th title = \"Float64\" style = \"text-align: left;\">Float64</th></tr></thead><tbody><tr><td class = \"rowNumber\" style = \"font-weight: bold; text-align: right;\">1</td><td style = \"text-align: right;\">-4.00688e-16</td><td style = \"text-align: right;\">4.83315</td><td style = \"text-align: right;\">-8.26996e-17</td></tr><tr><td class = \"rowNumber\" style = \"font-weight: bold; text-align: right;\">2</td><td style = \"text-align: right;\">-6.79054e-16</td><td style = \"text-align: right;\">-4.83315</td><td style = \"text-align: right;\">-1.40153e-16</td></tr><tr><td class = \"rowNumber\" style = \"font-weight: bold; text-align: right;\">3</td><td style = \"text-align: right;\">-4.62497e-16</td><td style = \"text-align: right;\">7.77327</td><td style = \"text-align: right;\">-1.62874e-16</td></tr><tr><td class = \"rowNumber\" style = \"font-weight: bold; text-align: right;\">4</td><td style = \"text-align: right;\">-4.68073e-16</td><td style = \"text-align: right;\">-7.77327</td><td style = \"text-align: right;\">-1.64837e-16</td></tr><tr><td class = \"rowNumber\" style = \"font-weight: bold; text-align: right;\">5</td><td style = \"text-align: right;\">-3.97521e-16</td><td style = \"text-align: right;\">-1.96529</td><td style = \"text-align: right;\">-2.2217e-16</td></tr><tr><td class = \"rowNumber\" style = \"font-weight: bold; text-align: right;\">6</td><td style = \"text-align: right;\">-4.09987e-16</td><td style = \"text-align: right;\">1.96529</td><td style = \"text-align: right;\">-2.29137e-16</td></tr><tr><td class = \"rowNumber\" style = \"font-weight: bold; text-align: right;\">7</td><td style = \"text-align: right;\">-2.31568e-16</td><td style = \"text-align: right;\">3.40703</td><td style = \"text-align: right;\">-2.43159e-16</td></tr><tr><td class = \"rowNumber\" style = \"font-weight: bold; text-align: right;\">8</td><td style = \"text-align: right;\">-4.78037e-16</td><td style = \"text-align: right;\">-3.40703</td><td style = \"text-align: right;\">-5.01964e-16</td></tr><tr><td class = \"rowNumber\" style = \"font-weight: bold; text-align: right;\">9</td><td style = \"text-align: right;\">-5.28279e-16</td><td style = \"text-align: right;\">6.46031</td><td style = \"text-align: right;\">-1.49553e-15</td></tr><tr><td class = \"rowNumber\" style = \"font-weight: bold; text-align: right;\">10</td><td style = \"text-align: right;\">-5.35589e-16</td><td style = \"text-align: right;\">-6.46031</td><td style = \"text-align: right;\">-1.51623e-15</td></tr><tr><td class = \"rowNumber\" style = \"font-weight: bold; text-align: right;\">11</td><td style = \"text-align: right;\">-2.30213e-16</td><td style = \"text-align: right;\">9.83807</td><td style = \"text-align: right;\">-1.77687e-15</td></tr><tr><td class = \"rowNumber\" style = \"font-weight: bold; text-align: right;\">12</td><td style = \"text-align: right;\">-8.90565e-16</td><td style = \"text-align: right;\">-1.93598e-15</td><td style = \"text-align: right;\">-2.42081e-15</td></tr><tr><td class = \"rowNumber\" style = \"font-weight: bold; text-align: right;\">13</td><td style = \"text-align: right;\">-3.31611e-16</td><td style = \"text-align: right;\">-9.83807</td><td style = \"text-align: right;\">-2.55949e-15</td></tr><tr><td style = \"text-align: right;\">&vellip;</td><td style = \"text-align: right;\">&vellip;</td><td style = \"text-align: right;\">&vellip;</td><td style = \"text-align: right;\">&vellip;</td></tr><tr><td class = \"rowNumber\" style = \"font-weight: bold; text-align: right;\">170</td><td style = \"text-align: right;\">8.06074</td><td style = \"text-align: right;\">-6.52682</td><td style = \"text-align: right;\">-9.48727</td></tr><tr><td class = \"rowNumber\" style = \"font-weight: bold; text-align: right;\">171</td><td style = \"text-align: right;\">-8.06074</td><td style = \"text-align: right;\">-6.52682</td><td style = \"text-align: right;\">-9.48727</td></tr><tr><td class = \"rowNumber\" style = \"font-weight: bold; text-align: right;\">172</td><td style = \"text-align: right;\">-8.06074</td><td style = \"text-align: right;\">6.52682</td><td style = \"text-align: right;\">-9.48727</td></tr><tr><td class = \"rowNumber\" style = \"font-weight: bold; text-align: right;\">173</td><td style = \"text-align: right;\">8.06074</td><td style = \"text-align: right;\">6.52682</td><td style = \"text-align: right;\">-9.48727</td></tr><tr><td class = \"rowNumber\" style = \"font-weight: bold; text-align: right;\">174</td><td style = \"text-align: right;\">4.88014</td><td style = \"text-align: right;\">-9.8809</td><td style = \"text-align: right;\">-10.8689</td></tr><tr><td class = \"rowNumber\" style = \"font-weight: bold; text-align: right;\">175</td><td style = \"text-align: right;\">-4.88014</td><td style = \"text-align: right;\">-9.8809</td><td style = \"text-align: right;\">-10.8689</td></tr><tr><td class = \"rowNumber\" style = \"font-weight: bold; text-align: right;\">176</td><td style = \"text-align: right;\">-4.88014</td><td style = \"text-align: right;\">9.8809</td><td style = \"text-align: right;\">-10.8689</td></tr><tr><td class = \"rowNumber\" style = \"font-weight: bold; text-align: right;\">177</td><td style = \"text-align: right;\">4.88014</td><td style = \"text-align: right;\">9.8809</td><td style = \"text-align: right;\">-10.8689</td></tr><tr><td class = \"rowNumber\" style = \"font-weight: bold; text-align: right;\">178</td><td style = \"text-align: right;\">-8.11693</td><td style = \"text-align: right;\">-9.8718</td><td style = \"text-align: right;\">-18.722</td></tr><tr><td class = \"rowNumber\" style = \"font-weight: bold; text-align: right;\">179</td><td style = \"text-align: right;\">8.11693</td><td style = \"text-align: right;\">-9.8718</td><td style = \"text-align: right;\">-18.722</td></tr><tr><td class = \"rowNumber\" style = \"font-weight: bold; text-align: right;\">180</td><td style = \"text-align: right;\">8.11693</td><td style = \"text-align: right;\">9.8718</td><td style = \"text-align: right;\">-18.722</td></tr><tr><td class = \"rowNumber\" style = \"font-weight: bold; text-align: right;\">181</td><td style = \"text-align: right;\">-8.11693</td><td style = \"text-align: right;\">9.8718</td><td style = \"text-align: right;\">-18.722</td></tr></tbody></table></div>"
      ],
      "text/latex": [
       "\\begin{tabular}{r|ccc}\n",
       "\t& x1 & x2 & z\\\\\n",
       "\t\\hline\n",
       "\t& Float64 & Float64 & Float64\\\\\n",
       "\t\\hline\n",
       "\t1 & -4.00688e-16 & 4.83315 & -8.26996e-17 \\\\\n",
       "\t2 & -6.79054e-16 & -4.83315 & -1.40153e-16 \\\\\n",
       "\t3 & -4.62497e-16 & 7.77327 & -1.62874e-16 \\\\\n",
       "\t4 & -4.68073e-16 & -7.77327 & -1.64837e-16 \\\\\n",
       "\t5 & -3.97521e-16 & -1.96529 & -2.2217e-16 \\\\\n",
       "\t6 & -4.09987e-16 & 1.96529 & -2.29137e-16 \\\\\n",
       "\t7 & -2.31568e-16 & 3.40703 & -2.43159e-16 \\\\\n",
       "\t8 & -4.78037e-16 & -3.40703 & -5.01964e-16 \\\\\n",
       "\t9 & -5.28279e-16 & 6.46031 & -1.49553e-15 \\\\\n",
       "\t10 & -5.35589e-16 & -6.46031 & -1.51623e-15 \\\\\n",
       "\t11 & -2.30213e-16 & 9.83807 & -1.77687e-15 \\\\\n",
       "\t12 & -8.90565e-16 & -1.93598e-15 & -2.42081e-15 \\\\\n",
       "\t13 & -3.31611e-16 & -9.83807 & -2.55949e-15 \\\\\n",
       "\t14 & 3.18819 & 1.56955 & -6.62477e-5 \\\\\n",
       "\t15 & -3.18819 & 1.56955 & -6.62477e-5 \\\\\n",
       "\t16 & 3.18819 & -1.56955 & -6.62477e-5 \\\\\n",
       "\t17 & -3.18819 & -1.56955 & -6.62477e-5 \\\\\n",
       "\t18 & 6.38204 & -4.70434 & -0.00364608 \\\\\n",
       "\t19 & -6.38204 & -4.70434 & -0.00364608 \\\\\n",
       "\t20 & 6.38204 & 4.70434 & -0.00364608 \\\\\n",
       "\t21 & -6.38204 & 4.70434 & -0.00364608 \\\\\n",
       "\t22 & 9.42118 & 4.81692 & -0.00400982 \\\\\n",
       "\t23 & -9.42118 & 4.81692 & -0.00400982 \\\\\n",
       "\t24 & -9.42118 & -4.81692 & -0.00400982 \\\\\n",
       "\t$\\dots$ & $\\dots$ & $\\dots$ & $\\dots$ \\\\\n",
       "\\end{tabular}\n"
      ],
      "text/plain": [
       "\u001b[1m181×3 DataFrame\u001b[0m\n",
       "\u001b[1m Row \u001b[0m│\u001b[1m x1           \u001b[0m\u001b[1m x2       \u001b[0m\u001b[1m z             \u001b[0m\n",
       "     │\u001b[90m Float64      \u001b[0m\u001b[90m Float64  \u001b[0m\u001b[90m Float64       \u001b[0m\n",
       "─────┼───────────────────────────────────────\n",
       "   1 │ -4.00688e-16   4.83315   -8.26996e-17\n",
       "   2 │ -6.79054e-16  -4.83315   -1.40153e-16\n",
       "   3 │ -4.62497e-16   7.77327   -1.62874e-16\n",
       "   4 │ -4.68073e-16  -7.77327   -1.64837e-16\n",
       "   5 │ -3.97521e-16  -1.96529   -2.2217e-16\n",
       "   6 │ -4.09987e-16   1.96529   -2.29137e-16\n",
       "   7 │ -2.31568e-16   3.40703   -2.43159e-16\n",
       "   8 │ -4.78037e-16  -3.40703   -5.01964e-16\n",
       "  ⋮  │      ⋮           ⋮            ⋮\n",
       " 175 │ -4.88014      -9.8809   -10.8689\n",
       " 176 │ -4.88014       9.8809   -10.8689\n",
       " 177 │  4.88014       9.8809   -10.8689\n",
       " 178 │ -8.11693      -9.8718   -18.722\n",
       " 179 │  8.11693      -9.8718   -18.722\n",
       " 180 │  8.11693       9.8718   -18.722\n",
       " 181 │ -8.11693       9.8718   -18.722\n",
       "\u001b[36m                             166 rows omitted\u001b[0m"
      ]
     },
     "metadata": {},
     "output_type": "display_data"
    }
   ],
   "source": [
    "df_cheb = solve_and_parse(pol_cheb, x, f, TR)\n",
    "sort!(df_cheb, :z, rev=true)"
   ]
  },
  {
   "cell_type": "code",
   "execution_count": 16,
   "metadata": {},
   "outputs": [
    {
     "name": "stdout",
     "output_type": "stream",
     "text": [
      "\n",
      "=== Starting MSolve Parser (dimension: 2) ===\n",
      "Processed 181 points (0.001s)\n"
     ]
    },
    {
     "data": {
      "text/html": [
       "<div><div style = \"float: left;\"><span>181×3 DataFrame</span></div><div style = \"float: right;\"><span style = \"font-style: italic;\">156 rows omitted</span></div><div style = \"clear: both;\"></div></div><div class = \"data-frame\" style = \"overflow-x: scroll;\"><table class = \"data-frame\" style = \"margin-bottom: 6px;\"><thead><tr class = \"header\"><th class = \"rowNumber\" style = \"font-weight: bold; text-align: right;\">Row</th><th style = \"text-align: left;\">x1</th><th style = \"text-align: left;\">x2</th><th style = \"text-align: left;\">z</th></tr><tr class = \"subheader headerLastRow\"><th class = \"rowNumber\" style = \"font-weight: bold; text-align: right;\"></th><th title = \"Float64\" style = \"text-align: left;\">Float64</th><th title = \"Float64\" style = \"text-align: left;\">Float64</th><th title = \"Float64\" style = \"text-align: left;\">Float64</th></tr></thead><tbody><tr><td class = \"rowNumber\" style = \"font-weight: bold; text-align: right;\">1</td><td style = \"text-align: right;\">-4.52714e-13</td><td style = \"text-align: right;\">4.7857</td><td style = \"text-align: right;\">-5.59585e-14</td></tr><tr><td class = \"rowNumber\" style = \"font-weight: bold; text-align: right;\">2</td><td style = \"text-align: right;\">-4.53445e-13</td><td style = \"text-align: right;\">-4.7857</td><td style = \"text-align: right;\">-5.60488e-14</td></tr><tr><td class = \"rowNumber\" style = \"font-weight: bold; text-align: right;\">3</td><td style = \"text-align: right;\">-3.39656e-13</td><td style = \"text-align: right;\">-7.6987</td><td style = \"text-align: right;\">-2.24076e-13</td></tr><tr><td class = \"rowNumber\" style = \"font-weight: bold; text-align: right;\">4</td><td style = \"text-align: right;\">-3.40216e-13</td><td style = \"text-align: right;\">7.6987</td><td style = \"text-align: right;\">-2.24446e-13</td></tr><tr><td class = \"rowNumber\" style = \"font-weight: bold; text-align: right;\">5</td><td style = \"text-align: right;\">-6.1712e-13</td><td style = \"text-align: right;\">-1.85276</td><td style = \"text-align: right;\">-2.58799e-13</td></tr><tr><td class = \"rowNumber\" style = \"font-weight: bold; text-align: right;\">6</td><td style = \"text-align: right;\">-6.17378e-13</td><td style = \"text-align: right;\">1.85276</td><td style = \"text-align: right;\">-2.58907e-13</td></tr><tr><td class = \"rowNumber\" style = \"font-weight: bold; text-align: right;\">7</td><td style = \"text-align: right;\">-5.07829e-13</td><td style = \"text-align: right;\">3.33237</td><td style = \"text-align: right;\">-5.29833e-13</td></tr><tr><td class = \"rowNumber\" style = \"font-weight: bold; text-align: right;\">8</td><td style = \"text-align: right;\">-5.08376e-13</td><td style = \"text-align: right;\">-3.33237</td><td style = \"text-align: right;\">-5.30404e-13</td></tr><tr><td class = \"rowNumber\" style = \"font-weight: bold; text-align: right;\">9</td><td style = \"text-align: right;\">-3.79702e-13</td><td style = \"text-align: right;\">-6.40037</td><td style = \"text-align: right;\">-1.06401e-12</td></tr><tr><td class = \"rowNumber\" style = \"font-weight: bold; text-align: right;\">10</td><td style = \"text-align: right;\">-3.80008e-13</td><td style = \"text-align: right;\">6.40037</td><td style = \"text-align: right;\">-1.06487e-12</td></tr><tr><td class = \"rowNumber\" style = \"font-weight: bold; text-align: right;\">11</td><td style = \"text-align: right;\">-7.36843e-13</td><td style = \"text-align: right;\">-2.38591e-13</td><td style = \"text-align: right;\">-2.00295e-12</td></tr><tr><td class = \"rowNumber\" style = \"font-weight: bold; text-align: right;\">12</td><td style = \"text-align: right;\">-4.07741e-13</td><td style = \"text-align: right;\">9.83765</td><td style = \"text-align: right;\">-3.14725e-12</td></tr><tr><td class = \"rowNumber\" style = \"font-weight: bold; text-align: right;\">13</td><td style = \"text-align: right;\">-4.08392e-13</td><td style = \"text-align: right;\">-9.83765</td><td style = \"text-align: right;\">-3.15227e-12</td></tr><tr><td style = \"text-align: right;\">&vellip;</td><td style = \"text-align: right;\">&vellip;</td><td style = \"text-align: right;\">&vellip;</td><td style = \"text-align: right;\">&vellip;</td></tr><tr><td class = \"rowNumber\" style = \"font-weight: bold; text-align: right;\">170</td><td style = \"text-align: right;\">8.01938</td><td style = \"text-align: right;\">-6.55036</td><td style = \"text-align: right;\">-9.45086</td></tr><tr><td class = \"rowNumber\" style = \"font-weight: bold; text-align: right;\">171</td><td style = \"text-align: right;\">8.01938</td><td style = \"text-align: right;\">6.55036</td><td style = \"text-align: right;\">-9.45086</td></tr><tr><td class = \"rowNumber\" style = \"font-weight: bold; text-align: right;\">172</td><td style = \"text-align: right;\">-8.01938</td><td style = \"text-align: right;\">-6.55036</td><td style = \"text-align: right;\">-9.45086</td></tr><tr><td class = \"rowNumber\" style = \"font-weight: bold; text-align: right;\">173</td><td style = \"text-align: right;\">-8.01938</td><td style = \"text-align: right;\">6.55036</td><td style = \"text-align: right;\">-9.45086</td></tr><tr><td class = \"rowNumber\" style = \"font-weight: bold; text-align: right;\">174</td><td style = \"text-align: right;\">-4.88702</td><td style = \"text-align: right;\">9.86592</td><td style = \"text-align: right;\">-10.8985</td></tr><tr><td class = \"rowNumber\" style = \"font-weight: bold; text-align: right;\">175</td><td style = \"text-align: right;\">4.88702</td><td style = \"text-align: right;\">9.86592</td><td style = \"text-align: right;\">-10.8985</td></tr><tr><td class = \"rowNumber\" style = \"font-weight: bold; text-align: right;\">176</td><td style = \"text-align: right;\">-4.88702</td><td style = \"text-align: right;\">-9.86592</td><td style = \"text-align: right;\">-10.8985</td></tr><tr><td class = \"rowNumber\" style = \"font-weight: bold; text-align: right;\">177</td><td style = \"text-align: right;\">4.88702</td><td style = \"text-align: right;\">-9.86592</td><td style = \"text-align: right;\">-10.8985</td></tr><tr><td class = \"rowNumber\" style = \"font-weight: bold; text-align: right;\">178</td><td style = \"text-align: right;\">-8.10742</td><td style = \"text-align: right;\">9.90281</td><td style = \"text-align: right;\">-18.5869</td></tr><tr><td class = \"rowNumber\" style = \"font-weight: bold; text-align: right;\">179</td><td style = \"text-align: right;\">8.10742</td><td style = \"text-align: right;\">9.90281</td><td style = \"text-align: right;\">-18.5869</td></tr><tr><td class = \"rowNumber\" style = \"font-weight: bold; text-align: right;\">180</td><td style = \"text-align: right;\">-8.10742</td><td style = \"text-align: right;\">-9.90281</td><td style = \"text-align: right;\">-18.5869</td></tr><tr><td class = \"rowNumber\" style = \"font-weight: bold; text-align: right;\">181</td><td style = \"text-align: right;\">8.10742</td><td style = \"text-align: right;\">-9.90281</td><td style = \"text-align: right;\">-18.5869</td></tr></tbody></table></div>"
      ],
      "text/latex": [
       "\\begin{tabular}{r|ccc}\n",
       "\t& x1 & x2 & z\\\\\n",
       "\t\\hline\n",
       "\t& Float64 & Float64 & Float64\\\\\n",
       "\t\\hline\n",
       "\t1 & -4.52714e-13 & 4.7857 & -5.59585e-14 \\\\\n",
       "\t2 & -4.53445e-13 & -4.7857 & -5.60488e-14 \\\\\n",
       "\t3 & -3.39656e-13 & -7.6987 & -2.24076e-13 \\\\\n",
       "\t4 & -3.40216e-13 & 7.6987 & -2.24446e-13 \\\\\n",
       "\t5 & -6.1712e-13 & -1.85276 & -2.58799e-13 \\\\\n",
       "\t6 & -6.17378e-13 & 1.85276 & -2.58907e-13 \\\\\n",
       "\t7 & -5.07829e-13 & 3.33237 & -5.29833e-13 \\\\\n",
       "\t8 & -5.08376e-13 & -3.33237 & -5.30404e-13 \\\\\n",
       "\t9 & -3.79702e-13 & -6.40037 & -1.06401e-12 \\\\\n",
       "\t10 & -3.80008e-13 & 6.40037 & -1.06487e-12 \\\\\n",
       "\t11 & -7.36843e-13 & -2.38591e-13 & -2.00295e-12 \\\\\n",
       "\t12 & -4.07741e-13 & 9.83765 & -3.14725e-12 \\\\\n",
       "\t13 & -4.08392e-13 & -9.83765 & -3.15227e-12 \\\\\n",
       "\t14 & 3.19957 & 1.63289 & -0.00415071 \\\\\n",
       "\t15 & 3.19957 & -1.63289 & -0.00415071 \\\\\n",
       "\t16 & -3.19957 & 1.63289 & -0.00415071 \\\\\n",
       "\t17 & -3.19957 & -1.63289 & -0.00415071 \\\\\n",
       "\t18 & -6.2388 & 1.61213 & -0.00524494 \\\\\n",
       "\t19 & 6.2388 & 1.61213 & -0.00524494 \\\\\n",
       "\t20 & -6.2388 & -1.61213 & -0.00524494 \\\\\n",
       "\t21 & 6.2388 & -1.61213 & -0.00524494 \\\\\n",
       "\t22 & 4.86626 & -1.56538 & -0.0100206 \\\\\n",
       "\t23 & -4.86626 & -1.56538 & -0.0100206 \\\\\n",
       "\t24 & 4.86626 & 1.56538 & -0.0100206 \\\\\n",
       "\t$\\dots$ & $\\dots$ & $\\dots$ & $\\dots$ \\\\\n",
       "\\end{tabular}\n"
      ],
      "text/plain": [
       "\u001b[1m181×3 DataFrame\u001b[0m\n",
       "\u001b[1m Row \u001b[0m│\u001b[1m x1           \u001b[0m\u001b[1m x2           \u001b[0m\u001b[1m z             \u001b[0m\n",
       "     │\u001b[90m Float64      \u001b[0m\u001b[90m Float64      \u001b[0m\u001b[90m Float64       \u001b[0m\n",
       "─────┼───────────────────────────────────────────\n",
       "   1 │ -4.52714e-13   4.7857        -5.59585e-14\n",
       "   2 │ -4.53445e-13  -4.7857        -5.60488e-14\n",
       "   3 │ -3.39656e-13  -7.6987        -2.24076e-13\n",
       "   4 │ -3.40216e-13   7.6987        -2.24446e-13\n",
       "   5 │ -6.1712e-13   -1.85276       -2.58799e-13\n",
       "   6 │ -6.17378e-13   1.85276       -2.58907e-13\n",
       "   7 │ -5.07829e-13   3.33237       -5.29833e-13\n",
       "   8 │ -5.08376e-13  -3.33237       -5.30404e-13\n",
       "  ⋮  │      ⋮             ⋮              ⋮\n",
       " 175 │  4.88702       9.86592      -10.8985\n",
       " 176 │ -4.88702      -9.86592      -10.8985\n",
       " 177 │  4.88702      -9.86592      -10.8985\n",
       " 178 │ -8.10742       9.90281      -18.5869\n",
       " 179 │  8.10742       9.90281      -18.5869\n",
       " 180 │ -8.10742      -9.90281      -18.5869\n",
       " 181 │  8.10742      -9.90281      -18.5869\n",
       "\u001b[36m                                 166 rows omitted\u001b[0m"
      ]
     },
     "metadata": {},
     "output_type": "display_data"
    }
   ],
   "source": [
    "df_lege = solve_and_parse(pol_lege, x, f, TR, basis=:legendre)\n",
    "sort!(df_lege, :z, rev=true)"
   ]
  },
  {
   "cell_type": "code",
   "execution_count": 17,
   "metadata": {},
   "outputs": [
    {
     "name": "stderr",
     "output_type": "stream",
     "text": [
      "┌ Warning: Failed to achieve finite new evaluation point, using alpha=0\n",
      "└ @ LineSearches /Users/ghscholt/.julia/packages/LineSearches/jgnxK/src/hagerzhang.jl:155\n",
      "┌ Warning: Failed to achieve finite new evaluation point, using alpha=0\n",
      "└ @ LineSearches /Users/ghscholt/.julia/packages/LineSearches/jgnxK/src/hagerzhang.jl:155\n",
      "┌ Warning: Failed to achieve finite new evaluation point, using alpha=0\n",
      "└ @ LineSearches /Users/ghscholt/.julia/packages/LineSearches/jgnxK/src/hagerzhang.jl:155\n",
      "┌ Warning: Failed to achieve finite new evaluation point, using alpha=0\n",
      "└ @ LineSearches /Users/ghscholt/.julia/packages/LineSearches/jgnxK/src/hagerzhang.jl:155\n",
      "┌ Warning: Failed to achieve finite new evaluation point, using alpha=0\n",
      "└ @ LineSearches /Users/ghscholt/.julia/packages/LineSearches/jgnxK/src/hagerzhang.jl:155\n"
     ]
    },
    {
     "data": {
      "text/plain": [
       "(\u001b[1m181×8 DataFrame\u001b[0m\n",
       "\u001b[1m Row \u001b[0m│\u001b[1m x1           \u001b[0m\u001b[1m x2       \u001b[0m\u001b[1m z             \u001b[0m\u001b[1m y1           \u001b[0m\u001b[1m y2       \u001b[0m\u001b[1m close \u001b[0m\u001b[1m s\u001b[0m ⋯\n",
       "     │\u001b[90m Float64      \u001b[0m\u001b[90m Float64  \u001b[0m\u001b[90m Float64       \u001b[0m\u001b[90m Float64      \u001b[0m\u001b[90m Float64  \u001b[0m\u001b[90m Bool  \u001b[0m\u001b[90m F\u001b[0m ⋯\n",
       "─────┼──────────────────────────────────────────────────────────────────────────\n",
       "   1 │ -4.00688e-16   4.83315   -8.26996e-17  -4.00688e-16   4.83315   true    ⋯\n",
       "   2 │ -6.79054e-16  -4.83315   -1.40153e-16  -6.79054e-16  -4.83315   true\n",
       "   3 │ -4.62497e-16   7.77327   -1.62874e-16  -4.62497e-16   7.77327   true\n",
       "   4 │ -4.68073e-16  -7.77327   -1.64837e-16  -4.68073e-16  -7.77327   true\n",
       "   5 │ -3.97521e-16  -1.96529   -2.2217e-16   -3.97521e-16  -1.96529   true    ⋯\n",
       "   6 │ -4.09987e-16   1.96529   -2.29137e-16  -4.09987e-16   1.96529   true\n",
       "   7 │ -2.31568e-16   3.40703   -2.43159e-16  -2.31568e-16   3.40703   true\n",
       "   8 │ -4.78037e-16  -3.40703   -5.01964e-16  -4.78037e-16  -3.40703   true\n",
       "  ⋮  │      ⋮           ⋮            ⋮             ⋮           ⋮        ⋮      ⋱\n",
       " 175 │ -4.88014      -9.8809   -10.8689       -4.85386      -9.70211  false    ⋯\n",
       " 176 │ -4.88014       9.8809   -10.8689       -4.85386       9.70211  false\n",
       " 177 │  4.88014       9.8809   -10.8689        4.85386       9.70211  false\n",
       " 178 │ -8.11693      -9.8718   -18.722        -8.05502      -9.66459  false\n",
       " 179 │  8.11693      -9.8718   -18.722         8.05502      -9.66459  false    ⋯\n",
       " 180 │  8.11693       9.8718   -18.722         8.05502       9.66459  false\n",
       " 181 │ -8.11693       9.8718   -18.722        -8.05502       9.66459  false\n",
       "\u001b[36m                                                  2 columns and 166 rows omitted\u001b[0m, \u001b[1m55×4 DataFrame\u001b[0m\n",
       "\u001b[1m Row \u001b[0m│\u001b[1m x1           \u001b[0m\u001b[1m x2       \u001b[0m\u001b[1m value         \u001b[0m\u001b[1m captured \u001b[0m\n",
       "     │\u001b[90m Float64      \u001b[0m\u001b[90m Float64  \u001b[0m\u001b[90m Float64       \u001b[0m\u001b[90m Bool     \u001b[0m\n",
       "─────┼─────────────────────────────────────────────────\n",
       "   1 │ -4.00688e-16   4.83315   -8.26996e-17      true\n",
       "   2 │ -6.79054e-16  -4.83315   -1.40153e-16      true\n",
       "   3 │ -4.62497e-16   7.77327   -1.62874e-16      true\n",
       "   4 │ -4.68073e-16  -7.77327   -1.64837e-16      true\n",
       "   5 │ -3.97521e-16  -1.96529   -2.2217e-16       true\n",
       "   6 │ -4.09987e-16   1.96529   -2.29137e-16      true\n",
       "   7 │ -2.31568e-16   3.40703   -2.43159e-16      true\n",
       "   8 │ -4.78037e-16  -3.40703   -5.01964e-16      true\n",
       "  ⋮  │      ⋮           ⋮            ⋮           ⋮\n",
       "  49 │ -8.09758      -6.4795    -9.50468         false\n",
       "  50 │ -8.09758       6.4795    -9.50468         false\n",
       "  51 │  8.09758       6.4795    -9.50468         false\n",
       "  52 │  4.85386      -9.70211  -11.0696          false\n",
       "  53 │ -4.85386      -9.70211  -11.0696          false\n",
       "  54 │ -4.85386       9.70211  -11.0696          false\n",
       "  55 │  4.85386       9.70211  -11.0696          false\n",
       "\u001b[36m                                        40 rows omitted\u001b[0m)"
      ]
     },
     "metadata": {},
     "output_type": "display_data"
    }
   ],
   "source": [
    "using Optim\n",
    "df_cheb, df_min_cheb = analyze_critical_points(f, df_cheb, TR)"
   ]
  },
  {
   "cell_type": "code",
   "execution_count": 25,
   "metadata": {},
   "outputs": [
    {
     "name": "stderr",
     "output_type": "stream",
     "text": [
      "┌ Warning: Failed to achieve finite new evaluation point, using alpha=0\n",
      "└ @ LineSearches /Users/ghscholt/.julia/packages/LineSearches/jgnxK/src/hagerzhang.jl:155\n",
      "┌ Warning: Failed to achieve finite new evaluation point, using alpha=0\n",
      "└ @ LineSearches /Users/ghscholt/.julia/packages/LineSearches/jgnxK/src/hagerzhang.jl:155\n",
      "┌ Warning: Failed to achieve finite new evaluation point, using alpha=0\n",
      "└ @ LineSearches /Users/ghscholt/.julia/packages/LineSearches/jgnxK/src/hagerzhang.jl:155\n",
      "┌ Warning: Failed to achieve finite new evaluation point, using alpha=0\n",
      "└ @ LineSearches /Users/ghscholt/.julia/packages/LineSearches/jgnxK/src/hagerzhang.jl:155\n",
      "┌ Warning: Failed to achieve finite new evaluation point, using alpha=0\n",
      "└ @ LineSearches /Users/ghscholt/.julia/packages/LineSearches/jgnxK/src/hagerzhang.jl:155\n"
     ]
    },
    {
     "data": {
      "text/plain": [
       "(\u001b[1m181×8 DataFrame\u001b[0m\n",
       "\u001b[1m Row \u001b[0m│\u001b[1m x1           \u001b[0m\u001b[1m x2           \u001b[0m\u001b[1m z             \u001b[0m\u001b[1m y1            \u001b[0m\u001b[1m y2           \u001b[0m\u001b[1m\u001b[0m ⋯\n",
       "     │\u001b[90m Float64      \u001b[0m\u001b[90m Float64      \u001b[0m\u001b[90m Float64       \u001b[0m\u001b[90m Float64       \u001b[0m\u001b[90m Float64      \u001b[0m\u001b[90m\u001b[0m ⋯\n",
       "─────┼──────────────────────────────────────────────────────────────────────────\n",
       "   1 │ -4.52714e-13   4.7857        -5.59585e-14   -4.52714e-13   4.7857       ⋯\n",
       "   2 │ -4.53445e-13  -4.7857        -5.60488e-14   -4.53445e-13  -4.7857\n",
       "   3 │ -3.39656e-13  -7.6987        -2.24076e-13   -1.64794      -6.58268\n",
       "   4 │ -3.40216e-13   7.6987        -2.24446e-13   -1.64794       6.58268\n",
       "   5 │ -6.1712e-13   -1.85276       -2.58799e-13   -1.71239      -3.41887      ⋯\n",
       "   6 │ -6.17378e-13   1.85276       -2.58907e-13   -1.71239       3.41887\n",
       "   7 │ -5.07829e-13   3.33237       -5.29833e-13   -4.97124       3.31644\n",
       "   8 │ -5.08376e-13  -3.33237       -5.30404e-13   -4.97124      -3.31644\n",
       "  ⋮  │      ⋮             ⋮              ⋮              ⋮             ⋮        ⋱\n",
       " 175 │  4.88702       9.86592      -10.8985         4.85386       9.70211      ⋯\n",
       " 176 │ -4.88702      -9.86592      -10.8985        -4.85386      -9.70211\n",
       " 177 │  4.88702      -9.86592      -10.8985         4.85386      -9.70211\n",
       " 178 │ -8.10742       9.90281      -18.5869        -8.05502       9.66459\n",
       " 179 │  8.10742       9.90281      -18.5869         8.05502       9.66459      ⋯\n",
       " 180 │ -8.10742      -9.90281      -18.5869        -8.05502      -9.66459\n",
       " 181 │  8.10742      -9.90281      -18.5869         8.05502      -9.66459\n",
       "\u001b[36m                                                  3 columns and 166 rows omitted\u001b[0m, \u001b[1m48×4 DataFrame\u001b[0m\n",
       "\u001b[1m Row \u001b[0m│\u001b[1m x1           \u001b[0m\u001b[1m x2           \u001b[0m\u001b[1m value         \u001b[0m\u001b[1m captured \u001b[0m\n",
       "     │\u001b[90m Float64      \u001b[0m\u001b[90m Float64      \u001b[0m\u001b[90m Float64       \u001b[0m\u001b[90m Bool     \u001b[0m\n",
       "─────┼─────────────────────────────────────────────────────\n",
       "   1 │ -4.52714e-13   4.7857        -5.59585e-14      true\n",
       "   2 │ -4.53445e-13  -4.7857        -5.60488e-14      true\n",
       "   3 │ -1.64794      -6.58268       -3.03885          true\n",
       "   4 │ -1.64794       6.58268       -3.03885          true\n",
       "   5 │ -1.71239      -3.41887       -1.18309          true\n",
       "   6 │ -1.71239       3.41887       -1.18309          true\n",
       "   7 │ -4.97124       3.31644       -2.34658          true\n",
       "   8 │ -4.97124      -3.31644       -2.34658          true\n",
       "  ⋮  │      ⋮             ⋮              ⋮           ⋮\n",
       "  42 │ -8.16215      -8.41045e-14   -4.71071          true\n",
       "  43 │ -1.26263      -2.53589e-13   -1.73297          true\n",
       "  44 │  1.26263      -2.53093e-13   -1.73297          true\n",
       "  45 │  1.62313       9.729         -8.09512          true\n",
       "  46 │  1.62313      -9.729         -8.09512          true\n",
       "  47 │ -1.62313       9.729         -8.09512          true\n",
       "  48 │ -1.62313      -9.729         -8.09512          true\n",
       "\u001b[36m                                            33 rows omitted\u001b[0m)"
      ]
     },
     "metadata": {},
     "output_type": "display_data"
    }
   ],
   "source": [
    "df_lege, df_min_lege = analyze_critical_points(f, df_lege, TR, tol_dist =0.5)"
   ]
  },
  {
   "cell_type": "code",
   "execution_count": 19,
   "metadata": {},
   "outputs": [],
   "source": [
    "using GLMakie\n",
    "plot_polyapprox_levelset(pol_cheb, TR, df_cheb, df_min_cheb)"
   ]
  },
  {
   "cell_type": "code",
   "execution_count": 20,
   "metadata": {},
   "outputs": [],
   "source": [
    "plot_polyapprox_rotate(pol_cheb, TR, df_cheb, df_min_cheb)"
   ]
  },
  {
   "cell_type": "code",
   "execution_count": 26,
   "metadata": {},
   "outputs": [],
   "source": [
    "plot_polyapprox_levelset(pol_lege, TR, df_lege, df_min_lege)"
   ]
  },
  {
   "cell_type": "code",
   "execution_count": 27,
   "metadata": {},
   "outputs": [],
   "source": [
    "plot_polyapprox_rotate(pol_lege, TR, df_lege, df_min_lege)"
   ]
  },
  {
   "cell_type": "code",
   "execution_count": 28,
   "metadata": {},
   "outputs": [],
   "source": [
    "# GLMakie.closeall()"
   ]
  }
 ],
 "metadata": {
  "kernelspec": {
   "display_name": "Julia 1.11.2",
   "language": "julia",
   "name": "julia-1.11"
  },
  "language_info": {
   "file_extension": ".jl",
   "mimetype": "application/julia",
   "name": "julia",
   "version": "1.11.2"
  }
 },
 "nbformat": 4,
 "nbformat_minor": 2
}
