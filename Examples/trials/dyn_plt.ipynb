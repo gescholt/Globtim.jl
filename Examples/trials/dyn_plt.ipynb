{
 "cells": [
  {
   "cell_type": "code",
   "execution_count": 6,
   "metadata": {},
   "outputs": [
    {
     "name": "stderr",
     "output_type": "stream",
     "text": [
      "\u001b[32m\u001b[1m  Activating\u001b[22m\u001b[39m project at `~/globtim`\n"
     ]
    }
   ],
   "source": [
    "using Pkg\n",
    "using Revise\n",
    "Pkg.activate(joinpath(@__DIR__, \"../../\"))\n",
    "using Globtim\n",
    "using DynamicPolynomials, DataFrames\n",
    "using StaticArrays\n",
    "using SharedArrays\n",
    "using ModelingToolkit\n",
    "using OrdinaryDiffEq\n",
    "using DataStructures\n",
    "# using GLMakie"
   ]
  },
  {
   "cell_type": "markdown",
   "metadata": {},
   "source": [
    "Construct the function to evaluate."
   ]
  },
  {
   "cell_type": "code",
   "execution_count": 5,
   "metadata": {},
   "outputs": [
    {
     "name": "stdout",
     "output_type": "stream",
     "text": [
      "case 4\n",
      "NaN\n",
      "case 4\n"
     ]
    },
    {
     "data": {
      "text/plain": [
       "NaN"
      ]
     },
     "metadata": {},
     "output_type": "display_data"
    }
   ],
   "source": [
    "const T = Float64\n",
    "time_interval = T[0.0, 1.0]\n",
    "p_true = T[0.11, 0.22, 0.33]\n",
    "ic = T[0.11, 0.15]\n",
    "num_points = 6\n",
    "include(\"model_eval.jl\")\n",
    "model, params, states, outputs = define_lotka_volterra_model()\n",
    "error_func = make_error_distance(model, outputs, p_true, num_points)\n",
    "\n",
    "p_test = SVector(0.55, 0.048, -0.73)  # Example test parameters\n",
    "error_value = error_func(p_test)\n",
    "println(error_value)\n",
    "error_func([.1, .2, .3])\n"
   ]
  }
 ],
 "metadata": {
  "kernelspec": {
   "display_name": "Julia 1.11.2",
   "language": "julia",
   "name": "julia-1.11"
  },
  "language_info": {
   "file_extension": ".jl",
   "mimetype": "application/julia",
   "name": "julia",
   "version": "1.11.2"
  }
 },
 "nbformat": 4,
 "nbformat_minor": 2
}
