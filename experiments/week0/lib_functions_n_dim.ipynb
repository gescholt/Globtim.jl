{
 "cells": [
  {
   "cell_type": "code",
   "execution_count": 23,
   "metadata": {},
   "outputs": [],
   "source": [
    "using Pkg\n",
    "# Pkg.activate(joinpath(@__DIR__, \"../../\"))\n",
    "using Globtim\n",
    "using DynamicPolynomials, DataFrames, TimerOutputs\n",
    "using ProgressLogging\n",
    "using StaticArrays"
   ]
  },
  {
   "cell_type": "markdown",
   "metadata": {},
   "source": [
    "We set the number of samples used to generate the approximant. It is annoying that the error goes up while the degree has increased."
   ]
  },
  {
   "cell_type": "code",
   "execution_count": 24,
   "metadata": {},
   "outputs": [
    {
     "data": {
      "text/plain": [
       "test_input(2, [0.0, 0.0], 40, (0.1, 0.5), 0.002, (0.0, 0.0), 1.0, 1.0, 6, Globtim.Ackley)"
      ]
     },
     "metadata": {},
     "output_type": "display_data"
    }
   ],
   "source": [
    "# Choose f from: Rastringin, alpine1, Ackley\n",
    "f = Ackley\n",
    "\n",
    "reset_timer!(Globtim._TO)\n",
    "\n",
    "# Choose n from: 2, 3, 4\n",
    "n = 2\n",
    "\n",
    "# Constants and Parameters\n",
    "const a, b = 1, 1\n",
    "const scale_factor = a / b\n",
    "rand_center = zeros(Float64, n);\n",
    "d = 10 # initial degree \n",
    "SMPL = 40 # Number of samples\n",
    "TR = test_input(f, \n",
    "                dim = n,\n",
    "                center=rand_center,\n",
    "                GN=SMPL, \n",
    "                sample_range=scale_factor \n",
    "                )"
   ]
  },
  {
   "cell_type": "markdown",
   "metadata": {},
   "source": [
    "Solve the system of partial derivatives using `Homotopy_COntinuation.jl`. "
   ]
  },
  {
   "cell_type": "code",
   "execution_count": 25,
   "metadata": {},
   "outputs": [
    {
     "name": "stdout",
     "output_type": "stream",
     "text": [
      "current L2-norm: 0.1700717268466939\n"
     ]
    }
   ],
   "source": [
    "pol_cheb = Constructor(TR, d, basis=:chebyshev, precision=RationalPrecision)\n",
    "@polyvar(x[1:n]); # Define polynomial ring "
   ]
  },
  {
   "cell_type": "code",
   "execution_count": 26,
   "metadata": {},
   "outputs": [
    {
     "data": {
      "text/plain": [
       "17-element Vector{Vector{Float64}}:\n",
       " [0.9640968143739062, 0.9640968143739048]\n",
       " [6.330804320179865e-18, 0.9629131980007132]\n",
       " [-0.9640968143739085, 0.9640968143739027]\n",
       " [-0.6981226790435401, 0.6981226790435365]\n",
       " [0.9629131980007138, 1.5007229786735268e-16]\n",
       " [2.0689020949081755e-17, 2.7491256920457325e-16]\n",
       " [-0.962913198000715, 2.1092288166840944e-16]\n",
       " [-0.6528936546007025, 3.207128761745569e-16]\n",
       " [0.6528936546007024, 3.3889800168938247e-16]\n",
       " [0.6981226790435193, -0.6981226790435237]\n",
       " [0.9640968143739043, -0.964096814373908]\n",
       " [3.209677859062992e-17, -0.9629131980007174]\n",
       " [-0.9640968143739034, -0.9640968143739083]\n",
       " [3.422725992320801e-17, -0.6528936546006987]\n",
       " [-0.6981226790435179, -0.6981226790435316]\n",
       " [2.7162092840535873e-17, 0.6528936546007063]\n",
       " [0.6981226790435402, 0.6981226790435283]"
      ]
     },
     "metadata": {},
     "output_type": "display_data"
    }
   ],
   "source": [
    "@polyvar(x[1:n]) # Define polynomial ring \n",
    "real_pts_cheb = solve_polynomial_system(\n",
    "    x, n, d, pol_cheb.coeffs;\n",
    "    basis=pol_cheb.basis,\n",
    "    precision=pol_cheb.precision,\n",
    "    normalized=pol_cheb.normalized,\n",
    ")"
   ]
  },
  {
   "cell_type": "code",
   "execution_count": 27,
   "metadata": {},
   "outputs": [
    {
     "data": {
      "text/html": [
       "<div><div style = \"float: left;\"><span>17×3 DataFrame</span></div><div style = \"clear: both;\"></div></div><div class = \"data-frame\" style = \"overflow-x: scroll;\"><table class = \"data-frame\" style = \"margin-bottom: 6px;\"><thead><tr class = \"header\"><th class = \"rowNumber\" style = \"font-weight: bold; text-align: right;\">Row</th><th style = \"text-align: left;\">x1</th><th style = \"text-align: left;\">x2</th><th style = \"text-align: left;\">z</th></tr><tr class = \"subheader headerLastRow\"><th class = \"rowNumber\" style = \"font-weight: bold; text-align: right;\"></th><th title = \"Float64\" style = \"text-align: left;\">Float64</th><th title = \"Float64\" style = \"text-align: left;\">Float64</th><th title = \"Float64\" style = \"text-align: left;\">Float64</th></tr></thead><tbody><tr><td class = \"rowNumber\" style = \"font-weight: bold; text-align: right;\">1</td><td style = \"text-align: right;\">0.964097</td><td style = \"text-align: right;\">0.964097</td><td style = \"text-align: right;\">3.57539</td></tr><tr><td class = \"rowNumber\" style = \"font-weight: bold; text-align: right;\">2</td><td style = \"text-align: right;\">6.3308e-18</td><td style = \"text-align: right;\">0.962913</td><td style = \"text-align: right;\">2.58271</td></tr><tr><td class = \"rowNumber\" style = \"font-weight: bold; text-align: right;\">3</td><td style = \"text-align: right;\">-0.964097</td><td style = \"text-align: right;\">0.964097</td><td style = \"text-align: right;\">3.57539</td></tr><tr><td class = \"rowNumber\" style = \"font-weight: bold; text-align: right;\">4</td><td style = \"text-align: right;\">-0.698123</td><td style = \"text-align: right;\">0.698123</td><td style = \"text-align: right;\">4.59859</td></tr><tr><td class = \"rowNumber\" style = \"font-weight: bold; text-align: right;\">5</td><td style = \"text-align: right;\">0.962913</td><td style = \"text-align: right;\">1.50072e-16</td><td style = \"text-align: right;\">2.58271</td></tr><tr><td class = \"rowNumber\" style = \"font-weight: bold; text-align: right;\">6</td><td style = \"text-align: right;\">2.0689e-17</td><td style = \"text-align: right;\">2.74913e-16</td><td style = \"text-align: right;\">4.44089e-16</td></tr><tr><td class = \"rowNumber\" style = \"font-weight: bold; text-align: right;\">7</td><td style = \"text-align: right;\">-0.962913</td><td style = \"text-align: right;\">2.10923e-16</td><td style = \"text-align: right;\">2.58271</td></tr><tr><td class = \"rowNumber\" style = \"font-weight: bold; text-align: right;\">8</td><td style = \"text-align: right;\">-0.652894</td><td style = \"text-align: right;\">3.20713e-16</td><td style = \"text-align: right;\">3.24424</td></tr><tr><td class = \"rowNumber\" style = \"font-weight: bold; text-align: right;\">9</td><td style = \"text-align: right;\">0.652894</td><td style = \"text-align: right;\">3.38898e-16</td><td style = \"text-align: right;\">3.24424</td></tr><tr><td class = \"rowNumber\" style = \"font-weight: bold; text-align: right;\">10</td><td style = \"text-align: right;\">0.698123</td><td style = \"text-align: right;\">-0.698123</td><td style = \"text-align: right;\">4.59859</td></tr><tr><td class = \"rowNumber\" style = \"font-weight: bold; text-align: right;\">11</td><td style = \"text-align: right;\">0.964097</td><td style = \"text-align: right;\">-0.964097</td><td style = \"text-align: right;\">3.57539</td></tr><tr><td class = \"rowNumber\" style = \"font-weight: bold; text-align: right;\">12</td><td style = \"text-align: right;\">3.20968e-17</td><td style = \"text-align: right;\">-0.962913</td><td style = \"text-align: right;\">2.58271</td></tr><tr><td class = \"rowNumber\" style = \"font-weight: bold; text-align: right;\">13</td><td style = \"text-align: right;\">-0.964097</td><td style = \"text-align: right;\">-0.964097</td><td style = \"text-align: right;\">3.57539</td></tr><tr><td class = \"rowNumber\" style = \"font-weight: bold; text-align: right;\">14</td><td style = \"text-align: right;\">3.42273e-17</td><td style = \"text-align: right;\">-0.652894</td><td style = \"text-align: right;\">3.24424</td></tr><tr><td class = \"rowNumber\" style = \"font-weight: bold; text-align: right;\">15</td><td style = \"text-align: right;\">-0.698123</td><td style = \"text-align: right;\">-0.698123</td><td style = \"text-align: right;\">4.59859</td></tr><tr><td class = \"rowNumber\" style = \"font-weight: bold; text-align: right;\">16</td><td style = \"text-align: right;\">2.71621e-17</td><td style = \"text-align: right;\">0.652894</td><td style = \"text-align: right;\">3.24424</td></tr><tr><td class = \"rowNumber\" style = \"font-weight: bold; text-align: right;\">17</td><td style = \"text-align: right;\">0.698123</td><td style = \"text-align: right;\">0.698123</td><td style = \"text-align: right;\">4.59859</td></tr></tbody></table></div>"
      ],
      "text/latex": [
       "\\begin{tabular}{r|ccc}\n",
       "\t& x1 & x2 & z\\\\\n",
       "\t\\hline\n",
       "\t& Float64 & Float64 & Float64\\\\\n",
       "\t\\hline\n",
       "\t1 & 0.964097 & 0.964097 & 3.57539 \\\\\n",
       "\t2 & 6.3308e-18 & 0.962913 & 2.58271 \\\\\n",
       "\t3 & -0.964097 & 0.964097 & 3.57539 \\\\\n",
       "\t4 & -0.698123 & 0.698123 & 4.59859 \\\\\n",
       "\t5 & 0.962913 & 1.50072e-16 & 2.58271 \\\\\n",
       "\t6 & 2.0689e-17 & 2.74913e-16 & 4.44089e-16 \\\\\n",
       "\t7 & -0.962913 & 2.10923e-16 & 2.58271 \\\\\n",
       "\t8 & -0.652894 & 3.20713e-16 & 3.24424 \\\\\n",
       "\t9 & 0.652894 & 3.38898e-16 & 3.24424 \\\\\n",
       "\t10 & 0.698123 & -0.698123 & 4.59859 \\\\\n",
       "\t11 & 0.964097 & -0.964097 & 3.57539 \\\\\n",
       "\t12 & 3.20968e-17 & -0.962913 & 2.58271 \\\\\n",
       "\t13 & -0.964097 & -0.964097 & 3.57539 \\\\\n",
       "\t14 & 3.42273e-17 & -0.652894 & 3.24424 \\\\\n",
       "\t15 & -0.698123 & -0.698123 & 4.59859 \\\\\n",
       "\t16 & 2.71621e-17 & 0.652894 & 3.24424 \\\\\n",
       "\t17 & 0.698123 & 0.698123 & 4.59859 \\\\\n",
       "\\end{tabular}\n"
      ],
      "text/plain": [
       "\u001b[1m17×3 DataFrame\u001b[0m\n",
       "\u001b[1m Row \u001b[0m│\u001b[1m x1           \u001b[0m\u001b[1m x2           \u001b[0m\u001b[1m z           \u001b[0m\n",
       "     │\u001b[90m Float64      \u001b[0m\u001b[90m Float64      \u001b[0m\u001b[90m Float64     \u001b[0m\n",
       "─────┼─────────────────────────────────────────\n",
       "   1 │  0.964097      0.964097     3.57539\n",
       "   2 │  6.3308e-18    0.962913     2.58271\n",
       "   3 │ -0.964097      0.964097     3.57539\n",
       "   4 │ -0.698123      0.698123     4.59859\n",
       "   5 │  0.962913      1.50072e-16  2.58271\n",
       "   6 │  2.0689e-17    2.74913e-16  4.44089e-16\n",
       "   7 │ -0.962913      2.10923e-16  2.58271\n",
       "   8 │ -0.652894      3.20713e-16  3.24424\n",
       "   9 │  0.652894      3.38898e-16  3.24424\n",
       "  10 │  0.698123     -0.698123     4.59859\n",
       "  11 │  0.964097     -0.964097     3.57539\n",
       "  12 │  3.20968e-17  -0.962913     2.58271\n",
       "  13 │ -0.964097     -0.964097     3.57539\n",
       "  14 │  3.42273e-17  -0.652894     3.24424\n",
       "  15 │ -0.698123     -0.698123     4.59859\n",
       "  16 │  2.71621e-17   0.652894     3.24424\n",
       "  17 │  0.698123      0.698123     4.59859"
      ]
     },
     "metadata": {},
     "output_type": "display_data"
    }
   ],
   "source": [
    "df_cheb = process_crit_pts(real_pts_cheb, f, TR)"
   ]
  },
  {
   "cell_type": "code",
   "execution_count": 28,
   "metadata": {},
   "outputs": [
    {
     "name": "stdout",
     "output_type": "stream",
     "text": [
      "Processing point 1 of 17\n",
      "Optimization has converged within bounds: \u001b[32m✓\u001b[0m\n",
      "Processing point 2 of 17\n",
      "Optimization has converged within bounds: \u001b[32m✓\u001b[0m\n",
      "Processing point 3 of 17\n",
      "Optimization has converged within bounds: \u001b[32m✓\u001b[0m\n",
      "Processing point 4 of 17\n",
      "Optimization has converged within bounds: \u001b[32m✓\u001b[0m\n",
      "Processing point 5 of 17\n",
      "Optimization has converged within bounds: \u001b[32m✓\u001b[0m\n",
      "Processing point 6 of 17\n",
      "Optimization has converged within bounds: \u001b[32m✓\u001b[0m\n",
      "Processing point 7 of 17\n",
      "Optimization has converged within bounds: \u001b[32m✓\u001b[0m\n",
      "Processing point 8 of 17\n",
      "Optimization has converged within bounds: \u001b[32m✓\u001b[0m\n",
      "Processing point 9 of 17\n",
      "Optimization has converged within bounds: \u001b[32m✓\u001b[0m\n",
      "Processing point 10 of 17\n",
      "Optimization has converged within bounds: \u001b[32m✓\u001b[0m\n",
      "Processing point 11 of 17\n",
      "Optimization has converged within bounds: \u001b[32m✓\u001b[0m\n",
      "Processing point 12 of 17\n",
      "Optimization has converged within bounds: \u001b[32m✓\u001b[0m\n",
      "Processing point 13 of 17\n",
      "Optimization has converged within bounds: \u001b[32m✓\u001b[0m\n",
      "Processing point 14 of 17\n",
      "Optimization has converged within bounds: \u001b[32m✓\u001b[0m\n",
      "Processing point 15 of 17\n",
      "Optimization has converged within bounds: \u001b[32m✓\u001b[0m\n",
      "Processing point 16 of 17\n",
      "Optimization has converged within bounds: \u001b[32m✓\u001b[0m\n",
      "Processing point 17 of 17\n",
      "Optimization has converged within bounds: \u001b[32m✓\u001b[0m\n"
     ]
    }
   ],
   "source": [
    "using Optim\n",
    "df_cheb, df_min_cheb = analyze_critical_points(f, df_cheb, TR, tol_dist=0.5);"
   ]
  },
  {
   "cell_type": "code",
   "execution_count": 29,
   "metadata": {},
   "outputs": [
    {
     "data": {
      "text/html": [
       "<div><div style = \"float: left;\"><span>17×8 DataFrame</span></div><div style = \"clear: both;\"></div></div><div class = \"data-frame\" style = \"overflow-x: scroll;\"><table class = \"data-frame\" style = \"margin-bottom: 6px;\"><thead><tr class = \"header\"><th class = \"rowNumber\" style = \"font-weight: bold; text-align: right;\">Row</th><th style = \"text-align: left;\">x1</th><th style = \"text-align: left;\">x2</th><th style = \"text-align: left;\">z</th><th style = \"text-align: left;\">y1</th><th style = \"text-align: left;\">y2</th><th style = \"text-align: left;\">close</th><th style = \"text-align: left;\">steps</th><th style = \"text-align: left;\">converged</th></tr><tr class = \"subheader headerLastRow\"><th class = \"rowNumber\" style = \"font-weight: bold; text-align: right;\"></th><th title = \"Float64\" style = \"text-align: left;\">Float64</th><th title = \"Float64\" style = \"text-align: left;\">Float64</th><th title = \"Float64\" style = \"text-align: left;\">Float64</th><th title = \"Float64\" style = \"text-align: left;\">Float64</th><th title = \"Float64\" style = \"text-align: left;\">Float64</th><th title = \"Bool\" style = \"text-align: left;\">Bool</th><th title = \"Float64\" style = \"text-align: left;\">Float64</th><th title = \"Bool\" style = \"text-align: left;\">Bool</th></tr></thead><tbody><tr><td class = \"rowNumber\" style = \"font-weight: bold; text-align: right;\">1</td><td style = \"text-align: right;\">0.964097</td><td style = \"text-align: right;\">0.964097</td><td style = \"text-align: right;\">3.57539</td><td style = \"text-align: right;\">0.968478</td><td style = \"text-align: right;\">0.968478</td><td style = \"text-align: right;\">true</td><td style = \"text-align: right;\">3.0</td><td style = \"text-align: right;\">true</td></tr><tr><td class = \"rowNumber\" style = \"font-weight: bold; text-align: right;\">2</td><td style = \"text-align: right;\">6.3308e-18</td><td style = \"text-align: right;\">0.962913</td><td style = \"text-align: right;\">2.58271</td><td style = \"text-align: right;\">6.3308e-18</td><td style = \"text-align: right;\">0.952167</td><td style = \"text-align: right;\">true</td><td style = \"text-align: right;\">3.0</td><td style = \"text-align: right;\">true</td></tr><tr><td class = \"rowNumber\" style = \"font-weight: bold; text-align: right;\">3</td><td style = \"text-align: right;\">-0.964097</td><td style = \"text-align: right;\">0.964097</td><td style = \"text-align: right;\">3.57539</td><td style = \"text-align: right;\">-0.968478</td><td style = \"text-align: right;\">0.968478</td><td style = \"text-align: right;\">true</td><td style = \"text-align: right;\">3.0</td><td style = \"text-align: right;\">true</td></tr><tr><td class = \"rowNumber\" style = \"font-weight: bold; text-align: right;\">4</td><td style = \"text-align: right;\">-0.698123</td><td style = \"text-align: right;\">0.698123</td><td style = \"text-align: right;\">4.59859</td><td style = \"text-align: right;\">-0.968478</td><td style = \"text-align: right;\">0.968478</td><td style = \"text-align: right;\">true</td><td style = \"text-align: right;\">4.0</td><td style = \"text-align: right;\">true</td></tr><tr><td class = \"rowNumber\" style = \"font-weight: bold; text-align: right;\">5</td><td style = \"text-align: right;\">0.962913</td><td style = \"text-align: right;\">1.50072e-16</td><td style = \"text-align: right;\">2.58271</td><td style = \"text-align: right;\">0.952167</td><td style = \"text-align: right;\">1.50072e-16</td><td style = \"text-align: right;\">true</td><td style = \"text-align: right;\">3.0</td><td style = \"text-align: right;\">true</td></tr><tr><td class = \"rowNumber\" style = \"font-weight: bold; text-align: right;\">6</td><td style = \"text-align: right;\">2.0689e-17</td><td style = \"text-align: right;\">2.74913e-16</td><td style = \"text-align: right;\">4.44089e-16</td><td style = \"text-align: right;\">2.0689e-17</td><td style = \"text-align: right;\">2.74913e-16</td><td style = \"text-align: right;\">true</td><td style = \"text-align: right;\">0.0</td><td style = \"text-align: right;\">true</td></tr><tr><td class = \"rowNumber\" style = \"font-weight: bold; text-align: right;\">7</td><td style = \"text-align: right;\">-0.962913</td><td style = \"text-align: right;\">2.10923e-16</td><td style = \"text-align: right;\">2.58271</td><td style = \"text-align: right;\">-0.952167</td><td style = \"text-align: right;\">2.10923e-16</td><td style = \"text-align: right;\">true</td><td style = \"text-align: right;\">3.0</td><td style = \"text-align: right;\">true</td></tr><tr><td class = \"rowNumber\" style = \"font-weight: bold; text-align: right;\">8</td><td style = \"text-align: right;\">-0.652894</td><td style = \"text-align: right;\">3.20713e-16</td><td style = \"text-align: right;\">3.24424</td><td style = \"text-align: right;\">-0.952167</td><td style = \"text-align: right;\">3.20713e-16</td><td style = \"text-align: right;\">true</td><td style = \"text-align: right;\">5.0</td><td style = \"text-align: right;\">true</td></tr><tr><td class = \"rowNumber\" style = \"font-weight: bold; text-align: right;\">9</td><td style = \"text-align: right;\">0.652894</td><td style = \"text-align: right;\">3.38898e-16</td><td style = \"text-align: right;\">3.24424</td><td style = \"text-align: right;\">0.952167</td><td style = \"text-align: right;\">3.38898e-16</td><td style = \"text-align: right;\">true</td><td style = \"text-align: right;\">5.0</td><td style = \"text-align: right;\">true</td></tr><tr><td class = \"rowNumber\" style = \"font-weight: bold; text-align: right;\">10</td><td style = \"text-align: right;\">0.698123</td><td style = \"text-align: right;\">-0.698123</td><td style = \"text-align: right;\">4.59859</td><td style = \"text-align: right;\">0.968478</td><td style = \"text-align: right;\">-0.968478</td><td style = \"text-align: right;\">true</td><td style = \"text-align: right;\">4.0</td><td style = \"text-align: right;\">true</td></tr><tr><td class = \"rowNumber\" style = \"font-weight: bold; text-align: right;\">11</td><td style = \"text-align: right;\">0.964097</td><td style = \"text-align: right;\">-0.964097</td><td style = \"text-align: right;\">3.57539</td><td style = \"text-align: right;\">0.968478</td><td style = \"text-align: right;\">-0.968478</td><td style = \"text-align: right;\">true</td><td style = \"text-align: right;\">3.0</td><td style = \"text-align: right;\">true</td></tr><tr><td class = \"rowNumber\" style = \"font-weight: bold; text-align: right;\">12</td><td style = \"text-align: right;\">3.20968e-17</td><td style = \"text-align: right;\">-0.962913</td><td style = \"text-align: right;\">2.58271</td><td style = \"text-align: right;\">3.20968e-17</td><td style = \"text-align: right;\">-0.952167</td><td style = \"text-align: right;\">true</td><td style = \"text-align: right;\">3.0</td><td style = \"text-align: right;\">true</td></tr><tr><td class = \"rowNumber\" style = \"font-weight: bold; text-align: right;\">13</td><td style = \"text-align: right;\">-0.964097</td><td style = \"text-align: right;\">-0.964097</td><td style = \"text-align: right;\">3.57539</td><td style = \"text-align: right;\">-0.968478</td><td style = \"text-align: right;\">-0.968478</td><td style = \"text-align: right;\">true</td><td style = \"text-align: right;\">4.0</td><td style = \"text-align: right;\">true</td></tr><tr><td class = \"rowNumber\" style = \"font-weight: bold; text-align: right;\">14</td><td style = \"text-align: right;\">3.42273e-17</td><td style = \"text-align: right;\">-0.652894</td><td style = \"text-align: right;\">3.24424</td><td style = \"text-align: right;\">3.42273e-17</td><td style = \"text-align: right;\">-0.952167</td><td style = \"text-align: right;\">true</td><td style = \"text-align: right;\">5.0</td><td style = \"text-align: right;\">true</td></tr><tr><td class = \"rowNumber\" style = \"font-weight: bold; text-align: right;\">15</td><td style = \"text-align: right;\">-0.698123</td><td style = \"text-align: right;\">-0.698123</td><td style = \"text-align: right;\">4.59859</td><td style = \"text-align: right;\">-0.968478</td><td style = \"text-align: right;\">-0.968478</td><td style = \"text-align: right;\">true</td><td style = \"text-align: right;\">4.0</td><td style = \"text-align: right;\">true</td></tr><tr><td class = \"rowNumber\" style = \"font-weight: bold; text-align: right;\">16</td><td style = \"text-align: right;\">2.71621e-17</td><td style = \"text-align: right;\">0.652894</td><td style = \"text-align: right;\">3.24424</td><td style = \"text-align: right;\">2.71621e-17</td><td style = \"text-align: right;\">0.952167</td><td style = \"text-align: right;\">true</td><td style = \"text-align: right;\">5.0</td><td style = \"text-align: right;\">true</td></tr><tr><td class = \"rowNumber\" style = \"font-weight: bold; text-align: right;\">17</td><td style = \"text-align: right;\">0.698123</td><td style = \"text-align: right;\">0.698123</td><td style = \"text-align: right;\">4.59859</td><td style = \"text-align: right;\">0.968478</td><td style = \"text-align: right;\">0.968478</td><td style = \"text-align: right;\">true</td><td style = \"text-align: right;\">4.0</td><td style = \"text-align: right;\">true</td></tr></tbody></table></div>"
      ],
      "text/latex": [
       "\\begin{tabular}{r|cccccccc}\n",
       "\t& x1 & x2 & z & y1 & y2 & close & steps & \\\\\n",
       "\t\\hline\n",
       "\t& Float64 & Float64 & Float64 & Float64 & Float64 & Bool & Float64 & \\\\\n",
       "\t\\hline\n",
       "\t1 & 0.964097 & 0.964097 & 3.57539 & 0.968478 & 0.968478 & 1 & 3.0 & $\\dots$ \\\\\n",
       "\t2 & 6.3308e-18 & 0.962913 & 2.58271 & 6.3308e-18 & 0.952167 & 1 & 3.0 & $\\dots$ \\\\\n",
       "\t3 & -0.964097 & 0.964097 & 3.57539 & -0.968478 & 0.968478 & 1 & 3.0 & $\\dots$ \\\\\n",
       "\t4 & -0.698123 & 0.698123 & 4.59859 & -0.968478 & 0.968478 & 1 & 4.0 & $\\dots$ \\\\\n",
       "\t5 & 0.962913 & 1.50072e-16 & 2.58271 & 0.952167 & 1.50072e-16 & 1 & 3.0 & $\\dots$ \\\\\n",
       "\t6 & 2.0689e-17 & 2.74913e-16 & 4.44089e-16 & 2.0689e-17 & 2.74913e-16 & 1 & 0.0 & $\\dots$ \\\\\n",
       "\t7 & -0.962913 & 2.10923e-16 & 2.58271 & -0.952167 & 2.10923e-16 & 1 & 3.0 & $\\dots$ \\\\\n",
       "\t8 & -0.652894 & 3.20713e-16 & 3.24424 & -0.952167 & 3.20713e-16 & 1 & 5.0 & $\\dots$ \\\\\n",
       "\t9 & 0.652894 & 3.38898e-16 & 3.24424 & 0.952167 & 3.38898e-16 & 1 & 5.0 & $\\dots$ \\\\\n",
       "\t10 & 0.698123 & -0.698123 & 4.59859 & 0.968478 & -0.968478 & 1 & 4.0 & $\\dots$ \\\\\n",
       "\t11 & 0.964097 & -0.964097 & 3.57539 & 0.968478 & -0.968478 & 1 & 3.0 & $\\dots$ \\\\\n",
       "\t12 & 3.20968e-17 & -0.962913 & 2.58271 & 3.20968e-17 & -0.952167 & 1 & 3.0 & $\\dots$ \\\\\n",
       "\t13 & -0.964097 & -0.964097 & 3.57539 & -0.968478 & -0.968478 & 1 & 4.0 & $\\dots$ \\\\\n",
       "\t14 & 3.42273e-17 & -0.652894 & 3.24424 & 3.42273e-17 & -0.952167 & 1 & 5.0 & $\\dots$ \\\\\n",
       "\t15 & -0.698123 & -0.698123 & 4.59859 & -0.968478 & -0.968478 & 1 & 4.0 & $\\dots$ \\\\\n",
       "\t16 & 2.71621e-17 & 0.652894 & 3.24424 & 2.71621e-17 & 0.952167 & 1 & 5.0 & $\\dots$ \\\\\n",
       "\t17 & 0.698123 & 0.698123 & 4.59859 & 0.968478 & 0.968478 & 1 & 4.0 & $\\dots$ \\\\\n",
       "\\end{tabular}\n"
      ],
      "text/plain": [
       "\u001b[1m17×8 DataFrame\u001b[0m\n",
       "\u001b[1m Row \u001b[0m│\u001b[1m x1           \u001b[0m\u001b[1m x2           \u001b[0m\u001b[1m z           \u001b[0m\u001b[1m y1           \u001b[0m\u001b[1m y2           \u001b[0m\u001b[1m cl\u001b[0m ⋯\n",
       "     │\u001b[90m Float64      \u001b[0m\u001b[90m Float64      \u001b[0m\u001b[90m Float64     \u001b[0m\u001b[90m Float64      \u001b[0m\u001b[90m Float64      \u001b[0m\u001b[90m Bo\u001b[0m ⋯\n",
       "─────┼──────────────────────────────────────────────────────────────────────────\n",
       "   1 │  0.964097      0.964097     3.57539       0.968478      0.968478      t ⋯\n",
       "   2 │  6.3308e-18    0.962913     2.58271       6.3308e-18    0.952167      t\n",
       "   3 │ -0.964097      0.964097     3.57539      -0.968478      0.968478      t\n",
       "   4 │ -0.698123      0.698123     4.59859      -0.968478      0.968478      t\n",
       "   5 │  0.962913      1.50072e-16  2.58271       0.952167      1.50072e-16   t ⋯\n",
       "   6 │  2.0689e-17    2.74913e-16  4.44089e-16   2.0689e-17    2.74913e-16   t\n",
       "   7 │ -0.962913      2.10923e-16  2.58271      -0.952167      2.10923e-16   t\n",
       "   8 │ -0.652894      3.20713e-16  3.24424      -0.952167      3.20713e-16   t\n",
       "  ⋮  │      ⋮             ⋮             ⋮            ⋮             ⋮           ⋱\n",
       "  11 │  0.964097     -0.964097     3.57539       0.968478     -0.968478      t ⋯\n",
       "  12 │  3.20968e-17  -0.962913     2.58271       3.20968e-17  -0.952167      t\n",
       "  13 │ -0.964097     -0.964097     3.57539      -0.968478     -0.968478      t\n",
       "  14 │  3.42273e-17  -0.652894     3.24424       3.42273e-17  -0.952167      t\n",
       "  15 │ -0.698123     -0.698123     4.59859      -0.968478     -0.968478      t ⋯\n",
       "  16 │  2.71621e-17   0.652894     3.24424       2.71621e-17   0.952167      t\n",
       "  17 │  0.698123      0.698123     4.59859       0.968478      0.968478      t\n",
       "\u001b[36m                                                    3 columns and 2 rows omitted\u001b[0m"
      ]
     },
     "metadata": {},
     "output_type": "display_data"
    }
   ],
   "source": [
    "df_cheb"
   ]
  },
  {
   "cell_type": "code",
   "execution_count": 30,
   "metadata": {},
   "outputs": [
    {
     "data": {
      "text/plain": [
       "\u001b[0m\u001b[1m────────────────────────────────────────────────────────────────────────────────\u001b[22m\n",
       "\u001b[0m\u001b[1m                              \u001b[22m         Time                    Allocations      \n",
       "                              ───────────────────────   ────────────────────────\n",
       "      Tot / % measured:            5.83s /   2.2%           59.1MiB /  87.2%    \n",
       "\n",
       "Section               ncalls     time    %tot     avg     alloc    %tot      avg\n",
       "────────────────────────────────────────────────────────────────────────────────\n",
       "Constructor                1   86.2ms   66.7%  86.2ms   46.6MiB   90.4%  46.6MiB\n",
       "  MainGenerate             1   86.0ms   66.5%  86.0ms   46.6MiB   90.4%  46.6MiB\n",
       "    lambda_vanderm...      1   4.08ms    3.2%  4.08ms    918KiB    1.7%   918KiB\n",
       "    generate_grid_...      1   3.62ms    2.8%  3.62ms    868KiB    1.6%   868KiB\n",
       "    linear_solve_v...      1    139μs    0.1%   139μs   66.7KiB    0.1%  66.7KiB\n",
       "    evaluation             1   76.0μs    0.1%  76.0μs   13.7KiB    0.0%  13.7KiB\n",
       "solve_polynomial_s...      1   40.4ms   31.3%  40.4ms   4.69MiB    9.1%  4.69MiB\n",
       "analyze_critical_p...      1   2.67ms    2.1%  2.67ms    263KiB    0.5%   263KiB\n",
       "test_input                 1    713ns    0.0%   713ns      176B    0.0%     176B\n",
       "\u001b[0m\u001b[1m────────────────────────────────────────────────────────────────────────────────\u001b[22m"
      ]
     },
     "metadata": {},
     "output_type": "display_data"
    }
   ],
   "source": [
    "Globtim._TO"
   ]
  },
  {
   "cell_type": "markdown",
   "metadata": {},
   "source": [
    "## Timings for different $n$"
   ]
  },
  {
   "cell_type": "code",
   "execution_count": 32,
   "metadata": {},
   "outputs": [
    {
     "name": "stdout",
     "output_type": "stream",
     "text": [
      "current L2-norm: 0.1700717268466939\n",
      "Processing point 1 of 17\n",
      "Optimization has converged within bounds: \u001b[32m✓\u001b[0m\n",
      "Processing point 2 of 17\n",
      "Optimization has converged within bounds: \u001b[32m✓\u001b[0m\n",
      "Processing point 3 of 17\n",
      "Optimization has converged within bounds: \u001b[32m✓\u001b[0m\n",
      "Processing point 4 of 17\n",
      "Optimization has converged within bounds: \u001b[32m✓\u001b[0m\n",
      "Processing point 5 of 17\n",
      "Optimization has converged within bounds: \u001b[32m✓\u001b[0m\n",
      "Processing point 6 of 17\n",
      "Optimization has converged within bounds: \u001b[32m✓\u001b[0m\n",
      "Processing point 7 of 17\n",
      "Optimization has converged within bounds: \u001b[32m✓\u001b[0m\n",
      "Processing point 8 of 17\n",
      "Optimization has converged within bounds: \u001b[32m✓\u001b[0m\n",
      "Processing point 9 of 17\n",
      "Optimization has converged within bounds: \u001b[32m✓\u001b[0m\n",
      "Processing point 10 of 17\n",
      "Optimization has converged within bounds: \u001b[32m✓\u001b[0m\n",
      "Processing point 11 of 17\n",
      "Optimization has converged within bounds: \u001b[32m✓\u001b[0m\n",
      "Processing point 12 of 17\n",
      "Optimization has converged within bounds: \u001b[32m✓\u001b[0m\n",
      "Processing point 13 of 17\n",
      "Optimization has converged within bounds: \u001b[32m✓\u001b[0m\n",
      "Processing point 14 of 17\n",
      "Optimization has converged within bounds: \u001b[32m✓\u001b[0m\n",
      "Processing point 15 of 17\n",
      "Optimization has converged within bounds: \u001b[32m✓\u001b[0m\n",
      "Processing point 16 of 17\n",
      "Optimization has converged within bounds: \u001b[32m✓\u001b[0m\n",
      "Processing point 17 of 17\n",
      "Optimization has converged within bounds: \u001b[32m✓\u001b[0m\n",
      "n = 2\n",
      "\u001b[0m\u001b[1m─────────────────────────────────────────────────────────────────────────────────────────\u001b[22m\n",
      "\u001b[0m\u001b[1m                                       \u001b[22m         Time                    Allocations      \n",
      "                                       ───────────────────────   ────────────────────────\n",
      "           Tot / % measured:               95.2ms /  99.7%           51.5MiB / 100.0%    \n",
      "\n",
      "Section                        ncalls     time    %tot     avg     alloc    %tot      avg\n",
      "─────────────────────────────────────────────────────────────────────────────────────────\n",
      "Constructor                         1   50.7ms   53.4%  50.7ms   46.6MiB   90.4%  46.6MiB\n",
      "  MainGenerate                      1   50.5ms   53.2%  50.5ms   46.6MiB   90.4%  46.6MiB\n",
      "    lambda_vandermonde              1   3.98ms    4.2%  3.98ms    918KiB    1.7%   918KiB\n",
      "    generate_grid_small_n           1   3.16ms    3.3%  3.16ms    868KiB    1.6%   868KiB\n",
      "    linear_solve_vandermonde        1    166μs    0.2%   166μs   66.7KiB    0.1%  66.7KiB\n",
      "    evaluation                      1   77.8μs    0.1%  77.8μs   13.7KiB    0.0%  13.7KiB\n",
      "solve_polynomial_system             1   41.2ms   43.4%  41.2ms   4.69MiB    9.1%  4.69MiB\n",
      "analyze_critical_points             1   3.06ms    3.2%  3.06ms    262KiB    0.5%   262KiB\n",
      "test_input                          1    442ns    0.0%   442ns      176B    0.0%     176B\n",
      "\u001b[0m\u001b[1m─────────────────────────────────────────────────────────────────────────────────────────\u001b[22m\n"
     ]
    },
    {
     "ename": "InterruptException",
     "evalue": "InterruptException:",
     "output_type": "error",
     "traceback": [
      "InterruptException:\n",
      "\n",
      "Stacktrace:\n",
      "  [1] -(A::Vector{Float64}, B::Vector{Float64})\n",
      "    @ Base ./arraymath.jl:6\n",
      "  [2] (::Globtim.var\"#41#43\"{Matrix{Float64}, SciMLBase.LinearSolution{Float64, 1, Vector{Float64}, Nothing, LinearSolve.DefaultLinearSolver, LinearSolve.LinearCache{Matrix{Float64}, Vector{Float64}, Vector{Float64}, SciMLBase.NullParameters, LinearSolve.DefaultLinearSolver, LinearSolve.DefaultLinearSolverInit{LinearAlgebra.LU{Float64, Matrix{Float64}, Vector{Int64}}, LinearAlgebra.QRCompactWY{Float64, Matrix{Float64}, Matrix{Float64}}, Nothing, Nothing, Nothing, Nothing, Nothing, Nothing, LinearAlgebra.LU{Float64, Matrix{Float64}, Vector{Int64}}, Tuple{LinearAlgebra.LU{Float64, Matrix{Float64}, Vector{Int64}}, Vector{Int64}}, Nothing, Nothing, Nothing, LinearAlgebra.SVD{Float64, Float64, Matrix{Float64}, Vector{Float64}}, LinearAlgebra.Cholesky{Float64, Matrix{Float64}}, LinearAlgebra.Cholesky{Float64, Matrix{Float64}}, Tuple{LinearAlgebra.LU{Float64, Matrix{Float64}, Vector{Int32}}, Base.RefValue{Int32}}, Tuple{LinearAlgebra.LU{Float64, Matrix{Float64}, Vector{Int64}}, Base.RefValue{Int64}}, LinearAlgebra.QRPivoted{Float64, Matrix{Float64}, Vector{Float64}, Vector{Int64}}, Nothing, Nothing}, SciMLOperators.IdentityOperator, SciMLOperators.IdentityOperator, Float64, Bool, LinearSolve.LinearSolveAdjoint{Missing}}, Nothing}, Vector{Float64}, Array{SVector{3, Float64}, 3}})(x::SVector{3, Float64})\n",
      "    @ Globtim ~/projects/globtim/src/scaling_utils.jl:46\n",
      "  [3] #82\n",
      "    @ ./none:0 [inlined]\n",
      "  [4] MappingRF\n",
      "    @ ./reduce.jl:100 [inlined]\n",
      "  [5] _foldl_impl(op::Base.MappingRF{Globtim.var\"#82#90\"{Globtim.var\"#41#43\"{Matrix{Float64}, SciMLBase.LinearSolution{Float64, 1, Vector{Float64}, Nothing, LinearSolve.DefaultLinearSolver, LinearSolve.LinearCache{Matrix{Float64}, Vector{Float64}, Vector{Float64}, SciMLBase.NullParameters, LinearSolve.DefaultLinearSolver, LinearSolve.DefaultLinearSolverInit{LinearAlgebra.LU{Float64, Matrix{Float64}, Vector{Int64}}, LinearAlgebra.QRCompactWY{Float64, Matrix{Float64}, Matrix{Float64}}, Nothing, Nothing, Nothing, Nothing, Nothing, Nothing, LinearAlgebra.LU{Float64, Matrix{Float64}, Vector{Int64}}, Tuple{LinearAlgebra.LU{Float64, Matrix{Float64}, Vector{Int64}}, Vector{Int64}}, Nothing, Nothing, Nothing, LinearAlgebra.SVD{Float64, Float64, Matrix{Float64}, Vector{Float64}}, LinearAlgebra.Cholesky{Float64, Matrix{Float64}}, LinearAlgebra.Cholesky{Float64, Matrix{Float64}}, Tuple{LinearAlgebra.LU{Float64, Matrix{Float64}, Vector{Int32}}, Base.RefValue{Int32}}, Tuple{LinearAlgebra.LU{Float64, Matrix{Float64}, Vector{Int64}}, Base.RefValue{Int64}}, LinearAlgebra.QRPivoted{Float64, Matrix{Float64}, Vector{Float64}, Vector{Int64}}, Nothing, Nothing}, SciMLOperators.IdentityOperator, SciMLOperators.IdentityOperator, Float64, Bool, LinearSolve.LinearSolveAdjoint{Missing}}, Nothing}, Vector{Float64}, Array{SVector{3, Float64}, 3}}}, Base.BottomRF{typeof(Base.add_sum)}}, init::Base._InitialValue, itr::Base.Iterators.Zip{Tuple{Array{SVector{3, Float64}, 3}, Array{Float64, 3}}})\n",
      "    @ Base ./reduce.jl:62\n",
      "  [6] foldl_impl\n",
      "    @ ./reduce.jl:48 [inlined]\n",
      "  [7] mapfoldl_impl\n",
      "    @ ./reduce.jl:44 [inlined]\n",
      "  [8] mapfoldl\n",
      "    @ ./reduce.jl:175 [inlined]\n",
      "  [9] mapreduce\n",
      "    @ ./reduce.jl:307 [inlined]\n",
      " [10] sum\n",
      "    @ ./reduce.jl:532 [inlined]\n",
      " [11] sum(a::Base.Generator{Base.Iterators.Zip{Tuple{Array{SVector{3, Float64}, 3}, Array{Float64, 3}}}, Globtim.var\"#82#90\"{Globtim.var\"#41#43\"{Matrix{Float64}, SciMLBase.LinearSolution{Float64, 1, Vector{Float64}, Nothing, LinearSolve.DefaultLinearSolver, LinearSolve.LinearCache{Matrix{Float64}, Vector{Float64}, Vector{Float64}, SciMLBase.NullParameters, LinearSolve.DefaultLinearSolver, LinearSolve.DefaultLinearSolverInit{LinearAlgebra.LU{Float64, Matrix{Float64}, Vector{Int64}}, LinearAlgebra.QRCompactWY{Float64, Matrix{Float64}, Matrix{Float64}}, Nothing, Nothing, Nothing, Nothing, Nothing, Nothing, LinearAlgebra.LU{Float64, Matrix{Float64}, Vector{Int64}}, Tuple{LinearAlgebra.LU{Float64, Matrix{Float64}, Vector{Int64}}, Vector{Int64}}, Nothing, Nothing, Nothing, LinearAlgebra.SVD{Float64, Float64, Matrix{Float64}, Vector{Float64}}, LinearAlgebra.Cholesky{Float64, Matrix{Float64}}, LinearAlgebra.Cholesky{Float64, Matrix{Float64}}, Tuple{LinearAlgebra.LU{Float64, Matrix{Float64}, Vector{Int32}}, Base.RefValue{Int32}}, Tuple{LinearAlgebra.LU{Float64, Matrix{Float64}, Vector{Int64}}, Base.RefValue{Int64}}, LinearAlgebra.QRPivoted{Float64, Matrix{Float64}, Vector{Float64}, Vector{Int64}}, Nothing, Nothing}, SciMLOperators.IdentityOperator, SciMLOperators.IdentityOperator, Float64, Bool, LinearSolve.LinearSolveAdjoint{Missing}}, Nothing}, Vector{Float64}, Array{SVector{3, Float64}, 3}}}})\n",
      "    @ Base ./reduce.jl:561\n",
      " [12] discrete_l2_norm_riemann(f::Globtim.var\"#41#43\"{Matrix{Float64}, SciMLBase.LinearSolution{Float64, 1, Vector{Float64}, Nothing, LinearSolve.DefaultLinearSolver, LinearSolve.LinearCache{Matrix{Float64}, Vector{Float64}, Vector{Float64}, SciMLBase.NullParameters, LinearSolve.DefaultLinearSolver, LinearSolve.DefaultLinearSolverInit{LinearAlgebra.LU{Float64, Matrix{Float64}, Vector{Int64}}, LinearAlgebra.QRCompactWY{Float64, Matrix{Float64}, Matrix{Float64}}, Nothing, Nothing, Nothing, Nothing, Nothing, Nothing, LinearAlgebra.LU{Float64, Matrix{Float64}, Vector{Int64}}, Tuple{LinearAlgebra.LU{Float64, Matrix{Float64}, Vector{Int64}}, Vector{Int64}}, Nothing, Nothing, Nothing, LinearAlgebra.SVD{Float64, Float64, Matrix{Float64}, Vector{Float64}}, LinearAlgebra.Cholesky{Float64, Matrix{Float64}}, LinearAlgebra.Cholesky{Float64, Matrix{Float64}}, Tuple{LinearAlgebra.LU{Float64, Matrix{Float64}, Vector{Int32}}, Base.RefValue{Int32}}, Tuple{LinearAlgebra.LU{Float64, Matrix{Float64}, Vector{Int64}}, Base.RefValue{Int64}}, LinearAlgebra.QRPivoted{Float64, Matrix{Float64}, Vector{Float64}, Vector{Int64}}, Nothing, Nothing}, SciMLOperators.IdentityOperator, SciMLOperators.IdentityOperator, Float64, Bool, LinearSolve.LinearSolveAdjoint{Missing}}, Nothing}, Vector{Float64}, Array{SVector{3, Float64}, 3}}, grid::Array{SVector{3, Float64}, 3})\n",
      "    @ Globtim ~/projects/globtim/src/l2_norm.jl:71\n",
      " [13] compute_norm(scale_factor::Float64, VL::Matrix{Float64}, sol::SciMLBase.LinearSolution{Float64, 1, Vector{Float64}, Nothing, LinearSolve.DefaultLinearSolver, LinearSolve.LinearCache{Matrix{Float64}, Vector{Float64}, Vector{Float64}, SciMLBase.NullParameters, LinearSolve.DefaultLinearSolver, LinearSolve.DefaultLinearSolverInit{LinearAlgebra.LU{Float64, Matrix{Float64}, Vector{Int64}}, LinearAlgebra.QRCompactWY{Float64, Matrix{Float64}, Matrix{Float64}}, Nothing, Nothing, Nothing, Nothing, Nothing, Nothing, LinearAlgebra.LU{Float64, Matrix{Float64}, Vector{Int64}}, Tuple{LinearAlgebra.LU{Float64, Matrix{Float64}, Vector{Int64}}, Vector{Int64}}, Nothing, Nothing, Nothing, LinearAlgebra.SVD{Float64, Float64, Matrix{Float64}, Vector{Float64}}, LinearAlgebra.Cholesky{Float64, Matrix{Float64}}, LinearAlgebra.Cholesky{Float64, Matrix{Float64}}, Tuple{LinearAlgebra.LU{Float64, Matrix{Float64}, Vector{Int32}}, Base.RefValue{Int32}}, Tuple{LinearAlgebra.LU{Float64, Matrix{Float64}, Vector{Int64}}, Base.RefValue{Int64}}, LinearAlgebra.QRPivoted{Float64, Matrix{Float64}, Vector{Float64}, Vector{Int64}}, Nothing, Nothing}, SciMLOperators.IdentityOperator, SciMLOperators.IdentityOperator, Float64, Bool, LinearSolve.LinearSolveAdjoint{Missing}}, Nothing}, F::Vector{Float64}, grid::Array{SVector{3, Float64}, 3}, n::Int64, d::Int64)\n",
      "    @ Globtim ~/projects/globtim/src/scaling_utils.jl:47\n",
      " [14] MainGenerate(f::typeof(Ackley), n::Int64, d::Int64, delta::Float64, alpha::Float64, scale_factor::Float64, scl::Float64; center::Vector{Float64}, verbose::Int64, basis::Symbol, GN::Int64, precision::PrecisionType, normalized::Bool, power_of_two_denom::Bool)\n",
      "    @ Globtim ~/projects/globtim/src/Main_Gen.jl:42\n",
      " [15] Constructor(T::test_input, degree::Int64; verbose::Int64, basis::Symbol, precision::PrecisionType, normalized::Bool, power_of_two_denom::Bool)\n",
      "    @ Globtim ~/projects/globtim/src/Main_Gen.jl:127\n",
      " [16] eval\n",
      "    @ ./boot.jl:430 [inlined]\n",
      " [17] include_string(mapexpr::typeof(REPL.softscope), mod::Module, code::String, filename::String)\n",
      "    @ Base ./loading.jl:2734\n",
      " [18] #invokelatest#2\n",
      "    @ ./essentials.jl:1055 [inlined]\n",
      " [19] invokelatest\n",
      "    @ ./essentials.jl:1052 [inlined]\n",
      " [20] (::VSCodeServer.var\"#217#218\"{VSCodeServer.NotebookRunCellArguments, String})()\n",
      "    @ VSCodeServer ~/.vscode/extensions/julialang.language-julia-1.141.2/scripts/packages/VSCodeServer/src/serve_notebook.jl:24\n",
      " [21] withpath(f::VSCodeServer.var\"#217#218\"{VSCodeServer.NotebookRunCellArguments, String}, path::String)\n",
      "    @ VSCodeServer ~/.vscode/extensions/julialang.language-julia-1.141.2/scripts/packages/VSCodeServer/src/repl.jl:276\n",
      " [22] notebook_runcell_request(conn::VSCodeServer.JSONRPC.JSONRPCEndpoint{Base.PipeEndpoint, Base.PipeEndpoint, VSCodeServer.JSON.Serializations.StandardSerialization}, params::VSCodeServer.NotebookRunCellArguments, token::VSCodeServer.CancellationTokens.CancellationToken)\n",
      "    @ VSCodeServer ~/.vscode/extensions/julialang.language-julia-1.141.2/scripts/packages/VSCodeServer/src/serve_notebook.jl:13\n",
      " [23] dispatch_msg(x::VSCodeServer.JSONRPC.JSONRPCEndpoint{Base.PipeEndpoint, Base.PipeEndpoint, VSCodeServer.JSON.Serializations.StandardSerialization}, dispatcher::VSCodeServer.JSONRPC.MsgDispatcher, msg::VSCodeServer.JSONRPC.Request)\n",
      "    @ VSCodeServer.JSONRPC ~/.vscode/extensions/julialang.language-julia-1.141.2/scripts/packages/JSONRPC/src/typed.jl:68\n",
      " [24] serve_notebook(pipename::String, debugger_pipename::String, outputchannel_logger::Base.CoreLogging.SimpleLogger; error_handler::var\"#5#10\"{String})\n",
      "    @ VSCodeServer ~/.vscode/extensions/julialang.language-julia-1.141.2/scripts/packages/VSCodeServer/src/serve_notebook.jl:147\n",
      " [25] top-level scope\n",
      "    @ ~/.vscode/extensions/julialang.language-julia-1.141.2/scripts/notebook/notebook.jl:35"
     ]
    }
   ],
   "source": [
    "for n in [2,3]\n",
    "    # Choose f from: Rastringin, alpine1, Ackley\n",
    "    f = Ackley\n",
    "\n",
    "    reset_timer!(Globtim._TO)\n",
    "\n",
    "    # Constants and Parameters\n",
    "    const a, b = 1, 1\n",
    "    const scale_factor = a / b\n",
    "    rand_center = zeros(Float64, n);\n",
    "    d = 10 # initial degree \n",
    "    SMPL = 40 # Number of samples\n",
    "    TR = test_input(f, \n",
    "                    dim = n,\n",
    "                    center=rand_center,\n",
    "                    GN=SMPL, \n",
    "                    sample_range=scale_factor \n",
    "                    )\n",
    "\n",
    "    pol_cheb = Constructor(TR, d, basis=:chebyshev, precision=RationalPrecision)\n",
    "    @polyvar(x[1:n]); # Define polynomial ring \n",
    "    @polyvar(x[1:n]) # Define polynomial ring \n",
    "    real_pts_cheb = solve_polynomial_system(\n",
    "        x, n, d, pol_cheb.coeffs;\n",
    "        basis=pol_cheb.basis,\n",
    "        precision=pol_cheb.precision,\n",
    "        normalized=pol_cheb.normalized,\n",
    "    )\n",
    "    \n",
    "    df_cheb = process_crit_pts(real_pts_cheb, f, TR)\n",
    "\n",
    "    df_cheb, df_min_cheb = analyze_critical_points(f, df_cheb, TR, tol_dist=0.5);\n",
    "\n",
    "    println(\"n = $n\")\n",
    "    println(Globtim._TO)\n",
    "end"
   ]
  },
  {
   "cell_type": "code",
   "execution_count": null,
   "metadata": {},
   "outputs": [],
   "source": []
  }
 ],
 "metadata": {
  "kernelspec": {
   "display_name": "Julia 1.11.5",
   "language": "julia",
   "name": "julia-1.11"
  },
  "language_info": {
   "file_extension": ".jl",
   "mimetype": "application/julia",
   "name": "julia",
   "version": "1.11.5"
  }
 },
 "nbformat": 4,
 "nbformat_minor": 2
}
