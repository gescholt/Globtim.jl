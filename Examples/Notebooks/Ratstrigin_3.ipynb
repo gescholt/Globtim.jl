{
 "cells": [
  {
   "cell_type": "code",
   "execution_count": null,
   "metadata": {},
   "outputs": [],
   "source": [
    "using Pkg\n",
    "Pkg.activate(joinpath(@__DIR__, \"../../\"))\n",
    "using Globtim\n",
    "using DynamicPolynomials, DataFrames\n",
    "using ProgressLogging\n",
    "using StaticArrays"
   ]
  },
  {
   "cell_type": "markdown",
   "metadata": {},
   "source": [
    "We set the number of samples used to generate the approximant. It is annoying that the error goes up while the degree has increased."
   ]
  },
  {
   "cell_type": "code",
   "execution_count": null,
   "metadata": {},
   "outputs": [],
   "source": [
    "# Constants and Parameters\n",
    "const n, a, b = 3, 1, 1\n",
    "const scale_factor = a / b\n",
    "f = Rastringin  \n",
    "rand_center = [0.0, 0.0, 0.0];\n",
    "d = 10 # initial degree \n",
    "SMPL = 40 # Number of samples\n",
    "TR = test_input(f, \n",
    "                dim = n,\n",
    "                center=rand_center,\n",
    "                GN=SMPL, \n",
    "                sample_range=scale_factor \n",
    "                )"
   ]
  },
  {
   "cell_type": "markdown",
   "metadata": {},
   "source": [
    "Solve the system of partial derivatives using `Homotopy_COntinuation.jl`. "
   ]
  },
  {
   "cell_type": "code",
   "execution_count": null,
   "metadata": {},
   "outputs": [],
   "source": [
    "pol_cheb = Constructor(TR, d, basis=:chebyshev, precision=RationalPrecision)\n",
    "@polyvar(x[1:n]); # Define polynomial ring "
   ]
  },
  {
   "cell_type": "code",
   "execution_count": null,
   "metadata": {},
   "outputs": [],
   "source": [
    "@polyvar(x[1:n]) # Define polynomial ring \n",
    "real_pts_cheb = solve_polynomial_system(\n",
    "    x, n, d, pol_cheb.coeffs;\n",
    "    basis=pol_cheb.basis,\n",
    "    precision=pol_cheb.precision,\n",
    "    normalized=pol_cheb.normalized,\n",
    ")"
   ]
  },
  {
   "cell_type": "code",
   "execution_count": null,
   "metadata": {},
   "outputs": [],
   "source": [
    "df_cheb = process_crit_pts(real_pts_cheb, f, TR)"
   ]
  },
  {
   "cell_type": "code",
   "execution_count": null,
   "metadata": {},
   "outputs": [],
   "source": [
    "using Optim\n",
    "# Enhanced analysis with new statistics\n",
    "tol_dist = 0.05\n",
    "df_cheb_enhanced, df_min_cheb = analyze_critical_points(f, df_cheb, TR, tol_dist=tol_dist, verbose=true)\n",
    "\n",
    "println(\"\\n=== Enhanced Statistics Summary ===\")\n",
    "println(\"Enhanced DataFrame columns: $(names(df_cheb_enhanced))\")\n",
    "println(\"Enhanced DataFrame size: $(size(df_cheb_enhanced))\")\n",
    "\n",
    "if nrow(df_min_cheb) > 0\n",
    "    println(\"Minimizers DataFrame columns: $(names(df_min_cheb))\")\n",
    "    println(\"Minimizers DataFrame size: $(size(df_min_cheb))\")\n",
    "    \n",
    "    println(\"\\n=== Enhanced Statistics Column Documentation ===\")\n",
    "    println(\"Critical Points DataFrame Columns:\")\n",
    "    println(\"  x1, x2, x3        - Original critical point coordinates\")\n",
    "    println(\"  z                 - Function value at critical point\")\n",
    "    println(\"  y1, y2, y3        - BFGS optimized coordinates from critical point\")\n",
    "    println(\"  close             - Whether optimized point is close to starting point (tol_dist=$tol_dist)\")\n",
    "    println(\"  steps             - Number of BFGS optimization iterations\")\n",
    "    println(\"  converged         - Whether BFGS converged within domain bounds\")\n",
    "    println(\"  region_id         - Spatial region ID (domain divided into cubic regions)\")\n",
    "    println(\"  function_value_cluster - Cluster ID based on function value similarity\")\n",
    "    println(\"  nearest_neighbor_dist  - Distance to nearest other critical point\")\n",
    "    println(\"  gradient_norm     - ||∇f(x)|| at critical point (should be ~0)\")\n",
    "    \n",
    "    println(\"\\nUnique Minimizers DataFrame Columns:\")\n",
    "    println(\"  x1, x2, x3              - Coordinates of unique minimizer\")\n",
    "    println(\"  value                   - Function value at minimizer\")\n",
    "    println(\"  captured                - Whether minimizer was captured by a critical point\")\n",
    "    println(\"  basin_points            - Number of critical points converging to this minimizer\")\n",
    "    println(\"  average_convergence_steps - Average BFGS steps for points reaching this minimizer\")\n",
    "    println(\"  region_coverage_count   - Number of different spatial regions feeding this minimizer\")\n",
    "    println(\"  gradient_norm_at_min    - ||∇f(x)|| at minimizer (should be very close to 0)\")\n",
    "\n",
    "    println(\"\\n=== Sample Enhanced Data ===\")\n",
    "    println(\"First 5 rows of enhanced critical points:\")\n",
    "    println(first(df_cheb_enhanced, 5))\n",
    "    \n",
    "    println(\"\\nUnique minimizers with enhanced data:\")\n",
    "    println(df_min_cheb)\n",
    "    \n",
    "else\n",
    "    println(\"No unique minimizers found\")\n",
    "end"
   ]
  },
  {
   "cell_type": "code",
   "execution_count": null,
   "metadata": {},
   "outputs": [],
   "source": [
    "using GLMakie\n",
    "GLMakie.activate!\n",
    "include(\"../../src/LevelSetViz.jl\")"
   ]
  },
  {
   "cell_type": "code",
   "execution_count": null,
   "metadata": {},
   "outputs": [],
   "source": [
    "grid = scale_factor * generate_grid(3, 120)  # 3D grid\n",
    "values = map(f, grid); # Prepare level set data for specific level"
   ]
  },
  {
   "cell_type": "code",
   "execution_count": null,
   "metadata": {},
   "outputs": [],
   "source": [
    "fig = create_level_set_visualization(f, grid, df_cheb_enhanced, (-30.0, 30.))"
   ]
  },
  {
   "cell_type": "code",
   "execution_count": null,
   "metadata": {},
   "outputs": [],
   "source": [
    "display(fig)"
   ]
  },
  {
   "cell_type": "code",
   "execution_count": null,
   "metadata": {},
   "outputs": [],
   "source": [
    "# GLMakie.closeall()"
   ]
  }
 ],
 "metadata": {
  "kernelspec": {
   "display_name": "Julia 1.11.5",
   "language": "julia",
   "name": "julia-1.11"
  },
  "language_info": {
   "file_extension": ".jl",
   "mimetype": "application/julia",
   "name": "julia",
   "version": "1.11.5"
  }
 },
 "nbformat": 4,
 "nbformat_minor": 2
}
