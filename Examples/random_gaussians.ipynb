{
 "cells": [
  {
   "cell_type": "markdown",
   "metadata": {},
   "source": [
    "A mixture of $N =10$ random Gaussians centered in $[-1,1]^n$ \n",
    "$$\n",
    "f_{\\mu,\\sigma}(x, y) = \\sum_{i=1}^{N} \\frac{1}{\\sigma_i\\sqrt{2\\pi}}\\exp\\left(-\\frac{(x-\\mu_i)^2}{2\\sigma_i^2}\\right)\n",
    "$$\n",
    " is defined over the square $[-1, 1]^2$."
   ]
  },
  {
   "cell_type": "code",
   "execution_count": 1,
   "metadata": {},
   "outputs": [],
   "source": [
    "using Globtim\n",
    "include(\"../src/lib_func.jl\") # Include the library of functions\n",
    "\n",
    "# Constants and Parameters\n",
    "d = 8 # Initial Degree \n",
    "const n, a, b = 2, 1, 1 \n",
    "const scale_factor = a / b       # Scaling factor appears in `main_computation`, maybe it should be a parameter.\n",
    "const delta, alpha = .9 , 8 / 10  # Sampling parameters\n",
    "const tol_l2 = 5e-4             # Define the tolerance for the L2-norm\n",
    "\n",
    "N = 10\n",
    "params = init_gaussian_params(N, .2)\n",
    "# Create a closure that captures params\n",
    "rand_gaussian_closure = (x) -> rand_gaussian(x, params)\n",
    "f = rand_gaussian_closure; # Function to be optimized\n"
   ]
  },
  {
   "cell_type": "code",
   "execution_count": null,
   "metadata": {},
   "outputs": [],
   "source": [
    "while true # Potential infinite loop\n",
    "    global poly_approx = MainGenerate(f, 2, d, delta, alpha, scale_factor, 0.2) # computes the approximant in Chebyshev basis\n",
    "    if poly_approx.nrm < tol_l2\n",
    "        println(\"attained the desired L2-norm: \", poly_approx.nrm)\n",
    "        break\n",
    "    else\n",
    "        println(\"current L2-norm: \", poly_approx.nrm)\n",
    "        println(\"Number of samples: \", poly_approx.N)\n",
    "        global d += 1\n",
    "    end\n",
    "end;"
   ]
  },
  {
   "cell_type": "code",
   "execution_count": null,
   "metadata": {},
   "outputs": [],
   "source": [
    "using DynamicPolynomials, HomotopyContinuation, ProgressLogging, DataFrames\n",
    "@polyvar(x[1:n]) # Define polynomial ring \n",
    "ap = main_nd(n, d, poly_approx.coeffs)\n",
    "# Expand the polynomial approximant to the standard monomial basis in the Lexicographic order w.r.t x. \n",
    "PolynomialApproximant = sum(Float64.(ap) .* MonomialVector(x, 0:d)) # Convert coefficients to Float64 for homotopy continuation\n",
    "grad = differentiate.(PolynomialApproximant, x)\n",
    "sys = System(grad)\n",
    "println(\"The system is of degree:\", d-1)"
   ]
  },
  {
   "cell_type": "code",
   "execution_count": null,
   "metadata": {},
   "outputs": [],
   "source": [
    "Real_sol_lstsq = HomotopyContinuation.solve(sys)\n",
    "real_pts = HomotopyContinuation.real_solutions(Real_sol_lstsq; only_real=true, multiple_results=false);"
   ]
  },
  {
   "cell_type": "code",
   "execution_count": null,
   "metadata": {},
   "outputs": [],
   "source": [
    "condition(point) = -1 < point[1] < 1 && -1 < point[2] < 1\n",
    "filtered_points = filter(condition, real_pts) # Filter points using the filter function\n",
    "# Colllect the critical points of the approximant \n",
    "h_x = Float64[point[1] for point in filtered_points] # Initialize the x vector for critical points of approximant\n",
    "h_y = Float64[point[2] for point in filtered_points] # Initialize the y vector\n",
    "h_z = map(p -> f([p[1], p[2]]), zip(scale_factor * h_x, scale_factor * h_y))\n",
    "df = DataFrame(x=scale_factor * h_x, y=scale_factor * h_y, z=h_z) # Create a DataFrame"
   ]
  },
  {
   "cell_type": "code",
   "execution_count": null,
   "metadata": {},
   "outputs": [],
   "source": [
    "using PlotlyJS, Colors\n",
    "# Generate the grid and evaluate the function\n",
    "N = 80  # resolution of the grid\n",
    "x = range(-scale_factor, scale_factor, length=N)\n",
    "y = range(-scale_factor, scale_factor, length=N)\n",
    "z = [f([xi, yi]) for yi in y, xi in x]\n",
    "\n",
    "#Scatter plot the critical points of the approximant\n",
    "scatter_traces = [scatter(x=df.x, y=df.y, mode=\"markers\", marker_size=5, name=\"Critical Points\")]\n",
    "\n",
    "# Create the contour plot\n",
    "cp = contour(x=x, y=y, z=z, ncontours=40, colorscale=\"Viridis\", showscale=false)\n",
    "\n",
    "# Combine contour plot and scatter traces\n",
    "all_traces = [cp; scatter_traces...]\n",
    "\n",
    "# Customize layout to handle legend groups\n",
    "layout = Layout(\n",
    "    title=\"Contour Plot of Gaussian Mixture Function\",\n",
    "    xaxis_title=\"X-axis\",\n",
    "    yaxis_title=\"Y-axis\",\n",
    "    legend=(tracegroupgap=10, groupclick=\"toggleitem\"),\n",
    "    height=800 # Increase the height to make room for the legend \n",
    ")\n",
    "\n",
    "# Display the combined plot with legend\n",
    "display(plot(all_traces, layout))\n",
    "\n"
   ]
  },
  {
   "cell_type": "code",
   "execution_count": null,
   "metadata": {},
   "outputs": [],
   "source": [
    "# Optimize the collected entries \n",
    "using Optim\n",
    "for i in 1:nrow(df)\n",
    "    println(\"Optimizing for point $i\")\n",
    "    x0 = [df.x[i], df.y[i]]\n",
    "    res = Optim.optimize(f, x0, LBFGS(), Optim.Options(show_trace=true))\n",
    "    minimizer = Optim.minimizer(res)\n",
    "    min_value = Optim.minimum(res)\n",
    "    steps = res.iterations\n",
    "    converged = Optim.converged(res)\n",
    "    distance = norm(x0 - minimizer)\n",
    "    println(summary(res))\n",
    "end\n"
   ]
  },
  {
   "cell_type": "code",
   "execution_count": null,
   "metadata": {},
   "outputs": [],
   "source": [
    "sf = surface(x=x, y=y, z=z)\n",
    "# Had to switch the coordinates of the critical points to match the surface plot for some reason. \n",
    "crit_pts = scatter3d(x=df.y, y=df.x, z=df.z, mode=\"markers\", marker_size=5, name=\"Critical Points\")\n",
    "\n",
    "# Layout for the plot\n",
    "layout = Layout(title=\"3D Plot of Shubert function with the critical points of the approximant of degree 22\",\n",
    "    scene=attr(\n",
    "        xaxis_title=\"x\",\n",
    "        yaxis_title=\"y\",\n",
    "        zaxis_title=\"f(x, y)\"),\n",
    "    height=800\n",
    ")\n",
    "# Display the plot layout,\n",
    "plt = plot([sf, crit_pts], layout)"
   ]
  },
  {
   "cell_type": "code",
   "execution_count": null,
   "metadata": {},
   "outputs": [],
   "source": [
    "savefig(plt, \"../data/figures/random_gaussian_function_plot.html\")"
   ]
  },
  {
   "cell_type": "markdown",
   "metadata": {},
   "source": [
    "Should plot the polynomial approximant too."
   ]
  }
 ],
 "metadata": {
  "kernelspec": {
   "display_name": "Julia 1.10.4",
   "language": "julia",
   "name": "julia-1.10"
  },
  "language_info": {
   "file_extension": ".jl",
   "mimetype": "application/julia",
   "name": "julia",
   "version": "1.10.4"
  }
 },
 "nbformat": 4,
 "nbformat_minor": 2
}
