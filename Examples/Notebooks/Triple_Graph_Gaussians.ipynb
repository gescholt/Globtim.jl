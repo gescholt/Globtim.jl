{
 "cells": [
  {
   "cell_type": "markdown",
   "metadata": {},
   "source": [
    "Maybe we define new structure which captures the input parameters specific to each problem in one place (`scale_factor`).\n",
    "We need to define a range on `d` that is also function dependent (that we could adjust by hand). "
   ]
  },
  {
   "cell_type": "markdown",
   "metadata": {},
   "source": [
    "We need to generate three graphs: \n",
    "- Histogram of Number of `loc_min` points were found, (so outputs of the Optim routine) and what percentage of them is within a small distance of a critical point of the approximant. As a function of the degree `d` of the approximant.\n"
   ]
  },
  {
   "cell_type": "code",
   "execution_count": null,
   "metadata": {},
   "outputs": [],
   "source": [
    "using Pkg\n",
    "using Revise \n",
    "Pkg.activate(\"../../.\")\n",
    "using Globtim\n",
    "using DynamicPolynomials, DataFrames\n",
    "using ProgressLogging\n",
    "using Optim\n",
    "using CairoMakie\n",
    "CairoMakie.activate!"
   ]
  },
  {
   "cell_type": "code",
   "execution_count": null,
   "metadata": {},
   "outputs": [],
   "source": [
    "kwel = Globtim.GaussianParams([0.26089820418282555 0.7344607224948916; -0.03017402660215973 -0.08830141199871192; -0.5923178162494483 0.7056820121831168; 0.17219769077638444 0.23048326052302262; -0.24763641218779517 -0.7815397497735926; -0.4673401509337077 -0.20722331050611642; -0.7477436163328894 -0.2190129770253087; -0.001999373470356236 -0.2950834352880266; -0.3120301213620158 0.16354534796517442; 0.69272872993026 0.4029772296623259; -0.5931618012868126 -0.7334896493870542; -0.7295746099547044 0.01794672027273103], [0.3594863378910475, 0.26981260289694575, 0.5230637389101772, 0.1277917080242205, 0.11533967613820623, 0.38278982674149603, 0.45620512616814934, 0.1910983217345807, 0.2170627012236726, 0.4817586065231313, 0.0952629299826123, 0.5767317212090373], [-1.0, 1.0, -1.0, 1.0, -1.0, 1.0, -1.0, 1.0, -1.0, 1.0, -1.0, 1.0])\n",
    "\n",
    "rand_gaussian_closure = (x) -> rand_gaussian(x, kwel)\n",
    "f = rand_gaussian_closure;\n",
    "f([1.0, 1.0])"
   ]
  },
  {
   "cell_type": "markdown",
   "metadata": {},
   "source": [
    "Can a function export \"Optional attributes\" like just some constants or its optimal domain of definition? --> works. "
   ]
  },
  {
   "cell_type": "code",
   "execution_count": null,
   "metadata": {},
   "outputs": [],
   "source": [
    "d_min, d_max = 3, 30\n",
    "TD = 0.1\n",
    "params = load_function_params(\"gaussian\")\n",
    "TR = test_input(f;\n",
    "    dim=params.dim,\n",
    "    center=params.center,\n",
    "    GN=params.num_samples,\n",
    "    sample_range=params.sample_range,\n",
    "    tolerance=params.tolerance)\n",
    "\n",
    "@polyvar(x[1:TR.dim]); # Define polynomial ring "
   ]
  },
  {
   "cell_type": "code",
   "execution_count": null,
   "metadata": {},
   "outputs": [],
   "source": [
    "results = analyze_degrees(TR, x, d_min, d_max, step=1, tol_dist=TD)"
   ]
  },
  {
   "cell_type": "code",
   "execution_count": null,
   "metadata": {},
   "outputs": [],
   "source": [
    "fig_1 = plot_discrete_l2(new_results, d_min, d_max, 1)\n",
    "# save(\"discrete_l2.pdf\", fig_1)\n",
    "display(fig_1)"
   ]
  },
  {
   "cell_type": "code",
   "execution_count": null,
   "metadata": {},
   "outputs": [],
   "source": [
    "fig_2 = capture_histogram(new_results, d_min, d_max, 1, show_legend=false)\n",
    "# save(\"histogram.pdf\", fig_2)\n",
    "display(fig_2)"
   ]
  },
  {
   "cell_type": "code",
   "execution_count": null,
   "metadata": {},
   "outputs": [],
   "source": [
    "fig_3 = plot_convergence_analysis(results, d_min, d_max, 1, show_legend=false)\n",
    "# save(\"convergence_analysis.pdf\", fig_3)\n",
    "display(fig_3)"
   ]
  },
  {
   "cell_type": "code",
   "execution_count": null,
   "metadata": {},
   "outputs": [],
   "source": [
    "RT = results[28]\n",
    "df_t = RT.df\n",
    "df_m = RT.df_min;\n",
    "inside_mask = points_in_hypercube(df_t, TR)\n",
    "values_mask = points_in_range(df_t, TR, .8)\n",
    "df_minimizers = df_t[values_mask.&inside_mask, :] # has both `x` (raw) and `y` (optimized)\n",
    "pol_cheb = Constructor(TR, 8, basis=:chebyshev);\n"
   ]
  },
  {
   "cell_type": "code",
   "execution_count": null,
   "metadata": {},
   "outputs": [],
   "source": [
    "fig_4 = cairo_plot_polyapprox_levelset(pol_cheb, TR, df_minimizers, df_m, show_captured=false)"
   ]
  },
  {
   "cell_type": "code",
   "execution_count": null,
   "metadata": {},
   "outputs": [],
   "source": [
    "stats = analyze_converged_points(df_minimizers, TR, results, d_min, d_max, 1)\n",
    "avg_distances = stats[\"avg_distances\"]\n"
   ]
  },
  {
   "cell_type": "code",
   "execution_count": null,
   "metadata": {},
   "outputs": [],
   "source": [
    "fig_5 = plot_distance_statistics(stats)\n",
    "# save(\"distance_statistics.pdf\", fig_5)"
   ]
  }
 ],
 "metadata": {
  "kernelspec": {
   "display_name": "Julia 1.11.3",
   "language": "julia",
   "name": "julia-1.11"
  },
  "language_info": {
   "file_extension": ".jl",
   "mimetype": "application/julia",
   "name": "julia",
   "version": "1.11.3"
  }
 },
 "nbformat": 4,
 "nbformat_minor": 2
}
