{
 "cells": [
  {
   "cell_type": "code",
   "execution_count": 4,
   "metadata": {},
   "outputs": [
    {
     "data": {
      "text/plain": [
       "camel_3_by_3 (generic function with 1 method)"
      ]
     },
     "metadata": {},
     "output_type": "display_data"
    }
   ],
   "source": [
    "using Globtim\n",
    "using CSV\n",
    "using DataFrames\n",
    "\n",
    "include(\"../src/lib_func.jl\")\n",
    "\n",
    "# Load the dataframe from the CSV file\n",
    "df_2d = CSV.read(\"../data/camel_3_d6.csv\", DataFrame)\n",
    "\n",
    "# Constants and Parameters\n",
    "d = 6      # Degree \n",
    "const n, a, b = 4, 5, 1 \n",
    "const scale_factor = a / b  # Scaling constant, C is appears in `main_computation`, maybe it should be a parameter.\n",
    "const delta, alpha = .1 , 2 / 10  # Sampling parameters\n",
    "const tol_l2 = 1e-1               # Define the tolerance for the L2-norm\n",
    "\n",
    "\n",
    "f = camel_3_by_3 # Objective function"
   ]
  },
  {
   "cell_type": "code",
   "execution_count": 5,
   "metadata": {},
   "outputs": [
    {
     "name": "stdout",
     "output_type": "stream",
     "text": [
      "attained the desired L2-norm: 1.959486759860326e-14\n"
     ]
    }
   ],
   "source": [
    "while true # Potential infinite loop\n",
    "    global poly_approx = MainGenerate(f, n, d, delta, alpha, scale_factor, 0.2) # computes the approximant in Chebyshev basis\n",
    "    if poly_approx.nrm < tol_l2\n",
    "        println(\"attained the desired L2-norm: \", poly_approx.nrm)\n",
    "        break\n",
    "    else\n",
    "        println(\"current L2-norm: \", poly_approx.nrm)\n",
    "        println(\"Number of samples: \", poly_approx.N)\n",
    "        global d += 1\n",
    "    end\n",
    "end"
   ]
  },
  {
   "cell_type": "code",
   "execution_count": 6,
   "metadata": {},
   "outputs": [
    {
     "name": "stdout",
     "output_type": "stream",
     "text": [
      "Check\n"
     ]
    },
    {
     "data": {
      "text/plain": [
       "System of length 4\n",
       " 4 variables: x₁, x₂, x₃, x₄\n",
       "\n",
       " 3.06050200626839e-13 + 100.000000000011*x₁ + 24.9999999999999*x₂ - 2.3704365869393e-13*x₃ - 7.66742442553705e-14*x₄ + 5.83445023305393e-13*x₂*x₁ - 2.55271207677904e-14*x₂*x₁^2 + 2.36949525354632e-13*x₂*x₁^3 + 4.76853894527721e-13*x₂*x₁^4 - 1.63350401558655e-14*x₂*x₃ + 2.08498210085108e-14*x₂*x₃^2 - 7.15002554290457e-15*x₂*x₃^3 + 3.3464512188227e-14*x₂*x₃^4 - 1.59663286924855e-12*x₂^2*x₁ - 1.41754938236056e-13*x₂^2*x₁^2 + 6.78149577749239e-13*x₂^2*x₁^3 - 4.74858571794318e-14*x₂^2*x₃ - 2.80836620953063e-14*x₂^2*x₃^2 - 1.84752159651815e-14*x₂^2*x₃^3 - 8.64308448585553e-13*x₂^3*x₁ - 2.77069158724068e-13*x₂^3*x₁^2 + 4.77001568321168e-14*x₂^3*x₃ - 8.56716562382656e-14*x₂^3*x₃^2 + 1.52991426565103e-12*x₂^4*x₁ + 5.95414627551087e-14*x₂^4*x₃ - 1.01360337401798e-12*x₃*x₁ + 1.14118903874245e-12*x₃*x₁^2 + 1.05042305202866e-12*x₃*x₁^3 - 6.85082474266706e-13*x₃*x₁^4 - 9.1445550997829e-12*x₃^2*x₁ - 2.12795604041463e-13*x₃^2*x₁^2 - 4.44148998081706e-12*x₃^2*x₁^3 + 8.00509629048879e-13*x₃^3*x₁ - 6.68254946464662e-13*x₃^3*x₁^2 + 1.09649913115922e-11*x₃^4*x₁ + 4.85714885637929e-12*x₄*x₁ + 1.15932348127341e-12*x₄*x₁^2 - 1.26660313991612e-12*x₄*x₁^3 - 9.58929420300699e-13*x₄*x₁^4 + 4.39049390025389e-17*x₄*x₂ - 8.9640348690974e-14*x₄*x₂^2 + 4.02663004667034e-14*x₄*x₂^3 + 9.01180136485278e-14*x₄*x₂^4 + 2.12769469668615e-14*x₄*x₃ + 7.18638804122936e-14*x₄*x₃^2 - 2.98333450546029e-14*x₄*x₃^3 + 6.6981342286027e-14*x₄*x₃^4 - 1.21407390814511e-11*x₄^2*x₁ - 2.54715573868803e-13*x₄^2*x₁^2 + 6.07261362467644e-12*x₄^2*x₁^3 - 9.22390712431041e-14*x₄^2*x₂ - 4.7399764539417e-14*x₄^2*x₂^2 - 3.07031900625663e-14*x₄^2*x₂^3 + 3.97083291792203e-14*x₄^2*x₃ - 2.72585151029625e-14*x₄^2*x₃^2 + 3.15946340841555e-14*x₄^2*x₃^3 - 5.25837450518532e-12*x₄^3*x₁ - 3.11110116431039e-13*x₄^3*x₁^2 - 8.23777546047828e-15*x₄^3*x₂ + 9.02570975988114e-15*x₄^3*x₂^2 + 3.02981935280619e-15*x₄^3*x₃ - 5.9240420437404e-14*x₄^3*x₃^2 + 9.83627009779551e-12*x₄^4*x₁ + 7.29270498611452e-14*x₄^4*x₂ - 4.01648844929339e-14*x₄^4*x₃ + 3.99308569467639e-13*x₂*x₃*x₁ - 5.95716527577229e-14*x₂*x₃*x₁^2 + 1.16493717655076e-13*x₂*x₃*x₁^3 - 1.02412923584432e-13*x₂*x₃^2*x₁ - 1.59044437164609e-13*x₂*x₃^2*x₁^2 - 4.44684420066688e-13*x₂*x₃^3*x₁ + 1.31701545790068e-13*x₂^2*x₃*x₁ + 9.92498576570161e-14*x₂^2*x₃*x₁^2 + 2.2868313956557e-13*x₂^2*x₃^2*x₁ - 1.03038450969805e-13*x₂^3*x₃*x₁ - 3.20961420319869e-13*x₄*x₂*x₁ - 1.88287024547446e-14*x₄*x₂*x₁^2 + 9.67671705147273e-15*x₄*x₂*x₁^3 + 6.64593170044673e-15*x₄*x₂*x₃ - 1.22692274025885e-14*x₄*x₂*x₃^2 + 9.38666178610463e-15*x₄*x₂*x₃^3 - 4.37831812796356e-14*x₄*x₂^2*x₁ - 9.2223354362874e-15*x₄*x₂^2*x₁^2 - 4.7595231267516e-16*x₄*x₂^2*x₃ - 2.48287141085095e-14*x₄*x₂^2*x₃^2 + 1.35902519560454e-13*x₄*x₂^3*x₁ - 2.51636607619806e-14*x₄*x₂^3*x₃ - 4.52551993782808e-13*x₄*x₃*x₁ + 5.71062880766857e-14*x₄*x₃*x₁^2 + 2.77403181213362e-12*x₄*x₃*x₁^3 - 2.90681421221181e-13*x₄*x₃^2*x₁ - 3.6110886851706e-13*x₄*x₃^2*x₁^2 - 8.43239103090457e-13*x₄*x₃^3*x₁ - 3.84171742353519e-14*x₄^2*x₂*x₁ - 3.7937946445277e-15*x₄^2*x₂*x₁^2 + 1.05213659318757e-14*x₄^2*x₂*x₃ + 3.43610864603407e-14*x₄^2*x₂*x₃^2 + 3.77932261086237e-13*x₄^2*x₂^2*x₁ - 2.01965573561454e-14*x₄^2*x₂^2*x₃ + 5.44234873064034e-14*x₄^2*x₃*x₁ + 5.44486850560259e-14*x₄^2*x₃*x₁^2 - 3.02178020217631e-12*x₄^2*x₃^2*x₁ + 5.78855169486659e-14*x₄^3*x₂*x₁ - 4.27888180626968e-14*x₄^3*x₂*x₃ + 9.87605903954308e-13*x₄^3*x₃*x₁ - 1.72503773997566e-13*x₄*x₂*x₃*x₁ + 1.53415998327364e-13*x₄*x₂*x₃*x₁^2 + 2.69536671740963e-13*x₄*x₂*x₃^2*x₁ - 6.07029905059051e-13*x₄*x₂^2*x₃*x₁ - 1.09488743610671e-13*x₄^2*x₂*x₃*x₁ - 7.70383032530753e-12*x₁^2 - 2625.00000000003*x₁^3 + 1.33658586805924e-11*x₁^4 + 15625.0*x₁^5 + 4.79099937619409e-13*x₂^2 + 2.59669644490193e-13*x₂^3 - 3.33952143861399e-13*x₂^4 - 1.11129255541853e-13*x₂^5 + 9.76187468585e-14*x₃^2 - 4.79972040692958e-14*x₃^3 - 3.91022457292815e-14*x₃^4 + 2.68274842537389e-13*x₃^5 + 2.59179409192054e-13*x₄^2 - 2.30041564816569e-13*x₄^3 - 1.5649567458917e-13*x₄^4 + 2.46383800106394e-13*x₄^5\n",
       " 1.15449793813968e-12 + 24.9999999999999*x₁ + 49.999999999989*x₂ + 2.32063830648111e-13*x₃ + 1.33000607117157e-13*x₄ + 9.58199875238818e-13*x₂*x₁ - 1.59663286924855e-12*x₂*x₁^2 - 9.45032921573704e-14*x₂*x₁^3 + 3.3907478887462e-13*x₂*x₁^4 + 1.62480318459887e-12*x₂*x₃ + 1.10072853072955e-11*x₂*x₃^2 - 1.0494692304001e-12*x₂*x₃^3 - 1.33742049307638e-11*x₂*x₃^4 + 7.7900893347058e-13*x₂^2*x₁ - 1.29646267287833e-12*x₂^2*x₁^2 - 2.77069158724068e-13*x₂^2*x₁^3 + 4.7871515503615e-13*x₂^2*x₃ - 2.85584961234448e-12*x₂^2*x₃^2 + 1.31344379389446e-12*x₂^2*x₃^3 - 1.3358085754456e-12*x₂^3*x₁ + 3.05982853130205e-12*x₂^3*x₁^2 - 1.29604119008465e-12*x₂^3*x₃ + 2.65661458767818e-12*x₂^3*x₃^2 - 5.55646277709267e-13*x₂^4*x₁ - 4.6771430416406e-13*x₂^4*x₃ - 1.63350401558655e-14*x₃*x₁ + 1.9965428473382e-13*x₃*x₁^2 - 1.98572175859076e-14*x₃*x₁^3 + 2.9123429413769e-14*x₃*x₁^4 + 2.08498210085108e-14*x₃^2*x₁ - 5.12064617922158e-14*x₃^2*x₁^2 - 5.3014812388203e-14*x₃^2*x₁^3 - 7.15002554290457e-15*x₃^3*x₁ - 2.22342210033344e-13*x₃^3*x₁^2 + 3.3464512188227e-14*x₃^4*x₁ + 4.39049390025389e-17*x₄*x₁ - 1.60480710159935e-13*x₄*x₁^2 - 6.27623415158154e-15*x₄*x₁^3 + 2.41917926286818e-15*x₄*x₁^4 - 1.2322845418016e-13*x₄*x₂ + 4.24470087774028e-13*x₄*x₂^2 - 4.38266882643247e-14*x₄*x₂^3 - 3.02162273412222e-12*x₄*x₂^4 - 5.531747323993e-13*x₄*x₃ - 2.94585039630066e-13*x₄*x₃^2 + 3.97940538567793e-13*x₄*x₃^3 - 7.34885661214074e-14*x₄*x₃^4 - 9.22390712431041e-14*x₄^2*x₁ - 1.9208587117676e-14*x₄^2*x₁^2 - 1.26459821484257e-15*x₄^2*x₁^3 + 4.60556577385132e-12*x₄^2*x₂ - 1.36616564010626e-13*x₄^2*x₂^2 + 8.58103961249651e-12*x₄^2*x₂^3 - 3.627147527841e-13*x₄^2*x₃ + 5.67786671135545e-13*x₄^2*x₃^2 + 8.41275439340052e-13*x₄^2*x₃^3 - 8.23777546047828e-15*x₄^3*x₁ + 2.8942758474333e-14*x₄^3*x₁^2 + 1.26889609841932e-13*x₄^3*x₂ + 2.27046358076926e-12*x₄^3*x₂^2 + 2.32870509043247e-13*x₄^3*x₃ + 4.5111482733707e-13*x₄^3*x₃^2 + 7.29270498611452e-14*x₄^4*x₁ - 7.20834163501487e-12*x₄^4*x₂ - 2.33966161461586e-14*x₄^4*x₃ - 9.49717143588637e-14*x₂*x₃*x₁ + 1.31701545790068e-13*x₂*x₃*x₁^2 + 6.61665717713441e-14*x₂*x₃*x₁^3 - 5.61673241906127e-14*x₂*x₃^2*x₁ + 2.2868313956557e-13*x₂*x₃^2*x₁^2 - 3.6950431930363e-14*x₂*x₃^3*x₁ + 1.4310047049635e-13*x₂^2*x₃*x₁ - 1.54557676454707e-13*x₂^2*x₃*x₁^2 - 2.57014968714797e-13*x₂^2*x₃^2*x₁ + 2.38165851020435e-13*x₂^3*x₃*x₁ - 1.79280697381948e-13*x₄*x₂*x₁ - 4.37831812796356e-14*x₄*x₂*x₁^2 - 6.1482236241916e-15*x₄*x₂*x₁^3 + 4.4909958788776e-12*x₄*x₂*x₃ + 1.67285409035166e-13*x₄*x₂*x₃^2 - 3.65970317721562e-12*x₄*x₂*x₃^3 + 1.2079890140011e-13*x₄*x₂^2*x₁ + 2.03853779340681e-13*x₄*x₂^2*x₁^2 - 3.85889134435583e-13*x₄*x₂^2*x₃ - 8.28087815634979e-14*x₄*x₂^2*x₃^2 + 3.60472054594111e-13*x₄*x₂^3*x₁ - 2.48958911171757e-12*x₄*x₂^3*x₃ + 6.64593170044673e-15*x₄*x₃*x₁ - 8.62518869987832e-14*x₄*x₃*x₁^2 + 5.11386661091214e-14*x₄*x₃*x₁^3 - 1.22692274025885e-14*x₄*x₃^2*x₁ + 1.34768335870482e-13*x₄*x₃^2*x₁^2 + 9.38666178610463e-15*x₄*x₃^3*x₁ - 9.4799529078834e-14*x₄^2*x₂*x₁ + 3.77932261086237e-13*x₄^2*x₂*x₁^2 - 4.13975943686605e-13*x₄^2*x₂*x₃ + 1.3700525813234e-12*x₄^2*x₂*x₃^2 - 9.21095701876988e-14*x₄^2*x₂^2*x₁ - 1.12032770852943e-12*x₄^2*x₂^2*x₃ + 1.05213659318757e-14*x₄^2*x₃*x₁ - 5.47443718053353e-14*x₄^2*x₃*x₁^2 + 3.43610864603407e-14*x₄^2*x₃^2*x₁ + 1.80514195197623e-14*x₄^3*x₂*x₁ - 5.78615584415704e-14*x₄^3*x₂*x₃ - 4.27888180626968e-14*x₄^3*x₃*x₁ - 9.5190462535032e-16*x₄*x₂*x₃*x₁ - 6.07029905059051e-13*x₄*x₂*x₃*x₁^2 - 4.96574282170191e-14*x₄*x₂*x₃^2*x₁ - 7.54909822859419e-14*x₄*x₂^2*x₃*x₁ - 4.03931147122907e-14*x₄^2*x₂*x₃*x₁ + 2.91722511652697e-13*x₁^2 - 8.50904025593012e-15*x₁^3 + 5.9237381338658e-14*x₁^4 + 9.53707789055442e-14*x₁^5 - 8.77432753250968e-12*x₂^2 + 3.32693075298923e-11*x₂^3 + 8.66706944908731e-12*x₂^4 - 3.99900769153001e-11*x₂^5 - 9.98051552420696e-14*x₃^2 + 1.83733652108116e-13*x₃^3 + 6.8748009278151e-13*x₃^4 - 7.08806459109631e-13*x₃^5 + 3.14570784354961e-13*x₄^2 + 3.61688684619521e-13*x₄^3 - 5.46018816816969e-13*x₄^4 - 8.78601024714335e-13*x₄^5\n",
       " -8.27675156652265e-12 - 2.3704365869393e-13*x₁ + 2.32063830648111e-13*x₂ + 100.00000000001*x₃ + 25.0000000000044*x₄ - 1.63350401558655e-14*x₂*x₁ + 1.9965428473382e-13*x₂*x₁^2 - 1.98572175859076e-14*x₂*x₁^3 + 2.9123429413769e-14*x₂*x₁^4 - 1.99610310484139e-13*x₂*x₃ + 5.51200956324348e-13*x₂*x₃^2 + 2.74992037112604e-12*x₂*x₃^3 - 3.54403229554815e-12*x₂*x₃^4 - 4.74858571794318e-14*x₂^2*x₁ + 6.58507728950338e-14*x₂^2*x₁^2 + 3.3083285885672e-14*x₂^2*x₁^3 + 1.10072853072955e-11*x₂^2*x₃ - 1.57420384560015e-12*x₂^2*x₃^2 - 2.67484098615276e-11*x₂^2*x₃^3 + 4.77001568321168e-14*x₂^3*x₁ - 5.15192254849024e-14*x₂^3*x₁^2 - 1.90389974156299e-12*x₂^3*x₃ + 1.31344379389446e-12*x₂^3*x₃^2 + 5.95414627551087e-14*x₂^4*x₁ + 1.32830729383909e-12*x₂^4*x₃ + 1.95237493717e-13*x₃*x₁ - 9.1445550997829e-12*x₃*x₁^2 - 1.41863736027642e-13*x₃*x₁^3 - 2.22074499040853e-12*x₃*x₁^4 - 1.43991612207887e-13*x₃^2*x₁ + 1.20076444357332e-12*x₃^2*x₁^2 - 6.68254946464662e-13*x₃^2*x₁^3 - 1.56408982917126e-13*x₃^3*x₁ + 2.19299826231845e-11*x₃^3*x₁^2 + 1.34137421268694e-12*x₃^4*x₁ + 2.12769469668615e-14*x₄*x₁ - 2.26275996891404e-13*x₄*x₁^2 + 1.90354293588952e-14*x₄*x₁^3 + 6.93507953033405e-13*x₄*x₁^4 - 5.531747323993e-13*x₄*x₂ + 2.2454979394388e-12*x₄*x₂^2 - 1.28629711478528e-13*x₄*x₂^3 - 6.22397277929394e-13*x₄*x₂^4 - 1.25650462979333e-11*x₄*x₃ - 1.17757804882811e-11*x₄*x₃^2 + 2.30650909012933e-11*x₄*x₃^3 + 5.50389471746467e-12*x₄*x₃^4 + 3.97083291792203e-14*x₄^2*x₁ + 2.72117436532017e-14*x₄^2*x₁^2 + 1.8149561685342e-14*x₄^2*x₁^3 - 3.627147527841e-13*x₄^2*x₂ - 2.06987971843302e-13*x₄^2*x₂^2 - 3.73442569509808e-13*x₄^2*x₂^3 - 2.28590765848258e-12*x₄^2*x₃ - 4.82248368110836e-12*x₄^2*x₃^2 + 2.01702654694811e-11*x₄^2*x₃^3 + 3.02981935280619e-15*x₄^3*x₁ + 4.93802951977154e-13*x₄^3*x₁^2 + 2.32870509043247e-13*x₄^3*x₂ - 2.89307792207852e-14*x₄^3*x₂^2 + 4.23398159242503e-13*x₄^3*x₃ + 1.01195870893972e-11*x₄^3*x₃^2 - 4.01648844929339e-14*x₄^4*x₁ - 2.33966161461586e-14*x₄^4*x₂ - 1.6601045789478e-11*x₄^4*x₃ + 4.16996420170217e-14*x₂*x₃*x₁ - 1.02412923584432e-13*x₂*x₃*x₁^2 - 1.06029624776406e-13*x₂*x₃*x₁^3 - 2.14500766287137e-14*x₂*x₃^2*x₁ - 6.67026630100032e-13*x₂*x₃^2*x₁^2 + 1.33858048752908e-13*x₂*x₃^3*x₁ - 5.61673241906127e-14*x₂^2*x₃*x₁ + 2.2868313956557e-13*x₂^2*x₃*x₁^2 - 5.54256478955446e-14*x₂^2*x₃^2*x₁ - 1.71343312476531e-13*x₂^3*x₃*x₁ + 6.64593170044673e-15*x₄*x₂*x₁ - 8.62518869987832e-14*x₄*x₂*x₁^2 + 5.11386661091214e-14*x₄*x₂*x₁^3 - 5.89170079260131e-13*x₄*x₂*x₃ + 1.19382161570338e-12*x₄*x₂*x₃^2 - 2.9395426448563e-13*x₄*x₂*x₃^3 - 4.7595231267516e-16*x₄*x₂^2*x₁ - 3.03514952529525e-13*x₄*x₂^2*x₁^2 + 1.67285409035166e-13*x₄*x₂^2*x₃ - 5.48955476582343e-12*x₄*x₂^2*x₃^2 - 2.51636607619806e-14*x₄*x₂^3*x₁ - 5.52058543756653e-14*x₄*x₂^3*x₃ + 1.43727760824587e-13*x₄*x₃*x₁ - 2.90681421221181e-13*x₄*x₃*x₁^2 - 2.4073924567804e-13*x₄*x₃*x₁^3 - 8.95000351638088e-14*x₄*x₃^2*x₁ - 1.26485865463569e-12*x₄*x₃^2*x₁^2 + 2.67925369144108e-13*x₄*x₃^3*x₁ + 1.05213659318757e-14*x₄^2*x₂*x₁ - 5.47443718053353e-14*x₄^2*x₂*x₁^2 + 1.13557334227109e-12*x₄^2*x₂*x₃ + 2.52382631802016e-12*x₄^2*x₂*x₃^2 - 2.01965573561454e-14*x₄^2*x₂^2*x₁ + 1.3700525813234e-12*x₄^2*x₂^2*x₃ - 5.45170302059249e-14*x₄^2*x₃*x₁ - 3.02178020217631e-12*x₄^2*x₃*x₁^2 + 9.47839022524666e-14*x₄^2*x₃^2*x₁ - 4.27888180626968e-14*x₄^3*x₂*x₁ + 9.02229654674141e-13*x₄^3*x₂*x₃ - 1.18480840874808e-13*x₄^3*x₃*x₁ - 2.45384548051769e-14*x₄*x₂*x₃*x₁ + 2.69536671740963e-13*x₄*x₂*x₃*x₁^2 + 2.81599853583139e-14*x₄*x₂*x₃^2*x₁ - 4.96574282170191e-14*x₄*x₂^2*x₃*x₁ + 6.87221729206815e-14*x₄^2*x₂*x₃*x₁ - 5.06801687008991e-13*x₁^2 + 3.80396346247483e-13*x₁^3 + 2.62605763007166e-13*x₁^4 - 1.37016494853341e-13*x₁^5 + 8.12401592299435e-13*x₂^2 + 1.59571718345383e-13*x₂^3 - 3.24010297521162e-13*x₂^4 - 9.3542860832812e-14*x₂^5 + 7.18790007901782e-11*x₃^2 - 2624.99999999991*x₃^3 - 7.45412336025055e-11*x₃^4 + 15624.9999999998*x₃^5 - 5.74372021978721e-13*x₄^2 - 1.23758017557366e-11*x₄^3 + 1.62092149852491e-12*x₄^4 + 7.86104509228868e-12*x₄^5\n",
       " -2.9462162082528e-12 - 7.66742442553705e-14*x₁ + 1.33000607117157e-13*x₂ + 25.0000000000044*x₃ + 49.9999999999163*x₄ + 4.39049390025389e-17*x₂*x₁ - 1.60480710159935e-13*x₂*x₁^2 - 6.27623415158154e-15*x₂*x₁^3 + 2.41917926286818e-15*x₂*x₁^4 - 5.531747323993e-13*x₂*x₃ - 2.94585039630066e-13*x₂*x₃^2 + 3.97940538567793e-13*x₂*x₃^3 - 7.34885661214074e-14*x₂*x₃^4 - 8.9640348690974e-14*x₂^2*x₁ - 2.18915906398178e-14*x₂^2*x₁^2 - 3.0741118120958e-15*x₂^2*x₁^3 + 2.2454979394388e-12*x₂^2*x₃ + 8.3642704517583e-14*x₂^2*x₃^2 - 1.82985158860781e-12*x₂^2*x₃^3 + 4.02663004667034e-14*x₂^3*x₁ + 6.79512597802271e-14*x₂^3*x₁^2 - 1.28629711478528e-13*x₂^3*x₃ - 2.76029271878326e-14*x₂^3*x₃^2 + 9.01180136485278e-14*x₂^4*x₁ - 6.22397277929394e-13*x₂^4*x₃ + 2.12769469668615e-14*x₃*x₁ - 2.26275996891404e-13*x₃*x₁^2 + 1.90354293588952e-14*x₃*x₁^3 + 6.93507953033405e-13*x₃*x₁^4 + 7.18638804122936e-14*x₃^2*x₁ - 1.45340710610591e-13*x₃^2*x₁^2 - 1.2036962283902e-13*x₃^2*x₁^3 - 2.98333450546029e-14*x₃^3*x₁ - 4.21619551545229e-13*x₃^3*x₁^2 + 6.6981342286027e-14*x₃^4*x₁ + 5.18358818384107e-13*x₄*x₁ - 1.21407390814511e-11*x₄*x₁^2 - 1.69810382579202e-13*x₄*x₁^3 + 3.03630681233822e-12*x₄*x₁^4 + 6.29141568709922e-13*x₄*x₂ + 4.60556577385132e-12*x₄*x₂^2 - 9.10777093404175e-14*x₄*x₂^3 + 4.29051980624825e-12*x₄*x₂^4 - 1.14874404395744e-12*x₄*x₃ - 2.28590765848258e-12*x₄*x₃^2 - 3.21498912073891e-12*x₄*x₃^3 + 1.00851327347406e-11*x₄*x₃^4 - 6.90124694449707e-13*x₄^2*x₁ - 7.88756175777798e-12*x₄^2*x₁^2 - 3.11110116431039e-13*x₄^2*x₁^3 + 1.08506605385856e-12*x₄^2*x₂ + 1.90334414762899e-13*x₄^2*x₂^2 + 2.27046358076926e-12*x₄^2*x₂^3 - 3.71274052672098e-11*x₄^2*x₃ + 6.35097238863754e-13*x₄^2*x₃^2 + 1.01195870893972e-11*x₄^2*x₃^3 - 6.25982698356681e-13*x₄^3*x₁ + 1.9672540195591e-11*x₄^3*x₁^2 - 2.18407526726788e-12*x₄^3*x₂ - 1.44166832700297e-11*x₄^3*x₂^2 + 6.48368599409966e-12*x₄^3*x₃ - 3.3202091578956e-11*x₄^3*x₃^2 + 1.23191900053197e-12*x₄^4*x₁ - 4.39300512357167e-12*x₄^4*x₂ + 3.93052254614434e-11*x₄^4*x₃ + 6.64593170044673e-15*x₂*x₃*x₁ - 8.62518869987832e-14*x₂*x₃*x₁^2 + 5.11386661091214e-14*x₂*x₃*x₁^3 - 1.22692274025885e-14*x₂*x₃^2*x₁ + 1.34768335870482e-13*x₂*x₃^2*x₁^2 + 9.38666178610463e-15*x₂*x₃^3*x₁ - 4.7595231267516e-16*x₂^2*x₃*x₁ - 3.03514952529525e-13*x₂^2*x₃*x₁^2 - 2.48287141085095e-14*x₂^2*x₃^2*x₁ - 2.51636607619806e-14*x₂^3*x₃*x₁ - 1.84478142486208e-13*x₄*x₂*x₁ - 3.84171742353519e-14*x₄*x₂*x₁^2 - 2.52919642968513e-15*x₄*x₂*x₁^3 - 7.254295055682e-13*x₄*x₂*x₃ + 1.13557334227109e-12*x₄*x₂*x₃^2 + 1.6825508786801e-12*x₄*x₂*x₃^3 - 9.4799529078834e-14*x₄*x₂^2*x₁ + 3.77932261086237e-13*x₄*x₂^2*x₁^2 - 4.13975943686605e-13*x₄*x₂^2*x₃ + 1.3700525813234e-12*x₄*x₂^2*x₃^2 - 6.14063801251325e-14*x₄*x₂^3*x₁ - 7.46885139019617e-13*x₄*x₂^3*x₃ + 7.94166583584405e-14*x₄*x₃*x₁ + 5.44234873064034e-14*x₄*x₃*x₁^2 + 3.6299123370684e-14*x₄*x₃*x₁^3 - 5.45170302059249e-14*x₄*x₃^2*x₁ - 3.02178020217631e-12*x₄*x₃^2*x₁^2 + 6.31892681683111e-14*x₄*x₃^3*x₁ - 2.47133263814349e-14*x₄^2*x₂*x₁ + 8.68282754229989e-14*x₄^2*x₂*x₁^2 + 6.98611527129741e-13*x₄^2*x₂*x₃ + 1.35334448201121e-12*x₄^2*x₂*x₃^2 + 2.70771292796434e-14*x₄^2*x₂^2*x₁ - 8.67923376623556e-14*x₄^2*x₂^2*x₃ + 9.08945805841856e-15*x₄^2*x₃*x₁ + 1.48140885593146e-12*x₄^2*x₃*x₁^2 - 1.77721261312212e-13*x₄^2*x₃^2*x₁ + 2.91708199444581e-13*x₄^3*x₂*x₁ - 9.35864645846343e-14*x₄^3*x₂*x₃ - 1.60659537971736e-13*x₄^3*x₃*x₁ + 2.10427318637513e-14*x₄*x₂*x₃*x₁ - 1.09488743610671e-13*x₄*x₂*x₃*x₁^2 + 6.87221729206815e-14*x₄*x₂*x₃^2*x₁ - 4.03931147122907e-14*x₄*x₂^2*x₃*x₁ - 1.2836645418809e-13*x₄^2*x₂*x₃*x₁ + 2.42857442818965e-12*x₁^2 + 3.86441160424471e-13*x₁^3 - 3.1665078497903e-13*x₁^4 - 1.9178588406014e-13*x₁^5 - 6.161422709008e-14*x₂^2 + 1.41490029258009e-13*x₂^3 - 1.09566720660812e-14*x₂^4 - 6.04324546824444e-13*x₂^5 - 6.28252314896665e-12*x₃^2 - 3.92526016276035e-12*x₃^3 + 5.76627272532333e-12*x₃^4 + 1.10077894349293e-12*x₃^5 + 4.48289932144825e-11*x₄^2 + 5.07795760502203e-10*x₄^3 - 5.77614873040811e-11*x₄^4 - 5.22059414779149e-10*x₄^5"
      ]
     },
     "metadata": {},
     "output_type": "display_data"
    }
   ],
   "source": [
    "using DynamicPolynomials, HomotopyContinuation, ProgressLogging, DataFrames\n",
    "@polyvar(x[1:n]) # Define polynomial ring \n",
    "ap = main_nd(n, d, poly_approx.coeffs, x)\n",
    "# Expand the polynomial approximant to the standard monomial basis in the Lexicographic order w.r.t x. \n",
    "PolynomialApproximant = sum(Float64.(ap) .* MonomialVector(x, 0:d))\n",
    "grad = differentiate.(PolynomialApproximant, x)\n",
    "sys = System(grad)"
   ]
  },
  {
   "cell_type": "markdown",
   "metadata": {},
   "source": [
    "Now we use Optim.jl package to initialize step 3 and converge to the local minimizers.\n",
    "How do we know we have everything ? Use simple combinations of "
   ]
  },
  {
   "cell_type": "code",
   "execution_count": 7,
   "metadata": {},
   "outputs": [],
   "source": [
    "Real_sol_lstsq = HomotopyContinuation.solve(sys)\n",
    "real_pts = HomotopyContinuation.real_solutions(Real_sol_lstsq; only_real=true, multiple_results=false)"
   ]
  },
  {
   "cell_type": "markdown",
   "metadata": {},
   "source": [
    "Hasn't been modified yet.\n",
    "\n",
    "\n",
    "\n",
    "\n",
    "\n",
    "Now we want to compute the distance between the critical points of the 2d function. We want to take the tensor product of coordinates of critical points recovered from the 2D case. Add a column for minimal distance of 2 first coordinates to original critical point, same for 2nd column. \n",
    "\n",
    "The true critical points are stored in df_2d. Need to split to distance to minima first coordinate and second set of coordinates ten combine them.\n"
   ]
  },
  {
   "cell_type": "code",
   "execution_count": 26,
   "metadata": {},
   "outputs": [
    {
     "data": {
      "text/html": [
       "<div><div style = \"float: left;\"><span>25×10 DataFrame</span></div><div style = \"clear: both;\"></div></div><div class = \"data-frame\" style = \"overflow-x: scroll;\"><table class = \"data-frame\" style = \"margin-bottom: 6px;\"><thead><tr class = \"header\"><th class = \"rowNumber\" style = \"font-weight: bold; text-align: right;\">Row</th><th style = \"text-align: left;\">x</th><th style = \"text-align: left;\">y</th><th style = \"text-align: left;\">z</th><th style = \"text-align: left;\">t</th><th style = \"text-align: left;\">col</th><th style = \"text-align: left;\">val_f</th><th style = \"text-align: left;\">total_distance</th><th style = \"text-align: left;\">dist_to_loc_min</th><th style = \"text-align: left;\">steps</th><th style = \"text-align: left;\">converged</th></tr><tr class = \"subheader headerLastRow\"><th class = \"rowNumber\" style = \"font-weight: bold; text-align: right;\"></th><th title = \"Float64\" style = \"text-align: left;\">Float64</th><th title = \"Float64\" style = \"text-align: left;\">Float64</th><th title = \"Float64\" style = \"text-align: left;\">Float64</th><th title = \"Float64\" style = \"text-align: left;\">Float64</th><th title = \"Int64\" style = \"text-align: left;\">Int64</th><th title = \"Float64\" style = \"text-align: left;\">Float64</th><th title = \"Float64\" style = \"text-align: left;\">Float64</th><th title = \"Float64\" style = \"text-align: left;\">Float64</th><th title = \"Int64\" style = \"text-align: left;\">Int64</th><th title = \"Bool\" style = \"text-align: left;\">Bool</th></tr></thead><tbody><tr><td class = \"rowNumber\" style = \"font-weight: bold; text-align: right;\">1</td><td style = \"text-align: right;\">-1.74755</td><td style = \"text-align: right;\">0.873776</td><td style = \"text-align: right;\">3.93355e-13</td><td style = \"text-align: right;\">6.56749e-14</td><td style = \"text-align: right;\">6</td><td style = \"text-align: right;\">0.298638</td><td style = \"text-align: right;\">4.40152e-13</td><td style = \"text-align: right;\">0.0</td><td style = \"text-align: right;\">0</td><td style = \"text-align: right;\">true</td></tr><tr><td class = \"rowNumber\" style = \"font-weight: bold; text-align: right;\">2</td><td style = \"text-align: right;\">-1.07054</td><td style = \"text-align: right;\">0.535271</td><td style = \"text-align: right;\">3.89238e-13</td><td style = \"text-align: right;\">8.63535e-14</td><td style = \"text-align: right;\">6</td><td style = \"text-align: right;\">0.877362</td><td style = \"text-align: right;\">4.59623e-13</td><td style = \"text-align: right;\">0.0</td><td style = \"text-align: right;\">0</td><td style = \"text-align: right;\">true</td></tr><tr><td class = \"rowNumber\" style = \"font-weight: bold; text-align: right;\">3</td><td style = \"text-align: right;\">1.54971e-14</td><td style = \"text-align: right;\">-1.23198e-13</td><td style = \"text-align: right;\">3.8878e-13</td><td style = \"text-align: right;\">1.00232e-13</td><td style = \"text-align: right;\">6</td><td style = \"text-align: right;\">3.65063e-25</td><td style = \"text-align: right;\">4.64413e-13</td><td style = \"text-align: right;\">0.0</td><td style = \"text-align: right;\">0</td><td style = \"text-align: right;\">true</td></tr><tr><td class = \"rowNumber\" style = \"font-weight: bold; text-align: right;\">4</td><td style = \"text-align: right;\">1.07054</td><td style = \"text-align: right;\">-0.535271</td><td style = \"text-align: right;\">3.96089e-13</td><td style = \"text-align: right;\">8.82379e-14</td><td style = \"text-align: right;\">6</td><td style = \"text-align: right;\">0.877362</td><td style = \"text-align: right;\">5.37214e-13</td><td style = \"text-align: right;\">0.0</td><td style = \"text-align: right;\">0</td><td style = \"text-align: right;\">true</td></tr><tr><td class = \"rowNumber\" style = \"font-weight: bold; text-align: right;\">5</td><td style = \"text-align: right;\">1.74755</td><td style = \"text-align: right;\">-0.873776</td><td style = \"text-align: right;\">4.0445e-13</td><td style = \"text-align: right;\">6.66781e-14</td><td style = \"text-align: right;\">6</td><td style = \"text-align: right;\">0.298638</td><td style = \"text-align: right;\">6.59417e-13</td><td style = \"text-align: right;\">0.0</td><td style = \"text-align: right;\">0</td><td style = \"text-align: right;\">true</td></tr><tr><td class = \"rowNumber\" style = \"font-weight: bold; text-align: right;\">6</td><td style = \"text-align: right;\">1.89846e-14</td><td style = \"text-align: right;\">-1.29946e-13</td><td style = \"text-align: right;\">1.07054</td><td style = \"text-align: right;\">-0.535271</td><td style = \"text-align: right;\">6</td><td style = \"text-align: right;\">0.877362</td><td style = \"text-align: right;\">7.96295e-13</td><td style = \"text-align: right;\">0.0</td><td style = \"text-align: right;\">0</td><td style = \"text-align: right;\">true</td></tr><tr><td class = \"rowNumber\" style = \"font-weight: bold; text-align: right;\">7</td><td style = \"text-align: right;\">-1.07054</td><td style = \"text-align: right;\">0.535271</td><td style = \"text-align: right;\">1.07054</td><td style = \"text-align: right;\">-0.535271</td><td style = \"text-align: right;\">6</td><td style = \"text-align: right;\">1.75472</td><td style = \"text-align: right;\">8.08604e-13</td><td style = \"text-align: right;\">0.0</td><td style = \"text-align: right;\">0</td><td style = \"text-align: right;\">true</td></tr><tr><td class = \"rowNumber\" style = \"font-weight: bold; text-align: right;\">8</td><td style = \"text-align: right;\">-1.74755</td><td style = \"text-align: right;\">0.873776</td><td style = \"text-align: right;\">1.07054</td><td style = \"text-align: right;\">-0.535271</td><td style = \"text-align: right;\">6</td><td style = \"text-align: right;\">1.176</td><td style = \"text-align: right;\">8.09302e-13</td><td style = \"text-align: right;\">0.0</td><td style = \"text-align: right;\">0</td><td style = \"text-align: right;\">true</td></tr><tr><td class = \"rowNumber\" style = \"font-weight: bold; text-align: right;\">9</td><td style = \"text-align: right;\">1.07054</td><td style = \"text-align: right;\">-0.535271</td><td style = \"text-align: right;\">1.07054</td><td style = \"text-align: right;\">-0.535271</td><td style = \"text-align: right;\">6</td><td style = \"text-align: right;\">1.75472</td><td style = \"text-align: right;\">8.49068e-13</td><td style = \"text-align: right;\">0.0</td><td style = \"text-align: right;\">0</td><td style = \"text-align: right;\">true</td></tr><tr><td class = \"rowNumber\" style = \"font-weight: bold; text-align: right;\">10</td><td style = \"text-align: right;\">1.74755</td><td style = \"text-align: right;\">-0.873776</td><td style = \"text-align: right;\">1.07054</td><td style = \"text-align: right;\">-0.535271</td><td style = \"text-align: right;\">6</td><td style = \"text-align: right;\">1.176</td><td style = \"text-align: right;\">9.43551e-13</td><td style = \"text-align: right;\">0.0</td><td style = \"text-align: right;\">0</td><td style = \"text-align: right;\">true</td></tr><tr><td class = \"rowNumber\" style = \"font-weight: bold; text-align: right;\">11</td><td style = \"text-align: right;\">-1.74755</td><td style = \"text-align: right;\">0.873776</td><td style = \"text-align: right;\">-1.07054</td><td style = \"text-align: right;\">0.535271</td><td style = \"text-align: right;\">6</td><td style = \"text-align: right;\">1.176</td><td style = \"text-align: right;\">1.04879e-12</td><td style = \"text-align: right;\">0.0</td><td style = \"text-align: right;\">0</td><td style = \"text-align: right;\">true</td></tr><tr><td class = \"rowNumber\" style = \"font-weight: bold; text-align: right;\">12</td><td style = \"text-align: right;\">-1.07054</td><td style = \"text-align: right;\">0.535271</td><td style = \"text-align: right;\">-1.07054</td><td style = \"text-align: right;\">0.535271</td><td style = \"text-align: right;\">6</td><td style = \"text-align: right;\">1.75472</td><td style = \"text-align: right;\">1.06948e-12</td><td style = \"text-align: right;\">0.0</td><td style = \"text-align: right;\">0</td><td style = \"text-align: right;\">true</td></tr><tr><td class = \"rowNumber\" style = \"font-weight: bold; text-align: right;\">13</td><td style = \"text-align: right;\">1.19615e-14</td><td style = \"text-align: right;\">-1.19006e-13</td><td style = \"text-align: right;\">-1.07054</td><td style = \"text-align: right;\">0.535271</td><td style = \"text-align: right;\">6</td><td style = \"text-align: right;\">0.877362</td><td style = \"text-align: right;\">1.08051e-12</td><td style = \"text-align: right;\">0.0</td><td style = \"text-align: right;\">0</td><td style = \"text-align: right;\">true</td></tr><tr><td class = \"rowNumber\" style = \"font-weight: bold; text-align: right;\">14</td><td style = \"text-align: right;\">1.07054</td><td style = \"text-align: right;\">-0.535271</td><td style = \"text-align: right;\">-1.07054</td><td style = \"text-align: right;\">0.535271</td><td style = \"text-align: right;\">6</td><td style = \"text-align: right;\">1.75472</td><td style = \"text-align: right;\">1.10992e-12</td><td style = \"text-align: right;\">0.0</td><td style = \"text-align: right;\">0</td><td style = \"text-align: right;\">true</td></tr><tr><td class = \"rowNumber\" style = \"font-weight: bold; text-align: right;\">15</td><td style = \"text-align: right;\">1.74755</td><td style = \"text-align: right;\">-0.873776</td><td style = \"text-align: right;\">-1.07054</td><td style = \"text-align: right;\">0.535271</td><td style = \"text-align: right;\">6</td><td style = \"text-align: right;\">1.176</td><td style = \"text-align: right;\">1.163e-12</td><td style = \"text-align: right;\">0.0</td><td style = \"text-align: right;\">0</td><td style = \"text-align: right;\">true</td></tr><tr><td class = \"rowNumber\" style = \"font-weight: bold; text-align: right;\">16</td><td style = \"text-align: right;\">2.14315e-14</td><td style = \"text-align: right;\">-1.36495e-13</td><td style = \"text-align: right;\">1.74755</td><td style = \"text-align: right;\">-0.873776</td><td style = \"text-align: right;\">6</td><td style = \"text-align: right;\">0.298638</td><td style = \"text-align: right;\">1.34488e-12</td><td style = \"text-align: right;\">0.0</td><td style = \"text-align: right;\">0</td><td style = \"text-align: right;\">true</td></tr><tr><td class = \"rowNumber\" style = \"font-weight: bold; text-align: right;\">17</td><td style = \"text-align: right;\">-1.07054</td><td style = \"text-align: right;\">0.535271</td><td style = \"text-align: right;\">1.74755</td><td style = \"text-align: right;\">-0.873776</td><td style = \"text-align: right;\">6</td><td style = \"text-align: right;\">1.176</td><td style = \"text-align: right;\">1.36727e-12</td><td style = \"text-align: right;\">0.0</td><td style = \"text-align: right;\">0</td><td style = \"text-align: right;\">true</td></tr><tr><td class = \"rowNumber\" style = \"font-weight: bold; text-align: right;\">18</td><td style = \"text-align: right;\">-1.74755</td><td style = \"text-align: right;\">0.873776</td><td style = \"text-align: right;\">1.74755</td><td style = \"text-align: right;\">-0.873776</td><td style = \"text-align: right;\">6</td><td style = \"text-align: right;\">0.597277</td><td style = \"text-align: right;\">1.38423e-12</td><td style = \"text-align: right;\">0.0</td><td style = \"text-align: right;\">0</td><td style = \"text-align: right;\">true</td></tr><tr><td class = \"rowNumber\" style = \"font-weight: bold; text-align: right;\">19</td><td style = \"text-align: right;\">1.07054</td><td style = \"text-align: right;\">-0.535271</td><td style = \"text-align: right;\">1.74755</td><td style = \"text-align: right;\">-0.873776</td><td style = \"text-align: right;\">6</td><td style = \"text-align: right;\">1.176</td><td style = \"text-align: right;\">1.38759e-12</td><td style = \"text-align: right;\">0.0</td><td style = \"text-align: right;\">0</td><td style = \"text-align: right;\">true</td></tr><tr><td class = \"rowNumber\" style = \"font-weight: bold; text-align: right;\">20</td><td style = \"text-align: right;\">1.74755</td><td style = \"text-align: right;\">-0.873776</td><td style = \"text-align: right;\">1.74755</td><td style = \"text-align: right;\">-0.873776</td><td style = \"text-align: right;\">6</td><td style = \"text-align: right;\">0.597277</td><td style = \"text-align: right;\">1.46439e-12</td><td style = \"text-align: right;\">0.0</td><td style = \"text-align: right;\">0</td><td style = \"text-align: right;\">true</td></tr><tr><td class = \"rowNumber\" style = \"font-weight: bold; text-align: right;\">21</td><td style = \"text-align: right;\">-1.74755</td><td style = \"text-align: right;\">0.873776</td><td style = \"text-align: right;\">-1.74755</td><td style = \"text-align: right;\">0.873776</td><td style = \"text-align: right;\">6</td><td style = \"text-align: right;\">0.597277</td><td style = \"text-align: right;\">1.61844e-12</td><td style = \"text-align: right;\">0.0</td><td style = \"text-align: right;\">0</td><td style = \"text-align: right;\">true</td></tr><tr><td class = \"rowNumber\" style = \"font-weight: bold; text-align: right;\">22</td><td style = \"text-align: right;\">-1.07054</td><td style = \"text-align: right;\">0.535271</td><td style = \"text-align: right;\">-1.74755</td><td style = \"text-align: right;\">0.873776</td><td style = \"text-align: right;\">6</td><td style = \"text-align: right;\">1.176</td><td style = \"text-align: right;\">1.6289e-12</td><td style = \"text-align: right;\">0.0</td><td style = \"text-align: right;\">0</td><td style = \"text-align: right;\">true</td></tr><tr><td class = \"rowNumber\" style = \"font-weight: bold; text-align: right;\">23</td><td style = \"text-align: right;\">9.78055e-15</td><td style = \"text-align: right;\">-1.17944e-13</td><td style = \"text-align: right;\">-1.74755</td><td style = \"text-align: right;\">0.873776</td><td style = \"text-align: right;\">6</td><td style = \"text-align: right;\">0.298638</td><td style = \"text-align: right;\">1.63269e-12</td><td style = \"text-align: right;\">0.0</td><td style = \"text-align: right;\">0</td><td style = \"text-align: right;\">true</td></tr><tr><td class = \"rowNumber\" style = \"font-weight: bold; text-align: right;\">24</td><td style = \"text-align: right;\">1.07054</td><td style = \"text-align: right;\">-0.535271</td><td style = \"text-align: right;\">-1.74755</td><td style = \"text-align: right;\">0.873776</td><td style = \"text-align: right;\">6</td><td style = \"text-align: right;\">1.176</td><td style = \"text-align: right;\">1.65653e-12</td><td style = \"text-align: right;\">0.0</td><td style = \"text-align: right;\">0</td><td style = \"text-align: right;\">true</td></tr><tr><td class = \"rowNumber\" style = \"font-weight: bold; text-align: right;\">25</td><td style = \"text-align: right;\">1.74755</td><td style = \"text-align: right;\">-0.873776</td><td style = \"text-align: right;\">-1.74755</td><td style = \"text-align: right;\">0.873776</td><td style = \"text-align: right;\">6</td><td style = \"text-align: right;\">0.597277</td><td style = \"text-align: right;\">1.69575e-12</td><td style = \"text-align: right;\">0.0</td><td style = \"text-align: right;\">0</td><td style = \"text-align: right;\">true</td></tr></tbody></table></div>"
      ],
      "text/latex": [
       "\\begin{tabular}{r|cccccccc}\n",
       "\t& x & y & z & t & col & val\\_f & total\\_distance & \\\\\n",
       "\t\\hline\n",
       "\t& Float64 & Float64 & Float64 & Float64 & Int64 & Float64 & Float64 & \\\\\n",
       "\t\\hline\n",
       "\t1 & -1.74755 & 0.873776 & 3.93355e-13 & 6.56749e-14 & 6 & 0.298638 & 4.40152e-13 & $\\dots$ \\\\\n",
       "\t2 & -1.07054 & 0.535271 & 3.89238e-13 & 8.63535e-14 & 6 & 0.877362 & 4.59623e-13 & $\\dots$ \\\\\n",
       "\t3 & 1.54971e-14 & -1.23198e-13 & 3.8878e-13 & 1.00232e-13 & 6 & 3.65063e-25 & 4.64413e-13 & $\\dots$ \\\\\n",
       "\t4 & 1.07054 & -0.535271 & 3.96089e-13 & 8.82379e-14 & 6 & 0.877362 & 5.37214e-13 & $\\dots$ \\\\\n",
       "\t5 & 1.74755 & -0.873776 & 4.0445e-13 & 6.66781e-14 & 6 & 0.298638 & 6.59417e-13 & $\\dots$ \\\\\n",
       "\t6 & 1.89846e-14 & -1.29946e-13 & 1.07054 & -0.535271 & 6 & 0.877362 & 7.96295e-13 & $\\dots$ \\\\\n",
       "\t7 & -1.07054 & 0.535271 & 1.07054 & -0.535271 & 6 & 1.75472 & 8.08604e-13 & $\\dots$ \\\\\n",
       "\t8 & -1.74755 & 0.873776 & 1.07054 & -0.535271 & 6 & 1.176 & 8.09302e-13 & $\\dots$ \\\\\n",
       "\t9 & 1.07054 & -0.535271 & 1.07054 & -0.535271 & 6 & 1.75472 & 8.49068e-13 & $\\dots$ \\\\\n",
       "\t10 & 1.74755 & -0.873776 & 1.07054 & -0.535271 & 6 & 1.176 & 9.43551e-13 & $\\dots$ \\\\\n",
       "\t11 & -1.74755 & 0.873776 & -1.07054 & 0.535271 & 6 & 1.176 & 1.04879e-12 & $\\dots$ \\\\\n",
       "\t12 & -1.07054 & 0.535271 & -1.07054 & 0.535271 & 6 & 1.75472 & 1.06948e-12 & $\\dots$ \\\\\n",
       "\t13 & 1.19615e-14 & -1.19006e-13 & -1.07054 & 0.535271 & 6 & 0.877362 & 1.08051e-12 & $\\dots$ \\\\\n",
       "\t14 & 1.07054 & -0.535271 & -1.07054 & 0.535271 & 6 & 1.75472 & 1.10992e-12 & $\\dots$ \\\\\n",
       "\t15 & 1.74755 & -0.873776 & -1.07054 & 0.535271 & 6 & 1.176 & 1.163e-12 & $\\dots$ \\\\\n",
       "\t16 & 2.14315e-14 & -1.36495e-13 & 1.74755 & -0.873776 & 6 & 0.298638 & 1.34488e-12 & $\\dots$ \\\\\n",
       "\t17 & -1.07054 & 0.535271 & 1.74755 & -0.873776 & 6 & 1.176 & 1.36727e-12 & $\\dots$ \\\\\n",
       "\t18 & -1.74755 & 0.873776 & 1.74755 & -0.873776 & 6 & 0.597277 & 1.38423e-12 & $\\dots$ \\\\\n",
       "\t19 & 1.07054 & -0.535271 & 1.74755 & -0.873776 & 6 & 1.176 & 1.38759e-12 & $\\dots$ \\\\\n",
       "\t20 & 1.74755 & -0.873776 & 1.74755 & -0.873776 & 6 & 0.597277 & 1.46439e-12 & $\\dots$ \\\\\n",
       "\t21 & -1.74755 & 0.873776 & -1.74755 & 0.873776 & 6 & 0.597277 & 1.61844e-12 & $\\dots$ \\\\\n",
       "\t22 & -1.07054 & 0.535271 & -1.74755 & 0.873776 & 6 & 1.176 & 1.6289e-12 & $\\dots$ \\\\\n",
       "\t23 & 9.78055e-15 & -1.17944e-13 & -1.74755 & 0.873776 & 6 & 0.298638 & 1.63269e-12 & $\\dots$ \\\\\n",
       "\t24 & 1.07054 & -0.535271 & -1.74755 & 0.873776 & 6 & 1.176 & 1.65653e-12 & $\\dots$ \\\\\n",
       "\t$\\dots$ & $\\dots$ & $\\dots$ & $\\dots$ & $\\dots$ & $\\dots$ & $\\dots$ & $\\dots$ &  \\\\\n",
       "\\end{tabular}\n"
      ],
      "text/plain": [
       "\u001b[1m25×10 DataFrame\u001b[0m\n",
       "\u001b[1m Row \u001b[0m│\u001b[1m x            \u001b[0m\u001b[1m y            \u001b[0m\u001b[1m z            \u001b[0m\u001b[1m t            \u001b[0m\u001b[1m col   \u001b[0m\u001b[1m val_f   \u001b[0m ⋯\n",
       "     │\u001b[90m Float64      \u001b[0m\u001b[90m Float64      \u001b[0m\u001b[90m Float64      \u001b[0m\u001b[90m Float64      \u001b[0m\u001b[90m Int64 \u001b[0m\u001b[90m Float64 \u001b[0m ⋯\n",
       "─────┼──────────────────────────────────────────────────────────────────────────\n",
       "   1 │ -1.74755       0.873776      3.93355e-13   6.56749e-14      6  0.298638 ⋯\n",
       "   2 │ -1.07054       0.535271      3.89238e-13   8.63535e-14      6  0.877362\n",
       "   3 │  1.54971e-14  -1.23198e-13   3.8878e-13    1.00232e-13      6  3.65063e\n",
       "   4 │  1.07054      -0.535271      3.96089e-13   8.82379e-14      6  0.877362\n",
       "   5 │  1.74755      -0.873776      4.0445e-13    6.66781e-14      6  0.298638 ⋯\n",
       "   6 │  1.89846e-14  -1.29946e-13   1.07054      -0.535271         6  0.877362\n",
       "   7 │ -1.07054       0.535271      1.07054      -0.535271         6  1.75472\n",
       "   8 │ -1.74755       0.873776      1.07054      -0.535271         6  1.176\n",
       "  ⋮  │      ⋮             ⋮             ⋮             ⋮          ⋮         ⋮   ⋱\n",
       "  19 │  1.07054      -0.535271      1.74755      -0.873776         6  1.176    ⋯\n",
       "  20 │  1.74755      -0.873776      1.74755      -0.873776         6  0.597277\n",
       "  21 │ -1.74755       0.873776     -1.74755       0.873776         6  0.597277\n",
       "  22 │ -1.07054       0.535271     -1.74755       0.873776         6  1.176\n",
       "  23 │  9.78055e-15  -1.17944e-13  -1.74755       0.873776         6  0.298638 ⋯\n",
       "  24 │  1.07054      -0.535271     -1.74755       0.873776         6  1.176\n",
       "  25 │  1.74755      -0.873776     -1.74755       0.873776         6  0.597277\n",
       "\u001b[36m                                                   5 columns and 10 rows omitted\u001b[0m"
      ]
     },
     "metadata": {},
     "output_type": "display_data"
    }
   ],
   "source": [
    "for i in 1:nrow(df)\n",
    "    distances_1 = [norm([df.x[i], df.y[i]] - [df_2d.x[j], df_2d.y[j]]) for j in 1:nrow(df_2d)]\n",
    "    distances_2 = [norm([df.z[i], df.t[i]] - [df_2d.x[j], df_2d.y[j]]) for j in 1:nrow(df_2d)]\n",
    "    min_value_1, min_index_1 = findmin(distances_1)\n",
    "    min_value_2, min_index_2 = findmin(distances_2)    \n",
    "    df.total_distance[i] = norm([df.x[i], df.y[i], df.z[i], df.t[i]] - [df_2d.x[min_index_1], df_2d.y[min_index_1], df_2d.x[min_index_2], df_2d.y[min_index_2]])\n",
    "end\n",
    "sorted_df = sort(df, :total_distance)"
   ]
  },
  {
   "cell_type": "code",
   "execution_count": 28,
   "metadata": {},
   "outputs": [
    {
     "name": "stdout",
     "output_type": "stream",
     "text": [
      "\u001b[1m25×10 DataFrame\u001b[0m\n",
      "\u001b[1m Row \u001b[0m│\u001b[1m x            \u001b[0m\u001b[1m y            \u001b[0m\u001b[1m z            \u001b[0m\u001b[1m t            \u001b[0m\u001b[1m col   \u001b[0m\u001b[1m val_f       \u001b[0m\u001b[1m total_distance \u001b[0m\u001b[1m dist_to_loc_min \u001b[0m\u001b[1m steps \u001b[0m\u001b[1m converged \u001b[0m\n",
      "     │\u001b[90m Float64      \u001b[0m\u001b[90m Float64      \u001b[0m\u001b[90m Float64      \u001b[0m\u001b[90m Float64      \u001b[0m\u001b[90m Int64 \u001b[0m\u001b[90m Float64     \u001b[0m\u001b[90m Float64        \u001b[0m\u001b[90m Float64         \u001b[0m\u001b[90m Int64 \u001b[0m\u001b[90m Bool      \u001b[0m\n",
      "─────┼───────────────────────────────────────────────────────────────────────────────────────────────────────────────────────────────\n",
      "   1 │  1.54971e-14  -1.23198e-13   3.8878e-13    1.00232e-13      6  3.65063e-25     4.64413e-13              0.0      0       true\n",
      "   2 │  2.14315e-14  -1.36495e-13   1.74755      -0.873776         6  0.298638        1.34488e-12              0.0      0       true\n",
      "   3 │ -1.74755       0.873776      3.93355e-13   6.56749e-14      6  0.298638        4.40152e-13              0.0      0       true\n",
      "   4 │  9.78055e-15  -1.17944e-13  -1.74755       0.873776         6  0.298638        1.63269e-12              0.0      0       true\n",
      "   5 │  1.74755      -0.873776      4.0445e-13    6.66781e-14      6  0.298638        6.59417e-13              0.0      0       true\n",
      "   6 │ -1.74755       0.873776     -1.74755       0.873776         6  0.597277        1.61844e-12              0.0      0       true\n",
      "   7 │ -1.74755       0.873776      1.74755      -0.873776         6  0.597277        1.38423e-12              0.0      0       true\n",
      "   8 │  1.74755      -0.873776      1.74755      -0.873776         6  0.597277        1.46439e-12              0.0      0       true\n",
      "   9 │  1.74755      -0.873776     -1.74755       0.873776         6  0.597277        1.69575e-12              0.0      0       true\n",
      "  10 │  1.89846e-14  -1.29946e-13   1.07054      -0.535271         6  0.877362        7.96295e-13              0.0      0       true\n",
      "  11 │  1.07054      -0.535271      3.96089e-13   8.82379e-14      6  0.877362        5.37214e-13              0.0      0       true\n",
      "  12 │ -1.07054       0.535271      3.89238e-13   8.63535e-14      6  0.877362        4.59623e-13              0.0      0       true\n",
      "  13 │  1.19615e-14  -1.19006e-13  -1.07054       0.535271         6  0.877362        1.08051e-12              0.0      0       true\n",
      "  14 │ -1.07054       0.535271     -1.74755       0.873776         6  1.176           1.6289e-12               0.0      0       true\n",
      "  15 │  1.74755      -0.873776      1.07054      -0.535271         6  1.176           9.43551e-13              0.0      0       true\n",
      "  16 │ -1.74755       0.873776     -1.07054       0.535271         6  1.176           1.04879e-12              0.0      0       true\n",
      "  17 │ -1.74755       0.873776      1.07054      -0.535271         6  1.176           8.09302e-13              0.0      0       true\n",
      "  18 │ -1.07054       0.535271      1.74755      -0.873776         6  1.176           1.36727e-12              0.0      0       true\n",
      "  19 │  1.07054      -0.535271      1.74755      -0.873776         6  1.176           1.38759e-12              0.0      0       true\n",
      "  20 │  1.07054      -0.535271     -1.74755       0.873776         6  1.176           1.65653e-12              0.0      0       true\n",
      "  21 │  1.74755      -0.873776     -1.07054       0.535271         6  1.176           1.163e-12                0.0      0       true\n",
      "  22 │  1.07054      -0.535271     -1.07054       0.535271         6  1.75472         1.10992e-12              0.0      0       true\n",
      "  23 │  1.07054      -0.535271      1.07054      -0.535271         6  1.75472         8.49068e-13              0.0      0       true\n",
      "  24 │ -1.07054       0.535271      1.07054      -0.535271         6  1.75472         8.08604e-13              0.0      0       true\n",
      "  25 │ -1.07054       0.535271     -1.07054       0.535271         6  1.75472         1.06948e-12              0.0      0       true\n"
     ]
    }
   ],
   "source": [
    "using LinearAlgebra\n",
    "# Precompute df_2d coordinates\n",
    "df_2d_coords = [df_2d.x df_2d.y]\n",
    "\n",
    "# Create new columns for results\n",
    "df.total_distance = Vector{Float64}(undef, nrow(df))\n",
    "\n",
    "for i in 1:nrow(df)\n",
    "    # Current coordinates\n",
    "    coords_1 = [df.x[i], df.y[i]]\n",
    "    coords_2 = [df.z[i], df.t[i]]\n",
    "\n",
    "    # Compute distances to all points in df_2d\n",
    "    distances_1 = vec(norm.(eachrow(df_2d_coords .- coords_1')))\n",
    "    distances_2 = vec(norm.(eachrow(df_2d_coords .- coords_2')))\n",
    "\n",
    "    # Find minimum distances and corresponding indices\n",
    "    min_value_1, min_index_1 = findmin(distances_1)\n",
    "    min_value_2, min_index_2 = findmin(distances_2)\n",
    "\n",
    "    # Compute total distance\n",
    "    min_coords_1 = df_2d_coords[min_index_1, :]\n",
    "    min_coords_2 = df_2d_coords[min_index_2, :]\n",
    "    df.total_distance[i] = norm([df.x[i], df.y[i], df.z[i], df.t[i]] - [min_coords_1; min_coords_2])\n",
    "end\n",
    "\n",
    "# Display the dataframe\n",
    "sorted_df = sort(df, :val_f)\n",
    "println(sorted_df)"
   ]
  },
  {
   "cell_type": "code",
   "execution_count": 21,
   "metadata": {},
   "outputs": [
    {
     "name": "stdout",
     "output_type": "stream",
     "text": [
      "Iter     Function value   Gradient norm \n",
      "     0     5.972769e-01     1.164545e-09\n",
      " * time: 5.984306335449219e-5\n",
      "Iter     Function value   Gradient norm \n",
      "     0     1.176000e+00     1.279950e-09\n",
      " * time: 5.507469177246094e-5\n",
      "Iter     Function value   Gradient norm \n",
      "     0     1.176000e+00     1.154054e-09\n",
      " * time: 2.5987625122070312e-5\n",
      "Iter     Function value   Gradient norm \n",
      "     0     1.754723e+00     3.425229e-11\n",
      " * time: 3.1948089599609375e-5\n",
      "Iter     Function value   Gradient norm \n",
      "     0     1.754723e+00     3.425229e-11\n",
      " * time: 2.4080276489257812e-5\n",
      "Iter     Function value   Gradient norm \n",
      "     0     1.176000e+00     1.154054e-09\n",
      " * time: 2.384185791015625e-5\n",
      "Iter     Function value   Gradient norm \n",
      "     0     8.773616e-01     1.712615e-11\n",
      " * time: 1.7881393432617188e-5\n",
      "Iter     Function value   Gradient norm \n",
      "     0     5.972769e-01     1.196019e-09\n",
      " * time: 2.193450927734375e-5\n",
      "Iter     Function value   Gradient norm \n",
      "     0     1.176000e+00     1.154054e-09\n",
      " * time: 1.811981201171875e-5\n",
      "Iter     Function value   Gradient norm \n",
      "     0     3.650626e-25     1.655350e-12\n",
      " * time: 2.2172927856445312e-5\n",
      "Iter     Function value   Gradient norm \n",
      "     0     2.986384e-01     1.206511e-09\n",
      " * time: 2.09808349609375e-5\n",
      "Iter     Function value   Gradient norm \n",
      "     0     2.986384e-01     1.164545e-09\n",
      " * time: 2.09808349609375e-5\n",
      "Iter     Function value   Gradient norm \n",
      "     0     2.986384e-01     1.237985e-09\n",
      " * time: 2.193450927734375e-5\n",
      "Iter     Function value   Gradient norm \n",
      "     0     5.972769e-01     1.196019e-09\n",
      " * time: 2.09808349609375e-5\n",
      "Iter     Function value   Gradient norm \n",
      "     0     2.986384e-01     1.112088e-09\n",
      " * time: 2.6941299438476562e-5\n",
      "Iter     Function value   Gradient norm \n",
      "     0     1.176000e+00     1.206511e-09\n",
      " * time: 2.4080276489257812e-5\n",
      "Iter     Function value   Gradient norm \n",
      "     0     8.773616e-01     2.568922e-11\n",
      " * time: 2.2172927856445312e-5\n",
      "Iter     Function value   Gradient norm \n",
      "     0     1.176000e+00     1.196019e-09\n",
      " * time: 1.2874603271484375e-5\n",
      "Iter     Function value   Gradient norm \n",
      "     0     5.972769e-01     1.237985e-09\n",
      " * time: 1.3113021850585938e-5\n",
      "Iter     Function value   Gradient norm \n",
      "     0     1.754723e+00     3.425229e-11\n",
      " * time: 1.1920928955078125e-5\n",
      "Iter     Function value   Gradient norm \n",
      "     0     1.176000e+00     1.154054e-09\n",
      " * time: 1.3113021850585938e-5\n",
      "Iter     Function value   Gradient norm \n",
      "     0     8.773616e-01     2.568922e-11\n",
      " * time: 1.9073486328125e-5\n",
      "Iter     Function value   Gradient norm \n",
      "     0     8.773616e-01     9.167132e-12\n",
      " * time: 1.5020370483398438e-5\n",
      "Iter     Function value   Gradient norm \n",
      "     0     1.176000e+00     1.112088e-09\n",
      " * time: 1.5020370483398438e-5\n",
      "Iter     Function value   Gradient norm \n",
      "     0     1.754723e+00     0.000000e+00\n",
      " * time: 1.6927719116210938e-5\n",
      "\u001b[1m25×10 DataFrame\u001b[0m\n",
      "\u001b[1m Row \u001b[0m│\u001b[1m x            \u001b[0m\u001b[1m y            \u001b[0m\u001b[1m z            \u001b[0m\u001b[1m t            \u001b[0m\u001b[1m col   \u001b[0m\u001b[1m val_f       \u001b[0m\u001b[1m total_distance \u001b[0m\u001b[1m dist_to_loc_min \u001b[0m\u001b[1m steps \u001b[0m\u001b[1m converged \u001b[0m\n",
      "     │\u001b[90m Float64      \u001b[0m\u001b[90m Float64      \u001b[0m\u001b[90m Float64      \u001b[0m\u001b[90m Float64      \u001b[0m\u001b[90m Int64 \u001b[0m\u001b[90m Float64     \u001b[0m\u001b[90m Float64        \u001b[0m\u001b[90m Float64         \u001b[0m\u001b[90m Int64 \u001b[0m\u001b[90m Bool      \u001b[0m\n",
      "─────┼───────────────────────────────────────────────────────────────────────────────────────────────────────────────────────────────\n",
      "   1 │  1.74755      -0.873776      1.74755      -0.873776         6  0.597277        1.46439e-12              0.0      0       true\n",
      "   2 │ -1.74755       0.873776     -1.07054       0.535271         6  1.176           1.04879e-12              0.0      0       true\n",
      "   3 │  1.07054      -0.535271     -1.74755       0.873776         6  1.176           1.65653e-12              0.0      0       true\n",
      "   4 │ -1.07054       0.535271      1.07054      -0.535271         6  1.75472         8.08604e-13              0.0      0       true\n",
      "   5 │  1.07054      -0.535271     -1.07054       0.535271         6  1.75472         1.10992e-12              0.0      0       true\n",
      "   6 │ -1.07054       0.535271      1.74755      -0.873776         6  1.176           1.36727e-12              0.0      0       true\n",
      "   7 │ -1.07054       0.535271      3.89238e-13   8.63535e-14      6  0.877362        4.59623e-13              0.0      0       true\n",
      "   8 │  1.74755      -0.873776     -1.74755       0.873776         6  0.597277        1.69575e-12              0.0      0       true\n",
      "   9 │ -1.07054       0.535271     -1.74755       0.873776         6  1.176           1.6289e-12               0.0      0       true\n",
      "  10 │  1.54971e-14  -1.23198e-13   3.8878e-13    1.00232e-13      6  3.65063e-25     4.64413e-13              0.0      0       true\n",
      "  11 │  9.78055e-15  -1.17944e-13  -1.74755       0.873776         6  0.298638        1.63269e-12              0.0      0       true\n",
      "  12 │ -1.74755       0.873776      3.93355e-13   6.56749e-14      6  0.298638        4.40152e-13              0.0      0       true\n",
      "  13 │  2.14315e-14  -1.36495e-13   1.74755      -0.873776         6  0.298638        1.34488e-12              0.0      0       true\n",
      "  14 │ -1.74755       0.873776     -1.74755       0.873776         6  0.597277        1.61844e-12              0.0      0       true\n",
      "  15 │  1.74755      -0.873776      4.0445e-13    6.66781e-14      6  0.298638        6.59417e-13              0.0      0       true\n",
      "  16 │  1.07054      -0.535271      1.74755      -0.873776         6  1.176           1.38759e-12              0.0      0       true\n",
      "  17 │  1.89846e-14  -1.29946e-13   1.07054      -0.535271         6  0.877362        7.96295e-13              0.0      0       true\n",
      "  18 │  1.74755      -0.873776     -1.07054       0.535271         6  1.176           1.163e-12                0.0      0       true\n",
      "  19 │ -1.74755       0.873776      1.74755      -0.873776         6  0.597277        1.38423e-12              0.0      0       true\n",
      "  20 │  1.07054      -0.535271      1.07054      -0.535271         6  1.75472         8.49068e-13              0.0      0       true\n",
      "  21 │ -1.74755       0.873776      1.07054      -0.535271         6  1.176           8.09302e-13              0.0      0       true\n",
      "  22 │  1.07054      -0.535271      3.96089e-13   8.82379e-14      6  0.877362        5.37214e-13              0.0      0       true\n",
      "  23 │  1.19615e-14  -1.19006e-13  -1.07054       0.535271         6  0.877362        1.08051e-12              0.0      0       true\n",
      "  24 │  1.74755      -0.873776      1.07054      -0.535271         6  1.176           9.43551e-13              0.0      0       true\n",
      "  25 │ -1.07054       0.535271     -1.07054       0.535271         6  1.75472         1.06948e-12              0.0      0       true"
     ]
    }
   ],
   "source": [
    "for i in 1:nrow(df)\n",
    "    # println(\"Optimizing for point $i\")\n",
    "    x0 = [df.x[i], df.y[i], df.z[i], df.t[i]]\n",
    "    #  + 0.2 * randn(Float64, 4)\n",
    "    res = Optim.optimize(f, x0, LBFGS(), Optim.Options(show_trace=true))\n",
    "    minimizer = Optim.minimizer(res)\n",
    "    min_value = Optim.minimum(res)\n",
    "    steps = res.iterations\n",
    "    converged = Optim.converged(res)\n",
    "    distance = norm(x0 - minimizer)\n",
    "    df.dist_to_loc_min[i] = distance\n",
    "    df.steps[i] = steps\n",
    "    df.converged[i] = converged\n",
    "    # summary(res)\n",
    "end\n",
    "print(df)"
   ]
  }
 ],
 "metadata": {
  "kernelspec": {
   "display_name": "Julia 1.10.4",
   "language": "julia",
   "name": "julia-1.10"
  },
  "language_info": {
   "file_extension": ".jl",
   "mimetype": "application/julia",
   "name": "julia",
   "version": "1.10.4"
  }
 },
 "nbformat": 4,
 "nbformat_minor": 2
}
