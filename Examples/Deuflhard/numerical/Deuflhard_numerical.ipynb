{
 "cells": [
  {
   "cell_type": "markdown",
   "metadata": {},
   "source": [
    "What we need is a small parcel to work on, with a nice contourplot with critical points and minima found after initiating local method and then a 3d plot. "
   ]
  },
  {
   "cell_type": "code",
   "execution_count": null,
   "metadata": {},
   "outputs": [],
   "source": [
    "using Pkg\n",
    "Pkg.activate(\"../../../\")\n",
    "Pkg.instantiate()\n",
    "using Globtim\n",
    "\n",
    "# Constants and Parameters\n",
    "d = 1 # Initial Degree \n",
    "const n, a, b = 2, 11, 10 \n",
    "const scale_factor = a / b       # Scaling factor appears in `main_computation`, maybe it should be a parameter.\n",
    "const delta, alpha = .5 , 1 / 10  # Sampling parameters # Delta used to be too big \n",
    "const tol_l2 = 1e-4            # Define the tolerance for the L2-norm\n",
    "const sample_scale = 1.0\n",
    "\n",
    "f = Deuflhard # Objective function"
   ]
  },
  {
   "cell_type": "markdown",
   "metadata": {},
   "source": [
    "One may assume that when we have access to exact evaluations, we would want to have a small $L^2$-norm tolerance `tol_l2 = 5e-4` and high probability of computing an accurate discrete $L^2$-norm `alpha= 1/10`.\n",
    "\n",
    "We need to also return the number of samples used to generate the sample set. It is annoying that the error goes up while the degree has increased."
   ]
  },
  {
   "cell_type": "code",
   "execution_count": null,
   "metadata": {},
   "outputs": [],
   "source": [
    "while true # Potential infinite loop\n",
    "    global poly_approx = MainGenerate(f, 2, d, delta, alpha, scale_factor, sample_scale) # computes the approximant in Chebyshev basis\n",
    "    if poly_approx.nrm < tol_l2\n",
    "        println(\"attained the desired L2-norm: \", poly_approx.nrm)\n",
    "        println(\"Degree :$d \")\n",
    "        break\n",
    "    else\n",
    "        println(\"current L2-norm: \", poly_approx.nrm)\n",
    "        println(\"Number of samples: \", poly_approx.N)\n",
    "        global d += 1\n",
    "    end\n",
    "end\n",
    "println(\"current L2-norm: \", poly_approx.nrm)\n",
    "println(\"Number of samples: \", poly_approx.N)"
   ]
  },
  {
   "cell_type": "markdown",
   "metadata": {},
   "source": [
    "We check the distribution of the magnitudes of the coefficients of the approximant"
   ]
  },
  {
   "cell_type": "code",
   "execution_count": null,
   "metadata": {},
   "outputs": [],
   "source": [
    "using Plots \n",
    "Plots.histogram(abs.(poly_approx.coeffs))"
   ]
  },
  {
   "cell_type": "markdown",
   "metadata": {},
   "source": [
    "We now expand the approximant computed in the tensorized Chebyshev basis into standard monomial basis and construct the system of partials for homotopy continuation. "
   ]
  },
  {
   "cell_type": "code",
   "execution_count": null,
   "metadata": {},
   "outputs": [],
   "source": [
    "using DynamicPolynomials, HomotopyContinuation, ProgressLogging, DataFrames\n",
    "@polyvar(x[1:n]) # Define polynomial ring \n",
    "ap = main_nd(n, d, poly_approx.coeffs)\n",
    "# Expand the polynomial approximant to the standard monomial basis in the Lexicographic order w.r.t x. \n",
    "PolynomialApproximant = sum(Float64.(ap) .* MonomialVector(x, 0:d)) # Convert coefficients to Float64 for homotopy continuation\n",
    "grad = differentiate.(PolynomialApproximant, x)\n",
    "sys = System(grad)"
   ]
  },
  {
   "cell_type": "markdown",
   "metadata": {},
   "source": [
    "Solve the system of partial derivatives using HomotopyContinuation. The coefficients have to be Float64. "
   ]
  },
  {
   "cell_type": "code",
   "execution_count": null,
   "metadata": {},
   "outputs": [],
   "source": [
    "Real_sol_lstsq = HomotopyContinuation.solve(sys)\n",
    "real_pts = HomotopyContinuation.real_solutions(Real_sol_lstsq; only_real=true, multiple_results=false)"
   ]
  },
  {
   "cell_type": "markdown",
   "metadata": {},
   "source": [
    "Sort through the critical points, make sure they fall into the domain of definition. Make them into a Dataframe."
   ]
  },
  {
   "cell_type": "code",
   "execution_count": 6,
   "metadata": {},
   "outputs": [],
   "source": [
    "condition(point) = -1 < point[1] < 1 && -1 < point[2] < 1\n",
    "filtered_points = filter(condition, real_pts) # Filter points using the filter function\n",
    "# Colllect the critical points of the approximant \n",
    "h_x = Float64[point[1] for point in filtered_points] # Initialize the x vector for critical points of approximant\n",
    "h_y = Float64[point[2] for point in filtered_points] # Initialize the y vector\n",
    "h_z = map(p -> f([p[1], p[2]]), zip(scale_factor * h_x, scale_factor * h_y))\n",
    "df = DataFrame(x=scale_factor * h_x, y=scale_factor * h_y, z= h_z); # Create a DataFrame"
   ]
  },
  {
   "cell_type": "markdown",
   "metadata": {},
   "source": [
    "We proceed to generate the plot of the critical points over the sample set $\\mathcal{S}$."
   ]
  },
  {
   "cell_type": "code",
   "execution_count": null,
   "metadata": {},
   "outputs": [],
   "source": [
    "using PlotlyJS, Colors\n",
    "\n",
    "coords = poly_approx.scale_factor * poly_approx.grid # Extract coordinates and function values\n",
    "z_coords = poly_approx.z\n",
    "\n",
    "if size(coords)[2] == 2 # Plot the 3D scatter plot if the dimensions are 2\n",
    "    scatter_trace = PlotlyJS.scatter3d(\n",
    "        x=coords[:, 1],\n",
    "        y=coords[:, 2],\n",
    "        z=z_coords,\n",
    "        mode=\"markers\",\n",
    "        marker=attr(\n",
    "            size=1,\n",
    "            color=z_coords,\n",
    "            colorscale=\"Viridis\"\n",
    "        ),\n",
    "        name=\"Sampled Data\"\n",
    "    )\n",
    "\n",
    "    # Create the scatter3d trace\n",
    "    # Had to switch the coordinates of the critical points to match the surface plot for some reason. \n",
    "    crit_pts = PlotlyJS.scatter3d(\n",
    "        x=df.y,\n",
    "        y=df.x,\n",
    "        z=df.z,\n",
    "        mode=\"markers\",\n",
    "        marker=attr(\n",
    "            size=10,\n",
    "            color=\"red\"\n",
    "        ),\n",
    "        name=\"Exact approximant critical points\"\n",
    "    )\n",
    "\n",
    "    layout = Layout(\n",
    "        title=\"Deuflhard Sample Points\",\n",
    "        scene=attr(\n",
    "            xaxis=attr(title=\"X-axis\"),\n",
    "            yaxis=attr(title=\"Y-axis\"),\n",
    "            zaxis=attr(title=\"Z-axis\")),\n",
    "        height=1200\n",
    "    )\n",
    "    plt1 = Plot([scatter_trace, crit_pts],layout)\n",
    "end\n"
   ]
  },
  {
   "cell_type": "code",
   "execution_count": null,
   "metadata": {},
   "outputs": [],
   "source": [
    "println(\"Degree: $d\")\n",
    "println(\"current L2-norm: \", poly_approx.nrm)\n",
    "println(\"Number of samples: \", poly_approx.N)\n",
    "# savefig(plt1, \"../../data/figures/Deuflhard/Exact_Deuflhard/3d_Deuflhard.html\")"
   ]
  }
 ],
 "metadata": {
  "kernelspec": {
   "display_name": "Julia 1.10.5",
   "language": "julia",
   "name": "julia-1.10"
  },
  "language_info": {
   "file_extension": ".jl",
   "mimetype": "application/julia",
   "name": "julia",
   "version": "1.10.5"
  }
 },
 "nbformat": 4,
 "nbformat_minor": 2
}
