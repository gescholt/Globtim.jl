{
 "cells": [
  {
   "cell_type": "markdown",
   "metadata": {},
   "source": [
    "Holder Table Function \n",
    "=====================\n"
   ]
  },
  {
   "cell_type": "code",
   "execution_count": 11,
   "metadata": {},
   "outputs": [
    {
     "name": "stderr",
     "output_type": "stream",
     "text": [
      "\u001b[32m\u001b[1m  Activating\u001b[22m\u001b[39m project at `~/Globtim.jl`\n"
     ]
    },
    {
     "data": {
      "text/plain": [
       "HolderTable (generic function with 1 method)"
      ]
     },
     "metadata": {},
     "output_type": "display_data"
    }
   ],
   "source": [
    "using Pkg\n",
    "Pkg.activate(\"../../.\")\n",
    "using Globtim\n",
    "# include(\"../../../src/lib_func.jl\") # Include the library of functions\n",
    "\n",
    "# Constants and Parameters\n",
    "d = 2 # Initial Degree \n",
    "const n, a, b = 2, 10, 1 \n",
    "const scale_factor = a / b       # Scaling factor appears in `main_computation`, maybe it should be a parameter.\n",
    "const delta, alpha = .5 , 1 / 10  # Sampling parameters\n",
    "const tol_l2 = 1.5e-2            # Define the tolerance for the L2-norm\n",
    "\n",
    "f = HolderTable # Objective function"
   ]
  },
  {
   "cell_type": "code",
   "execution_count": 12,
   "metadata": {},
   "outputs": [
    {
     "name": "stdout",
     "output_type": "stream",
     "text": [
      "current L2-norm: 0.3225768101075613\n",
      "Number of samples: 8\n",
      "Current degree: 2\n",
      "current L2-norm: 0.34164522984081835\n",
      "Number of samples: 12\n",
      "Current degree: 3\n",
      "current L2-norm: 0.15420669778631205\n",
      "Number of samples: 17\n",
      "Current degree: 4\n",
      "current L2-norm: 0.16150972067976094\n",
      "Number of samples: 22\n",
      "Current degree: 5\n",
      "current L2-norm: 0.10982203454764894\n",
      "Number of samples: 28\n",
      "Current degree: 6\n",
      "current L2-norm: 0.09002980177601799\n",
      "Number of samples: 34\n",
      "Current degree: 7\n",
      "current L2-norm: 0.07219154289178054\n",
      "Number of samples: 41\n",
      "Current degree: 8\n",
      "current L2-norm: 0.061872080671082644\n",
      "Number of samples: 48\n",
      "Current degree: 9\n",
      "current L2-norm: 0.0424716817826579\n",
      "Number of samples: 56\n",
      "Current degree: 10\n",
      "current L2-norm: 0.03650326901605909\n",
      "Number of samples: 65\n",
      "Current degree: 11\n",
      "current L2-norm: 0.026535168562028325\n",
      "Number of samples: 74\n",
      "Current degree: 12\n",
      "current L2-norm: 0.02370545610011522\n",
      "Number of samples: 83\n",
      "Current degree: 13\n",
      "current L2-norm: 0.018346228636119927\n",
      "Number of samples: 93\n",
      "Current degree: 14\n",
      "current L2-norm: 0.016636834911585414\n",
      "Number of samples: 103\n",
      "Current degree: 15\n",
      "attained the desired L2-norm: 0.0130365366992963\n"
     ]
    }
   ],
   "source": [
    "while true # Potential infinite loop\n",
    "    global poly_approx = MainGenerate(f, 2, d, delta, alpha, scale_factor, 0.2) # computes the approximant in Chebyshev basis\n",
    "    if poly_approx.nrm < tol_l2\n",
    "        println(\"attained the desired L2-norm: \", poly_approx.nrm)\n",
    "        break\n",
    "    else\n",
    "        println(\"current L2-norm: \", poly_approx.nrm)\n",
    "        println(\"Number of samples: \", poly_approx.N)\n",
    "        println(\"Current degree: \", d)\n",
    "        global d += 1\n",
    "    end\n",
    "end;"
   ]
  },
  {
   "cell_type": "code",
   "execution_count": 13,
   "metadata": {},
   "outputs": [
    {
     "name": "stdout",
     "output_type": "stream",
     "text": [
      "The polynomial is: -272287136774817571//1152921504606846976 + 108604667564791267587//1298074214633706907132624082305024*x[2] + 51546911033889635303//2596148429267413814265248164610048*x[1] + 21875266918444178683//576460752303423488*x[2]^2 - 38284420041259286213//5192296858534827628530496329220096*x[1]*x[2] - 51485708243114346853//576460752303423488*x[1]^2 - 395674829397065464791//162259276829213363391578010288128*x[2]^3 + 76400145264082167513//1298074214633706907132624082305024*x[1]*x[2]^2 - 175761119289352194891//649037107316853453566312041152512*x[1]^2*x[2] - 441271482591076931629//649037107316853453566312041152512*x[1]^3 - 60974340487694403993//72057594037927936*x[2]^4 + 88351814539797080555//649037107316853453566312041152512*x[1]*x[2]^3 - 20543039454962597891//288230376151711744*x[1]^2*x[2]^2 + 69289945661599678741//1298074214633706907132624082305024*x[1]^3*x[2] + 145754934449090454647//72057594037927936*x[1]^4 + 1664234892650102350865//81129638414606681695789005144064*x[2]^5 - 97195843122571349545//162259276829213363391578010288128*x[1]*x[2]^4 + 8929577369882718919//81129638414606681695789005144064*x[1]^2*x[2]^3 + 42250799465870818093//324518553658426726783156020576256*x[1]^3*x[2]^2 + 11302212682559141397//5070602400912917605986812821504*x[1]^4*x[2] + 1100293022143934367983//162259276829213363391578010288128*x[1]^5 + 269550221779180048803//36028797018963968*x[2]^6 - 246300716307770372165//324518553658426726783156020576256*x[1]*x[2]^5 + 68763931777457020657//36028797018963968*x[1]^2*x[2]^4 - 41132464704393264027//162259276829213363391578010288128*x[1]^3*x[2]^3 - 40915916434357583223//36028797018963968*x[1]^4*x[2]^2 - 154428555160189639737//324518553658426726783156020576256*x[1]^5*x[2] - 612471729137555673053//36028797018963968*x[1]^6 - 1622671969160678312447//20282409603651670423947251286016*x[2]^7 + 175155445766872085855//81129638414606681695789005144064*x[1]*x[2]^6 + 90121440812802271367//40564819207303340847894502572032*x[1]^2*x[2]^5 + 71072658031118585103//40564819207303340847894502572032*x[1]^3*x[2]^4 - 18464435386703092941//5070602400912917605986812821504*x[1]^4*x[2]^3 - 253727695479593705911//81129638414606681695789005144064*x[1]^5*x[2]^2 - 32553737791173227049//5070602400912917605986812821504*x[1]^6*x[2] - 614248381753209885979//20282409603651670423947251286016*x[1]^7 - 9209984980245431555//281474976710656*x[2]^8 + 145386221527416531719//81129638414606681695789005144064*x[1]*x[2]^7 - 181382746100632291179//18014398509481984*x[1]^2*x[2]^6 + 103023352812417799157//81129638414606681695789005144064*x[1]^3*x[2]^5 - 13395868043632761059//4503599627370496*x[1]^4*x[2]^4 + 13548514235507114939//40564819207303340847894502572032*x[1]^5*x[2]^3 + 163714940839439768021//18014398509481984*x[1]^6*x[2]^2 + 9967050849796524797//5070602400912917605986812821504*x[1]^7*x[2] + 19495246711625817845//281474976710656*x[1]^8 + 841739232286688920963//5070602400912917605986812821504*x[2]^9 - 47210373842665270835//10141204801825835211973625643008*x[1]*x[2]^8 - 77348551188660832825//10141204801825835211973625643008*x[1]^2*x[2]^7 - 64126966050784408585//20282409603651670423947251286016*x[1]^3*x[2]^6 + 1883779848604210743//633825300114114700748351602688*x[1]^4*x[2]^5 - 22513841285380645845//10141204801825835211973625643008*x[1]^5*x[2]^4 + 23780702370681209737//2535301200456458802993406410752*x[1]^6*x[2]^3 + 121880701129984179939//10141204801825835211973625643008*x[1]^7*x[2]^2 + 10514646227025815407//1267650600228229401496703205376*x[1]^8*x[2] + 357015224620577418131//5070602400912917605986812821504*x[1]^9 + 5390021488765821027//70368744177664*x[2]^10 - 2810097856259913035//1267650600228229401496703205376*x[1]*x[2]^9 + 7594254636722529957//281474976710656*x[1]^2*x[2]^8 - 56067782274948327703//20282409603651670423947251286016*x[1]^3*x[2]^7 + 6719170972437538049//2251799813685248*x[1]^4*x[2]^6 - 5847596256748357049//20282409603651670423947251286016*x[1]^5*x[2]^5 + 27255229612073826489//2251799813685248*x[1]^6*x[2]^4 - 381670794648608463//316912650057057350374175801344*x[1]^7*x[2]^3 - 545958430113588605//17592186044416*x[1]^8*x[2]^2 - 19258948068390401283//5070602400912917605986812821504*x[1]^9*x[2] - 10676386616142881743//70368744177664*x[1]^10 - 14985611915109568601//79228162514264337593543950336*x[2]^11 + 31147960872358992895//5070602400912917605986812821504*x[1]*x[2]^10 + 28231769480647388477//2535301200456458802993406410752*x[1]^2*x[2]^9 + 4040216877702453443//2535301200456458802993406410752*x[1]^3*x[2]^8 - 140313433703898743//316912650057057350374175801344*x[1]^4*x[2]^7 + 24184670255028948119//5070602400912917605986812821504*x[1]^5*x[2]^6 - 1247137051499230189//158456325028528675187087900672*x[1]^6*x[2]^5 - 334610959051898649//1267650600228229401496703205376*x[1]^7*x[2]^4 - 1380590751885334625//158456325028528675187087900672*x[1]^8*x[2]^3 - 50778691121145341691//2535301200456458802993406410752*x[1]^9*x[2]^2 - 216919471897724245//39614081257132168796771975168*x[1]^10*x[2] - 7030138218617762811//79228162514264337593543950336*x[1]^11 - 1718000219493913745//17592186044416*x[2]^12 + 71253865906090447//39614081257132168796771975168*x[1]*x[2]^11 - 1270580638907460767//35184372088832*x[1]^2*x[2]^10 + 22745910268211965//9903520314283042199192993792*x[1]^3*x[2]^9 - 439257730340385365//70368744177664*x[1]^4*x[2]^8 + 5126621737189738235//5070602400912917605986812821504*x[1]^5*x[2]^7 - 1906839101823597011//1125899906842624*x[1]^6*x[2]^6 + 48237538588705177//316912650057057350374175801344*x[1]^7*x[2]^5 - 431531820419426833//17592186044416*x[1]^8*x[2]^4 + 2400090490486408483//1267650600228229401496703205376*x[1]^9*x[2]^3 + 1807719962904150847//35184372088832*x[1]^10*x[2]^2 + 4705893036614338237//1267650600228229401496703205376*x[1]^11*x[2] + 802436263218868569//4398046511104*x[1]^12 + 277139310036967321//2475880078570760549798248448*x[2]^13 - 690892256449244879//158456325028528675187087900672*x[1]*x[2]^12 - 154398348507207613//19807040628566084398385987584*x[1]^2*x[2]^11 + 267783909603908225//1267650600228229401496703205376*x[1]^3*x[2]^10 - 29321418450278565//39614081257132168796771975168*x[1]^4*x[2]^9 - 1577055633911029215//633825300114114700748351602688*x[1]^5*x[2]^8 + 354899318453233017//158456325028528675187087900672*x[1]^6*x[2]^7 - 1491585891648503221//633825300114114700748351602688*x[1]^7*x[2]^6 + 600775416464911539//79228162514264337593543950336*x[1]^8*x[2]^5 + 624074889341800961//316912650057057350374175801344*x[1]^9*x[2]^4 + 5241360010951457//4951760157141521099596496896*x[1]^10*x[2]^3 + 154901290585839419//9903520314283042199192993792*x[1]^11*x[2]^2 + 12848788171280495//4951760157141521099596496896*x[1]^12*x[2] + 284826070119527511//4951760157141521099596496896*x[1]^13 + 4386646758748107//68719476736*x[2]^14 - 87748937828711361//79228162514264337593543950336*x[1]*x[2]^13 + 206251148359464133//8796093022208*x[1]^2*x[2]^12 - 3431466996743299//19807040628566084398385987584*x[1]^3*x[2]^11 + 27559691313494073//4398046511104*x[1]^4*x[2]^10 - 70444366366653139//39614081257132168796771975168*x[1]^5*x[2]^9 - 12548763873403839//17592186044416*x[1]^6*x[2]^8 + 62379730966935973//79228162514264337593543950336*x[1]^7*x[2]^7 + 4666555205274357//1099511627776*x[1]^8*x[2]^6 - 251362304107102551//316912650057057350374175801344*x[1]^9*x[2]^5 + 92445560794295485//4398046511104*x[1]^10*x[2]^4 - 371617416643823229//316912650057057350374175801344*x[1]^11*x[2]^3 - 22195236909632223//549755813888*x[1]^12*x[2]^2 - 139417485503229569//79228162514264337593543950336*x[1]^13*x[2] - 15578644164787009//137438953472*x[1]^14 - 2084776975867485//77371252455336267181195264*x[2]^15 + 6139940100692115//4951760157141521099596496896*x[1]*x[2]^14 + 2640430793020287//1237940039285380274899124224*x[1]^2*x[2]^13 - 5927322669595139//39614081257132168796771975168*x[1]^3*x[2]^12 + 5065772953515505//9903520314283042199192993792*x[1]^4*x[2]^11 - 5264785159722541//316912650057057350374175801344*x[1]^5*x[2]^10 - 8042527479351861//9903520314283042199192993792*x[1]^6*x[2]^9 + 6329983185848157//4951760157141521099596496896*x[1]^7*x[2]^8 - 4497172148647645//19807040628566084398385987584*x[1]^8*x[2]^7 - 5766954002079651//158456325028528675187087900672*x[1]^9*x[2]^6 - 3781358282474667//1237940039285380274899124224*x[1]^10*x[2]^5 - 8026257801569671//9903520314283042199192993792*x[1]^11*x[2]^4 + 3899874669233525//2475880078570760549798248448*x[1]^12*x[2]^3 - 5807275106171483//1237940039285380274899124224*x[1]^13*x[2]^2 - 2353390357039843//2475880078570760549798248448*x[1]^14*x[2] - 4652473246478055//309485009821345068724781056*x[1]^15 - 143731949214549//8589934592*x[2]^16 + 7205212685830709//19807040628566084398385987584*x[1]*x[2]^15 - 3260873501576697//549755813888*x[1]^2*x[2]^14 - 2038806025494577//4951760157141521099596496896*x[1]^3*x[2]^13 - 1916227194297801//1099511627776*x[1]^4*x[2]^12 + 603594071674651//618970019642690137449562112*x[1]^5*x[2]^11 - 2627984562419563//2199023255552*x[1]^6*x[2]^10 - 6469237213801185//9903520314283042199192993792*x[1]^7*x[2]^9 + 4019930397356387//2199023255552*x[1]^8*x[2]^8 + 7311032925856101//19807040628566084398385987584*x[1]^9*x[2]^7 - 7282539018336581//2199023255552*x[1]^10*x[2]^6 + 7055456534647989//79228162514264337593543950336*x[1]^11*x[2]^5 - 3401208499966699//549755813888*x[1]^12*x[2]^4 + 3051921058838387//9903520314283042199192993792*x[1]^13*x[2]^3 + 6628496422386279//549755813888*x[1]^14*x[2]^2 + 6113158007234793//19807040628566084398385987584*x[1]^15*x[2] + 488258625583281//17179869184*x[1]^16\n",
      "The system is of degree: 15\n"
     ]
    }
   ],
   "source": [
    "using DynamicPolynomials, DataFrames\n",
    "using HomotopyContinuation, ProgressLogging\n",
    "\n",
    "@polyvar(x[1:n]) # Define polynomial ring \n",
    "pol = main_nd(x, n, d, poly_approx.coeffs) \n",
    "\n",
    "println(\"The polynomial is: \", pol)\n",
    "grad = differentiate.(pol, x)\n",
    "sys = System(grad)\n",
    "println(\"The system is of degree: \", d-1)"
   ]
  },
  {
   "cell_type": "code",
   "execution_count": 14,
   "metadata": {},
   "outputs": [
    {
     "name": "stdout",
     "output_type": "stream",
     "text": [
      "\u001b[32mTracking 225 paths...   1%|▎                            |  ETA: 0:19:47\u001b[39m\u001b[K\n",
      "\n",
      "\n",
      "\n",
      "\u001b[32mTracking 225 paths...  18%|█████▏                       |  ETA: 0:00:50\u001b[39m\u001b[K\n",
      "\n",
      "\n",
      "\n",
      "\u001b[32mTracking 225 paths...  28%|████████▏                    |  ETA: 0:00:28\u001b[39m\u001b[K\n",
      "\n",
      "\n",
      "\n",
      "\u001b[32mTracking 225 paths...  45%|█████████████                |  ETA: 0:00:14\u001b[39m\u001b[K\n",
      "\n",
      "\n",
      "\n",
      "\u001b[32mTracking 225 paths...  61%|█████████████████▊           |  ETA: 0:00:07\u001b[39m\u001b[K\n",
      "\n",
      "\n",
      "\n",
      "\u001b[32mTracking 225 paths...  81%|███████████████████████▌     |  ETA: 0:00:03\u001b[39m\u001b[K\n",
      "\n",
      "\n",
      "\n",
      "\u001b[32mTracking 225 paths... 100%|█████████████████████████████| Time: 0:00:11\u001b[39m\u001b[K\n",
      "\u001b[34m  # paths tracked:                  225\u001b[39m\u001b[K\n",
      "\u001b[34m  # non-singular solutions (real):  225 (189)\u001b[39m\u001b[K\n",
      "\u001b[34m  # singular endpoints (real):      0 (0)\u001b[39m\u001b[K\n",
      "\u001b[34m  # total solutions (real):         225 (189)\u001b[39m\u001b[K\n"
     ]
    }
   ],
   "source": [
    "Real_sol_lstsq = HomotopyContinuation.solve(sys)\n",
    "real_pts = HomotopyContinuation.real_solutions(Real_sol_lstsq; only_real=true, multiple_results=false);"
   ]
  },
  {
   "cell_type": "code",
   "execution_count": 15,
   "metadata": {},
   "outputs": [],
   "source": [
    "condition(point) = -1 < point[1] < 1 && -1 < point[2] < 1\n",
    "filtered_points = filter(condition, real_pts) # Filter points using the filter function\n",
    "# Colllect the critical points of the approximant \n",
    "h_x = Float64[point[1] for point in filtered_points] # Initialize the x vector for critical points of approximant\n",
    "h_y = Float64[point[2] for point in filtered_points] # Initialize the y vector\n",
    "h_z = map(p -> f([p[1], p[2]]), zip(scale_factor * h_x, scale_factor * h_y))\n",
    "df = DataFrame(x=scale_factor * h_x, y=scale_factor * h_y, z=h_z); # Create a DataFrame"
   ]
  },
  {
   "cell_type": "code",
   "execution_count": 16,
   "metadata": {},
   "outputs": [],
   "source": [
    "using GLMakie\n",
    "# Extract coordinates and function values\n",
    "coords = poly_approx.scale_factor * poly_approx.grid\n",
    "z_coords = poly_approx.z;\n"
   ]
  },
  {
   "cell_type": "code",
   "execution_count": 17,
   "metadata": {},
   "outputs": [
    {
     "data": {
      "text/plain": [
       "GLMakie.Screen(...)"
      ]
     },
     "metadata": {},
     "output_type": "display_data"
    }
   ],
   "source": [
    "if size(coords)[2] == 2  # Plot the 3D scatter plot if the dimensions are 2\n",
    "    fig = Figure(size=(800, 600))\n",
    "    ax = Axis3(fig[1, 1], title=\"Holder Table Sample Points\", xlabel=\"X-axis\", ylabel=\"Y-axis\", zlabel=\"Z-axis\")\n",
    "\n",
    "    # Plot the sampled data with a darker core\n",
    "    scatter!(ax, coords[:, 1], coords[:, 2], z_coords, markersize=2, color=:black, label=\"Sampled Data Core\")\n",
    "\n",
    "    # Plot the sampled data with adjusted size and color to create a halo effect\n",
    "    scatter!(ax, coords[:, 1], coords[:, 2], z_coords, markersize=4, color=z_coords, colormap=:viridis, label=\"Sampled Data Halo\")\n",
    "\n",
    "    # Plot the exact approximant critical points with adjusted size\n",
    "    scatter!(ax, df.x, df.y, df.z, markersize=10, color=:red, label=\"Exact approximant critical points\")\n",
    "\n",
    "    display(fig)\n",
    "end"
   ]
  },
  {
   "cell_type": "markdown",
   "metadata": {},
   "source": [
    "Should plot the polynomial approximant too."
   ]
  },
  {
   "cell_type": "code",
   "execution_count": 9,
   "metadata": {},
   "outputs": [
    {
     "name": "stdout",
     "output_type": "stream",
     "text": [
      "current L2-norm: 0.3225768101075613"
     ]
    },
    {
     "name": "stderr",
     "output_type": "stream",
     "text": [
      "WARNING: redefinition of constant Main.tol_l2. This may fail, cause incorrect answers, or produce other errors.\n"
     ]
    },
    {
     "name": "stdout",
     "output_type": "stream",
     "text": [
      "\n",
      "Number of samples: 8\n",
      "Current degree: 2\n",
      "current L2-norm: 0.34164522984081835\n",
      "Number of samples: 12\n",
      "Current degree: 3\n",
      "current L2-norm: 0.15420669778631205\n",
      "Number of samples: 17\n",
      "Current degree: 4\n",
      "current L2-norm: 0.16150972067976094\n",
      "Number of samples: 22\n",
      "Current degree: 5\n",
      "current L2-norm: 0.10982203454764894\n",
      "Number of samples: 28\n",
      "Current degree: 6\n",
      "current L2-norm: 0.09002980177601799\n",
      "Number of samples: 34\n",
      "Current degree: 7\n",
      "current L2-norm: 0.07219154289178054\n",
      "Number of samples: 41\n",
      "Current degree: 8\n",
      "current L2-norm: 0.061872080671082644\n",
      "Number of samples: 48\n",
      "Current degree: 9\n",
      "current L2-norm: 0.0424716817826579\n",
      "Number of samples: 56\n",
      "Current degree: 10\n",
      "current L2-norm: 0.03650326901605909\n",
      "Number of samples: 65\n",
      "Current degree: 11\n",
      "current L2-norm: 0.026535168562028325\n",
      "Number of samples: 74\n",
      "Current degree: 12\n",
      "current L2-norm: 0.02370545610011522\n",
      "Number of samples: 83\n",
      "Current degree: 13\n",
      "current L2-norm: 0.018346228636119927\n",
      "Number of samples: 93\n",
      "Current degree: 14\n",
      "current L2-norm: 0.016636834911585414\n",
      "Number of samples: 103\n",
      "Current degree: 15\n",
      "current L2-norm: 0.0130365366992963\n",
      "Number of samples: 114\n",
      "Current degree: 16\n",
      "current L2-norm: 0.011717341761089172\n",
      "Number of samples: 125\n",
      "Current degree: 17\n",
      "current L2-norm: 0.008715185792790512\n",
      "Number of samples: 136\n",
      "Current degree: 18\n",
      "current L2-norm: 0.008019519005888787\n",
      "Number of samples: 148\n",
      "Current degree: 19\n",
      "current L2-norm: 0.00553853651656681\n",
      "Number of samples: 160\n",
      "Current degree: 20\n",
      "current L2-norm: 0.005079131579116654\n",
      "Number of samples: 173\n",
      "Current degree: 21\n",
      "current L2-norm: 0.003898380257841983\n",
      "Number of samples: 186\n",
      "Current degree: 22\n",
      "current L2-norm: 0.0036498590647826815\n",
      "Number of samples: 199\n",
      "Current degree: 23\n",
      "current L2-norm: 0.0030528877039473217\n",
      "Number of samples: 213\n",
      "Current degree: 24\n",
      "current L2-norm: 0.0028653197002842944\n",
      "Number of samples: 227\n",
      "Current degree: 25\n"
     ]
    },
    {
     "ename": "InterruptException",
     "evalue": "InterruptException:",
     "output_type": "error",
     "traceback": [
      "InterruptException:\n",
      "\n",
      "Stacktrace:\n",
      " [1] _string_n\n",
      "   @ ./strings/string.jl:109 [inlined]\n",
      " [2] _\n",
      "   @ ./mpfr.jl:152 [inlined]\n",
      " [3] BigFloat\n",
      "   @ ./mpfr.jl:147 [inlined]\n",
      " [4] *(x::BigFloat, y::BigFloat)\n",
      "   @ Base.MPFR ./mpfr.jl:492\n",
      " [5] lambda_vandermonde(Lambda::@NamedTuple{data::LinearAlgebra.Adjoint{Int64, Matrix{Int64}}, size::Tuple{Int64, Int64}}, S::LinearAlgebra.Adjoint{Float64, Matrix{Float64}}; basis::Symbol)\n",
      "   @ Globtim ~/Globtim.jl/src/ApproxConstruct.jl:229\n",
      " [6] MainGenerate(f::typeof(HolderTable), n::Int64, d::Int64, delta::Float64, alph::Float64, scale_factor::Float64, scl::Float64; center::Vector{Float64}, verbose::Int64, basis::Symbol)\n",
      "   @ Globtim ~/Globtim.jl/src/main_gen.jl:110\n",
      " [7] MainGenerate(f::Function, n::Int64, d::Int64, delta::Float64, alph::Float64, scale_factor::Float64, scl::Float64)\n",
      "   @ Globtim ~/Globtim.jl/src/main_gen.jl:103\n",
      " [8] top-level scope\n",
      "   @ ~/Globtim.jl/Examples/Holder/jl_notebook_cell_df34fa98e69747e1a8f8a730347b8e2f_X13sZmlsZQ==.jl:7"
     ]
    }
   ],
   "source": [
    "# Update tolerance\n",
    "const tol_l2 = 1.5e-3\n",
    "\n",
    "# Re-run the main computation loop\n",
    "d = 2 # Reset degree\n",
    "while true # Potential infinite loop\n",
    "    global poly_approx = MainGenerate(f, 2, d, delta, alpha, scale_factor, 0.2) # computes the approximant in Chebyshev basis\n",
    "    if poly_approx.nrm < tol_l2\n",
    "        println(\"attained the desired L2-norm: \", poly_approx.nrm)\n",
    "        break\n",
    "    else\n",
    "        println(\"current L2-norm: \", poly_approx.nrm)\n",
    "        println(\"Number of samples: \", poly_approx.N)\n",
    "        println(\"Current degree: \", d)\n",
    "        global d += 1\n",
    "    end\n",
    "end;\n",
    "\n",
    "# Re-run the polynomial system setup and solve\n",
    "pol = main_nd(x, n, d, poly_approx.coeffs) \n",
    "grad = differentiate.(pol, x)\n",
    "sys = System(grad)\n",
    "println(\"The system is of degree: \", d-1)\n",
    "\n",
    "Real_sol_lstsq = HomotopyContinuation.solve(sys)\n",
    "real_pts = HomotopyContinuation.real_solutions(Real_sol_lstsq; only_real=true, multiple_results=false)\n",
    "\n",
    "# Filter points and create DataFrame\n",
    "condition(point) = -1 < point[1] < 1 && -1 < point[2] < 1\n",
    "filtered_points = filter(condition, real_pts) # Filter points using the filter function\n",
    "# Collect the critical points of the approximant \n",
    "h_x = Float64[point[1] for point in filtered_points] # Initialize the x vector for critical points of approximant\n",
    "h_y = Float64[point[2] for point in filtered_points] # Initialize the y vector\n",
    "h_z = map(p -> f([p[1], p[2]]), zip(scale_factor * h_x, scale_factor * h_y))\n",
    "df = DataFrame(x=scale_factor * h_x, y=scale_factor * h_y, z=h_z); # Create a DataFrame"
   ]
  },
  {
   "cell_type": "code",
   "execution_count": 10,
   "metadata": {},
   "outputs": [
    {
     "data": {
      "text/plain": [
       "GLMakie.Screen(...)"
      ]
     },
     "metadata": {},
     "output_type": "display_data"
    }
   ],
   "source": [
    "# Plot using GLMakie\n",
    "\n",
    "# Extract coordinates and function values\n",
    "coords = poly_approx.scale_factor * poly_approx.grid\n",
    "z_coords = poly_approx.z\n",
    "\n",
    "if size(coords)[2] == 2  # Plot the 3D scatter plot if the dimensions are 2\n",
    "    fig = Figure(size=(800, 600))\n",
    "    ax = Axis3(fig[1, 1], title=\"Mixture of Gaussians Sample Points\", xlabel=\"X-axis\", ylabel=\"Y-axis\", zlabel=\"Z-axis\")\n",
    "\n",
    "    # Plot the sampled data with adjusted size and color to create a halo effect\n",
    "    scatter!(ax, coords[:, 1], coords[:, 2], z_coords, markersize=2, color=z_coords, colormap=:viridis, label=\"Sampled Data Halo\")\n",
    "\n",
    "    # Plot the exact approximant critical points with adjusted size\n",
    "    scatter!(ax, df.x, df.y, df.z, markersize=10, color=:red, label=\"Exact approximant critical points\")\n",
    "\n",
    "    display(fig)\n",
    "end"
   ]
  }
 ],
 "metadata": {
  "kernelspec": {
   "display_name": "Julia 1.11.1",
   "language": "julia",
   "name": "julia-1.11"
  },
  "language_info": {
   "file_extension": ".jl",
   "mimetype": "application/julia",
   "name": "julia",
   "version": "1.11.1"
  }
 },
 "nbformat": 4,
 "nbformat_minor": 2
}
