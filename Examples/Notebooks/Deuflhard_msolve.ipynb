{
 "cells": [
  {
   "cell_type": "markdown",
   "metadata": {},
   "source": [
    "What we need is a small parcel to work on, with a nice contourplot with critical points and minima found after initiating local method and then a 3d plot. "
   ]
  },
  {
   "cell_type": "code",
   "execution_count": 1,
   "metadata": {},
   "outputs": [
    {
     "name": "stderr",
     "output_type": "stream",
     "text": [
      "\u001b[32m\u001b[1m  Activating\u001b[22m\u001b[39m project at `~/Globtim.jl`\n"
     ]
    },
    {
     "ename": "ArgumentError",
     "evalue": "ArgumentError: Package ProgressLogging not found in current path.\n- Run `import Pkg; Pkg.add(\"ProgressLogging\")` to install the ProgressLogging package.",
     "output_type": "error",
     "traceback": [
      "ArgumentError: Package ProgressLogging not found in current path.\n",
      "- Run `import Pkg; Pkg.add(\"ProgressLogging\")` to install the ProgressLogging package.\n",
      "\n",
      "Stacktrace:\n",
      "  [1] macro expansion\n",
      "    @ ./loading.jl:2296 [inlined]\n",
      "  [2] macro expansion\n",
      "    @ ./lock.jl:273 [inlined]\n",
      "  [3] __require(into::Module, mod::Symbol)\n",
      "    @ Base ./loading.jl:2271\n",
      "  [4] #invoke_in_world#3\n",
      "    @ ./essentials.jl:1089 [inlined]\n",
      "  [5] invoke_in_world\n",
      "    @ ./essentials.jl:1086 [inlined]\n",
      "  [6] require(into::Module, mod::Symbol)\n",
      "    @ Base ./loading.jl:2260\n",
      "  [7] eval\n",
      "    @ ./boot.jl:430 [inlined]\n",
      "  [8] include_string(mapexpr::typeof(REPL.softscope), mod::Module, code::String, filename::String)\n",
      "    @ Base ./loading.jl:2734\n",
      "  [9] #invokelatest#2\n",
      "    @ ./essentials.jl:1055 [inlined]\n",
      " [10] invokelatest\n",
      "    @ ./essentials.jl:1052 [inlined]\n",
      " [11] (::VSCodeServer.var\"#217#218\"{VSCodeServer.NotebookRunCellArguments, String})()\n",
      "    @ VSCodeServer ~/.vscode/extensions/julialang.language-julia-1.127.2/scripts/packages/VSCodeServer/src/serve_notebook.jl:24\n",
      " [12] withpath(f::VSCodeServer.var\"#217#218\"{VSCodeServer.NotebookRunCellArguments, String}, path::String)\n",
      "    @ VSCodeServer ~/.vscode/extensions/julialang.language-julia-1.127.2/scripts/packages/VSCodeServer/src/repl.jl:276\n",
      " [13] notebook_runcell_request(conn::VSCodeServer.JSONRPC.JSONRPCEndpoint{Base.PipeEndpoint, Base.PipeEndpoint}, params::VSCodeServer.NotebookRunCellArguments)\n",
      "    @ VSCodeServer ~/.vscode/extensions/julialang.language-julia-1.127.2/scripts/packages/VSCodeServer/src/serve_notebook.jl:13\n",
      " [14] dispatch_msg(x::VSCodeServer.JSONRPC.JSONRPCEndpoint{Base.PipeEndpoint, Base.PipeEndpoint}, dispatcher::VSCodeServer.JSONRPC.MsgDispatcher, msg::Dict{String, Any})\n",
      "    @ VSCodeServer.JSONRPC ~/.vscode/extensions/julialang.language-julia-1.127.2/scripts/packages/JSONRPC/src/typed.jl:67\n",
      " [15] serve_notebook(pipename::String, debugger_pipename::String, outputchannel_logger::Base.CoreLogging.SimpleLogger; error_handler::var\"#5#10\"{String})\n",
      "    @ VSCodeServer ~/.vscode/extensions/julialang.language-julia-1.127.2/scripts/packages/VSCodeServer/src/serve_notebook.jl:147\n",
      " [16] top-level scope\n",
      "    @ ~/.vscode/extensions/julialang.language-julia-1.127.2/scripts/notebook/notebook.jl:35"
     ]
    }
   ],
   "source": [
    "using Pkg\n",
    "Pkg.activate(\"../../.\")\n",
    "using Globtim\n",
    "using DynamicPolynomials, DataFrames\n",
    "using ProgressLogging"
   ]
  },
  {
   "cell_type": "code",
   "execution_count": 2,
   "metadata": {},
   "outputs": [
    {
     "data": {
      "text/plain": [
       "Deuflhard (generic function with 1 method)"
      ]
     },
     "metadata": {},
     "output_type": "display_data"
    }
   ],
   "source": [
    "# Constants and Parameters\n",
    "const n, a, b = 2, 12, 10\n",
    "const scale_factor = a / b   # Scaling factor appears in `main_computation`, maybe it should be a parameter.\n",
    "const delta, alpha = 0.5, 1 / 10  # Sampling parameters\n",
    "const tol_l2 = 3e-4            # Define the tolerance for the L2-norm\n",
    "f = Deuflhard # Objective function"
   ]
  },
  {
   "cell_type": "markdown",
   "metadata": {},
   "source": [
    "One may assume that when we have access to exact evaluations, we would want to have a small $L^2$-norm tolerance `tol_l2 = 5e-4` and high probability of computing an accurate discrete $L^2$-norm `alpha= 1/10`.\n",
    "\n",
    "We need to also return the number of samples used to generate the sample set. It is annoying that the error goes up while the degree has increased."
   ]
  },
  {
   "cell_type": "code",
   "execution_count": 3,
   "metadata": {},
   "outputs": [
    {
     "name": "stdout",
     "output_type": "stream",
     "text": [
      "current L2-norm: 0.005495340814119174\n",
      "Number of samples: 40\n",
      "current L2-norm: 0.006156103041441783\n",
      "Number of samples: 40\n"
     ]
    }
   ],
   "source": [
    "d = 8 # Initial Degree \n",
    "SMPL = 40 # Number of samples\n",
    "TR = test_input(f, \n",
    "                dim = n,\n",
    "                center=[0.0, 0.0],\n",
    "                GN=SMPL \n",
    "                )\n",
    "pol_cheb = Constructor(TR, d, GN=SMPL, basis=:chebyshev)\n",
    "pol_lege = Constructor(TR, d, GN=SMPL, basis=:legendre);\n",
    "\n",
    "@polyvar(x[1:n]); # Define polynomial ring "
   ]
  },
  {
   "cell_type": "code",
   "execution_count": 4,
   "metadata": {},
   "outputs": [
    {
     "name": "stdout",
     "output_type": "stream",
     "text": [
      "Created input file: inputs.ms\n",
      "Created output file: outputs.ms\n",
      "\n",
      "---------------- TIMINGS ----------------\n",
      "overall(elapsed)        0.00 sec\n",
      "overall(cpu)            0.00 sec\n",
      "select                  0.00 sec   8.3%\n",
      "symbolic prep.          0.00 sec   9.4%\n",
      "update                  0.00 sec  23.1%\n",
      "convert                 0.00 sec  26.3%\n",
      "linear algebra          0.00 sec  10.8%\n",
      "reduce gb               0.00 sec   0.0%\n",
      "-----------------------------------------\n",
      "\n",
      "---------- COMPUTATIONAL DATA -----------\n",
      "size of basis                     8\n",
      "#terms in basis                 350\n",
      "#pairs reduced                    8\n",
      "#GM criterion                    28\n",
      "#redundant elements               1\n",
      "#rows reduced                    24\n",
      "#zero reductions                  1\n",
      "max. matrix data                 17 x 65 (69.321%)\n",
      "max. symbolic hash table size  2^11\n",
      "max. basis hash table size     2^16\n",
      "-----------------------------------------\n",
      "\n",
      "\n",
      "---------------- TIMINGS ----------------\n",
      "overall(elapsed)        0.00 sec\n",
      "overall(cpu)            0.00 sec\n",
      "-----------------------------------------\n",
      "\n",
      "---------- COMPUTATIONAL DATA -----------\n",
      "degree of ideal                  49\n",
      "#dense rows                       7\n",
      "#normal forms                     0\n",
      "total density                    89.8%\n",
      "density of the free part         89.8%\n",
      "deg. elim. pol.                  49\n",
      "deg. sqfr. elim. pol.            49\n",
      "-----------------------------------------\n",
      "\n",
      "\n",
      "---------------- TIMINGS ----------------\n",
      "multi-mod overall(elapsed)      0.00 sec\n",
      "multi-mod F4                    0.00 sec\n",
      "multi-mod FGLM                  0.00 sec\n",
      "-----------------------------------------\n",
      "\n",
      "multi-modular steps\n",
      "------------------------------------------------------------------------------------------------------\n",
      "{2}{4}{8}{16}\n",
      "<Step:2/0.00/0.00>{32}\n",
      "<Step:4/0.00/0.00>{64}"
     ]
    },
    {
     "name": "stderr",
     "output_type": "stream",
     "text": [
      "\n",
      "--------------- INPUT DATA ---------------\n",
      "#variables                       2\n",
      "#equations                       2\n",
      "#invalid equations               0\n",
      "field characteristic             0\n",
      "homogeneous input?               0\n",
      "signature-based computation      0\n",
      "monomial order                 DRL\n",
      "basis hash table resetting     OFF\n",
      "linear algebra option            2\n",
      "initial hash table size     131072 (2^17)\n",
      "max pair selection             ALL\n",
      "reduce gb                        1\n",
      "#threads                         1\n",
      "info level                       1\n",
      "generate pbm files               0\n",
      "------------------------------------------\n"
     ]
    },
    {
     "name": "stdout",
     "output_type": "stream",
     "text": [
      "\n",
      "<Step:8/0.00/0.00>\n",
      "------------------------------------------------------------------------------------------------------\n",
      "\n",
      "---------- COMPUTATIONAL DATA -----------\n",
      "#primes                         111\n",
      "#bad primes                       0\n",
      "-----------------------------------------\n",
      "\n",
      "---------------- TIMINGS ----------------\n",
      "CRT and ratrecon(elapsed)       0.00 sec\n",
      "-----------------------------------------\n",
      "\n",
      "---------------- TIMINGS ----------------\n",
      "rational param(elapsed)         0.14 sec\n",
      "rational param(cpu)             0.14 sec\n",
      "-----------------------------------------\n"
     ]
    },
    {
     "name": "stderr",
     "output_type": "stream",
     "text": [
      "[0][1]Real root isolation starts at precision 175\n",
      "Number of real roots: 13\n",
      "Starts real root extraction.\n",
      "Elapsed time (real root extraction) = 0.00\n",
      "\n",
      "\n",
      "------------------------------------------------------------------------------------\n",
      "msolve overall time           0.15 sec (elapsed) /  0.15 sec (cpu)\n",
      "------------------------------------------------------------------------------------\n"
     ]
    },
    {
     "data": {
      "text/plain": [
       "Process(`\u001b[4mmsolve\u001b[24m \u001b[4m-v\u001b[24m \u001b[4m1\u001b[24m \u001b[4m-f\u001b[24m \u001b[4minputs.ms\u001b[24m \u001b[4m-o\u001b[24m \u001b[4moutputs.ms\u001b[24m`, ProcessExited(0))"
      ]
     },
     "metadata": {},
     "output_type": "display_data"
    }
   ],
   "source": [
    "msolve_polynomial_system(pol_cheb, x)"
   ]
  },
  {
   "cell_type": "markdown",
   "metadata": {},
   "source": [
    "Solve the system of partial derivatives using `Msolve`. "
   ]
  },
  {
   "cell_type": "code",
   "execution_count": 5,
   "metadata": {},
   "outputs": [
    {
     "name": "stdout",
     "output_type": "stream",
     "text": [
      "\n",
      "=== Starting MSolve Parser (dimension: 2) ===\n",
      "\n",
      "=== Starting file processing (dimension: 2) ===\n",
      "Raw content length: 3229\n",
      "Cleaned content: [0,[1,[[[79670554158579089292618127689647588009/2^128,637364433268632714340945021517180704073/2^131],[-6644254046777239381344715423255471054467131385054634144224369/2^202,-415265877923577461334044713953466940904195711565914634014023/2^198]],[[651829938457347387496299309361426854053/2^130,325914969228673693748149654680713427027/2^129],[-5963678938976173073761614889475408132686569412277413190662253/2^202,-11927357877952346147523229778950816265373138824554826381324505/2^203]],[[514178567657787063596885335661319745037/2^129,257089283828893531798442667830659872519/2^128],[-2428139634117049902401299346160962631061304843437231639265161/2^201,-303517454264631237800162418270120328882663105429653954908145/2^198]],[[315714534259963014034794268674964306735/2^128,631429068519926028069588537349928613471/2^129],[-12312719415607695602647570919598304932068980359025701265828141/2^204,-3078179853901923900661892729899576233017245089756425316457035/2^202]],[[-68306400024539433976171316534585771335/2^127,-546451200196315471809370532276686170679/2^130],[-40320981755170427938727123039998429623233913134865347670703/2^196,-20160490877585213969363561519999214811616956567432673835351/2^195]],[[703487760943502212164252387434676944217/2^129,351743880471751106082126193717338472109/2^128],[-94058388657532513628565173346791261568855300374148924628695/2^198,-3009868437041040436114085547097320370203369611972765588118239/2^203]],[[532840378263782536445928420362016989273/2^178,266420189131891268222964210181008494637/2^177],[-748967837430443427540833691594981957742503208170730980979/2^237,-374483918715221713770416845797490978871251604085365490489/2^236]],[[-351743880471750980636957419775107273879/2^128,-703487760943501961273914839550214547757/2^129],[2939324645547891520654536219348868495225823504286812303859/2^193,5878649291095783041309072438697736990451647008573624607719/2^194]],[[546451200196304924861627359475619465041/2^130,273225600098152462430813679737809732521/2^129],[40320981755170870773070050920877340723767514081096517490353/2^196,20160490877585435386535025460438670361883757040548258745177/2^195]],[[-315714534259960413036070877122106521291/2^128,-631429068519920826072141754244213042581/2^129],[12312719415608062627444073351269034940300470748530615116184779/2^204,3078179853902015656861018337817258735075117687132653779046195/2^202]],[[-514178567657784355853744886686040232401/2^129,-32136160478611522240859055417877514525/2^125],[1214069817058532135439085300315783989472257053157775856839935/2^200,2428139634117064270878170600631567978944514106315551713679871/2^201]],[[-651829938457354370789092304390907739897/2^130,-81478742307169296348636538048863467487/2^127],[11927357877952329518478538835201820499113872464868990757909689/2^203,5963678938976164759239269417600910249556936232434495378954845/2^202]],[[-39835277079290777084003771665523360749/2^127,-637364433268652433344060346648373771983/2^131],[28536853837223671162539388004565164322220801309276482996261634967495403/2^234,7134213459305917790634847001141291080555200327319120749065408741873851/2^232]]]]]:\n",
      "Successfully parsed 13 points of dimension 2\n",
      "Processed 13 points\n",
      "Point 1: [0.23413071585072706, -1.0336823610771368]\n",
      "Point 2: [0.478889006470907, -0.9278016287376862]\n",
      "Point 3: [0.75551750199453, -0.7555175019945282]\n",
      "Point 4: [0.9278016287376902, -0.4788890064709012]\n",
      "Point 5: [-0.4014689367692673, -0.4014689367692575]\n",
      "Point 6: [1.0336823610771333, -0.2341307158507304]\n",
      "Point 7: [1.3907782804058737e-15, -3.3912061880664763e-15]\n",
      "Point 8: [-1.033682361077133, 0.23413071585073042]\n",
      "Point 9: [0.4014689367692596, 0.4014689367692619]\n",
      "Point 10: [-0.9278016287376826, 0.47888900647091553]\n",
      "Point 11: [-0.755517501994526, 0.7555175019945327]\n",
      "Point 12: [-0.47888900647091215, 0.9278016287376849]\n",
      "Point 13: [-0.2341307158507343, 1.0336823610771289]\n",
      "9 points after filtering\n",
      "Extracted and scaled coordinates\n",
      "Computed function values\n"
     ]
    },
    {
     "data": {
      "text/html": [
       "<div><div style = \"float: left;\"><span>9×3 DataFrame</span></div><div style = \"clear: both;\"></div></div><div class = \"data-frame\" style = \"overflow-x: scroll;\"><table class = \"data-frame\" style = \"margin-bottom: 6px;\"><thead><tr class = \"header\"><th class = \"rowNumber\" style = \"font-weight: bold; text-align: right;\">Row</th><th style = \"text-align: left;\">x1</th><th style = \"text-align: left;\">x2</th><th style = \"text-align: left;\">z</th></tr><tr class = \"subheader headerLastRow\"><th class = \"rowNumber\" style = \"font-weight: bold; text-align: right;\"></th><th title = \"Float64\" style = \"text-align: left;\">Float64</th><th title = \"Float64\" style = \"text-align: left;\">Float64</th><th title = \"Float64\" style = \"text-align: left;\">Float64</th></tr></thead><tbody><tr><td class = \"rowNumber\" style = \"font-weight: bold; text-align: right;\">1</td><td style = \"text-align: right;\">0.526778</td><td style = \"text-align: right;\">-1.02058</td><td style = \"text-align: right;\">0.79979</td></tr><tr><td class = \"rowNumber\" style = \"font-weight: bold; text-align: right;\">2</td><td style = \"text-align: right;\">0.831069</td><td style = \"text-align: right;\">-0.831069</td><td style = \"text-align: right;\">0.960949</td></tr><tr><td class = \"rowNumber\" style = \"font-weight: bold; text-align: right;\">3</td><td style = \"text-align: right;\">1.02058</td><td style = \"text-align: right;\">-0.526778</td><td style = \"text-align: right;\">0.79979</td></tr><tr><td class = \"rowNumber\" style = \"font-weight: bold; text-align: right;\">4</td><td style = \"text-align: right;\">-0.441616</td><td style = \"text-align: right;\">-0.441616</td><td style = \"text-align: right;\">2.48823</td></tr><tr><td class = \"rowNumber\" style = \"font-weight: bold; text-align: right;\">5</td><td style = \"text-align: right;\">1.52986e-15</td><td style = \"text-align: right;\">-3.73033e-15</td><td style = \"text-align: right;\">4.0</td></tr><tr><td class = \"rowNumber\" style = \"font-weight: bold; text-align: right;\">6</td><td style = \"text-align: right;\">0.441616</td><td style = \"text-align: right;\">0.441616</td><td style = \"text-align: right;\">2.48823</td></tr><tr><td class = \"rowNumber\" style = \"font-weight: bold; text-align: right;\">7</td><td style = \"text-align: right;\">-1.02058</td><td style = \"text-align: right;\">0.526778</td><td style = \"text-align: right;\">0.79979</td></tr><tr><td class = \"rowNumber\" style = \"font-weight: bold; text-align: right;\">8</td><td style = \"text-align: right;\">-0.831069</td><td style = \"text-align: right;\">0.831069</td><td style = \"text-align: right;\">0.960949</td></tr><tr><td class = \"rowNumber\" style = \"font-weight: bold; text-align: right;\">9</td><td style = \"text-align: right;\">-0.526778</td><td style = \"text-align: right;\">1.02058</td><td style = \"text-align: right;\">0.79979</td></tr></tbody></table></div>"
      ],
      "text/latex": [
       "\\begin{tabular}{r|ccc}\n",
       "\t& x1 & x2 & z\\\\\n",
       "\t\\hline\n",
       "\t& Float64 & Float64 & Float64\\\\\n",
       "\t\\hline\n",
       "\t1 & 0.526778 & -1.02058 & 0.79979 \\\\\n",
       "\t2 & 0.831069 & -0.831069 & 0.960949 \\\\\n",
       "\t3 & 1.02058 & -0.526778 & 0.79979 \\\\\n",
       "\t4 & -0.441616 & -0.441616 & 2.48823 \\\\\n",
       "\t5 & 1.52986e-15 & -3.73033e-15 & 4.0 \\\\\n",
       "\t6 & 0.441616 & 0.441616 & 2.48823 \\\\\n",
       "\t7 & -1.02058 & 0.526778 & 0.79979 \\\\\n",
       "\t8 & -0.831069 & 0.831069 & 0.960949 \\\\\n",
       "\t9 & -0.526778 & 1.02058 & 0.79979 \\\\\n",
       "\\end{tabular}\n"
      ],
      "text/plain": [
       "\u001b[1m9×3 DataFrame\u001b[0m\n",
       "\u001b[1m Row \u001b[0m│\u001b[1m x1           \u001b[0m\u001b[1m x2           \u001b[0m\u001b[1m z        \u001b[0m\n",
       "     │\u001b[90m Float64      \u001b[0m\u001b[90m Float64      \u001b[0m\u001b[90m Float64  \u001b[0m\n",
       "─────┼──────────────────────────────────────\n",
       "   1 │  0.526778     -1.02058      0.79979\n",
       "   2 │  0.831069     -0.831069     0.960949\n",
       "   3 │  1.02058      -0.526778     0.79979\n",
       "   4 │ -0.441616     -0.441616     2.48823\n",
       "   5 │  1.52986e-15  -3.73033e-15  4.0\n",
       "   6 │  0.441616      0.441616     2.48823\n",
       "   7 │ -1.02058       0.526778     0.79979\n",
       "   8 │ -0.831069      0.831069     0.960949\n",
       "   9 │ -0.526778      1.02058      0.79979"
      ]
     },
     "metadata": {},
     "output_type": "display_data"
    }
   ],
   "source": [
    "df_cheb = msolve_parser(\"outputs.ms\", f, scale_factor, n)"
   ]
  },
  {
   "cell_type": "code",
   "execution_count": 7,
   "metadata": {},
   "outputs": [
    {
     "name": "stderr",
     "output_type": "stream",
     "text": [
      "WARNING: redefinition of constant Main.scale_factor. This may fail, cause incorrect answers, or produce other errors.\n"
     ]
    },
    {
     "data": {
      "text/plain": [
       "GLMakie.Screen(...)"
      ]
     },
     "metadata": {},
     "output_type": "display_data"
    }
   ],
   "source": [
    "using GLMakie\n",
    "\n",
    "# Extract coordinates and function values\n",
    "# Change the coordinates to uniform grid\n",
    "coords = pol_cheb.scale_factor * pol_cheb.grid\n",
    "z_coords = pol_cheb.z\n",
    "\n",
    "if size(coords)[2] == 2  # Plot if the dimensions are 2\n",
    "    fig = Figure(size=(800, 600))\n",
    "    ax = Axis3(fig[1, 1], title=\"Deuflhard Function\",\n",
    "        xlabel=\"X-axis\", ylabel=\"Y-axis\", zlabel=\"Z-axis\")\n",
    "\n",
    "    # Scale the domain\n",
    "    scale_factor = pol_cheb.scale_factor  # Using the scale factor from your polynomial\n",
    "\n",
    "    # Define threshold for switching between scatter and surface\n",
    "    point_threshold = 1000  # Adjust this value based on your needs\n",
    "    sample_fraction = 0.2   # Fraction of points to use if exceeding threshold\n",
    "\n",
    "    if length(z_coords) > point_threshold\n",
    "        # Create a regular grid for surface plotting\n",
    "        x_unique = sort(unique(coords[:, 1]))\n",
    "        y_unique = sort(unique(coords[:, 2]))\n",
    "\n",
    "        # Determine grid dimensions\n",
    "        nx = length(x_unique)\n",
    "        ny = length(y_unique)\n",
    "\n",
    "        # Reshape data into a grid\n",
    "        z_grid = reshape(z_coords, nx, ny)\n",
    "\n",
    "        # Create surface plot with scaled domain\n",
    "        surface!(ax, scale_factor .* x_unique, scale_factor .* y_unique, z_grid,\n",
    "            colormap=:viridis,\n",
    "            transparency=true,\n",
    "            alpha=0.8)\n",
    "\n",
    "        # Sample a fraction of points for scatter overlay\n",
    "        n_points = length(z_coords)\n",
    "        sample_indices = rand(1:n_points, Int(floor(n_points * sample_fraction)))\n",
    "\n",
    "        # Plot sampled scatter points with scaled domain\n",
    "        scatter!(ax, scale_factor .* coords[sample_indices, 1],\n",
    "            scale_factor .* coords[sample_indices, 2],\n",
    "            z_coords[sample_indices],\n",
    "            markersize=2,\n",
    "            color=:black,\n",
    "            label=\"Sampled Data Points\")\n",
    "    else\n",
    "        # Original scatter plot for smaller datasets with scaled domain\n",
    "        scatter!(ax, scale_factor .* coords[:, 1],\n",
    "            scale_factor .* coords[:, 2],\n",
    "            z_coords,\n",
    "            markersize=2,\n",
    "            color=:black,\n",
    "            label=\"Sampled Data Core\")\n",
    "\n",
    "        scatter!(ax, scale_factor .* coords[:, 1],\n",
    "            scale_factor .* coords[:, 2],\n",
    "            z_coords,\n",
    "            markersize=4,\n",
    "            color=z_coords,\n",
    "            colormap=:viridis,\n",
    "            label=\"Sampled Data Halo\")\n",
    "    end\n",
    "\n",
    "    # Plot the critical points with scaled domain\n",
    "    scatter!(ax, scale_factor .* df_cheb.x1,\n",
    "        scale_factor .* df_cheb.x2,\n",
    "        df_cheb.z,\n",
    "        markersize=10,\n",
    "        color=:orange,\n",
    "        label=\"Chebyshev approximant critical points\")\n",
    "\n",
    "    # scatter!(ax, scale_factor .* df_lege.x1,\n",
    "    #     scale_factor .* df_lege.x2,\n",
    "    #     df_lege.z,\n",
    "    #     markersize=10,\n",
    "    #     color=:yellow,\n",
    "    #     label=\"Legendre approximant critical points\")\n",
    "\n",
    "    display(fig)\n",
    "end"
   ]
  }
 ],
 "metadata": {
  "kernelspec": {
   "display_name": "Julia 1.11.2",
   "language": "julia",
   "name": "julia-1.11"
  },
  "language_info": {
   "file_extension": ".jl",
   "mimetype": "application/julia",
   "name": "julia",
   "version": "1.11.2"
  }
 },
 "nbformat": 4,
 "nbformat_minor": 2
}
