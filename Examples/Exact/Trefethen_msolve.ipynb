{
 "cells": [
  {
   "cell_type": "markdown",
   "metadata": {},
   "source": [
    "What we need is a small parcel to work on, with a nice contourplot with critical points and minima found after initiating local method and then a 3d plot. "
   ]
  },
  {
   "cell_type": "code",
   "execution_count": null,
   "metadata": {},
   "outputs": [],
   "source": [
    "using Pkg\n",
    "Pkg.activate(\"../../.\")\n",
    "using Globtim\n",
    "using DynamicPolynomials, DataFrames"
   ]
  },
  {
   "cell_type": "code",
   "execution_count": null,
   "metadata": {},
   "outputs": [],
   "source": [
    "# Constants and Parameters\n",
    "const n, a, b = 2, 4, 12\n",
    "const scale_factor = a / b   # Scaling factor appears in `main_computation`, maybe it should be a parameter.\n",
    "const delta, alpha = 0.5, 1 / 10  # Sampling parameters\n",
    "const tol_l2 = 3e-4            # Define the tolerance for the L2-norm\n",
    "f = tref # Objective function"
   ]
  },
  {
   "cell_type": "markdown",
   "metadata": {},
   "source": [
    "One may assume that when we have access to exact evaluations, we would want to have a small $L^2$-norm tolerance `tol_l2 = 5e-4` and high probability of computing an accurate discrete $L^2$-norm `alpha= 1/10`.\n",
    "\n",
    "We need to also return the number of samples used to generate the sample set. It is annoying that the error goes up while the degree has increased."
   ]
  },
  {
   "cell_type": "code",
   "execution_count": 3,
   "metadata": {},
   "outputs": [],
   "source": [
    "# rand_center = [2*rand()-1, 2*rand()-1]*.75; # Random center\n",
    "# rand_center = [0.4694712315165298, -0.45637754560934185]\n",
    "rand_center = [0.0, 0.0];"
   ]
  },
  {
   "cell_type": "code",
   "execution_count": null,
   "metadata": {},
   "outputs": [],
   "source": [
    "d = 26 # Initial Degree \n",
    "SMPL = 300 # Number of samples\n",
    "TR = test_input(f, \n",
    "                dim = n,\n",
    "                center=rand_center,\n",
    "                GN=SMPL, \n",
    "                sample_range=scale_factor, \n",
    "                degree_max = d+4\n",
    "                )\n",
    "pol_cheb = Constructor(TR, d, basis=:chebyshev)\n",
    "pol_lege = Constructor(TR, d, basis=:legendre);\n",
    "\n",
    "@polyvar(x[1:n]); # Define polynomial ring "
   ]
  },
  {
   "cell_type": "markdown",
   "metadata": {},
   "source": [
    "Solve the system of partial derivatives using `Msolve`. For degree `26` on tref centered at `rand_center = [0.4694712315165298, -0.45637754560934185]` and `a/b = 7//12`, `msolve runs single threaded in 5m 2.2 s. With 10 threads, it runs in 4m 48.2 s. \n",
    "The slow part of the process is the real root isolation it would seem. "
   ]
  },
  {
   "cell_type": "code",
   "execution_count": null,
   "metadata": {},
   "outputs": [],
   "source": [
    "df_cheb = solve_and_parse(pol_cheb, x, f, TR)\n",
    "sort!(df_cheb, :z, rev=true)"
   ]
  },
  {
   "cell_type": "code",
   "execution_count": null,
   "metadata": {},
   "outputs": [],
   "source": [
    "df_lege = solve_and_parse(pol_lege, x, f, TR, basis=:legendre)\n",
    "sort!(df_lege, :z, rev=true)"
   ]
  },
  {
   "cell_type": "code",
   "execution_count": null,
   "metadata": {},
   "outputs": [],
   "source": [
    "using Optim\n",
    "df_cheb.steps = zeros(nrow(df_cheb))\n",
    "df_cheb.converged = zeros(nrow(df_cheb))\n",
    "\n",
    "for i in 1:nrow(df_cheb)\n",
    "    # println(\"Optimizing for point $i\")\n",
    "    x0 = [df_cheb.x1[i], df_cheb.x2[i]]\n",
    "    res = Optim.optimize(f, x0, LBFGS(), Optim.Options(show_trace=false))\n",
    "    minimizer = Optim.minimizer(res)\n",
    "    min_value = Optim.minimum(res)\n",
    "    steps = res.iterations\n",
    "    converged = Optim.converged(res)\n",
    "\n",
    "    # df.dist_to_loc_min[i] = distance\n",
    "    df_cheb.steps[i] = steps\n",
    "    df_cheb.converged[i] = min_value\n",
    "    summary(res)\n",
    "end\n",
    "df_cheb"
   ]
  },
  {
   "cell_type": "code",
   "execution_count": null,
   "metadata": {},
   "outputs": [],
   "source": [
    "using GLMakie\n",
    "function plot_polyapprox_rotate(pol::ApproxPoly, TR::test_input, df::DataFrame)\n",
    "    # Extract coordinates and function values\n",
    "    coords = pol.scale_factor * pol.grid .+ TR.center'\n",
    "    z_coords = pol.z\n",
    "\n",
    "    if size(coords)[2] == 2  # Plot if the dimensions are 2\n",
    "        fig = Figure(size=(800, 600))\n",
    "        ax = Axis3(fig[1, 1], title=\"Trefethen Function\",\n",
    "            xlabel=\"X-axis\", ylabel=\"Y-axis\", zlabel=\"Z-axis\")\n",
    "\n",
    "        # Create a regular grid for surface plotting\n",
    "        x_unique = sort(unique(coords[:, 1]))\n",
    "        y_unique = sort(unique(coords[:, 2]))\n",
    "\n",
    "        # Initialize the Z grid with NaN\n",
    "        Z = fill(NaN, (length(y_unique), length(x_unique)))\n",
    "\n",
    "        # Fill the Z grid by matching coordinates\n",
    "        for (idx, (x, y, z)) in enumerate(zip(coords[:, 1], coords[:, 2], z_coords))\n",
    "            i = findlast(≈(y), y_unique)\n",
    "            j = findlast(≈(x), x_unique)\n",
    "            if !isnothing(i) && !isnothing(j)\n",
    "                Z[j, i] = z\n",
    "            end\n",
    "        end\n",
    "\n",
    "        # Create surface plot\n",
    "        surface!(ax, x_unique, y_unique, Z,\n",
    "            colormap=:viridis,\n",
    "            transparency=true,\n",
    "            alpha=0.8)\n",
    "\n",
    "        # Plot the critical points\n",
    "        scatter!(ax, df.x1, df.x2,\n",
    "            df.z,\n",
    "            markersize=10,\n",
    "            color=:orange,\n",
    "            label=\"Chebyshev approximant critical points\")\n",
    "\n",
    "        # Record rotating animation\n",
    "        record(fig, \"trefethern_rotation.mp4\", 1:240; framerate=30) do frame\n",
    "            ax.azimuth[] = 1.7pi + 0.4 * sin(2pi * frame / 240)\n",
    "            ax.elevation[] = pi / 4 + 0.3 * cos(2pi * frame / 240)\n",
    "        end\n",
    "\n",
    "        display(fig)\n",
    "        return fig\n",
    "    end\n",
    "end"
   ]
  },
  {
   "cell_type": "code",
   "execution_count": 52,
   "metadata": {},
   "outputs": [],
   "source": [
    "plot_polyapprox_rotate(pol_cheb, TR, df_lege)"
   ]
  },
  {
   "cell_type": "code",
   "execution_count": 53,
   "metadata": {},
   "outputs": [],
   "source": [
    "# GLMakie.closeall()"
   ]
  }
 ],
 "metadata": {
  "kernelspec": {
   "display_name": "Julia 1.11.2",
   "language": "julia",
   "name": "julia-1.11"
  },
  "language_info": {
   "file_extension": ".jl",
   "mimetype": "application/julia",
   "name": "julia",
   "version": "1.11.2"
  }
 },
 "nbformat": 4,
 "nbformat_minor": 2
}
