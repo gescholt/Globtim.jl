{
 "cells": [
  {
   "cell_type": "markdown",
   "metadata": {},
   "source": [
    "## Cross in Tray "
   ]
  },
  {
   "cell_type": "code",
   "execution_count": 1,
   "metadata": {},
   "outputs": [
    {
     "name": "stderr",
     "output_type": "stream",
     "text": [
      "\u001b[32m\u001b[1m  Activating\u001b[22m\u001b[39m project at `~/Globtim.jl`\n"
     ]
    }
   ],
   "source": [
    "using Pkg\n",
    "Pkg.activate(\"../../.\")\n",
    "using Globtim\n",
    "using DynamicPolynomials, DataFrames\n",
    "using ProgressLogging"
   ]
  },
  {
   "cell_type": "code",
   "execution_count": 2,
   "metadata": {},
   "outputs": [
    {
     "data": {
      "text/plain": [
       "CrossInTray (generic function with 1 method)"
      ]
     },
     "metadata": {},
     "output_type": "display_data"
    }
   ],
   "source": [
    "# Constants and Parameters\n",
    "const n, a, b = 2, 10, 1\n",
    "const scale_factor = a / b   # Scaling factor appears in `main_computation`, maybe it should be a parameter.\n",
    "const delta, alpha = 0.5, 1 / 10  # Sampling parameters\n",
    "const tol_l2 = 3e-4            # Define the tolerance for the L2-norm\n",
    "f = CrossInTray # Objective function"
   ]
  },
  {
   "cell_type": "code",
   "execution_count": 3,
   "metadata": {},
   "outputs": [
    {
     "name": "stdout",
     "output_type": "stream",
     "text": [
      "current L2-norm: 0.08153403450667797\n",
      "Number of samples: 40\n",
      "current L2-norm: 0.08999454706062496\n",
      "Number of samples: 40\n"
     ]
    }
   ],
   "source": [
    "d = 10 # Initial Degree \n",
    "SMPL = 40 # Number of samples\n",
    "center = [0.0, 0.0]\n",
    "TR = test_input(n, center, (alpha, delta), tol_l2, (0.0, 0.0), scale_factor, 1.0, f)\n",
    "pol_cheb = Constructor(TR, d, GN=SMPL, basis=:chebyshev)\n",
    "pol_lege = Constructor(TR, d, GN=SMPL, basis=:legendre);"
   ]
  },
  {
   "cell_type": "code",
   "execution_count": 4,
   "metadata": {},
   "outputs": [
    {
     "data": {
      "text/plain": [
       "(Variable{DynamicPolynomials.Commutative{DynamicPolynomials.CreationOrder}, Graded{LexOrder}}[x₁, x₂],)"
      ]
     },
     "metadata": {},
     "output_type": "display_data"
    }
   ],
   "source": [
    "@polyvar(x[1:n]) # Define polynomial ring "
   ]
  },
  {
   "cell_type": "code",
   "execution_count": null,
   "metadata": {},
   "outputs": [
    {
     "name": "stdout",
     "output_type": "stream",
     "text": [
      "\u001b[32mTracking 81 paths...   2%|▊                             |  ETA: 0:07:47\u001b[39m\u001b[K\n",
      "\n",
      "\n",
      "\n",
      "\u001b[32mTracking 81 paths... 100%|██████████████████████████████| Time: 0:00:12\u001b[39m\u001b[K\n",
      "\u001b[34m  # paths tracked:                  81\u001b[39m\u001b[K\n",
      "\u001b[34m  # non-singular solutions (real):  81 (81)\u001b[39m\u001b[K\n",
      "\u001b[34m  # singular endpoints (real):      0 (0)\u001b[39m\u001b[K\n",
      "\u001b[34m  # total solutions (real):         81 (81)\u001b[39m\u001b[K\n",
      "\u001b[32mTracking 81 paths...   2%|▊                             |  ETA: 0:03:33\u001b[39m\u001b[K\n",
      "\n",
      "\n",
      "\n",
      "\u001b[32mTracking 81 paths...  12%|███▊                          |  ETA: 0:00:40\u001b[39m\u001b[K\n",
      "\n",
      "\n",
      "\n",
      "\u001b[32mTracking 81 paths...  22%|██████▋                       |  ETA: 0:00:20\u001b[39m\u001b[K\n",
      "\n",
      "\n",
      "\n",
      "\u001b[32mTracking 81 paths...  32%|█████████▋                    |  ETA: 0:00:13\u001b[39m\u001b[K\n",
      "\n",
      "\n",
      "\n",
      "\u001b[32mTracking 81 paths...  43%|█████████████                 |  ETA: 0:00:08\u001b[39m\u001b[K\n",
      "\n",
      "\n",
      "\n",
      "\u001b[32mTracking 81 paths...  54%|████████████████▎             |  ETA: 0:00:05\u001b[39m\u001b[K\n",
      "\n",
      "\n",
      "\n",
      "\u001b[32mTracking 81 paths...  62%|██████████████████▌           |  ETA: 0:00:04\u001b[39m\u001b[K\n",
      "\n",
      "\n",
      "\n",
      "\u001b[32mTracking 81 paths...  69%|████████████████████▊         |  ETA: 0:00:03\u001b[39m\u001b[K\n",
      "\n",
      "\n",
      "\n",
      "\u001b[32mTracking 81 paths...  78%|███████████████████████▍      |  ETA: 0:00:02\u001b[39m\u001b[K\n",
      "\n",
      "\n",
      "\n",
      "\u001b[32mTracking 81 paths...  89%|██████████████████████████▋   |  ETA: 0:00:01\u001b[39m\u001b[K\n",
      "\n",
      "\n",
      "\n",
      "\u001b[32mTracking 81 paths...  99%|█████████████████████████████▋|  ETA: 0:00:00\u001b[39m\u001b[K\n",
      "\n",
      "\n",
      "\n",
      "\u001b[32mTracking 81 paths... 100%|██████████████████████████████| Time: 0:00:07\u001b[39m\u001b[K\n",
      "\u001b[34m  # paths tracked:                  81\u001b[39m\u001b[K\n",
      "\u001b[34m  # non-singular solutions (real):  81 (81)\u001b[39m\u001b[K\n",
      "\u001b[34m  # singular endpoints (real):      0 (0)\u001b[39m\u001b[K\n",
      "\u001b[34m  # total solutions (real):         81 (81)\u001b[39m\u001b[K\n"
     ]
    },
    {
     "data": {
      "text/html": [
       "<div><div style = \"float: left;\"><span>81×3 DataFrame</span></div><div style = \"float: right;\"><span style = \"font-style: italic;\">56 rows omitted</span></div><div style = \"clear: both;\"></div></div><div class = \"data-frame\" style = \"overflow-x: scroll;\"><table class = \"data-frame\" style = \"margin-bottom: 6px;\"><thead><tr class = \"header\"><th class = \"rowNumber\" style = \"font-weight: bold; text-align: right;\">Row</th><th style = \"text-align: left;\">x</th><th style = \"text-align: left;\">y</th><th style = \"text-align: left;\">z</th></tr><tr class = \"subheader headerLastRow\"><th class = \"rowNumber\" style = \"font-weight: bold; text-align: right;\"></th><th title = \"Float64\" style = \"text-align: left;\">Float64</th><th title = \"Float64\" style = \"text-align: left;\">Float64</th><th title = \"Float64\" style = \"text-align: left;\">Float64</th></tr></thead><tbody><tr><td class = \"rowNumber\" style = \"font-weight: bold; text-align: right;\">1</td><td style = \"text-align: right;\">9.57872</td><td style = \"text-align: right;\">9.57872</td><td style = \"text-align: right;\">-9.83577</td></tr><tr><td class = \"rowNumber\" style = \"font-weight: bold; text-align: right;\">2</td><td style = \"text-align: right;\">7.8509</td><td style = \"text-align: right;\">9.5778</td><td style = \"text-align: right;\">-12.3041</td></tr><tr><td class = \"rowNumber\" style = \"font-weight: bold; text-align: right;\">3</td><td style = \"text-align: right;\">3.37724</td><td style = \"text-align: right;\">9.59715</td><td style = \"text-align: right;\">-11.5493</td></tr><tr><td class = \"rowNumber\" style = \"font-weight: bold; text-align: right;\">4</td><td style = \"text-align: right;\">-3.37724</td><td style = \"text-align: right;\">9.59715</td><td style = \"text-align: right;\">-11.5493</td></tr><tr><td class = \"rowNumber\" style = \"font-weight: bold; text-align: right;\">5</td><td style = \"text-align: right;\">-7.8509</td><td style = \"text-align: right;\">9.5778</td><td style = \"text-align: right;\">-12.3041</td></tr><tr><td class = \"rowNumber\" style = \"font-weight: bold; text-align: right;\">6</td><td style = \"text-align: right;\">-9.57872</td><td style = \"text-align: right;\">9.57872</td><td style = \"text-align: right;\">-9.83577</td></tr><tr><td class = \"rowNumber\" style = \"font-weight: bold; text-align: right;\">7</td><td style = \"text-align: right;\">-6.04338</td><td style = \"text-align: right;\">9.5898</td><td style = \"text-align: right;\">-11.1013</td></tr><tr><td class = \"rowNumber\" style = \"font-weight: bold; text-align: right;\">8</td><td style = \"text-align: right;\">4.88966e-16</td><td style = \"text-align: right;\">9.5931</td><td style = \"text-align: right;\">-0.399639</td></tr><tr><td class = \"rowNumber\" style = \"font-weight: bold; text-align: right;\">9</td><td style = \"text-align: right;\">6.04338</td><td style = \"text-align: right;\">9.5898</td><td style = \"text-align: right;\">-11.1013</td></tr><tr><td class = \"rowNumber\" style = \"font-weight: bold; text-align: right;\">10</td><td style = \"text-align: right;\">9.5778</td><td style = \"text-align: right;\">7.8509</td><td style = \"text-align: right;\">-12.3041</td></tr><tr><td class = \"rowNumber\" style = \"font-weight: bold; text-align: right;\">11</td><td style = \"text-align: right;\">7.80993</td><td style = \"text-align: right;\">7.80993</td><td style = \"text-align: right;\">-15.4944</td></tr><tr><td class = \"rowNumber\" style = \"font-weight: bold; text-align: right;\">12</td><td style = \"text-align: right;\">3.40337</td><td style = \"text-align: right;\">7.76855</td><td style = \"text-align: right;\">-14.6837</td></tr><tr><td class = \"rowNumber\" style = \"font-weight: bold; text-align: right;\">13</td><td style = \"text-align: right;\">-3.40337</td><td style = \"text-align: right;\">7.76855</td><td style = \"text-align: right;\">-14.6837</td></tr><tr><td style = \"text-align: right;\">&vellip;</td><td style = \"text-align: right;\">&vellip;</td><td style = \"text-align: right;\">&vellip;</td><td style = \"text-align: right;\">&vellip;</td></tr><tr><td class = \"rowNumber\" style = \"font-weight: bold; text-align: right;\">70</td><td style = \"text-align: right;\">-6.25807</td><td style = \"text-align: right;\">1.53732e-15</td><td style = \"text-align: right;\">-0.412198</td></tr><tr><td class = \"rowNumber\" style = \"font-weight: bold; text-align: right;\">71</td><td style = \"text-align: right;\">3.78711e-16</td><td style = \"text-align: right;\">1.33309e-15</td><td style = \"text-align: right;\">-0.0205713</td></tr><tr><td class = \"rowNumber\" style = \"font-weight: bold; text-align: right;\">72</td><td style = \"text-align: right;\">6.25807</td><td style = \"text-align: right;\">1.0114e-15</td><td style = \"text-align: right;\">-0.395296</td></tr><tr><td class = \"rowNumber\" style = \"font-weight: bold; text-align: right;\">73</td><td style = \"text-align: right;\">9.5898</td><td style = \"text-align: right;\">6.04338</td><td style = \"text-align: right;\">-11.1013</td></tr><tr><td class = \"rowNumber\" style = \"font-weight: bold; text-align: right;\">74</td><td style = \"text-align: right;\">7.77971</td><td style = \"text-align: right;\">6.1045</td><td style = \"text-align: right;\">-13.5238</td></tr><tr><td class = \"rowNumber\" style = \"font-weight: bold; text-align: right;\">75</td><td style = \"text-align: right;\">3.39151</td><td style = \"text-align: right;\">6.22244</td><td style = \"text-align: right;\">-11.5512</td></tr><tr><td class = \"rowNumber\" style = \"font-weight: bold; text-align: right;\">76</td><td style = \"text-align: right;\">-3.39151</td><td style = \"text-align: right;\">6.22244</td><td style = \"text-align: right;\">-11.5512</td></tr><tr><td class = \"rowNumber\" style = \"font-weight: bold; text-align: right;\">77</td><td style = \"text-align: right;\">-7.77971</td><td style = \"text-align: right;\">6.1045</td><td style = \"text-align: right;\">-13.5238</td></tr><tr><td class = \"rowNumber\" style = \"font-weight: bold; text-align: right;\">78</td><td style = \"text-align: right;\">-9.5898</td><td style = \"text-align: right;\">6.04338</td><td style = \"text-align: right;\">-11.1013</td></tr><tr><td class = \"rowNumber\" style = \"font-weight: bold; text-align: right;\">79</td><td style = \"text-align: right;\">-6.14654</td><td style = \"text-align: right;\">6.14654</td><td style = \"text-align: right;\">-11.2106</td></tr><tr><td class = \"rowNumber\" style = \"font-weight: bold; text-align: right;\">80</td><td style = \"text-align: right;\">6.97512e-16</td><td style = \"text-align: right;\">6.25807</td><td style = \"text-align: right;\">-0.380877</td></tr><tr><td class = \"rowNumber\" style = \"font-weight: bold; text-align: right;\">81</td><td style = \"text-align: right;\">6.14654</td><td style = \"text-align: right;\">6.14654</td><td style = \"text-align: right;\">-11.2106</td></tr></tbody></table></div>"
      ],
      "text/latex": [
       "\\begin{tabular}{r|ccc}\n",
       "\t& x & y & z\\\\\n",
       "\t\\hline\n",
       "\t& Float64 & Float64 & Float64\\\\\n",
       "\t\\hline\n",
       "\t1 & 9.57872 & 9.57872 & -9.83577 \\\\\n",
       "\t2 & 7.8509 & 9.5778 & -12.3041 \\\\\n",
       "\t3 & 3.37724 & 9.59715 & -11.5493 \\\\\n",
       "\t4 & -3.37724 & 9.59715 & -11.5493 \\\\\n",
       "\t5 & -7.8509 & 9.5778 & -12.3041 \\\\\n",
       "\t6 & -9.57872 & 9.57872 & -9.83577 \\\\\n",
       "\t7 & -6.04338 & 9.5898 & -11.1013 \\\\\n",
       "\t8 & 4.88966e-16 & 9.5931 & -0.399639 \\\\\n",
       "\t9 & 6.04338 & 9.5898 & -11.1013 \\\\\n",
       "\t10 & 9.5778 & 7.8509 & -12.3041 \\\\\n",
       "\t11 & 7.80993 & 7.80993 & -15.4944 \\\\\n",
       "\t12 & 3.40337 & 7.76855 & -14.6837 \\\\\n",
       "\t13 & -3.40337 & 7.76855 & -14.6837 \\\\\n",
       "\t14 & -7.80993 & 7.80993 & -15.4944 \\\\\n",
       "\t15 & -9.5778 & 7.8509 & -12.3041 \\\\\n",
       "\t16 & -6.1045 & 7.77971 & -13.5238 \\\\\n",
       "\t17 & 6.59998e-16 & 7.78536 & -0.521401 \\\\\n",
       "\t18 & 6.1045 & 7.77971 & -13.5238 \\\\\n",
       "\t19 & 9.59715 & 3.37724 & -11.5493 \\\\\n",
       "\t20 & 7.76855 & 3.40337 & -14.6837 \\\\\n",
       "\t21 & 3.27996 & 3.27996 & -12.7864 \\\\\n",
       "\t22 & -3.27996 & 3.27996 & -12.7864 \\\\\n",
       "\t23 & -7.76855 & 3.40337 & -14.6837 \\\\\n",
       "\t24 & -9.59715 & 3.37724 & -11.5493 \\\\\n",
       "\t$\\dots$ & $\\dots$ & $\\dots$ & $\\dots$ \\\\\n",
       "\\end{tabular}\n"
      ],
      "text/plain": [
       "\u001b[1m81×3 DataFrame\u001b[0m\n",
       "\u001b[1m Row \u001b[0m│\u001b[1m x            \u001b[0m\u001b[1m y           \u001b[0m\u001b[1m z           \u001b[0m\n",
       "     │\u001b[90m Float64      \u001b[0m\u001b[90m Float64     \u001b[0m\u001b[90m Float64     \u001b[0m\n",
       "─────┼────────────────────────────────────────\n",
       "   1 │  9.57872      9.57872       -9.83577\n",
       "   2 │  7.8509       9.5778       -12.3041\n",
       "   3 │  3.37724      9.59715      -11.5493\n",
       "   4 │ -3.37724      9.59715      -11.5493\n",
       "   5 │ -7.8509       9.5778       -12.3041\n",
       "   6 │ -9.57872      9.57872       -9.83577\n",
       "   7 │ -6.04338      9.5898       -11.1013\n",
       "   8 │  4.88966e-16  9.5931        -0.399639\n",
       "  ⋮  │      ⋮             ⋮            ⋮\n",
       "  75 │  3.39151      6.22244      -11.5512\n",
       "  76 │ -3.39151      6.22244      -11.5512\n",
       "  77 │ -7.77971      6.1045       -13.5238\n",
       "  78 │ -9.5898       6.04338      -11.1013\n",
       "  79 │ -6.14654      6.14654      -11.2106\n",
       "  80 │  6.97512e-16  6.25807       -0.380877\n",
       "  81 │  6.14654      6.14654      -11.2106\n",
       "\u001b[36m                               66 rows omitted\u001b[0m"
      ]
     },
     "metadata": {},
     "output_type": "display_data"
    }
   ],
   "source": [
    "real_pts_cheb = solve_polynomial_system(x, n, d, pol_cheb.coeffs; basis=:chebyshev, bigint=true)\n",
    "real_pts_lege = solve_polynomial_system(x, n, d, pol_lege.coeffs; basis=:legendre, bigint=true)\n",
    "# Usage example:\n",
    "df_cheb = process_critical_points(real_pts_cheb, f, scale_factor)\n",
    "df_lege = process_critical_points(real_pts_lege, f, scale_factor)"
   ]
  },
  {
   "cell_type": "code",
   "execution_count": null,
   "metadata": {},
   "outputs": [
    {
     "name": "stderr",
     "output_type": "stream",
     "text": [
      "2024-12-07 12:49:00.604 julia[6649:69754] +[IMKClient subclass]: chose IMKClient_Modern\n",
      "2024-12-07 12:49:01.077 julia[6649:69754] +[IMKInputSession subclass]: chose IMKInputSession_Modern\n"
     ]
    },
    {
     "data": {
      "text/plain": [
       "GLMakie.Screen(...)"
      ]
     },
     "metadata": {},
     "output_type": "display_data"
    }
   ],
   "source": [
    "using GLMakie\n",
    "\n",
    "# Extract coordinates and function values\n",
    "# Change the coordinates to uniform grid\n",
    "coords = pol_cheb.scale_factor * pol_lege.grid\n",
    "z_coords = pol_lege.z\n",
    "\n",
    "if size(coords)[2] == 2  # Plot if the dimensions are 2\n",
    "    fig = Figure(size=(800, 600))\n",
    "    ax = Axis3(fig[1, 1], title=\"Cross in Tray\",\n",
    "        xlabel=\"X-axis\", ylabel=\"Y-axis\", zlabel=\"Z-axis\")\n",
    "\n",
    "    # Scale the domain\n",
    "    scale_factor = pol_cheb.scale_factor  # Using the scale factor from your polynomial\n",
    "\n",
    "    # Define threshold for switching between scatter and surface\n",
    "    point_threshold = 1000  # Adjust this value based on your needs\n",
    "    sample_fraction = 0.2   # Fraction of points to use if exceeding threshold\n",
    "\n",
    "    if length(z_coords) > point_threshold\n",
    "        # Create a regular grid for surface plotting\n",
    "        x_unique = sort(unique(coords[:, 1]))\n",
    "        y_unique = sort(unique(coords[:, 2]))\n",
    "\n",
    "        # Determine grid dimensions\n",
    "        nx = length(x_unique)\n",
    "        ny = length(y_unique)\n",
    "\n",
    "        # Reshape data into a grid\n",
    "        z_grid = reshape(z_coords, nx, ny)\n",
    "\n",
    "        # Create surface plot with scaled domain\n",
    "        surface!(ax, scale_factor .* x_unique, scale_factor .* y_unique, z_grid,\n",
    "            colormap=:viridis,\n",
    "            transparency=true,\n",
    "            alpha=0.8)\n",
    "\n",
    "        # Sample a fraction of points for scatter overlay\n",
    "        n_points = length(z_coords)\n",
    "        sample_indices = rand(1:n_points, Int(floor(n_points * sample_fraction)))\n",
    "\n",
    "        # Plot sampled scatter points with scaled domain\n",
    "        scatter!(ax, scale_factor .* coords[sample_indices, 1],\n",
    "            scale_factor .* coords[sample_indices, 2],\n",
    "            z_coords[sample_indices],\n",
    "            markersize=2,\n",
    "            color=:black,\n",
    "            label=\"Sampled Data Points\")\n",
    "    else\n",
    "        # Original scatter plot for smaller datasets with scaled domain\n",
    "        scatter!(ax, scale_factor .* coords[:, 1],\n",
    "            scale_factor .* coords[:, 2],\n",
    "            z_coords,\n",
    "            markersize=2,\n",
    "            color=:black,\n",
    "            label=\"Sampled Data Core\")\n",
    "\n",
    "        scatter!(ax, scale_factor .* coords[:, 1],\n",
    "            scale_factor .* coords[:, 2],\n",
    "            z_coords,\n",
    "            markersize=4,\n",
    "            color=z_coords,\n",
    "            colormap=:viridis,\n",
    "            label=\"Sampled Data Halo\")\n",
    "    end\n",
    "\n",
    "    # Plot the critical points with scaled domain\n",
    "    scatter!(ax, scale_factor .* df_cheb.x,\n",
    "        scale_factor .* df_cheb.y,\n",
    "        df_cheb.z,\n",
    "        markersize=10,\n",
    "        color=:orange,\n",
    "        label=\"Chebyshev approximant critical points\")\n",
    "\n",
    "    scatter!(ax, scale_factor .* df_lege.x,\n",
    "        scale_factor .* df_lege.y,\n",
    "        df_lege.z,\n",
    "        markersize=10,\n",
    "        color=:yellow,\n",
    "        label=\"Legendre approximant critical points\")\n",
    "\n",
    "    display(fig)\n",
    "end"
   ]
  }
 ],
 "metadata": {
  "kernelspec": {
   "display_name": "Julia 1.11.2",
   "language": "julia",
   "name": "julia-1.11"
  },
  "language_info": {
   "file_extension": ".jl",
   "mimetype": "application/julia",
   "name": "julia",
   "version": "1.11.2"
  }
 },
 "nbformat": 4,
 "nbformat_minor": 2
}
