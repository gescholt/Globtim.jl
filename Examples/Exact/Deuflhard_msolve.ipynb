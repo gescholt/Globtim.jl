{
 "cells": [
  {
   "cell_type": "markdown",
   "metadata": {},
   "source": [
    "What we need is a small parcel to work on, with a nice contourplot with critical points and minima found after initiating local method and then a 3d plot. "
   ]
  },
  {
   "cell_type": "code",
   "execution_count": 2,
   "metadata": {},
   "outputs": [
    {
     "name": "stderr",
     "output_type": "stream",
     "text": [
      "\u001b[32m\u001b[1m  Activating\u001b[22m\u001b[39m project at `~/Globtim.jl`\n"
     ]
    }
   ],
   "source": [
    "using Pkg\n",
    "Pkg.activate(\"../../.\")\n",
    "using Globtim\n",
    "using DynamicPolynomials, DataFrames\n",
    "using ProgressLogging"
   ]
  },
  {
   "cell_type": "code",
   "execution_count": 3,
   "metadata": {},
   "outputs": [
    {
     "data": {
      "text/plain": [
       "Deuflhard (generic function with 1 method)"
      ]
     },
     "metadata": {},
     "output_type": "display_data"
    }
   ],
   "source": [
    "# Constants and Parameters\n",
    "const n, a, b = 2, 11, 10\n",
    "const scale_factor = a / b   # Scaling factor appears in `main_computation`, maybe it should be a parameter.\n",
    "const delta, alpha = 0.5, 1 / 10  # Sampling parameters\n",
    "const tol_l2 = 3e-4            # Define the tolerance for the L2-norm\n",
    "f = Deuflhard # Objective function"
   ]
  },
  {
   "cell_type": "markdown",
   "metadata": {},
   "source": [
    "One may assume that when we have access to exact evaluations, we would want to have a small $L^2$-norm tolerance `tol_l2 = 5e-4` and high probability of computing an accurate discrete $L^2$-norm `alpha= 1/10`.\n",
    "\n",
    "We need to also return the number of samples used to generate the sample set. It is annoying that the error goes up while the degree has increased."
   ]
  },
  {
   "cell_type": "code",
   "execution_count": 4,
   "metadata": {},
   "outputs": [
    {
     "name": "stdout",
     "output_type": "stream",
     "text": [
      "current L2-norm: 0.009384317330376233\n",
      "Number of samples: 40\n",
      "current L2-norm: 0.009679838314339191\n",
      "Number of samples: 40\n"
     ]
    }
   ],
   "source": [
    "d = 8 # Initial Degree \n",
    "SMPL = 40 # Number of samples\n",
    "center = [0.0, 0.0]\n",
    "TR = test_input(n, center, (alpha, delta), tol_l2, (0.0, 0.0), scale_factor, 1.0, f)\n",
    "pol_cheb = Constructor(TR, d, GN=SMPL, basis=:chebyshev)\n",
    "pol_lege = Constructor(TR, d, GN=SMPL, basis=:legendre);\n",
    "\n",
    "@polyvar(x[1:n]); # Define polynomial ring "
   ]
  },
  {
   "cell_type": "code",
   "execution_count": 5,
   "metadata": {},
   "outputs": [
    {
     "name": "stdout",
     "output_type": "stream",
     "text": [
      "Input file already exists: inputs.ms\n",
      "Output file already exists: outputs.ms\n",
      "\n",
      "---------------- TIMINGS ----------------\n",
      "overall(elapsed)        0.00 sec\n",
      "overall(cpu)            0.00 sec\n",
      "select                  0.00 sec   7.7%\n",
      "symbolic prep.          0.00 sec  15.0%\n",
      "update                  0.00 sec  16.7%\n",
      "convert                 0.00 sec  22.5%\n",
      "linear algebra          0.00 sec  12.5%\n",
      "reduce gb               0.00 sec   0.0%\n",
      "-----------------------------------------\n",
      "\n",
      "---------- COMPUTATIONAL DATA -----------\n",
      "size of basis                     8\n",
      "#terms in basis                 350\n",
      "#pairs reduced                    8\n",
      "#GM criterion                    28\n",
      "#redundant elements               1\n",
      "#rows reduced                    24\n",
      "#zero reductions                  1\n",
      "max. matrix data                 17 x 65 (69.321%)\n",
      "max. symbolic hash table size  2^11\n",
      "max. basis hash table size     2^16\n",
      "-----------------------------------------\n",
      "\n",
      "\n",
      "---------------- TIMINGS ----------------\n",
      "overall(elapsed)        0.00 sec\n",
      "overall(cpu)            0.00 sec\n",
      "-----------------------------------------\n",
      "\n",
      "---------- COMPUTATIONAL DATA -----------\n",
      "degree of ideal                  49\n",
      "#dense rows                       7\n",
      "#normal forms                     0\n",
      "total density                    89.8%\n",
      "density of the free part         89.8%\n",
      "deg. elim. pol.                  49\n",
      "deg. sqfr. elim. pol.            49\n",
      "-----------------------------------------\n",
      "\n",
      "\n",
      "---------------- TIMINGS ----------------\n",
      "multi-mod overall(elapsed)      0.00 sec\n",
      "multi-mod F4                    0.00 sec\n",
      "multi-mod FGLM                  0.00 sec\n",
      "-----------------------------------------\n",
      "\n",
      "multi-modular steps\n",
      "------------------------------------------------------------------------------------------------------\n",
      "{2}{4}{8}\n",
      "<Step:2/0.00/0.00>{16}\n",
      "<Step:4/0.00/0.00>{32}{64}\n",
      "<Step:8/0.00/0.00>"
     ]
    },
    {
     "name": "stderr",
     "output_type": "stream",
     "text": [
      "\n",
      "--------------- INPUT DATA ---------------\n",
      "#variables                       2\n",
      "#equations                       2\n",
      "#invalid equations               0\n",
      "field characteristic             0\n",
      "homogeneous input?               0\n",
      "signature-based computation      0\n",
      "monomial order                 DRL\n",
      "basis hash table resetting     OFF\n",
      "linear algebra option            2\n",
      "initial hash table size     131072 (2^17)\n",
      "max pair selection             ALL\n",
      "reduce gb                        1\n",
      "#threads                         1\n",
      "info level                       1\n",
      "generate pbm files               0\n",
      "------------------------------------------\n"
     ]
    },
    {
     "name": "stdout",
     "output_type": "stream",
     "text": [
      "\n",
      "<Step:16/0.00/0.01>\n",
      "------------------------------------------------------------------------------------------------------\n",
      "\n",
      "---------- COMPUTATIONAL DATA -----------\n",
      "#primes                         119\n",
      "#bad primes                       0\n",
      "-----------------------------------------\n",
      "\n",
      "---------------- TIMINGS ----------------\n",
      "CRT and ratrecon(elapsed)       0.00 sec\n",
      "-----------------------------------------\n",
      "\n",
      "---------------- TIMINGS ----------------\n",
      "rational param(elapsed)         0.15 sec\n",
      "rational param(cpu)             0.14 sec\n",
      "-----------------------------------------\n"
     ]
    },
    {
     "name": "stderr",
     "output_type": "stream",
     "text": [
      "[0][1]Real root isolation starts at precision 174\n",
      "Number of real roots: 9\n",
      "Starts real root extraction.\n",
      "Elapsed time (real root extraction) = 0.00\n",
      "\n",
      "\n",
      "------------------------------------------------------------------------------------\n",
      "msolve overall time           0.15 sec (elapsed) /  0.14 sec (cpu)\n",
      "------------------------------------------------------------------------------------\n"
     ]
    },
    {
     "data": {
      "text/plain": [
       "Process(`\u001b[4mmsolve\u001b[24m \u001b[4m-v\u001b[24m \u001b[4m1\u001b[24m \u001b[4m-f\u001b[24m \u001b[4minputs.ms\u001b[24m \u001b[4m-o\u001b[24m \u001b[4moutputs.ms\u001b[24m`, ProcessExited(0))"
      ]
     },
     "metadata": {},
     "output_type": "display_data"
    }
   ],
   "source": [
    "msolve_polynomial_system(pol_cheb, x)"
   ]
  },
  {
   "cell_type": "markdown",
   "metadata": {},
   "source": [
    "Solve the system of partial derivatives using `Msolve`. "
   ]
  },
  {
   "cell_type": "code",
   "execution_count": 6,
   "metadata": {},
   "outputs": [
    {
     "data": {
      "text/html": [
       "<div><div style = \"float: left;\"><span>9×3 DataFrame</span></div><div style = \"clear: both;\"></div></div><div class = \"data-frame\" style = \"overflow-x: scroll;\"><table class = \"data-frame\" style = \"margin-bottom: 6px;\"><thead><tr class = \"header\"><th class = \"rowNumber\" style = \"font-weight: bold; text-align: right;\">Row</th><th style = \"text-align: left;\">x1</th><th style = \"text-align: left;\">x2</th><th style = \"text-align: left;\">z</th></tr><tr class = \"subheader headerLastRow\"><th class = \"rowNumber\" style = \"font-weight: bold; text-align: right;\"></th><th title = \"Float64\" style = \"text-align: left;\">Float64</th><th title = \"Float64\" style = \"text-align: left;\">Float64</th><th title = \"Float64\" style = \"text-align: left;\">Float64</th></tr></thead><tbody><tr><td class = \"rowNumber\" style = \"font-weight: bold; text-align: right;\">1</td><td style = \"text-align: right;\">0.316356</td><td style = \"text-align: right;\">-0.998837</td><td style = \"text-align: right;\">0.0424662</td></tr><tr><td class = \"rowNumber\" style = \"font-weight: bold; text-align: right;\">2</td><td style = \"text-align: right;\">0.780329</td><td style = \"text-align: right;\">-0.780329</td><td style = \"text-align: right;\">0.144272</td></tr><tr><td class = \"rowNumber\" style = \"font-weight: bold; text-align: right;\">3</td><td style = \"text-align: right;\">-0.39892</td><td style = \"text-align: right;\">-0.39892</td><td style = \"text-align: right;\">2.65526</td></tr><tr><td class = \"rowNumber\" style = \"font-weight: bold; text-align: right;\">4</td><td style = \"text-align: right;\">0.998837</td><td style = \"text-align: right;\">-0.316356</td><td style = \"text-align: right;\">0.0424662</td></tr><tr><td class = \"rowNumber\" style = \"font-weight: bold; text-align: right;\">5</td><td style = \"text-align: right;\">1.04917e-15</td><td style = \"text-align: right;\">-4.33605e-15</td><td style = \"text-align: right;\">4.0</td></tr><tr><td class = \"rowNumber\" style = \"font-weight: bold; text-align: right;\">6</td><td style = \"text-align: right;\">-0.998837</td><td style = \"text-align: right;\">0.316356</td><td style = \"text-align: right;\">0.0424662</td></tr><tr><td class = \"rowNumber\" style = \"font-weight: bold; text-align: right;\">7</td><td style = \"text-align: right;\">0.39892</td><td style = \"text-align: right;\">0.39892</td><td style = \"text-align: right;\">2.65526</td></tr><tr><td class = \"rowNumber\" style = \"font-weight: bold; text-align: right;\">8</td><td style = \"text-align: right;\">-0.780329</td><td style = \"text-align: right;\">0.780329</td><td style = \"text-align: right;\">0.144272</td></tr><tr><td class = \"rowNumber\" style = \"font-weight: bold; text-align: right;\">9</td><td style = \"text-align: right;\">-0.316356</td><td style = \"text-align: right;\">0.998837</td><td style = \"text-align: right;\">0.0424662</td></tr></tbody></table></div>"
      ],
      "text/latex": [
       "\\begin{tabular}{r|ccc}\n",
       "\t& x1 & x2 & z\\\\\n",
       "\t\\hline\n",
       "\t& Float64 & Float64 & Float64\\\\\n",
       "\t\\hline\n",
       "\t1 & 0.316356 & -0.998837 & 0.0424662 \\\\\n",
       "\t2 & 0.780329 & -0.780329 & 0.144272 \\\\\n",
       "\t3 & -0.39892 & -0.39892 & 2.65526 \\\\\n",
       "\t4 & 0.998837 & -0.316356 & 0.0424662 \\\\\n",
       "\t5 & 1.04917e-15 & -4.33605e-15 & 4.0 \\\\\n",
       "\t6 & -0.998837 & 0.316356 & 0.0424662 \\\\\n",
       "\t7 & 0.39892 & 0.39892 & 2.65526 \\\\\n",
       "\t8 & -0.780329 & 0.780329 & 0.144272 \\\\\n",
       "\t9 & -0.316356 & 0.998837 & 0.0424662 \\\\\n",
       "\\end{tabular}\n"
      ],
      "text/plain": [
       "\u001b[1m9×3 DataFrame\u001b[0m\n",
       "\u001b[1m Row \u001b[0m│\u001b[1m x1           \u001b[0m\u001b[1m x2           \u001b[0m\u001b[1m z         \u001b[0m\n",
       "     │\u001b[90m Float64      \u001b[0m\u001b[90m Float64      \u001b[0m\u001b[90m Float64   \u001b[0m\n",
       "─────┼───────────────────────────────────────\n",
       "   1 │  0.316356     -0.998837     0.0424662\n",
       "   2 │  0.780329     -0.780329     0.144272\n",
       "   3 │ -0.39892      -0.39892      2.65526\n",
       "   4 │  0.998837     -0.316356     0.0424662\n",
       "   5 │  1.04917e-15  -4.33605e-15  4.0\n",
       "   6 │ -0.998837      0.316356     0.0424662\n",
       "   7 │  0.39892       0.39892      2.65526\n",
       "   8 │ -0.780329      0.780329     0.144272\n",
       "   9 │ -0.316356      0.998837     0.0424662"
      ]
     },
     "metadata": {},
     "output_type": "display_data"
    }
   ],
   "source": [
    "df_cheb = msolve_parser(\"outputs.ms\", f, scale_factor, n)"
   ]
  },
  {
   "cell_type": "code",
   "execution_count": 7,
   "metadata": {},
   "outputs": [
    {
     "name": "stderr",
     "output_type": "stream",
     "text": [
      "2024-12-10 18:53:14.983 julia[33160:2510561] +[IMKClient subclass]: chose IMKClient_Modern\n",
      "2024-12-10 18:53:14.983 julia[33160:2510561] +[IMKInputSession subclass]: chose IMKInputSession_Modern\n"
     ]
    },
    {
     "data": {
      "text/plain": [
       "GLMakie.Screen(...)"
      ]
     },
     "metadata": {},
     "output_type": "display_data"
    }
   ],
   "source": [
    "using GLMakie\n",
    "\n",
    "# Extract coordinates and function values\n",
    "# Change the coordinates to uniform grid\n",
    "coords = pol_cheb.scale_factor * pol_cheb.grid\n",
    "z_coords = pol_cheb.z\n",
    "\n",
    "if size(coords)[2] == 2  # Plot if the dimensions are 2\n",
    "    fig = Figure(size=(800, 600))\n",
    "    ax = Axis3(fig[1, 1], title=\"Deuflhard Function\",\n",
    "        xlabel=\"X-axis\", ylabel=\"Y-axis\", zlabel=\"Z-axis\")\n",
    "\n",
    "    # Scale the domain\n",
    "    scale_factor = pol_cheb.scale_factor  # Using the scale factor from your polynomial\n",
    "\n",
    "    # Define threshold for switching between scatter and surface\n",
    "    point_threshold = 1000  # Adjust this value based on your needs\n",
    "    sample_fraction = 0.2   # Fraction of points to use if exceeding threshold\n",
    "\n",
    "    if length(z_coords) > point_threshold\n",
    "        # Create a regular grid for surface plotting\n",
    "        x_unique = sort(unique(coords[:, 1]))\n",
    "        y_unique = sort(unique(coords[:, 2]))\n",
    "\n",
    "        # Determine grid dimensions\n",
    "        nx = length(x_unique)\n",
    "        ny = length(y_unique)\n",
    "\n",
    "        # Reshape data into a grid\n",
    "        z_grid = reshape(z_coords, nx, ny)\n",
    "\n",
    "        # Create surface plot with scaled domain\n",
    "        surface!(ax, scale_factor .* x_unique, scale_factor .* y_unique, z_grid,\n",
    "            colormap=:viridis,\n",
    "            transparency=true,\n",
    "            alpha=0.8)\n",
    "\n",
    "        # Sample a fraction of points for scatter overlay\n",
    "        n_points = length(z_coords)\n",
    "        sample_indices = rand(1:n_points, Int(floor(n_points * sample_fraction)))\n",
    "\n",
    "        # Plot sampled scatter points with scaled domain\n",
    "        scatter!(ax, scale_factor .* coords[sample_indices, 1],\n",
    "            scale_factor .* coords[sample_indices, 2],\n",
    "            z_coords[sample_indices],\n",
    "            markersize=2,\n",
    "            color=:black,\n",
    "            label=\"Sampled Data Points\")\n",
    "    else\n",
    "        # Original scatter plot for smaller datasets with scaled domain\n",
    "        scatter!(ax, scale_factor .* coords[:, 1],\n",
    "            scale_factor .* coords[:, 2],\n",
    "            z_coords,\n",
    "            markersize=2,\n",
    "            color=:black,\n",
    "            label=\"Sampled Data Core\")\n",
    "\n",
    "        scatter!(ax, scale_factor .* coords[:, 1],\n",
    "            scale_factor .* coords[:, 2],\n",
    "            z_coords,\n",
    "            markersize=4,\n",
    "            color=z_coords,\n",
    "            colormap=:viridis,\n",
    "            label=\"Sampled Data Halo\")\n",
    "    end\n",
    "\n",
    "    # Plot the critical points with scaled domain\n",
    "    scatter!(ax, scale_factor .* df_cheb.x1,\n",
    "        scale_factor .* df_cheb.x2,\n",
    "        df_cheb.z,\n",
    "        markersize=10,\n",
    "        color=:orange,\n",
    "        label=\"Chebyshev approximant critical points\")\n",
    "\n",
    "    # scatter!(ax, scale_factor .* df_lege.x1,\n",
    "    #     scale_factor .* df_lege.x2,\n",
    "    #     df_lege.z,\n",
    "    #     markersize=10,\n",
    "    #     color=:yellow,\n",
    "    #     label=\"Legendre approximant critical points\")\n",
    "\n",
    "    display(fig)\n",
    "end"
   ]
  }
 ],
 "metadata": {
  "kernelspec": {
   "display_name": "Julia 1.11.2",
   "language": "julia",
   "name": "julia-1.11"
  },
  "language_info": {
   "file_extension": ".jl",
   "mimetype": "application/julia",
   "name": "julia",
   "version": "1.11.2"
  }
 },
 "nbformat": 4,
 "nbformat_minor": 2
}
