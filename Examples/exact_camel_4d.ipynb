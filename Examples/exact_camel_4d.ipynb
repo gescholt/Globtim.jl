{
 "cells": [
  {
   "cell_type": "code",
   "execution_count": 10,
   "metadata": {},
   "outputs": [
    {
     "name": "stderr",
     "output_type": "stream",
     "text": [
      "WARNING: redefinition of constant Main.tol_l2. This may fail, cause incorrect answers, or produce other errors.\n"
     ]
    },
    {
     "data": {
      "text/plain": [
       "camel_4d (generic function with 1 method)"
      ]
     },
     "metadata": {},
     "output_type": "display_data"
    }
   ],
   "source": [
    "using Globtim\n",
    "using CSV\n",
    "using DataFrames\n",
    "include(\"../src/lib_func.jl\")\n",
    "\n",
    "# Load the dataframe from the CSV file\n",
    "df_2d = CSV.read(\"../data/camel_d6.csv\", DataFrame)\n",
    "\n",
    "# Constants and Parameters\n",
    "d = 3      # Degree \n",
    "const n, a, b = 4, 5, 1 \n",
    "const scale_factor = a / b  # Scaling constant, C is appears in `main_computation`, maybe it should be a parameter.\n",
    "const delta, alpha = .1 , 2 / 10  # Sampling parameters\n",
    "const tol_l2 = 1e-1               # Define the tolerance for the L2-norm\n",
    "# const tol_l2 = 1e-0\n",
    "# The objective function\n",
    "f = camel_4d \n",
    "# f = camel_3_by_3 # Objective function"
   ]
  },
  {
   "cell_type": "code",
   "execution_count": 11,
   "metadata": {},
   "outputs": [
    {
     "name": "stdout",
     "output_type": "stream",
     "text": [
      "current L2-norm: 23.606406291129833\n",
      "Number of samples: 7\n",
      "current L2-norm: 2.4807257531880382\n",
      "Number of samples: 9\n",
      "current L2-norm: 1.326509954507463\n",
      "Number of samples: 12\n",
      "attained the desired L2-norm: 6.834956284109819e-14\n"
     ]
    }
   ],
   "source": [
    "while true # Potential infinite loop\n",
    "    global poly_approx = MainGenerate(f, n, d, delta, alpha, scale_factor, 0.2) # computes the approximant in Chebyshev basis\n",
    "    if poly_approx.nrm < tol_l2\n",
    "        println(\"attained the desired L2-norm: \", poly_approx.nrm)\n",
    "        break\n",
    "    else\n",
    "        println(\"current L2-norm: \", poly_approx.nrm)\n",
    "        println(\"Number of samples: \", poly_approx.N)\n",
    "        global d += 1\n",
    "    end\n",
    "end"
   ]
  },
  {
   "cell_type": "code",
   "execution_count": 12,
   "metadata": {},
   "outputs": [],
   "source": [
    "# Assuming x is already defined as @polyvar x[1:2]\n",
    "loc = \"inputs.ms\"\n",
    "# File path of the output file\n",
    "file_path_output = \"outputs.ms\";"
   ]
  },
  {
   "cell_type": "code",
   "execution_count": 13,
   "metadata": {},
   "outputs": [],
   "source": [
    "using DynamicPolynomials, DataFrames\n",
    "ap = main_nd(n, d, poly_approx.coeffs)\n",
    "@polyvar(x[1:n]) # Define polynomial ring \n",
    "# Expand the polynomial approximant to the standard monomial basis in the Lexicographic order w.r.t x\n",
    "names = [x[i].name for i in 1:length(x)]\n",
    "open(loc, \"w\") do file\n",
    "    println(file, join(names, \", \"))\n",
    "    println(file, 0)\n",
    "end\n",
    "# Define the polynomial approximant \n",
    "PolynomialApproximant = sum(ap .* MonomialVector(x, 0:d))\n",
    "for i in 1:n\n",
    "    partial = differentiate(PolynomialApproximant, x[i])\n",
    "    partial_str = replace(string(partial), \"//\" => \"/\")\n",
    "    open(loc, \"a\") do file\n",
    "        if i < n\n",
    "            println(file, string(partial_str, \",\"))\n",
    "        else\n",
    "            println(file, partial_str)\n",
    "        end\n",
    "    end\n",
    "end"
   ]
  },
  {
   "cell_type": "markdown",
   "metadata": {},
   "source": [
    "Now we use Optim.jl package to initialize step 3 and converge to the local minimizers.\n",
    "How do we know we have everything ? Use simple combinations of "
   ]
  },
  {
   "cell_type": "code",
   "execution_count": 14,
   "metadata": {},
   "outputs": [
    {
     "name": "stderr",
     "output_type": "stream",
     "text": [
      "\n",
      "--------------- INPUT DATA ---------------\n",
      "#variables                       4\n",
      "#equations                       4\n",
      "#invalid equations               0\n",
      "field characteristic             0\n",
      "homogeneous input?               0\n",
      "signature-based computation      0\n",
      "monomial order                 DRL\n",
      "basis hash table resetting     OFF\n",
      "linear algebra option            2\n",
      "initial hash table size     131072 (2^17)\n",
      "max pair selection             ALL\n",
      "reduce gb                        1\n",
      "#threads                         1\n",
      "info level                       1\n",
      "generate pbm files               0\n",
      "------------------------------------------\n",
      "Dimension of quotient: 625\n",
      "[625, 85], Non trivial / Trivial = 13.60%\n",
      "Density of non-trivial part 91.70%\n",
      "Time spent to generate sequence (elapsed): 0.04 sec (1.80 Gops/sec)\n",
      "Time spent to compute eliminating polynomial (elapsed): 0.00 sec\n",
      "Elimination polynomial has degree 625.\n",
      "\n",
      "Starts multi-modular computations\n",
      "{2}{4}{8}{16}{32}{64}{128}{256}{512}\n",
      "<Step:2/0.02/0.08>{1024}\n",
      "<Step:4/0.03/0.15>\n",
      "<Step:8/0.06/0.28>{2048}\n",
      "<Step:16/0.11/0.54>[0][1][2][3]<3>[3]\n",
      "3401 primes used\n",
      "Time for CRT + rational reconstruction = 58.30\n",
      "Time for rational param:        315.79 (elapsed) sec / 315.69 sec (cpu)\n",
      "\n",
      "Real root isolation starts at precision 1839\n",
      "Number of real roots: 233\n",
      "Starts real root extraction.\n",
      "{58.80%}"
     ]
    },
    {
     "name": "stdout",
     "output_type": "stream",
     "text": [
      "\n",
      "---------------- TIMINGS ---------------\n",
      "overall(elapsed)        0.05 sec\n",
      "overall(cpu)            0.05 sec\n",
      "select                  0.00 sec   8.6%\n",
      "symbolic prep.          0.02 sec  32.4%\n",
      "update                  0.00 sec   2.9%\n",
      "convert                 0.00 sec   6.9%\n",
      "linear algebra          0.02 sec  46.9%\n",
      "reduce gb               0.00 sec   0.0%\n",
      "-----------------------------------------\n",
      "\n",
      "---------- COMPUTATIONAL DATA -----------\n",
      "size of basis                   108\n",
      "#terms in basis               55621\n",
      "#pairs reduced                  297\n",
      "#GM criterion                  5808\n",
      "#redundant elements               3\n",
      "#rows reduced                   702\n",
      "#zero reductions                190\n",
      "max. matrix data                390 x 990 (39.294%)\n",
      "max. symbolic hash table size  2^11\n",
      "max. basis hash table size     2^16\n",
      "-----------------------------------------\n",
      "\n"
     ]
    },
    {
     "name": "stderr",
     "output_type": "stream",
     "text": [
      "Elapsed time (real root extraction) = 186.34\n",
      "------------------------------------------------------------------------------------\n",
      "msolve overall time         859.68 sec (elapsed) / 859.29 sec (cpu)\n",
      "------------------------------------------------------------------------------------\n"
     ]
    },
    {
     "data": {
      "text/plain": [
       "Process(`\u001b[4mmsolve\u001b[24m \u001b[4m-v\u001b[24m \u001b[4m1\u001b[24m \u001b[4m-f\u001b[24m \u001b[4minputs.ms\u001b[24m \u001b[4m-o\u001b[24m \u001b[4moutputs.ms\u001b[24m`, ProcessExited(0))"
      ]
     },
     "metadata": {},
     "output_type": "display_data"
    }
   ],
   "source": [
    "run(`msolve -v 1 -f inputs.ms -o outputs.ms`)"
   ]
  },
  {
   "cell_type": "markdown",
   "metadata": {},
   "source": [
    "Construct a Dataframe with only the critical points of the approximant $w_d$ which fall into the $[-1, 1]^4$ domain and rescale them to the original domain. "
   ]
  },
  {
   "cell_type": "code",
   "execution_count": 15,
   "metadata": {},
   "outputs": [],
   "source": [
    "function average(X::Vector{Int})::Float64\n",
    "    return sum(X) / length(X)\n",
    "end\n",
    "\n",
    "# Process the file and get the points\n",
    "evaled = process_output_file(file_path_output)\n",
    "\n",
    "# Parse the points into correct format\n",
    "real_pts = []\n",
    "for pts in evaled\n",
    "    if typeof(pts) == Vector{Vector{Vector{BigInt}}}\n",
    "        X = parse_point(pts)\n",
    "    else\n",
    "        X = average.(pts)\n",
    "    end\n",
    "    push!(real_pts, Float64.(X))\n",
    "end\n",
    "\n",
    "condition(point) = -1 < point[1] < 1 && -1 < point[2] < 1 && -1 < point[3] < 1 && -1 < point[4] < 1 \n",
    "filtered_points = filter(condition, real_pts) # Filter points using the filter function\n",
    "# Colllect the critical points of the approximant \n",
    "h_x1 = scale_factor * Float64[point[1] for point in filtered_points] # Initialize the x vector for critical points of approximant\n",
    "h_x2 = scale_factor * Float64[point[2] for point in filtered_points] \n",
    "h_x3 = scale_factor * Float64[point[3] for point in filtered_points] \n",
    "h_x4 = scale_factor * Float64[point[4] for point in filtered_points] \n",
    "\n",
    "height = map(p -> f(p), zip(h_x1, h_x2, h_x3, h_x4)) # Compute the height of the critical points\n",
    "df = DataFrame(x1 = h_x1, x2 = h_x2, x3 = h_x3, x4 = h_x4, height = height); # Create a DataFrame"
   ]
  },
  {
   "cell_type": "markdown",
   "metadata": {},
   "source": [
    "Now we want to compute the distance between the critical points of the 2d function.\n",
    "\n",
    "The true \"exact\" critical points of the 2d `Camel` (6 humps) function are stored in `df_2d`. \n",
    "\n",
    "We compute which of those are the closest to the `[1:2]` and `[3:4]` coordinates of the critical points of our 4d approximant.  \n",
    "\n",
    "The true critical points are stored in `df_2d`. Need to split to distance to minima first coordinate and second set of coordinates ten combine them.\n"
   ]
  },
  {
   "cell_type": "code",
   "execution_count": 16,
   "metadata": {},
   "outputs": [
    {
     "data": {
      "text/html": [
       "<div><div style = \"float: left;\"><span>225×6 DataFrame</span></div><div style = \"float: right;\"><span style = \"font-style: italic;\">200 rows omitted</span></div><div style = \"clear: both;\"></div></div><div class = \"data-frame\" style = \"overflow-x: scroll;\"><table class = \"data-frame\" style = \"margin-bottom: 6px;\"><thead><tr class = \"header\"><th class = \"rowNumber\" style = \"font-weight: bold; text-align: right;\">Row</th><th style = \"text-align: left;\">x1</th><th style = \"text-align: left;\">x2</th><th style = \"text-align: left;\">x3</th><th style = \"text-align: left;\">x4</th><th style = \"text-align: left;\">height</th><th style = \"text-align: left;\">total_distance</th></tr><tr class = \"subheader headerLastRow\"><th class = \"rowNumber\" style = \"font-weight: bold; text-align: right;\"></th><th title = \"Float64\" style = \"text-align: left;\">Float64</th><th title = \"Float64\" style = \"text-align: left;\">Float64</th><th title = \"Float64\" style = \"text-align: left;\">Float64</th><th title = \"Float64\" style = \"text-align: left;\">Float64</th><th title = \"Float64\" style = \"text-align: left;\">Float64</th><th title = \"Float64\" style = \"text-align: left;\">Float64</th></tr></thead><tbody><tr><td class = \"rowNumber\" style = \"font-weight: bold; text-align: right;\">1</td><td style = \"text-align: right;\">1.63807</td><td style = \"text-align: right;\">0.228674</td><td style = \"text-align: right;\">1.70361</td><td style = \"text-align: right;\">-0.796084</td><td style = \"text-align: right;\">2.01389</td><td style = \"text-align: right;\">2.6282e-13</td></tr><tr><td class = \"rowNumber\" style = \"font-weight: bold; text-align: right;\">2</td><td style = \"text-align: right;\">1.23023</td><td style = \"text-align: right;\">0.162335</td><td style = \"text-align: right;\">1.70361</td><td style = \"text-align: right;\">-0.796084</td><td style = \"text-align: right;\">2.28083</td><td style = \"text-align: right;\">2.6736e-13</td></tr><tr><td class = \"rowNumber\" style = \"font-weight: bold; text-align: right;\">3</td><td style = \"text-align: right;\">-1.70361</td><td style = \"text-align: right;\">0.796084</td><td style = \"text-align: right;\">1.70361</td><td style = \"text-align: right;\">-0.796084</td><td style = \"text-align: right;\">-0.430928</td><td style = \"text-align: right;\">2.70774e-13</td></tr><tr><td class = \"rowNumber\" style = \"font-weight: bold; text-align: right;\">4</td><td style = \"text-align: right;\">-1.10921</td><td style = \"text-align: right;\">0.768268</td><td style = \"text-align: right;\">1.70361</td><td style = \"text-align: right;\">-0.796084</td><td style = \"text-align: right;\">0.328255</td><td style = \"text-align: right;\">2.70776e-13</td></tr><tr><td class = \"rowNumber\" style = \"font-weight: bold; text-align: right;\">5</td><td style = \"text-align: right;\">-0.089842</td><td style = \"text-align: right;\">0.712656</td><td style = \"text-align: right;\">1.70361</td><td style = \"text-align: right;\">-0.796084</td><td style = \"text-align: right;\">-1.24709</td><td style = \"text-align: right;\">2.70814e-13</td></tr><tr><td class = \"rowNumber\" style = \"font-weight: bold; text-align: right;\">6</td><td style = \"text-align: right;\">1.29607</td><td style = \"text-align: right;\">0.605084</td><td style = \"text-align: right;\">1.70361</td><td style = \"text-align: right;\">-0.796084</td><td style = \"text-align: right;\">2.01401</td><td style = \"text-align: right;\">2.75723e-13</td></tr><tr><td class = \"rowNumber\" style = \"font-weight: bold; text-align: right;\">7</td><td style = \"text-align: right;\">1.6071</td><td style = \"text-align: right;\">0.568651</td><td style = \"text-align: right;\">1.70361</td><td style = \"text-align: right;\">-0.796084</td><td style = \"text-align: right;\">1.88879</td><td style = \"text-align: right;\">2.81017e-13</td></tr><tr><td class = \"rowNumber\" style = \"font-weight: bold; text-align: right;\">8</td><td style = \"text-align: right;\">-2.27304e-14</td><td style = \"text-align: right;\">1.04609e-13</td><td style = \"text-align: right;\">1.70361</td><td style = \"text-align: right;\">-0.796084</td><td style = \"text-align: right;\">-0.215464</td><td style = \"text-align: right;\">2.82317e-13</td></tr><tr><td class = \"rowNumber\" style = \"font-weight: bold; text-align: right;\">9</td><td style = \"text-align: right;\">-0.089842</td><td style = \"text-align: right;\">0.712656</td><td style = \"text-align: right;\">1.10921</td><td style = \"text-align: right;\">-0.768268</td><td style = \"text-align: right;\">-0.48791</td><td style = \"text-align: right;\">2.8313e-13</td></tr><tr><td class = \"rowNumber\" style = \"font-weight: bold; text-align: right;\">10</td><td style = \"text-align: right;\">1.70361</td><td style = \"text-align: right;\">-0.796084</td><td style = \"text-align: right;\">1.70361</td><td style = \"text-align: right;\">-0.796084</td><td style = \"text-align: right;\">-0.430928</td><td style = \"text-align: right;\">2.84764e-13</td></tr><tr><td class = \"rowNumber\" style = \"font-weight: bold; text-align: right;\">11</td><td style = \"text-align: right;\">1.10921</td><td style = \"text-align: right;\">-0.768268</td><td style = \"text-align: right;\">1.70361</td><td style = \"text-align: right;\">-0.796084</td><td style = \"text-align: right;\">0.328255</td><td style = \"text-align: right;\">2.88605e-13</td></tr><tr><td class = \"rowNumber\" style = \"font-weight: bold; text-align: right;\">12</td><td style = \"text-align: right;\">-1.10921</td><td style = \"text-align: right;\">0.768268</td><td style = \"text-align: right;\">1.10921</td><td style = \"text-align: right;\">-0.768268</td><td style = \"text-align: right;\">1.08744</td><td style = \"text-align: right;\">2.88807e-13</td></tr><tr><td class = \"rowNumber\" style = \"font-weight: bold; text-align: right;\">13</td><td style = \"text-align: right;\">1.23023</td><td style = \"text-align: right;\">0.162335</td><td style = \"text-align: right;\">1.10921</td><td style = \"text-align: right;\">-0.768268</td><td style = \"text-align: right;\">3.04001</td><td style = \"text-align: right;\">2.93099e-13</td></tr><tr><td style = \"text-align: right;\">&vellip;</td><td style = \"text-align: right;\">&vellip;</td><td style = \"text-align: right;\">&vellip;</td><td style = \"text-align: right;\">&vellip;</td><td style = \"text-align: right;\">&vellip;</td><td style = \"text-align: right;\">&vellip;</td><td style = \"text-align: right;\">&vellip;</td></tr><tr><td class = \"rowNumber\" style = \"font-weight: bold; text-align: right;\">214</td><td style = \"text-align: right;\">1.29607</td><td style = \"text-align: right;\">0.605084</td><td style = \"text-align: right;\">1.6071</td><td style = \"text-align: right;\">0.568651</td><td style = \"text-align: right;\">4.33372</td><td style = \"text-align: right;\">9.78802e-13</td></tr><tr><td class = \"rowNumber\" style = \"font-weight: bold; text-align: right;\">215</td><td style = \"text-align: right;\">-1.10921</td><td style = \"text-align: right;\">0.768268</td><td style = \"text-align: right;\">1.6071</td><td style = \"text-align: right;\">0.568651</td><td style = \"text-align: right;\">2.64797</td><td style = \"text-align: right;\">9.79098e-13</td></tr><tr><td class = \"rowNumber\" style = \"font-weight: bold; text-align: right;\">216</td><td style = \"text-align: right;\">1.70361</td><td style = \"text-align: right;\">-0.796084</td><td style = \"text-align: right;\">1.6071</td><td style = \"text-align: right;\">0.568651</td><td style = \"text-align: right;\">1.88879</td><td style = \"text-align: right;\">9.79157e-13</td></tr><tr><td class = \"rowNumber\" style = \"font-weight: bold; text-align: right;\">217</td><td style = \"text-align: right;\">1.23023</td><td style = \"text-align: right;\">0.162335</td><td style = \"text-align: right;\">1.6071</td><td style = \"text-align: right;\">0.568651</td><td style = \"text-align: right;\">4.60055</td><td style = \"text-align: right;\">9.79933e-13</td></tr><tr><td class = \"rowNumber\" style = \"font-weight: bold; text-align: right;\">218</td><td style = \"text-align: right;\">-0.089842</td><td style = \"text-align: right;\">0.712656</td><td style = \"text-align: right;\">1.6071</td><td style = \"text-align: right;\">0.568651</td><td style = \"text-align: right;\">1.07262</td><td style = \"text-align: right;\">9.84482e-13</td></tr><tr><td class = \"rowNumber\" style = \"font-weight: bold; text-align: right;\">219</td><td style = \"text-align: right;\">1.10921</td><td style = \"text-align: right;\">-0.768268</td><td style = \"text-align: right;\">1.6071</td><td style = \"text-align: right;\">0.568651</td><td style = \"text-align: right;\">2.64797</td><td style = \"text-align: right;\">9.88708e-13</td></tr><tr><td class = \"rowNumber\" style = \"font-weight: bold; text-align: right;\">220</td><td style = \"text-align: right;\">-2.16829e-14</td><td style = \"text-align: right;\">1.04842e-13</td><td style = \"text-align: right;\">1.6071</td><td style = \"text-align: right;\">0.568651</td><td style = \"text-align: right;\">2.10425</td><td style = \"text-align: right;\">9.9153e-13</td></tr><tr><td class = \"rowNumber\" style = \"font-weight: bold; text-align: right;\">221</td><td style = \"text-align: right;\">0.089842</td><td style = \"text-align: right;\">-0.712656</td><td style = \"text-align: right;\">1.6071</td><td style = \"text-align: right;\">0.568651</td><td style = \"text-align: right;\">1.07262</td><td style = \"text-align: right;\">9.98452e-13</td></tr><tr><td class = \"rowNumber\" style = \"font-weight: bold; text-align: right;\">222</td><td style = \"text-align: right;\">-1.23023</td><td style = \"text-align: right;\">-0.162335</td><td style = \"text-align: right;\">1.6071</td><td style = \"text-align: right;\">0.568651</td><td style = \"text-align: right;\">4.60055</td><td style = \"text-align: right;\">9.9846e-13</td></tr><tr><td class = \"rowNumber\" style = \"font-weight: bold; text-align: right;\">223</td><td style = \"text-align: right;\">-1.29607</td><td style = \"text-align: right;\">-0.605084</td><td style = \"text-align: right;\">1.6071</td><td style = \"text-align: right;\">0.568651</td><td style = \"text-align: right;\">4.33372</td><td style = \"text-align: right;\">1.01025e-12</td></tr><tr><td class = \"rowNumber\" style = \"font-weight: bold; text-align: right;\">224</td><td style = \"text-align: right;\">-1.63807</td><td style = \"text-align: right;\">-0.228674</td><td style = \"text-align: right;\">1.6071</td><td style = \"text-align: right;\">0.568651</td><td style = \"text-align: right;\">4.33361</td><td style = \"text-align: right;\">1.01198e-12</td></tr><tr><td class = \"rowNumber\" style = \"font-weight: bold; text-align: right;\">225</td><td style = \"text-align: right;\">-1.6071</td><td style = \"text-align: right;\">-0.568651</td><td style = \"text-align: right;\">1.6071</td><td style = \"text-align: right;\">0.568651</td><td style = \"text-align: right;\">4.2085</td><td style = \"text-align: right;\">1.02488e-12</td></tr></tbody></table></div>"
      ],
      "text/latex": [
       "\\begin{tabular}{r|cccccc}\n",
       "\t& x1 & x2 & x3 & x4 & height & total\\_distance\\\\\n",
       "\t\\hline\n",
       "\t& Float64 & Float64 & Float64 & Float64 & Float64 & Float64\\\\\n",
       "\t\\hline\n",
       "\t1 & 1.63807 & 0.228674 & 1.70361 & -0.796084 & 2.01389 & 2.6282e-13 \\\\\n",
       "\t2 & 1.23023 & 0.162335 & 1.70361 & -0.796084 & 2.28083 & 2.6736e-13 \\\\\n",
       "\t3 & -1.70361 & 0.796084 & 1.70361 & -0.796084 & -0.430928 & 2.70774e-13 \\\\\n",
       "\t4 & -1.10921 & 0.768268 & 1.70361 & -0.796084 & 0.328255 & 2.70776e-13 \\\\\n",
       "\t5 & -0.089842 & 0.712656 & 1.70361 & -0.796084 & -1.24709 & 2.70814e-13 \\\\\n",
       "\t6 & 1.29607 & 0.605084 & 1.70361 & -0.796084 & 2.01401 & 2.75723e-13 \\\\\n",
       "\t7 & 1.6071 & 0.568651 & 1.70361 & -0.796084 & 1.88879 & 2.81017e-13 \\\\\n",
       "\t8 & -2.27304e-14 & 1.04609e-13 & 1.70361 & -0.796084 & -0.215464 & 2.82317e-13 \\\\\n",
       "\t9 & -0.089842 & 0.712656 & 1.10921 & -0.768268 & -0.48791 & 2.8313e-13 \\\\\n",
       "\t10 & 1.70361 & -0.796084 & 1.70361 & -0.796084 & -0.430928 & 2.84764e-13 \\\\\n",
       "\t11 & 1.10921 & -0.768268 & 1.70361 & -0.796084 & 0.328255 & 2.88605e-13 \\\\\n",
       "\t12 & -1.10921 & 0.768268 & 1.10921 & -0.768268 & 1.08744 & 2.88807e-13 \\\\\n",
       "\t13 & 1.23023 & 0.162335 & 1.10921 & -0.768268 & 3.04001 & 2.93099e-13 \\\\\n",
       "\t14 & 1.63807 & 0.228674 & 1.10921 & -0.768268 & 2.77308 & 2.94639e-13 \\\\\n",
       "\t15 & -2.39888e-14 & 1.03759e-13 & 1.10921 & -0.768268 & 0.543719 & 2.95729e-13 \\\\\n",
       "\t16 & -1.70361 & 0.796084 & 1.10921 & -0.768268 & 0.328255 & 2.96817e-13 \\\\\n",
       "\t17 & 1.29607 & 0.605084 & 1.10921 & -0.768268 & 2.77319 & 3.01341e-13 \\\\\n",
       "\t18 & 0.089842 & -0.712656 & 1.70361 & -0.796084 & -1.24709 & 3.01523e-13 \\\\\n",
       "\t19 & -1.70361 & 0.796084 & -1.63807 & -0.228674 & 2.01389 & 3.07025e-13 \\\\\n",
       "\t20 & 1.10921 & -0.768268 & 1.10921 & -0.768268 & 1.08744 & 3.09527e-13 \\\\\n",
       "\t21 & 1.63807 & 0.228674 & -1.63807 & -0.228674 & 4.45871 & 3.10971e-13 \\\\\n",
       "\t22 & 1.6071 & 0.568651 & 1.10921 & -0.768268 & 2.64797 & 3.12348e-13 \\\\\n",
       "\t23 & 0.089842 & -0.712656 & 1.10921 & -0.768268 & -0.48791 & 3.13836e-13 \\\\\n",
       "\t24 & 1.70361 & -0.796084 & 1.10921 & -0.768268 & 0.328255 & 3.14625e-13 \\\\\n",
       "\t$\\dots$ & $\\dots$ & $\\dots$ & $\\dots$ & $\\dots$ & $\\dots$ & $\\dots$ \\\\\n",
       "\\end{tabular}\n"
      ],
      "text/plain": [
       "\u001b[1m225×6 DataFrame\u001b[0m\n",
       "\u001b[1m Row \u001b[0m│\u001b[1m x1           \u001b[0m\u001b[1m x2           \u001b[0m\u001b[1m x3      \u001b[0m\u001b[1m x4        \u001b[0m\u001b[1m height    \u001b[0m\u001b[1m total_distan\u001b[0m ⋯\n",
       "     │\u001b[90m Float64      \u001b[0m\u001b[90m Float64      \u001b[0m\u001b[90m Float64 \u001b[0m\u001b[90m Float64   \u001b[0m\u001b[90m Float64   \u001b[0m\u001b[90m Float64     \u001b[0m ⋯\n",
       "─────┼──────────────────────────────────────────────────────────────────────────\n",
       "   1 │  1.63807       0.228674     1.70361  -0.796084   2.01389      2.6282e-1 ⋯\n",
       "   2 │  1.23023       0.162335     1.70361  -0.796084   2.28083      2.6736e-1\n",
       "   3 │ -1.70361       0.796084     1.70361  -0.796084  -0.430928     2.70774e-\n",
       "   4 │ -1.10921       0.768268     1.70361  -0.796084   0.328255     2.70776e-\n",
       "   5 │ -0.089842      0.712656     1.70361  -0.796084  -1.24709      2.70814e- ⋯\n",
       "   6 │  1.29607       0.605084     1.70361  -0.796084   2.01401      2.75723e-\n",
       "   7 │  1.6071        0.568651     1.70361  -0.796084   1.88879      2.81017e-\n",
       "   8 │ -2.27304e-14   1.04609e-13  1.70361  -0.796084  -0.215464     2.82317e-\n",
       "  ⋮  │      ⋮             ⋮           ⋮         ⋮          ⋮            ⋮      ⋱\n",
       " 219 │  1.10921      -0.768268     1.6071    0.568651   2.64797      9.88708e- ⋯\n",
       " 220 │ -2.16829e-14   1.04842e-13  1.6071    0.568651   2.10425      9.9153e-1\n",
       " 221 │  0.089842     -0.712656     1.6071    0.568651   1.07262      9.98452e-\n",
       " 222 │ -1.23023      -0.162335     1.6071    0.568651   4.60055      9.9846e-1\n",
       " 223 │ -1.29607      -0.605084     1.6071    0.568651   4.33372      1.01025e- ⋯\n",
       " 224 │ -1.63807      -0.228674     1.6071    0.568651   4.33361      1.01198e-\n",
       " 225 │ -1.6071       -0.568651     1.6071    0.568651   4.2085       1.02488e-\n",
       "\u001b[36m                                                   1 column and 210 rows omitted\u001b[0m"
      ]
     },
     "metadata": {},
     "output_type": "display_data"
    }
   ],
   "source": [
    "using LinearAlgebra\n",
    "\n",
    "total_distance = Float64[]\n",
    "for i in 1:nrow(df)\n",
    "    distances_1 = [norm([df.x1[i], df.x2[i]] - [df_2d.x[j], df_2d.y[j]]) for j in 1:nrow(df_2d)]\n",
    "    distances_2 = [norm([df.x3[i], df.x4[i]] - [df_2d.x[j], df_2d.y[j]]) for j in 1:nrow(df_2d)]\n",
    "    # Compute distances to all points in df_2d\n",
    "    min_value_1, min_index_1 = findmin(distances_1)\n",
    "    min_value_2, min_index_2 = findmin(distances_2) \n",
    "\n",
    "    # Extract the corresponding points\n",
    "    point_1 = [df.x1[i], df.x2[i], df.x3[i], df.x4[i]]\n",
    "    point_2 = [df_2d.x[min_index_1], df_2d.y[min_index_1], df_2d.x[min_index_2], df_2d.y[min_index_2]]\n",
    "\n",
    "    # Compute total distance\n",
    "    tot_dist = norm(point_1 - point_2)\n",
    "    push!(total_distance, tot_dist)\n",
    "\n",
    "end\n",
    "df.total_distance = total_distance\n",
    "sorted_df = sort(df, :total_distance)\n"
   ]
  },
  {
   "cell_type": "code",
   "execution_count": 17,
   "metadata": {},
   "outputs": [
    {
     "data": {
      "text/html": [
       "<div><div style = \"float: left;\"><span>225×8 DataFrame</span></div><div style = \"float: right;\"><span style = \"font-style: italic;\">200 rows omitted</span></div><div style = \"clear: both;\"></div></div><div class = \"data-frame\" style = \"overflow-x: scroll;\"><table class = \"data-frame\" style = \"margin-bottom: 6px;\"><thead><tr class = \"header\"><th class = \"rowNumber\" style = \"font-weight: bold; text-align: right;\">Row</th><th style = \"text-align: left;\">x1</th><th style = \"text-align: left;\">x2</th><th style = \"text-align: left;\">x3</th><th style = \"text-align: left;\">x4</th><th style = \"text-align: left;\">height</th><th style = \"text-align: left;\">total_distance</th><th style = \"text-align: left;\">steps</th><th style = \"text-align: left;\">converged</th></tr><tr class = \"subheader headerLastRow\"><th class = \"rowNumber\" style = \"font-weight: bold; text-align: right;\"></th><th title = \"Float64\" style = \"text-align: left;\">Float64</th><th title = \"Float64\" style = \"text-align: left;\">Float64</th><th title = \"Float64\" style = \"text-align: left;\">Float64</th><th title = \"Float64\" style = \"text-align: left;\">Float64</th><th title = \"Float64\" style = \"text-align: left;\">Float64</th><th title = \"Float64\" style = \"text-align: left;\">Float64</th><th title = \"Float64\" style = \"text-align: left;\">Float64</th><th title = \"Float64\" style = \"text-align: left;\">Float64</th></tr></thead><tbody><tr><td class = \"rowNumber\" style = \"font-weight: bold; text-align: right;\">1</td><td style = \"text-align: right;\">-1.6071</td><td style = \"text-align: right;\">-0.568651</td><td style = \"text-align: right;\">1.70361</td><td style = \"text-align: right;\">-0.796084</td><td style = \"text-align: right;\">1.88879</td><td style = \"text-align: right;\">4.05968e-13</td><td style = \"text-align: right;\">0.0</td><td style = \"text-align: right;\">1.0</td></tr><tr><td class = \"rowNumber\" style = \"font-weight: bold; text-align: right;\">2</td><td style = \"text-align: right;\">-1.63807</td><td style = \"text-align: right;\">-0.228674</td><td style = \"text-align: right;\">1.70361</td><td style = \"text-align: right;\">-0.796084</td><td style = \"text-align: right;\">2.01389</td><td style = \"text-align: right;\">3.76508e-13</td><td style = \"text-align: right;\">0.0</td><td style = \"text-align: right;\">1.0</td></tr><tr><td class = \"rowNumber\" style = \"font-weight: bold; text-align: right;\">3</td><td style = \"text-align: right;\">1.70361</td><td style = \"text-align: right;\">-0.796084</td><td style = \"text-align: right;\">1.70361</td><td style = \"text-align: right;\">-0.796084</td><td style = \"text-align: right;\">-0.430928</td><td style = \"text-align: right;\">2.84764e-13</td><td style = \"text-align: right;\">0.0</td><td style = \"text-align: right;\">1.0</td></tr><tr><td class = \"rowNumber\" style = \"font-weight: bold; text-align: right;\">4</td><td style = \"text-align: right;\">-1.70361</td><td style = \"text-align: right;\">0.796084</td><td style = \"text-align: right;\">1.70361</td><td style = \"text-align: right;\">-0.796084</td><td style = \"text-align: right;\">-0.430928</td><td style = \"text-align: right;\">2.70774e-13</td><td style = \"text-align: right;\">0.0</td><td style = \"text-align: right;\">1.0</td></tr><tr><td class = \"rowNumber\" style = \"font-weight: bold; text-align: right;\">5</td><td style = \"text-align: right;\">1.63807</td><td style = \"text-align: right;\">0.228674</td><td style = \"text-align: right;\">1.70361</td><td style = \"text-align: right;\">-0.796084</td><td style = \"text-align: right;\">2.01389</td><td style = \"text-align: right;\">2.6282e-13</td><td style = \"text-align: right;\">0.0</td><td style = \"text-align: right;\">1.0</td></tr><tr><td class = \"rowNumber\" style = \"font-weight: bold; text-align: right;\">6</td><td style = \"text-align: right;\">-1.29607</td><td style = \"text-align: right;\">-0.605084</td><td style = \"text-align: right;\">1.70361</td><td style = \"text-align: right;\">-0.796084</td><td style = \"text-align: right;\">2.01401</td><td style = \"text-align: right;\">3.57372e-13</td><td style = \"text-align: right;\">0.0</td><td style = \"text-align: right;\">1.0</td></tr><tr><td class = \"rowNumber\" style = \"font-weight: bold; text-align: right;\">7</td><td style = \"text-align: right;\">1.6071</td><td style = \"text-align: right;\">0.568651</td><td style = \"text-align: right;\">1.70361</td><td style = \"text-align: right;\">-0.796084</td><td style = \"text-align: right;\">1.88879</td><td style = \"text-align: right;\">2.81017e-13</td><td style = \"text-align: right;\">0.0</td><td style = \"text-align: right;\">1.0</td></tr><tr><td class = \"rowNumber\" style = \"font-weight: bold; text-align: right;\">8</td><td style = \"text-align: right;\">-1.23023</td><td style = \"text-align: right;\">-0.162335</td><td style = \"text-align: right;\">1.70361</td><td style = \"text-align: right;\">-0.796084</td><td style = \"text-align: right;\">2.28083</td><td style = \"text-align: right;\">3.2652e-13</td><td style = \"text-align: right;\">0.0</td><td style = \"text-align: right;\">1.0</td></tr><tr><td class = \"rowNumber\" style = \"font-weight: bold; text-align: right;\">9</td><td style = \"text-align: right;\">1.10921</td><td style = \"text-align: right;\">-0.768268</td><td style = \"text-align: right;\">1.70361</td><td style = \"text-align: right;\">-0.796084</td><td style = \"text-align: right;\">0.328255</td><td style = \"text-align: right;\">2.88605e-13</td><td style = \"text-align: right;\">0.0</td><td style = \"text-align: right;\">1.0</td></tr><tr><td class = \"rowNumber\" style = \"font-weight: bold; text-align: right;\">10</td><td style = \"text-align: right;\">1.23023</td><td style = \"text-align: right;\">0.162335</td><td style = \"text-align: right;\">1.70361</td><td style = \"text-align: right;\">-0.796084</td><td style = \"text-align: right;\">2.28083</td><td style = \"text-align: right;\">2.6736e-13</td><td style = \"text-align: right;\">0.0</td><td style = \"text-align: right;\">1.0</td></tr><tr><td class = \"rowNumber\" style = \"font-weight: bold; text-align: right;\">11</td><td style = \"text-align: right;\">1.29607</td><td style = \"text-align: right;\">0.605084</td><td style = \"text-align: right;\">1.70361</td><td style = \"text-align: right;\">-0.796084</td><td style = \"text-align: right;\">2.01401</td><td style = \"text-align: right;\">2.75723e-13</td><td style = \"text-align: right;\">0.0</td><td style = \"text-align: right;\">1.0</td></tr><tr><td class = \"rowNumber\" style = \"font-weight: bold; text-align: right;\">12</td><td style = \"text-align: right;\">-1.10921</td><td style = \"text-align: right;\">0.768268</td><td style = \"text-align: right;\">1.70361</td><td style = \"text-align: right;\">-0.796084</td><td style = \"text-align: right;\">0.328255</td><td style = \"text-align: right;\">2.70776e-13</td><td style = \"text-align: right;\">0.0</td><td style = \"text-align: right;\">1.0</td></tr><tr><td class = \"rowNumber\" style = \"font-weight: bold; text-align: right;\">13</td><td style = \"text-align: right;\">0.089842</td><td style = \"text-align: right;\">-0.712656</td><td style = \"text-align: right;\">1.70361</td><td style = \"text-align: right;\">-0.796084</td><td style = \"text-align: right;\">-1.24709</td><td style = \"text-align: right;\">3.01523e-13</td><td style = \"text-align: right;\">0.0</td><td style = \"text-align: right;\">1.0</td></tr><tr><td style = \"text-align: right;\">&vellip;</td><td style = \"text-align: right;\">&vellip;</td><td style = \"text-align: right;\">&vellip;</td><td style = \"text-align: right;\">&vellip;</td><td style = \"text-align: right;\">&vellip;</td><td style = \"text-align: right;\">&vellip;</td><td style = \"text-align: right;\">&vellip;</td><td style = \"text-align: right;\">&vellip;</td><td style = \"text-align: right;\">&vellip;</td></tr><tr><td class = \"rowNumber\" style = \"font-weight: bold; text-align: right;\">214</td><td style = \"text-align: right;\">-0.089842</td><td style = \"text-align: right;\">0.712656</td><td style = \"text-align: right;\">-1.70361</td><td style = \"text-align: right;\">0.796084</td><td style = \"text-align: right;\">-1.24709</td><td style = \"text-align: right;\">3.99906e-13</td><td style = \"text-align: right;\">0.0</td><td style = \"text-align: right;\">1.0</td></tr><tr><td class = \"rowNumber\" style = \"font-weight: bold; text-align: right;\">215</td><td style = \"text-align: right;\">1.29607</td><td style = \"text-align: right;\">0.605084</td><td style = \"text-align: right;\">-1.70361</td><td style = \"text-align: right;\">0.796084</td><td style = \"text-align: right;\">2.01401</td><td style = \"text-align: right;\">4.08483e-13</td><td style = \"text-align: right;\">0.0</td><td style = \"text-align: right;\">1.0</td></tr><tr><td class = \"rowNumber\" style = \"font-weight: bold; text-align: right;\">216</td><td style = \"text-align: right;\">1.63807</td><td style = \"text-align: right;\">0.228674</td><td style = \"text-align: right;\">-1.70361</td><td style = \"text-align: right;\">0.796084</td><td style = \"text-align: right;\">2.01389</td><td style = \"text-align: right;\">3.95765e-13</td><td style = \"text-align: right;\">0.0</td><td style = \"text-align: right;\">1.0</td></tr><tr><td class = \"rowNumber\" style = \"font-weight: bold; text-align: right;\">217</td><td style = \"text-align: right;\">1.23023</td><td style = \"text-align: right;\">0.162335</td><td style = \"text-align: right;\">-1.70361</td><td style = \"text-align: right;\">0.796084</td><td style = \"text-align: right;\">2.28083</td><td style = \"text-align: right;\">4.04331e-13</td><td style = \"text-align: right;\">0.0</td><td style = \"text-align: right;\">1.0</td></tr><tr><td class = \"rowNumber\" style = \"font-weight: bold; text-align: right;\">218</td><td style = \"text-align: right;\">-3.18334e-14</td><td style = \"text-align: right;\">1.07953e-13</td><td style = \"text-align: right;\">-1.70361</td><td style = \"text-align: right;\">0.796084</td><td style = \"text-align: right;\">-0.215464</td><td style = \"text-align: right;\">4.10617e-13</td><td style = \"text-align: right;\">0.0</td><td style = \"text-align: right;\">1.0</td></tr><tr><td class = \"rowNumber\" style = \"font-weight: bold; text-align: right;\">219</td><td style = \"text-align: right;\">-1.23023</td><td style = \"text-align: right;\">-0.162335</td><td style = \"text-align: right;\">-1.70361</td><td style = \"text-align: right;\">0.796084</td><td style = \"text-align: right;\">2.28083</td><td style = \"text-align: right;\">4.41649e-13</td><td style = \"text-align: right;\">0.0</td><td style = \"text-align: right;\">1.0</td></tr><tr><td class = \"rowNumber\" style = \"font-weight: bold; text-align: right;\">220</td><td style = \"text-align: right;\">-1.63807</td><td style = \"text-align: right;\">-0.228674</td><td style = \"text-align: right;\">-1.70361</td><td style = \"text-align: right;\">0.796084</td><td style = \"text-align: right;\">2.01389</td><td style = \"text-align: right;\">4.85413e-13</td><td style = \"text-align: right;\">0.0</td><td style = \"text-align: right;\">1.0</td></tr><tr><td class = \"rowNumber\" style = \"font-weight: bold; text-align: right;\">221</td><td style = \"text-align: right;\">1.70361</td><td style = \"text-align: right;\">-0.796084</td><td style = \"text-align: right;\">-1.70361</td><td style = \"text-align: right;\">0.796084</td><td style = \"text-align: right;\">-0.430928</td><td style = \"text-align: right;\">4.12028e-13</td><td style = \"text-align: right;\">0.0</td><td style = \"text-align: right;\">1.0</td></tr><tr><td class = \"rowNumber\" style = \"font-weight: bold; text-align: right;\">222</td><td style = \"text-align: right;\">-1.6071</td><td style = \"text-align: right;\">-0.568651</td><td style = \"text-align: right;\">-1.70361</td><td style = \"text-align: right;\">0.796084</td><td style = \"text-align: right;\">1.88879</td><td style = \"text-align: right;\">5.14528e-13</td><td style = \"text-align: right;\">0.0</td><td style = \"text-align: right;\">1.0</td></tr><tr><td class = \"rowNumber\" style = \"font-weight: bold; text-align: right;\">223</td><td style = \"text-align: right;\">-1.29607</td><td style = \"text-align: right;\">-0.605084</td><td style = \"text-align: right;\">-1.70361</td><td style = \"text-align: right;\">0.796084</td><td style = \"text-align: right;\">2.01401</td><td style = \"text-align: right;\">4.72407e-13</td><td style = \"text-align: right;\">0.0</td><td style = \"text-align: right;\">1.0</td></tr><tr><td class = \"rowNumber\" style = \"font-weight: bold; text-align: right;\">224</td><td style = \"text-align: right;\">1.10921</td><td style = \"text-align: right;\">-0.768268</td><td style = \"text-align: right;\">-1.70361</td><td style = \"text-align: right;\">0.796084</td><td style = \"text-align: right;\">0.328255</td><td style = \"text-align: right;\">4.18043e-13</td><td style = \"text-align: right;\">0.0</td><td style = \"text-align: right;\">1.0</td></tr><tr><td class = \"rowNumber\" style = \"font-weight: bold; text-align: right;\">225</td><td style = \"text-align: right;\">0.089842</td><td style = \"text-align: right;\">-0.712656</td><td style = \"text-align: right;\">-1.70361</td><td style = \"text-align: right;\">0.796084</td><td style = \"text-align: right;\">-1.24709</td><td style = \"text-align: right;\">4.25281e-13</td><td style = \"text-align: right;\">0.0</td><td style = \"text-align: right;\">1.0</td></tr></tbody></table></div>"
      ],
      "text/latex": [
       "\\begin{tabular}{r|cccccccc}\n",
       "\t& x1 & x2 & x3 & x4 & height & total\\_distance & steps & \\\\\n",
       "\t\\hline\n",
       "\t& Float64 & Float64 & Float64 & Float64 & Float64 & Float64 & Float64 & \\\\\n",
       "\t\\hline\n",
       "\t1 & -1.6071 & -0.568651 & 1.70361 & -0.796084 & 1.88879 & 4.05968e-13 & 0.0 & $\\dots$ \\\\\n",
       "\t2 & -1.63807 & -0.228674 & 1.70361 & -0.796084 & 2.01389 & 3.76508e-13 & 0.0 & $\\dots$ \\\\\n",
       "\t3 & 1.70361 & -0.796084 & 1.70361 & -0.796084 & -0.430928 & 2.84764e-13 & 0.0 & $\\dots$ \\\\\n",
       "\t4 & -1.70361 & 0.796084 & 1.70361 & -0.796084 & -0.430928 & 2.70774e-13 & 0.0 & $\\dots$ \\\\\n",
       "\t5 & 1.63807 & 0.228674 & 1.70361 & -0.796084 & 2.01389 & 2.6282e-13 & 0.0 & $\\dots$ \\\\\n",
       "\t6 & -1.29607 & -0.605084 & 1.70361 & -0.796084 & 2.01401 & 3.57372e-13 & 0.0 & $\\dots$ \\\\\n",
       "\t7 & 1.6071 & 0.568651 & 1.70361 & -0.796084 & 1.88879 & 2.81017e-13 & 0.0 & $\\dots$ \\\\\n",
       "\t8 & -1.23023 & -0.162335 & 1.70361 & -0.796084 & 2.28083 & 3.2652e-13 & 0.0 & $\\dots$ \\\\\n",
       "\t9 & 1.10921 & -0.768268 & 1.70361 & -0.796084 & 0.328255 & 2.88605e-13 & 0.0 & $\\dots$ \\\\\n",
       "\t10 & 1.23023 & 0.162335 & 1.70361 & -0.796084 & 2.28083 & 2.6736e-13 & 0.0 & $\\dots$ \\\\\n",
       "\t11 & 1.29607 & 0.605084 & 1.70361 & -0.796084 & 2.01401 & 2.75723e-13 & 0.0 & $\\dots$ \\\\\n",
       "\t12 & -1.10921 & 0.768268 & 1.70361 & -0.796084 & 0.328255 & 2.70776e-13 & 0.0 & $\\dots$ \\\\\n",
       "\t13 & 0.089842 & -0.712656 & 1.70361 & -0.796084 & -1.24709 & 3.01523e-13 & 0.0 & $\\dots$ \\\\\n",
       "\t14 & -2.27304e-14 & 1.04609e-13 & 1.70361 & -0.796084 & -0.215464 & 2.82317e-13 & 0.0 & $\\dots$ \\\\\n",
       "\t15 & -0.089842 & 0.712656 & 1.70361 & -0.796084 & -1.24709 & 2.70814e-13 & 0.0 & $\\dots$ \\\\\n",
       "\t16 & -1.6071 & -0.568651 & 1.10921 & -0.768268 & 2.64797 & 4.28654e-13 & 0.0 & $\\dots$ \\\\\n",
       "\t17 & -1.63807 & -0.228674 & 1.10921 & -0.768268 & 2.77308 & 3.98265e-13 & 0.0 & $\\dots$ \\\\\n",
       "\t18 & -1.70361 & 0.796084 & 1.10921 & -0.768268 & 0.328255 & 2.96817e-13 & 0.0 & $\\dots$ \\\\\n",
       "\t19 & 1.70361 & -0.796084 & 1.10921 & -0.768268 & 0.328255 & 3.14625e-13 & 0.0 & $\\dots$ \\\\\n",
       "\t20 & -1.29607 & -0.605084 & 1.10921 & -0.768268 & 2.77319 & 3.76808e-13 & 0.0 & $\\dots$ \\\\\n",
       "\t21 & 1.63807 & 0.228674 & 1.10921 & -0.768268 & 2.77308 & 2.94639e-13 & 0.0 & $\\dots$ \\\\\n",
       "\t22 & 1.6071 & 0.568651 & 1.10921 & -0.768268 & 2.64797 & 3.12348e-13 & 0.0 & $\\dots$ \\\\\n",
       "\t23 & -1.23023 & -0.162335 & 1.10921 & -0.768268 & 3.04001 & 3.43648e-13 & 0.0 & $\\dots$ \\\\\n",
       "\t24 & -1.10921 & 0.768268 & 1.10921 & -0.768268 & 1.08744 & 2.88807e-13 & 0.0 & $\\dots$ \\\\\n",
       "\t$\\dots$ & $\\dots$ & $\\dots$ & $\\dots$ & $\\dots$ & $\\dots$ & $\\dots$ & $\\dots$ &  \\\\\n",
       "\\end{tabular}\n"
      ],
      "text/plain": [
       "\u001b[1m225×8 DataFrame\u001b[0m\n",
       "\u001b[1m Row \u001b[0m│\u001b[1m x1           \u001b[0m\u001b[1m x2           \u001b[0m\u001b[1m x3       \u001b[0m\u001b[1m x4        \u001b[0m\u001b[1m height    \u001b[0m\u001b[1m total_dista\u001b[0m ⋯\n",
       "     │\u001b[90m Float64      \u001b[0m\u001b[90m Float64      \u001b[0m\u001b[90m Float64  \u001b[0m\u001b[90m Float64   \u001b[0m\u001b[90m Float64   \u001b[0m\u001b[90m Float64    \u001b[0m ⋯\n",
       "─────┼──────────────────────────────────────────────────────────────────────────\n",
       "   1 │ -1.6071       -0.568651      1.70361  -0.796084   1.88879      4.05968e ⋯\n",
       "   2 │ -1.63807      -0.228674      1.70361  -0.796084   2.01389      3.76508e\n",
       "   3 │  1.70361      -0.796084      1.70361  -0.796084  -0.430928     2.84764e\n",
       "   4 │ -1.70361       0.796084      1.70361  -0.796084  -0.430928     2.70774e\n",
       "   5 │  1.63807       0.228674      1.70361  -0.796084   2.01389      2.6282e- ⋯\n",
       "   6 │ -1.29607      -0.605084      1.70361  -0.796084   2.01401      3.57372e\n",
       "   7 │  1.6071        0.568651      1.70361  -0.796084   1.88879      2.81017e\n",
       "   8 │ -1.23023      -0.162335      1.70361  -0.796084   2.28083      3.2652e-\n",
       "  ⋮  │      ⋮             ⋮           ⋮          ⋮          ⋮            ⋮     ⋱\n",
       " 219 │ -1.23023      -0.162335     -1.70361   0.796084   2.28083      4.41649e ⋯\n",
       " 220 │ -1.63807      -0.228674     -1.70361   0.796084   2.01389      4.85413e\n",
       " 221 │  1.70361      -0.796084     -1.70361   0.796084  -0.430928     4.12028e\n",
       " 222 │ -1.6071       -0.568651     -1.70361   0.796084   1.88879      5.14528e\n",
       " 223 │ -1.29607      -0.605084     -1.70361   0.796084   2.01401      4.72407e ⋯\n",
       " 224 │  1.10921      -0.768268     -1.70361   0.796084   0.328255     4.18043e\n",
       " 225 │  0.089842     -0.712656     -1.70361   0.796084  -1.24709      4.25281e\n",
       "\u001b[36m                                                  3 columns and 210 rows omitted\u001b[0m"
      ]
     },
     "metadata": {},
     "output_type": "display_data"
    }
   ],
   "source": [
    "using Optim\n",
    "df.steps = zeros(nrow(df))\n",
    "df.converged = zeros(nrow(df))\n",
    "\n",
    "for i in 1:nrow(df)\n",
    "    # println(\"Optimizing for point $i\")\n",
    "    x0 = [df.x1[i], df.x2[i], df.x3[i], df.x4[i]]\n",
    "    #  + 0.2 * randn(Float64, 4)\n",
    "    res = Optim.optimize(f, x0, LBFGS(), Optim.Options(show_trace=false))\n",
    "    minimizer = Optim.minimizer(res)\n",
    "    min_value = Optim.minimum(res)\n",
    "    steps = res.iterations\n",
    "    converged = Optim.converged(res)\n",
    "    distance = norm(x0 - minimizer)\n",
    "    # df.dist_to_loc_min[i] = distance\n",
    "    df.steps[i] = steps\n",
    "    df.converged[i] = converged\n",
    "    # summary(res)\n",
    "end\n",
    "df"
   ]
  }
 ],
 "metadata": {
  "kernelspec": {
   "display_name": "Julia 1.10.4",
   "language": "julia",
   "name": "julia-1.10"
  },
  "language_info": {
   "file_extension": ".jl",
   "mimetype": "application/julia",
   "name": "julia",
   "version": "1.10.4"
  }
 },
 "nbformat": 4,
 "nbformat_minor": 2
}
