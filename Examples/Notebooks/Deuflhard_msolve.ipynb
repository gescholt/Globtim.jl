{
 "cells": [
  {
   "cell_type": "markdown",
   "metadata": {},
   "source": [
    "What we need is a small parcel to work on, with a nice contourplot with critical points and minima found after initiating local method and then a 3d plot. "
   ]
  },
  {
   "cell_type": "code",
   "execution_count": 1,
   "metadata": {},
   "outputs": [
    {
     "name": "stderr",
     "output_type": "stream",
     "text": [
      "\u001b[32m\u001b[1m  Activating\u001b[22m\u001b[39m project at `~/globtim`\n"
     ]
    }
   ],
   "source": [
    "using Pkg\n",
    "Pkg.activate(\"../../.\")\n",
    "using Globtim\n",
    "using DynamicPolynomials, DataFrames"
   ]
  },
  {
   "cell_type": "code",
   "execution_count": 2,
   "metadata": {},
   "outputs": [
    {
     "data": {
      "text/plain": [
       "Deuflhard (generic function with 1 method)"
      ]
     },
     "metadata": {},
     "output_type": "display_data"
    }
   ],
   "source": [
    "# Constants and Parameters\n",
    "const n, a, b = 2, 7, 5\n",
    "const scale_factor = a / b  \n",
    "f = Deuflhard # Objective function"
   ]
  },
  {
   "cell_type": "code",
   "execution_count": 3,
   "metadata": {},
   "outputs": [
    {
     "name": "stdout",
     "output_type": "stream",
     "text": [
      "current L2-norm: 38.835956522396295\n",
      "current L2-norm: 24.737307728426945\n"
     ]
    }
   ],
   "source": [
    "d = 8 # Initial Degree \n",
    "SMPL = 200 # Number of samples\n",
    "TR = test_input(f, \n",
    "                dim = n,\n",
    "                center=[0.0, 0.0],\n",
    "                GN=SMPL, \n",
    "                sample_range=scale_factor\n",
    "                )\n",
    "pol_cheb = Constructor(TR, d, basis=:chebyshev);\n",
    "pol_lege = Constructor(TR, d, basis=:legendre);"
   ]
  },
  {
   "cell_type": "code",
   "execution_count": 4,
   "metadata": {},
   "outputs": [
    {
     "name": "stdout",
     "output_type": "stream",
     "text": [
      "\n",
      "=== Starting MSolve Parser (dimension: 2) ===\n",
      "Processed 25 points (0.0s)\n",
      "\n",
      "=== Starting MSolve Parser (dimension: 2) ===\n",
      "Processed 25 points (0.0s)\n"
     ]
    },
    {
     "data": {
      "text/html": [
       "<div><div style = \"float: left;\"><span>23×3 DataFrame</span></div><div style = \"clear: both;\"></div></div><div class = \"data-frame\" style = \"overflow-x: scroll;\"><table class = \"data-frame\" style = \"margin-bottom: 6px;\"><thead><tr class = \"header\"><th class = \"rowNumber\" style = \"font-weight: bold; text-align: right;\">Row</th><th style = \"text-align: left;\">x1</th><th style = \"text-align: left;\">x2</th><th style = \"text-align: left;\">z</th></tr><tr class = \"subheader headerLastRow\"><th class = \"rowNumber\" style = \"font-weight: bold; text-align: right;\"></th><th title = \"Float64\" style = \"text-align: left;\">Float64</th><th title = \"Float64\" style = \"text-align: left;\">Float64</th><th title = \"Float64\" style = \"text-align: left;\">Float64</th></tr></thead><tbody><tr><td class = \"rowNumber\" style = \"font-weight: bold; text-align: right;\">1</td><td style = \"text-align: right;\">0.14189</td><td style = \"text-align: right;\">0.14189</td><td style = \"text-align: right;\">4.05672</td></tr><tr><td class = \"rowNumber\" style = \"font-weight: bold; text-align: right;\">2</td><td style = \"text-align: right;\">-1.12444</td><td style = \"text-align: right;\">-1.12444</td><td style = \"text-align: right;\">94.2099</td></tr><tr><td class = \"rowNumber\" style = \"font-weight: bold; text-align: right;\">3</td><td style = \"text-align: right;\">1.12222</td><td style = \"text-align: right;\">1.12222</td><td style = \"text-align: right;\">91.88</td></tr><tr><td class = \"rowNumber\" style = \"font-weight: bold; text-align: right;\">4</td><td style = \"text-align: right;\">0.0428787</td><td style = \"text-align: right;\">0.0428787</td><td style = \"text-align: right;\">4.01373</td></tr><tr><td class = \"rowNumber\" style = \"font-weight: bold; text-align: right;\">5</td><td style = \"text-align: right;\">-0.85371</td><td style = \"text-align: right;\">-0.85371</td><td style = \"text-align: right;\">8.56762</td></tr><tr><td class = \"rowNumber\" style = \"font-weight: bold; text-align: right;\">6</td><td style = \"text-align: right;\">0.843946</td><td style = \"text-align: right;\">0.843946</td><td style = \"text-align: right;\">8.23594</td></tr><tr><td class = \"rowNumber\" style = \"font-weight: bold; text-align: right;\">7</td><td style = \"text-align: right;\">0.0106953</td><td style = \"text-align: right;\">0.0106953</td><td style = \"text-align: right;\">4.00091</td></tr><tr><td class = \"rowNumber\" style = \"font-weight: bold; text-align: right;\">8</td><td style = \"text-align: right;\">0.503003</td><td style = \"text-align: right;\">0.503003</td><td style = \"text-align: right;\">2.57837</td></tr><tr><td class = \"rowNumber\" style = \"font-weight: bold; text-align: right;\">9</td><td style = \"text-align: right;\">-0.496337</td><td style = \"text-align: right;\">-0.496337</td><td style = \"text-align: right;\">2.54712</td></tr><tr><td class = \"rowNumber\" style = \"font-weight: bold; text-align: right;\">10</td><td style = \"text-align: right;\">1.09435</td><td style = \"text-align: right;\">1.09435</td><td style = \"text-align: right;\">67.1748</td></tr><tr><td class = \"rowNumber\" style = \"font-weight: bold; text-align: right;\">11</td><td style = \"text-align: right;\">0.767113</td><td style = \"text-align: right;\">0.767113</td><td style = \"text-align: right;\">6.45159</td></tr><tr><td class = \"rowNumber\" style = \"font-weight: bold; text-align: right;\">12</td><td style = \"text-align: right;\">-1.51288e-16</td><td style = \"text-align: right;\">-1.51288e-16</td><td style = \"text-align: right;\">4.0</td></tr><tr><td class = \"rowNumber\" style = \"font-weight: bold; text-align: right;\">13</td><td style = \"text-align: right;\">-0.767113</td><td style = \"text-align: right;\">-0.767113</td><td style = \"text-align: right;\">6.45159</td></tr><tr><td class = \"rowNumber\" style = \"font-weight: bold; text-align: right;\">14</td><td style = \"text-align: right;\">-1.09435</td><td style = \"text-align: right;\">-1.09435</td><td style = \"text-align: right;\">67.1748</td></tr><tr><td class = \"rowNumber\" style = \"font-weight: bold; text-align: right;\">15</td><td style = \"text-align: right;\">0.496337</td><td style = \"text-align: right;\">0.496337</td><td style = \"text-align: right;\">2.54712</td></tr><tr><td class = \"rowNumber\" style = \"font-weight: bold; text-align: right;\">16</td><td style = \"text-align: right;\">-0.503003</td><td style = \"text-align: right;\">-0.503003</td><td style = \"text-align: right;\">2.57837</td></tr><tr><td class = \"rowNumber\" style = \"font-weight: bold; text-align: right;\">17</td><td style = \"text-align: right;\">-0.0106953</td><td style = \"text-align: right;\">-0.0106953</td><td style = \"text-align: right;\">4.00091</td></tr><tr><td class = \"rowNumber\" style = \"font-weight: bold; text-align: right;\">18</td><td style = \"text-align: right;\">-0.843946</td><td style = \"text-align: right;\">-0.843946</td><td style = \"text-align: right;\">8.23594</td></tr><tr><td class = \"rowNumber\" style = \"font-weight: bold; text-align: right;\">19</td><td style = \"text-align: right;\">0.85371</td><td style = \"text-align: right;\">0.85371</td><td style = \"text-align: right;\">8.56762</td></tr><tr><td class = \"rowNumber\" style = \"font-weight: bold; text-align: right;\">20</td><td style = \"text-align: right;\">-0.0428787</td><td style = \"text-align: right;\">-0.0428787</td><td style = \"text-align: right;\">4.01373</td></tr><tr><td class = \"rowNumber\" style = \"font-weight: bold; text-align: right;\">21</td><td style = \"text-align: right;\">-1.12222</td><td style = \"text-align: right;\">-1.12222</td><td style = \"text-align: right;\">91.88</td></tr><tr><td class = \"rowNumber\" style = \"font-weight: bold; text-align: right;\">22</td><td style = \"text-align: right;\">1.12444</td><td style = \"text-align: right;\">1.12444</td><td style = \"text-align: right;\">94.2099</td></tr><tr><td class = \"rowNumber\" style = \"font-weight: bold; text-align: right;\">23</td><td style = \"text-align: right;\">-0.14189</td><td style = \"text-align: right;\">-0.14189</td><td style = \"text-align: right;\">4.05672</td></tr></tbody></table></div>"
      ],
      "text/latex": [
       "\\begin{tabular}{r|ccc}\n",
       "\t& x1 & x2 & z\\\\\n",
       "\t\\hline\n",
       "\t& Float64 & Float64 & Float64\\\\\n",
       "\t\\hline\n",
       "\t1 & 0.14189 & 0.14189 & 4.05672 \\\\\n",
       "\t2 & -1.12444 & -1.12444 & 94.2099 \\\\\n",
       "\t3 & 1.12222 & 1.12222 & 91.88 \\\\\n",
       "\t4 & 0.0428787 & 0.0428787 & 4.01373 \\\\\n",
       "\t5 & -0.85371 & -0.85371 & 8.56762 \\\\\n",
       "\t6 & 0.843946 & 0.843946 & 8.23594 \\\\\n",
       "\t7 & 0.0106953 & 0.0106953 & 4.00091 \\\\\n",
       "\t8 & 0.503003 & 0.503003 & 2.57837 \\\\\n",
       "\t9 & -0.496337 & -0.496337 & 2.54712 \\\\\n",
       "\t10 & 1.09435 & 1.09435 & 67.1748 \\\\\n",
       "\t11 & 0.767113 & 0.767113 & 6.45159 \\\\\n",
       "\t12 & -1.51288e-16 & -1.51288e-16 & 4.0 \\\\\n",
       "\t13 & -0.767113 & -0.767113 & 6.45159 \\\\\n",
       "\t14 & -1.09435 & -1.09435 & 67.1748 \\\\\n",
       "\t15 & 0.496337 & 0.496337 & 2.54712 \\\\\n",
       "\t16 & -0.503003 & -0.503003 & 2.57837 \\\\\n",
       "\t17 & -0.0106953 & -0.0106953 & 4.00091 \\\\\n",
       "\t18 & -0.843946 & -0.843946 & 8.23594 \\\\\n",
       "\t19 & 0.85371 & 0.85371 & 8.56762 \\\\\n",
       "\t20 & -0.0428787 & -0.0428787 & 4.01373 \\\\\n",
       "\t21 & -1.12222 & -1.12222 & 91.88 \\\\\n",
       "\t22 & 1.12444 & 1.12444 & 94.2099 \\\\\n",
       "\t23 & -0.14189 & -0.14189 & 4.05672 \\\\\n",
       "\\end{tabular}\n"
      ],
      "text/plain": [
       "\u001b[1m23×3 DataFrame\u001b[0m\n",
       "\u001b[1m Row \u001b[0m│\u001b[1m x1         \u001b[0m\u001b[1m x2         \u001b[0m\u001b[1m z        \u001b[0m\n",
       "     │\u001b[90m Float64    \u001b[0m\u001b[90m Float64    \u001b[0m\u001b[90m Float64  \u001b[0m\n",
       "─────┼──────────────────────────────────\n",
       "   1 │  0.14189     0.14189     4.05672\n",
       "   2 │ -1.12444    -1.12444    94.2099\n",
       "   3 │  1.12222     1.12222    91.88\n",
       "   4 │  0.0428787   0.0428787   4.01373\n",
       "   5 │ -0.85371    -0.85371     8.56762\n",
       "   6 │  0.843946    0.843946    8.23594\n",
       "   7 │  0.0106953   0.0106953   4.00091\n",
       "   8 │  0.503003    0.503003    2.57837\n",
       "  ⋮  │     ⋮           ⋮          ⋮\n",
       "  17 │ -0.0106953  -0.0106953   4.00091\n",
       "  18 │ -0.843946   -0.843946    8.23594\n",
       "  19 │  0.85371     0.85371     8.56762\n",
       "  20 │ -0.0428787  -0.0428787   4.01373\n",
       "  21 │ -1.12222    -1.12222    91.88\n",
       "  22 │  1.12444     1.12444    94.2099\n",
       "  23 │ -0.14189    -0.14189     4.05672\n",
       "\u001b[36m                          8 rows omitted\u001b[0m"
      ]
     },
     "metadata": {},
     "output_type": "display_data"
    }
   ],
   "source": [
    "@polyvar(x[1:n]); # Define polynomial ring \n",
    "df_cheb = solve_and_parse(pol_cheb, x, f, TR)\n",
    "df_lege = solve_and_parse(pol_lege, x, f, TR)"
   ]
  },
  {
   "cell_type": "code",
   "execution_count": 5,
   "metadata": {},
   "outputs": [
    {
     "name": "stdout",
     "output_type": "stream",
     "text": [
      "Processing point 1 of 23\n",
      "Optimization has converged within bounds: \u001b[32m✓\u001b[0m\n",
      "Processing point 2 of 23\n",
      "Optimization has converged within bounds: \u001b[32m✓\u001b[0m\n",
      "Processing point 3 of 23\n",
      "Optimization has converged within bounds: \u001b[32m✓\u001b[0m\n",
      "Processing point 4 of 23\n",
      "Optimization has converged within bounds: \u001b[32m✓\u001b[0m\n",
      "Processing point 5 of 23\n",
      "Optimization has converged within bounds: \u001b[32m✓\u001b[0m\n",
      "Processing point 6 of 23\n",
      "Optimization has converged within bounds: \u001b[32m✓\u001b[0m\n",
      "Processing point 7 of 23\n",
      "Optimization has converged within bounds: \u001b[32m✓\u001b[0m\n",
      "Processing point 8 of 23\n",
      "Optimization has converged within bounds: \u001b[32m✓\u001b[0m\n",
      "Processing point 9 of 23\n",
      "Optimization has converged within bounds: \u001b[32m✓\u001b[0m\n",
      "Processing point 10 of 23\n",
      "Optimization has converged within bounds: \u001b[32m✓\u001b[0m\n",
      "Processing point 11 of 23\n",
      "Optimization has converged within bounds: \u001b[32m✓\u001b[0m\n",
      "Processing point 12 of 23\n",
      "Optimization has converged within bounds: \u001b[32m✓\u001b[0m\n",
      "Processing point 13 of 23\n",
      "Optimization has converged within bounds: \u001b[32m✓\u001b[0m\n",
      "Processing point 14 of 23\n",
      "Optimization has converged within bounds: \u001b[32m✓\u001b[0m\n",
      "Processing point 15 of 23\n",
      "Optimization has converged within bounds: \u001b[32m✓\u001b[0m\n",
      "Processing point 16 of 23\n",
      "Optimization has converged within bounds: \u001b[32m✓\u001b[0m\n",
      "Processing point 17 of 23\n",
      "Optimization has converged within bounds: \u001b[32m✓\u001b[0m\n",
      "Processing point 18 of 23\n",
      "Optimization has converged within bounds: \u001b[32m✓\u001b[0m\n",
      "Processing point 19 of 23\n",
      "Optimization has converged within bounds: \u001b[32m✓\u001b[0m\n",
      "Processing point 20 of 23\n",
      "Optimization has converged within bounds: \u001b[32m✓\u001b[0m\n",
      "Processing point 21 of 23\n",
      "Optimization has converged within bounds: \u001b[32m✓\u001b[0m\n",
      "Processing point 22 of 23\n",
      "Optimization has converged within bounds: \u001b[32m✓\u001b[0m\n",
      "Processing point 23 of 23\n",
      "Optimization has converged within bounds: \u001b[32m✓\u001b[0m\n",
      "\n",
      "=== Computing Enhanced Statistics ===\n",
      "Computing spatial regions...\n",
      "Clustering function values...\n",
      "Computing nearest neighbor distances...\n",
      "Computing gradient norms at critical points...\n",
      "Analyzing basins of attraction...\n",
      "Computing gradient norms at minimizers...\n",
      "Enhanced statistics computed successfully!\n",
      "New df columns: region_id, function_value_cluster, nearest_neighbor_dist, gradient_norm\n",
      "New df_min columns: basin_points, average_convergence_steps, region_coverage_count, gradient_norm_at_min\n",
      "\n",
      "=== Computing Complete Hessian Analysis ===\n",
      "Computing Hessian matrices...\n",
      "Computing all eigenvalues...\n",
      "Classifying critical points...\n",
      "Extracting critical eigenvalues...\n",
      "Computing Hessian norms...\n",
      "Computing eigenvalue statistics...\n",
      "Computing Hessian analysis for minimizers...\n",
      "Phase 2 Hessian analysis complete!\n",
      "New df columns: critical_point_type, smallest_positive_eigenval, largest_negative_eigenval, hessian_norm, hessian_*\n",
      "New df_min columns: same Hessian-based columns as df\n",
      "Processing point 1 of 23\n",
      "Optimization has converged within bounds: \u001b[32m✓\u001b[0m\n",
      "Processing point 2 of 23\n",
      "Optimization has converged within bounds: \u001b[32m✓\u001b[0m\n",
      "Processing point 3 of 23\n",
      "Optimization has converged within bounds: \u001b[32m✓\u001b[0m\n",
      "Processing point 4 of 23\n",
      "Optimization has converged within bounds: \u001b[32m✓\u001b[0m\n",
      "Processing point 5 of 23\n",
      "Optimization has converged within bounds: \u001b[32m✓\u001b[0m\n",
      "Processing point 6 of 23\n",
      "Optimization has converged within bounds: \u001b[32m✓\u001b[0m\n",
      "Processing point 7 of 23\n",
      "Optimization has converged within bounds: \u001b[32m✓\u001b[0m\n",
      "Processing point 8 of 23\n",
      "Optimization has converged within bounds: \u001b[32m✓\u001b[0m\n",
      "Processing point 9 of 23\n",
      "Optimization has converged within bounds: \u001b[32m✓\u001b[0m\n",
      "Processing point 10 of 23\n",
      "Optimization has converged within bounds: \u001b[32m✓\u001b[0m\n",
      "Processing point 11 of 23\n",
      "Optimization has converged within bounds: \u001b[32m✓\u001b[0m\n",
      "Processing point 12 of 23\n",
      "Optimization has converged within bounds: \u001b[32m✓\u001b[0m\n",
      "Processing point 13 of 23\n",
      "Optimization has converged within bounds: \u001b[32m✓\u001b[0m\n",
      "Processing point 14 of 23\n",
      "Optimization has converged within bounds: \u001b[32m✓\u001b[0m\n",
      "Processing point 15 of 23\n",
      "Optimization has converged within bounds: \u001b[32m✓\u001b[0m\n",
      "Processing point 16 of 23\n",
      "Optimization has converged within bounds: \u001b[32m✓\u001b[0m\n",
      "Processing point 17 of 23\n",
      "Optimization has converged within bounds: \u001b[32m✓\u001b[0m\n",
      "Processing point 18 of 23\n",
      "Optimization has converged within bounds: \u001b[32m✓\u001b[0m\n",
      "Processing point 19 of 23\n",
      "Optimization has converged within bounds: \u001b[32m✓\u001b[0m\n",
      "Processing point 20 of 23\n",
      "Optimization has converged within bounds: \u001b[32m✓\u001b[0m\n",
      "Processing point 21 of 23\n",
      "Optimization has converged within bounds: \u001b[32m✓\u001b[0m\n",
      "Processing point 22 of 23\n",
      "Optimization has converged within bounds: \u001b[32m✓\u001b[0m\n",
      "Processing point 23 of 23\n",
      "Optimization has converged within bounds: \u001b[32m✓\u001b[0m\n",
      "\n",
      "=== Computing Enhanced Statistics ===\n",
      "Computing spatial regions...\n",
      "Clustering function values...\n",
      "Computing nearest neighbor distances...\n",
      "Computing gradient norms at critical points...\n",
      "Analyzing basins of attraction...\n",
      "Computing gradient norms at minimizers...\n",
      "Enhanced statistics computed successfully!\n",
      "New df columns: region_id, function_value_cluster, nearest_neighbor_dist, gradient_norm\n",
      "New df_min columns: basin_points, average_convergence_steps, region_coverage_count, gradient_norm_at_min\n",
      "\n",
      "=== Computing Complete Hessian Analysis ===\n",
      "Computing Hessian matrices...\n",
      "Computing all eigenvalues...\n",
      "Classifying critical points...\n",
      "Extracting critical eigenvalues...\n",
      "Computing Hessian norms...\n",
      "Computing eigenvalue statistics...\n",
      "Computing Hessian analysis for minimizers...\n",
      "Phase 2 Hessian analysis complete!\n",
      "New df columns: critical_point_type, smallest_positive_eigenval, largest_negative_eigenval, hessian_norm, hessian_*\n",
      "New df_min columns: same Hessian-based columns as df\n"
     ]
    }
   ],
   "source": [
    "using Optim\n",
    "df_cheb, df_min_cheb = analyze_critical_points(f, df_cheb, TR, tol_dist=0.05);\n",
    "df_lege, df_min_lege = analyze_critical_points(f, df_lege, TR, tol_dist=0.05);"
   ]
  },
  {
   "cell_type": "code",
   "execution_count": 6,
   "metadata": {},
   "outputs": [],
   "source": [
    "# using CairoMakie\n",
    "# CairoMakie.activate!"
   ]
  },
  {
   "cell_type": "code",
   "execution_count": 7,
   "metadata": {},
   "outputs": [],
   "source": [
    "# fig_1 = cairo_plot_polyapprox_levelset(pol_cheb, TR, df_cheb, df_min_cheb, chebyshev_levels=true)"
   ]
  },
  {
   "cell_type": "code",
   "execution_count": 8,
   "metadata": {},
   "outputs": [],
   "source": [
    "# fig_2 = cairo_plot_polyapprox_levelset(pol_lege, TR, df_lege, df_min_lege, chebyshev_levels=false)"
   ]
  }
 ],
 "metadata": {
  "kernelspec": {
   "display_name": "Julia 1.11.6",
   "language": "julia",
   "name": "julia-1.11"
  },
  "language_info": {
   "file_extension": ".jl",
   "mimetype": "application/julia",
   "name": "julia",
   "version": "1.11.6"
  }
 },
 "nbformat": 4,
 "nbformat_minor": 2
}
