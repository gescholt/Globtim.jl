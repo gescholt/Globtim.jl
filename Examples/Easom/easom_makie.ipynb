{
 "cells": [
  {
   "cell_type": "markdown",
   "metadata": {},
   "source": [
    "Easom Table Function \n",
    "=====================\n",
    "It is not centered at $(0,0)$. \n",
    "$$\n",
    "f(x) = -\\cos(x[1]) * \\cos(x[2]) * \\exp(-((x[1] - \\pi)^2 + (x[2] - \\pi)^2))\n",
    "$$\n",
    " is defined over the square $[-100, 100]^2$"
   ]
  },
  {
   "cell_type": "code",
   "execution_count": 17,
   "metadata": {},
   "outputs": [
    {
     "name": "stderr",
     "output_type": "stream",
     "text": [
      "\u001b[32m\u001b[1m  Activating\u001b[22m\u001b[39m project at `~/Globtim.jl`\n",
      "WARNING: redefinition of constant Main.tol_l2. This may fail, cause incorrect answers, or produce other errors.\n"
     ]
    }
   ],
   "source": [
    "using Pkg\n",
    "Pkg.activate(\"../../.\")\n",
    "using Globtim\n",
    "# include(\"../../../src/lib_func.jl\") # Include the library of functions\n",
    "\n",
    "# Constants and Parameters\n",
    "d = 2 # Initial Degree \n",
    "const n, a, b = 2, 2, 1 \n",
    "const scale_factor = a / b       # Scaling factor appears in `main_computation`, maybe it should be a parameter.\n",
    "const delta, alpha = .5 , 1 / 10  # Sampling parameters\n",
    "const tol_l2 = 1e-5            # Define the tolerance for the L2-norm\n",
    "\n",
    "f = easom; # Objective function"
   ]
  },
  {
   "cell_type": "code",
   "execution_count": 18,
   "metadata": {},
   "outputs": [
    {
     "name": "stdout",
     "output_type": "stream",
     "text": [
      "current L2-norm: 0.00014160670023366046\n",
      "Number of samples: 8\n",
      "Current degree: 2\n",
      "current L2-norm: 7.990893716471537e-5\n",
      "Number of samples: 12\n",
      "Current degree: 3\n",
      "current L2-norm: 4.561172282860882e-5\n",
      "Number of samples: 17\n",
      "Current degree: 4\n",
      "current L2-norm: 2.6929142286800935e-5\n",
      "Number of samples: 22\n",
      "Current degree: 5\n",
      "current L2-norm: 1.508777146905729e-5\n",
      "Number of samples: 28\n",
      "Current degree: 6\n",
      "attained the desired L2-norm: 8.20662008547841e-6\n"
     ]
    }
   ],
   "source": [
    "while true # Potential infinite loop\n",
    "    global poly_approx = MainGenerate(f, 2, d, delta, alpha, scale_factor, 0.2) # computes the approximant in Chebyshev basis\n",
    "    if poly_approx.nrm < tol_l2\n",
    "        println(\"attained the desired L2-norm: \", poly_approx.nrm)\n",
    "        break\n",
    "    else\n",
    "        println(\"current L2-norm: \", poly_approx.nrm)\n",
    "        println(\"Number of samples: \", poly_approx.N)\n",
    "        println(\"Current degree: \", d)\n",
    "        global d += 1\n",
    "    end\n",
    "end;"
   ]
  },
  {
   "cell_type": "code",
   "execution_count": 19,
   "metadata": {},
   "outputs": [
    {
     "name": "stdout",
     "output_type": "stream",
     "text": [
      "The system is of degree: 6\n"
     ]
    }
   ],
   "source": [
    "using DynamicPolynomials, DataFrames\n",
    "using HomotopyContinuation, ProgressLogging\n",
    "\n",
    "@polyvar(x[1:n]) # Define polynomial ring \n",
    "pol = main_nd(x, n, d, poly_approx.coeffs) \n",
    "grad = differentiate.(pol, x)\n",
    "sys = System(grad)\n",
    "println(\"The system is of degree: \", d-1)"
   ]
  },
  {
   "cell_type": "code",
   "execution_count": 20,
   "metadata": {},
   "outputs": [
    {
     "name": "stdout",
     "output_type": "stream",
     "text": [
      "\u001b[32mTracking 36 paths...   6%|█▋                            |  ETA: 0:01:26\u001b[39m\u001b[K\n",
      "\n",
      "\n",
      "\n",
      "\u001b[32mTracking 36 paths... 100%|██████████████████████████████| Time: 0:00:05\u001b[39m\u001b[K\n",
      "\u001b[34m  # paths tracked:                  36\u001b[39m\u001b[K\n",
      "\u001b[34m  # non-singular solutions (real):  36 (14)\u001b[39m\u001b[K\n",
      "\u001b[34m  # singular endpoints (real):      0 (0)\u001b[39m\u001b[K\n",
      "\u001b[34m  # total solutions (real):         36 (14)\u001b[39m\u001b[K\n"
     ]
    }
   ],
   "source": [
    "Real_sol_lstsq = HomotopyContinuation.solve(sys)\n",
    "real_pts = HomotopyContinuation.real_solutions(Real_sol_lstsq; only_real=true, multiple_results=false);"
   ]
  },
  {
   "cell_type": "code",
   "execution_count": 21,
   "metadata": {},
   "outputs": [],
   "source": [
    "condition(point) = -1 < point[1] < 1 && -1 < point[2] < 1\n",
    "filtered_points = filter(condition, real_pts) # Filter points using the filter function\n",
    "# Colllect the critical points of the approximant \n",
    "h_x = Float64[point[1] for point in filtered_points] # Initialize the x vector for critical points of approximant\n",
    "h_y = Float64[point[2] for point in filtered_points] # Initialize the y vector\n",
    "h_z = map(p -> f([p[1], p[2]]), zip(scale_factor * h_x, scale_factor * h_y))\n",
    "df = DataFrame(x=scale_factor * h_x, y=scale_factor * h_y, z=h_z); # Create a DataFrame"
   ]
  },
  {
   "cell_type": "code",
   "execution_count": 23,
   "metadata": {},
   "outputs": [
    {
     "data": {
      "text/plain": [
       "GLMakie.Screen(...)"
      ]
     },
     "metadata": {},
     "output_type": "display_data"
    }
   ],
   "source": [
    "using GLMakie\n",
    "\n",
    "# Extract coordinates and function values\n",
    "coords = poly_approx.scale_factor * poly_approx.grid\n",
    "z_coords = poly_approx.z\n",
    "\n",
    "if size(coords)[2] == 2  # Plot the 3D scatter plot if the dimensions are 2\n",
    "    fig = Figure(size=(800, 600))\n",
    "    ax = Axis3(fig[1, 1], title=\"Mixture of Gaussians Sample Points\", xlabel=\"X-axis\", ylabel=\"Y-axis\", zlabel=\"Z-axis\")\n",
    "\n",
    "    # Plot the sampled data with a darker core\n",
    "    scatter!(ax, coords[:, 1], coords[:, 2], z_coords, markersize=2, color=:black, label=\"Sampled Data Core\")\n",
    "\n",
    "    # Plot the sampled data with adjusted size and color to create a halo effect\n",
    "    scatter!(ax, coords[:, 1], coords[:, 2], z_coords, markersize=4, color=z_coords, colormap=:viridis, label=\"Sampled Data Halo\")\n",
    "\n",
    "    # Plot the exact approximant critical points with adjusted size\n",
    "    scatter!(ax, df.x, df.y, df.z, markersize=10, color=:red, label=\"Exact approximant critical points\")\n",
    "\n",
    "    display(fig)\n",
    "end"
   ]
  },
  {
   "cell_type": "code",
   "execution_count": 8,
   "metadata": {},
   "outputs": [
    {
     "data": {
      "text/plain": [
       "GLMakie.Screen(...)"
      ]
     },
     "metadata": {},
     "output_type": "display_data"
    }
   ],
   "source": [
    "\n",
    "coords = poly_approx.scale_factor * poly_approx.grid # Extract coordinates and function values\n",
    "z_coords = poly_approx.z\n",
    "\n",
    "if size(coords)[2] == 2 # Plot the 3D scatter plot if the dimensions are 2\n",
    "    fig = Figure(size=(800, 600))\n",
    "    ax = Axis3(fig[1, 1], title=\"Mixture of Gaussians Sample Points\", xlabel=\"X-axis\", ylabel=\"Y-axis\", zlabel=\"Z-axis\")\n",
    "\n",
    "    # Plot the sampled data with darker contrast\n",
    "    scatter!(ax, coords[:, 1], coords[:, 2], z_coords, markersize=2, color=:black, colormap=:viridis, label=\"Sampled Data\")\n",
    "    # Adjust the size and color of the sampled data points\n",
    "    scatter!(ax, coords[:, 1], coords[:, 2], z_coords, markersize=5, color=z_coords, colormap=:viridis, label=\"Sampled Data\")\n",
    "\n",
    "    display(fig)\n",
    "end"
   ]
  },
  {
   "cell_type": "code",
   "execution_count": 24,
   "metadata": {},
   "outputs": [],
   "source": [
    "\n",
    "# Create a grid for the surface plot\n",
    "x1 = range(-1, 1, length=100)\n",
    "y = range(-1, 1, length=100)\n",
    "z = [f([xi, yi]) for xi in x1, yi in y]\n",
    "\n",
    "fig = Figure(size=(800, 600))\n",
    "ax = Axis3(fig[1, 1], title=\"3D Plot of Shubert function with the critical points of the approximant of degree 22\",\n",
    "           xlabel=\"x\", ylabel=\"y\", zlabel=\"f(x, y)\")\n",
    "\n",
    "# Plot the surface\n",
    "surface!(ax, x1, y, z, color=(:white, 0.25), transparency=true)\n",
    "# map=:(viridis,.)\n",
    "\n",
    "# Plot the critical points\n",
    "scatter!(ax, df.x, df.y, df.z, markersize=5, color=:red, label=\"Critical Points\")\n",
    "\n",
    "fig"
   ]
  },
  {
   "cell_type": "markdown",
   "metadata": {},
   "source": [
    "Should plot the polynomial approximant too."
   ]
  },
  {
   "cell_type": "code",
   "execution_count": null,
   "metadata": {},
   "outputs": [
    {
     "name": "stdout",
     "output_type": "stream",
     "text": [
      "current L2-norm: 0.03150710328000877"
     ]
    },
    {
     "name": "stderr",
     "output_type": "stream",
     "text": [
      "WARNING: redefinition of constant Main.tol_l2. This may fail, cause incorrect answers, or produce other errors.\n"
     ]
    },
    {
     "name": "stdout",
     "output_type": "stream",
     "text": [
      "\n",
      "Number of samples: 8\n",
      "Current degree: 2\n",
      "current L2-norm: 0.023311707351089422\n",
      "Number of samples: 12\n",
      "Current degree: 3\n",
      "current L2-norm: 0.014570058361619327\n",
      "Number of samples: 17\n",
      "Current degree: 4\n",
      "current L2-norm: 0.010413345695311693\n",
      "Number of samples: 22\n",
      "Current degree: 5\n",
      "current L2-norm: 0.007463075052903172\n",
      "Number of samples: 28\n",
      "Current degree: 6\n",
      "current L2-norm: 0.005525057615807029\n",
      "Number of samples: 34\n",
      "Current degree: 7\n",
      "current L2-norm: 0.003966811072142175\n",
      "Number of samples: 41\n",
      "Current degree: 8\n",
      "current L2-norm: 0.0027412849478182844\n",
      "Number of samples: 48\n",
      "Current degree: 9\n",
      "current L2-norm: 0.002238521327513709\n",
      "Number of samples: 56\n",
      "Current degree: 10\n",
      "current L2-norm: 0.0016164080957956177\n",
      "Number of samples: 65\n",
      "Current degree: 11\n",
      "current L2-norm: 0.0013581351222098238\n",
      "Number of samples: 74\n",
      "Current degree: 12\n",
      "current L2-norm: 0.00108357704548822\n",
      "Number of samples: 83\n",
      "Current degree: 13\n",
      "current L2-norm: 0.0009146586221214484\n",
      "Number of samples: 93\n",
      "Current degree: 14\n",
      "current L2-norm: 0.0007567399260767324\n",
      "Number of samples: 103\n",
      "Current degree: 15\n",
      "current L2-norm: 0.0006260526341641614\n",
      "Number of samples: 114\n",
      "Current degree: 16\n",
      "current L2-norm: 0.0005228105732815226\n",
      "Number of samples: 125\n",
      "Current degree: 17\n",
      "current L2-norm: 0.0004333764548775294\n",
      "Number of samples: 136\n",
      "Current degree: 18\n",
      "current L2-norm: 0.00036446226255680434\n",
      "Number of samples: 148\n",
      "Current degree: 19\n",
      "current L2-norm: 0.00031222005095858657\n",
      "Number of samples: 160\n",
      "Current degree: 20\n",
      "current L2-norm: 0.0002665106331541637\n",
      "Number of samples: 173\n",
      "Current degree: 21\n",
      "current L2-norm: 0.00023299663510583366\n",
      "Number of samples: 186\n",
      "Current degree: 22\n",
      "current L2-norm: 0.000203569556399191\n",
      "Number of samples: 199\n",
      "Current degree: 23\n",
      "current L2-norm: 0.0001803926606837163\n",
      "Number of samples: 213\n",
      "Current degree: 24\n",
      "current L2-norm: 0.000158988817900161\n",
      "Number of samples: 227\n",
      "Current degree: 25\n",
      "current L2-norm: 0.00014104892009408635\n",
      "Number of samples: 242\n",
      "Current degree: 26\n",
      "current L2-norm: 0.00012313888083377773\n",
      "Number of samples: 257\n",
      "Current degree: 27\n",
      "attained the desired L2-norm: 0.00011087576231260178\n",
      "The system is of degree: 27\n",
      "\u001b[32mTracking 729 paths...   0%|▏                            |  ETA: 1:58:31\u001b[39m\u001b[K\n",
      "\n",
      "\n",
      "\n",
      "\u001b[32mTracking 729 paths...  18%|█████▎                       |  ETA: 0:01:40\u001b[39m\u001b[K\n",
      "\n",
      "\n",
      "\n",
      "\u001b[32mTracking 729 paths...  21%|██████▏                      |  ETA: 0:01:22\u001b[39m\u001b[K\n",
      "\n",
      "\n",
      "\n",
      "\u001b[32mTracking 729 paths...  25%|███████▍                     |  ETA: 0:01:07\u001b[39m\u001b[K\n",
      "\n",
      "\n",
      "\n",
      "\u001b[32mTracking 729 paths...  28%|████████▎                    |  ETA: 0:00:58\u001b[39m\u001b[K\n",
      "\n",
      "\n",
      "\n",
      "\u001b[32mTracking 729 paths...  31%|█████████▏                   |  ETA: 0:00:50\u001b[39m\u001b[K\n",
      "\n",
      "\n",
      "\n",
      "\u001b[32mTracking 729 paths...  35%|██████████▏                  |  ETA: 0:00:43\u001b[39m\u001b[K\n",
      "\n",
      "\n",
      "\n",
      "\u001b[32mTracking 729 paths...  39%|███████████▎                 |  ETA: 0:00:37\u001b[39m\u001b[K\n",
      "\n",
      "\n",
      "\n",
      "\u001b[32mTracking 729 paths...  42%|████████████▏                |  ETA: 0:00:33\u001b[39m\u001b[K\n",
      "\n",
      "\n",
      "\n",
      "\u001b[32mTracking 729 paths...  45%|█████████████▏               |  ETA: 0:00:29\u001b[39m\u001b[K\n",
      "\n",
      "\n",
      "\n",
      "\u001b[32mTracking 729 paths...  49%|██████████████▏              |  ETA: 0:00:25\u001b[39m\u001b[K\n",
      "\n",
      "\n",
      "\n",
      "\u001b[32mTracking 729 paths...  58%|████████████████▊            |  ETA: 0:00:18\u001b[39m\u001b[K\n",
      "\n",
      "\n",
      "\n",
      "\u001b[32mTracking 729 paths...  61%|█████████████████▋           |  ETA: 0:00:16\u001b[39m\u001b[K\n",
      "\n",
      "\n",
      "\n",
      "\u001b[32mTracking 729 paths...  64%|██████████████████▋          |  ETA: 0:00:14\u001b[39m\u001b[K\n",
      "\n",
      "\n",
      "\n",
      "\u001b[32mTracking 729 paths...  67%|███████████████████▋         |  ETA: 0:00:12\u001b[39m\u001b[K\n",
      "\n",
      "\n",
      "\n",
      "\u001b[32mTracking 729 paths...  71%|████████████████████▌        |  ETA: 0:00:11\u001b[39m\u001b[K\n",
      "\n",
      "\n",
      "\n",
      "\u001b[32mTracking 729 paths...  74%|█████████████████████▌       |  ETA: 0:00:09\u001b[39m\u001b[K\n",
      "\n",
      "\n",
      "\n",
      "\u001b[32mTracking 729 paths...  79%|███████████████████████      |  ETA: 0:00:07\u001b[39m\u001b[K\n",
      "\n",
      "\n",
      "\n",
      "\u001b[32mTracking 729 paths...  82%|███████████████████████▉     |  ETA: 0:00:06\u001b[39m\u001b[K\n",
      "\n",
      "\n",
      "\n",
      "\u001b[32mTracking 729 paths...  86%|█████████████████████████    |  ETA: 0:00:04\u001b[39m\u001b[K\n",
      "\n",
      "\n",
      "\n",
      "\u001b[32mTracking 729 paths...  90%|██████████████████████████   |  ETA: 0:00:03\u001b[39m\u001b[K\n",
      "\n",
      "\n",
      "\n",
      "\u001b[32mTracking 729 paths...  94%|███████████████████████████▏ |  ETA: 0:00:02\u001b[39m\u001b[K\n",
      "\n",
      "\n",
      "\n",
      "\u001b[32mTracking 729 paths...  97%|████████████████████████████▎|  ETA: 0:00:01\u001b[39m\u001b[K\n",
      "\n",
      "\n",
      "\n",
      "\u001b[32mTracking 729 paths... 100%|█████████████████████████████| Time: 0:00:27\u001b[39m\u001b[K\n",
      "\u001b[34m  # paths tracked:                  729\u001b[39m\u001b[K\n",
      "\u001b[34m  # non-singular solutions (real):  729 (217)\u001b[39m\u001b[K\n",
      "\u001b[34m  # singular endpoints (real):      0 (0)\u001b[39m\u001b[K\n",
      "\u001b[34m  # total solutions (real):         729 (217)\u001b[39m\u001b[K\n"
     ]
    }
   ],
   "source": [
    "# Update tolerance\n",
    "const tol_l2 = 1.5e-3\n",
    "\n",
    "# Re-run the main computation loop\n",
    "d = 2 # Reset degree\n",
    "while true # Potential infinite loop\n",
    "    global poly_approx = MainGenerate(f, 2, d, delta, alpha, scale_factor, 0.2) # computes the approximant in Chebyshev basis\n",
    "    if poly_approx.nrm < tol_l2\n",
    "        println(\"attained the desired L2-norm: \", poly_approx.nrm)\n",
    "        break\n",
    "    else\n",
    "        println(\"current L2-norm: \", poly_approx.nrm)\n",
    "        println(\"Number of samples: \", poly_approx.N)\n",
    "        println(\"Current degree: \", d)\n",
    "        global d += 1\n",
    "    end\n",
    "end;\n",
    "\n",
    "# Re-run the polynomial system setup and solve\n",
    "pol = main_nd(x, n, d, poly_approx.coeffs) \n",
    "grad = differentiate.(pol, x)\n",
    "sys = System(grad)\n",
    "println(\"The system is of degree: \", d-1)\n",
    "\n",
    "Real_sol_lstsq = HomotopyContinuation.solve(sys)\n",
    "real_pts = HomotopyContinuation.real_solutions(Real_sol_lstsq; only_real=true, multiple_results=false)\n",
    "\n",
    "# Filter points and create DataFrame\n",
    "condition(point) = -1 < point[1] < 1 && -1 < point[2] < 1\n",
    "filtered_points = filter(condition, real_pts) # Filter points using the filter function\n",
    "# Collect the critical points of the approximant \n",
    "h_x = Float64[point[1] for point in filtered_points] # Initialize the x vector for critical points of approximant\n",
    "h_y = Float64[point[2] for point in filtered_points] # Initialize the y vector\n",
    "h_z = map(p -> f([p[1], p[2]]), zip(scale_factor * h_x, scale_factor * h_y))\n",
    "df = DataFrame(x=scale_factor * h_x, y=scale_factor * h_y, z=h_z); # Create a DataFrame"
   ]
  },
  {
   "cell_type": "code",
   "execution_count": 8,
   "metadata": {},
   "outputs": [
    {
     "data": {
      "text/plain": [
       "GLMakie.Screen(...)"
      ]
     },
     "metadata": {},
     "output_type": "display_data"
    }
   ],
   "source": [
    "# Plot using GLMakie\n",
    "\n",
    "# Extract coordinates and function values\n",
    "coords = poly_approx.scale_factor * poly_approx.grid\n",
    "z_coords = poly_approx.z\n",
    "\n",
    "if size(coords)[2] == 2  # Plot the 3D scatter plot if the dimensions are 2\n",
    "    fig = Figure(size=(800, 600))\n",
    "    ax = Axis3(fig[1, 1], title=\"Mixture of Gaussians Sample Points\", xlabel=\"X-axis\", ylabel=\"Y-axis\", zlabel=\"Z-axis\")\n",
    "\n",
    "    # Plot the sampled data with adjusted size and color to create a halo effect\n",
    "    scatter!(ax, coords[:, 1], coords[:, 2], z_coords, markersize=2, color=z_coords, colormap=:viridis, label=\"Sampled Data Halo\")\n",
    "\n",
    "    # Plot the exact approximant critical points with adjusted size\n",
    "    scatter!(ax, df.x, df.y, df.z, markersize=10, color=:red, label=\"Exact approximant critical points\")\n",
    "\n",
    "    display(fig)\n",
    "end"
   ]
  }
 ],
 "metadata": {
  "kernelspec": {
   "display_name": "Julia 1.11.1",
   "language": "julia",
   "name": "julia-1.11"
  },
  "language_info": {
   "file_extension": ".jl",
   "mimetype": "application/julia",
   "name": "julia",
   "version": "1.11.1"
  }
 },
 "nbformat": 4,
 "nbformat_minor": 2
}
