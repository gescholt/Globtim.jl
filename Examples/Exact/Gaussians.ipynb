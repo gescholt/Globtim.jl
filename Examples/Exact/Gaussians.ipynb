{
 "cells": [
  {
   "cell_type": "markdown",
   "metadata": {},
   "source": [
    "A mixture of $N =10$ random Gaussians centered in $[-1,1]^n$ \n",
    "$$\n",
    "f_{\\mu,\\sigma}(x, y) = \\sum_{i=1}^{N} \\frac{1}{\\sigma_i\\sqrt{2\\pi}}\\exp\\left(-\\frac{(x-\\mu_i)^2}{2\\sigma_i^2}\\right)\n",
    "$$\n",
    " is defined over the square $[-1, 1]^2$."
   ]
  },
  {
   "cell_type": "code",
   "execution_count": 2,
   "metadata": {},
   "outputs": [
    {
     "name": "stderr",
     "output_type": "stream",
     "text": [
      "\u001b[32m\u001b[1m  Activating\u001b[22m\u001b[39m project at `~/Globtim.jl`\n"
     ]
    }
   ],
   "source": [
    "using Pkg\n",
    "Pkg.activate(\"../../.\")\n",
    "using Globtim\n",
    "using DynamicPolynomials, DataFrames\n",
    "using HomotopyContinuation, ProgressLogging"
   ]
  },
  {
   "cell_type": "code",
   "execution_count": 3,
   "metadata": {},
   "outputs": [],
   "source": [
    "# Constants and Parameters\n",
    "const n, a, b = 2, 1, 1\n",
    "const scale_factor = a / b       # Scaling factor appears in `main_computation`, maybe it should be a parameter.\n",
    "const delta, alpha = 0.5, 1 / 10  # Sampling parameters\n",
    "const tol_l2 = 1.5e-3             # Define the tolerance for the L2-norm\n",
    "\n",
    "N = 12\n",
    "params = init_gaussian_params(n, N, 0.2)\n",
    "# Create a closure that captures params\n",
    "rand_gaussian_closure = (x) -> rand_gaussian(x, params)\n",
    "f = rand_gaussian_closure; # Function to be optimized"
   ]
  },
  {
   "cell_type": "code",
   "execution_count": 4,
   "metadata": {},
   "outputs": [
    {
     "name": "stdout",
     "output_type": "stream",
     "text": [
      "current L2-norm: 0.030777449424258453\n",
      "Number of samples: 10\n",
      "current L2-norm: 0.033137300294305935\n",
      "Number of samples: 10\n"
     ]
    }
   ],
   "source": [
    "d = 4 # Initial Degree \n",
    "center = [0.0, 0.0]\n",
    "TR = test_input(n, center, (alpha, delta), tol_l2, (0.0, 0.0), 1.0, 1.0, f)\n",
    "pol_cheb = Constructor(TR, d, GN=10, basis=:chebyshev)\n",
    "pol_lege = Constructor(TR, d, GN=10, basis=:legendre);"
   ]
  },
  {
   "cell_type": "code",
   "execution_count": 11,
   "metadata": {},
   "outputs": [
    {
     "name": "stdout",
     "output_type": "stream",
     "text": [
      "The system is of degree: 3\n"
     ]
    }
   ],
   "source": [
    "@polyvar(x[1:n]) # Define polynomial ring \n",
    "pol = main_nd(x, n, d, pol_cheb.coeffs, basis=:chebyshev) \n",
    "grad = differentiate.(pol, x)\n",
    "sys = HomotopyContinuation.System(grad)\n",
    "println(\"The system is of degree: \", d - 1)\n",
    "Real_sol_lstsq = HomotopyContinuation.solve(sys)\n",
    "real_pts_cheb = HomotopyContinuation.real_solutions(Real_sol_lstsq; only_real=true, multiple_results=false);"
   ]
  },
  {
   "cell_type": "code",
   "execution_count": 12,
   "metadata": {},
   "outputs": [
    {
     "name": "stdout",
     "output_type": "stream",
     "text": [
      "The system is of degree: 3\n"
     ]
    }
   ],
   "source": [
    "pol = main_nd(x, n, d, pol_lege.coeffs, basis=:legendre)\n",
    "grad = differentiate.(pol, x)\n",
    "sys = HomotopyContinuation.System(grad)\n",
    "println(\"The system is of degree: \", d - 1)\n",
    "Real_sol_lstsq = HomotopyContinuation.solve(sys)\n",
    "real_pts_lege = HomotopyContinuation.real_solutions(Real_sol_lstsq; only_real=true, multiple_results=false);"
   ]
  },
  {
   "cell_type": "code",
   "execution_count": 13,
   "metadata": {},
   "outputs": [
    {
     "data": {
      "text/html": [
       "<div><div style = \"float: left;\"><span>7×3 DataFrame</span></div><div style = \"clear: both;\"></div></div><div class = \"data-frame\" style = \"overflow-x: scroll;\"><table class = \"data-frame\" style = \"margin-bottom: 6px;\"><thead><tr class = \"header\"><th class = \"rowNumber\" style = \"font-weight: bold; text-align: right;\">Row</th><th style = \"text-align: left;\">x</th><th style = \"text-align: left;\">y</th><th style = \"text-align: left;\">z</th></tr><tr class = \"subheader headerLastRow\"><th class = \"rowNumber\" style = \"font-weight: bold; text-align: right;\"></th><th title = \"Float64\" style = \"text-align: left;\">Float64</th><th title = \"Float64\" style = \"text-align: left;\">Float64</th><th title = \"Float64\" style = \"text-align: left;\">Float64</th></tr></thead><tbody><tr><td class = \"rowNumber\" style = \"font-weight: bold; text-align: right;\">1</td><td style = \"text-align: right;\">0.646182</td><td style = \"text-align: right;\">-0.63055</td><td style = \"text-align: right;\">0.967104</td></tr><tr><td class = \"rowNumber\" style = \"font-weight: bold; text-align: right;\">2</td><td style = \"text-align: right;\">-0.722991</td><td style = \"text-align: right;\">0.679183</td><td style = \"text-align: right;\">8.24656e-11</td></tr><tr><td class = \"rowNumber\" style = \"font-weight: bold; text-align: right;\">3</td><td style = \"text-align: right;\">0.0842985</td><td style = \"text-align: right;\">0.26326</td><td style = \"text-align: right;\">0.017505</td></tr><tr><td class = \"rowNumber\" style = \"font-weight: bold; text-align: right;\">4</td><td style = \"text-align: right;\">-0.735435</td><td style = \"text-align: right;\">-0.598579</td><td style = \"text-align: right;\">-0.323934</td></tr><tr><td class = \"rowNumber\" style = \"font-weight: bold; text-align: right;\">5</td><td style = \"text-align: right;\">0.027884</td><td style = \"text-align: right;\">0.794077</td><td style = \"text-align: right;\">0.126365</td></tr><tr><td class = \"rowNumber\" style = \"font-weight: bold; text-align: right;\">6</td><td style = \"text-align: right;\">0.320913</td><td style = \"text-align: right;\">0.909743</td><td style = \"text-align: right;\">0.126748</td></tr><tr><td class = \"rowNumber\" style = \"font-weight: bold; text-align: right;\">7</td><td style = \"text-align: right;\">-0.766735</td><td style = \"text-align: right;\">-0.13545</td><td style = \"text-align: right;\">-0.000666275</td></tr></tbody></table></div>"
      ],
      "text/latex": [
       "\\begin{tabular}{r|ccc}\n",
       "\t& x & y & z\\\\\n",
       "\t\\hline\n",
       "\t& Float64 & Float64 & Float64\\\\\n",
       "\t\\hline\n",
       "\t1 & 0.646182 & -0.63055 & 0.967104 \\\\\n",
       "\t2 & -0.722991 & 0.679183 & 8.24656e-11 \\\\\n",
       "\t3 & 0.0842985 & 0.26326 & 0.017505 \\\\\n",
       "\t4 & -0.735435 & -0.598579 & -0.323934 \\\\\n",
       "\t5 & 0.027884 & 0.794077 & 0.126365 \\\\\n",
       "\t6 & 0.320913 & 0.909743 & 0.126748 \\\\\n",
       "\t7 & -0.766735 & -0.13545 & -0.000666275 \\\\\n",
       "\\end{tabular}\n"
      ],
      "text/plain": [
       "\u001b[1m7×3 DataFrame\u001b[0m\n",
       "\u001b[1m Row \u001b[0m│\u001b[1m x          \u001b[0m\u001b[1m y         \u001b[0m\u001b[1m z            \u001b[0m\n",
       "     │\u001b[90m Float64    \u001b[0m\u001b[90m Float64   \u001b[0m\u001b[90m Float64      \u001b[0m\n",
       "─────┼─────────────────────────────────────\n",
       "   1 │  0.646182   -0.63055    0.967104\n",
       "   2 │ -0.722991    0.679183   8.24656e-11\n",
       "   3 │  0.0842985   0.26326    0.017505\n",
       "   4 │ -0.735435   -0.598579  -0.323934\n",
       "   5 │  0.027884    0.794077   0.126365\n",
       "   6 │  0.320913    0.909743   0.126748\n",
       "   7 │ -0.766735   -0.13545   -0.000666275"
      ]
     },
     "metadata": {},
     "output_type": "display_data"
    }
   ],
   "source": [
    "function process_critical_points(real_pts, f, scale_factor)\n",
    "    # Filter points within the domain [-1,1] × [-1,1]\n",
    "    condition(point) = -1 < point[1] < 1 && -1 < point[2] < 1\n",
    "    filtered_points = filter(condition, real_pts)\n",
    "\n",
    "    # Extract coordinates\n",
    "    h_x = Float64[point[1] for point in filtered_points]\n",
    "    h_y = Float64[point[2] for point in filtered_points]\n",
    "\n",
    "    # Scale points and evaluate function\n",
    "    h_z = map(p -> f([p[1], p[2]]), zip(scale_factor * h_x, scale_factor * h_y))\n",
    "\n",
    "    # Create DataFrame\n",
    "    DataFrame(\n",
    "        x=scale_factor * h_x,\n",
    "        y=scale_factor * h_y,\n",
    "        z=h_z\n",
    "    )\n",
    "end\n",
    "\n",
    "# Usage example:\n",
    "df_cheb = process_critical_points(real_pts_cheb, f, scale_factor)\n",
    "df_lege = process_critical_points(real_pts_lege, f, scale_factor)"
   ]
  },
  {
   "cell_type": "code",
   "execution_count": 15,
   "metadata": {},
   "outputs": [
    {
     "data": {
      "text/plain": [
       "ApproxPoly{Float64}([0.08389253573359783, 0.15574055757948674, -0.019266075254266546, -0.09449376277730333, 0.034987429296810736, 0.011332417231878451, -0.09952360781832402, -0.027526156604580188, 0.08982996217966067, -0.04124184568825464, 0.03540554388765322, 0.07111497921331629, 0.12383179180226041, 0.18001113848602915, -0.11741900307233277], 4, 0.030777449424258453, 10, 1.0, [0.9898214418809327 0.9898214418809327; 0.9096319953545184 0.9898214418809327; … ; -0.9096319953545182 -0.9898214418809327; -0.9898214418809327 -0.9898214418809327], [0.035602495969302365, 0.07220244599168561, 0.12258095841627496, 0.047444258543253334, 0.03793574100902086, 0.007118387632417144, 3.156291436111317e-5, 7.866410427528702e-9, 7.118429007715401e-13, 2.373467728832574e-16  …  0.029706039055192035, 0.0395079019070517, 0.03095820771666844, 0.013168606453964832, -0.00025779265657878067, -0.10877138205058838, -0.28600042524435726, -0.10520863733709486, -0.01904363640890293, -0.005627788850334865])"
      ]
     },
     "metadata": {},
     "output_type": "display_data"
    }
   ],
   "source": [
    "pol_cheb"
   ]
  },
  {
   "cell_type": "code",
   "execution_count": 16,
   "metadata": {},
   "outputs": [
    {
     "name": "stderr",
     "output_type": "stream",
     "text": [
      "2024-12-02 17:36:55.221 julia[93143:993854] +[IMKClient subclass]: chose IMKClient_Modern\n",
      "2024-12-02 17:36:55.221 julia[93143:993854] +[IMKInputSession subclass]: chose IMKInputSession_Modern\n"
     ]
    },
    {
     "data": {
      "text/plain": [
       "GLMakie.Screen(...)"
      ]
     },
     "metadata": {},
     "output_type": "display_data"
    }
   ],
   "source": [
    "using GLMakie\n",
    "\n",
    "# Extract coordinates and function values\n",
    "coords = pol_cheb.scale_factor * pol_cheb.grid\n",
    "z_coords = pol_cheb.z\n",
    "\n",
    "if size(coords)[2] == 2  # Plot the 3D scatter plot if the dimensions are 2\n",
    "    fig = Figure(size=(800, 600))\n",
    "    ax = Axis3(fig[1, 1], title=\"Mixture of Gaussians Sample Points\", xlabel=\"X-axis\", ylabel=\"Y-axis\", zlabel=\"Z-axis\")\n",
    "\n",
    "    # Plot the sampled data with a darker core\n",
    "    scatter!(ax, coords[:, 1], coords[:, 2], z_coords, markersize=2, color=:black, label=\"Sampled Data Core\")\n",
    "\n",
    "    # Plot the sampled data with adjusted size and color to create a halo effect\n",
    "    scatter!(ax, coords[:, 1], coords[:, 2], z_coords, markersize=4, color=z_coords, colormap=:viridis, label=\"Sampled Data Halo\")\n",
    "\n",
    "    # Plot the exact approximant critical points with adjusted size\n",
    "    scatter!(ax, df_cheb.x, df_cheb.y, df_cheb.z, markersize=10, color=:orange, label=\"Chebyshev approximant critical points\")\n",
    "\n",
    "    scatter!(ax, df_lege.x, df_lege.y, df_lege.z, markersize=10, color=:yellow, label=\"Legendre approximant critical points\")\n",
    "\n",
    "    display(fig)\n",
    "end"
   ]
  },
  {
   "cell_type": "code",
   "execution_count": 11,
   "metadata": {},
   "outputs": [
    {
     "ename": "MethodError",
     "evalue": "MethodError: no method matching keys(::Base.Iterators.Zip{Tuple{Vector{Float64}, Vector{Float64}}})\nThe function `keys` exists, but no method is defined for this combination of argument types.\n\nClosest candidates are:\n  keys(!Matched::Base.TermInfo)\n   @ Base terminfo.jl:232\n  keys(!Matched::Pkg.Registry.RegistryInstance)\n   @ Pkg ~/.julia/juliaup/julia-1.11.1+0.x64.apple.darwin14/share/julia/stdlib/v1.11/Pkg/src/Registry/registry_instance.jl:449\n  keys(!Matched::Result)\n   @ HomotopyContinuation ~/.julia/packages/HomotopyContinuation/kuurJ/src/result.jl:116\n  ...\n",
     "output_type": "error",
     "traceback": [
      "MethodError: no method matching keys(::Base.Iterators.Zip{Tuple{Vector{Float64}, Vector{Float64}}})\n",
      "The function `keys` exists, but no method is defined for this combination of argument types.\n",
      "\n",
      "Closest candidates are:\n",
      "  keys(!Matched::Base.TermInfo)\n",
      "   @ Base terminfo.jl:232\n",
      "  keys(!Matched::Pkg.Registry.RegistryInstance)\n",
      "   @ Pkg ~/.julia/juliaup/julia-1.11.1+0.x64.apple.darwin14/share/julia/stdlib/v1.11/Pkg/src/Registry/registry_instance.jl:449\n",
      "  keys(!Matched::Result)\n",
      "   @ HomotopyContinuation ~/.julia/packages/HomotopyContinuation/kuurJ/src/result.jl:116\n",
      "  ...\n",
      "\n",
      "\n",
      "Stacktrace:\n",
      " [1] pairs(collection::Base.Iterators.Zip{Tuple{Vector{Float64}, Vector{Float64}}})\n",
      "   @ Base ./abstractdict.jl:174\n",
      " [2] findall(testf::var\"#20#22\"{Float64, Float64}, A::Base.Iterators.Zip{Tuple{Vector{Float64}, Vector{Float64}}})\n",
      "   @ Base ./array.jl:2631\n",
      " [3] (::var\"#19#21\")(::Tuple{Float64, Float64})\n",
      "   @ Main ./iterators.jl:0\n",
      " [4] iterate\n",
      "   @ ./generator.jl:48 [inlined]\n",
      " [5] collect(itr::Base.Generator{Base.Iterators.ProductIterator{Tuple{StepRangeLen{Float64, Base.TwicePrecision{Float64}, Base.TwicePrecision{Float64}, Int64}, StepRangeLen{Float64, Base.TwicePrecision{Float64}, Base.TwicePrecision{Float64}, Int64}}}, var\"#19#21\"})\n",
      "   @ Base ./array.jl:780\n",
      " [6] top-level scope\n",
      "   @ ~/Globtim.jl/Examples/GaussianMixtures/bivariate/jl_notebook_cell_df34fa98e69747e1a8f8a730347b8e2f_X13sZmlsZQ==.jl:15"
     ]
    }
   ],
   "source": [
    "# Extract coordinates and function values\n",
    "using Statistics: mean\n",
    "\n",
    "if size(coords)[2] == 2\n",
    "    fig = Figure(size=(800, 600))\n",
    "    ax = Axis3(fig[1, 1], title=\"Mixture of Gaussians Surface Plot\", xlabel=\"X-axis\", ylabel=\"Y-axis\", zlabel=\"Z-axis\")\n",
    "\n",
    "    # Create a regular grid for surface interpolation\n",
    "    x_unique = unique(coords[:, 1])\n",
    "    y_unique = unique(coords[:, 2])\n",
    "    x_grid = range(minimum(x_unique), maximum(x_unique), length=100)\n",
    "    y_grid = range(minimum(y_unique), maximum(y_unique), length=100)\n",
    "\n",
    "    # Interpolate scattered data to regular grid\n",
    "    z_surface = [mean(z_coords[findall(x -> isapprox(x[1], xi) && isapprox(x[2], yi),\n",
    "        zip(coords[:, 1], coords[:, 2]))]) for xi in x_grid, yi in y_grid]\n",
    "\n",
    "    # Plot surface\n",
    "    surface!(ax, x_grid, y_grid, z_surface, colormap=:viridis, transparency=true)\n",
    "\n",
    "    # Add original scatter points\n",
    "    scatter!(ax, coords[:, 1], coords[:, 2], z_coords, markersize=2, color=:black)\n",
    "\n",
    "    # Add critical points\n",
    "    scatter!(ax, df.x, df.y, df.z, markersize=10, color=:red)\n",
    "\n",
    "    display(fig)\n",
    "end"
   ]
  },
  {
   "cell_type": "code",
   "execution_count": 29,
   "metadata": {},
   "outputs": [],
   "source": [
    "# savefig(plt, \"../data/figures/random_gaussian_function_plot.html\")"
   ]
  },
  {
   "cell_type": "markdown",
   "metadata": {},
   "source": [
    "Should plot the polynomial approximant too."
   ]
  }
 ],
 "metadata": {
  "kernelspec": {
   "display_name": "Julia 1.11.1",
   "language": "julia",
   "name": "julia-1.11"
  },
  "language_info": {
   "file_extension": ".jl",
   "mimetype": "application/julia",
   "name": "julia",
   "version": "1.11.1"
  }
 },
 "nbformat": 4,
 "nbformat_minor": 2
}
