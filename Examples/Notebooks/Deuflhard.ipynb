{
 "cells": [
  {
   "cell_type": "markdown",
   "metadata": {},
   "source": [
    "## Deuflhard Function"
   ]
  },
  {
   "cell_type": "code",
   "execution_count": 1,
   "metadata": {},
   "outputs": [
    {
     "name": "stderr",
     "output_type": "stream",
     "text": [
      "\u001b[32m\u001b[1m  Activating\u001b[22m\u001b[39m project at `~/globtim`\n"
     ]
    }
   ],
   "source": [
    "using Pkg\n",
    "Pkg.activate(\"../../.\")\n",
    "using Globtim\n",
    "using DynamicPolynomials, DataFrames\n",
    "using ProgressLogging"
   ]
  },
  {
   "cell_type": "code",
   "execution_count": 2,
   "metadata": {},
   "outputs": [
    {
     "data": {
      "text/plain": [
       "Deuflhard (generic function with 1 method)"
      ]
     },
     "metadata": {},
     "output_type": "display_data"
    }
   ],
   "source": [
    "# Constants and Parameters\n",
    "const n, a, b = 2, 11, 10\n",
    "const scale_factor = a / b   # Scaling factor appears in `main_computation`, maybe it should be a parameter.\n",
    "const delta, alpha = 0.5, 1 / 10  # Sampling parameters\n",
    "const tol_l2 = 3e-4            # Define the tolerance for the L2-norm\n",
    "f = Deuflhard # Objective function"
   ]
  },
  {
   "cell_type": "code",
   "execution_count": 9,
   "metadata": {},
   "outputs": [
    {
     "name": "stdout",
     "output_type": "stream",
     "text": [
      "current L2-norm: 0.8445207739921312\n",
      "current L2-norm: 0.7386292313191875\n"
     ]
    }
   ],
   "source": [
    "d = 8 # Initial Degree \n",
    "SMPL = 60 # Number of samples\n",
    "center = [0.0, 0.0]\n",
    "TR = test_input(f,\n",
    "    dim=n,\n",
    "    center=[0.0, 0.0],\n",
    "    GN=SMPL,\n",
    "    sample_range=scale_factor,\n",
    "    tolerance=tol_l2,\n",
    ")\n",
    "pol_cheb = Constructor(TR, d, basis=:chebyshev)\n",
    "pol_lege = Constructor(TR, d, basis=:legendre);"
   ]
  },
  {
   "cell_type": "code",
   "execution_count": 4,
   "metadata": {},
   "outputs": [],
   "source": [
    "@polyvar(x[1:n]); # Define polynomial ring "
   ]
  },
  {
   "cell_type": "code",
   "execution_count": 5,
   "metadata": {},
   "outputs": [
    {
     "name": "stdout",
     "output_type": "stream",
     "text": [
      "\u001b[32mTracking 49 paths...   4%|█▎                            |  ETA: 0:01:23\u001b[39m\u001b[K\n",
      "\n",
      "\n",
      "\n",
      "\u001b[32mTracking 49 paths... 100%|██████████████████████████████| Time: 0:00:03\u001b[39m\u001b[K\n",
      "\u001b[34m  # paths tracked:                  49\u001b[39m\u001b[K\n",
      "\u001b[34m  # non-singular solutions (real):  49 (9)\u001b[39m\u001b[K\n",
      "\u001b[34m  # singular endpoints (real):      0 (0)\u001b[39m\u001b[K\n",
      "\u001b[34m  # total solutions (real):         49 (9)\u001b[39m\u001b[K\n",
      "\u001b[32mTracking 49 paths...   4%|█▎                            |  ETA: 0:00:35\u001b[39m\u001b[K\n",
      "\n",
      "\n",
      "\n",
      "\u001b[32mTracking 49 paths...  63%|███████████████████           |  ETA: 0:00:01\u001b[39m\u001b[K\n",
      "\n",
      "\n",
      "\n",
      "\u001b[32mTracking 49 paths... 100%|██████████████████████████████| Time: 0:00:01\u001b[39m\u001b[K\n",
      "\u001b[34m  # paths tracked:                  49\u001b[39m\u001b[K\n",
      "\u001b[34m  # non-singular solutions (real):  49 (13)\u001b[39m\u001b[K\n",
      "\u001b[34m  # singular endpoints (real):      0 (0)\u001b[39m\u001b[K\n",
      "\u001b[34m  # total solutions (real):         49 (13)\u001b[39m\u001b[K\n",
      "\n",
      "=== Starting Critical Points Processing (dimension: 2) ===\n",
      "Processed 9 points (0.04s)\n",
      "\n",
      "=== Starting Critical Points Processing (dimension: 2) ===\n",
      "Processed 13 points (0.0s)\n"
     ]
    },
    {
     "data": {
      "text/html": [
       "<div><div style = \"float: left;\"><span>13×3 DataFrame</span></div><div style = \"clear: both;\"></div></div><div class = \"data-frame\" style = \"overflow-x: scroll;\"><table class = \"data-frame\" style = \"margin-bottom: 6px;\"><thead><tr class = \"header\"><th class = \"rowNumber\" style = \"font-weight: bold; text-align: right;\">Row</th><th style = \"text-align: left;\">x1</th><th style = \"text-align: left;\">x2</th><th style = \"text-align: left;\">z</th></tr><tr class = \"subheader headerLastRow\"><th class = \"rowNumber\" style = \"font-weight: bold; text-align: right;\"></th><th title = \"Float64\" style = \"text-align: left;\">Float64</th><th title = \"Float64\" style = \"text-align: left;\">Float64</th><th title = \"Float64\" style = \"text-align: left;\">Float64</th></tr></thead><tbody><tr><td class = \"rowNumber\" style = \"font-weight: bold; text-align: right;\">1</td><td style = \"text-align: right;\">-0.655946</td><td style = \"text-align: right;\">0.865381</td><td style = \"text-align: right;\">0.206448</td></tr><tr><td class = \"rowNumber\" style = \"font-weight: bold; text-align: right;\">2</td><td style = \"text-align: right;\">-0.375961</td><td style = \"text-align: right;\">0.98458</td><td style = \"text-align: right;\">0.130242</td></tr><tr><td class = \"rowNumber\" style = \"font-weight: bold; text-align: right;\">3</td><td style = \"text-align: right;\">-0.865381</td><td style = \"text-align: right;\">0.655946</td><td style = \"text-align: right;\">0.206448</td></tr><tr><td class = \"rowNumber\" style = \"font-weight: bold; text-align: right;\">4</td><td style = \"text-align: right;\">0.865381</td><td style = \"text-align: right;\">-0.655946</td><td style = \"text-align: right;\">0.206448</td></tr><tr><td class = \"rowNumber\" style = \"font-weight: bold; text-align: right;\">5</td><td style = \"text-align: right;\">1.81184e-16</td><td style = \"text-align: right;\">2.92109e-16</td><td style = \"text-align: right;\">4.0</td></tr><tr><td class = \"rowNumber\" style = \"font-weight: bold; text-align: right;\">6</td><td style = \"text-align: right;\">0.655946</td><td style = \"text-align: right;\">-0.865381</td><td style = \"text-align: right;\">0.206448</td></tr><tr><td class = \"rowNumber\" style = \"font-weight: bold; text-align: right;\">7</td><td style = \"text-align: right;\">0.375961</td><td style = \"text-align: right;\">-0.98458</td><td style = \"text-align: right;\">0.130242</td></tr><tr><td class = \"rowNumber\" style = \"font-weight: bold; text-align: right;\">8</td><td style = \"text-align: right;\">0.98458</td><td style = \"text-align: right;\">-0.375961</td><td style = \"text-align: right;\">0.130242</td></tr><tr><td class = \"rowNumber\" style = \"font-weight: bold; text-align: right;\">9</td><td style = \"text-align: right;\">-0.98458</td><td style = \"text-align: right;\">0.375961</td><td style = \"text-align: right;\">0.130242</td></tr><tr><td class = \"rowNumber\" style = \"font-weight: bold; text-align: right;\">10</td><td style = \"text-align: right;\">0.772423</td><td style = \"text-align: right;\">-0.772423</td><td style = \"text-align: right;\">0.0887214</td></tr><tr><td class = \"rowNumber\" style = \"font-weight: bold; text-align: right;\">11</td><td style = \"text-align: right;\">-0.394318</td><td style = \"text-align: right;\">-0.394318</td><td style = \"text-align: right;\">2.68186</td></tr><tr><td class = \"rowNumber\" style = \"font-weight: bold; text-align: right;\">12</td><td style = \"text-align: right;\">-0.772423</td><td style = \"text-align: right;\">0.772423</td><td style = \"text-align: right;\">0.0887214</td></tr><tr><td class = \"rowNumber\" style = \"font-weight: bold; text-align: right;\">13</td><td style = \"text-align: right;\">0.394318</td><td style = \"text-align: right;\">0.394318</td><td style = \"text-align: right;\">2.68186</td></tr></tbody></table></div>"
      ],
      "text/latex": [
       "\\begin{tabular}{r|ccc}\n",
       "\t& x1 & x2 & z\\\\\n",
       "\t\\hline\n",
       "\t& Float64 & Float64 & Float64\\\\\n",
       "\t\\hline\n",
       "\t1 & -0.655946 & 0.865381 & 0.206448 \\\\\n",
       "\t2 & -0.375961 & 0.98458 & 0.130242 \\\\\n",
       "\t3 & -0.865381 & 0.655946 & 0.206448 \\\\\n",
       "\t4 & 0.865381 & -0.655946 & 0.206448 \\\\\n",
       "\t5 & 1.81184e-16 & 2.92109e-16 & 4.0 \\\\\n",
       "\t6 & 0.655946 & -0.865381 & 0.206448 \\\\\n",
       "\t7 & 0.375961 & -0.98458 & 0.130242 \\\\\n",
       "\t8 & 0.98458 & -0.375961 & 0.130242 \\\\\n",
       "\t9 & -0.98458 & 0.375961 & 0.130242 \\\\\n",
       "\t10 & 0.772423 & -0.772423 & 0.0887214 \\\\\n",
       "\t11 & -0.394318 & -0.394318 & 2.68186 \\\\\n",
       "\t12 & -0.772423 & 0.772423 & 0.0887214 \\\\\n",
       "\t13 & 0.394318 & 0.394318 & 2.68186 \\\\\n",
       "\\end{tabular}\n"
      ],
      "text/plain": [
       "\u001b[1m13×3 DataFrame\u001b[0m\n",
       "\u001b[1m Row \u001b[0m│\u001b[1m x1           \u001b[0m\u001b[1m x2           \u001b[0m\u001b[1m z         \u001b[0m\n",
       "     │\u001b[90m Float64      \u001b[0m\u001b[90m Float64      \u001b[0m\u001b[90m Float64   \u001b[0m\n",
       "─────┼───────────────────────────────────────\n",
       "   1 │ -0.655946      0.865381     0.206448\n",
       "   2 │ -0.375961      0.98458      0.130242\n",
       "   3 │ -0.865381      0.655946     0.206448\n",
       "   4 │  0.865381     -0.655946     0.206448\n",
       "   5 │  1.81184e-16   2.92109e-16  4.0\n",
       "   6 │  0.655946     -0.865381     0.206448\n",
       "   7 │  0.375961     -0.98458      0.130242\n",
       "   8 │  0.98458      -0.375961     0.130242\n",
       "   9 │ -0.98458       0.375961     0.130242\n",
       "  10 │  0.772423     -0.772423     0.0887214\n",
       "  11 │ -0.394318     -0.394318     2.68186\n",
       "  12 │ -0.772423      0.772423     0.0887214\n",
       "  13 │  0.394318      0.394318     2.68186"
      ]
     },
     "metadata": {},
     "output_type": "display_data"
    }
   ],
   "source": [
    "real_pts_cheb = solve_polynomial_system(x, TR.dim, pol_cheb.degree, pol_cheb.coeffs; basis=:chebyshev, bigint=true)\n",
    "real_pts_lege = solve_polynomial_system(x, TR.dim, pol_lege.degree, pol_lege.coeffs; basis=:legendre, bigint=true)\n",
    "df_cheb = process_critical_points(real_pts_cheb, f, TR)\n",
    "df_lege = process_critical_points(real_pts_lege, f, TR)"
   ]
  },
  {
   "cell_type": "code",
   "execution_count": 8,
   "metadata": {},
   "outputs": [
    {
     "data": {
      "text/html": [
       "<div><div style = \"float: left;\"><span>9×3 DataFrame</span></div><div style = \"clear: both;\"></div></div><div class = \"data-frame\" style = \"overflow-x: scroll;\"><table class = \"data-frame\" style = \"margin-bottom: 6px;\"><thead><tr class = \"header\"><th class = \"rowNumber\" style = \"font-weight: bold; text-align: right;\">Row</th><th style = \"text-align: left;\">x1</th><th style = \"text-align: left;\">x2</th><th style = \"text-align: left;\">z</th></tr><tr class = \"subheader headerLastRow\"><th class = \"rowNumber\" style = \"font-weight: bold; text-align: right;\"></th><th title = \"Float64\" style = \"text-align: left;\">Float64</th><th title = \"Float64\" style = \"text-align: left;\">Float64</th><th title = \"Float64\" style = \"text-align: left;\">Float64</th></tr></thead><tbody><tr><td class = \"rowNumber\" style = \"font-weight: bold; text-align: right;\">1</td><td style = \"text-align: right;\">0.39892</td><td style = \"text-align: right;\">0.39892</td><td style = \"text-align: right;\">2.65526</td></tr><tr><td class = \"rowNumber\" style = \"font-weight: bold; text-align: right;\">2</td><td style = \"text-align: right;\">-0.780329</td><td style = \"text-align: right;\">0.780329</td><td style = \"text-align: right;\">0.144272</td></tr><tr><td class = \"rowNumber\" style = \"font-weight: bold; text-align: right;\">3</td><td style = \"text-align: right;\">-0.39892</td><td style = \"text-align: right;\">-0.39892</td><td style = \"text-align: right;\">2.65526</td></tr><tr><td class = \"rowNumber\" style = \"font-weight: bold; text-align: right;\">4</td><td style = \"text-align: right;\">-0.998837</td><td style = \"text-align: right;\">0.316356</td><td style = \"text-align: right;\">0.0424662</td></tr><tr><td class = \"rowNumber\" style = \"font-weight: bold; text-align: right;\">5</td><td style = \"text-align: right;\">-0.316356</td><td style = \"text-align: right;\">0.998837</td><td style = \"text-align: right;\">0.0424662</td></tr><tr><td class = \"rowNumber\" style = \"font-weight: bold; text-align: right;\">6</td><td style = \"text-align: right;\">0.316356</td><td style = \"text-align: right;\">-0.998837</td><td style = \"text-align: right;\">0.0424662</td></tr><tr><td class = \"rowNumber\" style = \"font-weight: bold; text-align: right;\">7</td><td style = \"text-align: right;\">0.998837</td><td style = \"text-align: right;\">-0.316356</td><td style = \"text-align: right;\">0.0424662</td></tr><tr><td class = \"rowNumber\" style = \"font-weight: bold; text-align: right;\">8</td><td style = \"text-align: right;\">0.780329</td><td style = \"text-align: right;\">-0.780329</td><td style = \"text-align: right;\">0.144272</td></tr><tr><td class = \"rowNumber\" style = \"font-weight: bold; text-align: right;\">9</td><td style = \"text-align: right;\">1.04917e-15</td><td style = \"text-align: right;\">-4.33605e-15</td><td style = \"text-align: right;\">4.0</td></tr></tbody></table></div>"
      ],
      "text/latex": [
       "\\begin{tabular}{r|ccc}\n",
       "\t& x1 & x2 & z\\\\\n",
       "\t\\hline\n",
       "\t& Float64 & Float64 & Float64\\\\\n",
       "\t\\hline\n",
       "\t1 & 0.39892 & 0.39892 & 2.65526 \\\\\n",
       "\t2 & -0.780329 & 0.780329 & 0.144272 \\\\\n",
       "\t3 & -0.39892 & -0.39892 & 2.65526 \\\\\n",
       "\t4 & -0.998837 & 0.316356 & 0.0424662 \\\\\n",
       "\t5 & -0.316356 & 0.998837 & 0.0424662 \\\\\n",
       "\t6 & 0.316356 & -0.998837 & 0.0424662 \\\\\n",
       "\t7 & 0.998837 & -0.316356 & 0.0424662 \\\\\n",
       "\t8 & 0.780329 & -0.780329 & 0.144272 \\\\\n",
       "\t9 & 1.04917e-15 & -4.33605e-15 & 4.0 \\\\\n",
       "\\end{tabular}\n"
      ],
      "text/plain": [
       "\u001b[1m9×3 DataFrame\u001b[0m\n",
       "\u001b[1m Row \u001b[0m│\u001b[1m x1           \u001b[0m\u001b[1m x2           \u001b[0m\u001b[1m z         \u001b[0m\n",
       "     │\u001b[90m Float64      \u001b[0m\u001b[90m Float64      \u001b[0m\u001b[90m Float64   \u001b[0m\n",
       "─────┼───────────────────────────────────────\n",
       "   1 │  0.39892       0.39892      2.65526\n",
       "   2 │ -0.780329      0.780329     0.144272\n",
       "   3 │ -0.39892      -0.39892      2.65526\n",
       "   4 │ -0.998837      0.316356     0.0424662\n",
       "   5 │ -0.316356      0.998837     0.0424662\n",
       "   6 │  0.316356     -0.998837     0.0424662\n",
       "   7 │  0.998837     -0.316356     0.0424662\n",
       "   8 │  0.780329     -0.780329     0.144272\n",
       "   9 │  1.04917e-15  -4.33605e-15  4.0"
      ]
     },
     "metadata": {},
     "output_type": "display_data"
    }
   ],
   "source": [
    "process_critical_points(real_pts_cheb, f, scale_factor)"
   ]
  },
  {
   "cell_type": "code",
   "execution_count": 6,
   "metadata": {},
   "outputs": [
    {
     "name": "stdout",
     "output_type": "stream",
     "text": [
      "Processing point 1 of 9\n",
      "Optimization has converged: \u001b[32m✓\u001b[0m\n",
      "Processing point 2 of 9\n",
      "Optimization has converged: \u001b[32m✓\u001b[0m\n",
      "Processing point 3 of 9\n",
      "Optimization has converged: \u001b[32m✓\u001b[0m\n",
      "Processing point 4 of 9\n",
      "Optimization has converged: \u001b[32m✓\u001b[0m\n",
      "Processing point 5 of 9\n",
      "Optimization has converged: \u001b[32m✓\u001b[0m\n",
      "Processing point 6 of 9\n",
      "Optimization has converged: \u001b[32m✓\u001b[0m\n",
      "Processing point 7 of 9\n",
      "Optimization has converged: \u001b[32m✓\u001b[0m\n",
      "Processing point 8 of 9\n",
      "Optimization has converged: \u001b[32m✓\u001b[0m\n",
      "Processing point 9 of 9\n",
      "Optimization has converged: \u001b[32m✓\u001b[0m\n",
      "Processing point 1 of 13\n",
      "Optimization has converged: \u001b[32m✓\u001b[0m\n",
      "Processing point 2 of 13\n",
      "Optimization has converged: \u001b[32m✓\u001b[0m\n",
      "Processing point 3 of 13\n",
      "Optimization has converged: \u001b[32m✓\u001b[0m\n",
      "Processing point 4 of 13\n",
      "Optimization has converged: \u001b[32m✓\u001b[0m\n",
      "Processing point 5 of 13\n",
      "Optimization has converged: \u001b[32m✓\u001b[0m\n",
      "Processing point 6 of 13\n",
      "Optimization has converged: \u001b[32m✓\u001b[0m\n",
      "Processing point 7 of 13\n",
      "Optimization has converged: \u001b[32m✓\u001b[0m\n",
      "Processing point 8 of 13\n",
      "Optimization has converged: \u001b[32m✓\u001b[0m\n",
      "Processing point 9 of 13\n",
      "Optimization has converged: \u001b[32m✓\u001b[0m\n",
      "Processing point 10 of 13\n",
      "Optimization has converged: \u001b[32m✓\u001b[0m\n",
      "Processing point 11 of 13\n",
      "Optimization has converged: \u001b[32m✓\u001b[0m\n",
      "Processing point 12 of 13\n",
      "Optimization has converged: \u001b[32m✓\u001b[0m\n",
      "Processing point 13 of 13\n",
      "Optimization has converged: \u001b[32m✓\u001b[0m\n"
     ]
    },
    {
     "data": {
      "text/plain": [
       "(\u001b[1m13×8 DataFrame\u001b[0m\n",
       "\u001b[1m Row \u001b[0m│\u001b[1m x1           \u001b[0m\u001b[1m x2           \u001b[0m\u001b[1m z         \u001b[0m\u001b[1m y1           \u001b[0m\u001b[1m y2           \u001b[0m\u001b[1m clos\u001b[0m ⋯\n",
       "     │\u001b[90m Float64      \u001b[0m\u001b[90m Float64      \u001b[0m\u001b[90m Float64   \u001b[0m\u001b[90m Float64      \u001b[0m\u001b[90m Float64      \u001b[0m\u001b[90m Bool\u001b[0m ⋯\n",
       "─────┼──────────────────────────────────────────────────────────────────────────\n",
       "   1 │ -0.655946      0.865381     0.206448   -0.741152      0.741152     fals ⋯\n",
       "   2 │ -0.375961      0.98458      0.130242   -0.256625      1.01625      fals\n",
       "   3 │ -0.865381      0.655946     0.206448   -0.741152      0.741152     fals\n",
       "   4 │  0.865381     -0.655946     0.206448    0.741152     -0.741152     fals\n",
       "   5 │  1.81184e-16   2.92109e-16  4.0         1.81184e-16   2.92109e-16   tru ⋯\n",
       "   6 │  0.655946     -0.865381     0.206448    0.741152     -0.741152     fals\n",
       "   7 │  0.375961     -0.98458      0.130242    0.256625     -1.01625      fals\n",
       "   8 │  0.98458      -0.375961     0.130242    1.01625      -0.256625     fals\n",
       "   9 │ -0.98458       0.375961     0.130242   -1.01625       0.256625     fals ⋯\n",
       "  10 │  0.772423     -0.772423     0.0887214   0.741152     -0.741152      tru\n",
       "  11 │ -0.394318     -0.394318     2.68186    -0.459896     -0.459896     fals\n",
       "  12 │ -0.772423      0.772423     0.0887214  -0.741152      0.741152      tru\n",
       "  13 │  0.394318      0.394318     2.68186     0.459896      0.459896     fals ⋯\n",
       "\u001b[36m                                                               3 columns omitted\u001b[0m, \u001b[1m9×4 DataFrame\u001b[0m\n",
       "\u001b[1m Row \u001b[0m│\u001b[1m x2           \u001b[0m\u001b[1m x1           \u001b[0m\u001b[1m value       \u001b[0m\u001b[1m captured \u001b[0m\n",
       "     │\u001b[90m Float64      \u001b[0m\u001b[90m Float64      \u001b[0m\u001b[90m Float64     \u001b[0m\u001b[90m Bool     \u001b[0m\n",
       "─────┼───────────────────────────────────────────────────\n",
       "   1 │  0.741152     -0.741152     6.23533e-20      true\n",
       "   2 │  1.01625      -0.256625     1.40998e-19     false\n",
       "   3 │ -0.741152      0.741152     6.23446e-20      true\n",
       "   4 │  2.92109e-16   1.81184e-16  4.0              true\n",
       "   5 │ -1.01625       0.256625     1.41003e-19     false\n",
       "   6 │ -0.256625      1.01625      1.40979e-19     false\n",
       "   7 │  0.256625     -1.01625      6.84569e-19     false\n",
       "   8 │ -0.459896     -0.459896     2.47007         false\n",
       "   9 │  0.459896      0.459896     2.47007         false)"
      ]
     },
     "metadata": {},
     "output_type": "display_data"
    }
   ],
   "source": [
    "using Optim\n",
    "df_cheb, df_min_cheb = analyze_critical_points(f, df_cheb, TR, tol_dist=0.05)\n",
    "df_lege, df_min_lege = analyze_critical_points(f, df_lege, TR, tol_dist=0.05)"
   ]
  },
  {
   "cell_type": "code",
   "execution_count": 7,
   "metadata": {},
   "outputs": [],
   "source": [
    "using GLMakie"
   ]
  },
  {
   "cell_type": "code",
   "execution_count": 8,
   "metadata": {},
   "outputs": [],
   "source": [
    "plot_polyapprox_rotate(pol_cheb, TR, df_cheb, df_min_cheb)"
   ]
  },
  {
   "cell_type": "code",
   "execution_count": 10,
   "metadata": {},
   "outputs": [],
   "source": [
    "# GLMakie.closeall()"
   ]
  }
 ],
 "metadata": {
  "kernelspec": {
   "display_name": "Julia 1.11.2",
   "language": "julia",
   "name": "julia-1.11"
  },
  "language_info": {
   "file_extension": ".jl",
   "mimetype": "application/julia",
   "name": "julia",
   "version": "1.11.2"
  }
 },
 "nbformat": 4,
 "nbformat_minor": 2
}
