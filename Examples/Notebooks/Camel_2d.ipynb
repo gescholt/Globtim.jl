{
 "cells": [
  {
   "cell_type": "markdown",
   "metadata": {},
   "source": [
    "Camel 3 Function \n",
    "=====================\n"
   ]
  },
  {
   "cell_type": "code",
   "execution_count": 1,
   "metadata": {},
   "outputs": [
    {
     "name": "stderr",
     "output_type": "stream",
     "text": [
      "\u001b[32m\u001b[1m  Activating\u001b[22m\u001b[39m project at `~/Globtim.jl`\n"
     ]
    }
   ],
   "source": [
    "using Pkg\n",
    "Pkg.activate(\"../../.\")\n",
    "using Globtim\n",
    "using DynamicPolynomials, DataFrames\n",
    "using ProgressLogging"
   ]
  },
  {
   "cell_type": "code",
   "execution_count": 2,
   "metadata": {},
   "outputs": [
    {
     "data": {
      "text/plain": [
       "camel (generic function with 1 method)"
      ]
     },
     "metadata": {},
     "output_type": "display_data"
    }
   ],
   "source": [
    "# Constants and Parameters\n",
    "const n, a, b = 2, 5, 1\n",
    "const scale_factor = a / b   # Scaling factor appears in `main_computation`, maybe it should be a parameter.\n",
    "const delta, alpha = 0.9,  8 / 10  # Sampling parameters\n",
    "const tol_l2 = 3e-4            # Define the tolerance for the L2-norm\n",
    "f = camel # Objective function"
   ]
  },
  {
   "cell_type": "code",
   "execution_count": 4,
   "metadata": {},
   "outputs": [
    {
     "name": "stdout",
     "output_type": "stream",
     "text": [
      "Number of samples: 200\n",
      "current L2-norm: 1.031204244177694e-14\n",
      "current L2-norm: 2.742840669319388e-12\n"
     ]
    }
   ],
   "source": [
    "d = 6 # Initial Degree \n",
    "# SMPL = calculate_samples(binomial(n + d, d), delta, alpha)#Number of samples is too LinearAlgebra\n",
    "SMPL = 200\n",
    "println(\"Number of samples: \", SMPL)\n",
    "TR = test_input(f, \n",
    "                dim = n,\n",
    "                center = [0.0, 0.0],\n",
    "                GN = SMPL, \n",
    "                sample_range = scale_factor, \n",
    "                degree_max = d+4\n",
    "                )\n",
    "pol_cheb = Constructor(TR, d, basis=:chebyshev)\n",
    "pol_lege = Constructor(TR, d, basis=:legendre);"
   ]
  },
  {
   "cell_type": "code",
   "execution_count": 5,
   "metadata": {},
   "outputs": [
    {
     "data": {
      "text/plain": [
       "(Variable{DynamicPolynomials.Commutative{DynamicPolynomials.CreationOrder}, Graded{LexOrder}}[x₁, x₂],)"
      ]
     },
     "metadata": {},
     "output_type": "display_data"
    }
   ],
   "source": [
    "@polyvar(x[1:n]) # Define polynomial ring "
   ]
  },
  {
   "cell_type": "code",
   "execution_count": 6,
   "metadata": {},
   "outputs": [
    {
     "name": "stdout",
     "output_type": "stream",
     "text": [
      "\u001b[32mTracking 25 paths...   8%|██▍                           |  ETA: 0:02:18\u001b[39m\u001b[K\n",
      "\n",
      "\n",
      "\n",
      "\u001b[32mTracking 25 paths... 100%|██████████████████████████████| Time: 0:00:12\u001b[39m\u001b[K\n",
      "\u001b[34m  # paths tracked:                  25\u001b[39m\u001b[K\n",
      "\u001b[34m  # non-singular solutions (real):  25 (17)\u001b[39m\u001b[K\n",
      "\u001b[34m  # singular endpoints (real):      0 (0)\u001b[39m\u001b[K\n",
      "\u001b[34m  # total solutions (real):         25 (17)\u001b[39m\u001b[K\n",
      "\u001b[32mTracking 25 paths...   8%|██▍                           |  ETA: 0:00:49\u001b[39m\u001b[K\n",
      "\n",
      "\n",
      "\n",
      "\u001b[32mTracking 25 paths...  48%|██████████████▍               |  ETA: 0:00:05\u001b[39m\u001b[K\n",
      "\n",
      "\n",
      "\n",
      "\u001b[32mTracking 25 paths... 100%|██████████████████████████████| Time: 0:00:04\u001b[39m\u001b[K\n",
      "\u001b[34m  # paths tracked:                  25\u001b[39m\u001b[K\n",
      "\u001b[34m  # non-singular solutions (real):  25 (17)\u001b[39m\u001b[K\n",
      "\u001b[34m  # singular endpoints (real):      0 (0)\u001b[39m\u001b[K\n",
      "\u001b[34m  # total solutions (real):         25 (17)\u001b[39m\u001b[K\n"
     ]
    },
    {
     "data": {
      "text/html": [
       "<div><div style = \"float: left;\"><span>15×3 DataFrame</span></div><div style = \"clear: both;\"></div></div><div class = \"data-frame\" style = \"overflow-x: scroll;\"><table class = \"data-frame\" style = \"margin-bottom: 6px;\"><thead><tr class = \"header\"><th class = \"rowNumber\" style = \"font-weight: bold; text-align: right;\">Row</th><th style = \"text-align: left;\">x1</th><th style = \"text-align: left;\">x2</th><th style = \"text-align: left;\">z</th></tr><tr class = \"subheader headerLastRow\"><th class = \"rowNumber\" style = \"font-weight: bold; text-align: right;\"></th><th title = \"Float64\" style = \"text-align: left;\">Float64</th><th title = \"Float64\" style = \"text-align: left;\">Float64</th><th title = \"Float64\" style = \"text-align: left;\">Float64</th></tr></thead><tbody><tr><td class = \"rowNumber\" style = \"font-weight: bold; text-align: right;\">1</td><td style = \"text-align: right;\">1.63807</td><td style = \"text-align: right;\">0.228674</td><td style = \"text-align: right;\">2.22936</td></tr><tr><td class = \"rowNumber\" style = \"font-weight: bold; text-align: right;\">2</td><td style = \"text-align: right;\">1.23023</td><td style = \"text-align: right;\">0.162335</td><td style = \"text-align: right;\">2.4963</td></tr><tr><td class = \"rowNumber\" style = \"font-weight: bold; text-align: right;\">3</td><td style = \"text-align: right;\">-1.23023</td><td style = \"text-align: right;\">-0.162335</td><td style = \"text-align: right;\">2.4963</td></tr><tr><td class = \"rowNumber\" style = \"font-weight: bold; text-align: right;\">4</td><td style = \"text-align: right;\">-1.63807</td><td style = \"text-align: right;\">-0.228674</td><td style = \"text-align: right;\">2.22936</td></tr><tr><td class = \"rowNumber\" style = \"font-weight: bold; text-align: right;\">5</td><td style = \"text-align: right;\">1.14663e-14</td><td style = \"text-align: right;\">-5.09178e-14</td><td style = \"text-align: right;\">-1.04284e-26</td></tr><tr><td class = \"rowNumber\" style = \"font-weight: bold; text-align: right;\">6</td><td style = \"text-align: right;\">1.70361</td><td style = \"text-align: right;\">-0.796084</td><td style = \"text-align: right;\">-0.215464</td></tr><tr><td class = \"rowNumber\" style = \"font-weight: bold; text-align: right;\">7</td><td style = \"text-align: right;\">1.10921</td><td style = \"text-align: right;\">-0.768268</td><td style = \"text-align: right;\">0.543719</td></tr><tr><td class = \"rowNumber\" style = \"font-weight: bold; text-align: right;\">8</td><td style = \"text-align: right;\">-1.29607</td><td style = \"text-align: right;\">-0.605084</td><td style = \"text-align: right;\">2.22947</td></tr><tr><td class = \"rowNumber\" style = \"font-weight: bold; text-align: right;\">9</td><td style = \"text-align: right;\">-1.6071</td><td style = \"text-align: right;\">-0.568651</td><td style = \"text-align: right;\">2.10425</td></tr><tr><td class = \"rowNumber\" style = \"font-weight: bold; text-align: right;\">10</td><td style = \"text-align: right;\">0.089842</td><td style = \"text-align: right;\">-0.712656</td><td style = \"text-align: right;\">-1.03163</td></tr><tr><td class = \"rowNumber\" style = \"font-weight: bold; text-align: right;\">11</td><td style = \"text-align: right;\">1.6071</td><td style = \"text-align: right;\">0.568651</td><td style = \"text-align: right;\">2.10425</td></tr><tr><td class = \"rowNumber\" style = \"font-weight: bold; text-align: right;\">12</td><td style = \"text-align: right;\">1.29607</td><td style = \"text-align: right;\">0.605084</td><td style = \"text-align: right;\">2.22947</td></tr><tr><td class = \"rowNumber\" style = \"font-weight: bold; text-align: right;\">13</td><td style = \"text-align: right;\">-1.10921</td><td style = \"text-align: right;\">0.768268</td><td style = \"text-align: right;\">0.543719</td></tr><tr><td class = \"rowNumber\" style = \"font-weight: bold; text-align: right;\">14</td><td style = \"text-align: right;\">-1.70361</td><td style = \"text-align: right;\">0.796084</td><td style = \"text-align: right;\">-0.215464</td></tr><tr><td class = \"rowNumber\" style = \"font-weight: bold; text-align: right;\">15</td><td style = \"text-align: right;\">-0.089842</td><td style = \"text-align: right;\">0.712656</td><td style = \"text-align: right;\">-1.03163</td></tr></tbody></table></div>"
      ],
      "text/latex": [
       "\\begin{tabular}{r|ccc}\n",
       "\t& x1 & x2 & z\\\\\n",
       "\t\\hline\n",
       "\t& Float64 & Float64 & Float64\\\\\n",
       "\t\\hline\n",
       "\t1 & 1.63807 & 0.228674 & 2.22936 \\\\\n",
       "\t2 & 1.23023 & 0.162335 & 2.4963 \\\\\n",
       "\t3 & -1.23023 & -0.162335 & 2.4963 \\\\\n",
       "\t4 & -1.63807 & -0.228674 & 2.22936 \\\\\n",
       "\t5 & 1.14663e-14 & -5.09178e-14 & -1.04284e-26 \\\\\n",
       "\t6 & 1.70361 & -0.796084 & -0.215464 \\\\\n",
       "\t7 & 1.10921 & -0.768268 & 0.543719 \\\\\n",
       "\t8 & -1.29607 & -0.605084 & 2.22947 \\\\\n",
       "\t9 & -1.6071 & -0.568651 & 2.10425 \\\\\n",
       "\t10 & 0.089842 & -0.712656 & -1.03163 \\\\\n",
       "\t11 & 1.6071 & 0.568651 & 2.10425 \\\\\n",
       "\t12 & 1.29607 & 0.605084 & 2.22947 \\\\\n",
       "\t13 & -1.10921 & 0.768268 & 0.543719 \\\\\n",
       "\t14 & -1.70361 & 0.796084 & -0.215464 \\\\\n",
       "\t15 & -0.089842 & 0.712656 & -1.03163 \\\\\n",
       "\\end{tabular}\n"
      ],
      "text/plain": [
       "\u001b[1m15×3 DataFrame\u001b[0m\n",
       "\u001b[1m Row \u001b[0m│\u001b[1m x1           \u001b[0m\u001b[1m x2           \u001b[0m\u001b[1m z            \u001b[0m\n",
       "     │\u001b[90m Float64      \u001b[0m\u001b[90m Float64      \u001b[0m\u001b[90m Float64      \u001b[0m\n",
       "─────┼──────────────────────────────────────────\n",
       "   1 │  1.63807       0.228674      2.22936\n",
       "   2 │  1.23023       0.162335      2.4963\n",
       "   3 │ -1.23023      -0.162335      2.4963\n",
       "   4 │ -1.63807      -0.228674      2.22936\n",
       "   5 │  1.14663e-14  -5.09178e-14  -1.04284e-26\n",
       "   6 │  1.70361      -0.796084     -0.215464\n",
       "   7 │  1.10921      -0.768268      0.543719\n",
       "   8 │ -1.29607      -0.605084      2.22947\n",
       "   9 │ -1.6071       -0.568651      2.10425\n",
       "  10 │  0.089842     -0.712656     -1.03163\n",
       "  11 │  1.6071        0.568651      2.10425\n",
       "  12 │  1.29607       0.605084      2.22947\n",
       "  13 │ -1.10921       0.768268      0.543719\n",
       "  14 │ -1.70361       0.796084     -0.215464\n",
       "  15 │ -0.089842      0.712656     -1.03163"
      ]
     },
     "metadata": {},
     "output_type": "display_data"
    }
   ],
   "source": [
    "real_pts_cheb = solve_polynomial_system(x, n, d, pol_cheb.coeffs; basis=:chebyshev, bigint=true)\n",
    "real_pts_lege = solve_polynomial_system(x, n, d, pol_lege.coeffs; basis=:legendre, bigint=true)\n",
    "\n",
    "# Usage example:\n",
    "df_cheb = process_critical_points(real_pts_cheb, f, scale_factor)\n",
    "df_lege = process_critical_points(real_pts_lege, f, scale_factor)"
   ]
  },
  {
   "cell_type": "code",
   "execution_count": 7,
   "metadata": {},
   "outputs": [
    {
     "data": {
      "text/plain": [
       "GLMakie.Screen(...)"
      ]
     },
     "metadata": {},
     "output_type": "display_data"
    }
   ],
   "source": [
    "using GLMakie\n",
    "\n",
    "# Extract coordinates and function values\n",
    "# Change the coordinates to uniform grid\n",
    "coords = pol_cheb.scale_factor * pol_lege.grid\n",
    "z_coords = pol_lege.z\n",
    "\n",
    "if size(coords)[2] == 2  # Plot if the dimensions are 2\n",
    "    fig = Figure(size=(800, 600))\n",
    "    ax = Axis3(fig[1, 1], title=\"Camel 2d\",\n",
    "        xlabel=\"X-axis\", ylabel=\"Y-axis\", zlabel=\"Z-axis\")\n",
    "\n",
    "    # Scale the domain\n",
    "    scale_factor = pol_cheb.scale_factor  # Using the scale factor from your polynomial\n",
    "\n",
    "    # Define threshold for switching between scatter and surface\n",
    "    point_threshold = 1000  # Adjust this value based on your needs\n",
    "    sample_fraction = 0.2   # Fraction of points to use if exceeding threshold\n",
    "\n",
    "    if length(z_coords) > point_threshold\n",
    "        # Create a regular grid for surface plotting\n",
    "        x_unique = sort(unique(coords[:, 1]))\n",
    "        y_unique = sort(unique(coords[:, 2]))\n",
    "\n",
    "        # Determine grid dimensions\n",
    "        nx = length(x_unique)\n",
    "        ny = length(y_unique)\n",
    "\n",
    "        # Reshape data into a grid\n",
    "        z_grid = reshape(z_coords, nx, ny)\n",
    "\n",
    "        # Create surface plot with scaled domain\n",
    "        surface!(ax, scale_factor .* x_unique, scale_factor .* y_unique, z_grid,\n",
    "            colormap=:viridis,\n",
    "            transparency=true,\n",
    "            alpha=0.8)\n",
    "\n",
    "        # Sample a fraction of points for scatter overlay\n",
    "        n_points = length(z_coords)\n",
    "        sample_indices = rand(1:n_points, Int(floor(n_points * sample_fraction)))\n",
    "\n",
    "        # Plot sampled scatter points with scaled domain\n",
    "        scatter!(ax, scale_factor .* coords[sample_indices, 1],\n",
    "            scale_factor .* coords[sample_indices, 2],\n",
    "            z_coords[sample_indices],\n",
    "            markersize=2,\n",
    "            color=:black,\n",
    "            label=\"Sampled Data Points\")\n",
    "    else\n",
    "        # Original scatter plot for smaller datasets with scaled domain\n",
    "        scatter!(ax, scale_factor .* coords[:, 1],\n",
    "            scale_factor .* coords[:, 2],\n",
    "            z_coords,\n",
    "            markersize=2,\n",
    "            color=:black,\n",
    "            label=\"Sampled Data Core\")\n",
    "\n",
    "        scatter!(ax, scale_factor .* coords[:, 1],\n",
    "            scale_factor .* coords[:, 2],\n",
    "            z_coords,\n",
    "            markersize=4,\n",
    "            color=z_coords,\n",
    "            colormap=:viridis,\n",
    "            label=\"Sampled Data Halo\")\n",
    "    end\n",
    "\n",
    "    # Plot the critical points with scaled domain\n",
    "    scatter!(ax, scale_factor .* df_cheb.x1,\n",
    "        scale_factor .* df_cheb.x2,\n",
    "        df_cheb.z,\n",
    "        markersize=10,\n",
    "        color=:orange,\n",
    "        label=\"Chebyshev approximant critical points\")\n",
    "\n",
    "    scatter!(ax, scale_factor .* df_lege.x1,\n",
    "        scale_factor .* df_lege.x2,\n",
    "        df_lege.z,\n",
    "        markersize=10,\n",
    "        color=:yellow,\n",
    "        label=\"Legendre approximant critical points\")\n",
    "\n",
    "    display(fig)\n",
    "end"
   ]
  },
  {
   "cell_type": "code",
   "execution_count": 8,
   "metadata": {},
   "outputs": [],
   "source": [
    "GLMakie.closeall()"
   ]
  }
 ],
 "metadata": {
  "kernelspec": {
   "display_name": "Julia 1.11.2",
   "language": "julia",
   "name": "julia-1.11"
  },
  "language_info": {
   "file_extension": ".jl",
   "mimetype": "application/julia",
   "name": "julia",
   "version": "1.11.2"
  }
 },
 "nbformat": 4,
 "nbformat_minor": 2
}
