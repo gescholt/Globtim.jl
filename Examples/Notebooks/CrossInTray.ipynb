{
 "cells": [
  {
   "cell_type": "markdown",
   "metadata": {},
   "source": [
    "## Cross in Tray "
   ]
  },
  {
   "cell_type": "code",
   "execution_count": 1,
   "metadata": {},
   "outputs": [
    {
     "name": "stderr",
     "output_type": "stream",
     "text": [
      "\u001b[32m\u001b[1m  Activating\u001b[22m\u001b[39m project at `~/globtim`\n"
     ]
    }
   ],
   "source": [
    "using Pkg\n",
    "Pkg.activate(\"../../.\")\n",
    "using Globtim\n",
    "using DynamicPolynomials, DataFrames\n",
    "using ProgressLogging"
   ]
  },
  {
   "cell_type": "code",
   "execution_count": 2,
   "metadata": {},
   "outputs": [
    {
     "data": {
      "text/plain": [
       "CrossInTray (generic function with 1 method)"
      ]
     },
     "metadata": {},
     "output_type": "display_data"
    }
   ],
   "source": [
    "# Constants and Parameters\n",
    "const n, a, b = 2, 10, 1\n",
    "const scale_factor = a / b   # Scaling factor appears in `main_computation`, maybe it should be a parameter.\n",
    "const delta, alpha = 0.5, 1 / 10  # Sampling parameters\n",
    "const tol_l2 = 5e-2            # Define the tolerance for the L2-norm\n",
    "f = CrossInTray # Objective function"
   ]
  },
  {
   "cell_type": "markdown",
   "metadata": {},
   "source": [
    "### Questions to fix:\n",
    " - [ ]: Why are we increasing the degree of the approximant and why are we using such a large number of points? The constructor only specifies a few. \n",
    " - [x]: Filter critical points."
   ]
  },
  {
   "cell_type": "code",
   "execution_count": 3,
   "metadata": {},
   "outputs": [
    {
     "name": "stdout",
     "output_type": "stream",
     "text": [
      "current L2-norm: 6.086325213629537\n",
      "current L2-norm: 8.98641303149505\n"
     ]
    }
   ],
   "source": [
    "d = 8 # Initial Degree \n",
    "SMPL = 10 # Number of samples\n",
    "center = [0.0, 0.0]\n",
    "TR = test_input(f,\n",
    "    dim=n,\n",
    "    center=[0.0, 0.0],\n",
    "    GN=SMPL,\n",
    "    sample_range=scale_factor, \n",
    "    tolerance=tol_l2,\n",
    ")\n",
    "pol_cheb = Constructor(TR, d, basis=:chebyshev)\n",
    "pol_lege = Constructor(TR, d, basis=:legendre);"
   ]
  },
  {
   "cell_type": "code",
   "execution_count": 4,
   "metadata": {},
   "outputs": [
    {
     "data": {
      "text/plain": [
       "(Variable{DynamicPolynomials.Commutative{DynamicPolynomials.CreationOrder}, Graded{LexOrder}}[x₁, x₂],)"
      ]
     },
     "metadata": {},
     "output_type": "display_data"
    }
   ],
   "source": [
    "@polyvar(x[1:n]) # Define polynomial ring "
   ]
  },
  {
   "cell_type": "code",
   "execution_count": 5,
   "metadata": {},
   "outputs": [
    {
     "name": "stdout",
     "output_type": "stream",
     "text": [
      "\u001b[32mTracking 49 paths...   4%|█▎                            |  ETA: 0:01:10\u001b[39m\u001b[K\n",
      "\n",
      "\n",
      "\n",
      "\u001b[32mTracking 49 paths... 100%|██████████████████████████████| Time: 0:00:03\u001b[39m\u001b[K\n",
      "\u001b[34m  # paths tracked:                  49\u001b[39m\u001b[K\n",
      "\u001b[34m  # non-singular solutions (real):  49 (49)\u001b[39m\u001b[K\n",
      "\u001b[34m  # singular endpoints (real):      0 (0)\u001b[39m\u001b[K\n",
      "\u001b[34m  # total solutions (real):         49 (49)\u001b[39m\u001b[K\n",
      "\u001b[32mTracking 49 paths...   4%|█▎                            |  ETA: 0:00:30\u001b[39m\u001b[K\n",
      "\n",
      "\n",
      "\n",
      "\u001b[32mTracking 49 paths...  47%|██████████████▏               |  ETA: 0:00:02\u001b[39m\u001b[K\n",
      "\n",
      "\n",
      "\n",
      "\u001b[32mTracking 49 paths... 100%|██████████████████████████████| Time: 0:00:01\u001b[39m\u001b[K\n",
      "\u001b[34m  # paths tracked:                  49\u001b[39m\u001b[K\n",
      "\u001b[34m  # non-singular solutions (real):  49 (49)\u001b[39m\u001b[K\n",
      "\u001b[34m  # singular endpoints (real):      0 (0)\u001b[39m\u001b[K\n",
      "\u001b[34m  # total solutions (real):         49 (49)\u001b[39m\u001b[K\n"
     ]
    },
    {
     "data": {
      "text/plain": [
       "49-element Vector{Vector{Float64}}:\n",
       " [0.9262920181887633, 0.9262920181887633]\n",
       " [0.6894554893184359, 0.9254010019393569]\n",
       " [-9.89628114247498e-18, 0.9269480323779509]\n",
       " [-0.6894554893184363, 0.9254010019393569]\n",
       " [-0.9262920181887637, 0.9262920181887632]\n",
       " [-0.40672481030371405, 0.9262111529364568]\n",
       " [0.40672481030371405, 0.9262111529364567]\n",
       " [0.9254010019393573, 0.6894554893184358]\n",
       " [0.688498628425798, 0.6884986284257977]\n",
       " [-2.0321558641462446e-17, 0.6912803233191668]\n",
       " ⋮\n",
       " [-0.40207252728011716, -0.402072527280117]\n",
       " [0.40207252728011716, -0.402072527280117]\n",
       " [0.926211152936457, 0.40672481030371427]\n",
       " [0.6894409038205237, 0.407769362336129]\n",
       " [-2.891067539909121e-17, 0.39615578635009774]\n",
       " [-0.6894409038205237, 0.407769362336129]\n",
       " [-0.926211152936457, 0.40672481030371416]\n",
       " [-0.4020725272801171, 0.4020725272801169]\n",
       " [0.4020725272801171, 0.4020725272801169]"
      ]
     },
     "metadata": {},
     "output_type": "display_data"
    }
   ],
   "source": [
    "real_pts_cheb = solve_polynomial_system(x, TR.dim, pol_cheb.degree, pol_cheb.coeffs; basis=:chebyshev, bigint=true)\n",
    "real_pts_lege = solve_polynomial_system(x, TR.dim, pol_lege.degree, pol_lege.coeffs; basis=:legendre, bigint=true)"
   ]
  },
  {
   "cell_type": "code",
   "execution_count": 6,
   "metadata": {},
   "outputs": [
    {
     "name": "stdout",
     "output_type": "stream",
     "text": [
      "\n",
      "=== Starting Critical Points Processing (dimension: 2) ===\n",
      "Processed 49 points (0.035s)\n",
      "\n",
      "=== Starting Critical Points Processing (dimension: 2) ===\n",
      "Processed 49 points (0.0s)\n"
     ]
    },
    {
     "data": {
      "text/html": [
       "<div><div style = \"float: left;\"><span>49×3 DataFrame</span></div><div style = \"float: right;\"><span style = \"font-style: italic;\">24 rows omitted</span></div><div style = \"clear: both;\"></div></div><div class = \"data-frame\" style = \"overflow-x: scroll;\"><table class = \"data-frame\" style = \"margin-bottom: 6px;\"><thead><tr class = \"header\"><th class = \"rowNumber\" style = \"font-weight: bold; text-align: right;\">Row</th><th style = \"text-align: left;\">x1</th><th style = \"text-align: left;\">x2</th><th style = \"text-align: left;\">z</th></tr><tr class = \"subheader headerLastRow\"><th class = \"rowNumber\" style = \"font-weight: bold; text-align: right;\"></th><th title = \"Float64\" style = \"text-align: left;\">Float64</th><th title = \"Float64\" style = \"text-align: left;\">Float64</th><th title = \"Float64\" style = \"text-align: left;\">Float64</th></tr></thead><tbody><tr><td class = \"rowNumber\" style = \"font-weight: bold; text-align: right;\">1</td><td style = \"text-align: right;\">9.26292</td><td style = \"text-align: right;\">9.26292</td><td style = \"text-align: right;\">-10.0763</td></tr><tr><td class = \"rowNumber\" style = \"font-weight: bold; text-align: right;\">2</td><td style = \"text-align: right;\">6.89455</td><td style = \"text-align: right;\">9.25401</td><td style = \"text-align: right;\">-12.0875</td></tr><tr><td class = \"rowNumber\" style = \"font-weight: bold; text-align: right;\">3</td><td style = \"text-align: right;\">-9.89628e-17</td><td style = \"text-align: right;\">9.26948</td><td style = \"text-align: right;\">-0.341423</td></tr><tr><td class = \"rowNumber\" style = \"font-weight: bold; text-align: right;\">4</td><td style = \"text-align: right;\">-6.89455</td><td style = \"text-align: right;\">9.25401</td><td style = \"text-align: right;\">-12.0875</td></tr><tr><td class = \"rowNumber\" style = \"font-weight: bold; text-align: right;\">5</td><td style = \"text-align: right;\">-9.26292</td><td style = \"text-align: right;\">9.26292</td><td style = \"text-align: right;\">-10.0763</td></tr><tr><td class = \"rowNumber\" style = \"font-weight: bold; text-align: right;\">6</td><td style = \"text-align: right;\">-4.06725</td><td style = \"text-align: right;\">9.26211</td><td style = \"text-align: right;\">-13.0106</td></tr><tr><td class = \"rowNumber\" style = \"font-weight: bold; text-align: right;\">7</td><td style = \"text-align: right;\">4.06725</td><td style = \"text-align: right;\">9.26211</td><td style = \"text-align: right;\">-13.0106</td></tr><tr><td class = \"rowNumber\" style = \"font-weight: bold; text-align: right;\">8</td><td style = \"text-align: right;\">9.25401</td><td style = \"text-align: right;\">6.89455</td><td style = \"text-align: right;\">-12.0875</td></tr><tr><td class = \"rowNumber\" style = \"font-weight: bold; text-align: right;\">9</td><td style = \"text-align: right;\">6.88499</td><td style = \"text-align: right;\">6.88499</td><td style = \"text-align: right;\">-14.4187</td></tr><tr><td class = \"rowNumber\" style = \"font-weight: bold; text-align: right;\">10</td><td style = \"text-align: right;\">-2.03216e-16</td><td style = \"text-align: right;\">6.9128</td><td style = \"text-align: right;\">-0.45204</td></tr><tr><td class = \"rowNumber\" style = \"font-weight: bold; text-align: right;\">11</td><td style = \"text-align: right;\">-6.88499</td><td style = \"text-align: right;\">6.88499</td><td style = \"text-align: right;\">-14.4187</td></tr><tr><td class = \"rowNumber\" style = \"font-weight: bold; text-align: right;\">12</td><td style = \"text-align: right;\">-9.25401</td><td style = \"text-align: right;\">6.89455</td><td style = \"text-align: right;\">-12.0875</td></tr><tr><td class = \"rowNumber\" style = \"font-weight: bold; text-align: right;\">13</td><td style = \"text-align: right;\">-4.07769</td><td style = \"text-align: right;\">6.89441</td><td style = \"text-align: right;\">-15.8011</td></tr><tr><td style = \"text-align: right;\">&vellip;</td><td style = \"text-align: right;\">&vellip;</td><td style = \"text-align: right;\">&vellip;</td><td style = \"text-align: right;\">&vellip;</td></tr><tr><td class = \"rowNumber\" style = \"font-weight: bold; text-align: right;\">38</td><td style = \"text-align: right;\">9.1472e-17</td><td style = \"text-align: right;\">-3.96156</td><td style = \"text-align: right;\">-0.468498</td></tr><tr><td class = \"rowNumber\" style = \"font-weight: bold; text-align: right;\">39</td><td style = \"text-align: right;\">-6.89441</td><td style = \"text-align: right;\">-4.07769</td><td style = \"text-align: right;\">-15.8011</td></tr><tr><td class = \"rowNumber\" style = \"font-weight: bold; text-align: right;\">40</td><td style = \"text-align: right;\">-9.26211</td><td style = \"text-align: right;\">-4.06725</td><td style = \"text-align: right;\">-13.0106</td></tr><tr><td class = \"rowNumber\" style = \"font-weight: bold; text-align: right;\">41</td><td style = \"text-align: right;\">-4.02073</td><td style = \"text-align: right;\">-4.02073</td><td style = \"text-align: right;\">-17.4445</td></tr><tr><td class = \"rowNumber\" style = \"font-weight: bold; text-align: right;\">42</td><td style = \"text-align: right;\">4.02073</td><td style = \"text-align: right;\">-4.02073</td><td style = \"text-align: right;\">-17.4445</td></tr><tr><td class = \"rowNumber\" style = \"font-weight: bold; text-align: right;\">43</td><td style = \"text-align: right;\">9.26211</td><td style = \"text-align: right;\">4.06725</td><td style = \"text-align: right;\">-13.0106</td></tr><tr><td class = \"rowNumber\" style = \"font-weight: bold; text-align: right;\">44</td><td style = \"text-align: right;\">6.89441</td><td style = \"text-align: right;\">4.07769</td><td style = \"text-align: right;\">-15.8011</td></tr><tr><td class = \"rowNumber\" style = \"font-weight: bold; text-align: right;\">45</td><td style = \"text-align: right;\">-2.89107e-16</td><td style = \"text-align: right;\">3.96156</td><td style = \"text-align: right;\">-0.525636</td></tr><tr><td class = \"rowNumber\" style = \"font-weight: bold; text-align: right;\">46</td><td style = \"text-align: right;\">-6.89441</td><td style = \"text-align: right;\">4.07769</td><td style = \"text-align: right;\">-15.8011</td></tr><tr><td class = \"rowNumber\" style = \"font-weight: bold; text-align: right;\">47</td><td style = \"text-align: right;\">-9.26211</td><td style = \"text-align: right;\">4.06725</td><td style = \"text-align: right;\">-13.0106</td></tr><tr><td class = \"rowNumber\" style = \"font-weight: bold; text-align: right;\">48</td><td style = \"text-align: right;\">-4.02073</td><td style = \"text-align: right;\">4.02073</td><td style = \"text-align: right;\">-17.4445</td></tr><tr><td class = \"rowNumber\" style = \"font-weight: bold; text-align: right;\">49</td><td style = \"text-align: right;\">4.02073</td><td style = \"text-align: right;\">4.02073</td><td style = \"text-align: right;\">-17.4445</td></tr></tbody></table></div>"
      ],
      "text/latex": [
       "\\begin{tabular}{r|ccc}\n",
       "\t& x1 & x2 & z\\\\\n",
       "\t\\hline\n",
       "\t& Float64 & Float64 & Float64\\\\\n",
       "\t\\hline\n",
       "\t1 & 9.26292 & 9.26292 & -10.0763 \\\\\n",
       "\t2 & 6.89455 & 9.25401 & -12.0875 \\\\\n",
       "\t3 & -9.89628e-17 & 9.26948 & -0.341423 \\\\\n",
       "\t4 & -6.89455 & 9.25401 & -12.0875 \\\\\n",
       "\t5 & -9.26292 & 9.26292 & -10.0763 \\\\\n",
       "\t6 & -4.06725 & 9.26211 & -13.0106 \\\\\n",
       "\t7 & 4.06725 & 9.26211 & -13.0106 \\\\\n",
       "\t8 & 9.25401 & 6.89455 & -12.0875 \\\\\n",
       "\t9 & 6.88499 & 6.88499 & -14.4187 \\\\\n",
       "\t10 & -2.03216e-16 & 6.9128 & -0.45204 \\\\\n",
       "\t11 & -6.88499 & 6.88499 & -14.4187 \\\\\n",
       "\t12 & -9.25401 & 6.89455 & -12.0875 \\\\\n",
       "\t13 & -4.07769 & 6.89441 & -15.8011 \\\\\n",
       "\t14 & 4.07769 & 6.89441 & -15.8011 \\\\\n",
       "\t15 & 9.26948 & -4.36138e-16 & -0.396011 \\\\\n",
       "\t16 & 6.9128 & -1.50257e-16 & -0.438596 \\\\\n",
       "\t17 & -1.31762e-16 & -6.57525e-16 & -0.0172471 \\\\\n",
       "\t18 & -6.9128 & -1.8928e-16 & -0.44884 \\\\\n",
       "\t19 & -9.26948 & -4.22737e-16 & -0.394777 \\\\\n",
       "\t20 & -3.96156 & -3.06661e-16 & -0.528743 \\\\\n",
       "\t21 & 3.96156 & -5.29718e-16 & -0.558449 \\\\\n",
       "\t22 & 9.25401 & -6.89455 & -12.0875 \\\\\n",
       "\t23 & 6.88499 & -6.88499 & -14.4187 \\\\\n",
       "\t24 & 2.05278e-16 & -6.9128 & -0.452497 \\\\\n",
       "\t$\\dots$ & $\\dots$ & $\\dots$ & $\\dots$ \\\\\n",
       "\\end{tabular}\n"
      ],
      "text/plain": [
       "\u001b[1m49×3 DataFrame\u001b[0m\n",
       "\u001b[1m Row \u001b[0m│\u001b[1m x1           \u001b[0m\u001b[1m x2       \u001b[0m\u001b[1m z          \u001b[0m\n",
       "     │\u001b[90m Float64      \u001b[0m\u001b[90m Float64  \u001b[0m\u001b[90m Float64    \u001b[0m\n",
       "─────┼────────────────────────────────────\n",
       "   1 │  9.26292       9.26292  -10.0763\n",
       "   2 │  6.89455       9.25401  -12.0875\n",
       "   3 │ -9.89628e-17   9.26948   -0.341423\n",
       "   4 │ -6.89455       9.25401  -12.0875\n",
       "   5 │ -9.26292       9.26292  -10.0763\n",
       "   6 │ -4.06725       9.26211  -13.0106\n",
       "   7 │  4.06725       9.26211  -13.0106\n",
       "   8 │  9.25401       6.89455  -12.0875\n",
       "  ⋮  │      ⋮           ⋮          ⋮\n",
       "  43 │  9.26211       4.06725  -13.0106\n",
       "  44 │  6.89441       4.07769  -15.8011\n",
       "  45 │ -2.89107e-16   3.96156   -0.525636\n",
       "  46 │ -6.89441       4.07769  -15.8011\n",
       "  47 │ -9.26211       4.06725  -13.0106\n",
       "  48 │ -4.02073       4.02073  -17.4445\n",
       "  49 │  4.02073       4.02073  -17.4445\n",
       "\u001b[36m                           34 rows omitted\u001b[0m"
      ]
     },
     "metadata": {},
     "output_type": "display_data"
    }
   ],
   "source": [
    "# Usage example:\n",
    "df_cheb = process_critical_points(real_pts_cheb, f, TR)\n",
    "df_lege = process_critical_points(real_pts_lege, f, TR)"
   ]
  },
  {
   "cell_type": "code",
   "execution_count": 7,
   "metadata": {},
   "outputs": [
    {
     "name": "stdout",
     "output_type": "stream",
     "text": [
      "Processing point 1 of 49\n",
      "Optimization has converged: \u001b[32m✓\u001b[0m\n",
      "Processing point 2 of 49\n",
      "Optimization has converged: \u001b[32m✓\u001b[0m\n",
      "Processing point 3 of 49\n",
      "Optimization has converged: \u001b[32m✓\u001b[0m\n",
      "Processing point 4 of 49\n",
      "Optimization has converged: \u001b[32m✓\u001b[0m\n",
      "Processing point 5 of 49\n",
      "Optimization has converged: \u001b[32m✓\u001b[0m\n",
      "Processing point 6 of 49\n",
      "Optimization has converged: \u001b[32m✓\u001b[0m\n",
      "Processing point 7 of 49\n",
      "Optimization has converged: \u001b[32m✓\u001b[0m\n",
      "Processing point 8 of 49\n",
      "Optimization has converged: \u001b[32m✓\u001b[0m\n",
      "Processing point 9 of 49\n",
      "Optimization has converged: \u001b[32m✓\u001b[0m\n",
      "Processing point 10 of 49\n",
      "Optimization has converged: \u001b[32m✓\u001b[0m\n",
      "Processing point 11 of 49\n",
      "Optimization has converged: \u001b[32m✓\u001b[0m\n",
      "Processing point 12 of 49\n",
      "Optimization has converged: \u001b[32m✓\u001b[0m\n",
      "Processing point 13 of 49\n",
      "Optimization has converged: \u001b[32m✓\u001b[0m\n",
      "Processing point 14 of 49\n",
      "Optimization has converged: \u001b[32m✓\u001b[0m\n",
      "Processing point 15 of 49\n",
      "Optimization has converged: \u001b[32m✓\u001b[0m\n",
      "Processing point 16 of 49\n",
      "Optimization has converged: \u001b[31m✗\u001b[0m\n",
      "Processing point 17 of 49\n",
      "Optimization has converged: \u001b[32m✓\u001b[0m\n",
      "Processing point 18 of 49\n",
      "Optimization has converged: \u001b[32m✓\u001b[0m\n",
      "Processing point 19 of 49\n",
      "Optimization has converged: \u001b[32m✓\u001b[0m\n",
      "Processing point 20 of 49\n",
      "Optimization has converged: \u001b[32m✓\u001b[0m\n",
      "Processing point 21 of 49\n",
      "Optimization has converged: \u001b[32m✓\u001b[0m\n",
      "Processing point 22 of 49\n",
      "Optimization has converged: \u001b[32m✓\u001b[0m\n",
      "Processing point 23 of 49\n",
      "Optimization has converged: \u001b[32m✓\u001b[0m\n",
      "Processing point 24 of 49\n",
      "Optimization has converged: \u001b[32m✓\u001b[0m\n",
      "Processing point 25 of 49\n",
      "Optimization has converged: \u001b[32m✓\u001b[0m\n",
      "Processing point 26 of 49\n",
      "Optimization has converged: \u001b[32m✓\u001b[0m\n",
      "Processing point 27 of 49\n",
      "Optimization has converged: \u001b[32m✓\u001b[0m\n",
      "Processing point 28 of 49\n",
      "Optimization has converged: \u001b[32m✓\u001b[0m\n",
      "Processing point 29 of 49\n",
      "Optimization has converged: \u001b[32m✓\u001b[0m\n",
      "Processing point 30 of 49\n",
      "Optimization has converged: \u001b[32m✓\u001b[0m\n",
      "Processing point 31 of 49\n",
      "Optimization has converged: \u001b[32m✓\u001b[0m\n",
      "Processing point 32 of 49\n",
      "Optimization has converged: \u001b[32m✓\u001b[0m\n",
      "Processing point 33 of 49\n",
      "Optimization has converged: \u001b[32m✓\u001b[0m\n",
      "Processing point 34 of 49\n",
      "Optimization has converged: \u001b[32m✓\u001b[0m\n",
      "Processing point 35 of 49\n",
      "Optimization has converged: \u001b[32m✓\u001b[0m\n",
      "Processing point 36 of 49\n",
      "Optimization has converged: \u001b[32m✓\u001b[0m\n",
      "Processing point 37 of 49\n",
      "Optimization has converged: \u001b[32m✓\u001b[0m\n",
      "Processing point 38 of 49\n",
      "Optimization has converged: \u001b[32m✓\u001b[0m\n",
      "Processing point 39 of 49\n",
      "Optimization has converged: \u001b[32m✓\u001b[0m\n",
      "Processing point 40 of 49\n",
      "Optimization has converged: \u001b[32m✓\u001b[0m\n",
      "Processing point 41 of 49\n",
      "Optimization has converged: \u001b[32m✓\u001b[0m\n",
      "Processing point 42 of 49\n",
      "Optimization has converged: \u001b[32m✓\u001b[0m\n",
      "Processing point 43 of 49\n",
      "Optimization has converged: \u001b[32m✓\u001b[0m\n",
      "Processing point 44 of 49\n",
      "Optimization has converged: \u001b[32m✓\u001b[0m\n",
      "Processing point 45 of 49\n",
      "Optimization has converged: \u001b[32m✓\u001b[0m\n",
      "Processing point 46 of 49\n",
      "Optimization has converged: \u001b[32m✓\u001b[0m\n",
      "Processing point 47 of 49\n",
      "Optimization has converged: \u001b[32m✓\u001b[0m\n",
      "Processing point 48 of 49\n",
      "Optimization has converged: \u001b[32m✓\u001b[0m\n",
      "Processing point 49 of 49\n",
      "Optimization has converged: \u001b[32m✓\u001b[0m\n",
      "Processing point 1 of 49\n",
      "Optimization has converged: \u001b[32m✓\u001b[0m\n",
      "Processing point 2 of 49\n",
      "Optimization has converged: \u001b[32m✓\u001b[0m\n",
      "Processing point 3 of 49\n",
      "Optimization has converged: \u001b[32m✓\u001b[0m\n",
      "Processing point 4 of 49\n",
      "Optimization has converged: \u001b[32m✓\u001b[0m\n",
      "Processing point 5 of 49\n",
      "Optimization has converged: \u001b[32m✓\u001b[0m\n",
      "Processing point 6 of 49\n",
      "Optimization has converged: \u001b[32m✓\u001b[0m\n",
      "Processing point 7 of 49\n",
      "Optimization has converged: \u001b[32m✓\u001b[0m\n",
      "Processing point 8 of 49\n",
      "Optimization has converged: \u001b[32m✓\u001b[0m\n",
      "Processing point 9 of 49\n",
      "Optimization has converged: \u001b[32m✓\u001b[0m\n",
      "Processing point 10 of 49\n",
      "Optimization has converged: \u001b[32m✓\u001b[0m\n",
      "Processing point 11 of 49\n",
      "Optimization has converged: \u001b[32m✓\u001b[0m\n",
      "Processing point 12 of 49\n",
      "Optimization has converged: \u001b[32m✓\u001b[0m\n",
      "Processing point 13 of 49\n",
      "Optimization has converged: \u001b[32m✓\u001b[0m\n",
      "Processing point 14 of 49\n",
      "Optimization has converged: \u001b[32m✓\u001b[0m\n",
      "Processing point 15 of 49\n",
      "Optimization has converged: \u001b[32m✓\u001b[0m\n",
      "Processing point 16 of 49\n",
      "Optimization has converged: \u001b[32m✓\u001b[0m\n",
      "Processing point 17 of 49\n",
      "Optimization has converged: \u001b[32m✓\u001b[0m\n",
      "Processing point 18 of 49\n",
      "Optimization has converged: \u001b[32m✓\u001b[0m\n",
      "Processing point 19 of 49\n",
      "Optimization has converged: \u001b[32m✓\u001b[0m\n",
      "Processing point 20 of 49\n",
      "Optimization has converged: \u001b[32m✓\u001b[0m\n",
      "Processing point 21 of 49\n",
      "Optimization has converged: \u001b[32m✓\u001b[0m\n",
      "Processing point 22 of 49\n",
      "Optimization has converged: \u001b[32m✓\u001b[0m\n",
      "Processing point 23 of 49\n",
      "Optimization has converged: \u001b[32m✓\u001b[0m\n",
      "Processing point 24 of 49\n",
      "Optimization has converged: \u001b[32m✓\u001b[0m\n",
      "Processing point 25 of 49\n",
      "Optimization has converged: \u001b[32m✓\u001b[0m\n",
      "Processing point 26 of 49\n",
      "Optimization has converged: \u001b[32m✓\u001b[0m\n",
      "Processing point 27 of 49\n",
      "Optimization has converged: \u001b[32m✓\u001b[0m\n",
      "Processing point 28 of 49\n",
      "Optimization has converged: \u001b[32m✓\u001b[0m\n",
      "Processing point 29 of 49\n",
      "Optimization has converged: \u001b[32m✓\u001b[0m\n",
      "Processing point 30 of 49\n",
      "Optimization has converged: \u001b[32m✓\u001b[0m\n",
      "Processing point 31 of 49\n",
      "Optimization has converged: \u001b[31m✗\u001b[0m\n",
      "Processing point 32 of 49\n",
      "Optimization has converged: \u001b[32m✓\u001b[0m\n",
      "Processing point 33 of 49\n",
      "Optimization has converged: \u001b[32m✓\u001b[0m\n",
      "Processing point 34 of 49\n",
      "Optimization has converged: \u001b[32m✓\u001b[0m\n",
      "Processing point 35 of 49\n",
      "Optimization has converged: \u001b[32m✓\u001b[0m\n",
      "Processing point 36 of 49\n",
      "Optimization has converged: \u001b[32m✓\u001b[0m\n",
      "Processing point 37 of 49\n",
      "Optimization has converged: \u001b[32m✓\u001b[0m\n",
      "Processing point 38 of 49\n",
      "Optimization has converged: \u001b[32m✓\u001b[0m\n",
      "Processing point 39 of 49\n",
      "Optimization has converged: \u001b[32m✓\u001b[0m\n",
      "Processing point 40 of 49\n",
      "Optimization has converged: \u001b[32m✓\u001b[0m\n",
      "Processing point 41 of 49\n",
      "Optimization has converged: \u001b[32m✓\u001b[0m\n",
      "Processing point 42 of 49\n",
      "Optimization has converged: \u001b[32m✓\u001b[0m\n",
      "Processing point 43 of 49\n",
      "Optimization has converged: \u001b[32m✓\u001b[0m\n",
      "Processing point 44 of 49\n",
      "Optimization has converged: \u001b[32m✓\u001b[0m\n",
      "Processing point 45 of 49\n",
      "Optimization has converged: \u001b[32m✓\u001b[0m\n",
      "Processing point 46 of 49\n",
      "Optimization has converged: \u001b[32m✓\u001b[0m\n",
      "Processing point 47 of 49\n",
      "Optimization has converged: \u001b[32m✓\u001b[0m\n",
      "Processing point 48 of 49\n",
      "Optimization has converged: \u001b[32m✓\u001b[0m\n",
      "Processing point 49 of 49\n",
      "Optimization has converged: \u001b[32m✓\u001b[0m\n"
     ]
    },
    {
     "data": {
      "text/plain": [
       "(\u001b[1m49×8 DataFrame\u001b[0m\n",
       "\u001b[1m Row \u001b[0m│\u001b[1m x1           \u001b[0m\u001b[1m x2       \u001b[0m\u001b[1m z          \u001b[0m\u001b[1m y1           \u001b[0m\u001b[1m y2          \u001b[0m\u001b[1m close \u001b[0m\u001b[1m s\u001b[0m ⋯\n",
       "     │\u001b[90m Float64      \u001b[0m\u001b[90m Float64  \u001b[0m\u001b[90m Float64    \u001b[0m\u001b[90m Float64      \u001b[0m\u001b[90m Float64     \u001b[0m\u001b[90m Bool  \u001b[0m\u001b[90m F\u001b[0m ⋯\n",
       "─────┼──────────────────────────────────────────────────────────────────────────\n",
       "   1 │  9.26292       9.26292  -10.0763      -10.7742      -10.7742   false    ⋯\n",
       "   2 │  6.89455       9.25401  -12.0875       10.7421       -7.67107  false\n",
       "   3 │ -9.89628e-17   9.26948   -0.341423    -20.1316       -7.74024  false\n",
       "   4 │ -6.89455       9.25401  -12.0875      -10.7421       -7.67107  false\n",
       "   5 │ -9.26292       9.26292  -10.0763       10.7742      -10.7742   false    ⋯\n",
       "   6 │ -4.06725       9.26211  -13.0106       -4.41908       1.47062  false\n",
       "   7 │  4.06725       9.26211  -13.0106        4.41908       1.47062  false\n",
       "   8 │  9.25401       6.89455  -12.0875       -7.67107      10.7421   false\n",
       "  ⋮  │      ⋮           ⋮          ⋮            ⋮             ⋮         ⋮      ⋱\n",
       "  43 │  9.26211       4.06725  -13.0106        1.47062       4.41908  false    ⋯\n",
       "  44 │  6.89441       4.07769  -15.8011        7.58749       4.55012  false\n",
       "  45 │ -2.89107e-16   3.96156   -0.525636  -2147.54      -1352.62     false\n",
       "  46 │ -6.89441       4.07769  -15.8011       -7.58749       4.55012  false\n",
       "  47 │ -9.26211       4.06725  -13.0106       -1.47062       4.41908  false    ⋯\n",
       "  48 │ -4.02073       4.02073  -17.4445       -4.491         4.491    false\n",
       "  49 │  4.02073       4.02073  -17.4445        4.491         4.491    false\n",
       "\u001b[36m                                                   2 columns and 34 rows omitted\u001b[0m, \u001b[1m26×4 DataFrame\u001b[0m\n",
       "\u001b[1m Row \u001b[0m│\u001b[1m x2       \u001b[0m\u001b[1m x1       \u001b[0m\u001b[1m value    \u001b[0m\u001b[1m captured \u001b[0m\n",
       "     │\u001b[90m Float64  \u001b[0m\u001b[90m Float64  \u001b[0m\u001b[90m Float64  \u001b[0m\u001b[90m Bool     \u001b[0m\n",
       "─────┼────────────────────────────────────────\n",
       "   1 │  1.47062  -4.41908  -18.8994     false\n",
       "   2 │  1.47062   4.41908  -18.8994     false\n",
       "   3 │  7.63259   7.63259  -15.5446     false\n",
       "   4 │  7.63259  -7.63259  -15.5446     false\n",
       "   5 │  7.58749  -4.55012  -16.5389     false\n",
       "   6 │  7.58749   4.55012  -16.5389     false\n",
       "   7 │ -1.34941  -1.34941  -20.6261     false\n",
       "   8 │  1.34941   1.34941  -20.6261     false\n",
       "  ⋮  │    ⋮         ⋮         ⋮         ⋮\n",
       "  20 │ -4.491     4.491    -17.906      false\n",
       "  21 │  4.41908   1.47062  -18.8994     false\n",
       "  22 │  4.55012   7.58749  -16.5389     false\n",
       "  23 │  4.55012  -7.58749  -16.5389     false\n",
       "  24 │  4.41908  -1.47062  -18.8994     false\n",
       "  25 │  4.491    -4.491    -17.906      false\n",
       "  26 │  4.491     4.491    -17.906      false\n",
       "\u001b[36m                               11 rows omitted\u001b[0m)"
      ]
     },
     "metadata": {},
     "output_type": "display_data"
    }
   ],
   "source": [
    "using Optim\n",
    "df_cheb, df_min_cheb = analyze_critical_points(f, df_cheb, TR, tol_dist=0.01)\n",
    "df_lege, df_min_lege = analyze_critical_points(f, df_lege, TR, tol_dist=0.01)"
   ]
  },
  {
   "cell_type": "code",
   "execution_count": 8,
   "metadata": {},
   "outputs": [],
   "source": [
    "using GLMakie"
   ]
  },
  {
   "cell_type": "code",
   "execution_count": 9,
   "metadata": {},
   "outputs": [],
   "source": [
    "plot_polyapprox_rotate(pol_lege, TR, df_lege, df_min_lege)"
   ]
  },
  {
   "cell_type": "code",
   "execution_count": 10,
   "metadata": {},
   "outputs": [],
   "source": [
    "plot_polyapprox_levelset(pol_cheb, TR, df_cheb, df_min_cheb)"
   ]
  },
  {
   "cell_type": "code",
   "execution_count": 11,
   "metadata": {},
   "outputs": [],
   "source": [
    "# GLMakie.closeall()"
   ]
  }
 ],
 "metadata": {
  "kernelspec": {
   "display_name": "Julia 1.11.2",
   "language": "julia",
   "name": "julia-1.11"
  },
  "language_info": {
   "file_extension": ".jl",
   "mimetype": "application/julia",
   "name": "julia",
   "version": "1.11.2"
  }
 },
 "nbformat": 4,
 "nbformat_minor": 2
}
