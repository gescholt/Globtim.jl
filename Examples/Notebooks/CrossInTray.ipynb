{
 "cells": [
  {
   "cell_type": "markdown",
   "metadata": {},
   "source": [
    "Cross in Tray Function\n",
    "======================"
   ]
  },
  {
   "cell_type": "code",
   "execution_count": null,
   "metadata": {},
   "outputs": [],
   "source": [
    "using Pkg\n",
    "Pkg.activate(\"../../.\")\n",
    "\n",
    "# Load CairoMakie first to prevent Polynomials extension issues\n",
    "using CairoMakie\n",
    "CairoMakie.activate!()\n",
    "\n",
    "using Globtim\n",
    "using DynamicPolynomials, DataFrames\n",
    "using ProgressLogging"
   ]
  },
  {
   "cell_type": "markdown",
   "metadata": {},
   "source": [
    "We define the center and range of the square domain of approximation."
   ]
  },
  {
   "cell_type": "code",
   "execution_count": null,
   "metadata": {},
   "outputs": [],
   "source": [
    "# Constants and Parameters\n",
    "n = 2\n",
    "a = 10\n",
    "b = 1\n",
    "scale_factor = a / b\n",
    "f = CrossInTray # Objective function\n",
    "d = 8 # Initial Degree \n",
    "SMPL = 200   \n",
    "println(\"Number of samples: \", SMPL^2)\n",
    "TR = test_input(f, \n",
    "                dim = n,\n",
    "                center = [0.0, 0.0],\n",
    "                GN = SMPL, \n",
    "                sample_range = scale_factor\n",
    "                )"
   ]
  },
  {
   "cell_type": "markdown",
   "metadata": {},
   "source": [
    "The `Constructor` function computes the coefficients of the polynomial approximant in the basis specified, with `GN^2` samples distributed following the measure with respect to which the polynomial basis is orthogonal.\n",
    "The `RationalPrecision` specifies that the conversion of the polynomial's coefficients from the tensorized orthogonal basis to the standard monomial basis is carried out in high precision."
   ]
  },
  {
   "cell_type": "code",
   "execution_count": null,
   "metadata": {},
   "outputs": [],
   "source": [
    "pol_cheb = Constructor(TR, d, basis=:chebyshev, precision=RationalPrecision)\n",
    "pol_lege = Constructor(TR, d, basis=:legendre, precision=RationalPrecision, normalized=true);"
   ]
  },
  {
   "cell_type": "markdown",
   "metadata": {},
   "source": [
    "Note that with the `Legendre` polynomials, it is necessary to run with the `normalized` option to ensure that the polynomials are orthonormal with respect to the uniform measure on the domain of approximation."
   ]
  },
  {
   "cell_type": "code",
   "execution_count": null,
   "metadata": {},
   "outputs": [],
   "source": [
    "@polyvar(x[1:n]) # Define polynomial ring \n",
    "real_pts_cheb = solve_polynomial_system(\n",
    "    x, n, d, pol_cheb.coeffs;\n",
    "    basis=pol_cheb.basis,\n",
    "    precision=pol_cheb.precision,\n",
    "    normalized=pol_cheb.normalized,\n",
    ")\n",
    "\n",
    "real_pts_lege = solve_polynomial_system(\n",
    "    x, n, d, pol_lege.coeffs;\n",
    "    basis=pol_lege.basis,\n",
    "    precision=pol_lege.precision,\n",
    "    normalized=pol_lege.normalized)\n",
    "\n",
    "df_cheb = process_crit_pts(real_pts_cheb, f, TR)\n",
    "df_lege = process_crit_pts(real_pts_lege, f, TR);"
   ]
  },
  {
   "cell_type": "code",
   "execution_count": null,
   "metadata": {},
   "outputs": [],
   "source": [
    "using Optim\n",
    "df_cheb, df_min_cheb = analyze_critical_points(f, df_cheb, TR, tol_dist=0.00125);\n",
    "df_lege, df_min_lege = analyze_critical_points(f, df_lege, TR, tol_dist=0.00125);"
   ]
  },
  {
   "cell_type": "code",
   "execution_count": null,
   "metadata": {},
   "outputs": [],
   "source": [
    "fig_2 = cairo_plot_polyapprox_levelset(pol_lege, TR, df_lege, df_min_lege, chebyshev_levels=true)\n",
    "display(fig_2)"
   ]
  },
  {
   "cell_type": "code",
   "execution_count": null,
   "metadata": {},
   "outputs": [],
   "source": [
    "display(fig_2)"
   ]
  },
  {
   "cell_type": "markdown",
   "metadata": {},
   "source": [
    "Note that with the `Legendre` polynomials, it is necessary to run with the `normalized` option to ensure that the polynomials are orthonormal with respect to the uniform measure on the domain of approximation."
   ]
  }
 ],
 "metadata": {
  "kernelspec": {
   "display_name": "Julia 1.11.6",
   "language": "julia",
   "name": "julia-1.11"
  },
  "language_info": {
   "file_extension": ".jl",
   "mimetype": "application/julia",
   "name": "julia",
   "version": "1.11.6"
  }
 },
 "nbformat": 4,
 "nbformat_minor": 2
}
