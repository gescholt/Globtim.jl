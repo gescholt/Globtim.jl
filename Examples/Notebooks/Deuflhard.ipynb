{
 "cells": [
  {
   "cell_type": "markdown",
   "metadata": {},
   "source": [
    "## Deuflhard Function"
   ]
  },
  {
   "cell_type": "code",
   "execution_count": null,
   "metadata": {},
   "outputs": [],
   "source": [
    "using Pkg\n",
    "Pkg.activate(\"../../.\")\n",
    "using CairoMakie\n",
    "CairoMakie.activate!()\n",
    "using GLMakie\n",
    "GLMakie.activate!()\n",
    "\n",
    "using Globtim\n",
    "using DynamicPolynomials, DataFrames\n",
    "using ProgressLogging"
   ]
  },
  {
   "cell_type": "code",
   "execution_count": null,
   "metadata": {},
   "outputs": [],
   "source": [
    "# Constants and Parameters\n",
    "const n, a, b = 2, 7, 5\n",
    "f = Deuflhard # Objective function"
   ]
  },
  {
   "cell_type": "code",
   "execution_count": null,
   "metadata": {},
   "outputs": [],
   "source": [
    "d = 8 # Initial Degree \n",
    "SMPL = 100 # Number of samples\n",
    "center = [0.0, 0.0]\n",
    "TR = test_input(f,\n",
    "                dim=n,\n",
    "                center=[0.0, 0.0],\n",
    "                GN=SMPL,\n",
    "                sample_range=[1.2, 1.5]\n",
    "                )\n",
    "pol_cheb = Constructor(TR, d, basis=:chebyshev)\n",
    "pol_lege = Constructor(TR, d, basis=:legendre);\n"
   ]
  },
  {
   "cell_type": "code",
   "execution_count": null,
   "metadata": {},
   "outputs": [],
   "source": [
    "@polyvar(x[1:n]) # Define polynomial ring \n",
    "real_pts_cheb = solve_polynomial_system(\n",
    "    x, n, d, pol_cheb.coeffs;\n",
    "    basis=pol_cheb.basis,\n",
    "    precision=pol_cheb.precision,\n",
    "    normalized=false,\n",
    "    power_of_two_denom=pol_cheb.power_of_two_denom\n",
    ")\n",
    "\n",
    "real_pts_lege = solve_polynomial_system(\n",
    "    x, n, d, pol_lege.coeffs;\n",
    "    basis=pol_lege.basis,\n",
    "    precision=pol_lege.precision,\n",
    "    normalized=true)\n",
    "\n",
    "df_cheb = process_crit_pts(real_pts_cheb, f, TR)\n",
    "df_lege = process_crit_pts(real_pts_lege, f, TR)"
   ]
  },
  {
   "cell_type": "code",
   "execution_count": null,
   "metadata": {},
   "outputs": [],
   "source": [
    "using Optim\n",
    "df_cheb, df_min_cheb = analyze_critical_points(f, df_cheb, TR, tol_dist=0.001)\n",
    "df_lege, df_min_lege = analyze_critical_points(f, df_lege, TR, tol_dist=0.001);"
   ]
  },
  {
   "cell_type": "code",
   "execution_count": null,
   "metadata": {},
   "outputs": [],
   "source": [
    "# fig_1 = cairo_plot_polyapprox_levelset(pol_cheb, TR, df_cheb, df_min_cheb, chebyshev_levels=true, figure_size=(800, 800))"
   ]
  },
  {
   "cell_type": "code",
   "execution_count": null,
   "metadata": {},
   "outputs": [],
   "source": [
    "fig_1 = plot_polyapprox_levelset(pol_cheb, TR, df_cheb, df_min_cheb, chebyshev_levels=true, figure_size=(800, 800))"
   ]
  },
  {
   "cell_type": "code",
   "execution_count": null,
   "metadata": {},
   "outputs": [],
   "source": [
    "fig_2 = plot_polyapprox_levelset(pol_lege, TR, df_lege, df_min_lege, chebyshev_levels=true, figure_size = (800, 800))"
   ]
  },
  {
   "cell_type": "code",
   "execution_count": null,
   "metadata": {},
   "outputs": [],
   "source": [
    "save(\"Deuflhard_w_22.pdf\", fig_1)"
   ]
  },
  {
   "cell_type": "code",
   "execution_count": null,
   "metadata": {},
   "outputs": [],
   "source": [
    "# save(\"deuflhard_cheb_22_3d_1.png\", fig_3d)\n",
    "# GLMakie.closeall()"
   ]
  }
 ],
 "metadata": {
  "kernelspec": {
   "display_name": "Julia 1.11.5",
   "language": "julia",
   "name": "julia-1.11"
  },
  "language_info": {
   "file_extension": ".jl",
   "mimetype": "application/julia",
   "name": "julia",
   "version": "1.11.5"
  }
 },
 "nbformat": 4,
 "nbformat_minor": 2
}
