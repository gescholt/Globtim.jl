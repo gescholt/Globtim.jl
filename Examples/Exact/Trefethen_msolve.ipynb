{
 "cells": [
  {
   "cell_type": "markdown",
   "metadata": {},
   "source": [
    "What we need is a small parcel to work on, with a nice contourplot with critical points and minima found after initiating local method and then a 3d plot. "
   ]
  },
  {
   "cell_type": "code",
   "execution_count": 1,
   "metadata": {},
   "outputs": [
    {
     "name": "stderr",
     "output_type": "stream",
     "text": [
      "\u001b[32m\u001b[1m  Activating\u001b[22m\u001b[39m project at `~/Globtim.jl`\n"
     ]
    }
   ],
   "source": [
    "using Pkg\n",
    "Pkg.activate(\"../../.\")\n",
    "using Globtim\n",
    "using DynamicPolynomials, DataFrames"
   ]
  },
  {
   "cell_type": "code",
   "execution_count": 15,
   "metadata": {},
   "outputs": [
    {
     "name": "stderr",
     "output_type": "stream",
     "text": [
      "WARNING: redefinition of constant Main.b. This may fail, cause incorrect answers, or produce other errors.\n",
      "WARNING: redefinition of constant Main.scale_factor. This may fail, cause incorrect answers, or produce other errors.\n"
     ]
    },
    {
     "data": {
      "text/plain": [
       "tref (generic function with 1 method)"
      ]
     },
     "metadata": {},
     "output_type": "display_data"
    }
   ],
   "source": [
    "# Constants and Parameters\n",
    "const n, a, b = 2, 1, 4\n",
    "const scale_factor = a / b   # Scaling factor appears in `main_computation`, maybe it should be a parameter.\n",
    "const delta, alpha = 0.5, 1 / 10  # Sampling parameters\n",
    "const tol_l2 = 3e-4            # Define the tolerance for the L2-norm\n",
    "f = tref # Objective function"
   ]
  },
  {
   "cell_type": "markdown",
   "metadata": {},
   "source": [
    "One may assume that when we have access to exact evaluations, we would want to have a small $L^2$-norm tolerance `tol_l2 = 5e-4` and high probability of computing an accurate discrete $L^2$-norm `alpha= 1/10`.\n",
    "\n",
    "We need to also return the number of samples used to generate the sample set. It is annoying that the error goes up while the degree has increased."
   ]
  },
  {
   "cell_type": "code",
   "execution_count": 5,
   "metadata": {},
   "outputs": [],
   "source": [
    "rand_center = [2*rand()-1, 2*rand()-1]*.75; # Random center"
   ]
  },
  {
   "cell_type": "code",
   "execution_count": 16,
   "metadata": {},
   "outputs": [
    {
     "name": "stdout",
     "output_type": "stream",
     "text": [
      "current L2-norm: 0.0011989155034879582\n",
      "Number of samples: 80\n",
      "current L2-norm: 0.001257967821238072\n",
      "Number of samples: 80\n"
     ]
    }
   ],
   "source": [
    "d = 22 # Initial Degree \n",
    "SMPL = 80 # Number of samples\n",
    "TR = test_input(f, \n",
    "                dim = n,\n",
    "                center=rand_center,\n",
    "                GN=SMPL, \n",
    "                sample_range=scale_factor\n",
    "                )\n",
    "pol_cheb = Constructor(TR, d, GN=SMPL, basis=:chebyshev)\n",
    "pol_lege = Constructor(TR, d, GN=SMPL, basis=:legendre);\n",
    "\n",
    "@polyvar(x[1:n]); # Define polynomial ring "
   ]
  },
  {
   "cell_type": "markdown",
   "metadata": {},
   "source": [
    "Solve the system of partial derivatives using `Msolve`. "
   ]
  },
  {
   "cell_type": "code",
   "execution_count": null,
   "metadata": {},
   "outputs": [
    {
     "name": "stdout",
     "output_type": "stream",
     "text": [
      "Input file already exists: inputs.ms\n",
      "Output file already exists: outputs.ms\n",
      "\n",
      "---------------- TIMINGS ----------------\n",
      "overall(elapsed)        0.00 sec\n",
      "overall(cpu)            0.00 sec\n",
      "select                  0.00 sec  13.8%\n",
      "symbolic prep.          0.00 sec  48.1%\n",
      "update                  0.00 sec   2.0%\n",
      "convert                 0.00 sec  15.2%\n",
      "linear algebra          0.00 sec  13.9%\n",
      "reduce gb               0.00 sec   0.0%\n",
      "-----------------------------------------\n",
      "\n",
      "---------- COMPUTATIONAL DATA -----------\n",
      "size of basis                    22\n",
      "#terms in basis                8204\n",
      "#pairs reduced                   22\n",
      "#GM criterion                   231\n",
      "#redundant elements               1\n",
      "#rows reduced                    66\n",
      "#zero reductions                  1\n",
      "max. matrix data                 45 x 485 (78.080%)\n",
      "max. symbolic hash table size  2^11\n",
      "max. basis hash table size     2^16\n",
      "-----------------------------------------\n",
      "\n",
      "\n",
      "---------------- TIMINGS ----------------\n",
      "overall(elapsed)        0.01 sec\n",
      "overall(cpu)            0.01 sec\n",
      "-----------------------------------------\n",
      "\n",
      "---------- COMPUTATIONAL DATA -----------\n",
      "degree of ideal                 441\n",
      "#dense rows                      21\n",
      "#normal forms                     0\n",
      "total density                    85.6%\n",
      "density of the free part         85.6%\n",
      "deg. elim. pol.                 441\n",
      "deg. sqfr. elim. pol.           441\n",
      "-----------------------------------------\n",
      "\n",
      "\n",
      "---------------- TIMINGS ----------------\n",
      "multi-mod overall(elapsed)      0.02 sec\n",
      "multi-mod F4                    0.01 sec\n",
      "multi-mod FGLM                  0.01 sec\n",
      "-----------------------------------------\n",
      "\n",
      "multi-modular steps\n",
      "------------------------------------------------------------------------------------------------------\n",
      "{2}{4}"
     ]
    },
    {
     "name": "stderr",
     "output_type": "stream",
     "text": [
      "\n",
      "--------------- INPUT DATA ---------------\n",
      "#variables                       2\n",
      "#equations                       2\n",
      "#invalid equations               0\n",
      "field characteristic             0\n",
      "homogeneous input?               0\n",
      "signature-based computation      0\n",
      "monomial order                 DRL\n",
      "basis hash table resetting     OFF\n",
      "linear algebra option            2\n",
      "initial hash table size     131072 (2^17)\n",
      "max pair selection             ALL\n",
      "reduce gb                        1\n",
      "#threads                         1\n",
      "info level                       1\n",
      "generate pbm files               0\n",
      "------------------------------------------\n"
     ]
    },
    {
     "name": "stdout",
     "output_type": "stream",
     "text": [
      "{8}{16}{32}{64}{128}\n",
      "<Step:2/0.00/0.02>\n",
      "<Step:4/0.01/0.03>{256}"
     ]
    },
    {
     "name": "stderr",
     "output_type": "stream",
     "text": [
      "[0][1]Real root isolation starts at precision 288\n",
      "Number of real roots: 185\n",
      "Starts real root extraction.\n",
      "<1426><1416><1413><1421><1442><1420>{2.70%}<1443><1426><1420><1355><1425><1430>{5.95%}<1438><-<1428><1418><1416><1443>"
     ]
    }
   ],
   "source": [
    "msolve_polynomial_system(pol_cheb, x)\n",
    "df_cheb = msolve_parser(\"outputs.ms\", f, n, TR)"
   ]
  },
  {
   "cell_type": "code",
   "execution_count": 14,
   "metadata": {},
   "outputs": [],
   "source": [
    "plot_polyapprox(pol_cheb, TR, df_cheb)"
   ]
  },
  {
   "cell_type": "code",
   "execution_count": 25,
   "metadata": {},
   "outputs": [
    {
     "data": {
      "text/plain": [
       "plot_polyapprox_rotate (generic function with 1 method)"
      ]
     },
     "metadata": {},
     "output_type": "display_data"
    }
   ],
   "source": [
    "using GLMakie\n",
    "function plot_polyapprox_rotate(pol::ApproxPoly, TR::test_input, df::DataFrame)\n",
    "    # Extract coordinates and function values\n",
    "    coords = pol.scale_factor * pol.grid .+ TR.center'\n",
    "    z_coords = pol.z\n",
    "\n",
    "    if size(coords)[2] == 2  # Plot if the dimensions are 2\n",
    "        fig = Figure(size=(800, 600))\n",
    "        ax = Axis3(fig[1, 1], title=\"Trefethen Function\",\n",
    "            xlabel=\"X-axis\", ylabel=\"Y-axis\", zlabel=\"Z-axis\")\n",
    "\n",
    "        # Create a regular grid for surface plotting\n",
    "        x_unique = sort(unique(coords[:, 1]))\n",
    "        y_unique = sort(unique(coords[:, 2]))\n",
    "\n",
    "        # Initialize the Z grid with NaN\n",
    "        Z = fill(NaN, (length(y_unique), length(x_unique)))\n",
    "\n",
    "        # Fill the Z grid by matching coordinates\n",
    "        for (idx, (x, y, z)) in enumerate(zip(coords[:, 1], coords[:, 2], z_coords))\n",
    "            i = findlast(≈(y), y_unique)\n",
    "            j = findlast(≈(x), x_unique)\n",
    "            if !isnothing(i) && !isnothing(j)\n",
    "                Z[j, i] = z\n",
    "            end\n",
    "        end\n",
    "\n",
    "        # Create surface plot\n",
    "        surface!(ax, x_unique, y_unique, Z,\n",
    "            colormap=:viridis,\n",
    "            transparency=true,\n",
    "            alpha=0.8)\n",
    "\n",
    "        # Plot the critical points\n",
    "        scatter!(ax, df.x1, df.x2,\n",
    "            df.z,\n",
    "            markersize=10,\n",
    "            color=:orange,\n",
    "            label=\"Chebyshev approximant critical points\")\n",
    "\n",
    "        # Record rotating animation\n",
    "        record(fig, \"polyapprox_rotation.mp4\", 1:240; framerate=30) do frame\n",
    "            ax.azimuth[] = 1.7pi + 0.4 * sin(2pi * frame / 240)\n",
    "            ax.elevation[] = pi / 4 + 0.3 * cos(2pi * frame / 240)\n",
    "        end\n",
    "\n",
    "        display(fig)\n",
    "        return fig\n",
    "    end\n",
    "end"
   ]
  },
  {
   "cell_type": "code",
   "execution_count": 26,
   "metadata": {},
   "outputs": [],
   "source": [
    "plot_polyapprox_rotate(pol_cheb, TR, df_cheb)"
   ]
  }
 ],
 "metadata": {
  "kernelspec": {
   "display_name": "Julia 1.11.2",
   "language": "julia",
   "name": "julia-1.11"
  },
  "language_info": {
   "file_extension": ".jl",
   "mimetype": "application/julia",
   "name": "julia",
   "version": "1.11.2"
  }
 },
 "nbformat": 4,
 "nbformat_minor": 2
}
