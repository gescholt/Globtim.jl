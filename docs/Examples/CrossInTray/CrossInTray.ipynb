{
 "cells": [
  {
   "cell_type": "markdown",
   "metadata": {},
   "source": [
    "What we need is a small parcel to work on, with a nice contourplot with critical points and minima found after initiating local method and then a 3d plot. "
   ]
  },
  {
   "cell_type": "code",
   "execution_count": null,
   "metadata": {},
   "outputs": [],
   "source": [
    "using Globtim\n",
    "include(\"../src/lib_func.jl\")\n",
    "\n",
    "# Constants and Parameters\n",
    "d = 4 # Initial Degree \n",
    "const n, a, b = 2, 10, 1 \n",
    "const scale_factor = a / b       # Scaling factor appears in `main_computation`, maybe it should be a parameter.\n",
    "const delta, alpha = .9 , 8 / 10  # Sampling parameters\n",
    "const tol_l2 = 3e-2             # Define the tolerance for the L2-norm\n",
    "\n",
    "f = CrossInTray # Objective function"
   ]
  },
  {
   "cell_type": "markdown",
   "metadata": {},
   "source": [
    "We need to also return the number of samples used to generate the sample set. It is annoying that the error goes up while the degree has increased."
   ]
  },
  {
   "cell_type": "code",
   "execution_count": null,
   "metadata": {},
   "outputs": [],
   "source": [
    "while true # Potential infinite loop\n",
    "    global poly_approx = MainGenerate(f, 2, d, delta, alpha, scale_factor, 0.5) # computes the approximant in Chebyshev basis\n",
    "    if poly_approx.nrm < tol_l2\n",
    "        println(\"attained the desired L2-norm: \", poly_approx.nrm)\n",
    "        break\n",
    "    else\n",
    "        println(\"current L2-norm: \", poly_approx.nrm)\n",
    "        println(\"Number of samples: \", poly_approx.N)\n",
    "        global d += 1\n",
    "    end\n",
    "end"
   ]
  },
  {
   "cell_type": "markdown",
   "metadata": {},
   "source": [
    "We now expand the approximant computed in the tensorized Chebyshev basis into standard monomial basis."
   ]
  },
  {
   "cell_type": "code",
   "execution_count": 3,
   "metadata": {},
   "outputs": [],
   "source": [
    "using DynamicPolynomials, HomotopyContinuation, ProgressLogging, DataFrames\n",
    "@polyvar(x[1:n]) # Define polynomial ring \n",
    "ap = main_nd(n, d, poly_approx.coeffs) \n",
    "# Expand the polynomial approximant to the standard monomial basis in the Lexicographic order w.r.t x. \n",
    "PolynomialApproximant = sum(Float64.(ap) .* MonomialVector(x, 0:d)) # Convert coefficients to Float64 for homotopy continuation\n",
    "grad = differentiate.(PolynomialApproximant, x)\n",
    "sys = System(grad);"
   ]
  },
  {
   "cell_type": "markdown",
   "metadata": {},
   "source": [
    "Solve the system of partial derivatives using HomotopyContinuation. Note: restricted to Floats64 coefficients. "
   ]
  },
  {
   "cell_type": "code",
   "execution_count": null,
   "metadata": {},
   "outputs": [],
   "source": [
    "Real_sol_lstsq = HomotopyContinuation.solve(sys)\n",
    "real_pts = HomotopyContinuation.real_solutions(Real_sol_lstsq; only_real=true, multiple_results=false);"
   ]
  },
  {
   "cell_type": "markdown",
   "metadata": {},
   "source": [
    "Sort through the critical points, make sure they fall into the domain of definition. Make them into a Dataframe."
   ]
  },
  {
   "cell_type": "code",
   "execution_count": 5,
   "metadata": {},
   "outputs": [],
   "source": [
    "condition(point) = -1 < point[1] < 1 && -1 < point[2] < 1\n",
    "filtered_points = filter(condition, real_pts) # Filter points using the filter function\n",
    "# Colllect the critical points of the approximant \n",
    "h_x = Float64[point[1] for point in filtered_points] # Initialize the x vector for critical points of approximant\n",
    "h_y = Float64[point[2] for point in filtered_points] # Initialize the y vector\n",
    "h_z = map(p -> f([p[1], p[2]]), zip(scale_factor * h_x, scale_factor * h_y))\n",
    "df = DataFrame(x=scale_factor * h_x, y=scale_factor * h_y, z= h_z); # Create a DataFrame"
   ]
  },
  {
   "cell_type": "code",
   "execution_count": null,
   "metadata": {},
   "outputs": [],
   "source": [
    "using PlotlyJS, Colors\n",
    "# Extract coordinates and function values\n",
    "coords = poly_approx.scale_factor * poly_approx.grid\n",
    "z_coords = poly_approx.z\n",
    "\n",
    "# Plot the 3D scatter plot if the dimensions are 2\n",
    "if size(coords)[2] == 2\n",
    "    scatter_trace = scatter3d(\n",
    "        x=coords[:, 1],\n",
    "        y=coords[:, 2],\n",
    "        z=z_coords,\n",
    "        mode=\"markers\",\n",
    "        marker=attr(\n",
    "            size=5,\n",
    "            color=z_coords,\n",
    "            colorscale=\"Viridis\"\n",
    "        ),\n",
    "        name=\"Sampled Data\"\n",
    "    )\n",
    "    println(\"Plotting 3D scatter plot\")\n",
    "\n",
    "    # Create the scatter3d trace\n",
    "    # Had to switch the coordinates of the critical points to match the surface plot for some reason. \n",
    "    crit_pts = scatter3d(\n",
    "        x=df.y,\n",
    "        y=df.x,\n",
    "        z=df.z,\n",
    "        mode=\"markers\",\n",
    "        marker=attr(\n",
    "            size=7,\n",
    "            color=\"red\"\n",
    "        ),\n",
    "        name=\"Critical Points\"\n",
    "    )\n",
    "\n",
    "    layout = Layout(\n",
    "        title=\"3D Scatter Plot of Sample Points\",\n",
    "        scene=attr(\n",
    "            xaxis=attr(title=\"X-axis\"),\n",
    "            yaxis=attr(title=\"Y-axis\"),\n",
    "            zaxis=attr(title=\"Z-axis\")),\n",
    "        height=800\n",
    "    )\n",
    "    plt = Plot([scatter_trace, crit_pts],layout)\n",
    "    display(plt)\n",
    "end\n"
   ]
  },
  {
   "cell_type": "markdown",
   "metadata": {},
   "source": [
    "One may thing there is an issue with the cross of critical points lifted to the height $ z=0 $, but as we observe, this is really the `CrossInTray` function which admits these highly non smooth features, which are also hard to detect only by sampling. The nice symmetry of the problem make that our critical points arise where the \"singularities\" are located."
   ]
  },
  {
   "cell_type": "code",
   "execution_count": null,
   "metadata": {},
   "outputs": [],
   "source": [
    "println(f([0.,0.]))\n",
    "println(f([0.01, 0.01]))"
   ]
  },
  {
   "cell_type": "code",
   "execution_count": null,
   "metadata": {},
   "outputs": [],
   "source": [
    "# Generate the grid and evaluate the function\n",
    "N = 100  # resolution of the grid\n",
    "x = range(-scale_factor, scale_factor, length=N)\n",
    "y = range(-scale_factor, scale_factor, length=N)\n",
    "z = [f([xi, yi]) for yi in y, xi in x]\n",
    "sf = surface(x=x, y=y, z=z)\n",
    "# flat_crit_pts = scatter3d(x=df.y, y=df.x, z=df.z, mode=\"markers\", marker_size=5, name=\"Critical Points\")\n",
    "# Layout for the plot\n",
    "layout = Layout(title=\"3D Plot of Trefethen function\",\n",
    "    scene=attr(\n",
    "        xaxis_title=\"x\",\n",
    "        yaxis_title=\"y\",\n",
    "        zaxis_title=\"f(x, y)\"),\n",
    "        height=800\n",
    ")\n",
    "# Display the plot layout,\n",
    "plt1 = plot([sf, crit_pts], layout)"
   ]
  },
  {
   "cell_type": "code",
   "execution_count": 9,
   "metadata": {},
   "outputs": [],
   "source": [
    "# Save the plot as an HTML file to preserve the animation\n",
    "# savefig(plt, \"CrossInTray_function_plot.html\")"
   ]
  },
  {
   "cell_type": "markdown",
   "metadata": {},
   "source": [
    "### Add a Random Noise"
   ]
  },
  {
   "cell_type": "markdown",
   "metadata": {},
   "source": [
    "We equip the evaluations of `CrossInTray` with a Gaussian noise."
   ]
  },
  {
   "cell_type": "code",
   "execution_count": null,
   "metadata": {},
   "outputs": [],
   "source": [
    "using Distributions\n",
    "# Define the noisy version of the objective function\n",
    "function noisy_CrossInTray(xx::Vector{Float64}; mean::Float64=0.0, stddev::Float64=1.0)::Float64\n",
    "    noise = rand(Normal(mean, stddev))\n",
    "    return CrossInTray(xx) + noise\n",
    "end\n",
    "\n",
    "f_noisy = noisy_CrossInTray\n",
    "d = 4\n",
    "noisy_tol_l2 = 4e-2             # Define the noise affected tolerance for the L2-norm\n",
    "\n",
    "while true # Potential infinite loop\n",
    "    global poly_approx_noisy = MainGenerate(f_noisy, 2, d, delta, alpha, scale_factor, 0.5) # computes the approximant in Chebyshev basis\n",
    "    if poly_approx_noisy.nrm < noisy_tol_l2\n",
    "        println(\"attained the desired L2-norm: \", poly_approx_noisy.nrm)\n",
    "        break\n",
    "    else\n",
    "        println(\"current L2-norm: \", poly_approx_noisy.nrm)\n",
    "        println(\"Number of samples: \", poly_approx_noisy.N)\n",
    "        global d += 1\n",
    "    end\n",
    "end"
   ]
  },
  {
   "cell_type": "code",
   "execution_count": 11,
   "metadata": {},
   "outputs": [],
   "source": [
    "ap = main_nd(n, d, poly_approx_noisy.coeffs)\n",
    "# Expand the polynomial approximant to the standard monomial basis in the Lexicographic order w.r.t x. \n",
    "@polyvar(x[1:n]) # Define polynomial ring \n",
    "PolynomialApproximant = sum(Float64.(ap) .* MonomialVector(x, 0:d)) # Convert coefficients to Float64 for homotopy continuation\n",
    "grad = differentiate.(PolynomialApproximant, x)\n",
    "sys = System(grad)\n",
    "Real_sol_lstsq = HomotopyContinuation.solve(sys)\n",
    "real_pts = HomotopyContinuation.real_solutions(Real_sol_lstsq; only_real=true, multiple_results=false)\n",
    "condition(point) = -1 < point[1] < 1 && -1 < point[2] < 1\n",
    "filtered_points = filter(condition, real_pts) # Filter points using the filter function\n",
    "# Colllect the critical points of the approximant \n",
    "h_x = Float64[point[1] for point in filtered_points] # Initialize the x vector for critical points of approximant\n",
    "h_y = Float64[point[2] for point in filtered_points] # Initialize the y vector\n",
    "\n",
    "# Here we should evaluate on the noiseless function to compare with previous results\n",
    "h_z = map(p -> f([p[1], p[2]]), zip(scale_factor * h_x, scale_factor * h_y))\n",
    "\n",
    "df_noisy = DataFrame(x=scale_factor * h_x, y=scale_factor * h_y, z=h_z); # Create a DataFrame"
   ]
  },
  {
   "cell_type": "code",
   "execution_count": null,
   "metadata": {},
   "outputs": [],
   "source": [
    "coords = poly_approx_noisy.scale_factor * poly_approx_noisy.grid\n",
    "z_coords = poly_approx_noisy.z\n",
    "\n",
    "# Plot the 3D scatter plot if the dimensions are 2\n",
    "if size(coords)[2] == 2\n",
    "    scatter_trace = scatter3d(\n",
    "        x=coords[:, 1],\n",
    "        y=coords[:, 2],\n",
    "        z=z_coords,\n",
    "        mode=\"markers\",\n",
    "        marker=attr(\n",
    "            size=5,\n",
    "            color=z_coords,\n",
    "            colorscale=\"Viridis\"\n",
    "        ),\n",
    "        name=\"Sampled Data\"\n",
    "    )\n",
    "    println(\"Plotting 3D scatter plot\")\n",
    "\n",
    "    # Create the scatter3d trace\n",
    "    # Had to switch the coordinates of the critical points to match the surface plot for some reason. \n",
    "    crit_pts_noisy = scatter3d(\n",
    "        x=df_noisy.y,\n",
    "        y=df_noisy.x,\n",
    "        z=df_noisy.z,\n",
    "        mode=\"markers\",\n",
    "        marker=attr(\n",
    "            size=7,\n",
    "            color=\"orange\"\n",
    "        ),\n",
    "        name=\"Critical Points\"\n",
    "    )\n",
    "\n",
    "    layout = Layout(\n",
    "        title=\"3D Scatter Plot of Sample Points\",\n",
    "        scene=attr(\n",
    "            xaxis=attr(title=\"X-axis\"),\n",
    "            yaxis=attr(title=\"Y-axis\"),\n",
    "            zaxis=attr(title=\"Z-axis\")),\n",
    "        height=800\n",
    "    )\n",
    "    plt = Plot([scatter_trace, crit_pts_noisy, crit_pts], layout)\n",
    "end"
   ]
  },
  {
   "cell_type": "code",
   "execution_count": null,
   "metadata": {},
   "outputs": [],
   "source": [
    "plt_noisy = plot([sf, crit_pts_noisy], layout)"
   ]
  },
  {
   "cell_type": "code",
   "execution_count": null,
   "metadata": {},
   "outputs": [],
   "source": [
    "# savefig(plt, \"../data/figures/Noisy_CrossInTray.html\")\n",
    "# savefig(plt1, \"../data/figures/CrossInTray_surf_exact.html\")\n",
    "# savefig(plt_noisy, \"../data/figures/CrossInTray_surf_noisy_pts.html\")"
   ]
  }
 ],
 "metadata": {
  "kernelspec": {
   "display_name": "Julia 1.10.4",
   "language": "julia",
   "name": "julia-1.10"
  },
  "language_info": {
   "file_extension": ".jl",
   "mimetype": "application/julia",
   "name": "julia",
   "version": "1.10.4"
  }
 },
 "nbformat": 4,
 "nbformat_minor": 2
}
