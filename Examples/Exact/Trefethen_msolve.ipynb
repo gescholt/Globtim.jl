{
 "cells": [
  {
   "cell_type": "markdown",
   "metadata": {},
   "source": [
    "What we need is a small parcel to work on, with a nice contourplot with critical points and minima found after initiating local method and then a 3d plot. "
   ]
  },
  {
   "cell_type": "code",
   "execution_count": 1,
   "metadata": {},
   "outputs": [
    {
     "name": "stderr",
     "output_type": "stream",
     "text": [
      "\u001b[32m\u001b[1m  Activating\u001b[22m\u001b[39m project at `~/Globtim.jl`\n"
     ]
    }
   ],
   "source": [
    "using Pkg\n",
    "Pkg.activate(\"../../.\")\n",
    "using Globtim\n",
    "using DynamicPolynomials, DataFrames"
   ]
  },
  {
   "cell_type": "code",
   "execution_count": 2,
   "metadata": {},
   "outputs": [
    {
     "data": {
      "text/plain": [
       "tref (generic function with 1 method)"
      ]
     },
     "metadata": {},
     "output_type": "display_data"
    }
   ],
   "source": [
    "# Constants and Parameters\n",
    "const n, a, b = 2, 4, 12\n",
    "const scale_factor = a / b   # Scaling factor appears in `main_computation`, maybe it should be a parameter.\n",
    "const delta, alpha = 0.5, 1 / 10  # Sampling parameters\n",
    "const tol_l2 = 3e-4            # Define the tolerance for the L2-norm\n",
    "f = tref # Objective function"
   ]
  },
  {
   "cell_type": "markdown",
   "metadata": {},
   "source": [
    "One may assume that when we have access to exact evaluations, we would want to have a small $L^2$-norm tolerance `tol_l2 = 5e-4` and high probability of computing an accurate discrete $L^2$-norm `alpha= 1/10`.\n",
    "\n",
    "We need to also return the number of samples used to generate the sample set. It is annoying that the error goes up while the degree has increased."
   ]
  },
  {
   "cell_type": "code",
   "execution_count": 3,
   "metadata": {},
   "outputs": [],
   "source": [
    "# rand_center = [2*rand()-1, 2*rand()-1]*.75; # Random center\n",
    "# rand_center = [0.4694712315165298, -0.45637754560934185]\n",
    "rand_center = [0.0, 0.0];"
   ]
  },
  {
   "cell_type": "code",
   "execution_count": 11,
   "metadata": {},
   "outputs": [
    {
     "name": "stdout",
     "output_type": "stream",
     "text": [
      "current L2-norm: 0.0003254033403545178\n",
      "current L2-norm: 0.21653386727580476\n"
     ]
    }
   ],
   "source": [
    "d = 30 # Initial Degree \n",
    "SMPL = 300 # Number of samples\n",
    "TR = test_input(f, \n",
    "                dim = n,\n",
    "                center=rand_center,\n",
    "                GN=SMPL, \n",
    "                sample_range=scale_factor, \n",
    "                degree_max = d+4\n",
    "                )\n",
    "pol_cheb = Constructor(TR, d, basis=:chebyshev)\n",
    "pol_lege = Constructor(TR, d, basis=:legendre);\n",
    "\n",
    "@polyvar(x[1:n]); # Define polynomial ring "
   ]
  },
  {
   "cell_type": "markdown",
   "metadata": {},
   "source": [
    "Solve the system of partial derivatives using `Msolve`. For degree `26` on tref centered at `rand_center = [0.4694712315165298, -0.45637754560934185]` and `a/b = 7//12`, `msolve runs single threaded in 5m 2.2 s. With 10 threads, it runs in 4m 48.2 s. \n",
    "The slow part of the process is the real root isolation it would seem. "
   ]
  },
  {
   "cell_type": "code",
   "execution_count": 12,
   "metadata": {},
   "outputs": [
    {
     "name": "stdout",
     "output_type": "stream",
     "text": [
      "\n",
      "=== Starting MSolve Parser (dimension: 2) ===\n",
      "Processed 269 points (0.009s)\n"
     ]
    },
    {
     "data": {
      "text/html": [
       "<div><div style = \"float: left;\"><span>266×3 DataFrame</span></div><div style = \"float: right;\"><span style = \"font-style: italic;\">241 rows omitted</span></div><div style = \"clear: both;\"></div></div><div class = \"data-frame\" style = \"overflow-x: scroll;\"><table class = \"data-frame\" style = \"margin-bottom: 6px;\"><thead><tr class = \"header\"><th class = \"rowNumber\" style = \"font-weight: bold; text-align: right;\">Row</th><th style = \"text-align: left;\">x1</th><th style = \"text-align: left;\">x2</th><th style = \"text-align: left;\">z</th></tr><tr class = \"subheader headerLastRow\"><th class = \"rowNumber\" style = \"font-weight: bold; text-align: right;\"></th><th title = \"Float64\" style = \"text-align: left;\">Float64</th><th title = \"Float64\" style = \"text-align: left;\">Float64</th><th title = \"Float64\" style = \"text-align: left;\">Float64</th></tr></thead><tbody><tr><td class = \"rowNumber\" style = \"font-weight: bold; text-align: right;\">1</td><td style = \"text-align: right;\">0.0258173</td><td style = \"text-align: right;\">-0.140992</td><td style = \"text-align: right;\">6.28737</td></tr><tr><td class = \"rowNumber\" style = \"font-weight: bold; text-align: right;\">2</td><td style = \"text-align: right;\">0.287448</td><td style = \"text-align: right;\">0.170945</td><td style = \"text-align: right;\">6.16155</td></tr><tr><td class = \"rowNumber\" style = \"font-weight: bold; text-align: right;\">3</td><td style = \"text-align: right;\">0.286533</td><td style = \"text-align: right;\">0.251541</td><td style = \"text-align: right;\">6.09426</td></tr><tr><td class = \"rowNumber\" style = \"font-weight: bold; text-align: right;\">4</td><td style = \"text-align: right;\">0.0274679</td><td style = \"text-align: right;\">0.331984</td><td style = \"text-align: right;\">5.83762</td></tr><tr><td class = \"rowNumber\" style = \"font-weight: bold; text-align: right;\">5</td><td style = \"text-align: right;\">0.0274852</td><td style = \"text-align: right;\">0.328735</td><td style = \"text-align: right;\">5.83043</td></tr><tr><td class = \"rowNumber\" style = \"font-weight: bold; text-align: right;\">6</td><td style = \"text-align: right;\">0.0274215</td><td style = \"text-align: right;\">-0.288537</td><td style = \"text-align: right;\">5.73714</td></tr><tr><td class = \"rowNumber\" style = \"font-weight: bold; text-align: right;\">7</td><td style = \"text-align: right;\">0.286093</td><td style = \"text-align: right;\">0.327728</td><td style = \"text-align: right;\">5.43213</td></tr><tr><td class = \"rowNumber\" style = \"font-weight: bold; text-align: right;\">8</td><td style = \"text-align: right;\">0.286086</td><td style = \"text-align: right;\">0.332483</td><td style = \"text-align: right;\">5.36644</td></tr><tr><td class = \"rowNumber\" style = \"font-weight: bold; text-align: right;\">9</td><td style = \"text-align: right;\">-0.0774508</td><td style = \"text-align: right;\">-0.139843</td><td style = \"text-align: right;\">5.31879</td></tr><tr><td class = \"rowNumber\" style = \"font-weight: bold; text-align: right;\">10</td><td style = \"text-align: right;\">0.28832</td><td style = \"text-align: right;\">0.0885021</td><td style = \"text-align: right;\">5.15876</td></tr><tr><td class = \"rowNumber\" style = \"font-weight: bold; text-align: right;\">11</td><td style = \"text-align: right;\">0.286082</td><td style = \"text-align: right;\">-0.290988</td><td style = \"text-align: right;\">5.14046</td></tr><tr><td class = \"rowNumber\" style = \"font-weight: bold; text-align: right;\">12</td><td style = \"text-align: right;\">0.0275247</td><td style = \"text-align: right;\">0.253004</td><td style = \"text-align: right;\">5.07776</td></tr><tr><td class = \"rowNumber\" style = \"font-weight: bold; text-align: right;\">13</td><td style = \"text-align: right;\">0.0251111</td><td style = \"text-align: right;\">-0.051187</td><td style = \"text-align: right;\">4.99839</td></tr><tr><td style = \"text-align: right;\">&vellip;</td><td style = \"text-align: right;\">&vellip;</td><td style = \"text-align: right;\">&vellip;</td><td style = \"text-align: right;\">&vellip;</td></tr><tr><td class = \"rowNumber\" style = \"font-weight: bold; text-align: right;\">255</td><td style = \"text-align: right;\">-0.29189</td><td style = \"text-align: right;\">0.292286</td><td style = \"text-align: right;\">-2.31498</td></tr><tr><td class = \"rowNumber\" style = \"font-weight: bold; text-align: right;\">256</td><td style = \"text-align: right;\">0.0742514</td><td style = \"text-align: right;\">0.210491</td><td style = \"text-align: right;\">-2.34196</td></tr><tr><td class = \"rowNumber\" style = \"font-weight: bold; text-align: right;\">257</td><td style = \"text-align: right;\">0.332434</td><td style = \"text-align: right;\">-0.184617</td><td style = \"text-align: right;\">-2.35285</td></tr><tr><td class = \"rowNumber\" style = \"font-weight: bold; text-align: right;\">258</td><td style = \"text-align: right;\">-0.127362</td><td style = \"text-align: right;\">0.291436</td><td style = \"text-align: right;\">-2.36879</td></tr><tr><td class = \"rowNumber\" style = \"font-weight: bold; text-align: right;\">259</td><td style = \"text-align: right;\">-0.292996</td><td style = \"text-align: right;\">-0.184667</td><td style = \"text-align: right;\">-2.62285</td></tr><tr><td class = \"rowNumber\" style = \"font-weight: bold; text-align: right;\">260</td><td style = \"text-align: right;\">0.075038</td><td style = \"text-align: right;\">0.128837</td><td style = \"text-align: right;\">-2.64186</td></tr><tr><td class = \"rowNumber\" style = \"font-weight: bold; text-align: right;\">261</td><td style = \"text-align: right;\">0.33235</td><td style = \"text-align: right;\">-0.0958376</td><td style = \"text-align: right;\">-2.6937</td></tr><tr><td class = \"rowNumber\" style = \"font-weight: bold; text-align: right;\">262</td><td style = \"text-align: right;\">-0.026495</td><td style = \"text-align: right;\">0.290794</td><td style = \"text-align: right;\">-2.84497</td></tr><tr><td class = \"rowNumber\" style = \"font-weight: bold; text-align: right;\">263</td><td style = \"text-align: right;\">-0.0245123</td><td style = \"text-align: right;\">0.13002</td><td style = \"text-align: right;\">-2.90801</td></tr><tr><td class = \"rowNumber\" style = \"font-weight: bold; text-align: right;\">264</td><td style = \"text-align: right;\">0.244646</td><td style = \"text-align: right;\">-0.0948619</td><td style = \"text-align: right;\">-2.94773</td></tr><tr><td class = \"rowNumber\" style = \"font-weight: bold; text-align: right;\">265</td><td style = \"text-align: right;\">-0.293924</td><td style = \"text-align: right;\">-0.095855</td><td style = \"text-align: right;\">-2.9512</td></tr><tr><td class = \"rowNumber\" style = \"font-weight: bold; text-align: right;\">266</td><td style = \"text-align: right;\">-0.0256258</td><td style = \"text-align: right;\">0.211122</td><td style = \"text-align: right;\">-3.30121</td></tr></tbody></table></div>"
      ],
      "text/latex": [
       "\\begin{tabular}{r|ccc}\n",
       "\t& x1 & x2 & z\\\\\n",
       "\t\\hline\n",
       "\t& Float64 & Float64 & Float64\\\\\n",
       "\t\\hline\n",
       "\t1 & 0.0258173 & -0.140992 & 6.28737 \\\\\n",
       "\t2 & 0.287448 & 0.170945 & 6.16155 \\\\\n",
       "\t3 & 0.286533 & 0.251541 & 6.09426 \\\\\n",
       "\t4 & 0.0274679 & 0.331984 & 5.83762 \\\\\n",
       "\t5 & 0.0274852 & 0.328735 & 5.83043 \\\\\n",
       "\t6 & 0.0274215 & -0.288537 & 5.73714 \\\\\n",
       "\t7 & 0.286093 & 0.327728 & 5.43213 \\\\\n",
       "\t8 & 0.286086 & 0.332483 & 5.36644 \\\\\n",
       "\t9 & -0.0774508 & -0.139843 & 5.31879 \\\\\n",
       "\t10 & 0.28832 & 0.0885021 & 5.15876 \\\\\n",
       "\t11 & 0.286082 & -0.290988 & 5.14046 \\\\\n",
       "\t12 & 0.0275247 & 0.253004 & 5.07776 \\\\\n",
       "\t13 & 0.0251111 & -0.051187 & 4.99839 \\\\\n",
       "\t14 & -0.233763 & 0.170004 & 4.92568 \\\\\n",
       "\t15 & -0.0790541 & -0.0499356 & 4.90185 \\\\\n",
       "\t16 & -0.232676 & 0.0868025 & 4.74495 \\\\\n",
       "\t17 & 0.151046 & 0.328191 & 4.51531 \\\\\n",
       "\t18 & 0.0267628 & -0.218756 & 4.49514 \\\\\n",
       "\t19 & 0.151424 & 0.332279 & 4.49169 \\\\\n",
       "\t20 & 0.124101 & 0.328332 & 4.41183 \\\\\n",
       "\t21 & 0.12394 & 0.332207 & 4.39645 \\\\\n",
       "\t22 & 0.0268339 & 0.171216 & 4.3462 \\\\\n",
       "\t23 & 0.151999 & -0.289935 & 4.31562 \\\\\n",
       "\t24 & -0.234054 & 0.251198 & 4.29885 \\\\\n",
       "\t$\\dots$ & $\\dots$ & $\\dots$ & $\\dots$ \\\\\n",
       "\\end{tabular}\n"
      ],
      "text/plain": [
       "\u001b[1m266×3 DataFrame\u001b[0m\n",
       "\u001b[1m Row \u001b[0m│\u001b[1m x1         \u001b[0m\u001b[1m x2         \u001b[0m\u001b[1m z        \u001b[0m\n",
       "     │\u001b[90m Float64    \u001b[0m\u001b[90m Float64    \u001b[0m\u001b[90m Float64  \u001b[0m\n",
       "─────┼──────────────────────────────────\n",
       "   1 │  0.0258173  -0.140992    6.28737\n",
       "   2 │  0.287448    0.170945    6.16155\n",
       "   3 │  0.286533    0.251541    6.09426\n",
       "   4 │  0.0274679   0.331984    5.83762\n",
       "   5 │  0.0274852   0.328735    5.83043\n",
       "   6 │  0.0274215  -0.288537    5.73714\n",
       "   7 │  0.286093    0.327728    5.43213\n",
       "   8 │  0.286086    0.332483    5.36644\n",
       "  ⋮  │     ⋮           ⋮          ⋮\n",
       " 260 │  0.075038    0.128837   -2.64186\n",
       " 261 │  0.33235    -0.0958376  -2.6937\n",
       " 262 │ -0.026495    0.290794   -2.84497\n",
       " 263 │ -0.0245123   0.13002    -2.90801\n",
       " 264 │  0.244646   -0.0948619  -2.94773\n",
       " 265 │ -0.293924   -0.095855   -2.9512\n",
       " 266 │ -0.0256258   0.211122   -3.30121\n",
       "\u001b[36m                        251 rows omitted\u001b[0m"
      ]
     },
     "metadata": {},
     "output_type": "display_data"
    }
   ],
   "source": [
    "df_cheb = solve_and_parse(pol_cheb, x, f, TR)\n",
    "sort!(df_cheb, :z, rev=true)"
   ]
  },
  {
   "cell_type": "markdown",
   "metadata": {},
   "source": [
    "Legendre polynomial: 8m49 s, `scale_factor = 1/3` and degree `30`, and 300 sample points.  "
   ]
  },
  {
   "cell_type": "code",
   "execution_count": 13,
   "metadata": {},
   "outputs": [
    {
     "name": "stdout",
     "output_type": "stream",
     "text": [
      "\n",
      "=== Starting MSolve Parser (dimension: 2) ===\n",
      "Processed 279 points (0.008s)\n"
     ]
    },
    {
     "data": {
      "text/html": [
       "<div><div style = \"float: left;\"><span>277×3 DataFrame</span></div><div style = \"float: right;\"><span style = \"font-style: italic;\">252 rows omitted</span></div><div style = \"clear: both;\"></div></div><div class = \"data-frame\" style = \"overflow-x: scroll;\"><table class = \"data-frame\" style = \"margin-bottom: 6px;\"><thead><tr class = \"header\"><th class = \"rowNumber\" style = \"font-weight: bold; text-align: right;\">Row</th><th style = \"text-align: left;\">x1</th><th style = \"text-align: left;\">x2</th><th style = \"text-align: left;\">z</th></tr><tr class = \"subheader headerLastRow\"><th class = \"rowNumber\" style = \"font-weight: bold; text-align: right;\"></th><th title = \"Float64\" style = \"text-align: left;\">Float64</th><th title = \"Float64\" style = \"text-align: left;\">Float64</th><th title = \"Float64\" style = \"text-align: left;\">Float64</th></tr></thead><tbody><tr><td class = \"rowNumber\" style = \"font-weight: bold; text-align: right;\">1</td><td style = \"text-align: right;\">0.0259943</td><td style = \"text-align: right;\">-0.140881</td><td style = \"text-align: right;\">6.28934</td></tr><tr><td class = \"rowNumber\" style = \"font-weight: bold; text-align: right;\">2</td><td style = \"text-align: right;\">0.287917</td><td style = \"text-align: right;\">0.170829</td><td style = \"text-align: right;\">6.16495</td></tr><tr><td class = \"rowNumber\" style = \"font-weight: bold; text-align: right;\">3</td><td style = \"text-align: right;\">0.286793</td><td style = \"text-align: right;\">0.251709</td><td style = \"text-align: right;\">6.09483</td></tr><tr><td class = \"rowNumber\" style = \"font-weight: bold; text-align: right;\">4</td><td style = \"text-align: right;\">0.0276141</td><td style = \"text-align: right;\">0.331731</td><td style = \"text-align: right;\">5.84256</td></tr><tr><td class = \"rowNumber\" style = \"font-weight: bold; text-align: right;\">5</td><td style = \"text-align: right;\">0.0276342</td><td style = \"text-align: right;\">0.327851</td><td style = \"text-align: right;\">5.80976</td></tr><tr><td class = \"rowNumber\" style = \"font-weight: bold; text-align: right;\">6</td><td style = \"text-align: right;\">0.027565</td><td style = \"text-align: right;\">-0.288191</td><td style = \"text-align: right;\">5.7418</td></tr><tr><td class = \"rowNumber\" style = \"font-weight: bold; text-align: right;\">7</td><td style = \"text-align: right;\">0.286267</td><td style = \"text-align: right;\">0.327073</td><td style = \"text-align: right;\">5.42289</td></tr><tr><td class = \"rowNumber\" style = \"font-weight: bold; text-align: right;\">8</td><td style = \"text-align: right;\">0.286258</td><td style = \"text-align: right;\">0.33208</td><td style = \"text-align: right;\">5.38275</td></tr><tr><td class = \"rowNumber\" style = \"font-weight: bold; text-align: right;\">9</td><td style = \"text-align: right;\">-0.0777829</td><td style = \"text-align: right;\">-0.139723</td><td style = \"text-align: right;\">5.32538</td></tr><tr><td class = \"rowNumber\" style = \"font-weight: bold; text-align: right;\">10</td><td style = \"text-align: right;\">0.289002</td><td style = \"text-align: right;\">0.0884757</td><td style = \"text-align: right;\">5.16042</td></tr><tr><td class = \"rowNumber\" style = \"font-weight: bold; text-align: right;\">11</td><td style = \"text-align: right;\">0.286252</td><td style = \"text-align: right;\">-0.290586</td><td style = \"text-align: right;\">5.14389</td></tr><tr><td class = \"rowNumber\" style = \"font-weight: bold; text-align: right;\">12</td><td style = \"text-align: right;\">0.0276704</td><td style = \"text-align: right;\">0.253167</td><td style = \"text-align: right;\">5.07819</td></tr><tr><td class = \"rowNumber\" style = \"font-weight: bold; text-align: right;\">13</td><td style = \"text-align: right;\">0.0253049</td><td style = \"text-align: right;\">-0.0512088</td><td style = \"text-align: right;\">5.00137</td></tr><tr><td style = \"text-align: right;\">&vellip;</td><td style = \"text-align: right;\">&vellip;</td><td style = \"text-align: right;\">&vellip;</td><td style = \"text-align: right;\">&vellip;</td></tr><tr><td class = \"rowNumber\" style = \"font-weight: bold; text-align: right;\">266</td><td style = \"text-align: right;\">-0.291123</td><td style = \"text-align: right;\">0.292033</td><td style = \"text-align: right;\">-2.31441</td></tr><tr><td class = \"rowNumber\" style = \"font-weight: bold; text-align: right;\">267</td><td style = \"text-align: right;\">0.332006</td><td style = \"text-align: right;\">-0.184637</td><td style = \"text-align: right;\">-2.32779</td></tr><tr><td class = \"rowNumber\" style = \"font-weight: bold; text-align: right;\">268</td><td style = \"text-align: right;\">0.0740262</td><td style = \"text-align: right;\">0.210471</td><td style = \"text-align: right;\">-2.34583</td></tr><tr><td class = \"rowNumber\" style = \"font-weight: bold; text-align: right;\">269</td><td style = \"text-align: right;\">-0.127706</td><td style = \"text-align: right;\">0.291189</td><td style = \"text-align: right;\">-2.36479</td></tr><tr><td class = \"rowNumber\" style = \"font-weight: bold; text-align: right;\">270</td><td style = \"text-align: right;\">-0.292162</td><td style = \"text-align: right;\">-0.184711</td><td style = \"text-align: right;\">-2.61939</td></tr><tr><td class = \"rowNumber\" style = \"font-weight: bold; text-align: right;\">271</td><td style = \"text-align: right;\">0.0747926</td><td style = \"text-align: right;\">0.128753</td><td style = \"text-align: right;\">-2.64688</td></tr><tr><td class = \"rowNumber\" style = \"font-weight: bold; text-align: right;\">272</td><td style = \"text-align: right;\">0.331953</td><td style = \"text-align: right;\">-0.0957521</td><td style = \"text-align: right;\">-2.67404</td></tr><tr><td class = \"rowNumber\" style = \"font-weight: bold; text-align: right;\">273</td><td style = \"text-align: right;\">-0.0262585</td><td style = \"text-align: right;\">0.290547</td><td style = \"text-align: right;\">-2.84755</td></tr><tr><td class = \"rowNumber\" style = \"font-weight: bold; text-align: right;\">274</td><td style = \"text-align: right;\">-0.0242446</td><td style = \"text-align: right;\">0.129921</td><td style = \"text-align: right;\">-2.91133</td></tr><tr><td class = \"rowNumber\" style = \"font-weight: bold; text-align: right;\">275</td><td style = \"text-align: right;\">-0.293036</td><td style = \"text-align: right;\">-0.0957801</td><td style = \"text-align: right;\">-2.94501</td></tr><tr><td class = \"rowNumber\" style = \"font-weight: bold; text-align: right;\">276</td><td style = \"text-align: right;\">0.244568</td><td style = \"text-align: right;\">-0.0947861</td><td style = \"text-align: right;\">-2.94941</td></tr><tr><td class = \"rowNumber\" style = \"font-weight: bold; text-align: right;\">277</td><td style = \"text-align: right;\">-0.0253772</td><td style = \"text-align: right;\">0.211108</td><td style = \"text-align: right;\">-3.30288</td></tr></tbody></table></div>"
      ],
      "text/latex": [
       "\\begin{tabular}{r|ccc}\n",
       "\t& x1 & x2 & z\\\\\n",
       "\t\\hline\n",
       "\t& Float64 & Float64 & Float64\\\\\n",
       "\t\\hline\n",
       "\t1 & 0.0259943 & -0.140881 & 6.28934 \\\\\n",
       "\t2 & 0.287917 & 0.170829 & 6.16495 \\\\\n",
       "\t3 & 0.286793 & 0.251709 & 6.09483 \\\\\n",
       "\t4 & 0.0276141 & 0.331731 & 5.84256 \\\\\n",
       "\t5 & 0.0276342 & 0.327851 & 5.80976 \\\\\n",
       "\t6 & 0.027565 & -0.288191 & 5.7418 \\\\\n",
       "\t7 & 0.286267 & 0.327073 & 5.42289 \\\\\n",
       "\t8 & 0.286258 & 0.33208 & 5.38275 \\\\\n",
       "\t9 & -0.0777829 & -0.139723 & 5.32538 \\\\\n",
       "\t10 & 0.289002 & 0.0884757 & 5.16042 \\\\\n",
       "\t11 & 0.286252 & -0.290586 & 5.14389 \\\\\n",
       "\t12 & 0.0276704 & 0.253167 & 5.07819 \\\\\n",
       "\t13 & 0.0253049 & -0.0512088 & 5.00137 \\\\\n",
       "\t14 & -0.233154 & 0.169886 & 4.92688 \\\\\n",
       "\t15 & -0.07943 & -0.0499677 & 4.90994 \\\\\n",
       "\t16 & -0.232086 & 0.0867985 & 4.7462 \\\\\n",
       "\t17 & 0.0269254 & -0.219086 & 4.50008 \\\\\n",
       "\t18 & 0.148857 & 0.331926 & 4.48102 \\\\\n",
       "\t19 & 0.148467 & 0.327451 & 4.4777 \\\\\n",
       "\t20 & 0.123107 & 0.331879 & 4.40571 \\\\\n",
       "\t21 & 0.123287 & 0.327553 & 4.39627 \\\\\n",
       "\t22 & 0.0269936 & 0.171106 & 4.3492 \\\\\n",
       "\t23 & 0.170985 & 0.327361 & 4.30764 \\\\\n",
       "\t24 & 0.170591 & 0.331964 & 4.30541 \\\\\n",
       "\t$\\dots$ & $\\dots$ & $\\dots$ & $\\dots$ \\\\\n",
       "\\end{tabular}\n"
      ],
      "text/plain": [
       "\u001b[1m277×3 DataFrame\u001b[0m\n",
       "\u001b[1m Row \u001b[0m│\u001b[1m x1         \u001b[0m\u001b[1m x2         \u001b[0m\u001b[1m z        \u001b[0m\n",
       "     │\u001b[90m Float64    \u001b[0m\u001b[90m Float64    \u001b[0m\u001b[90m Float64  \u001b[0m\n",
       "─────┼──────────────────────────────────\n",
       "   1 │  0.0259943  -0.140881    6.28934\n",
       "   2 │  0.287917    0.170829    6.16495\n",
       "   3 │  0.286793    0.251709    6.09483\n",
       "   4 │  0.0276141   0.331731    5.84256\n",
       "   5 │  0.0276342   0.327851    5.80976\n",
       "   6 │  0.027565   -0.288191    5.7418\n",
       "   7 │  0.286267    0.327073    5.42289\n",
       "   8 │  0.286258    0.33208     5.38275\n",
       "  ⋮  │     ⋮           ⋮          ⋮\n",
       " 271 │  0.0747926   0.128753   -2.64688\n",
       " 272 │  0.331953   -0.0957521  -2.67404\n",
       " 273 │ -0.0262585   0.290547   -2.84755\n",
       " 274 │ -0.0242446   0.129921   -2.91133\n",
       " 275 │ -0.293036   -0.0957801  -2.94501\n",
       " 276 │  0.244568   -0.0947861  -2.94941\n",
       " 277 │ -0.0253772   0.211108   -3.30288\n",
       "\u001b[36m                        262 rows omitted\u001b[0m"
      ]
     },
     "metadata": {},
     "output_type": "display_data"
    }
   ],
   "source": [
    "df_lege = solve_and_parse(pol_lege, x, f, TR, basis=:legendre)\n",
    "sort!(df_lege, :z, rev=true)"
   ]
  },
  {
   "cell_type": "code",
   "execution_count": 1,
   "metadata": {},
   "outputs": [
    {
     "ename": "UndefVarError",
     "evalue": "UndefVarError: `nrow` not defined in `Main`\nSuggestion: check for spelling errors or missing imports.",
     "output_type": "error",
     "traceback": [
      "UndefVarError: `nrow` not defined in `Main`\n",
      "Suggestion: check for spelling errors or missing imports.\n",
      "\n",
      "Stacktrace:\n",
      " [1] top-level scope\n",
      "   @ ~/Globtim.jl/Examples/Exact/jl_notebook_cell_df34fa98e69747e1a8f8a730347b8e2f_X13sZmlsZQ==.jl:2"
     ]
    }
   ],
   "source": [
    "using Optim\n",
    "df_cheb.steps = zeros(nrow(df_cheb))\n",
    "df_cheb.converged = zeros(nrow(df_cheb))\n",
    "\n",
    "for i in 1:nrow(df_cheb)\n",
    "    # println(\"Optimizing for point $i\")\n",
    "    x0 = [df_cheb.x1[i], df_cheb.x2[i]]\n",
    "    res = Optim.optimize(f, x0, LBFGS(), Optim.Options(show_trace=false))\n",
    "    minimizer = Optim.minimizer(res)\n",
    "    min_value = Optim.minimum(res)\n",
    "    steps = res.iterations\n",
    "    converged = Optim.converged(res)\n",
    "\n",
    "    # df.dist_to_loc_min[i] = distance\n",
    "    df_cheb.steps[i] = steps\n",
    "    df_cheb.converged[i] = min_value\n",
    "    summary(res)\n",
    "end\n",
    "df_cheb"
   ]
  },
  {
   "cell_type": "code",
   "execution_count": 18,
   "metadata": {},
   "outputs": [
    {
     "data": {
      "text/plain": [
       "plot_polyapprox_rotate (generic function with 1 method)"
      ]
     },
     "metadata": {},
     "output_type": "display_data"
    }
   ],
   "source": [
    "using GLMakie\n",
    "function plot_polyapprox_rotate(pol::ApproxPoly, TR::test_input, df::DataFrame)\n",
    "    # Extract coordinates and function values\n",
    "    coords = pol.scale_factor * pol.grid .+ TR.center'\n",
    "    z_coords = pol.z\n",
    "\n",
    "    if size(coords)[2] == 2  # Plot if the dimensions are 2\n",
    "        fig = Figure(size=(800, 600))\n",
    "        ax = Axis3(fig[1, 1], title=\"Trefethen Function\",\n",
    "            xlabel=\"X-axis\", ylabel=\"Y-axis\", zlabel=\"Z-axis\")\n",
    "\n",
    "        # Create a regular grid for surface plotting\n",
    "        x_unique = sort(unique(coords[:, 1]))\n",
    "        y_unique = sort(unique(coords[:, 2]))\n",
    "\n",
    "        # Initialize the Z grid with NaN\n",
    "        Z = fill(NaN, (length(y_unique), length(x_unique)))\n",
    "\n",
    "        # Fill the Z grid by matching coordinates\n",
    "        for (idx, (x, y, z)) in enumerate(zip(coords[:, 1], coords[:, 2], z_coords))\n",
    "            i = findlast(≈(y), y_unique)\n",
    "            j = findlast(≈(x), x_unique)\n",
    "            if !isnothing(i) && !isnothing(j)\n",
    "                Z[j, i] = z\n",
    "            end\n",
    "        end\n",
    "\n",
    "        # Create surface plot\n",
    "        surface!(ax, x_unique, y_unique, Z,\n",
    "            colormap=:viridis,\n",
    "            transparency=true,\n",
    "            alpha=0.8)\n",
    "\n",
    "        # Plot the critical points\n",
    "        scatter!(ax, df.x1, df.x2,\n",
    "            df.z,\n",
    "            markersize=10,\n",
    "            color=:orange,\n",
    "            label=\"Chebyshev approximant critical points\")\n",
    "\n",
    "        # Record rotating animation\n",
    "        record(fig, \"trefethern_rotation_d30.mp4\", 1:240; framerate=30) do frame\n",
    "            ax.azimuth[] = 1.7pi + 0.4 * sin(2pi * frame / 240)\n",
    "            ax.elevation[] = pi / 4 + 0.3 * cos(2pi * frame / 240)\n",
    "        end\n",
    "\n",
    "        display(fig)\n",
    "        return fig\n",
    "    end\n",
    "end"
   ]
  },
  {
   "cell_type": "code",
   "execution_count": 19,
   "metadata": {},
   "outputs": [],
   "source": [
    "plot_polyapprox_rotate(pol_cheb, TR, df_cheb)"
   ]
  },
  {
   "cell_type": "code",
   "execution_count": 20,
   "metadata": {},
   "outputs": [],
   "source": [
    "GLMakie.closeall()"
   ]
  }
 ],
 "metadata": {
  "kernelspec": {
   "display_name": "Julia 1.11.2",
   "language": "julia",
   "name": "julia-1.11"
  },
  "language_info": {
   "file_extension": ".jl",
   "mimetype": "application/julia",
   "name": "julia",
   "version": "1.11.2"
  }
 },
 "nbformat": 4,
 "nbformat_minor": 2
}
