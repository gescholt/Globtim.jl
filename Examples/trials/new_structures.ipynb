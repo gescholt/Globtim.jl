{
 "cells": [
  {
   "cell_type": "code",
   "execution_count": 1,
   "metadata": {},
   "outputs": [
    {
     "name": "stderr",
     "output_type": "stream",
     "text": [
      "\u001b[32m\u001b[1m  Activating\u001b[22m\u001b[39m project at `~/Globtim.jl`\n"
     ]
    }
   ],
   "source": [
    "using Pkg \n",
    "Pkg.activate(\"../../.\")     \n",
    "using Globtim\n"
   ]
  },
  {
   "cell_type": "code",
   "execution_count": 2,
   "metadata": {},
   "outputs": [
    {
     "name": "stdout",
     "output_type": "stream",
     "text": [
      "attained the desired L2-norm: 0.0005478527829538189\n",
      "Degree :2 \n",
      "current L2-norm: 0.0005478527829538189\n",
      "Number of samples: 36\n"
     ]
    },
    {
     "data": {
      "text/plain": [
       "ApproxPoly([0.8802414055914844, 0.09998810731736932, 0.42034901480053716, 0.0999881073173689, -5.756781206230714e-18, 0.42034901480053655], 0.0005478527829538189, 36, 1.0, [0.9990989662046815 0.9990989662046815; 0.9919004352588768 0.9990989662046815; … ; -0.991900435258877 -0.9990989662046814; -0.9990989662046814 -0.9990989662046814], [1.8802719088826976, 1.869613335656075, 1.8484148869003585, 1.8169285164922466, 1.7755665415932214, 1.724937410686694, 1.665884643103972, 1.5995222860111173, 1.527259678056903, 1.4508085180660206  …  1.1126009510295745, 1.1773054237654215, 1.2389030666967928, 1.2957590223163735, 1.346532445815844, 1.3901689428929829, 1.4258753763034597, 1.4530840458698848, 1.4714134553633633, 1.4806323224008247])"
      ]
     },
     "metadata": {},
     "output_type": "display_data"
    }
   ],
   "source": [
    "T = create_test_input(alpine1)\n",
    "Pol = Constructor(T, 2)"
   ]
  },
  {
   "cell_type": "code",
   "execution_count": 3,
   "metadata": {},
   "outputs": [
    {
     "name": "stdout",
     "output_type": "stream",
     "text": [
      "Please enter a whole number between 1 and 5: "
     ]
    },
    {
     "ename": "UndefVarError",
     "evalue": "UndefVarError: `execute_msg` not defined",
     "output_type": "error",
     "traceback": [
      "UndefVarError: `execute_msg` not defined\n",
      "\n",
      "Stacktrace:\n",
      " [1] readprompt(prompt::String; password::Bool)\n",
      "   @ VSCodeServer.IJuliaCore ~/.vscode/extensions/julialang.language-julia-1.124.2/scripts/packages/IJuliaCore/src/stdio.jl:190\n",
      " [2] readprompt\n",
      "   @ ~/.vscode/extensions/julialang.language-julia-1.124.2/scripts/packages/IJuliaCore/src/stdio.jl:188 [inlined]\n",
      " [3] readline(io::VSCodeServer.IJuliaCore.IJuliaStdio{Base.PipeEndpoint, typeof(VSCodeServer.io_send_callback)})\n",
      "   @ VSCodeServer.IJuliaCore ~/.vscode/extensions/julialang.language-julia-1.124.2/scripts/packages/IJuliaCore/src/stdio.jl:232\n",
      " [4] top-level scope\n",
      "   @ ~/Globtim.jl/Examples/trials/jl_notebook_cell_df34fa98e69747e1a8f8a730347b8e2f_W1sZmlsZQ==.jl:3"
     ]
    }
   ],
   "source": [
    "while true\n",
    "    print(\"Please enter a whole number between 1 and 5: \")\n",
    "    input = readline(stdin)\n",
    "    value = tryparse(Int, input)\n",
    "    if value !== nothing && 1 <= value <= 5\n",
    "        println(\"You entered $(input)\")\n",
    "        break\n",
    "    else\n",
    "        @warn \"Enter a whole number between 1 and 5\"\n",
    "    end\n",
    "end"
   ]
  },
  {
   "cell_type": "code",
   "execution_count": 4,
   "metadata": {},
   "outputs": [],
   "source": []
  }
 ],
 "metadata": {
  "kernelspec": {
   "display_name": "Julia 1.10.5",
   "language": "julia",
   "name": "julia-1.10"
  },
  "language_info": {
   "file_extension": ".jl",
   "mimetype": "application/julia",
   "name": "julia",
   "version": "1.10.5"
  }
 },
 "nbformat": 4,
 "nbformat_minor": 2
}
