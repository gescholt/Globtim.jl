{
 "cells": [
  {
   "cell_type": "code",
   "execution_count": 1,
   "metadata": {},
   "outputs": [
    {
     "data": {
      "text/plain": [
       "camel_3_by_3 (generic function with 1 method)"
      ]
     },
     "metadata": {},
     "output_type": "display_data"
    }
   ],
   "source": [
    "using Globtim\n",
    "using CSV\n",
    "using DataFrames\n",
    "include(\"../src/lib_func.jl\")\n",
    "\n",
    "# Load the dataframe from the CSV file\n",
    "df_2d = CSV.read(\"../data/camel_3_d6.csv\", DataFrame)\n",
    "\n",
    "# Constants and Parameters\n",
    "d = 3      # Degree \n",
    "const n, a, b = 4, 5, 1 \n",
    "const scale_factor = a / b  # Scaling constant, C is appears in `main_computation`, maybe it should be a parameter.\n",
    "const delta, alpha = .1 , 2 / 10  # Sampling parameters\n",
    "# const tol_l2 = 1e-1               # Define the tolerance for the L2-norm\n",
    "const tol_l2 = 1e-0\n",
    "# The objective function\n",
    "f = camel_3_by_3 # Objective function"
   ]
  },
  {
   "cell_type": "code",
   "execution_count": 2,
   "metadata": {},
   "outputs": [
    {
     "name": "stdout",
     "output_type": "stream",
     "text": [
      "current L2-norm: 11.043955448105113\n",
      "Number of samples: 7\n",
      "current L2-norm: 1.2403628765940171\n",
      "Number of samples: 9\n",
      "attained the desired L2-norm: 0.6632549772537315\n"
     ]
    }
   ],
   "source": [
    "while true # Potential infinite loop\n",
    "    global poly_approx = MainGenerate(f, n, d, delta, alpha, scale_factor, 0.2) # computes the approximant in Chebyshev basis\n",
    "    if poly_approx.nrm < tol_l2\n",
    "        println(\"attained the desired L2-norm: \", poly_approx.nrm)\n",
    "        break\n",
    "    else\n",
    "        println(\"current L2-norm: \", poly_approx.nrm)\n",
    "        println(\"Number of samples: \", poly_approx.N)\n",
    "        global d += 1\n",
    "    end\n",
    "end"
   ]
  },
  {
   "cell_type": "code",
   "execution_count": 3,
   "metadata": {},
   "outputs": [
    {
     "data": {
      "text/plain": [
       "System of length 4\n",
       " 4 variables: x₁, x₂, x₃, x₄\n",
       "\n",
       " 5.77223114470149e-13 - 2829.6875*x₁ + 24.9999999999999*x₂ - 3.72453149612998e-15*x₃ + 8.5090633651186e-14*x₄ + 2.92572465855782e-13*x₂*x₁ + 4.45977667269172e-14*x₂*x₁^2 + 2.45702392458055e-13*x₂*x₁^3 - 1.1753284907681e-14*x₂*x₃ - 1.36699030237833e-14*x₂*x₃^2 + 1.07866681840776e-14*x₂*x₃^3 + 2.87072908430546e-12*x₂^2*x₁ - 1.27098040061202e-13*x₂^2*x₁^2 - 1.0160002753919e-15*x₂^2*x₃ + 8.39284203692099e-14*x₂^2*x₃^2 - 8.25087391535879e-13*x₂^3*x₁ - 9.09366109586797e-16*x₂^3*x₃ - 8.5200517116761e-13*x₃*x₁ - 1.13497980804004e-13*x₃*x₁^2 - 2.42161324562692e-12*x₃*x₁^3 - 4.167419647848e-12*x₃^2*x₁ - 3.20351853259972e-13*x₃^2*x₁^2 + 5.3881321321408e-12*x₃^3*x₁ + 8.71343907442347e-13*x₄*x₁ - 1.57833666952053e-13*x₄*x₁^2 - 6.46926198538804e-12*x₄*x₁^3 + 3.11046103889712e-14*x₄*x₂ - 1.45721161769676e-14*x₄*x₂^2 + 7.7527979985767e-14*x₄*x₂^3 - 5.76957131070486e-14*x₄*x₃ - 2.80618503741507e-14*x₄*x₃^2 + 6.28592974022526e-14*x₄*x₃^3 - 5.55296170687625e-12*x₄^2*x₁ - 2.0015540547353e-13*x₄^2*x₁^2 + 1.0910943381461e-14*x₄^2*x₂ + 7.86502096442084e-14*x₄^2*x₂^2 + 3.74422460710019e-15*x₄^2*x₃ - 9.95579758425741e-14*x₄^2*x₃^2 + 1.76250320895951e-12*x₄^3*x₁ - 7.24232634400382e-14*x₄^3*x₂ + 5.42371995057017e-14*x₄^3*x₃ - 7.52146492664579e-14*x₂*x₃*x₁ - 3.15546333395341e-14*x₂*x₃*x₁^2 - 1.18915600541633e-14*x₂*x₃^2*x₁ + 2.67997320390033e-13*x₂^2*x₃*x₁ - 7.36282119202923e-14*x₄*x₂*x₁ - 1.48483880451316e-14*x₄*x₂*x₁^2 + 2.2784952874855e-14*x₄*x₂*x₃ - 2.327443025018e-14*x₄*x₂*x₃^2 - 6.91502284194531e-13*x₄*x₂^2*x₁ + 1.66972422379096e-14*x₄*x₂^2*x₃ + 5.30446387762449e-13*x₄*x₃*x₁ - 1.36647443603368e-13*x₄*x₃*x₁^2 - 9.84697370239144e-14*x₄*x₃^2*x₁ + 3.58730883083592e-13*x₄^2*x₂*x₁ + 9.92771037313637e-15*x₄^2*x₂*x₃ - 2.93428570310535e-12*x₄^2*x₃*x₁ + 9.36836749766168e-14*x₄*x₂*x₃*x₁ - 6.53029466598982e-12*x₁^2 + 13000.0*x₁^3 + 7.40343665026208e-12*x₁^4 + 4.78894479928302e-14*x₂^2 + 9.09099287286078e-14*x₂^3 - 1.13184595594695e-13*x₂^4 + 1.85908117031952e-13*x₃^2 + 1.17410890621953e-15*x₃^3 - 1.08966149778388e-13*x₃^4 + 1.79534088868632e-14*x₄^2 - 2.88151765309262e-14*x₄^3 + 2.76583623550575e-14*x₄^4\n",
       " 4.05526952904931e-14 + 24.9999999999999*x₁ + 49.9999999999993*x₂ + 9.36062775549101e-14*x₃ - 8.10188125503187e-14*x₄ + 9.57788959856605e-14*x₂*x₁ + 2.87072908430546e-12*x₂*x₁^2 - 8.47320267074683e-14*x₂*x₁^3 + 2.01292141046452e-13*x₂*x₃ - 2.75726314502604e-12*x₂*x₃^2 + 4.99957003895549e-13*x₂*x₃^3 + 2.72729786185823e-13*x₂^2*x₁ - 1.23763108730382e-12*x₂^2*x₁^2 - 8.24211673164832e-13*x₂^2*x₃ - 3.23153945730244e-14*x₂^2*x₃^2 - 4.52738382378781e-13*x₂^3*x₁ - 1.07541694353285e-12*x₂^3*x₃ - 1.1753284907681e-14*x₃*x₁ - 3.76073246332289e-14*x₃*x₁^2 - 1.0518211113178e-14*x₃*x₁^3 - 1.36699030237833e-14*x₃^2*x₁ - 5.94578002708163e-15*x₃^2*x₁^2 + 1.07866681840776e-14*x₃^3*x₁ + 3.11046103889712e-14*x₄*x₁ - 3.68141059601461e-14*x₄*x₁^2 - 4.94946268171054e-15*x₄*x₁^3 + 2.23321605252594e-13*x₄*x₂ + 3.43773496297425e-13*x₄*x₂^2 - 1.59460305992864e-12*x₄*x₂^3 - 5.45236822572929e-13*x₄*x₃ - 7.81936112907948e-14*x₄*x₃^2 - 5.06024047430373e-14*x₄*x₃^3 + 1.0910943381461e-14*x₄^2*x₁ + 1.79365441541796e-13*x₄^2*x₁^2 - 3.36624741685994e-12*x₄^2*x₂ + 1.4663638905658e-12*x₄^2*x₂^2 + 7.95370609990008e-14*x₄^2*x₃ + 5.62461583063279e-14*x₄^2*x₃^2 - 7.24232634400382e-14*x₄^3*x₁ - 2.56873120262839e-13*x₄^3*x₂ + 7.45432297477944e-13*x₄^3*x₃ - 2.03200055078379e-15*x₂*x₃*x₁ + 2.67997320390033e-13*x₂*x₃*x₁^2 + 1.6785684073842e-13*x₂*x₃^2*x₁ - 2.72809832876039e-15*x₂^2*x₃*x₁ - 2.91442323539352e-14*x₄*x₂*x₁ - 6.91502284194531e-13*x₄*x₂*x₁^2 + 1.76423062250374e-15*x₄*x₂*x₃ + 1.79965415721327e-12*x₄*x₂*x₃^2 + 2.32583939957301e-13*x₄*x₂^2*x₁ + 3.57156838822157e-13*x₄*x₂^2*x₃ + 2.2784952874855e-14*x₄*x₃*x₁ + 4.68418374883084e-14*x₄*x₃*x₁^2 - 2.327443025018e-14*x₄*x₃^2*x₁ + 1.57300419288417e-13*x₄^2*x₂*x₁ - 1.45597926320745e-13*x₄^2*x₂*x₃ + 9.92771037313637e-15*x₄^2*x₃*x₁ + 3.33944844758192e-14*x₄*x₂*x₃*x₁ + 1.46286232927891e-13*x₁^2 + 1.48659222423057e-14*x₁^3 + 6.14255981145137e-14*x₁^4 + 1.10105900853305e-11*x₂^2 + 7.8758759873851e-12*x₂^3 - 1.67943566666287e-11*x₂^4 - 2.3238110900771e-12*x₃^2 + 2.91650199374135e-13*x₃^3 + 2.17715468879266e-12*x₃^4 - 1.40123757194113e-12*x₄^2 + 1.35569998914318e-13*x₄^3 + 4.63719170810133e-13*x₄^4\n",
       " 8.0113480977235e-12 - 3.72453149612998e-15*x₁ + 9.36062775549101e-14*x₂ - 2829.68749999996*x₃ + 24.999999999999*x₄ - 1.1753284907681e-14*x₂*x₁ - 3.76073246332289e-14*x₂*x₁^2 - 1.0518211113178e-14*x₂*x₁^3 - 4.6476221801542e-12*x₂*x₃ + 8.74950598122405e-13*x₂*x₃^2 + 8.70861875517066e-12*x₂*x₃^3 - 1.0160002753919e-15*x₂^2*x₁ + 1.33998660195017e-13*x₂^2*x₁^2 - 2.75726314502604e-12*x₂^2*x₃ + 7.49935505843324e-13*x₂^2*x₃^2 - 9.09366109586797e-16*x₂^3*x₁ - 2.15435963820163e-14*x₂^3*x₃ + 3.71816234063905e-13*x₃*x₁ - 4.167419647848e-12*x₃*x₁^2 - 2.13567902173315e-13*x₃*x₁^3 + 3.52232671865859e-15*x₃^2*x₁ + 8.0821981982112e-12*x₃^2*x₁^2 - 4.35864599113552e-13*x₃^3*x₁ - 5.76957131070486e-14*x₄*x₁ + 2.65223193881225e-13*x₄*x₁^2 - 4.55491478677893e-14*x₄*x₁^3 - 5.45236822572929e-13*x₄*x₂ + 8.82115311251871e-16*x₄*x₂^2 + 1.19052279607386e-13*x₄*x₂^3 - 6.98076171573751e-12*x₄*x₃ + 2.80203871035392e-12*x₄*x₃^2 - 8.0750543602283e-14*x₄*x₃^3 + 3.74422460710019e-15*x₄^2*x₁ - 1.46714285155268e-12*x₄^2*x₁^2 + 7.95370609990008e-14*x₄^2*x₂ - 7.27989631603726e-14*x₄^2*x₂^2 - 2.77764201729856e-12*x₄^2*x₃ + 3.51175327273945e-11*x₄^2*x₃^2 + 5.42371995057017e-14*x₄^3*x₁ + 7.45432297477944e-13*x₄^3*x₂ + 6.786871133408e-12*x₄^3*x₃ - 2.73398060475667e-14*x₂*x₃*x₁ - 1.18915600541633e-14*x₂*x₃*x₁^2 + 3.23600045522327e-14*x₂*x₃^2*x₁ + 1.6785684073842e-13*x₂^2*x₃*x₁ + 2.2784952874855e-14*x₄*x₂*x₁ + 4.68418374883084e-14*x₄*x₂*x₁^2 - 1.5638722258159e-13*x₄*x₂*x₃ - 1.51807214229112e-13*x₄*x₂*x₃^2 + 1.66972422379096e-14*x₄*x₂^2*x₁ + 1.79965415721327e-12*x₄*x₂^2*x₃ - 5.61237007483014e-14*x₄*x₃*x₁ - 9.84697370239144e-14*x₄*x₃*x₁^2 + 1.88577892206758e-13*x₄*x₃^2*x₁ + 9.92771037313637e-15*x₄^2*x₂*x₁ + 1.12492316612656e-13*x₄^2*x₂*x₃ - 1.99115951685148e-13*x₄^2*x₃*x₁ - 4.654886050036e-14*x₄*x₂*x₃*x₁ - 4.26002585583805e-13*x₁^2 - 3.78326602680014e-14*x₁^3 - 6.05403311406729e-13*x₁^4 + 1.00646070523226e-13*x₂^2 - 2.74737224388277e-13*x₂^3 - 2.68854235883213e-13*x₂^4 - 1.37603231060664e-10*x₃^2 + 12999.9999999999*x₃^3 + 1.79849948633197e-10*x₃^4 - 2.24209987956513e-12*x₄^2 + 7.29790697091939e-13*x₄^3 - 4.73293916910031e-12*x₄^4\n",
       " 3.66389466375251e-12 + 8.5090633651186e-14*x₁ - 8.10188125503187e-14*x₂ + 24.999999999999*x₃ + 50.0000000000104*x₄ + 3.11046103889712e-14*x₂*x₁ - 3.68141059601461e-14*x₂*x₁^2 - 4.94946268171054e-15*x₂*x₁^3 - 5.45236822572929e-13*x₂*x₃ - 7.81936112907948e-14*x₂*x₃^2 - 5.06024047430373e-14*x₂*x₃^3 - 1.45721161769676e-14*x₂^2*x₁ - 3.45751142097265e-13*x₂^2*x₁^2 + 8.82115311251871e-16*x₂^2*x₃ + 8.99827078606635e-13*x₂^2*x₃^2 + 7.7527979985767e-14*x₂^3*x₁ + 1.19052279607386e-13*x₂^3*x₃ - 5.76957131070486e-14*x₃*x₁ + 2.65223193881225e-13*x₃*x₁^2 - 4.55491478677893e-14*x₃*x₁^3 - 2.80618503741507e-14*x₃^2*x₁ - 4.92348685119572e-14*x₃^2*x₁^2 + 6.28592974022526e-14*x₃^3*x₁ + 3.59068177737263e-14*x₄*x₁ - 5.55296170687625e-12*x₄*x₁^2 - 1.33436936982353e-13*x₄*x₁^3 - 2.80247514388227e-12*x₄*x₂ - 3.36624741685994e-12*x₄*x₂^2 + 9.77575927043866e-13*x₄*x₂^3 - 4.48419975913027e-12*x₄*x₃ - 2.77764201729856e-12*x₄*x₃^2 + 2.34116884849297e-11*x₄*x₃^3 - 8.64455295927787e-14*x₄^2*x₁ + 2.64375481343926e-12*x₄^2*x₁^2 + 4.06709996742955e-13*x₄^2*x₂ - 3.85309680394259e-13*x₄^2*x₂^2 + 2.18937209127582e-12*x₄^2*x₃ + 1.0180306700112e-11*x₄^2*x₃^2 + 1.1063344942023e-13*x₄^3*x₁ + 1.85487668324053e-12*x₄^3*x₂ - 1.89317566764012e-11*x₄^3*x₃ + 2.2784952874855e-14*x₂*x₃*x₁ + 4.68418374883084e-14*x₂*x₃*x₁^2 - 2.327443025018e-14*x₂*x₃^2*x₁ + 1.66972422379096e-14*x₂^2*x₃*x₁ + 2.18218867629219e-14*x₄*x₂*x₁ + 3.58730883083592e-13*x₄*x₂*x₁^2 + 1.59074121998002e-13*x₄*x₂*x₃ + 1.12492316612656e-13*x₄*x₂*x₃^2 + 1.57300419288417e-13*x₄*x₂^2*x₁ - 1.45597926320745e-13*x₄*x₂^2*x₃ + 7.48844921420038e-15*x₄*x₃*x₁ - 2.93428570310535e-12*x₄*x₃*x₁^2 - 1.99115951685148e-13*x₄*x₃^2*x₁ - 2.17269790320115e-13*x₄^2*x₂*x₁ + 2.23629689243383e-12*x₄^2*x₂*x₃ + 1.62711598517105e-13*x₄^2*x₃*x₁ + 1.98554207462727e-14*x₄*x₂*x₃*x₁ + 4.35671953721173e-13*x₁^2 - 5.26112223173511e-14*x₁^3 - 1.61731549634701e-12*x₁^4 + 1.11660802626297e-13*x₂^2 + 1.14591165432475e-13*x₂^3 - 3.98650764982161e-13*x₂^4 - 3.49038085786876e-12*x₃^2 + 9.34012903451307e-13*x₃^3 - 2.01876359005708e-14*x₃^4 - 5.20432934510525e-11*x₄^2 - 8.96542399699046e-12*x₄^3 + 8.19128018967624e-11*x₄^4"
      ]
     },
     "metadata": {},
     "output_type": "display_data"
    }
   ],
   "source": [
    "using DynamicPolynomials, HomotopyContinuation, ProgressLogging, DataFrames\n",
    "@polyvar(x[1:n]) # Define polynomial ring \n",
    "ap = main_nd(n, d, poly_approx.coeffs)\n",
    "# Expand the polynomial approximant to the standard monomial basis in the Lexicographic order w.r.t x. \n",
    "PolynomialApproximant = sum(Float64.(ap) .* MonomialVector(x, 0:d))\n",
    "grad = differentiate.(PolynomialApproximant, x)\n",
    "sys = System(grad)"
   ]
  },
  {
   "cell_type": "markdown",
   "metadata": {},
   "source": [
    "Now we use Optim.jl package to initialize step 3 and converge to the local minimizers.\n",
    "How do we know we have everything ? Use simple combinations of "
   ]
  },
  {
   "cell_type": "code",
   "execution_count": 4,
   "metadata": {},
   "outputs": [
    {
     "name": "stdout",
     "output_type": "stream",
     "text": [
      "\u001b[32mTracking 256 paths...   1%|▎                            |  ETA: 0:34:03\u001b[39m\u001b[K\n",
      "\n",
      "\n",
      "\n",
      "\u001b[32mTracking 256 paths...  98%|████████████████████████████▌|  ETA: 0:00:00\u001b[39m\u001b[K\n",
      "\n",
      "\n",
      "\n",
      "\u001b[32mTracking 256 paths... 100%|█████████████████████████████| Time: 0:00:17\u001b[39m\u001b[K\n",
      "\u001b[34m  # paths tracked:                  256\u001b[39m\u001b[K\n",
      "\u001b[34m  # non-singular solutions (real):  256 (32)\u001b[39m\u001b[K\n",
      "\u001b[34m  # singular endpoints (real):      0 (0)\u001b[39m\u001b[K\n",
      "\u001b[34m  # total solutions (real):         256 (32)\u001b[39m\u001b[K\n"
     ]
    },
    {
     "data": {
      "text/plain": [
       "32-element Vector{Vector{Float64}}:\n",
       " [-3.067022722077811, 14874.258144398214, 2.8059131021667176, -8930.87589930782]\n",
       " [-1.1108780878610012e13, -4.224637444555244e13, -7.0089891669144e13, 7.665244060006493e11]\n",
       " [-1.44648733878844e15, -3.5797202629692206e14, -3.1843841764107256e14, 4.8239073717796644e14]\n",
       " [-2.294495120706291e15, 6.5475613549742e14, 4.6249346812808306e14, -7.786081243524572e14]\n",
       " [3.081590821241988e-16, 9.414512480044321e-15, -0.4675786647103389, 0.23378933235511085]\n",
       " [1.259026563750613e13, 4.424046636910685e13, -7.095986899303712e13, 3.765443292143204e13]\n",
       " [-2.2939174301768325e12, -3.901139806057607e13, -6.7260499001253e13, 3.560987822678037e13]\n",
       " [-0.4675786647103433, 0.23378933235517138, -0.46757866471033915, 0.23378933235511853]\n",
       " [-2.866430388800613e15, -5.292522836576857e14, -5.986092922697139e14, -1.0638705220629731e15]\n",
       " [-0.46757866471034315, 0.23378933235515748, 2.148507232967405e-15, -7.358385857315489e-14]\n",
       " ⋮\n",
       " [1.3870756260537291e13, 4.398958283288187e13, -7.41683743528109e13, 7.47959502713135e11]\n",
       " [-1.2917246788480448e15, 2.7149019246636175e14, 2.4186554814902478e14, 4.701031719477194e14]\n",
       " [-1.3316229623510754e12, 4.4209757916230484e13, -7.432851067248572e13, 8.22763277563304e11]\n",
       " [-1.46875838948928e15, 2.534242220143408e14, -3.2517799233358956e14, 4.8199694016519444e14]\n",
       " [-2.235179531801136e15, -3.235360778732449e14, 4.5157927057797425e14, -7.481719907357002e14]\n",
       " [2.602895456512723e-16, 5.56560210176414e-15, 0.46757866471034343, -0.23378933235513172]\n",
       " [-8.83221567504965e12, -3.900945598415125e13, -6.724280591845479e13, 3.554138874763345e13]\n",
       " [-0.4675786647103433, 0.23378933235516788, 0.46757866471034354, -0.23378933235514235]\n",
       " [0.46757866471034354, -0.23378933235517615, -0.46757866471033904, 0.2337893323551124]"
      ]
     },
     "metadata": {},
     "output_type": "display_data"
    }
   ],
   "source": [
    "Real_sol_lstsq = HomotopyContinuation.solve(sys)\n",
    "real_pts = HomotopyContinuation.real_solutions(Real_sol_lstsq; only_real=true, multiple_results=false)"
   ]
  },
  {
   "cell_type": "markdown",
   "metadata": {},
   "source": [
    "Construct a Dataframe with only the critical points of the approximant $w_d$ which fall into the $[-1, 1]^4$ domain and rescale them to the original domain. "
   ]
  },
  {
   "cell_type": "code",
   "execution_count": 5,
   "metadata": {},
   "outputs": [],
   "source": [
    "condition(point) = -1 < point[1] < 1 && -1 < point[2] < 1 && -1 < point[3] < 1 && -1 < point[4] < 1 \n",
    "filtered_points = filter(condition, real_pts) # Filter points using the filter function\n",
    "# Colllect the critical points of the approximant \n",
    "h_x1 = scale_factor * Float64[point[1] for point in filtered_points] # Initialize the x vector for critical points of approximant\n",
    "h_x2 = scale_factor * Float64[point[2] for point in filtered_points] \n",
    "h_x3 = scale_factor * Float64[point[3] for point in filtered_points] \n",
    "h_x4 = scale_factor * Float64[point[4] for point in filtered_points] \n",
    "\n",
    "height = map(p -> f(p), zip(h_x1, h_x2, h_x3, h_x4)) # Compute the height of the critical points\n",
    "df = DataFrame(x1 = h_x1, x2 = h_x2, x3 = h_x3, x4 = h_x4, height = height); # Create a DataFrame"
   ]
  },
  {
   "cell_type": "markdown",
   "metadata": {},
   "source": [
    "Now we want to compute the distance between the critical points of the 2d function.\n",
    "\n",
    "The true \"exact\" critical points of the 2d `Camel3` function are stored in `df_2d`. \n",
    "\n",
    "We compute which of those are the closest to the `[1:2]` and `[3:4]` coordinates of the critical points of our 4d approximant.  \n",
    "\n",
    "The true critical points are stored in `df_2d`. Need to split to distance to minima first coordinate and second set of coordinates ten combine them.\n"
   ]
  },
  {
   "cell_type": "code",
   "execution_count": 6,
   "metadata": {},
   "outputs": [
    {
     "data": {
      "text/html": [
       "<div><div style = \"float: left;\"><span>9×6 DataFrame</span></div><div style = \"clear: both;\"></div></div><div class = \"data-frame\" style = \"overflow-x: scroll;\"><table class = \"data-frame\" style = \"margin-bottom: 6px;\"><thead><tr class = \"header\"><th class = \"rowNumber\" style = \"font-weight: bold; text-align: right;\">Row</th><th style = \"text-align: left;\">x1</th><th style = \"text-align: left;\">x2</th><th style = \"text-align: left;\">x3</th><th style = \"text-align: left;\">x4</th><th style = \"text-align: left;\">height</th><th style = \"text-align: left;\">total_distance</th></tr><tr class = \"subheader headerLastRow\"><th class = \"rowNumber\" style = \"font-weight: bold; text-align: right;\"></th><th title = \"Float64\" style = \"text-align: left;\">Float64</th><th title = \"Float64\" style = \"text-align: left;\">Float64</th><th title = \"Float64\" style = \"text-align: left;\">Float64</th><th title = \"Float64\" style = \"text-align: left;\">Float64</th><th title = \"Float64\" style = \"text-align: left;\">Float64</th><th title = \"Float64\" style = \"text-align: left;\">Float64</th></tr></thead><tbody><tr><td class = \"rowNumber\" style = \"font-weight: bold; text-align: right;\">1</td><td style = \"text-align: right;\">9.79785e-16</td><td style = \"text-align: right;\">-4.54516e-15</td><td style = \"text-align: right;\">1.08709e-14</td><td style = \"text-align: right;\">-3.71825e-13</td><td style = \"text-align: right;\">1.34466e-25</td><td style = \"text-align: right;\">3.16521e-13</td></tr><tr><td class = \"rowNumber\" style = \"font-weight: bold; text-align: right;\">2</td><td style = \"text-align: right;\">1.5408e-15</td><td style = \"text-align: right;\">4.70726e-14</td><td style = \"text-align: right;\">-2.33789</td><td style = \"text-align: right;\">1.16895</td><td style = \"text-align: right;\">5.41125</td><td style = \"text-align: right;\">0.735762</td></tr><tr><td class = \"rowNumber\" style = \"font-weight: bold; text-align: right;\">3</td><td style = \"text-align: right;\">1.30145e-15</td><td style = \"text-align: right;\">2.7828e-14</td><td style = \"text-align: right;\">2.33789</td><td style = \"text-align: right;\">-1.16895</td><td style = \"text-align: right;\">5.41125</td><td style = \"text-align: right;\">0.735762</td></tr><tr><td class = \"rowNumber\" style = \"font-weight: bold; text-align: right;\">4</td><td style = \"text-align: right;\">-2.33789</td><td style = \"text-align: right;\">1.16895</td><td style = \"text-align: right;\">1.07425e-14</td><td style = \"text-align: right;\">-3.67919e-13</td><td style = \"text-align: right;\">5.41125</td><td style = \"text-align: right;\">0.735762</td></tr><tr><td class = \"rowNumber\" style = \"font-weight: bold; text-align: right;\">5</td><td style = \"text-align: right;\">2.33789</td><td style = \"text-align: right;\">-1.16895</td><td style = \"text-align: right;\">1.05709e-14</td><td style = \"text-align: right;\">-3.78512e-13</td><td style = \"text-align: right;\">5.41125</td><td style = \"text-align: right;\">0.735762</td></tr><tr><td class = \"rowNumber\" style = \"font-weight: bold; text-align: right;\">6</td><td style = \"text-align: right;\">-2.33789</td><td style = \"text-align: right;\">1.16895</td><td style = \"text-align: right;\">-2.33789</td><td style = \"text-align: right;\">1.16895</td><td style = \"text-align: right;\">10.8225</td><td style = \"text-align: right;\">1.04053</td></tr><tr><td class = \"rowNumber\" style = \"font-weight: bold; text-align: right;\">7</td><td style = \"text-align: right;\">2.33789</td><td style = \"text-align: right;\">-1.16895</td><td style = \"text-align: right;\">-2.33789</td><td style = \"text-align: right;\">1.16895</td><td style = \"text-align: right;\">10.8225</td><td style = \"text-align: right;\">1.04053</td></tr><tr><td class = \"rowNumber\" style = \"font-weight: bold; text-align: right;\">8</td><td style = \"text-align: right;\">-2.33789</td><td style = \"text-align: right;\">1.16895</td><td style = \"text-align: right;\">2.33789</td><td style = \"text-align: right;\">-1.16895</td><td style = \"text-align: right;\">10.8225</td><td style = \"text-align: right;\">1.04053</td></tr><tr><td class = \"rowNumber\" style = \"font-weight: bold; text-align: right;\">9</td><td style = \"text-align: right;\">2.33789</td><td style = \"text-align: right;\">-1.16895</td><td style = \"text-align: right;\">2.33789</td><td style = \"text-align: right;\">-1.16895</td><td style = \"text-align: right;\">10.8225</td><td style = \"text-align: right;\">1.04053</td></tr></tbody></table></div>"
      ],
      "text/latex": [
       "\\begin{tabular}{r|cccccc}\n",
       "\t& x1 & x2 & x3 & x4 & height & total\\_distance\\\\\n",
       "\t\\hline\n",
       "\t& Float64 & Float64 & Float64 & Float64 & Float64 & Float64\\\\\n",
       "\t\\hline\n",
       "\t1 & 9.79785e-16 & -4.54516e-15 & 1.08709e-14 & -3.71825e-13 & 1.34466e-25 & 3.16521e-13 \\\\\n",
       "\t2 & 1.5408e-15 & 4.70726e-14 & -2.33789 & 1.16895 & 5.41125 & 0.735762 \\\\\n",
       "\t3 & 1.30145e-15 & 2.7828e-14 & 2.33789 & -1.16895 & 5.41125 & 0.735762 \\\\\n",
       "\t4 & -2.33789 & 1.16895 & 1.07425e-14 & -3.67919e-13 & 5.41125 & 0.735762 \\\\\n",
       "\t5 & 2.33789 & -1.16895 & 1.05709e-14 & -3.78512e-13 & 5.41125 & 0.735762 \\\\\n",
       "\t6 & -2.33789 & 1.16895 & -2.33789 & 1.16895 & 10.8225 & 1.04053 \\\\\n",
       "\t7 & 2.33789 & -1.16895 & -2.33789 & 1.16895 & 10.8225 & 1.04053 \\\\\n",
       "\t8 & -2.33789 & 1.16895 & 2.33789 & -1.16895 & 10.8225 & 1.04053 \\\\\n",
       "\t9 & 2.33789 & -1.16895 & 2.33789 & -1.16895 & 10.8225 & 1.04053 \\\\\n",
       "\\end{tabular}\n"
      ],
      "text/plain": [
       "\u001b[1m9×6 DataFrame\u001b[0m\n",
       "\u001b[1m Row \u001b[0m│\u001b[1m x1           \u001b[0m\u001b[1m x2           \u001b[0m\u001b[1m x3           \u001b[0m\u001b[1m x4           \u001b[0m\u001b[1m height       \u001b[0m\u001b[1m t\u001b[0m ⋯\n",
       "     │\u001b[90m Float64      \u001b[0m\u001b[90m Float64      \u001b[0m\u001b[90m Float64      \u001b[0m\u001b[90m Float64      \u001b[0m\u001b[90m Float64      \u001b[0m\u001b[90m F\u001b[0m ⋯\n",
       "─────┼──────────────────────────────────────────────────────────────────────────\n",
       "   1 │  9.79785e-16  -4.54516e-15   1.08709e-14  -3.71825e-13   1.34466e-25    ⋯\n",
       "   2 │  1.5408e-15    4.70726e-14  -2.33789       1.16895       5.41125\n",
       "   3 │  1.30145e-15   2.7828e-14    2.33789      -1.16895       5.41125\n",
       "   4 │ -2.33789       1.16895       1.07425e-14  -3.67919e-13   5.41125\n",
       "   5 │  2.33789      -1.16895       1.05709e-14  -3.78512e-13   5.41125        ⋯\n",
       "   6 │ -2.33789       1.16895      -2.33789       1.16895      10.8225\n",
       "   7 │  2.33789      -1.16895      -2.33789       1.16895      10.8225\n",
       "   8 │ -2.33789       1.16895       2.33789      -1.16895      10.8225\n",
       "   9 │  2.33789      -1.16895       2.33789      -1.16895      10.8225         ⋯\n",
       "\u001b[36m                                                                1 column omitted\u001b[0m"
      ]
     },
     "metadata": {},
     "output_type": "display_data"
    }
   ],
   "source": [
    "total_distance = Float64[]\n",
    "for i in 1:nrow(df)\n",
    "    distances_1 = [norm([df.x1[i], df.x2[i]] - [df_2d.x[j], df_2d.y[j]]) for j in 1:nrow(df_2d)]\n",
    "    distances_2 = [norm([df.x3[i], df.x4[i]] - [df_2d.x[j], df_2d.y[j]]) for j in 1:nrow(df_2d)]\n",
    "    # Compute distances to all points in df_2d\n",
    "    min_value_1, min_index_1 = findmin(distances_1)\n",
    "    min_value_2, min_index_2 = findmin(distances_2) \n",
    "\n",
    "    # Extract the corresponding points\n",
    "    point_1 = [df.x1[i], df.x2[i], df.x3[i], df.x4[i]]\n",
    "    point_2 = [df_2d.x[min_index_1], df_2d.y[min_index_1], df_2d.x[min_index_2], df_2d.y[min_index_2]]\n",
    "\n",
    "    # Compute total distance\n",
    "    tot_dist = norm(point_1 - point_2)\n",
    "    push!(total_distance, tot_dist)\n",
    "\n",
    "end\n",
    "df.total_distance = total_distance\n",
    "sorted_df = sort(df, :total_distance)\n"
   ]
  },
  {
   "cell_type": "code",
   "execution_count": 7,
   "metadata": {},
   "outputs": [
    {
     "data": {
      "text/html": [
       "<div><div style = \"float: left;\"><span>9×8 DataFrame</span></div><div style = \"clear: both;\"></div></div><div class = \"data-frame\" style = \"overflow-x: scroll;\"><table class = \"data-frame\" style = \"margin-bottom: 6px;\"><thead><tr class = \"header\"><th class = \"rowNumber\" style = \"font-weight: bold; text-align: right;\">Row</th><th style = \"text-align: left;\">x1</th><th style = \"text-align: left;\">x2</th><th style = \"text-align: left;\">x3</th><th style = \"text-align: left;\">x4</th><th style = \"text-align: left;\">height</th><th style = \"text-align: left;\">total_distance</th><th style = \"text-align: left;\">steps</th><th style = \"text-align: left;\">converged</th></tr><tr class = \"subheader headerLastRow\"><th class = \"rowNumber\" style = \"font-weight: bold; text-align: right;\"></th><th title = \"Float64\" style = \"text-align: left;\">Float64</th><th title = \"Float64\" style = \"text-align: left;\">Float64</th><th title = \"Float64\" style = \"text-align: left;\">Float64</th><th title = \"Float64\" style = \"text-align: left;\">Float64</th><th title = \"Float64\" style = \"text-align: left;\">Float64</th><th title = \"Float64\" style = \"text-align: left;\">Float64</th><th title = \"Float64\" style = \"text-align: left;\">Float64</th><th title = \"Float64\" style = \"text-align: left;\">Float64</th></tr></thead><tbody><tr><td class = \"rowNumber\" style = \"font-weight: bold; text-align: right;\">1</td><td style = \"text-align: right;\">1.5408e-15</td><td style = \"text-align: right;\">4.70726e-14</td><td style = \"text-align: right;\">-2.33789</td><td style = \"text-align: right;\">1.16895</td><td style = \"text-align: right;\">5.41125</td><td style = \"text-align: right;\">0.735762</td><td style = \"text-align: right;\">8.0</td><td style = \"text-align: right;\">1.0</td></tr><tr><td class = \"rowNumber\" style = \"font-weight: bold; text-align: right;\">2</td><td style = \"text-align: right;\">-2.33789</td><td style = \"text-align: right;\">1.16895</td><td style = \"text-align: right;\">-2.33789</td><td style = \"text-align: right;\">1.16895</td><td style = \"text-align: right;\">10.8225</td><td style = \"text-align: right;\">1.04053</td><td style = \"text-align: right;\">8.0</td><td style = \"text-align: right;\">1.0</td></tr><tr><td class = \"rowNumber\" style = \"font-weight: bold; text-align: right;\">3</td><td style = \"text-align: right;\">-2.33789</td><td style = \"text-align: right;\">1.16895</td><td style = \"text-align: right;\">1.07425e-14</td><td style = \"text-align: right;\">-3.67919e-13</td><td style = \"text-align: right;\">5.41125</td><td style = \"text-align: right;\">0.735762</td><td style = \"text-align: right;\">8.0</td><td style = \"text-align: right;\">1.0</td></tr><tr><td class = \"rowNumber\" style = \"font-weight: bold; text-align: right;\">4</td><td style = \"text-align: right;\">2.33789</td><td style = \"text-align: right;\">-1.16895</td><td style = \"text-align: right;\">1.05709e-14</td><td style = \"text-align: right;\">-3.78512e-13</td><td style = \"text-align: right;\">5.41125</td><td style = \"text-align: right;\">0.735762</td><td style = \"text-align: right;\">8.0</td><td style = \"text-align: right;\">1.0</td></tr><tr><td class = \"rowNumber\" style = \"font-weight: bold; text-align: right;\">5</td><td style = \"text-align: right;\">2.33789</td><td style = \"text-align: right;\">-1.16895</td><td style = \"text-align: right;\">2.33789</td><td style = \"text-align: right;\">-1.16895</td><td style = \"text-align: right;\">10.8225</td><td style = \"text-align: right;\">1.04053</td><td style = \"text-align: right;\">8.0</td><td style = \"text-align: right;\">1.0</td></tr><tr><td class = \"rowNumber\" style = \"font-weight: bold; text-align: right;\">6</td><td style = \"text-align: right;\">9.79785e-16</td><td style = \"text-align: right;\">-4.54516e-15</td><td style = \"text-align: right;\">1.08709e-14</td><td style = \"text-align: right;\">-3.71825e-13</td><td style = \"text-align: right;\">1.34466e-25</td><td style = \"text-align: right;\">3.16521e-13</td><td style = \"text-align: right;\">0.0</td><td style = \"text-align: right;\">1.0</td></tr><tr><td class = \"rowNumber\" style = \"font-weight: bold; text-align: right;\">7</td><td style = \"text-align: right;\">1.30145e-15</td><td style = \"text-align: right;\">2.7828e-14</td><td style = \"text-align: right;\">2.33789</td><td style = \"text-align: right;\">-1.16895</td><td style = \"text-align: right;\">5.41125</td><td style = \"text-align: right;\">0.735762</td><td style = \"text-align: right;\">8.0</td><td style = \"text-align: right;\">1.0</td></tr><tr><td class = \"rowNumber\" style = \"font-weight: bold; text-align: right;\">8</td><td style = \"text-align: right;\">-2.33789</td><td style = \"text-align: right;\">1.16895</td><td style = \"text-align: right;\">2.33789</td><td style = \"text-align: right;\">-1.16895</td><td style = \"text-align: right;\">10.8225</td><td style = \"text-align: right;\">1.04053</td><td style = \"text-align: right;\">8.0</td><td style = \"text-align: right;\">1.0</td></tr><tr><td class = \"rowNumber\" style = \"font-weight: bold; text-align: right;\">9</td><td style = \"text-align: right;\">2.33789</td><td style = \"text-align: right;\">-1.16895</td><td style = \"text-align: right;\">-2.33789</td><td style = \"text-align: right;\">1.16895</td><td style = \"text-align: right;\">10.8225</td><td style = \"text-align: right;\">1.04053</td><td style = \"text-align: right;\">8.0</td><td style = \"text-align: right;\">1.0</td></tr></tbody></table></div>"
      ],
      "text/latex": [
       "\\begin{tabular}{r|ccccccc}\n",
       "\t& x1 & x2 & x3 & x4 & height & total\\_distance & \\\\\n",
       "\t\\hline\n",
       "\t& Float64 & Float64 & Float64 & Float64 & Float64 & Float64 & \\\\\n",
       "\t\\hline\n",
       "\t1 & 1.5408e-15 & 4.70726e-14 & -2.33789 & 1.16895 & 5.41125 & 0.735762 & $\\dots$ \\\\\n",
       "\t2 & -2.33789 & 1.16895 & -2.33789 & 1.16895 & 10.8225 & 1.04053 & $\\dots$ \\\\\n",
       "\t3 & -2.33789 & 1.16895 & 1.07425e-14 & -3.67919e-13 & 5.41125 & 0.735762 & $\\dots$ \\\\\n",
       "\t4 & 2.33789 & -1.16895 & 1.05709e-14 & -3.78512e-13 & 5.41125 & 0.735762 & $\\dots$ \\\\\n",
       "\t5 & 2.33789 & -1.16895 & 2.33789 & -1.16895 & 10.8225 & 1.04053 & $\\dots$ \\\\\n",
       "\t6 & 9.79785e-16 & -4.54516e-15 & 1.08709e-14 & -3.71825e-13 & 1.34466e-25 & 3.16521e-13 & $\\dots$ \\\\\n",
       "\t7 & 1.30145e-15 & 2.7828e-14 & 2.33789 & -1.16895 & 5.41125 & 0.735762 & $\\dots$ \\\\\n",
       "\t8 & -2.33789 & 1.16895 & 2.33789 & -1.16895 & 10.8225 & 1.04053 & $\\dots$ \\\\\n",
       "\t9 & 2.33789 & -1.16895 & -2.33789 & 1.16895 & 10.8225 & 1.04053 & $\\dots$ \\\\\n",
       "\\end{tabular}\n"
      ],
      "text/plain": [
       "\u001b[1m9×8 DataFrame\u001b[0m\n",
       "\u001b[1m Row \u001b[0m│\u001b[1m x1           \u001b[0m\u001b[1m x2           \u001b[0m\u001b[1m x3           \u001b[0m\u001b[1m x4           \u001b[0m\u001b[1m height       \u001b[0m\u001b[1m t\u001b[0m ⋯\n",
       "     │\u001b[90m Float64      \u001b[0m\u001b[90m Float64      \u001b[0m\u001b[90m Float64      \u001b[0m\u001b[90m Float64      \u001b[0m\u001b[90m Float64      \u001b[0m\u001b[90m F\u001b[0m ⋯\n",
       "─────┼──────────────────────────────────────────────────────────────────────────\n",
       "   1 │  1.5408e-15    4.70726e-14  -2.33789       1.16895       5.41125        ⋯\n",
       "   2 │ -2.33789       1.16895      -2.33789       1.16895      10.8225\n",
       "   3 │ -2.33789       1.16895       1.07425e-14  -3.67919e-13   5.41125\n",
       "   4 │  2.33789      -1.16895       1.05709e-14  -3.78512e-13   5.41125\n",
       "   5 │  2.33789      -1.16895       2.33789      -1.16895      10.8225         ⋯\n",
       "   6 │  9.79785e-16  -4.54516e-15   1.08709e-14  -3.71825e-13   1.34466e-25\n",
       "   7 │  1.30145e-15   2.7828e-14    2.33789      -1.16895       5.41125\n",
       "   8 │ -2.33789       1.16895       2.33789      -1.16895      10.8225\n",
       "   9 │  2.33789      -1.16895      -2.33789       1.16895      10.8225         ⋯\n",
       "\u001b[36m                                                               3 columns omitted\u001b[0m"
      ]
     },
     "metadata": {},
     "output_type": "display_data"
    }
   ],
   "source": [
    "using Optim\n",
    "df.steps = zeros(nrow(df))\n",
    "df.converged = zeros(nrow(df))\n",
    "\n",
    "for i in 1:nrow(df)\n",
    "    # println(\"Optimizing for point $i\")\n",
    "    x0 = [df.x1[i], df.x2[i], df.x3[i], df.x4[i]]\n",
    "    #  + 0.2 * randn(Float64, 4)\n",
    "    res = Optim.optimize(f, x0, LBFGS(), Optim.Options(show_trace=false))\n",
    "    minimizer = Optim.minimizer(res)\n",
    "    min_value = Optim.minimum(res)\n",
    "    steps = res.iterations\n",
    "    converged = Optim.converged(res)\n",
    "    distance = norm(x0 - minimizer)\n",
    "    # df.dist_to_loc_min[i] = distance\n",
    "    df.steps[i] = steps\n",
    "    df.converged[i] = converged\n",
    "    # summary(res)\n",
    "end\n",
    "df"
   ]
  }
 ],
 "metadata": {
  "kernelspec": {
   "display_name": "Julia 1.10.4",
   "language": "julia",
   "name": "julia-1.10"
  },
  "language_info": {
   "file_extension": ".jl",
   "mimetype": "application/julia",
   "name": "julia",
   "version": "1.10.4"
  }
 },
 "nbformat": 4,
 "nbformat_minor": 2
}
