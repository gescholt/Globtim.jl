{
 "cells": [
  {
   "cell_type": "markdown",
   "metadata": {},
   "source": [
    "## Deuflhard Function"
   ]
  },
  {
   "cell_type": "code",
   "execution_count": 1,
   "metadata": {},
   "outputs": [
    {
     "name": "stderr",
     "output_type": "stream",
     "text": [
      "\u001b[32m\u001b[1m  Activating\u001b[22m\u001b[39m project at `~/globtim`\n"
     ]
    }
   ],
   "source": [
    "using Pkg\n",
    "Pkg.activate(\"../../.\")\n",
    "using GLMakie\n",
    "GLMakie.activate!()\n",
    "\n",
    "using Globtim\n",
    "using DynamicPolynomials, DataFrames\n",
    "using ProgressLogging"
   ]
  },
  {
   "cell_type": "code",
   "execution_count": 2,
   "metadata": {},
   "outputs": [
    {
     "data": {
      "text/plain": [
       "Deuflhard (generic function with 1 method)"
      ]
     },
     "metadata": {},
     "output_type": "display_data"
    }
   ],
   "source": [
    "# Constants and Parameters\n",
    "const n, a, b = 2, 7, 5\n",
    "f = Deuflhard # Objective function"
   ]
  },
  {
   "cell_type": "code",
   "execution_count": 3,
   "metadata": {},
   "outputs": [
    {
     "name": "stdout",
     "output_type": "stream",
     "text": [
      "current L2-norm: 21.424220743089837\n",
      "current L2-norm: 15.10801462477852\n"
     ]
    }
   ],
   "source": [
    "d = 8 # Initial Degree \n",
    "SMPL = 100 # Number of samples\n",
    "center = [0.0, 0.0]\n",
    "TR = test_input(f,\n",
    "                dim=n,\n",
    "                center=[0.0, 0.0],\n",
    "                GN=SMPL,\n",
    "                sample_range=[1.2, 1.5]\n",
    "                )\n",
    "pol_cheb = Constructor(TR, d, basis=:chebyshev)\n",
    "pol_lege = Constructor(TR, d, basis=:legendre);\n"
   ]
  },
  {
   "cell_type": "code",
   "execution_count": 4,
   "metadata": {},
   "outputs": [
    {
     "name": "stdout",
     "output_type": "stream",
     "text": [
      "\u001b[32mTracking 49 paths...   4%|█▎                            |  ETA: 0:01:10\u001b[39m\u001b[K\n",
      "\n",
      "\n",
      "\n",
      "\u001b[32mTracking 49 paths... 100%|██████████████████████████████| Time: 0:00:03\u001b[39m\u001b[K\n",
      "\u001b[34m                   # paths tracked: 49\u001b[39m\u001b[K\n",
      "\u001b[34m   # non-singular solutions (real): 49 (13)\u001b[39m\u001b[K\n",
      "\u001b[34m       # singular endpoints (real): 0 (0)\u001b[39m\u001b[K\n",
      "\u001b[34m          # total solutions (real): 49 (13)\u001b[39m\u001b[K\n",
      "\u001b[32mTracking 49 paths...   4%|█▎                            |  ETA: 0:00:18\u001b[39m\u001b[K\n",
      "\n",
      "\n",
      "\n",
      "\u001b[32mTracking 49 paths... 100%|██████████████████████████████| Time: 0:00:00\u001b[39m\u001b[K\n",
      "\u001b[34m                   # paths tracked: 49\u001b[39m\u001b[K\n",
      "\u001b[34m   # non-singular solutions (real): 49 (21)\u001b[39m\u001b[K\n",
      "\u001b[34m       # singular endpoints (real): 0 (0)\u001b[39m\u001b[K\n",
      "\u001b[34m          # total solutions (real): 49 (21)\u001b[39m\u001b[K\n"
     ]
    },
    {
     "data": {
      "text/html": [
       "<div><div style = \"float: left;\"><span>21×3 DataFrame</span></div><div style = \"clear: both;\"></div></div><div class = \"data-frame\" style = \"overflow-x: scroll;\"><table class = \"data-frame\" style = \"margin-bottom: 6px;\"><thead><tr class = \"header\"><th class = \"rowNumber\" style = \"font-weight: bold; text-align: right;\">Row</th><th style = \"text-align: left;\">x1</th><th style = \"text-align: left;\">x2</th><th style = \"text-align: left;\">z</th></tr><tr class = \"subheader headerLastRow\"><th class = \"rowNumber\" style = \"font-weight: bold; text-align: right;\"></th><th title = \"Float64\" style = \"text-align: left;\">Float64</th><th title = \"Float64\" style = \"text-align: left;\">Float64</th><th title = \"Float64\" style = \"text-align: left;\">Float64</th></tr></thead><tbody><tr><td class = \"rowNumber\" style = \"font-weight: bold; text-align: right;\">1</td><td style = \"text-align: right;\">0.964884</td><td style = \"text-align: right;\">0.913678</td><td style = \"text-align: right;\">14.2605</td></tr><tr><td class = \"rowNumber\" style = \"font-weight: bold; text-align: right;\">2</td><td style = \"text-align: right;\">-0.546579</td><td style = \"text-align: right;\">1.14957</td><td style = \"text-align: right;\">4.35653</td></tr><tr><td class = \"rowNumber\" style = \"font-weight: bold; text-align: right;\">3</td><td style = \"text-align: right;\">-0.499227</td><td style = \"text-align: right;\">0.398524</td><td style = \"text-align: right;\">2.27712</td></tr><tr><td class = \"rowNumber\" style = \"font-weight: bold; text-align: right;\">4</td><td style = \"text-align: right;\">-0.728276</td><td style = \"text-align: right;\">0.833521</td><td style = \"text-align: right;\">0.205883</td></tr><tr><td class = \"rowNumber\" style = \"font-weight: bold; text-align: right;\">5</td><td style = \"text-align: right;\">0.735304</td><td style = \"text-align: right;\">0.868961</td><td style = \"text-align: right;\">7.18343</td></tr><tr><td class = \"rowNumber\" style = \"font-weight: bold; text-align: right;\">6</td><td style = \"text-align: right;\">0.728276</td><td style = \"text-align: right;\">-0.833521</td><td style = \"text-align: right;\">0.205883</td></tr><tr><td class = \"rowNumber\" style = \"font-weight: bold; text-align: right;\">7</td><td style = \"text-align: right;\">0.499227</td><td style = \"text-align: right;\">-0.398524</td><td style = \"text-align: right;\">2.27712</td></tr><tr><td class = \"rowNumber\" style = \"font-weight: bold; text-align: right;\">8</td><td style = \"text-align: right;\">-2.74365e-17</td><td style = \"text-align: right;\">-1.64467e-15</td><td style = \"text-align: right;\">4.0</td></tr><tr><td class = \"rowNumber\" style = \"font-weight: bold; text-align: right;\">9</td><td style = \"text-align: right;\">-1.05998</td><td style = \"text-align: right;\">-0.716852</td><td style = \"text-align: right;\">11.3054</td></tr><tr><td class = \"rowNumber\" style = \"font-weight: bold; text-align: right;\">10</td><td style = \"text-align: right;\">-0.483387</td><td style = \"text-align: right;\">-0.381815</td><td style = \"text-align: right;\">2.48674</td></tr><tr><td class = \"rowNumber\" style = \"font-weight: bold; text-align: right;\">11</td><td style = \"text-align: right;\">0.546579</td><td style = \"text-align: right;\">-1.14957</td><td style = \"text-align: right;\">4.35653</td></tr><tr><td class = \"rowNumber\" style = \"font-weight: bold; text-align: right;\">12</td><td style = \"text-align: right;\">-0.576934</td><td style = \"text-align: right;\">-1.12996</td><td style = \"text-align: right;\">10.8937</td></tr><tr><td class = \"rowNumber\" style = \"font-weight: bold; text-align: right;\">13</td><td style = \"text-align: right;\">-0.735304</td><td style = \"text-align: right;\">-0.868961</td><td style = \"text-align: right;\">7.18343</td></tr><tr><td class = \"rowNumber\" style = \"font-weight: bold; text-align: right;\">14</td><td style = \"text-align: right;\">-0.964884</td><td style = \"text-align: right;\">-0.913678</td><td style = \"text-align: right;\">14.2605</td></tr><tr><td class = \"rowNumber\" style = \"font-weight: bold; text-align: right;\">15</td><td style = \"text-align: right;\">1.05998</td><td style = \"text-align: right;\">0.716852</td><td style = \"text-align: right;\">11.3054</td></tr><tr><td class = \"rowNumber\" style = \"font-weight: bold; text-align: right;\">16</td><td style = \"text-align: right;\">-0.721454</td><td style = \"text-align: right;\">0.0312841</td><td style = \"text-align: right;\">1.76569</td></tr><tr><td class = \"rowNumber\" style = \"font-weight: bold; text-align: right;\">17</td><td style = \"text-align: right;\">0.0238902</td><td style = \"text-align: right;\">-0.699247</td><td style = \"text-align: right;\">1.92234</td></tr><tr><td class = \"rowNumber\" style = \"font-weight: bold; text-align: right;\">18</td><td style = \"text-align: right;\">0.721454</td><td style = \"text-align: right;\">-0.0312841</td><td style = \"text-align: right;\">1.76569</td></tr><tr><td class = \"rowNumber\" style = \"font-weight: bold; text-align: right;\">19</td><td style = \"text-align: right;\">0.576934</td><td style = \"text-align: right;\">1.12996</td><td style = \"text-align: right;\">10.8937</td></tr><tr><td class = \"rowNumber\" style = \"font-weight: bold; text-align: right;\">20</td><td style = \"text-align: right;\">-0.0238902</td><td style = \"text-align: right;\">0.699247</td><td style = \"text-align: right;\">1.92234</td></tr><tr><td class = \"rowNumber\" style = \"font-weight: bold; text-align: right;\">21</td><td style = \"text-align: right;\">0.483387</td><td style = \"text-align: right;\">0.381815</td><td style = \"text-align: right;\">2.48674</td></tr></tbody></table></div>"
      ],
      "text/latex": [
       "\\begin{tabular}{r|ccc}\n",
       "\t& x1 & x2 & z\\\\\n",
       "\t\\hline\n",
       "\t& Float64 & Float64 & Float64\\\\\n",
       "\t\\hline\n",
       "\t1 & 0.964884 & 0.913678 & 14.2605 \\\\\n",
       "\t2 & -0.546579 & 1.14957 & 4.35653 \\\\\n",
       "\t3 & -0.499227 & 0.398524 & 2.27712 \\\\\n",
       "\t4 & -0.728276 & 0.833521 & 0.205883 \\\\\n",
       "\t5 & 0.735304 & 0.868961 & 7.18343 \\\\\n",
       "\t6 & 0.728276 & -0.833521 & 0.205883 \\\\\n",
       "\t7 & 0.499227 & -0.398524 & 2.27712 \\\\\n",
       "\t8 & -2.74365e-17 & -1.64467e-15 & 4.0 \\\\\n",
       "\t9 & -1.05998 & -0.716852 & 11.3054 \\\\\n",
       "\t10 & -0.483387 & -0.381815 & 2.48674 \\\\\n",
       "\t11 & 0.546579 & -1.14957 & 4.35653 \\\\\n",
       "\t12 & -0.576934 & -1.12996 & 10.8937 \\\\\n",
       "\t13 & -0.735304 & -0.868961 & 7.18343 \\\\\n",
       "\t14 & -0.964884 & -0.913678 & 14.2605 \\\\\n",
       "\t15 & 1.05998 & 0.716852 & 11.3054 \\\\\n",
       "\t16 & -0.721454 & 0.0312841 & 1.76569 \\\\\n",
       "\t17 & 0.0238902 & -0.699247 & 1.92234 \\\\\n",
       "\t18 & 0.721454 & -0.0312841 & 1.76569 \\\\\n",
       "\t19 & 0.576934 & 1.12996 & 10.8937 \\\\\n",
       "\t20 & -0.0238902 & 0.699247 & 1.92234 \\\\\n",
       "\t21 & 0.483387 & 0.381815 & 2.48674 \\\\\n",
       "\\end{tabular}\n"
      ],
      "text/plain": [
       "\u001b[1m21×3 DataFrame\u001b[0m\n",
       "\u001b[1m Row \u001b[0m│\u001b[1m x1           \u001b[0m\u001b[1m x2           \u001b[0m\u001b[1m z         \u001b[0m\n",
       "     │\u001b[90m Float64      \u001b[0m\u001b[90m Float64      \u001b[0m\u001b[90m Float64   \u001b[0m\n",
       "─────┼───────────────────────────────────────\n",
       "   1 │  0.964884      0.913678     14.2605\n",
       "   2 │ -0.546579      1.14957       4.35653\n",
       "   3 │ -0.499227      0.398524      2.27712\n",
       "   4 │ -0.728276      0.833521      0.205883\n",
       "   5 │  0.735304      0.868961      7.18343\n",
       "   6 │  0.728276     -0.833521      0.205883\n",
       "   7 │  0.499227     -0.398524      2.27712\n",
       "   8 │ -2.74365e-17  -1.64467e-15   4.0\n",
       "  ⋮  │      ⋮             ⋮            ⋮\n",
       "  15 │  1.05998       0.716852     11.3054\n",
       "  16 │ -0.721454      0.0312841     1.76569\n",
       "  17 │  0.0238902    -0.699247      1.92234\n",
       "  18 │  0.721454     -0.0312841     1.76569\n",
       "  19 │  0.576934      1.12996      10.8937\n",
       "  20 │ -0.0238902     0.699247      1.92234\n",
       "  21 │  0.483387      0.381815      2.48674\n",
       "\u001b[36m                               6 rows omitted\u001b[0m"
      ]
     },
     "metadata": {},
     "output_type": "display_data"
    }
   ],
   "source": [
    "@polyvar(x[1:n]) # Define polynomial ring \n",
    "real_pts_cheb = solve_polynomial_system(\n",
    "    x, n, d, pol_cheb.coeffs;\n",
    "    basis=pol_cheb.basis,\n",
    "    precision=pol_cheb.precision,\n",
    "    normalized=false,\n",
    "    power_of_two_denom=pol_cheb.power_of_two_denom\n",
    ")\n",
    "\n",
    "real_pts_lege = solve_polynomial_system(\n",
    "    x, n, d, pol_lege.coeffs;\n",
    "    basis=pol_lege.basis,\n",
    "    precision=pol_lege.precision,\n",
    "    normalized=true)\n",
    "\n",
    "df_cheb = process_crit_pts(real_pts_cheb, f, TR)\n",
    "df_lege = process_crit_pts(real_pts_lege, f, TR)"
   ]
  },
  {
   "cell_type": "code",
   "execution_count": 5,
   "metadata": {},
   "outputs": [
    {
     "name": "stdout",
     "output_type": "stream",
     "text": [
      "Processing point 1 of 13\n",
      "Optimization has converged within bounds: \u001b[32m✓\u001b[0m\n",
      "Processing point 2 of 13\n",
      "Optimization has converged within bounds: \u001b[32m✓\u001b[0m\n",
      "Processing point 3 of 13\n",
      "Optimization has converged within bounds: \u001b[32m✓\u001b[0m\n",
      "Processing point 4 of 13\n",
      "Optimization has converged within bounds: \u001b[32m✓\u001b[0m\n",
      "Processing point 5 of 13\n",
      "Optimization has converged within bounds: \u001b[32m✓\u001b[0m\n",
      "Processing point 6 of 13\n",
      "Optimization has converged within bounds: \u001b[32m✓\u001b[0m\n",
      "Processing point 7 of 13\n",
      "Optimization has converged within bounds: \u001b[32m✓\u001b[0m\n",
      "Processing point 8 of 13\n",
      "Optimization has converged within bounds: \u001b[32m✓\u001b[0m\n",
      "Processing point 9 of 13\n",
      "Optimization has converged within bounds: \u001b[32m✓\u001b[0m\n",
      "Processing point 10 of 13\n",
      "Optimization has converged within bounds: \u001b[32m✓\u001b[0m\n",
      "Processing point 11 of 13\n",
      "Optimization has converged within bounds: \u001b[32m✓\u001b[0m\n",
      "Processing point 12 of 13\n",
      "Optimization has converged within bounds: \u001b[32m✓\u001b[0m\n",
      "Processing point 13 of 13\n",
      "Optimization has converged within bounds: \u001b[32m✓\u001b[0m\n",
      "\n",
      "=== Computing Enhanced Statistics ===\n",
      "Computing spatial regions...\n",
      "Clustering function values...\n",
      "Computing nearest neighbor distances...\n",
      "Computing gradient norms at critical points...\n",
      "Analyzing basins of attraction...\n",
      "Computing gradient norms at minimizers...\n",
      "Enhanced statistics computed successfully!\n",
      "New df columns: region_id, function_value_cluster, nearest_neighbor_dist, gradient_norm\n",
      "New df_min columns: basin_points, average_convergence_steps, region_coverage_count, gradient_norm_at_min\n",
      "\n",
      "=== Computing Complete Hessian Analysis ===\n",
      "Computing Hessian matrices...\n",
      "Computing all eigenvalues...\n",
      "Classifying critical points...\n",
      "Extracting critical eigenvalues...\n",
      "Computing Hessian norms...\n",
      "Computing eigenvalue statistics...\n",
      "Computing Hessian analysis for minimizers...\n",
      "Phase 2 Hessian analysis complete!\n",
      "New df columns: critical_point_type, smallest_positive_eigenval, largest_negative_eigenval, hessian_norm, hessian_*\n",
      "New df_min columns: same Hessian-based columns as df\n",
      "Processing point 1 of 21\n",
      "Optimization has converged within bounds: \u001b[32m✓\u001b[0m\n",
      "Processing point 2 of 21\n",
      "Optimization has converged within bounds: \u001b[32m✓\u001b[0m\n",
      "Processing point 3 of 21\n",
      "Optimization has converged within bounds: \u001b[32m✓\u001b[0m\n",
      "Processing point 4 of 21\n",
      "Optimization has converged within bounds: \u001b[32m✓\u001b[0m\n",
      "Processing point 5 of 21\n",
      "Optimization has converged within bounds: \u001b[32m✓\u001b[0m\n",
      "Processing point 6 of 21\n",
      "Optimization has converged within bounds: \u001b[32m✓\u001b[0m\n",
      "Processing point 7 of 21\n",
      "Optimization has converged within bounds: \u001b[32m✓\u001b[0m\n",
      "Processing point 8 of 21\n",
      "Optimization has converged within bounds: \u001b[32m✓\u001b[0m\n",
      "Processing point 9 of 21\n",
      "Optimization has converged within bounds: \u001b[32m✓\u001b[0m\n",
      "Processing point 10 of 21\n",
      "Optimization has converged within bounds: \u001b[32m✓\u001b[0m\n",
      "Processing point 11 of 21\n",
      "Optimization has converged within bounds: \u001b[32m✓\u001b[0m\n",
      "Processing point 12 of 21\n",
      "Optimization has converged within bounds: \u001b[32m✓\u001b[0m\n",
      "Processing point 13 of 21\n",
      "Optimization has converged within bounds: \u001b[32m✓\u001b[0m\n",
      "Processing point 14 of 21\n",
      "Optimization has converged within bounds: \u001b[32m✓\u001b[0m\n",
      "Processing point 15 of 21\n",
      "Optimization has converged within bounds: \u001b[32m✓\u001b[0m\n",
      "Processing point 16 of 21\n",
      "Optimization has converged within bounds: \u001b[32m✓\u001b[0m\n",
      "Processing point 17 of 21\n",
      "Optimization has converged within bounds: \u001b[32m✓\u001b[0m\n",
      "Processing point 18 of 21\n",
      "Optimization has converged within bounds: \u001b[32m✓\u001b[0m\n",
      "Processing point 19 of 21\n",
      "Optimization has converged within bounds: \u001b[32m✓\u001b[0m\n",
      "Processing point 20 of 21\n",
      "Optimization has converged within bounds: \u001b[32m✓\u001b[0m\n",
      "Processing point 21 of 21\n",
      "Optimization has converged within bounds: \u001b[32m✓\u001b[0m\n",
      "\n",
      "=== Computing Enhanced Statistics ===\n",
      "Computing spatial regions...\n",
      "Clustering function values...\n",
      "Computing nearest neighbor distances...\n",
      "Computing gradient norms at critical points...\n",
      "Analyzing basins of attraction...\n",
      "Computing gradient norms at minimizers...\n",
      "Enhanced statistics computed successfully!\n",
      "New df columns: region_id, function_value_cluster, nearest_neighbor_dist, gradient_norm\n",
      "New df_min columns: basin_points, average_convergence_steps, region_coverage_count, gradient_norm_at_min\n",
      "\n",
      "=== Computing Complete Hessian Analysis ===\n",
      "Computing Hessian matrices...\n",
      "Computing all eigenvalues...\n",
      "Classifying critical points...\n",
      "Extracting critical eigenvalues...\n",
      "Computing Hessian norms...\n",
      "Computing eigenvalue statistics...\n",
      "Computing Hessian analysis for minimizers...\n",
      "Phase 2 Hessian analysis complete!\n",
      "New df columns: critical_point_type, smallest_positive_eigenval, largest_negative_eigenval, hessian_norm, hessian_*\n",
      "New df_min columns: same Hessian-based columns as df\n"
     ]
    }
   ],
   "source": [
    "using Optim\n",
    "df_cheb, df_min_cheb = analyze_critical_points(f, df_cheb, TR, tol_dist=0.001)\n",
    "df_lege, df_min_lege = analyze_critical_points(f, df_lege, TR, tol_dist=0.001);"
   ]
  },
  {
   "cell_type": "code",
   "execution_count": 6,
   "metadata": {},
   "outputs": [],
   "source": [
    "# using CairoMakie\n",
    "# CairoMakie.activate!"
   ]
  },
  {
   "cell_type": "code",
   "execution_count": 7,
   "metadata": {},
   "outputs": [],
   "source": [
    "# fig_1 = cairo_plot_polyapprox_levelset(pol_cheb, TR, df_cheb, df_min_cheb, chebyshev_levels=true, figure_size=(800, 800))"
   ]
  },
  {
   "cell_type": "code",
   "execution_count": 8,
   "metadata": {},
   "outputs": [],
   "source": [
    "# fig_2 = cairo_plot_polyapprox_levelset(pol_lege, TR, df_lege, df_min_lege, chebyshev_levels=true, figure_size = (800, 800))"
   ]
  },
  {
   "cell_type": "code",
   "execution_count": 9,
   "metadata": {},
   "outputs": [],
   "source": [
    "# save(\"Deuflhard_w_22.pdf\", fig_1)"
   ]
  },
  {
   "cell_type": "code",
   "execution_count": null,
   "metadata": {},
   "outputs": [
    {
     "data": {
      "text/plain": [
       "GLMakie.Screen(...)"
      ]
     },
     "metadata": {},
     "output_type": "display_data"
    }
   ],
   "source": [
    "include(\"../../ext/GlobtimGLMakieExt.jl\")\n",
    "fig_3d = GlobtimGLMakieExt.plot_polyapprox_3d(\n",
    "    pol_cheb, \n",
    "    TR, \n",
    "    df_cheb, \n",
    "    df_min_cheb,\n",
    "    z_limits=(-1., 4.2), \n",
    "    figure_size = (1600, 1600), \n",
    "    fade = true, \n",
    "    z_cut = .0\n",
    ")\n",
    "display(fig_3d)"
   ]
  },
  {
   "cell_type": "code",
   "execution_count": null,
   "metadata": {},
   "outputs": [],
   "source": [
    "# save(\"deuflhard_cheb_22_3d_1.png\", fig_3d)\n",
    "# GLMakie.closeall()"
   ]
  }
 ],
 "metadata": {
  "kernelspec": {
   "display_name": "Julia 1.11.5",
   "language": "julia",
   "name": "julia-1.11"
  },
  "language_info": {
   "file_extension": ".jl",
   "mimetype": "application/julia",
   "name": "julia",
   "version": "1.11.5"
  }
 },
 "nbformat": 4,
 "nbformat_minor": 2
}
