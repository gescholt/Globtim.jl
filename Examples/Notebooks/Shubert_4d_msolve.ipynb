{
 "cells": [
  {
   "cell_type": "markdown",
   "metadata": {},
   "source": [
    "## Holder Table Function"
   ]
  },
  {
   "cell_type": "code",
   "execution_count": 1,
   "metadata": {},
   "outputs": [
    {
     "name": "stderr",
     "output_type": "stream",
     "text": [
      "\u001b[32m\u001b[1m  Activating\u001b[22m\u001b[39m project at `~/globtim`\n"
     ]
    }
   ],
   "source": [
    "using Pkg\n",
    "Pkg.activate(\"../../.\")\n",
    "using Globtim\n",
    "using DynamicPolynomials, DataFrames"
   ]
  },
  {
   "cell_type": "code",
   "execution_count": 2,
   "metadata": {},
   "outputs": [
    {
     "data": {
      "text/plain": [
       "shubert_4d (generic function with 1 method)"
      ]
     },
     "metadata": {},
     "output_type": "display_data"
    }
   ],
   "source": [
    "# Constants and Parameters\n",
    "const n, a, b = 4, 2, 1\n",
    "const scale_factor = a / b   # Scaling factor appears in `main_computation`, maybe it should be a parameter.\n",
    "const delta, alpha = 0.5, 1 / 10  # Sampling parameters\n",
    "const tol_l2 = 3e-4            # Define the tolerance for the L2-norm\n",
    "f = shubert_4d # Objective function"
   ]
  },
  {
   "cell_type": "code",
   "execution_count": 3,
   "metadata": {},
   "outputs": [
    {
     "name": "stdout",
     "output_type": "stream",
     "text": [
      "current L2-norm: 0.379399449234025\n",
      "current L2-norm: 185.10433312193442\n"
     ]
    },
    {
     "data": {
      "text/plain": [
       "(Variable{DynamicPolynomials.Commutative{DynamicPolynomials.CreationOrder}, Graded{LexOrder}}[x₁, x₂, x₃, x₄],)"
      ]
     },
     "metadata": {},
     "output_type": "display_data"
    }
   ],
   "source": [
    "d = 4 # Initial Degree \n",
    "SMPL = 10 # Number of samples\n",
    "center = [0.0, 0.0, 0.0, 0.0]\n",
    "TR = test_input(f,\n",
    "                dim = n, \n",
    "                center = center,\n",
    "                GN=SMPL,\n",
    "                sample_range=scale_factor,\n",
    "                degree_max = d+ 4\n",
    "                )\n",
    "pol_cheb = Constructor(TR, d, basis=:chebyshev)\n",
    "pol_lege = Constructor(TR, d, basis=:legendre);\n",
    "@polyvar(x[1:n])"
   ]
  },
  {
   "cell_type": "code",
   "execution_count": 4,
   "metadata": {},
   "outputs": [
    {
     "name": "stdout",
     "output_type": "stream",
     "text": [
      "\n",
      "=== Starting MSolve Parser (dimension: 4) ===\n",
      "Processed 81 points (0.001s)\n"
     ]
    },
    {
     "data": {
      "text/html": [
       "<div><div style = \"float: left;\"><span>64×5 DataFrame</span></div><div style = \"float: right;\"><span style = \"font-style: italic;\">39 rows omitted</span></div><div style = \"clear: both;\"></div></div><div class = \"data-frame\" style = \"overflow-x: scroll;\"><table class = \"data-frame\" style = \"margin-bottom: 6px;\"><thead><tr class = \"header\"><th class = \"rowNumber\" style = \"font-weight: bold; text-align: right;\">Row</th><th style = \"text-align: left;\">x1</th><th style = \"text-align: left;\">x2</th><th style = \"text-align: left;\">x3</th><th style = \"text-align: left;\">x4</th><th style = \"text-align: left;\">z</th></tr><tr class = \"subheader headerLastRow\"><th class = \"rowNumber\" style = \"font-weight: bold; text-align: right;\"></th><th title = \"Float64\" style = \"text-align: left;\">Float64</th><th title = \"Float64\" style = \"text-align: left;\">Float64</th><th title = \"Float64\" style = \"text-align: left;\">Float64</th><th title = \"Float64\" style = \"text-align: left;\">Float64</th><th title = \"Float64\" style = \"text-align: left;\">Float64</th></tr></thead><tbody><tr><td class = \"rowNumber\" style = \"font-weight: bold; text-align: right;\">1</td><td style = \"text-align: right;\">-0.182134</td><td style = \"text-align: right;\">-0.105334</td><td style = \"text-align: right;\">-0.182134</td><td style = \"text-align: right;\">-0.105334</td><td style = \"text-align: right;\">76.975</td></tr><tr><td class = \"rowNumber\" style = \"font-weight: bold; text-align: right;\">2</td><td style = \"text-align: right;\">-0.182134</td><td style = \"text-align: right;\">-0.105334</td><td style = \"text-align: right;\">-1.10734</td><td style = \"text-align: right;\">-1.21779</td><td style = \"text-align: right;\">62.6633</td></tr><tr><td class = \"rowNumber\" style = \"font-weight: bold; text-align: right;\">3</td><td style = \"text-align: right;\">-1.10734</td><td style = \"text-align: right;\">-1.21779</td><td style = \"text-align: right;\">-0.182134</td><td style = \"text-align: right;\">-0.105334</td><td style = \"text-align: right;\">62.6633</td></tr><tr><td class = \"rowNumber\" style = \"font-weight: bold; text-align: right;\">4</td><td style = \"text-align: right;\">-1.10734</td><td style = \"text-align: right;\">-1.21779</td><td style = \"text-align: right;\">-1.10734</td><td style = \"text-align: right;\">-1.21779</td><td style = \"text-align: right;\">48.3516</td></tr><tr><td class = \"rowNumber\" style = \"font-weight: bold; text-align: right;\">5</td><td style = \"text-align: right;\">-0.878386</td><td style = \"text-align: right;\">1.53786</td><td style = \"text-align: right;\">-0.182134</td><td style = \"text-align: right;\">-0.105334</td><td style = \"text-align: right;\">35.9352</td></tr><tr><td class = \"rowNumber\" style = \"font-weight: bold; text-align: right;\">6</td><td style = \"text-align: right;\">-0.182134</td><td style = \"text-align: right;\">-0.105334</td><td style = \"text-align: right;\">-0.878386</td><td style = \"text-align: right;\">1.53786</td><td style = \"text-align: right;\">35.9352</td></tr><tr><td class = \"rowNumber\" style = \"font-weight: bold; text-align: right;\">7</td><td style = \"text-align: right;\">-0.182134</td><td style = \"text-align: right;\">-0.105334</td><td style = \"text-align: right;\">-1.41579</td><td style = \"text-align: right;\">-0.573356</td><td style = \"text-align: right;\">31.0118</td></tr><tr><td class = \"rowNumber\" style = \"font-weight: bold; text-align: right;\">8</td><td style = \"text-align: right;\">-1.41579</td><td style = \"text-align: right;\">-0.573356</td><td style = \"text-align: right;\">-0.182134</td><td style = \"text-align: right;\">-0.105334</td><td style = \"text-align: right;\">31.0118</td></tr><tr><td class = \"rowNumber\" style = \"font-weight: bold; text-align: right;\">9</td><td style = \"text-align: right;\">-0.182134</td><td style = \"text-align: right;\">-0.105334</td><td style = \"text-align: right;\">-1.67696</td><td style = \"text-align: right;\">-0.354878</td><td style = \"text-align: right;\">26.0806</td></tr><tr><td class = \"rowNumber\" style = \"font-weight: bold; text-align: right;\">10</td><td style = \"text-align: right;\">-1.67696</td><td style = \"text-align: right;\">-0.354878</td><td style = \"text-align: right;\">-0.182134</td><td style = \"text-align: right;\">-0.105334</td><td style = \"text-align: right;\">26.0806</td></tr><tr><td class = \"rowNumber\" style = \"font-weight: bold; text-align: right;\">11</td><td style = \"text-align: right;\">0.981955</td><td style = \"text-align: right;\">1.85208</td><td style = \"text-align: right;\">-0.182134</td><td style = \"text-align: right;\">-0.105334</td><td style = \"text-align: right;\">22.7424</td></tr><tr><td class = \"rowNumber\" style = \"font-weight: bold; text-align: right;\">12</td><td style = \"text-align: right;\">-0.182134</td><td style = \"text-align: right;\">-0.105334</td><td style = \"text-align: right;\">0.981955</td><td style = \"text-align: right;\">1.85208</td><td style = \"text-align: right;\">22.7424</td></tr><tr><td class = \"rowNumber\" style = \"font-weight: bold; text-align: right;\">13</td><td style = \"text-align: right;\">-0.878386</td><td style = \"text-align: right;\">1.53786</td><td style = \"text-align: right;\">-1.10734</td><td style = \"text-align: right;\">-1.21779</td><td style = \"text-align: right;\">21.6235</td></tr><tr><td style = \"text-align: right;\">&vellip;</td><td style = \"text-align: right;\">&vellip;</td><td style = \"text-align: right;\">&vellip;</td><td style = \"text-align: right;\">&vellip;</td><td style = \"text-align: right;\">&vellip;</td><td style = \"text-align: right;\">&vellip;</td></tr><tr><td class = \"rowNumber\" style = \"font-weight: bold; text-align: right;\">53</td><td style = \"text-align: right;\">1.20842</td><td style = \"text-align: right;\">0.792303</td><td style = \"text-align: right;\">1.20842</td><td style = \"text-align: right;\">0.792303</td><td style = \"text-align: right;\">-45.1918</td></tr><tr><td class = \"rowNumber\" style = \"font-weight: bold; text-align: right;\">54</td><td style = \"text-align: right;\">-0.878386</td><td style = \"text-align: right;\">1.53786</td><td style = \"text-align: right;\">1.14608</td><td style = \"text-align: right;\">-1.25673</td><td style = \"text-align: right;\">-56.7114</td></tr><tr><td class = \"rowNumber\" style = \"font-weight: bold; text-align: right;\">55</td><td style = \"text-align: right;\">1.14608</td><td style = \"text-align: right;\">-1.25673</td><td style = \"text-align: right;\">-0.878386</td><td style = \"text-align: right;\">1.53786</td><td style = \"text-align: right;\">-56.7114</td></tr><tr><td class = \"rowNumber\" style = \"font-weight: bold; text-align: right;\">56</td><td style = \"text-align: right;\">1.14608</td><td style = \"text-align: right;\">-1.25673</td><td style = \"text-align: right;\">-1.41579</td><td style = \"text-align: right;\">-0.573356</td><td style = \"text-align: right;\">-61.6348</td></tr><tr><td class = \"rowNumber\" style = \"font-weight: bold; text-align: right;\">57</td><td style = \"text-align: right;\">-1.41579</td><td style = \"text-align: right;\">-0.573356</td><td style = \"text-align: right;\">1.14608</td><td style = \"text-align: right;\">-1.25673</td><td style = \"text-align: right;\">-61.6348</td></tr><tr><td class = \"rowNumber\" style = \"font-weight: bold; text-align: right;\">58</td><td style = \"text-align: right;\">1.14608</td><td style = \"text-align: right;\">-1.25673</td><td style = \"text-align: right;\">-1.67696</td><td style = \"text-align: right;\">-0.354878</td><td style = \"text-align: right;\">-66.566</td></tr><tr><td class = \"rowNumber\" style = \"font-weight: bold; text-align: right;\">59</td><td style = \"text-align: right;\">-1.67696</td><td style = \"text-align: right;\">-0.354878</td><td style = \"text-align: right;\">1.14608</td><td style = \"text-align: right;\">-1.25673</td><td style = \"text-align: right;\">-66.566</td></tr><tr><td class = \"rowNumber\" style = \"font-weight: bold; text-align: right;\">60</td><td style = \"text-align: right;\">0.981955</td><td style = \"text-align: right;\">1.85208</td><td style = \"text-align: right;\">1.14608</td><td style = \"text-align: right;\">-1.25673</td><td style = \"text-align: right;\">-69.9041</td></tr><tr><td class = \"rowNumber\" style = \"font-weight: bold; text-align: right;\">61</td><td style = \"text-align: right;\">1.14608</td><td style = \"text-align: right;\">-1.25673</td><td style = \"text-align: right;\">0.981955</td><td style = \"text-align: right;\">1.85208</td><td style = \"text-align: right;\">-69.9041</td></tr><tr><td class = \"rowNumber\" style = \"font-weight: bold; text-align: right;\">62</td><td style = \"text-align: right;\">1.20842</td><td style = \"text-align: right;\">0.792303</td><td style = \"text-align: right;\">1.14608</td><td style = \"text-align: right;\">-1.25673</td><td style = \"text-align: right;\">-76.755</td></tr><tr><td class = \"rowNumber\" style = \"font-weight: bold; text-align: right;\">63</td><td style = \"text-align: right;\">1.14608</td><td style = \"text-align: right;\">-1.25673</td><td style = \"text-align: right;\">1.20842</td><td style = \"text-align: right;\">0.792303</td><td style = \"text-align: right;\">-76.755</td></tr><tr><td class = \"rowNumber\" style = \"font-weight: bold; text-align: right;\">64</td><td style = \"text-align: right;\">1.14608</td><td style = \"text-align: right;\">-1.25673</td><td style = \"text-align: right;\">1.14608</td><td style = \"text-align: right;\">-1.25673</td><td style = \"text-align: right;\">-108.318</td></tr></tbody></table></div>"
      ],
      "text/latex": [
       "\\begin{tabular}{r|ccccc}\n",
       "\t& x1 & x2 & x3 & x4 & z\\\\\n",
       "\t\\hline\n",
       "\t& Float64 & Float64 & Float64 & Float64 & Float64\\\\\n",
       "\t\\hline\n",
       "\t1 & -0.182134 & -0.105334 & -0.182134 & -0.105334 & 76.975 \\\\\n",
       "\t2 & -0.182134 & -0.105334 & -1.10734 & -1.21779 & 62.6633 \\\\\n",
       "\t3 & -1.10734 & -1.21779 & -0.182134 & -0.105334 & 62.6633 \\\\\n",
       "\t4 & -1.10734 & -1.21779 & -1.10734 & -1.21779 & 48.3516 \\\\\n",
       "\t5 & -0.878386 & 1.53786 & -0.182134 & -0.105334 & 35.9352 \\\\\n",
       "\t6 & -0.182134 & -0.105334 & -0.878386 & 1.53786 & 35.9352 \\\\\n",
       "\t7 & -0.182134 & -0.105334 & -1.41579 & -0.573356 & 31.0118 \\\\\n",
       "\t8 & -1.41579 & -0.573356 & -0.182134 & -0.105334 & 31.0118 \\\\\n",
       "\t9 & -0.182134 & -0.105334 & -1.67696 & -0.354878 & 26.0806 \\\\\n",
       "\t10 & -1.67696 & -0.354878 & -0.182134 & -0.105334 & 26.0806 \\\\\n",
       "\t11 & 0.981955 & 1.85208 & -0.182134 & -0.105334 & 22.7424 \\\\\n",
       "\t12 & -0.182134 & -0.105334 & 0.981955 & 1.85208 & 22.7424 \\\\\n",
       "\t13 & -0.878386 & 1.53786 & -1.10734 & -1.21779 & 21.6235 \\\\\n",
       "\t14 & -1.10734 & -1.21779 & -0.878386 & 1.53786 & 21.6235 \\\\\n",
       "\t15 & -1.10734 & -1.21779 & -1.41579 & -0.573356 & 16.7001 \\\\\n",
       "\t16 & -1.41579 & -0.573356 & -1.10734 & -1.21779 & 16.7001 \\\\\n",
       "\t17 & 1.20842 & 0.792303 & -0.182134 & -0.105334 & 15.8916 \\\\\n",
       "\t18 & -0.182134 & -0.105334 & 1.20842 & 0.792303 & 15.8916 \\\\\n",
       "\t19 & -1.10734 & -1.21779 & -1.67696 & -0.354878 & 11.7689 \\\\\n",
       "\t20 & -1.67696 & -0.354878 & -1.10734 & -1.21779 & 11.7689 \\\\\n",
       "\t21 & -1.10734 & -1.21779 & 0.981955 & 1.85208 & 8.43072 \\\\\n",
       "\t22 & 0.981955 & 1.85208 & -1.10734 & -1.21779 & 8.43072 \\\\\n",
       "\t23 & 1.20842 & 0.792303 & -1.10734 & -1.21779 & 1.5799 \\\\\n",
       "\t24 & -1.10734 & -1.21779 & 1.20842 & 0.792303 & 1.5799 \\\\\n",
       "\t$\\dots$ & $\\dots$ & $\\dots$ & $\\dots$ & $\\dots$ & $\\dots$ \\\\\n",
       "\\end{tabular}\n"
      ],
      "text/plain": [
       "\u001b[1m64×5 DataFrame\u001b[0m\n",
       "\u001b[1m Row \u001b[0m│\u001b[1m x1        \u001b[0m\u001b[1m x2        \u001b[0m\u001b[1m x3        \u001b[0m\u001b[1m x4        \u001b[0m\u001b[1m z         \u001b[0m\n",
       "     │\u001b[90m Float64   \u001b[0m\u001b[90m Float64   \u001b[0m\u001b[90m Float64   \u001b[0m\u001b[90m Float64   \u001b[0m\u001b[90m Float64   \u001b[0m\n",
       "─────┼───────────────────────────────────────────────────────\n",
       "   1 │ -0.182134  -0.105334  -0.182134  -0.105334    76.975\n",
       "   2 │ -0.182134  -0.105334  -1.10734   -1.21779     62.6633\n",
       "   3 │ -1.10734   -1.21779   -0.182134  -0.105334    62.6633\n",
       "   4 │ -1.10734   -1.21779   -1.10734   -1.21779     48.3516\n",
       "   5 │ -0.878386   1.53786   -0.182134  -0.105334    35.9352\n",
       "   6 │ -0.182134  -0.105334  -0.878386   1.53786     35.9352\n",
       "   7 │ -0.182134  -0.105334  -1.41579   -0.573356    31.0118\n",
       "   8 │ -1.41579   -0.573356  -0.182134  -0.105334    31.0118\n",
       "  ⋮  │     ⋮          ⋮          ⋮          ⋮          ⋮\n",
       "  58 │  1.14608   -1.25673   -1.67696   -0.354878   -66.566\n",
       "  59 │ -1.67696   -0.354878   1.14608   -1.25673    -66.566\n",
       "  60 │  0.981955   1.85208    1.14608   -1.25673    -69.9041\n",
       "  61 │  1.14608   -1.25673    0.981955   1.85208    -69.9041\n",
       "  62 │  1.20842    0.792303   1.14608   -1.25673    -76.755\n",
       "  63 │  1.14608   -1.25673    1.20842    0.792303   -76.755\n",
       "  64 │  1.14608   -1.25673    1.14608   -1.25673   -108.318\n",
       "\u001b[36m                                              49 rows omitted\u001b[0m"
      ]
     },
     "metadata": {},
     "output_type": "display_data"
    }
   ],
   "source": [
    "df_cheb = solve_and_parse(pol_cheb, x, f, TR)\n",
    "sort!(df_cheb, :z, rev=true)"
   ]
  },
  {
   "cell_type": "code",
   "execution_count": 5,
   "metadata": {},
   "outputs": [
    {
     "name": "stdout",
     "output_type": "stream",
     "text": [
      "\n",
      "=== Starting MSolve Parser (dimension: 4) ===\n",
      "Processed 49 points (0.001s)\n"
     ]
    },
    {
     "data": {
      "text/html": [
       "<div><div style = \"float: left;\"><span>36×5 DataFrame</span></div><div style = \"float: right;\"><span style = \"font-style: italic;\">11 rows omitted</span></div><div style = \"clear: both;\"></div></div><div class = \"data-frame\" style = \"overflow-x: scroll;\"><table class = \"data-frame\" style = \"margin-bottom: 6px;\"><thead><tr class = \"header\"><th class = \"rowNumber\" style = \"font-weight: bold; text-align: right;\">Row</th><th style = \"text-align: left;\">x1</th><th style = \"text-align: left;\">x2</th><th style = \"text-align: left;\">x3</th><th style = \"text-align: left;\">x4</th><th style = \"text-align: left;\">z</th></tr><tr class = \"subheader headerLastRow\"><th class = \"rowNumber\" style = \"font-weight: bold; text-align: right;\"></th><th title = \"Float64\" style = \"text-align: left;\">Float64</th><th title = \"Float64\" style = \"text-align: left;\">Float64</th><th title = \"Float64\" style = \"text-align: left;\">Float64</th><th title = \"Float64\" style = \"text-align: left;\">Float64</th><th title = \"Float64\" style = \"text-align: left;\">Float64</th></tr></thead><tbody><tr><td class = \"rowNumber\" style = \"font-weight: bold; text-align: right;\">1</td><td style = \"text-align: right;\">-0.899484</td><td style = \"text-align: right;\">-1.20851</td><td style = \"text-align: right;\">-0.899484</td><td style = \"text-align: right;\">-1.20851</td><td style = \"text-align: right;\">55.4885</td></tr><tr><td class = \"rowNumber\" style = \"font-weight: bold; text-align: right;\">2</td><td style = \"text-align: right;\">-0.118378</td><td style = \"text-align: right;\">-0.0325276</td><td style = \"text-align: right;\">-0.899484</td><td style = \"text-align: right;\">-1.20851</td><td style = \"text-align: right;\">55.1216</td></tr><tr><td class = \"rowNumber\" style = \"font-weight: bold; text-align: right;\">3</td><td style = \"text-align: right;\">-0.899484</td><td style = \"text-align: right;\">-1.20851</td><td style = \"text-align: right;\">-0.118378</td><td style = \"text-align: right;\">-0.0325276</td><td style = \"text-align: right;\">55.1216</td></tr><tr><td class = \"rowNumber\" style = \"font-weight: bold; text-align: right;\">4</td><td style = \"text-align: right;\">-0.118378</td><td style = \"text-align: right;\">-0.0325276</td><td style = \"text-align: right;\">-0.118378</td><td style = \"text-align: right;\">-0.0325276</td><td style = \"text-align: right;\">54.7546</td></tr><tr><td class = \"rowNumber\" style = \"font-weight: bold; text-align: right;\">5</td><td style = \"text-align: right;\">1.20268</td><td style = \"text-align: right;\">0.334316</td><td style = \"text-align: right;\">-0.899484</td><td style = \"text-align: right;\">-1.20851</td><td style = \"text-align: right;\">51.4778</td></tr><tr><td class = \"rowNumber\" style = \"font-weight: bold; text-align: right;\">6</td><td style = \"text-align: right;\">-0.899484</td><td style = \"text-align: right;\">-1.20851</td><td style = \"text-align: right;\">1.20268</td><td style = \"text-align: right;\">0.334316</td><td style = \"text-align: right;\">51.4778</td></tr><tr><td class = \"rowNumber\" style = \"font-weight: bold; text-align: right;\">7</td><td style = \"text-align: right;\">1.20268</td><td style = \"text-align: right;\">0.334316</td><td style = \"text-align: right;\">-0.118378</td><td style = \"text-align: right;\">-0.0325276</td><td style = \"text-align: right;\">51.1108</td></tr><tr><td class = \"rowNumber\" style = \"font-weight: bold; text-align: right;\">8</td><td style = \"text-align: right;\">-0.118378</td><td style = \"text-align: right;\">-0.0325276</td><td style = \"text-align: right;\">1.20268</td><td style = \"text-align: right;\">0.334316</td><td style = \"text-align: right;\">51.1108</td></tr><tr><td class = \"rowNumber\" style = \"font-weight: bold; text-align: right;\">9</td><td style = \"text-align: right;\">1.20268</td><td style = \"text-align: right;\">0.334316</td><td style = \"text-align: right;\">1.20268</td><td style = \"text-align: right;\">0.334316</td><td style = \"text-align: right;\">47.467</td></tr><tr><td class = \"rowNumber\" style = \"font-weight: bold; text-align: right;\">10</td><td style = \"text-align: right;\">1.09004</td><td style = \"text-align: right;\">1.44496</td><td style = \"text-align: right;\">-0.899484</td><td style = \"text-align: right;\">-1.20851</td><td style = \"text-align: right;\">40.929</td></tr><tr><td class = \"rowNumber\" style = \"font-weight: bold; text-align: right;\">11</td><td style = \"text-align: right;\">-0.899484</td><td style = \"text-align: right;\">-1.20851</td><td style = \"text-align: right;\">1.09004</td><td style = \"text-align: right;\">1.44496</td><td style = \"text-align: right;\">40.929</td></tr><tr><td class = \"rowNumber\" style = \"font-weight: bold; text-align: right;\">12</td><td style = \"text-align: right;\">1.09004</td><td style = \"text-align: right;\">1.44496</td><td style = \"text-align: right;\">-0.118378</td><td style = \"text-align: right;\">-0.0325276</td><td style = \"text-align: right;\">40.562</td></tr><tr><td class = \"rowNumber\" style = \"font-weight: bold; text-align: right;\">13</td><td style = \"text-align: right;\">-0.118378</td><td style = \"text-align: right;\">-0.0325276</td><td style = \"text-align: right;\">1.09004</td><td style = \"text-align: right;\">1.44496</td><td style = \"text-align: right;\">40.562</td></tr><tr><td style = \"text-align: right;\">&vellip;</td><td style = \"text-align: right;\">&vellip;</td><td style = \"text-align: right;\">&vellip;</td><td style = \"text-align: right;\">&vellip;</td><td style = \"text-align: right;\">&vellip;</td><td style = \"text-align: right;\">&vellip;</td></tr><tr><td class = \"rowNumber\" style = \"font-weight: bold; text-align: right;\">25</td><td style = \"text-align: right;\">-0.84832</td><td style = \"text-align: right;\">1.56725</td><td style = \"text-align: right;\">-0.84832</td><td style = \"text-align: right;\">1.56725</td><td style = \"text-align: right;\">0.182721</td></tr><tr><td class = \"rowNumber\" style = \"font-weight: bold; text-align: right;\">26</td><td style = \"text-align: right;\">1.08834</td><td style = \"text-align: right;\">-1.37242</td><td style = \"text-align: right;\">-0.899484</td><td style = \"text-align: right;\">-1.20851</td><td style = \"text-align: right;\">-52.9505</td></tr><tr><td class = \"rowNumber\" style = \"font-weight: bold; text-align: right;\">27</td><td style = \"text-align: right;\">-0.899484</td><td style = \"text-align: right;\">-1.20851</td><td style = \"text-align: right;\">1.08834</td><td style = \"text-align: right;\">-1.37242</td><td style = \"text-align: right;\">-52.9505</td></tr><tr><td class = \"rowNumber\" style = \"font-weight: bold; text-align: right;\">28</td><td style = \"text-align: right;\">1.08834</td><td style = \"text-align: right;\">-1.37242</td><td style = \"text-align: right;\">-0.118378</td><td style = \"text-align: right;\">-0.0325276</td><td style = \"text-align: right;\">-53.3174</td></tr><tr><td class = \"rowNumber\" style = \"font-weight: bold; text-align: right;\">29</td><td style = \"text-align: right;\">-0.118378</td><td style = \"text-align: right;\">-0.0325276</td><td style = \"text-align: right;\">1.08834</td><td style = \"text-align: right;\">-1.37242</td><td style = \"text-align: right;\">-53.3174</td></tr><tr><td class = \"rowNumber\" style = \"font-weight: bold; text-align: right;\">30</td><td style = \"text-align: right;\">1.20268</td><td style = \"text-align: right;\">0.334316</td><td style = \"text-align: right;\">1.08834</td><td style = \"text-align: right;\">-1.37242</td><td style = \"text-align: right;\">-56.9612</td></tr><tr><td class = \"rowNumber\" style = \"font-weight: bold; text-align: right;\">31</td><td style = \"text-align: right;\">1.08834</td><td style = \"text-align: right;\">-1.37242</td><td style = \"text-align: right;\">1.20268</td><td style = \"text-align: right;\">0.334316</td><td style = \"text-align: right;\">-56.9612</td></tr><tr><td class = \"rowNumber\" style = \"font-weight: bold; text-align: right;\">32</td><td style = \"text-align: right;\">1.08834</td><td style = \"text-align: right;\">-1.37242</td><td style = \"text-align: right;\">1.09004</td><td style = \"text-align: right;\">1.44496</td><td style = \"text-align: right;\">-67.51</td></tr><tr><td class = \"rowNumber\" style = \"font-weight: bold; text-align: right;\">33</td><td style = \"text-align: right;\">1.09004</td><td style = \"text-align: right;\">1.44496</td><td style = \"text-align: right;\">1.08834</td><td style = \"text-align: right;\">-1.37242</td><td style = \"text-align: right;\">-67.51</td></tr><tr><td class = \"rowNumber\" style = \"font-weight: bold; text-align: right;\">34</td><td style = \"text-align: right;\">-0.84832</td><td style = \"text-align: right;\">1.56725</td><td style = \"text-align: right;\">1.08834</td><td style = \"text-align: right;\">-1.37242</td><td style = \"text-align: right;\">-80.6034</td></tr><tr><td class = \"rowNumber\" style = \"font-weight: bold; text-align: right;\">35</td><td style = \"text-align: right;\">1.08834</td><td style = \"text-align: right;\">-1.37242</td><td style = \"text-align: right;\">-0.84832</td><td style = \"text-align: right;\">1.56725</td><td style = \"text-align: right;\">-80.6034</td></tr><tr><td class = \"rowNumber\" style = \"font-weight: bold; text-align: right;\">36</td><td style = \"text-align: right;\">1.08834</td><td style = \"text-align: right;\">-1.37242</td><td style = \"text-align: right;\">1.08834</td><td style = \"text-align: right;\">-1.37242</td><td style = \"text-align: right;\">-161.389</td></tr></tbody></table></div>"
      ],
      "text/latex": [
       "\\begin{tabular}{r|ccccc}\n",
       "\t& x1 & x2 & x3 & x4 & z\\\\\n",
       "\t\\hline\n",
       "\t& Float64 & Float64 & Float64 & Float64 & Float64\\\\\n",
       "\t\\hline\n",
       "\t1 & -0.899484 & -1.20851 & -0.899484 & -1.20851 & 55.4885 \\\\\n",
       "\t2 & -0.118378 & -0.0325276 & -0.899484 & -1.20851 & 55.1216 \\\\\n",
       "\t3 & -0.899484 & -1.20851 & -0.118378 & -0.0325276 & 55.1216 \\\\\n",
       "\t4 & -0.118378 & -0.0325276 & -0.118378 & -0.0325276 & 54.7546 \\\\\n",
       "\t5 & 1.20268 & 0.334316 & -0.899484 & -1.20851 & 51.4778 \\\\\n",
       "\t6 & -0.899484 & -1.20851 & 1.20268 & 0.334316 & 51.4778 \\\\\n",
       "\t7 & 1.20268 & 0.334316 & -0.118378 & -0.0325276 & 51.1108 \\\\\n",
       "\t8 & -0.118378 & -0.0325276 & 1.20268 & 0.334316 & 51.1108 \\\\\n",
       "\t9 & 1.20268 & 0.334316 & 1.20268 & 0.334316 & 47.467 \\\\\n",
       "\t10 & 1.09004 & 1.44496 & -0.899484 & -1.20851 & 40.929 \\\\\n",
       "\t11 & -0.899484 & -1.20851 & 1.09004 & 1.44496 & 40.929 \\\\\n",
       "\t12 & 1.09004 & 1.44496 & -0.118378 & -0.0325276 & 40.562 \\\\\n",
       "\t13 & -0.118378 & -0.0325276 & 1.09004 & 1.44496 & 40.562 \\\\\n",
       "\t14 & 1.20268 & 0.334316 & 1.09004 & 1.44496 & 36.9182 \\\\\n",
       "\t15 & 1.09004 & 1.44496 & 1.20268 & 0.334316 & 36.9182 \\\\\n",
       "\t16 & -0.84832 & 1.56725 & -0.899484 & -1.20851 & 27.8356 \\\\\n",
       "\t17 & -0.899484 & -1.20851 & -0.84832 & 1.56725 & 27.8356 \\\\\n",
       "\t18 & -0.84832 & 1.56725 & -0.118378 & -0.0325276 & 27.4687 \\\\\n",
       "\t19 & -0.118378 & -0.0325276 & -0.84832 & 1.56725 & 27.4687 \\\\\n",
       "\t20 & 1.09004 & 1.44496 & 1.09004 & 1.44496 & 26.3694 \\\\\n",
       "\t21 & -0.84832 & 1.56725 & 1.20268 & 0.334316 & 23.8249 \\\\\n",
       "\t22 & 1.20268 & 0.334316 & -0.84832 & 1.56725 & 23.8249 \\\\\n",
       "\t23 & -0.84832 & 1.56725 & 1.09004 & 1.44496 & 13.276 \\\\\n",
       "\t24 & 1.09004 & 1.44496 & -0.84832 & 1.56725 & 13.276 \\\\\n",
       "\t$\\dots$ & $\\dots$ & $\\dots$ & $\\dots$ & $\\dots$ & $\\dots$ \\\\\n",
       "\\end{tabular}\n"
      ],
      "text/plain": [
       "\u001b[1m36×5 DataFrame\u001b[0m\n",
       "\u001b[1m Row \u001b[0m│\u001b[1m x1        \u001b[0m\u001b[1m x2         \u001b[0m\u001b[1m x3        \u001b[0m\u001b[1m x4         \u001b[0m\u001b[1m z         \u001b[0m\n",
       "     │\u001b[90m Float64   \u001b[0m\u001b[90m Float64    \u001b[0m\u001b[90m Float64   \u001b[0m\u001b[90m Float64    \u001b[0m\u001b[90m Float64   \u001b[0m\n",
       "─────┼─────────────────────────────────────────────────────────\n",
       "   1 │ -0.899484  -1.20851    -0.899484  -1.20851      55.4885\n",
       "   2 │ -0.118378  -0.0325276  -0.899484  -1.20851      55.1216\n",
       "   3 │ -0.899484  -1.20851    -0.118378  -0.0325276    55.1216\n",
       "   4 │ -0.118378  -0.0325276  -0.118378  -0.0325276    54.7546\n",
       "   5 │  1.20268    0.334316   -0.899484  -1.20851      51.4778\n",
       "   6 │ -0.899484  -1.20851     1.20268    0.334316     51.4778\n",
       "   7 │  1.20268    0.334316   -0.118378  -0.0325276    51.1108\n",
       "   8 │ -0.118378  -0.0325276   1.20268    0.334316     51.1108\n",
       "  ⋮  │     ⋮          ⋮           ⋮          ⋮           ⋮\n",
       "  30 │  1.20268    0.334316    1.08834   -1.37242     -56.9612\n",
       "  31 │  1.08834   -1.37242     1.20268    0.334316    -56.9612\n",
       "  32 │  1.08834   -1.37242     1.09004    1.44496     -67.51\n",
       "  33 │  1.09004    1.44496     1.08834   -1.37242     -67.51\n",
       "  34 │ -0.84832    1.56725     1.08834   -1.37242     -80.6034\n",
       "  35 │  1.08834   -1.37242    -0.84832    1.56725     -80.6034\n",
       "  36 │  1.08834   -1.37242     1.08834   -1.37242    -161.389\n",
       "\u001b[36m                                                21 rows omitted\u001b[0m"
      ]
     },
     "metadata": {},
     "output_type": "display_data"
    }
   ],
   "source": [
    "df_lege = solve_and_parse(pol_lege, x, f, TR, basis=:legendre)\n",
    "sort!(df_lege, :z, rev=true)"
   ]
  },
  {
   "cell_type": "code",
   "execution_count": 6,
   "metadata": {},
   "outputs": [
    {
     "name": "stdout",
     "output_type": "stream",
     "text": [
      "Processing point 1 of 64\n",
      "Processing point 2 of 64\n",
      "Processing point 3 of 64\n",
      "Processing point 4 of 64\n",
      "Processing point 5 of 64\n",
      "Processing point 6 of 64\n",
      "Processing point 7 of 64\n",
      "Processing point 8 of 64\n",
      "Processing point 9 of 64\n",
      "Processing point 10 of 64\n",
      "Processing point 11 of 64\n",
      "Processing point 12 of 64\n",
      "Processing point 13 of 64\n",
      "Processing point 14 of 64\n",
      "Processing point 15 of 64\n",
      "Processing point 16 of 64\n",
      "Processing point 17 of 64\n",
      "Processing point 18 of 64\n",
      "Processing point 19 of 64\n",
      "Processing point 20 of 64\n",
      "Processing point 21 of 64\n",
      "Processing point 22 of 64\n",
      "Processing point 23 of 64\n",
      "Processing point 24 of 64\n",
      "Processing point 25 of 64\n",
      "Processing point 26 of 64\n",
      "Processing point 27 of 64\n",
      "Processing point 28 of 64\n",
      "Processing point 29 of 64\n",
      "Processing point 30 of 64\n",
      "Processing point 31 of 64\n",
      "Processing point 32 of 64\n",
      "Processing point 33 of 64\n",
      "Processing point 34 of 64\n",
      "Processing point 35 of 64\n",
      "Processing point 36 of 64\n",
      "Processing point 37 of 64\n",
      "Processing point 38 of 64\n",
      "Processing point 39 of 64\n",
      "Processing point 40 of 64\n",
      "Processing point 41 of 64\n",
      "Processing point 42 of 64\n",
      "Processing point 43 of 64\n",
      "Processing point 44 of 64\n",
      "Processing point 45 of 64\n",
      "Processing point 46 of 64\n",
      "Processing point 47 of 64\n",
      "Processing point 48 of 64\n",
      "Processing point 49 of 64\n",
      "Processing point 50 of 64\n",
      "Processing point 51 of 64\n",
      "Processing point 52 of 64\n",
      "Processing point 53 of 64\n",
      "Processing point 54 of 64\n",
      "Processing point 55 of 64\n",
      "Processing point 56 of 64\n",
      "Processing point 57 of 64\n",
      "Processing point 58 of 64\n",
      "Processing point 59 of 64\n",
      "Processing point 60 of 64\n",
      "Processing point 61 of 64\n",
      "Processing point 62 of 64\n",
      "Processing point 63 of 64\n",
      "Processing point 64 of 64\n"
     ]
    },
    {
     "data": {
      "text/plain": [
       "(\u001b[1m64×12 DataFrame\u001b[0m\n",
       "\u001b[1m Row \u001b[0m│\u001b[1m x1        \u001b[0m\u001b[1m x2        \u001b[0m\u001b[1m x3        \u001b[0m\u001b[1m x4        \u001b[0m\u001b[1m z         \u001b[0m\u001b[1m y1           \u001b[0m\u001b[1m y2\u001b[0m ⋯\n",
       "     │\u001b[90m Float64   \u001b[0m\u001b[90m Float64   \u001b[0m\u001b[90m Float64   \u001b[0m\u001b[90m Float64   \u001b[0m\u001b[90m Float64   \u001b[0m\u001b[90m Float64      \u001b[0m\u001b[90m Fl\u001b[0m ⋯\n",
       "─────┼──────────────────────────────────────────────────────────────────────────\n",
       "   1 │ -0.182134  -0.105334  -0.182134  -0.105334    76.975     432.145      - ⋯\n",
       "   2 │ -0.182134  -0.105334  -1.10734   -1.21779     62.6633     31.2967\n",
       "   3 │ -1.10734   -1.21779   -0.182134  -0.105334    62.6633      9.31271\n",
       "   4 │ -1.10734   -1.21779   -1.10734   -1.21779     48.3516   1129.76       5\n",
       "   5 │ -0.878386   1.53786   -0.182134  -0.105334    35.9352  -2750.07      -3 ⋯\n",
       "   6 │ -0.182134  -0.105334  -0.878386   1.53786     35.9352     88.5615\n",
       "   7 │ -0.182134  -0.105334  -1.41579   -0.573356    31.0118     15.242\n",
       "   8 │ -1.41579   -0.573356  -0.182134  -0.105334    31.0118   5180.66      -5\n",
       "  ⋮  │     ⋮          ⋮          ⋮          ⋮          ⋮           ⋮           ⋱\n",
       "  58 │  1.14608   -1.25673   -1.67696   -0.354878   -66.566       1.10491      ⋯\n",
       "  59 │ -1.67696   -0.354878   1.14608   -1.25673    -66.566      -2.10491\n",
       "  60 │  0.981955   1.85208    1.14608   -1.25673    -69.9041     13.0937\n",
       "  61 │  1.14608   -1.25673    0.981955   1.85208    -69.9041    -14.5483     -\n",
       "  62 │  1.20842    0.792303   1.14608   -1.25673    -76.755       1.10491      ⋯\n",
       "  63 │  1.14608   -1.25673    1.20842    0.792303   -76.755       1.10491\n",
       "  64 │  1.14608   -1.25673    1.14608   -1.25673   -108.318       1.10491\n",
       "\u001b[36m                                                   6 columns and 49 rows omitted\u001b[0m, \u001b[1m18×6 DataFrame\u001b[0m\n",
       "\u001b[1m Row \u001b[0m│\u001b[1m x4        \u001b[0m\u001b[1m x3        \u001b[0m\u001b[1m x2        \u001b[0m\u001b[1m x1        \u001b[0m\u001b[1m value     \u001b[0m\u001b[1m captured \u001b[0m\n",
       "     │\u001b[90m Float64   \u001b[0m\u001b[90m Float64   \u001b[0m\u001b[90m Float64   \u001b[0m\u001b[90m Float64   \u001b[0m\u001b[90m Float64   \u001b[0m\u001b[90m Bool     \u001b[0m\n",
       "─────┼─────────────────────────────────────────────────────────────────\n",
       "   1 │ -0.105334  -0.182134   1.85208    0.981955    22.7424      true\n",
       "   2 │  1.85208    0.981955  -0.105334  -0.182134    22.7424      true\n",
       "   3 │  1.80566    1.10491    1.32      -0.5        -33.8316      true\n",
       "   4 │  1.32      -0.5        1.80566    1.10491    -33.8316      true\n",
       "   5 │ -0.800321  -0.5        1.80566    1.10491    -97.4304     false\n",
       "   6 │ -1.42513    1.10491   -0.800321  -0.5       -163.415      false\n",
       "   7 │ -0.800321  -0.5       -1.42513    1.10491   -163.415      false\n",
       "   8 │ -0.800321  -0.5        0.821784   1.10491   -104.075      false\n",
       "  ⋮  │     ⋮          ⋮          ⋮          ⋮          ⋮         ⋮\n",
       "  12 │  0.821784   1.10491    1.80566    1.10491    -42.1508      true\n",
       "  13 │  0.821784   1.10491    0.821784   1.10491    -48.795       true\n",
       "  14 │ -1.42513    1.10491    1.32      -0.5        -99.8166      true\n",
       "  15 │  1.32      -0.5       -1.42513    1.10491    -99.8166      true\n",
       "  16 │ -1.42513    1.10491    0.821784   1.10491   -108.136       true\n",
       "  17 │  0.821784   1.10491   -1.42513    1.10491   -108.136       true\n",
       "  18 │ -1.42513    1.10491   -1.42513    1.10491   -167.477       true\n",
       "\u001b[36m                                                         3 rows omitted\u001b[0m)"
      ]
     },
     "metadata": {},
     "output_type": "display_data"
    }
   ],
   "source": [
    "using Optim\n",
    "df_cheb, df_min_cheb = analyze_critical_points(f, df_cheb, TR, tol_dist=0.5)"
   ]
  },
  {
   "cell_type": "code",
   "execution_count": 7,
   "metadata": {},
   "outputs": [
    {
     "name": "stdout",
     "output_type": "stream",
     "text": [
      "Processing point 1 of 5\n",
      "Processing point 2 of 5\n",
      "Processing point 3 of 5\n",
      "Processing point 4 of 5\n",
      "Processing point 5 of 5\n"
     ]
    },
    {
     "data": {
      "text/plain": [
       "(\u001b[1m5×8 DataFrame\u001b[0m\n",
       "\u001b[1m Row \u001b[0m│\u001b[1m x1           \u001b[0m\u001b[1m x2           \u001b[0m\u001b[1m z            \u001b[0m\u001b[1m y1           \u001b[0m\u001b[1m y2           \u001b[0m\u001b[1m c\u001b[0m ⋯\n",
       "     │\u001b[90m Float64      \u001b[0m\u001b[90m Float64      \u001b[0m\u001b[90m Float64      \u001b[0m\u001b[90m Float64      \u001b[0m\u001b[90m Float64      \u001b[0m\u001b[90m B\u001b[0m ⋯\n",
       "─────┼──────────────────────────────────────────────────────────────────────────\n",
       "   1 │  1.76263e-15  -4.64974      -1.78345e-16   1.76263e-15  -4.64974        ⋯\n",
       "   2 │  1.76499e-15   4.64974      -1.78583e-16   1.76499e-15   4.64974\n",
       "   3 │  2.55091e-15   3.56806e-14  -6.93408e-15   2.55091e-15   3.56806e-14\n",
       "   4 │  8.33474      -2.65005e-12  -4.63075       8.16215      -1.61401e-10\n",
       "   5 │ -8.33474      -2.65384e-12  -4.63075      -8.16215      -1.61404e-10    ⋯\n",
       "\u001b[36m                                                               3 columns omitted\u001b[0m, \u001b[1m5×4 DataFrame\u001b[0m\n",
       "\u001b[1m Row \u001b[0m│\u001b[1m x1           \u001b[0m\u001b[1m x2           \u001b[0m\u001b[1m value        \u001b[0m\u001b[1m captured \u001b[0m\n",
       "     │\u001b[90m Float64      \u001b[0m\u001b[90m Float64      \u001b[0m\u001b[90m Float64      \u001b[0m\u001b[90m Bool     \u001b[0m\n",
       "─────┼────────────────────────────────────────────────────\n",
       "   1 │  1.76263e-15  -4.64974      -1.78345e-16      true\n",
       "   2 │  1.76499e-15   4.64974      -1.78583e-16      true\n",
       "   3 │  2.55091e-15   3.56806e-14  -6.93408e-15      true\n",
       "   4 │  8.16215      -1.61401e-10  -4.71071          true\n",
       "   5 │ -8.16215      -1.61404e-10  -4.71071          true)"
      ]
     },
     "metadata": {},
     "output_type": "display_data"
    }
   ],
   "source": [
    "df_lege, df_min_lege = analyze_critical_points(f, df_lege, TR, tol_dist=0.5)"
   ]
  },
  {
   "cell_type": "code",
   "execution_count": 17,
   "metadata": {},
   "outputs": [],
   "source": [
    "using GLMakie\n",
    "plot_polyapprox_levelset(pol_cheb, TR, df_cheb, df_min_cheb)"
   ]
  },
  {
   "cell_type": "code",
   "execution_count": 9,
   "metadata": {},
   "outputs": [],
   "source": [
    "plot_polyapprox_rotate(pol_cheb, TR, df_cheb, df_min_cheb)"
   ]
  },
  {
   "cell_type": "code",
   "execution_count": 10,
   "metadata": {},
   "outputs": [],
   "source": [
    "plot_polyapprox_levelset(pol_lege, TR, df_lege, df_min_lege)"
   ]
  },
  {
   "cell_type": "code",
   "execution_count": 11,
   "metadata": {},
   "outputs": [],
   "source": [
    "plot_polyapprox_rotate(pol_lege, TR, df_lege, df_min_lege)"
   ]
  },
  {
   "cell_type": "code",
   "execution_count": 12,
   "metadata": {},
   "outputs": [],
   "source": [
    "# GLMakie.closeall()"
   ]
  }
 ],
 "metadata": {
  "kernelspec": {
   "display_name": "Julia 1.11.2",
   "language": "julia",
   "name": "julia-1.11"
  },
  "language_info": {
   "file_extension": ".jl",
   "mimetype": "application/julia",
   "name": "julia",
   "version": "1.11.2"
  }
 },
 "nbformat": 4,
 "nbformat_minor": 2
}
