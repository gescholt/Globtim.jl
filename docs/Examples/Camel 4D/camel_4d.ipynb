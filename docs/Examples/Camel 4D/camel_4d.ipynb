{
 "cells": [
  {
   "cell_type": "code",
   "execution_count": null,
   "metadata": {},
   "outputs": [],
   "source": [
    "using Globtim\n",
    "using CSV\n",
    "using DataFrames\n",
    "include(\"../src/lib_func.jl\")\n",
    "\n",
    "# Load the dataframe from the CSV file\n",
    "df_2d = CSV.read(\"../data/camel_3_d6.csv\", DataFrame)\n",
    "\n",
    "# Constants and Parameters\n",
    "d = 3      # Degree \n",
    "const n, a, b = 4, 5, 1 \n",
    "const scale_factor = a / b  # Scaling constant, C is appears in `main_computation`, maybe it should be a parameter.\n",
    "const delta, alpha = .1 , 2 / 10  # Sampling parameters\n",
    "# const tol_l2 = 1e-1               # Define the tolerance for the L2-norm\n",
    "const tol_l2 = 1e-0\n",
    "# The objective function\n",
    "f = camel_3_by_3 # Objective function"
   ]
  },
  {
   "cell_type": "code",
   "execution_count": null,
   "metadata": {},
   "outputs": [],
   "source": [
    "while true # Potential infinite loop\n",
    "    global poly_approx = MainGenerate(f, n, d, delta, alpha, scale_factor, 0.2) # computes the approximant in Chebyshev basis\n",
    "    if poly_approx.nrm < tol_l2\n",
    "        println(\"attained the desired L2-norm: \", poly_approx.nrm)\n",
    "        break\n",
    "    else\n",
    "        println(\"current L2-norm: \", poly_approx.nrm)\n",
    "        println(\"Number of samples: \", poly_approx.N)\n",
    "        global d += 1\n",
    "    end\n",
    "end"
   ]
  },
  {
   "cell_type": "code",
   "execution_count": null,
   "metadata": {},
   "outputs": [],
   "source": [
    "using DynamicPolynomials, HomotopyContinuation, ProgressLogging, DataFrames\n",
    "@polyvar(x[1:n]) # Define polynomial ring \n",
    "ap = main_nd(n, d, poly_approx.coeffs)\n",
    "# Expand the polynomial approximant to the standard monomial basis in the Lexicographic order w.r.t x. \n",
    "PolynomialApproximant = sum(Float64.(ap) .* MonomialVector(x, 0:d)) # Convert coefficients to Float64 for homotopy continuation\n",
    "grad = differentiate.(PolynomialApproximant, x)\n",
    "sys = System(grad)"
   ]
  },
  {
   "cell_type": "markdown",
   "metadata": {},
   "source": [
    "Now we use Optim.jl package to initialize step 3 and converge to the local minimizers.\n",
    "How do we know we have everything ? Use simple combinations of "
   ]
  },
  {
   "cell_type": "code",
   "execution_count": null,
   "metadata": {},
   "outputs": [],
   "source": [
    "Real_sol_lstsq = HomotopyContinuation.solve(sys)\n",
    "real_pts = HomotopyContinuation.real_solutions(Real_sol_lstsq; only_real=true, multiple_results=false)"
   ]
  },
  {
   "cell_type": "markdown",
   "metadata": {},
   "source": [
    "Construct a Dataframe with only the critical points of the approximant $w_d$ which fall into the $[-1, 1]^4$ domain and rescale them to the original domain. "
   ]
  },
  {
   "cell_type": "code",
   "execution_count": 5,
   "metadata": {},
   "outputs": [],
   "source": [
    "condition(point) = -1 < point[1] < 1 && -1 < point[2] < 1 && -1 < point[3] < 1 && -1 < point[4] < 1 \n",
    "filtered_points = filter(condition, real_pts) # Filter points using the filter function\n",
    "# Colllect the critical points of the approximant \n",
    "h_x1 = scale_factor * Float64[point[1] for point in filtered_points] # Initialize the x vector for critical points of approximant\n",
    "h_x2 = scale_factor * Float64[point[2] for point in filtered_points] \n",
    "h_x3 = scale_factor * Float64[point[3] for point in filtered_points] \n",
    "h_x4 = scale_factor * Float64[point[4] for point in filtered_points] \n",
    "\n",
    "height = map(p -> f(p), zip(h_x1, h_x2, h_x3, h_x4)) # Compute the height of the critical points\n",
    "df = DataFrame(x1 = h_x1, x2 = h_x2, x3 = h_x3, x4 = h_x4, height = height); # Create a DataFrame"
   ]
  },
  {
   "cell_type": "markdown",
   "metadata": {},
   "source": [
    "Now we want to compute the distance between the critical points of the 2d function.\n",
    "\n",
    "The true \"exact\" critical points of the 2d `Camel3` function are stored in `df_2d`. \n",
    "\n",
    "We compute which of those are the closest to the `[1:2]` and `[3:4]` coordinates of the critical points of our 4d approximant.  \n",
    "\n",
    "The true critical points are stored in `df_2d`. Need to split to distance to minima first coordinate and second set of coordinates ten combine them.\n"
   ]
  },
  {
   "cell_type": "code",
   "execution_count": null,
   "metadata": {},
   "outputs": [],
   "source": [
    "total_distance = Float64[]\n",
    "for i in 1:nrow(df)\n",
    "    distances_1 = [norm([df.x1[i], df.x2[i]] - [df_2d.x[j], df_2d.y[j]]) for j in 1:nrow(df_2d)]\n",
    "    distances_2 = [norm([df.x3[i], df.x4[i]] - [df_2d.x[j], df_2d.y[j]]) for j in 1:nrow(df_2d)]\n",
    "    # Compute distances to all points in df_2d\n",
    "    min_value_1, min_index_1 = findmin(distances_1)\n",
    "    min_value_2, min_index_2 = findmin(distances_2) \n",
    "\n",
    "    # Extract the corresponding points\n",
    "    point_1 = [df.x1[i], df.x2[i], df.x3[i], df.x4[i]]\n",
    "    point_2 = [df_2d.x[min_index_1], df_2d.y[min_index_1], df_2d.x[min_index_2], df_2d.y[min_index_2]]\n",
    "\n",
    "    # Compute total distance\n",
    "    tot_dist = norm(point_1 - point_2)\n",
    "    push!(total_distance, tot_dist)\n",
    "\n",
    "end\n",
    "df.total_distance = total_distance\n",
    "sorted_df = sort(df, :total_distance)\n"
   ]
  },
  {
   "cell_type": "code",
   "execution_count": null,
   "metadata": {},
   "outputs": [],
   "source": [
    "using Optim\n",
    "df.steps = zeros(nrow(df))\n",
    "df.converged = zeros(nrow(df))\n",
    "\n",
    "for i in 1:nrow(df)\n",
    "    # println(\"Optimizing for point $i\")\n",
    "    x0 = [df.x1[i], df.x2[i], df.x3[i], df.x4[i]]\n",
    "    #  + 0.2 * randn(Float64, 4)\n",
    "    res = Optim.optimize(f, x0, LBFGS(), Optim.Options(show_trace=false))\n",
    "    minimizer = Optim.minimizer(res)\n",
    "    min_value = Optim.minimum(res)\n",
    "    steps = res.iterations\n",
    "    converged = Optim.converged(res)\n",
    "    distance = norm(x0 - minimizer)\n",
    "    # df.dist_to_loc_min[i] = distance\n",
    "    df.steps[i] = steps\n",
    "    df.converged[i] = converged\n",
    "    # summary(res)\n",
    "end\n",
    "df"
   ]
  }
 ],
 "metadata": {
  "kernelspec": {
   "display_name": "Julia 1.10.4",
   "language": "julia",
   "name": "julia-1.10"
  },
  "language_info": {
   "file_extension": ".jl",
   "mimetype": "application/julia",
   "name": "julia",
   "version": "1.10.4"
  }
 },
 "nbformat": 4,
 "nbformat_minor": 2
}
