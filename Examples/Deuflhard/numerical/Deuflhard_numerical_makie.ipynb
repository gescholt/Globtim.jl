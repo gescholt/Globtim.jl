{
 "cells": [
  {
   "cell_type": "markdown",
   "metadata": {},
   "source": [
    "What we need is a small parcel to work on, with a nice contourplot with critical points and minima found after initiating local method and then a 3d plot. "
   ]
  },
  {
   "cell_type": "code",
   "execution_count": 8,
   "metadata": {},
   "outputs": [
    {
     "name": "stderr",
     "output_type": "stream",
     "text": [
      "\u001b[32m\u001b[1m  Activating\u001b[22m\u001b[39m project at `~/Globtim.jl`\n"
     ]
    },
    {
     "data": {
      "text/plain": [
       "Deuflhard (generic function with 1 method)"
      ]
     },
     "metadata": {},
     "output_type": "display_data"
    }
   ],
   "source": [
    "using Pkg\n",
    "Pkg.activate(\"../../../\")\n",
    "# Pkg.instantiate()\n",
    "using Globtim\n",
    "# # Constants and Parameters\n",
    "d = 1 # Initial Degree \n",
    "const n, a, b = 2, 11, 10 \n",
    "const scale_factor = a / b       # Scaling factor appears in `main_computation`, maybe it should be a parameter.\n",
    "const delta, alpha = .5 , 1 / 10  # Sampling parameters # Delta used to be too big \n",
    "const tol_l2 = 1e-4            # Define the tolerance for the L2-norm\n",
    "const sample_scale = 1.0\n",
    "\n",
    "f = Deuflhard # Objective function"
   ]
  },
  {
   "cell_type": "markdown",
   "metadata": {},
   "source": [
    "One may assume that when we have access to exact evaluations, we would want to have a small $L^2$-norm tolerance `tol_l2 = 5e-4` and high probability of computing an accurate discrete $L^2$-norm `alpha= 1/10`.\n",
    "\n",
    "We need to also return the number of samples used to generate the sample set. It is annoying that the error goes up while the degree has increased."
   ]
  },
  {
   "cell_type": "code",
   "execution_count": 9,
   "metadata": {},
   "outputs": [
    {
     "name": "stdout",
     "output_type": "stream",
     "text": [
      "current L2-norm: 0.7126746385412904\n",
      "Number of samples: 20\n",
      "current L2-norm: 0.2643263601556228\n",
      "Number of samples: 36\n",
      "current L2-norm: 0.16828389476537675\n",
      "Number of samples: 56\n",
      "current L2-norm: 0.05095097972974844\n",
      "Number of samples: 79\n",
      "current L2-norm: 0.03821589210464418\n",
      "Number of samples: 105\n",
      "current L2-norm: 0.011678441767439998\n",
      "Number of samples: 134\n",
      "current L2-norm: 0.009413714499985898\n",
      "Number of samples: 166\n",
      "current L2-norm: 0.0018310409855694131\n",
      "Number of samples: 201\n",
      "current L2-norm: 0.0015451932338800035\n",
      "Number of samples: 238\n",
      "current L2-norm: 0.0004709182424927247\n",
      "Number of samples: 278\n",
      "current L2-norm: 0.0004089177653992807\n",
      "Number of samples: 320\n",
      "current L2-norm: 0.00018404396152647953\n",
      "Number of samples: 364\n",
      "current L2-norm: 0.0001629465042998042\n",
      "Number of samples: 411\n",
      "attained the desired L2-norm: 3.3416987092232604e-5\n",
      "Degree :14 \n",
      "current L2-norm: 3.3416987092232604e-5\n",
      "Number of samples: 460\n"
     ]
    }
   ],
   "source": [
    "while true # Potential infinite loop\n",
    "    global poly_approx = MainGenerate(f, 2, d, delta, alpha, scale_factor, sample_scale) # computes the approximant in Chebyshev basis\n",
    "    if poly_approx.nrm < tol_l2\n",
    "        println(\"attained the desired L2-norm: \", poly_approx.nrm)\n",
    "        println(\"Degree :$d \")\n",
    "        break\n",
    "    else\n",
    "        println(\"current L2-norm: \", poly_approx.nrm)\n",
    "        println(\"Number of samples: \", poly_approx.N)\n",
    "        global d += 1\n",
    "    end\n",
    "end\n",
    "println(\"current L2-norm: \", poly_approx.nrm)\n",
    "println(\"Number of samples: \", poly_approx.N)"
   ]
  },
  {
   "cell_type": "markdown",
   "metadata": {},
   "source": [
    "We check the distribution of the magnitudes of the coefficients of the approximant"
   ]
  },
  {
   "cell_type": "code",
   "execution_count": 10,
   "metadata": {},
   "outputs": [
    {
     "ename": "ArgumentError",
     "evalue": "ArgumentError: Package Plots not found in current path.\n- Run `import Pkg; Pkg.add(\"Plots\")` to install the Plots package.",
     "output_type": "error",
     "traceback": [
      "ArgumentError: Package Plots not found in current path.\n",
      "- Run `import Pkg; Pkg.add(\"Plots\")` to install the Plots package.\n",
      "\n",
      "Stacktrace:\n",
      "  [1] macro expansion\n",
      "    @ ./loading.jl:2223 [inlined]\n",
      "  [2] macro expansion\n",
      "    @ ./lock.jl:273 [inlined]\n",
      "  [3] __require(into::Module, mod::Symbol)\n",
      "    @ Base ./loading.jl:2198\n",
      "  [4] #invoke_in_world#3\n",
      "    @ ./essentials.jl:1089 [inlined]\n",
      "  [5] invoke_in_world\n",
      "    @ ./essentials.jl:1086 [inlined]\n",
      "  [6] require(into::Module, mod::Symbol)\n",
      "    @ Base ./loading.jl:2191\n",
      "  [7] eval\n",
      "    @ ./boot.jl:430 [inlined]\n",
      "  [8] include_string(mapexpr::typeof(REPL.softscope), mod::Module, code::String, filename::String)\n",
      "    @ Base ./loading.jl:2643\n",
      "  [9] #invokelatest#2\n",
      "    @ ./essentials.jl:1055 [inlined]\n",
      " [10] invokelatest\n",
      "    @ ./essentials.jl:1052 [inlined]\n",
      " [11] (::VSCodeServer.var\"#217#218\"{VSCodeServer.NotebookRunCellArguments, String})()\n",
      "    @ VSCodeServer ~/.vscode/extensions/julialang.language-julia-1.127.2/scripts/packages/VSCodeServer/src/serve_notebook.jl:24\n",
      " [12] withpath(f::VSCodeServer.var\"#217#218\"{VSCodeServer.NotebookRunCellArguments, String}, path::String)\n",
      "    @ VSCodeServer ~/.vscode/extensions/julialang.language-julia-1.127.2/scripts/packages/VSCodeServer/src/repl.jl:276\n",
      " [13] notebook_runcell_request(conn::VSCodeServer.JSONRPC.JSONRPCEndpoint{Base.PipeEndpoint, Base.PipeEndpoint}, params::VSCodeServer.NotebookRunCellArguments)\n",
      "    @ VSCodeServer ~/.vscode/extensions/julialang.language-julia-1.127.2/scripts/packages/VSCodeServer/src/serve_notebook.jl:13\n",
      " [14] dispatch_msg(x::VSCodeServer.JSONRPC.JSONRPCEndpoint{Base.PipeEndpoint, Base.PipeEndpoint}, dispatcher::VSCodeServer.JSONRPC.MsgDispatcher, msg::Dict{String, Any})\n",
      "    @ VSCodeServer.JSONRPC ~/.vscode/extensions/julialang.language-julia-1.127.2/scripts/packages/JSONRPC/src/typed.jl:67\n",
      " [15] serve_notebook(pipename::String, debugger_pipename::String, outputchannel_logger::Base.CoreLogging.SimpleLogger; error_handler::var\"#5#10\"{String})\n",
      "    @ VSCodeServer ~/.vscode/extensions/julialang.language-julia-1.127.2/scripts/packages/VSCodeServer/src/serve_notebook.jl:147\n",
      " [16] top-level scope\n",
      "    @ ~/.vscode/extensions/julialang.language-julia-1.127.2/scripts/notebook/notebook.jl:35"
     ]
    }
   ],
   "source": [
    "using Plots \n",
    "Plots.histogram(abs.(poly_approx.coeffs))"
   ]
  },
  {
   "cell_type": "markdown",
   "metadata": {},
   "source": [
    "We now expand the approximant computed in the tensorized Chebyshev basis into standard monomial basis and construct the system of partials for homotopy continuation. "
   ]
  },
  {
   "cell_type": "code",
   "execution_count": null,
   "metadata": {},
   "outputs": [],
   "source": [
    "using DynamicPolynomials, HomotopyContinuation, ProgressLogging, DataFrames\n",
    "@polyvar(x[1:n]) # Define polynomial ring \n",
    "ap = main_nd(n, d, poly_approx.coeffs)\n",
    "# Expand the polynomial approximant to the standard monomial basis in the Lexicographic order w.r.t x. \n",
    "PolynomialApproximant = sum(Float64.(ap) .* MonomialVector(x, 0:d)) # Convert coefficients to Float64 for homotopy continuation\n",
    "grad = differentiate.(PolynomialApproximant, x)\n",
    "sys = System(grad)"
   ]
  },
  {
   "cell_type": "markdown",
   "metadata": {},
   "source": [
    "Solve the system of partial derivatives using HomotopyContinuation. The coefficients have to be Float64. "
   ]
  },
  {
   "cell_type": "code",
   "execution_count": null,
   "metadata": {},
   "outputs": [],
   "source": [
    "Real_sol_lstsq = HomotopyContinuation.solve(sys)\n",
    "real_pts = HomotopyContinuation.real_solutions(Real_sol_lstsq; only_real=true, multiple_results=false)"
   ]
  },
  {
   "cell_type": "markdown",
   "metadata": {},
   "source": [
    "Sort through the critical points, make sure they fall into the domain of definition. Make them into a Dataframe."
   ]
  },
  {
   "cell_type": "code",
   "execution_count": 6,
   "metadata": {},
   "outputs": [],
   "source": [
    "condition(point) = -1 < point[1] < 1 && -1 < point[2] < 1\n",
    "filtered_points = filter(condition, real_pts) # Filter points using the filter function\n",
    "# Colllect the critical points of the approximant \n",
    "h_x = Float64[point[1] for point in filtered_points] # Initialize the x vector for critical points of approximant\n",
    "h_y = Float64[point[2] for point in filtered_points] # Initialize the y vector\n",
    "h_z = map(p -> f([p[1], p[2]]), zip(scale_factor * h_x, scale_factor * h_y))\n",
    "df = DataFrame(x=scale_factor * h_x, y=scale_factor * h_y, z= h_z); # Create a DataFrame"
   ]
  },
  {
   "cell_type": "markdown",
   "metadata": {},
   "source": [
    "We proceed to generate the plot of the critical points over the sample set $\\mathcal{S}$."
   ]
  },
  {
   "cell_type": "code",
   "execution_count": null,
   "metadata": {},
   "outputs": [],
   "source": [
    "# using PlotlyJS, Colors\n",
    "\n",
    "# coords = poly_approx.scale_factor * poly_approx.grid # Extract coordinates and function values\n",
    "# z_coords = poly_approx.z\n",
    "\n",
    "# if size(coords)[2] == 2 # Plot the 3D scatter plot if the dimensions are 2\n",
    "#     scatter_trace = PlotlyJS.scatter3d(\n",
    "#         x=coords[:, 1],\n",
    "#         y=coords[:, 2],\n",
    "#         z=z_coords,\n",
    "#         mode=\"markers\",\n",
    "#         marker=attr(\n",
    "#             size=1,\n",
    "#             color=z_coords,\n",
    "#             colorscale=\"Viridis\"\n",
    "#         ),\n",
    "#         name=\"Sampled Data\"\n",
    "#     )\n",
    "\n",
    "#     # Create the scatter3d trace\n",
    "#     # Had to switch the coordinates of the critical points to match the surface plot for some reason. \n",
    "#     crit_pts = PlotlyJS.scatter3d(\n",
    "#         x=df.y,\n",
    "#         y=df.x,\n",
    "#         z=df.z,\n",
    "#         mode=\"markers\",\n",
    "#         marker=attr(\n",
    "#             size=10,\n",
    "#             color=\"red\"\n",
    "#         ),\n",
    "#         name=\"Exact approximant critical points\"\n",
    "#     )\n",
    "\n",
    "#     layout = Layout(\n",
    "#         title=\"Deuflhard Sample Points\",\n",
    "#         scene=attr(\n",
    "#             xaxis=attr(title=\"X-axis\"),\n",
    "#             yaxis=attr(title=\"Y-axis\"),\n",
    "#             zaxis=attr(title=\"Z-axis\")),\n",
    "#         height=1200\n",
    "#     )\n",
    "#     plt1 = Plot([scatter_trace, crit_pts],layout)\n",
    "# end\n"
   ]
  },
  {
   "cell_type": "code",
   "execution_count": null,
   "metadata": {},
   "outputs": [],
   "source": [
    "using GLMakie\n",
    "GLMakie.activate!()\n",
    "GLMakie.closeall() # close any open screen\n",
    "\n",
    "function peaks(; n=49)\n",
    "    x = LinRange(-3, 3, n)\n",
    "    y = LinRange(-3, 3, n)\n",
    "    a = 3 * (1 .- x') .^ 2 .* exp.(-(x' .^ 2) .- (y .+ 1) .^ 2)\n",
    "    b = 10 * (x' / 5 .- x' .^ 3 .- y .^ 5) .* exp.(-x' .^ 2 .- y .^ 2)\n",
    "    c = 1 / 3 * exp.(-(x' .+ 1) .^ 2 .- y .^ 2)\n",
    "    return (x, y, a .- b .- c)\n",
    "end\n",
    "x, y, z = peaks()\n",
    "with_theme(theme_dark()) do\n",
    "    fig = Figure(size=(1200, 800))\n",
    "    ax1 = Axis(fig[1, 1], aspect=1)\n",
    "    ax2 = Axis3(fig[1, 2]; aspect=(1, 1, 0.7), perspectiveness=0.5)\n",
    "    axs = [ax1, ax2]\n",
    "    cmap = :diverging_bkr_55_10_c35_n256\n",
    "    contourf!(axs[1], x, y, z; levels=0.1:0.08:0.9, mode=:relative,\n",
    "        colormap=cmap)\n",
    "    # bug, colormap cannot be transparent\n",
    "    contourf!(axs[2], x, y, z; levels=14, colormap=cmap)\n",
    "    contour3d!(axs[2], x, y, z; levels=14, colormap=cmap,\n",
    "        transparency=true, linewidth=5)\n",
    "    limits!(axs[1], -3, 3, -3, 3)\n",
    "    hidedecorations!.(axs; grid=false)\n",
    "    fig\n",
    "end"
   ]
  },
  {
   "cell_type": "code",
   "execution_count": null,
   "metadata": {},
   "outputs": [],
   "source": [
    "println(\"Degree: $d\")\n",
    "println(\"current L2-norm: \", poly_approx.nrm)\n",
    "println(\"Number of samples: \", poly_approx.N)\n",
    "# savefig(plt1, \"../../data/figures/Deuflhard/Exact_Deuflhard/3d_Deuflhard.html\")"
   ]
  }
 ],
 "metadata": {
  "kernelspec": {
   "display_name": "Julia 1.11.1",
   "language": "julia",
   "name": "julia-1.11"
  },
  "language_info": {
   "file_extension": ".jl",
   "mimetype": "application/julia",
   "name": "julia",
   "version": "1.11.1"
  }
 },
 "nbformat": 4,
 "nbformat_minor": 2
}
