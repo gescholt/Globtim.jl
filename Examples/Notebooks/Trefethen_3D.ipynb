{
 "cells": [
  {
   "cell_type": "code",
   "execution_count": 2,
   "metadata": {},
   "outputs": [
    {
     "name": "stderr",
     "output_type": "stream",
     "text": [
      "\u001b[32m\u001b[1m  Activating\u001b[22m\u001b[39m project at `~/globtim`\n"
     ]
    },
    {
     "data": {
      "text/plain": [
       "tref_3d (generic function with 1 method)"
      ]
     },
     "metadata": {},
     "output_type": "display_data"
    }
   ],
   "source": [
    "using Pkg\n",
    "using Revise\n",
    "Pkg.activate(joinpath(@__DIR__, \"../../\"))\n",
    "using Globtim\n",
    "using DynamicPolynomials, DataFrames\n",
    "using GLMakie\n",
    "using StaticArrays\n",
    "# Constants and Parameters\n",
    "const n, a, b = 3, 12, 100 \n",
    "const scale_factor = a / b   # Scaling factor appears in `main_computation`\n",
    "f = tref_3d # Objective function"
   ]
  },
  {
   "cell_type": "markdown",
   "metadata": {},
   "source": [
    "We set the number of samples used to generate the approximant. It is annoying that the error goes up while the degree has increased."
   ]
  },
  {
   "cell_type": "code",
   "execution_count": 3,
   "metadata": {},
   "outputs": [
    {
     "name": "stdout",
     "output_type": "stream",
     "text": [
      "current L2-norm: 0.22614997702996484\n"
     ]
    }
   ],
   "source": [
    "center = [0.0, 0.0, 0.0];\n",
    "d = 14 # initial degree \n",
    "SMPL = 30 # Number of samples\n",
    "TR = test_input(f, \n",
    "                dim = n,\n",
    "                center=center,\n",
    "                GN=SMPL, \n",
    "                sample_range=scale_factor, \n",
    "                degree_max =d+4\n",
    "                )\n",
    "pol_cheb = Constructor(TR, d, basis=:chebyshev)\n",
    "# pol_lege = Constructor(TR, d, basis=:legendre);\n",
    "\n",
    "@polyvar(x[1:n]); # Define polynomial ring "
   ]
  },
  {
   "cell_type": "markdown",
   "metadata": {},
   "source": [
    "Solve the system of partial derivatives using `Homotopy_COntinuation.jl`. "
   ]
  },
  {
   "cell_type": "code",
   "execution_count": 4,
   "metadata": {},
   "outputs": [
    {
     "name": "stdout",
     "output_type": "stream",
     "text": [
      "Dimension m of the vector space: 680\n",
      "\u001b[32mTracking 2197 paths...   0%|                            |  ETA: 1:58:46\u001b[39m\u001b[K\n",
      "\n",
      "\n",
      "\n",
      "\u001b[32mTracking 2197 paths...   6%|█▊                          |  ETA: 0:01:43\u001b[39m\u001b[K\n",
      "\n",
      "\n",
      "\n",
      "\u001b[32mTracking 2197 paths...  10%|██▊                         |  ETA: 0:01:08\u001b[39m\u001b[K\n",
      "\n",
      "\n",
      "\n",
      "\u001b[32mTracking 2197 paths...  13%|███▋                        |  ETA: 0:00:51\u001b[39m\u001b[K\n",
      "\n",
      "\n",
      "\n",
      "\u001b[32mTracking 2197 paths...  16%|████▍                       |  ETA: 0:00:41\u001b[39m\u001b[K\n",
      "\n",
      "\n",
      "\n",
      "\u001b[32mTracking 2197 paths...  19%|█████▍                      |  ETA: 0:00:34\u001b[39m\u001b[K\n",
      "\n",
      "\n",
      "\n",
      "\u001b[32mTracking 2197 paths...  22%|██████▏                     |  ETA: 0:00:29\u001b[39m\u001b[K\n",
      "\n",
      "\n",
      "\n",
      "\u001b[32mTracking 2197 paths...  25%|███████▏                    |  ETA: 0:00:25\u001b[39m\u001b[K\n",
      "\n",
      "\n",
      "\n",
      "\u001b[32mTracking 2197 paths...  28%|███████▊                    |  ETA: 0:00:22\u001b[39m\u001b[K\n",
      "\n",
      "\n",
      "\n",
      "\u001b[32mTracking 2197 paths...  30%|████████▌                   |  ETA: 0:00:20\u001b[39m\u001b[K\n",
      "\n",
      "\n",
      "\n",
      "\u001b[32mTracking 2197 paths...  33%|█████████▎                  |  ETA: 0:00:18\u001b[39m\u001b[K\n",
      "\n",
      "\n",
      "\n",
      "\u001b[32mTracking 2197 paths...  36%|██████████                  |  ETA: 0:00:16\u001b[39m\u001b[K\n",
      "\n",
      "\n",
      "\n",
      "\u001b[32mTracking 2197 paths...  38%|██████████▋                 |  ETA: 0:00:15\u001b[39m\u001b[K\n",
      "\n",
      "\n",
      "\n",
      "\u001b[32mTracking 2197 paths...  41%|███████████▌                |  ETA: 0:00:14\u001b[39m\u001b[K\n",
      "\n",
      "\n",
      "\n",
      "\u001b[32mTracking 2197 paths...  44%|████████████▍               |  ETA: 0:00:12\u001b[39m\u001b[K\n",
      "\n",
      "\n",
      "\n",
      "\u001b[32mTracking 2197 paths...  47%|█████████████▎              |  ETA: 0:00:11\u001b[39m\u001b[K\n",
      "\n",
      "\n",
      "\n",
      "\u001b[32mTracking 2197 paths...  51%|██████████████▏             |  ETA: 0:00:10\u001b[39m\u001b[K\n",
      "\n",
      "\n",
      "\n",
      "\u001b[32mTracking 2197 paths...  54%|███████████████             |  ETA: 0:00:09\u001b[39m\u001b[K\n",
      "\n",
      "\n",
      "\n",
      "\u001b[32mTracking 2197 paths...  57%|████████████████            |  ETA: 0:00:08\u001b[39m\u001b[K\n",
      "\n",
      "\n",
      "\n",
      "\u001b[32mTracking 2197 paths...  60%|████████████████▉           |  ETA: 0:00:07\u001b[39m\u001b[K\n",
      "\n",
      "\n",
      "\n",
      "\u001b[32mTracking 2197 paths...  63%|█████████████████▋          |  ETA: 0:00:06\u001b[39m\u001b[K\n",
      "\n",
      "\n",
      "\n",
      "\u001b[32mTracking 2197 paths...  66%|██████████████████▍         |  ETA: 0:00:06\u001b[39m\u001b[K\n",
      "\n",
      "\n",
      "\n",
      "\u001b[32mTracking 2197 paths...  68%|███████████████████▏        |  ETA: 0:00:05\u001b[39m\u001b[K\n",
      "\n",
      "\n",
      "\n",
      "\u001b[32mTracking 2197 paths...  72%|████████████████████        |  ETA: 0:00:05\u001b[39m\u001b[K\n",
      "\n",
      "\n",
      "\n",
      "\u001b[32mTracking 2197 paths...  74%|████████████████████▉       |  ETA: 0:00:04\u001b[39m\u001b[K\n",
      "\n",
      "\n",
      "\n",
      "\u001b[32mTracking 2197 paths...  78%|█████████████████████▊      |  ETA: 0:00:03\u001b[39m\u001b[K\n",
      "\n",
      "\n",
      "\n",
      "\u001b[32mTracking 2197 paths...  81%|██████████████████████▌     |  ETA: 0:00:03\u001b[39m\u001b[K\n",
      "\n",
      "\n",
      "\n",
      "\u001b[32mTracking 2197 paths...  83%|███████████████████████▎    |  ETA: 0:00:03\u001b[39m\u001b[K\n",
      "\n",
      "\n",
      "\n",
      "\u001b[32mTracking 2197 paths...  86%|████████████████████████    |  ETA: 0:00:02\u001b[39m\u001b[K\n",
      "\n",
      "\n",
      "\n",
      "\u001b[32mTracking 2197 paths...  89%|████████████████████████▉   |  ETA: 0:00:02\u001b[39m\u001b[K\n",
      "\n",
      "\n",
      "\n",
      "\u001b[32mTracking 2197 paths...  92%|█████████████████████████▊  |  ETA: 0:00:01\u001b[39m\u001b[K\n",
      "\n",
      "\n",
      "\n",
      "\u001b[32mTracking 2197 paths...  95%|██████████████████████████▋ |  ETA: 0:00:01\u001b[39m\u001b[K\n",
      "\n",
      "\n",
      "\n",
      "\u001b[32mTracking 2197 paths...  98%|███████████████████████████▌|  ETA: 0:00:00\u001b[39m\u001b[K\n",
      "\n",
      "\n",
      "\n",
      "\u001b[32mTracking 2197 paths... 100%|████████████████████████████| Time: 0:00:13\u001b[39m\u001b[K\n",
      "\u001b[34m  # paths tracked:                  2197\u001b[39m\u001b[K\n",
      "\u001b[34m  # non-singular solutions (real):  2183 (404)\u001b[39m\u001b[K\n",
      "\u001b[34m  # singular endpoints (real):      14 (1)\u001b[39m\u001b[K\n",
      "\u001b[34m  # total solutions (real):         2197 (405)\u001b[39m\u001b[K\n",
      "\n",
      "=== Starting Critical Points Processing (dimension: 3) ===\n",
      "Processed 163 points (0.043s)\n"
     ]
    },
    {
     "data": {
      "text/html": [
       "<div><div style = \"float: left;\"><span>163×4 DataFrame</span></div><div style = \"float: right;\"><span style = \"font-style: italic;\">138 rows omitted</span></div><div style = \"clear: both;\"></div></div><div class = \"data-frame\" style = \"overflow-x: scroll;\"><table class = \"data-frame\" style = \"margin-bottom: 6px;\"><thead><tr class = \"header\"><th class = \"rowNumber\" style = \"font-weight: bold; text-align: right;\">Row</th><th style = \"text-align: left;\">x1</th><th style = \"text-align: left;\">x2</th><th style = \"text-align: left;\">x3</th><th style = \"text-align: left;\">z</th></tr><tr class = \"subheader headerLastRow\"><th class = \"rowNumber\" style = \"font-weight: bold; text-align: right;\"></th><th title = \"Float64\" style = \"text-align: left;\">Float64</th><th title = \"Float64\" style = \"text-align: left;\">Float64</th><th title = \"Float64\" style = \"text-align: left;\">Float64</th><th title = \"Float64\" style = \"text-align: left;\">Float64</th></tr></thead><tbody><tr><td class = \"rowNumber\" style = \"font-weight: bold; text-align: right;\">1</td><td style = \"text-align: right;\">0.0736422</td><td style = \"text-align: right;\">-0.0944664</td><td style = \"text-align: right;\">0.0274242</td><td style = \"text-align: right;\">-2.85823</td></tr><tr><td class = \"rowNumber\" style = \"font-weight: bold; text-align: right;\">2</td><td style = \"text-align: right;\">0.0741805</td><td style = \"text-align: right;\">-0.0245259</td><td style = \"text-align: right;\">0.0792559</td><td style = \"text-align: right;\">-2.74386</td></tr><tr><td class = \"rowNumber\" style = \"font-weight: bold; text-align: right;\">3</td><td style = \"text-align: right;\">0.074208</td><td style = \"text-align: right;\">0.0647108</td><td style = \"text-align: right;\">0.0803654</td><td style = \"text-align: right;\">-2.72695</td></tr><tr><td class = \"rowNumber\" style = \"font-weight: bold; text-align: right;\">4</td><td style = \"text-align: right;\">-0.0212179</td><td style = \"text-align: right;\">-0.0245586</td><td style = \"text-align: right;\">0.0814471</td><td style = \"text-align: right;\">-2.52546</td></tr><tr><td class = \"rowNumber\" style = \"font-weight: bold; text-align: right;\">5</td><td style = \"text-align: right;\">-0.0212193</td><td style = \"text-align: right;\">0.0646054</td><td style = \"text-align: right;\">0.0824696</td><td style = \"text-align: right;\">-2.50874</td></tr><tr><td class = \"rowNumber\" style = \"font-weight: bold; text-align: right;\">6</td><td style = \"text-align: right;\">0.0740949</td><td style = \"text-align: right;\">-0.0239071</td><td style = \"text-align: right;\">-0.02307</td><td style = \"text-align: right;\">-2.45653</td></tr><tr><td class = \"rowNumber\" style = \"font-weight: bold; text-align: right;\">7</td><td style = \"text-align: right;\">0.0741013</td><td style = \"text-align: right;\">0.064554</td><td style = \"text-align: right;\">-0.0234261</td><td style = \"text-align: right;\">-2.4548</td></tr><tr><td class = \"rowNumber\" style = \"font-weight: bold; text-align: right;\">8</td><td style = \"text-align: right;\">-0.0212524</td><td style = \"text-align: right;\">-0.094455</td><td style = \"text-align: right;\">0.028739</td><td style = \"text-align: right;\">-2.34302</td></tr><tr><td class = \"rowNumber\" style = \"font-weight: bold; text-align: right;\">9</td><td style = \"text-align: right;\">-0.0214254</td><td style = \"text-align: right;\">-0.0238961</td><td style = \"text-align: right;\">-0.0228651</td><td style = \"text-align: right;\">-1.81261</td></tr><tr><td class = \"rowNumber\" style = \"font-weight: bold; text-align: right;\">10</td><td style = \"text-align: right;\">-0.0214272</td><td style = \"text-align: right;\">0.0645431</td><td style = \"text-align: right;\">-0.0232305</td><td style = \"text-align: right;\">-1.81093</td></tr><tr><td class = \"rowNumber\" style = \"font-weight: bold; text-align: right;\">11</td><td style = \"text-align: right;\">0.0757468</td><td style = \"text-align: right;\">-0.0943982</td><td style = \"text-align: right;\">-0.0741909</td><td style = \"text-align: right;\">-1.78978</td></tr><tr><td class = \"rowNumber\" style = \"font-weight: bold; text-align: right;\">12</td><td style = \"text-align: right;\">0.0736633</td><td style = \"text-align: right;\">0.0511131</td><td style = \"text-align: right;\">0.0174404</td><td style = \"text-align: right;\">-1.53984</td></tr><tr><td class = \"rowNumber\" style = \"font-weight: bold; text-align: right;\">13</td><td style = \"text-align: right;\">0.0736462</td><td style = \"text-align: right;\">-0.0117797</td><td style = \"text-align: right;\">0.0236729</td><td style = \"text-align: right;\">-1.4528</td></tr><tr><td style = \"text-align: right;\">&vellip;</td><td style = \"text-align: right;\">&vellip;</td><td style = \"text-align: right;\">&vellip;</td><td style = \"text-align: right;\">&vellip;</td><td style = \"text-align: right;\">&vellip;</td></tr><tr><td class = \"rowNumber\" style = \"font-weight: bold; text-align: right;\">152</td><td style = \"text-align: right;\">-0.0886387</td><td style = \"text-align: right;\">0.105298</td><td style = \"text-align: right;\">-0.115664</td><td style = \"text-align: right;\">4.68167</td></tr><tr><td class = \"rowNumber\" style = \"font-weight: bold; text-align: right;\">153</td><td style = \"text-align: right;\">0.0262812</td><td style = \"text-align: right;\">-0.0679338</td><td style = \"text-align: right;\">-0.0326396</td><td style = \"text-align: right;\">4.726</td></tr><tr><td class = \"rowNumber\" style = \"font-weight: bold; text-align: right;\">154</td><td style = \"text-align: right;\">-0.0854574</td><td style = \"text-align: right;\">0.0865675</td><td style = \"text-align: right;\">-0.0770499</td><td style = \"text-align: right;\">4.77602</td></tr><tr><td class = \"rowNumber\" style = \"font-weight: bold; text-align: right;\">155</td><td style = \"text-align: right;\">-0.0834882</td><td style = \"text-align: right;\">-0.0683122</td><td style = \"text-align: right;\">-0.0294813</td><td style = \"text-align: right;\">4.82609</td></tr><tr><td class = \"rowNumber\" style = \"font-weight: bold; text-align: right;\">156</td><td style = \"text-align: right;\">-0.0855876</td><td style = \"text-align: right;\">-0.05004</td><td style = \"text-align: right;\">-0.0789911</td><td style = \"text-align: right;\">4.87469</td></tr><tr><td class = \"rowNumber\" style = \"font-weight: bold; text-align: right;\">157</td><td style = \"text-align: right;\">0.0269276</td><td style = \"text-align: right;\">0.0862978</td><td style = \"text-align: right;\">-0.0788397</td><td style = \"text-align: right;\">4.90637</td></tr><tr><td class = \"rowNumber\" style = \"font-weight: bold; text-align: right;\">158</td><td style = \"text-align: right;\">0.0281495</td><td style = \"text-align: right;\">0.105277</td><td style = \"text-align: right;\">-0.115966</td><td style = \"text-align: right;\">4.96954</td></tr><tr><td class = \"rowNumber\" style = \"font-weight: bold; text-align: right;\">159</td><td style = \"text-align: right;\">0.0262649</td><td style = \"text-align: right;\">0.108934</td><td style = \"text-align: right;\">-0.0298917</td><td style = \"text-align: right;\">4.98097</td></tr><tr><td class = \"rowNumber\" style = \"font-weight: bold; text-align: right;\">160</td><td style = \"text-align: right;\">0.0269776</td><td style = \"text-align: right;\">-0.0499429</td><td style = \"text-align: right;\">-0.0809825</td><td style = \"text-align: right;\">5.00736</td></tr><tr><td class = \"rowNumber\" style = \"font-weight: bold; text-align: right;\">161</td><td style = \"text-align: right;\">-0.0834708</td><td style = \"text-align: right;\">0.109068</td><td style = \"text-align: right;\">-0.0284062</td><td style = \"text-align: right;\">5.07961</td></tr><tr><td class = \"rowNumber\" style = \"font-weight: bold; text-align: right;\">162</td><td style = \"text-align: right;\">0.0262712</td><td style = \"text-align: right;\">0.0205571</td><td style = \"text-align: right;\">-0.0309978</td><td style = \"text-align: right;\">5.39482</td></tr><tr><td class = \"rowNumber\" style = \"font-weight: bold; text-align: right;\">163</td><td style = \"text-align: right;\">-0.0834868</td><td style = \"text-align: right;\">0.0205744</td><td style = \"text-align: right;\">-0.0294013</td><td style = \"text-align: right;\">5.5001</td></tr></tbody></table></div>"
      ],
      "text/latex": [
       "\\begin{tabular}{r|cccc}\n",
       "\t& x1 & x2 & x3 & z\\\\\n",
       "\t\\hline\n",
       "\t& Float64 & Float64 & Float64 & Float64\\\\\n",
       "\t\\hline\n",
       "\t1 & 0.0736422 & -0.0944664 & 0.0274242 & -2.85823 \\\\\n",
       "\t2 & 0.0741805 & -0.0245259 & 0.0792559 & -2.74386 \\\\\n",
       "\t3 & 0.074208 & 0.0647108 & 0.0803654 & -2.72695 \\\\\n",
       "\t4 & -0.0212179 & -0.0245586 & 0.0814471 & -2.52546 \\\\\n",
       "\t5 & -0.0212193 & 0.0646054 & 0.0824696 & -2.50874 \\\\\n",
       "\t6 & 0.0740949 & -0.0239071 & -0.02307 & -2.45653 \\\\\n",
       "\t7 & 0.0741013 & 0.064554 & -0.0234261 & -2.4548 \\\\\n",
       "\t8 & -0.0212524 & -0.094455 & 0.028739 & -2.34302 \\\\\n",
       "\t9 & -0.0214254 & -0.0238961 & -0.0228651 & -1.81261 \\\\\n",
       "\t10 & -0.0214272 & 0.0645431 & -0.0232305 & -1.81093 \\\\\n",
       "\t11 & 0.0757468 & -0.0943982 & -0.0741909 & -1.78978 \\\\\n",
       "\t12 & 0.0736633 & 0.0511131 & 0.0174404 & -1.53984 \\\\\n",
       "\t13 & 0.0736462 & -0.0117797 & 0.0236729 & -1.4528 \\\\\n",
       "\t14 & 0.073642 & 0.017517 & 0.0292853 & -1.25391 \\\\\n",
       "\t15 & 0.0742687 & -0.109662 & 0.082689 & -1.23963 \\\\\n",
       "\t16 & -0.0218145 & -0.0943189 & -0.075113 & -1.21483 \\\\\n",
       "\t17 & -0.0212119 & -0.110413 & 0.0750428 & -1.0399 \\\\\n",
       "\t18 & -0.0212894 & 0.0526106 & 0.0135983 & -0.971058 \\\\\n",
       "\t19 & 0.117029 & -0.0240211 & -0.0261254 & -0.914516 \\\\\n",
       "\t20 & 0.117025 & 0.0646543 & -0.0265485 & -0.910988 \\\\\n",
       "\t21 & 0.0743092 & -0.108108 & -0.0336135 & -0.902027 \\\\\n",
       "\t22 & -0.0212727 & -0.012616 & 0.0199165 & -0.896556 \\\\\n",
       "\t23 & 0.0802844 & 0.0626857 & -0.118804 & -0.849811 \\\\\n",
       "\t24 & -0.0212475 & 0.0176006 & 0.0311023 & -0.73336 \\\\\n",
       "\t$\\dots$ & $\\dots$ & $\\dots$ & $\\dots$ & $\\dots$ \\\\\n",
       "\\end{tabular}\n"
      ],
      "text/plain": [
       "\u001b[1m163×4 DataFrame\u001b[0m\n",
       "\u001b[1m Row \u001b[0m│\u001b[1m x1         \u001b[0m\u001b[1m x2         \u001b[0m\u001b[1m x3         \u001b[0m\u001b[1m z        \u001b[0m\n",
       "     │\u001b[90m Float64    \u001b[0m\u001b[90m Float64    \u001b[0m\u001b[90m Float64    \u001b[0m\u001b[90m Float64  \u001b[0m\n",
       "─────┼──────────────────────────────────────────────\n",
       "   1 │  0.0736422  -0.0944664   0.0274242  -2.85823\n",
       "   2 │  0.0741805  -0.0245259   0.0792559  -2.74386\n",
       "   3 │  0.074208    0.0647108   0.0803654  -2.72695\n",
       "   4 │ -0.0212179  -0.0245586   0.0814471  -2.52546\n",
       "   5 │ -0.0212193   0.0646054   0.0824696  -2.50874\n",
       "   6 │  0.0740949  -0.0239071  -0.02307    -2.45653\n",
       "   7 │  0.0741013   0.064554   -0.0234261  -2.4548\n",
       "   8 │ -0.0212524  -0.094455    0.028739   -2.34302\n",
       "  ⋮  │     ⋮           ⋮           ⋮          ⋮\n",
       " 157 │  0.0269276   0.0862978  -0.0788397   4.90637\n",
       " 158 │  0.0281495   0.105277   -0.115966    4.96954\n",
       " 159 │  0.0262649   0.108934   -0.0298917   4.98097\n",
       " 160 │  0.0269776  -0.0499429  -0.0809825   5.00736\n",
       " 161 │ -0.0834708   0.109068   -0.0284062   5.07961\n",
       " 162 │  0.0262712   0.0205571  -0.0309978   5.39482\n",
       " 163 │ -0.0834868   0.0205744  -0.0294013   5.5001\n",
       "\u001b[36m                                    148 rows omitted\u001b[0m"
      ]
     },
     "metadata": {},
     "output_type": "display_data"
    }
   ],
   "source": [
    "# df_cheb = solve_and_parse(pol_cheb, x, f, TR)\n",
    "pts_cheb = solve_polynomial_system(x, TR.dim, d, pol_cheb.coeffs; basis=:chebyshev)\n",
    "df_cheb = process_critical_points(pts_cheb, f, TR)\n",
    "sort!(df_cheb, :z, rev=false)"
   ]
  },
  {
   "cell_type": "code",
   "execution_count": 7,
   "metadata": {},
   "outputs": [],
   "source": [
    "grid = scale_factor * generate_grid(3, 100);  # 3D grid"
   ]
  },
  {
   "cell_type": "code",
   "execution_count": null,
   "metadata": {},
   "outputs": [],
   "source": [
    "# fig_1 = create_level_set_visualization(f, grid, df_cheb, (-3.0, 6.0))"
   ]
  },
  {
   "cell_type": "code",
   "execution_count": 8,
   "metadata": {},
   "outputs": [],
   "source": [
    "fig_2 = create_level_set_animation(f, grid, df_cheb, (-3.0, 6.0))"
   ]
  },
  {
   "cell_type": "code",
   "execution_count": 7,
   "metadata": {},
   "outputs": [],
   "source": [
    "GLMakie.closeall() # Close all previous plots"
   ]
  },
  {
   "cell_type": "code",
   "execution_count": 11,
   "metadata": {},
   "outputs": [
    {
     "name": "stdout",
     "output_type": "stream",
     "text": [
      "18446744073709551616\n"
     ]
    }
   ],
   "source": [
    "println(BigInt(2)^64)"
   ]
  },
  {
   "cell_type": "markdown",
   "metadata": {},
   "source": [
    "## Function 1: add samples around one point"
   ]
  },
  {
   "cell_type": "code",
   "execution_count": 55,
   "metadata": {},
   "outputs": [
    {
     "data": {
      "text/plain": [
       "augment_grid_around_point (generic function with 2 methods)"
      ]
     },
     "metadata": {},
     "output_type": "display_data"
    }
   ],
   "source": [
    "function augment_grid_around_point(\n",
    "    point::Vector{Float64},\n",
    "    TR,\n",
    "    N_sub::Int=5;\n",
    "    cube_side_ratio::Float64=0.1,\n",
    "    basis::Symbol=:legendre  # Changed default to legendre\n",
    ")::Array{SVector{3,Float64},3}\n",
    "\n",
    "    sample_range = TR.sample_range\n",
    "    side_length = sample_range * cube_side_ratio\n",
    "    half_side = side_length / 2\n",
    "\n",
    "    # Using legendre (equally spaced) points\n",
    "    x_coords = range(point[1] - half_side, point[1] + half_side, length=N_sub)\n",
    "    y_coords = range(point[2] - half_side, point[2] + half_side, length=N_sub)\n",
    "    z_coords = range(point[3] - half_side, point[3] + half_side, length=N_sub)\n",
    "\n",
    "    [SVector{3,Float64}(x, y, z)\n",
    "     for x in x_coords,\n",
    "     y in y_coords,\n",
    "     z in z_coords]\n",
    "end"
   ]
  },
  {
   "cell_type": "markdown",
   "metadata": {},
   "source": [
    "Is this the proper structure for merging the samples together? "
   ]
  },
  {
   "cell_type": "code",
   "execution_count": 62,
   "metadata": {},
   "outputs": [
    {
     "name": "stdout",
     "output_type": "stream",
     "text": [
      "(2, 2, 2)\n",
      "(2, 2, 2)\n",
      "(2, 2, 4)\n"
     ]
    }
   ],
   "source": [
    "gr_loc_1 = augment_grid_around_point(center, TR, 2)\n",
    "gr_loc_2 = augment_grid_around_point([.1,.2,.3], TR, 2)\n",
    "println(size(gr_loc_1))\n",
    "println(size(gr_loc_2))\n",
    "merged = cat(gr_loc_1, gr_loc_2, dims=3)\n",
    "println(size(merged))"
   ]
  },
  {
   "cell_type": "markdown",
   "metadata": {},
   "source": [
    "# Function 2: Create augmented grid using DataFrame points"
   ]
  },
  {
   "cell_type": "code",
   "execution_count": 71,
   "metadata": {},
   "outputs": [
    {
     "data": {
      "text/plain": [
       "create_augmented_grid (generic function with 1 method)"
      ]
     },
     "metadata": {},
     "output_type": "display_data"
    }
   ],
   "source": [
    "function create_augmented_grid(\n",
    "    base_grid::Array{SVector{3,Float64},3},\n",
    "    df_cheb::DataFrame;\n",
    "    N_sub::Int=5,\n",
    "    basis::Symbol=:legendre\n",
    ")::Array{SVector{3,Float64},3}\n",
    "\n",
    "    # Calculate new grid size\n",
    "    current_size = size(base_grid, 1)  # Should be 40\n",
    "    points_to_add = nrow(df_cheb) * N_sub^3\n",
    "    new_side_length = ceil(Int, ∛(current_size^3 + points_to_add))\n",
    "\n",
    "    # Create new grid array\n",
    "    new_grid = Array{SVector{3,Float64},3}(undef, new_side_length, new_side_length, new_side_length)\n",
    "\n",
    "    # Copy base grid\n",
    "    for i in 1:size(base_grid, 1), j in 1:size(base_grid, 2), k in 1:size(base_grid, 3)\n",
    "        new_grid[i, j, k] = base_grid[i, j, k]\n",
    "    end\n",
    "\n",
    "    # Add sub-sampled points in the remaining space\n",
    "    current_idx = size(base_grid, 1) * size(base_grid, 2) * size(base_grid, 3)\n",
    "\n",
    "    for row in eachrow(df_cheb)\n",
    "        point = [row.x1, row.x2, row.x3]\n",
    "        sub_grid = augment_grid_around_point(point, TR, N_sub; basis=basis)\n",
    "\n",
    "        for point in vec(sub_grid)\n",
    "            idx_i = (current_idx ÷ new_side_length^2) + 1\n",
    "            idx_j = ((current_idx % new_side_length^2) ÷ new_side_length) + 1\n",
    "            idx_k = (current_idx % new_side_length) + 1\n",
    "\n",
    "            if idx_i <= new_side_length && idx_j <= new_side_length && idx_k <= new_side_length\n",
    "                new_grid[idx_i, idx_j, idx_k] = point\n",
    "                current_idx += 1\n",
    "            end\n",
    "        end\n",
    "    end\n",
    "\n",
    "    return new_grid\n",
    "end"
   ]
  },
  {
   "cell_type": "code",
   "execution_count": 72,
   "metadata": {},
   "outputs": [
    {
     "name": "stdout",
     "output_type": "stream",
     "text": [
      "(51, 51, 51)\n",
      "(52, 52, 52)\n"
     ]
    }
   ],
   "source": [
    "# Create base grid with 40 points per dimension\n",
    "GN = 50  # This will give us 40 points per dimension (GN + 1)\n",
    "base_grid = generate_grid_small_n(3, GN, basis=:legendre)  # 40×40×40 grid\n",
    "augmented_grid = create_augmented_grid(base_grid, df_cheb)\n",
    "println(size(base_grid))\n",
    "println(size(augmented_grid))"
   ]
  },
  {
   "cell_type": "code",
   "execution_count": 73,
   "metadata": {},
   "outputs": [
    {
     "data": {
      "text/plain": [
       "create_augmented_samples (generic function with 1 method)"
      ]
     },
     "metadata": {},
     "output_type": "display_data"
    }
   ],
   "source": [
    "function augment_samples_around_point(\n",
    "    point::Vector{Float64},\n",
    "    TR,\n",
    "    N_sub::Int=5;\n",
    "    cube_side_ratio::Float64=0.1\n",
    ")::Vector{SVector{3,Float64}}\n",
    "    sample_range = TR.sample_range\n",
    "    side_length = sample_range * cube_side_ratio\n",
    "    half_side = side_length / 2\n",
    "\n",
    "    # Create local sampling points\n",
    "    x_coords = range(point[1] - half_side, point[1] + half_side, length=N_sub)\n",
    "    y_coords = range(point[2] - half_side, point[2] + half_side, length=N_sub)\n",
    "    z_coords = range(point[3] - half_side, point[3] + half_side, length=N_sub)\n",
    "\n",
    "    # Return as a flat vector of points\n",
    "    return vec([SVector{3,Float64}(x, y, z) for x in x_coords, y in y_coords, z in z_coords])\n",
    "end\n",
    "\n",
    "function create_augmented_samples(\n",
    "    base_points::Vector{SVector{3,Float64}},\n",
    "    df_cheb::DataFrame;\n",
    "    N_sub::Int=5\n",
    ")::Vector{SVector{3,Float64}}\n",
    "    # Initialize with base points\n",
    "    augmented_points = Set{SVector{3,Float64}}()\n",
    "\n",
    "    # Add base points\n",
    "    for point in base_points\n",
    "        push!(augmented_points, point)\n",
    "    end\n",
    "\n",
    "    # Add additional samples around critical points\n",
    "    for row in eachrow(df_cheb)\n",
    "        point = [row.x1, row.x2, row.x3]\n",
    "        local_samples = augment_samples_around_point(point, TR, N_sub)\n",
    "        for sample in local_samples\n",
    "            push!(augmented_points, sample)\n",
    "        end\n",
    "    end\n",
    "\n",
    "    return collect(augmented_points)\n",
    "end\n",
    "\n",
    "# Usage example:\n",
    "# Convert your original grid to a vector if needed:\n",
    "# base_points = vec(base_grid)\n",
    "# augmented_points = create_augmented_samples(base_points, df_cheb)\n",
    "# println(\"Original points: $(length(base_points))\")\n",
    "# println(\"Augmented points: $(length(augmented_points))\")"
   ]
  },
  {
   "cell_type": "code",
   "execution_count": 79,
   "metadata": {},
   "outputs": [
    {
     "name": "stdout",
     "output_type": "stream",
     "text": [
      "Original points: 132651\n",
      "Augmented points: 136901\n"
     ]
    }
   ],
   "source": [
    "base_points = vec(base_grid)\n",
    "augmented_points = create_augmented_samples(base_points, df_cheb)\n",
    "println(\"Original points: $(length(base_points))\")\n",
    "println(\"Augmented points: $(length(augmented_points))\") "
   ]
  },
  {
   "cell_type": "markdown",
   "metadata": {},
   "source": [
    "We are not correctly increasing the size of the sample grid. I thought we already had something efficient to augment the samples per level set, maybe the slider is much easier... In the end, I just want the Makie plot with the slider moving really slowly and a bit of rotation and output the result of that ---> "
   ]
  },
  {
   "cell_type": "code",
   "execution_count": 83,
   "metadata": {},
   "outputs": [],
   "source": [
    "create_level_set_visualization(f, grid, df_cheb, (-3.0, 6.))"
   ]
  },
  {
   "cell_type": "code",
   "execution_count": 84,
   "metadata": {},
   "outputs": [],
   "source": [
    "create_level_set_visualization(f, augmented_grid, df_cheb, (-3.0, 6.0))"
   ]
  },
  {
   "cell_type": "markdown",
   "metadata": {},
   "source": [
    "## Function 3: Produce Video "
   ]
  },
  {
   "cell_type": "code",
   "execution_count": 40,
   "metadata": {},
   "outputs": [
    {
     "ename": "MethodError",
     "evalue": "MethodError: no method matching isless(::Vector{Float32}, ::Float64)\nThe function `isless` exists, but no method is defined for this combination of argument types.\n\nClosest candidates are:\n  isless(!Matched::Missing, ::Any)\n   @ Base missing.jl:87\n  isless(::Any, !Matched::Missing)\n   @ Base missing.jl:88\n  isless(!Matched::Union{Arblib.Arf, Arblib.ArfRef}, ::Union{Float16, Float32, Float64})\n   @ Arblib ~/.julia/packages/Arblib/G8AGm/src/predicates.jl:143\n  ...\n",
     "output_type": "error",
     "traceback": [
      "MethodError: no method matching isless(::Vector{Float32}, ::Float64)\n",
      "The function `isless` exists, but no method is defined for this combination of argument types.\n",
      "\n",
      "Closest candidates are:\n",
      "  isless(!Matched::Missing, ::Any)\n",
      "   @ Base missing.jl:87\n",
      "  isless(::Any, !Matched::Missing)\n",
      "   @ Base missing.jl:88\n",
      "  isless(!Matched::Union{Arblib.Arf, Arblib.ArfRef}, ::Union{Float16, Float32, Float64})\n",
      "   @ Arblib ~/.julia/packages/Arblib/G8AGm/src/predicates.jl:143\n",
      "  ...\n",
      "\n",
      "\n",
      "Stacktrace:\n",
      "  [1] <(x::Vector{Float32}, y::Float64)\n",
      "    @ Base ./operators.jl:353\n",
      "  [2] (::Makie.var\"#129#131\")(color::Symbol, a::Vector{Float32})\n",
      "    @ Makie ~/.julia/packages/Makie/Y3ABD/src/colorsampler.jl:366\n",
      "  [3] map(f::Makie.var\"#129#131\", scene::Union{Scene, Plot}, arg1::Observable{Any}, args::Observable{Any}; ignore_equal_values::Bool, priority::Int64)\n",
      "    @ Makie ~/.julia/packages/Makie/Y3ABD/src/scenes.jl:177\n",
      "  [4] map\n",
      "    @ ~/.julia/packages/Makie/Y3ABD/src/scenes.jl:174 [inlined]\n",
      "  [5] assemble_colors(colortype::Symbol, color::Observable{Any}, plot::Scatter{Tuple{Vector{Point{3, Float32}}}})\n",
      "    @ Makie ~/.julia/packages/Makie/Y3ABD/src/colorsampler.jl:365\n",
      "  [6] color_and_colormap!(plot::Scatter{Tuple{Vector{Point{3, Float32}}}}, colors::Observable{Any})\n",
      "    @ Makie ~/.julia/packages/Makie/Y3ABD/src/interfaces.jl:14\n",
      "  [7] color_and_colormap!(plot::Scatter{Tuple{Vector{Point{3, Float32}}}})\n",
      "    @ Makie ~/.julia/packages/Makie/Y3ABD/src/interfaces.jl:10\n",
      "  [8] calculated_attributes!\n",
      "    @ ~/.julia/packages/Makie/Y3ABD/src/interfaces.jl:64 [inlined]\n",
      "  [9] connect_plot!(parent::Scene, plot::Scatter{Tuple{Vector{Point{3, Float32}}}})\n",
      "    @ Makie ~/.julia/packages/Makie/Y3ABD/src/interfaces.jl:388\n",
      " [10] plot!\n",
      "    @ ~/.julia/packages/Makie/Y3ABD/src/interfaces.jl:412 [inlined]\n",
      " [11] plot!(ax::Axis3, plot::Scatter{Tuple{Vector{Point{3, Float32}}}})\n",
      "    @ Makie ~/.julia/packages/Makie/Y3ABD/src/figureplotting.jl:412\n",
      " [12] _create_plot!(::Function, ::Dict{Symbol, Any}, ::Axis3, ::Observable{Vector{Point{3, Float32}}})\n",
      "    @ Makie ~/.julia/packages/Makie/Y3ABD/src/figureplotting.jl:381\n",
      " [13] scatter!(::Axis3, ::Vararg{Any}; kw::@Kwargs{color::Symbol, markersize::Float64, alpha::Observable{Vector{Float32}}})\n",
      "    @ MakieCore ~/.julia/packages/MakieCore/EU17Y/src/recipes.jl:514\n",
      " [14] make_level_sets_video(f::Function, grid::Array{SVector{3, Float64}, 3}, z_range::Tuple{Float64, Float64}, output_path::String; fps::Int64, duration::Float64, tolerance::Float64)\n",
      "    @ Main ~/globtim/Examples/Notebooks/jl_notebook_cell_df34fa98e69747e1a8f8a730347b8e2f_X25sZmlsZQ==.jl:32\n",
      " [15] top-level scope\n",
      "    @ ~/globtim/Examples/Notebooks/jl_notebook_cell_df34fa98e69747e1a8f8a730347b8e2f_X25sZmlsZQ==.jl:65"
     ]
    }
   ],
   "source": [
    "function make_level_sets_video(\n",
    "    f,\n",
    "    grid::Array{SVector{3,T},3},\n",
    "    z_range::Tuple{Real,Real},\n",
    "    output_path::String;\n",
    "    fps::Int=30,\n",
    "    duration::Float64=20.0,\n",
    "    tolerance::Float64=0.1\n",
    ") where {T<:AbstractFloat}\n",
    "\n",
    "    n_frames = round(Int, fps * duration)\n",
    "    level_sequence = range(z_range[1], z_range[2], length=n_frames)\n",
    "\n",
    "    fig = Figure()\n",
    "    ax = Axis3(fig[1, 1],\n",
    "        title=\"Level Set Animation\",\n",
    "        xlabel=\"x₁\",\n",
    "        ylabel=\"x₂\",\n",
    "        zlabel=\"x₃\")\n",
    "\n",
    "    grid_points = vec(grid)\n",
    "    x_range = extrema(p[1] for p in grid_points)\n",
    "    y_range = extrema(p[2] for p in grid_points)\n",
    "    z_range_grid = extrema(p[3] for p in grid_points)\n",
    "\n",
    "    limits!(ax, x_range..., y_range..., z_range_grid...)\n",
    "\n",
    "    values = reshape(map(f, grid_points), size(grid))\n",
    "    level_points = Observable(Point3f[])\n",
    "    point_alphas = Observable(Float32[])\n",
    "\n",
    "    scatter!(ax, level_points,\n",
    "        color=:blue,\n",
    "        markersize=0.8,\n",
    "        alpha=point_alphas)  # Changed from opacity to alpha\n",
    "\n",
    "    function update_visualization(level::T) where {T<:AbstractFloat}\n",
    "        all_points = Point3f[]\n",
    "        all_alphas = Float32[]\n",
    "\n",
    "        for (point, value) in zip(grid_points, vec(values))\n",
    "            dist_from_level = abs(value - level)\n",
    "            if dist_from_level ≤ tolerance\n",
    "                alpha = 1.0 - (dist_from_level / tolerance)\n",
    "                push!(all_points, Point3f(point...))\n",
    "                push!(all_alphas, Float32(alpha))\n",
    "            end\n",
    "        end\n",
    "\n",
    "        level_points[] = all_points\n",
    "        point_alphas[] = all_alphas\n",
    "    end\n",
    "\n",
    "    record(fig, output_path, 1:n_frames; framerate=fps) do frame\n",
    "        current_level = level_sequence[frame]\n",
    "        update_visualization(current_level)\n",
    "\n",
    "        ax.azimuth[] = 1.7π + 0.4 * sin(2π * frame / n_frames)\n",
    "        ax.elevation[] = π / 4 + 0.3 * cos(2π * frame / n_frames)\n",
    "    end\n",
    "end\n",
    "\n",
    "# Try it:\n",
    "z_range = (-3.0, 6.0)\n",
    "make_level_sets_video(tref_3d, augmented_grid, z_range, \"level_sets_video.mp4\"; tolerance=0.1)"
   ]
  },
  {
   "cell_type": "code",
   "execution_count": 37,
   "metadata": {},
   "outputs": [
    {
     "ename": "MethodError",
     "evalue": "MethodError: no method matching video_level_sets(::typeof(tref_3d), ::Array{SVector{3, Float64}, 3}, ::Tuple{Float64, Float64}, ::String; tolerance::Float64)\nThis error has been manually thrown, explicitly, so the method may exist but be intentionally marked as unimplemented.\n\nClosest candidates are:\n  video_level_sets(::Any, ::Array{SVector{3, Float64}, 3}, ::Tuple{Real, Real}, ::String; fps, duration) got unsupported keyword argument \"tolerance\"\n   @ Main ~/globtim/Examples/Notebooks/jl_notebook_cell_df34fa98e69747e1a8f8a730347b8e2f_X25sZmlsZQ==.jl:2\n  video_level_sets(::Any, ::Array{SVector{3, T}, 3}, ::Tuple{Real, Real}, ::String; fps, duration, tolerance) where T<:AbstractFloat\n   @ Main ~/globtim/Examples/Notebooks/jl_notebook_cell_df34fa98e69747e1a8f8a730347b8e2f_X25sZmlsZQ==.jl:1\n",
     "output_type": "error",
     "traceback": [
      "MethodError: no method matching video_level_sets(::typeof(tref_3d), ::Array{SVector{3, Float64}, 3}, ::Tuple{Float64, Float64}, ::String; tolerance::Float64)\n",
      "This error has been manually thrown, explicitly, so the method may exist but be intentionally marked as unimplemented.\n",
      "\n",
      "Closest candidates are:\n",
      "  video_level_sets(::Any, ::Array{SVector{3, Float64}, 3}, ::Tuple{Real, Real}, ::String; fps, duration) got unsupported keyword argument \"tolerance\"\n",
      "   @ Main ~/globtim/Examples/Notebooks/jl_notebook_cell_df34fa98e69747e1a8f8a730347b8e2f_X25sZmlsZQ==.jl:2\n",
      "  video_level_sets(::Any, ::Array{SVector{3, T}, 3}, ::Tuple{Real, Real}, ::String; fps, duration, tolerance) where T<:AbstractFloat\n",
      "   @ Main ~/globtim/Examples/Notebooks/jl_notebook_cell_df34fa98e69747e1a8f8a730347b8e2f_X25sZmlsZQ==.jl:1\n",
      "\n",
      "\n",
      "Stacktrace:\n",
      " [1] kwerr(::@NamedTuple{tolerance::Float64}, ::Function, ::Function, ::Array{SVector{3, Float64}, 3}, ::Tuple{Float64, Float64}, ::String)\n",
      "   @ Base ./error.jl:165\n",
      " [2] top-level scope\n",
      "   @ ~/globtim/Examples/Notebooks/jl_notebook_cell_df34fa98e69747e1a8f8a730347b8e2f_X31sZmlsZQ==.jl:2"
     ]
    }
   ],
   "source": [
    "z_range = (-3.0, 6.0)\n",
    "video_level_sets(tref_3d, augmented_grid, z_range, \"level_sets_video.mp4\"; tolerance=0.1)\n"
   ]
  },
  {
   "cell_type": "markdown",
   "metadata": {},
   "source": [
    "We look at the level of the grid, we just sample more densely in `x, y, z` space around each of the critical points from the dataframe ? --> we reuse the grid to generate all the level sets. "
   ]
  },
  {
   "cell_type": "code",
   "execution_count": 13,
   "metadata": {},
   "outputs": [],
   "source": [
    "# GLMakie.closeall()"
   ]
  }
 ],
 "metadata": {
  "kernelspec": {
   "display_name": "Julia 1.11.2",
   "language": "julia",
   "name": "julia-1.11"
  },
  "language_info": {
   "file_extension": ".jl",
   "mimetype": "application/julia",
   "name": "julia",
   "version": "1.11.2"
  }
 },
 "nbformat": 4,
 "nbformat_minor": 2
}
