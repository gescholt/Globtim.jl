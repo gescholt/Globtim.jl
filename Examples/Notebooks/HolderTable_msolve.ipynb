{
 "cells": [
  {
   "cell_type": "markdown",
   "metadata": {},
   "source": [
    "## Holder Table Function"
   ]
  },
  {
   "cell_type": "code",
   "execution_count": 1,
   "metadata": {},
   "outputs": [
    {
     "name": "stderr",
     "output_type": "stream",
     "text": [
      "\u001b[32m\u001b[1m  Activating\u001b[22m\u001b[39m project at `~/globtim`\n"
     ]
    }
   ],
   "source": [
    "using Pkg\n",
    "Pkg.activate(\"../../.\")\n",
    "using Globtim\n",
    "using DynamicPolynomials, DataFrames"
   ]
  },
  {
   "cell_type": "code",
   "execution_count": 2,
   "metadata": {},
   "outputs": [
    {
     "data": {
      "text/plain": [
       "HolderTable (generic function with 1 method)"
      ]
     },
     "metadata": {},
     "output_type": "display_data"
    }
   ],
   "source": [
    "# Constants and Parameters\n",
    "const n, a, b = 2, 10, 1\n",
    "const scale_factor = a / b   # Scaling factor appears in `main_computation`, maybe it should be a parameter.\n",
    "const delta, alpha = 0.5, 1 / 10  # Sampling parameters\n",
    "const tol_l2 = 3e-4            # Define the tolerance for the L2-norm\n",
    "f = HolderTable # Objective function"
   ]
  },
  {
   "cell_type": "code",
   "execution_count": 14,
   "metadata": {},
   "outputs": [
    {
     "name": "stdout",
     "output_type": "stream",
     "text": [
      "current L2-norm: 0.06087362360852268\n",
      "current L2-norm: 4.2882123353946415\n"
     ]
    },
    {
     "data": {
      "text/plain": [
       "(Variable{DynamicPolynomials.Commutative{DynamicPolynomials.CreationOrder}, Graded{LexOrder}}[x₁, x₂],)"
      ]
     },
     "metadata": {},
     "output_type": "display_data"
    }
   ],
   "source": [
    "d = 8 # Initial Degree \n",
    "SMPL = 50 # Number of samples\n",
    "center = [0.0, 0.0]\n",
    "TR = test_input(f,\n",
    "                dim = n, \n",
    "                center = center,\n",
    "                GN=SMPL,\n",
    "                sample_range=scale_factor,\n",
    "                degree_max = d+ 4\n",
    "                )\n",
    "pol_cheb = Constructor(TR, d, basis=:chebyshev)\n",
    "pol_lege = Constructor(TR, d, basis=:legendre);\n",
    "@polyvar(x[1:n])"
   ]
  },
  {
   "cell_type": "code",
   "execution_count": 15,
   "metadata": {},
   "outputs": [
    {
     "name": "stdout",
     "output_type": "stream",
     "text": [
      "\n",
      "=== Starting MSolve Parser (dimension: 2) ===\n",
      "Processed 49 points (0.0s)\n"
     ]
    },
    {
     "data": {
      "text/html": [
       "<div><div style = \"float: left;\"><span>37×3 DataFrame</span></div><div style = \"float: right;\"><span style = \"font-style: italic;\">12 rows omitted</span></div><div style = \"clear: both;\"></div></div><div class = \"data-frame\" style = \"overflow-x: scroll;\"><table class = \"data-frame\" style = \"margin-bottom: 6px;\"><thead><tr class = \"header\"><th class = \"rowNumber\" style = \"font-weight: bold; text-align: right;\">Row</th><th style = \"text-align: left;\">x1</th><th style = \"text-align: left;\">x2</th><th style = \"text-align: left;\">z</th></tr><tr class = \"subheader headerLastRow\"><th class = \"rowNumber\" style = \"font-weight: bold; text-align: right;\"></th><th title = \"Float64\" style = \"text-align: left;\">Float64</th><th title = \"Float64\" style = \"text-align: left;\">Float64</th><th title = \"Float64\" style = \"text-align: left;\">Float64</th></tr></thead><tbody><tr><td class = \"rowNumber\" style = \"font-weight: bold; text-align: right;\">1</td><td style = \"text-align: right;\">1.50478e-15</td><td style = \"text-align: right;\">-4.15473</td><td style = \"text-align: right;\">-1.09939e-15</td></tr><tr><td class = \"rowNumber\" style = \"font-weight: bold; text-align: right;\">2</td><td style = \"text-align: right;\">1.84987e-15</td><td style = \"text-align: right;\">4.15473</td><td style = \"text-align: right;\">-1.35151e-15</td></tr><tr><td class = \"rowNumber\" style = \"font-weight: bold; text-align: right;\">3</td><td style = \"text-align: right;\">9.16827e-16</td><td style = \"text-align: right;\">-6.48413</td><td style = \"text-align: right;\">-2.60335e-15</td></tr><tr><td class = \"rowNumber\" style = \"font-weight: bold; text-align: right;\">4</td><td style = \"text-align: right;\">1.21245e-15</td><td style = \"text-align: right;\">6.48413</td><td style = \"text-align: right;\">-3.44279e-15</td></tr><tr><td class = \"rowNumber\" style = \"font-weight: bold; text-align: right;\">5</td><td style = \"text-align: right;\">-5.57584e-16</td><td style = \"text-align: right;\">-9.97714</td><td style = \"text-align: right;\">-4.18152e-15</td></tr><tr><td class = \"rowNumber\" style = \"font-weight: bold; text-align: right;\">6</td><td style = \"text-align: right;\">2.17419e-15</td><td style = \"text-align: right;\">2.01351e-15</td><td style = \"text-align: right;\">-5.91007e-15</td></tr><tr><td class = \"rowNumber\" style = \"font-weight: bold; text-align: right;\">7</td><td style = \"text-align: right;\">-9.69991e-16</td><td style = \"text-align: right;\">9.97714</td><td style = \"text-align: right;\">-7.27431e-15</td></tr><tr><td class = \"rowNumber\" style = \"font-weight: bold; text-align: right;\">8</td><td style = \"text-align: right;\">9.23565</td><td style = \"text-align: right;\">-4.71902</td><td style = \"text-align: right;\">-0.0124424</td></tr><tr><td class = \"rowNumber\" style = \"font-weight: bold; text-align: right;\">9</td><td style = \"text-align: right;\">-9.23565</td><td style = \"text-align: right;\">-4.71902</td><td style = \"text-align: right;\">-0.0124424</td></tr><tr><td class = \"rowNumber\" style = \"font-weight: bold; text-align: right;\">10</td><td style = \"text-align: right;\">-9.23565</td><td style = \"text-align: right;\">4.71902</td><td style = \"text-align: right;\">-0.0124424</td></tr><tr><td class = \"rowNumber\" style = \"font-weight: bold; text-align: right;\">11</td><td style = \"text-align: right;\">9.23565</td><td style = \"text-align: right;\">4.71902</td><td style = \"text-align: right;\">-0.0124424</td></tr><tr><td class = \"rowNumber\" style = \"font-weight: bold; text-align: right;\">12</td><td style = \"text-align: right;\">7.35876</td><td style = \"text-align: right;\">4.63603</td><td style = \"text-align: right;\">-0.393444</td></tr><tr><td class = \"rowNumber\" style = \"font-weight: bold; text-align: right;\">13</td><td style = \"text-align: right;\">-7.35876</td><td style = \"text-align: right;\">4.63603</td><td style = \"text-align: right;\">-0.393444</td></tr><tr><td style = \"text-align: right;\">&vellip;</td><td style = \"text-align: right;\">&vellip;</td><td style = \"text-align: right;\">&vellip;</td><td style = \"text-align: right;\">&vellip;</td></tr><tr><td class = \"rowNumber\" style = \"font-weight: bold; text-align: right;\">26</td><td style = \"text-align: right;\">3.52472</td><td style = \"text-align: right;\">-6.31938</td><td style = \"text-align: right;\">-1.37525</td></tr><tr><td class = \"rowNumber\" style = \"font-weight: bold; text-align: right;\">27</td><td style = \"text-align: right;\">3.52472</td><td style = \"text-align: right;\">6.31938</td><td style = \"text-align: right;\">-1.37525</td></tr><tr><td class = \"rowNumber\" style = \"font-weight: bold; text-align: right;\">28</td><td style = \"text-align: right;\">9.26039</td><td style = \"text-align: right;\">-5.7973</td><td style = \"text-align: right;\">-1.72396</td></tr><tr><td class = \"rowNumber\" style = \"font-weight: bold; text-align: right;\">29</td><td style = \"text-align: right;\">9.26039</td><td style = \"text-align: right;\">5.7973</td><td style = \"text-align: right;\">-1.72396</td></tr><tr><td class = \"rowNumber\" style = \"font-weight: bold; text-align: right;\">30</td><td style = \"text-align: right;\">-9.26039</td><td style = \"text-align: right;\">-5.7973</td><td style = \"text-align: right;\">-1.72396</td></tr><tr><td class = \"rowNumber\" style = \"font-weight: bold; text-align: right;\">31</td><td style = \"text-align: right;\">-9.26039</td><td style = \"text-align: right;\">5.7973</td><td style = \"text-align: right;\">-1.72396</td></tr><tr><td class = \"rowNumber\" style = \"font-weight: bold; text-align: right;\">32</td><td style = \"text-align: right;\">-7.26179</td><td style = \"text-align: right;\">2.06761e-15</td><td style = \"text-align: right;\">-3.07971</td></tr><tr><td class = \"rowNumber\" style = \"font-weight: bold; text-align: right;\">33</td><td style = \"text-align: right;\">7.26179</td><td style = \"text-align: right;\">2.33142e-15</td><td style = \"text-align: right;\">-3.07971</td></tr><tr><td class = \"rowNumber\" style = \"font-weight: bold; text-align: right;\">34</td><td style = \"text-align: right;\">7.38987</td><td style = \"text-align: right;\">5.65064</td><td style = \"text-align: right;\">-5.12589</td></tr><tr><td class = \"rowNumber\" style = \"font-weight: bold; text-align: right;\">35</td><td style = \"text-align: right;\">-7.38987</td><td style = \"text-align: right;\">5.65064</td><td style = \"text-align: right;\">-5.12589</td></tr><tr><td class = \"rowNumber\" style = \"font-weight: bold; text-align: right;\">36</td><td style = \"text-align: right;\">7.38987</td><td style = \"text-align: right;\">-5.65064</td><td style = \"text-align: right;\">-5.12589</td></tr><tr><td class = \"rowNumber\" style = \"font-weight: bold; text-align: right;\">37</td><td style = \"text-align: right;\">-7.38987</td><td style = \"text-align: right;\">-5.65064</td><td style = \"text-align: right;\">-5.12589</td></tr></tbody></table></div>"
      ],
      "text/latex": [
       "\\begin{tabular}{r|ccc}\n",
       "\t& x1 & x2 & z\\\\\n",
       "\t\\hline\n",
       "\t& Float64 & Float64 & Float64\\\\\n",
       "\t\\hline\n",
       "\t1 & 1.50478e-15 & -4.15473 & -1.09939e-15 \\\\\n",
       "\t2 & 1.84987e-15 & 4.15473 & -1.35151e-15 \\\\\n",
       "\t3 & 9.16827e-16 & -6.48413 & -2.60335e-15 \\\\\n",
       "\t4 & 1.21245e-15 & 6.48413 & -3.44279e-15 \\\\\n",
       "\t5 & -5.57584e-16 & -9.97714 & -4.18152e-15 \\\\\n",
       "\t6 & 2.17419e-15 & 2.01351e-15 & -5.91007e-15 \\\\\n",
       "\t7 & -9.69991e-16 & 9.97714 & -7.27431e-15 \\\\\n",
       "\t8 & 9.23565 & -4.71902 & -0.0124424 \\\\\n",
       "\t9 & -9.23565 & -4.71902 & -0.0124424 \\\\\n",
       "\t10 & -9.23565 & 4.71902 & -0.0124424 \\\\\n",
       "\t11 & 9.23565 & 4.71902 & -0.0124424 \\\\\n",
       "\t12 & 7.35876 & 4.63603 & -0.393444 \\\\\n",
       "\t13 & -7.35876 & 4.63603 & -0.393444 \\\\\n",
       "\t14 & 7.35876 & -4.63603 & -0.393444 \\\\\n",
       "\t15 & -7.35876 & -4.63603 & -0.393444 \\\\\n",
       "\t16 & -3.57821 & 2.46927e-15 & -0.48593 \\\\\n",
       "\t17 & 3.57821 & 2.0065e-15 & -0.48593 \\\\\n",
       "\t18 & -3.58129 & 4.12344 & -0.494826 \\\\\n",
       "\t19 & 3.58129 & 4.12344 & -0.494826 \\\\\n",
       "\t20 & -3.58129 & -4.12344 & -0.494826 \\\\\n",
       "\t21 & 3.58129 & -4.12344 & -0.494826 \\\\\n",
       "\t22 & -9.23265 & 1.58718e-15 & -1.32725 \\\\\n",
       "\t23 & 9.23265 & 1.70801e-15 & -1.32725 \\\\\n",
       "\t24 & -3.52472 & -6.31938 & -1.37525 \\\\\n",
       "\t$\\dots$ & $\\dots$ & $\\dots$ & $\\dots$ \\\\\n",
       "\\end{tabular}\n"
      ],
      "text/plain": [
       "\u001b[1m37×3 DataFrame\u001b[0m\n",
       "\u001b[1m Row \u001b[0m│\u001b[1m x1           \u001b[0m\u001b[1m x2           \u001b[0m\u001b[1m z            \u001b[0m\n",
       "     │\u001b[90m Float64      \u001b[0m\u001b[90m Float64      \u001b[0m\u001b[90m Float64      \u001b[0m\n",
       "─────┼──────────────────────────────────────────\n",
       "   1 │  1.50478e-15  -4.15473      -1.09939e-15\n",
       "   2 │  1.84987e-15   4.15473      -1.35151e-15\n",
       "   3 │  9.16827e-16  -6.48413      -2.60335e-15\n",
       "   4 │  1.21245e-15   6.48413      -3.44279e-15\n",
       "   5 │ -5.57584e-16  -9.97714      -4.18152e-15\n",
       "   6 │  2.17419e-15   2.01351e-15  -5.91007e-15\n",
       "   7 │ -9.69991e-16   9.97714      -7.27431e-15\n",
       "   8 │  9.23565      -4.71902      -0.0124424\n",
       "  ⋮  │      ⋮             ⋮             ⋮\n",
       "  31 │ -9.26039       5.7973       -1.72396\n",
       "  32 │ -7.26179       2.06761e-15  -3.07971\n",
       "  33 │  7.26179       2.33142e-15  -3.07971\n",
       "  34 │  7.38987       5.65064      -5.12589\n",
       "  35 │ -7.38987       5.65064      -5.12589\n",
       "  36 │  7.38987      -5.65064      -5.12589\n",
       "  37 │ -7.38987      -5.65064      -5.12589\n",
       "\u001b[36m                                 22 rows omitted\u001b[0m"
      ]
     },
     "metadata": {},
     "output_type": "display_data"
    }
   ],
   "source": [
    "df_cheb = solve_and_parse(pol_cheb, x, f, TR)\n",
    "sort!(df_cheb, :z, rev=true)"
   ]
  },
  {
   "cell_type": "code",
   "execution_count": 5,
   "metadata": {},
   "outputs": [
    {
     "name": "stdout",
     "output_type": "stream",
     "text": [
      "\n",
      "=== Starting MSolve Parser (dimension: 2) ===\n",
      "Processed 5 points (0.0s)\n"
     ]
    },
    {
     "data": {
      "text/html": [
       "<div><div style = \"float: left;\"><span>5×3 DataFrame</span></div><div style = \"clear: both;\"></div></div><div class = \"data-frame\" style = \"overflow-x: scroll;\"><table class = \"data-frame\" style = \"margin-bottom: 6px;\"><thead><tr class = \"header\"><th class = \"rowNumber\" style = \"font-weight: bold; text-align: right;\">Row</th><th style = \"text-align: left;\">x1</th><th style = \"text-align: left;\">x2</th><th style = \"text-align: left;\">z</th></tr><tr class = \"subheader headerLastRow\"><th class = \"rowNumber\" style = \"font-weight: bold; text-align: right;\"></th><th title = \"Float64\" style = \"text-align: left;\">Float64</th><th title = \"Float64\" style = \"text-align: left;\">Float64</th><th title = \"Float64\" style = \"text-align: left;\">Float64</th></tr></thead><tbody><tr><td class = \"rowNumber\" style = \"font-weight: bold; text-align: right;\">1</td><td style = \"text-align: right;\">1.76263e-15</td><td style = \"text-align: right;\">-4.64974</td><td style = \"text-align: right;\">-1.78345e-16</td></tr><tr><td class = \"rowNumber\" style = \"font-weight: bold; text-align: right;\">2</td><td style = \"text-align: right;\">1.76499e-15</td><td style = \"text-align: right;\">4.64974</td><td style = \"text-align: right;\">-1.78583e-16</td></tr><tr><td class = \"rowNumber\" style = \"font-weight: bold; text-align: right;\">3</td><td style = \"text-align: right;\">2.55091e-15</td><td style = \"text-align: right;\">3.56806e-14</td><td style = \"text-align: right;\">-6.93408e-15</td></tr><tr><td class = \"rowNumber\" style = \"font-weight: bold; text-align: right;\">4</td><td style = \"text-align: right;\">8.33474</td><td style = \"text-align: right;\">-2.65005e-12</td><td style = \"text-align: right;\">-4.63075</td></tr><tr><td class = \"rowNumber\" style = \"font-weight: bold; text-align: right;\">5</td><td style = \"text-align: right;\">-8.33474</td><td style = \"text-align: right;\">-2.65384e-12</td><td style = \"text-align: right;\">-4.63075</td></tr></tbody></table></div>"
      ],
      "text/latex": [
       "\\begin{tabular}{r|ccc}\n",
       "\t& x1 & x2 & z\\\\\n",
       "\t\\hline\n",
       "\t& Float64 & Float64 & Float64\\\\\n",
       "\t\\hline\n",
       "\t1 & 1.76263e-15 & -4.64974 & -1.78345e-16 \\\\\n",
       "\t2 & 1.76499e-15 & 4.64974 & -1.78583e-16 \\\\\n",
       "\t3 & 2.55091e-15 & 3.56806e-14 & -6.93408e-15 \\\\\n",
       "\t4 & 8.33474 & -2.65005e-12 & -4.63075 \\\\\n",
       "\t5 & -8.33474 & -2.65384e-12 & -4.63075 \\\\\n",
       "\\end{tabular}\n"
      ],
      "text/plain": [
       "\u001b[1m5×3 DataFrame\u001b[0m\n",
       "\u001b[1m Row \u001b[0m│\u001b[1m x1           \u001b[0m\u001b[1m x2           \u001b[0m\u001b[1m z            \u001b[0m\n",
       "     │\u001b[90m Float64      \u001b[0m\u001b[90m Float64      \u001b[0m\u001b[90m Float64      \u001b[0m\n",
       "─────┼──────────────────────────────────────────\n",
       "   1 │  1.76263e-15  -4.64974      -1.78345e-16\n",
       "   2 │  1.76499e-15   4.64974      -1.78583e-16\n",
       "   3 │  2.55091e-15   3.56806e-14  -6.93408e-15\n",
       "   4 │  8.33474      -2.65005e-12  -4.63075\n",
       "   5 │ -8.33474      -2.65384e-12  -4.63075"
      ]
     },
     "metadata": {},
     "output_type": "display_data"
    }
   ],
   "source": [
    "df_lege = solve_and_parse(pol_lege, x, f, TR, basis=:legendre)\n",
    "sort!(df_lege, :z, rev=true)"
   ]
  },
  {
   "cell_type": "code",
   "execution_count": 16,
   "metadata": {},
   "outputs": [
    {
     "name": "stdout",
     "output_type": "stream",
     "text": [
      "Processing point 1 of 37\n",
      "Processing point 2 of 37\n",
      "Processing point 3 of 37\n",
      "Processing point 4 of 37\n",
      "Processing point 5 of 37\n",
      "Processing point 6 of 37\n",
      "Processing point 7 of 37\n",
      "Processing point 8 of 37\n",
      "Processing point 9 of 37\n",
      "Processing point 10 of 37\n",
      "Processing point 11 of 37\n",
      "Processing point 12 of 37\n",
      "Processing point 13 of 37\n",
      "Processing point 14 of 37\n",
      "Processing point 15 of 37\n",
      "Processing point 16 of 37\n",
      "Processing point 17 of 37\n",
      "Processing point 18 of 37\n",
      "Processing point 19 of 37\n",
      "Processing point 20 of 37\n",
      "Processing point 21 of 37\n",
      "Processing point 22 of 37\n",
      "Processing point 23 of 37\n",
      "Processing point 24 of 37\n",
      "Processing point 25 of 37\n",
      "Processing point 26 of 37\n",
      "Processing point 27 of 37\n",
      "Processing point 28 of 37\n",
      "Processing point 29 of 37\n",
      "Processing point 30 of 37\n",
      "Processing point 31 of 37\n",
      "Processing point 32 of 37\n",
      "Processing point 33 of 37\n",
      "Processing point 34 of 37\n",
      "Processing point 35 of 37\n",
      "Processing point 36 of 37\n",
      "Processing point 37 of 37\n"
     ]
    },
    {
     "name": "stderr",
     "output_type": "stream",
     "text": [
      "┌ Warning: Failed to achieve finite new evaluation point, using alpha=0\n",
      "└ @ LineSearches /Users/ghscholt/.julia/packages/LineSearches/jgnxK/src/hagerzhang.jl:155\n",
      "┌ Warning: Failed to achieve finite new evaluation point, using alpha=0\n",
      "└ @ LineSearches /Users/ghscholt/.julia/packages/LineSearches/jgnxK/src/hagerzhang.jl:155\n",
      "┌ Warning: Failed to achieve finite new evaluation point, using alpha=0\n",
      "└ @ LineSearches /Users/ghscholt/.julia/packages/LineSearches/jgnxK/src/hagerzhang.jl:155\n"
     ]
    },
    {
     "data": {
      "text/plain": [
       "(\u001b[1m37×8 DataFrame\u001b[0m\n",
       "\u001b[1m Row \u001b[0m│\u001b[1m x1           \u001b[0m\u001b[1m x2           \u001b[0m\u001b[1m z            \u001b[0m\u001b[1m y1            \u001b[0m\u001b[1m y2            \u001b[0m\u001b[1m\u001b[0m ⋯\n",
       "     │\u001b[90m Float64      \u001b[0m\u001b[90m Float64      \u001b[0m\u001b[90m Float64      \u001b[0m\u001b[90m Float64       \u001b[0m\u001b[90m Float64       \u001b[0m\u001b[90m\u001b[0m ⋯\n",
       "─────┼──────────────────────────────────────────────────────────────────────────\n",
       "   1 │  1.50478e-15  -4.15473      -1.09939e-15    1.50478e-15   -4.15473      ⋯\n",
       "   2 │  1.84987e-15   4.15473      -1.35151e-15    1.84987e-15    4.15473\n",
       "   3 │  9.16827e-16  -6.48413      -2.60335e-15    9.16827e-16   -6.48413\n",
       "   4 │  1.21245e-15   6.48413      -3.44279e-15    1.21245e-15    6.48413\n",
       "   5 │ -5.57584e-16  -9.97714      -4.18152e-15   -5.57584e-16   -9.97714      ⋯\n",
       "   6 │  2.17419e-15   2.01351e-15  -5.91007e-15    2.17419e-15    2.01351e-15\n",
       "   7 │ -9.69991e-16   9.97714      -7.27431e-15   -9.69991e-16    9.97714\n",
       "   8 │  9.23565      -4.71902      -0.0124424    NaN            NaN\n",
       "  ⋮  │      ⋮             ⋮             ⋮              ⋮              ⋮        ⋱\n",
       "  31 │ -9.26039       5.7973       -1.72396       -4.90114        6.5325       ⋯\n",
       "  32 │ -7.26179       2.06761e-15  -3.07971      -83.5604         2.06761e-15\n",
       "  33 │  7.26179       2.33142e-15  -3.07971       45.8613         2.33142e-15\n",
       "  34 │  7.38987       5.65064      -5.12589        8.09758        6.4795\n",
       "  35 │ -7.38987       5.65064      -5.12589       -8.09758        6.4795       ⋯\n",
       "  36 │  7.38987      -5.65064      -5.12589        8.09758       -6.4795\n",
       "  37 │ -7.38987      -5.65064      -5.12589       -8.09758       -6.4795\n",
       "\u001b[36m                                                   3 columns and 22 rows omitted\u001b[0m, \u001b[1m21×4 DataFrame\u001b[0m\n",
       "\u001b[1m Row \u001b[0m│\u001b[1m x1           \u001b[0m\u001b[1m x2           \u001b[0m\u001b[1m value        \u001b[0m\u001b[1m captured \u001b[0m\n",
       "     │\u001b[90m Float64      \u001b[0m\u001b[90m Float64      \u001b[0m\u001b[90m Float64      \u001b[0m\u001b[90m Bool     \u001b[0m\n",
       "─────┼────────────────────────────────────────────────────\n",
       "   1 │  1.50478e-15  -4.15473      -1.09939e-15      true\n",
       "   2 │  1.84987e-15   4.15473      -1.35151e-15      true\n",
       "   3 │  9.16827e-16  -6.48413      -2.60335e-15      true\n",
       "   4 │  1.21245e-15   6.48413      -3.44279e-15      true\n",
       "   5 │ -5.57584e-16  -9.97714      -4.18152e-15      true\n",
       "   6 │  2.17419e-15   2.01351e-15  -5.91007e-15      true\n",
       "   7 │ -9.69991e-16   9.97714      -7.27431e-15      true\n",
       "   8 │ -4.97124       3.31644      -2.34658         false\n",
       "  ⋮  │      ⋮             ⋮             ⋮           ⋮\n",
       "  15 │ -8.09758       6.4795       -9.50468         false\n",
       "  16 │  8.09758      -6.4795       -9.50468         false\n",
       "  17 │  8.09758       6.4795       -9.50468         false\n",
       "  18 │  4.90114      -6.5325       -4.71246         false\n",
       "  19 │  4.90114       6.5325       -4.71246         false\n",
       "  20 │ -4.90114      -6.5325       -4.71246         false\n",
       "  21 │ -4.90114       6.5325       -4.71246         false\n",
       "\u001b[36m                                            6 rows omitted\u001b[0m)"
      ]
     },
     "metadata": {},
     "output_type": "display_data"
    }
   ],
   "source": [
    "using Optim\n",
    "df_cheb, df_min_cheb = analyze_critical_points(f, df_cheb, TR, tol_dist=0.5)"
   ]
  },
  {
   "cell_type": "code",
   "execution_count": 7,
   "metadata": {},
   "outputs": [
    {
     "name": "stdout",
     "output_type": "stream",
     "text": [
      "Processing point 1 of 5\n",
      "Processing point 2 of 5\n",
      "Processing point 3 of 5\n",
      "Processing point 4 of 5\n",
      "Processing point 5 of 5\n"
     ]
    },
    {
     "data": {
      "text/plain": [
       "(\u001b[1m5×8 DataFrame\u001b[0m\n",
       "\u001b[1m Row \u001b[0m│\u001b[1m x1           \u001b[0m\u001b[1m x2           \u001b[0m\u001b[1m z            \u001b[0m\u001b[1m y1           \u001b[0m\u001b[1m y2           \u001b[0m\u001b[1m c\u001b[0m ⋯\n",
       "     │\u001b[90m Float64      \u001b[0m\u001b[90m Float64      \u001b[0m\u001b[90m Float64      \u001b[0m\u001b[90m Float64      \u001b[0m\u001b[90m Float64      \u001b[0m\u001b[90m B\u001b[0m ⋯\n",
       "─────┼──────────────────────────────────────────────────────────────────────────\n",
       "   1 │  1.76263e-15  -4.64974      -1.78345e-16   1.76263e-15  -4.64974        ⋯\n",
       "   2 │  1.76499e-15   4.64974      -1.78583e-16   1.76499e-15   4.64974\n",
       "   3 │  2.55091e-15   3.56806e-14  -6.93408e-15   2.55091e-15   3.56806e-14\n",
       "   4 │  8.33474      -2.65005e-12  -4.63075       8.16215      -1.61401e-10\n",
       "   5 │ -8.33474      -2.65384e-12  -4.63075      -8.16215      -1.61404e-10    ⋯\n",
       "\u001b[36m                                                               3 columns omitted\u001b[0m, \u001b[1m5×4 DataFrame\u001b[0m\n",
       "\u001b[1m Row \u001b[0m│\u001b[1m x1           \u001b[0m\u001b[1m x2           \u001b[0m\u001b[1m value        \u001b[0m\u001b[1m captured \u001b[0m\n",
       "     │\u001b[90m Float64      \u001b[0m\u001b[90m Float64      \u001b[0m\u001b[90m Float64      \u001b[0m\u001b[90m Bool     \u001b[0m\n",
       "─────┼────────────────────────────────────────────────────\n",
       "   1 │  1.76263e-15  -4.64974      -1.78345e-16      true\n",
       "   2 │  1.76499e-15   4.64974      -1.78583e-16      true\n",
       "   3 │  2.55091e-15   3.56806e-14  -6.93408e-15      true\n",
       "   4 │  8.16215      -1.61401e-10  -4.71071          true\n",
       "   5 │ -8.16215      -1.61404e-10  -4.71071          true)"
      ]
     },
     "metadata": {},
     "output_type": "display_data"
    }
   ],
   "source": [
    "df_lege, df_min_lege = analyze_critical_points(f, df_lege, TR, tol_dist=0.5)"
   ]
  },
  {
   "cell_type": "code",
   "execution_count": 17,
   "metadata": {},
   "outputs": [],
   "source": [
    "using GLMakie\n",
    "plot_polyapprox_levelset(pol_cheb, TR, df_cheb, df_min_cheb)"
   ]
  },
  {
   "cell_type": "code",
   "execution_count": 9,
   "metadata": {},
   "outputs": [],
   "source": [
    "plot_polyapprox_rotate(pol_cheb, TR, df_cheb, df_min_cheb)"
   ]
  },
  {
   "cell_type": "code",
   "execution_count": 10,
   "metadata": {},
   "outputs": [],
   "source": [
    "plot_polyapprox_levelset(pol_lege, TR, df_lege, df_min_lege)"
   ]
  },
  {
   "cell_type": "code",
   "execution_count": 11,
   "metadata": {},
   "outputs": [],
   "source": [
    "plot_polyapprox_rotate(pol_lege, TR, df_lege, df_min_lege)"
   ]
  },
  {
   "cell_type": "code",
   "execution_count": 12,
   "metadata": {},
   "outputs": [],
   "source": [
    "# GLMakie.closeall()"
   ]
  }
 ],
 "metadata": {
  "kernelspec": {
   "display_name": "Julia 1.11.2",
   "language": "julia",
   "name": "julia-1.11"
  },
  "language_info": {
   "file_extension": ".jl",
   "mimetype": "application/julia",
   "name": "julia",
   "version": "1.11.2"
  }
 },
 "nbformat": 4,
 "nbformat_minor": 2
}
