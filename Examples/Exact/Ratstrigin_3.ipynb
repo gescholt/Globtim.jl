{
 "cells": [
  {
   "cell_type": "code",
   "execution_count": 1,
   "metadata": {},
   "outputs": [
    {
     "name": "stderr",
     "output_type": "stream",
     "text": [
      "\u001b[32m\u001b[1m  Activating\u001b[22m\u001b[39m project at `~/Globtim.jl`\n"
     ]
    },
    {
     "data": {
      "text/plain": [
       "Rastringin (generic function with 1 method)"
      ]
     },
     "metadata": {},
     "output_type": "display_data"
    }
   ],
   "source": [
    "using Pkg\n",
    "Pkg.activate(joinpath(@__DIR__, \"../..\"))\n",
    "using Globtim\n",
    "using DynamicPolynomials, DataFrames\n",
    "# Constants and Parameters\n",
    "const n, a, b = 3, 5.12, 1\n",
    "const scale_factor = a / b   # Scaling factor appears in `main_computation`, maybe it should be a parameter.\n",
    "const delta, alpha = 0.5, 1 / 10  # Sampling parameters\n",
    "const tol_l2 = 3e-4            # Define the tolerance for the L2-norm\n",
    "f = Rastringin # Objective function"
   ]
  },
  {
   "cell_type": "markdown",
   "metadata": {},
   "source": [
    "We set the number of samples used to generate the approximant. It is annoying that the error goes up while the degree has increased."
   ]
  },
  {
   "cell_type": "code",
   "execution_count": 2,
   "metadata": {},
   "outputs": [
    {
     "name": "stdout",
     "output_type": "stream",
     "text": [
      "current L2-norm: 0.1479126520306028\n",
      "current L2-norm: 46.61160232039606\n"
     ]
    }
   ],
   "source": [
    "rand_center = [0.0, 0.0, 0,];\n",
    "d = 6 # initial degree \n",
    "SMPL = 20 # Number of samples\n",
    "TR = test_input(f, \n",
    "                dim = n,\n",
    "                center=rand_center,\n",
    "                GN=SMPL, \n",
    "                sample_range=scale_factor, \n",
    "                degree_max =d+4\n",
    "                )\n",
    "pol_cheb = Constructor(TR, d, basis=:chebyshev)\n",
    "pol_lege = Constructor(TR, d, basis=:legendre);\n",
    "\n",
    "@polyvar(x[1:n]); # Define polynomial ring "
   ]
  },
  {
   "cell_type": "markdown",
   "metadata": {},
   "source": [
    "Solve the system of partial derivatives using `Msolve`. "
   ]
  },
  {
   "cell_type": "code",
   "execution_count": 3,
   "metadata": {},
   "outputs": [
    {
     "name": "stdout",
     "output_type": "stream",
     "text": [
      "\n",
      "=== Starting MSolve Parser (dimension: 3) ===\n",
      "Processed 27 points (0.001s)\n"
     ]
    },
    {
     "data": {
      "text/html": [
       "<div><div style = \"float: left;\"><span>27×4 DataFrame</span></div><div style = \"float: right;\"><span style = \"font-style: italic;\">2 rows omitted</span></div><div style = \"clear: both;\"></div></div><div class = \"data-frame\" style = \"overflow-x: scroll;\"><table class = \"data-frame\" style = \"margin-bottom: 6px;\"><thead><tr class = \"header\"><th class = \"rowNumber\" style = \"font-weight: bold; text-align: right;\">Row</th><th style = \"text-align: left;\">x1</th><th style = \"text-align: left;\">x2</th><th style = \"text-align: left;\">x3</th><th style = \"text-align: left;\">z</th></tr><tr class = \"subheader headerLastRow\"><th class = \"rowNumber\" style = \"font-weight: bold; text-align: right;\"></th><th title = \"Float64\" style = \"text-align: left;\">Float64</th><th title = \"Float64\" style = \"text-align: left;\">Float64</th><th title = \"Float64\" style = \"text-align: left;\">Float64</th><th title = \"Float64\" style = \"text-align: left;\">Float64</th></tr></thead><tbody><tr><td class = \"rowNumber\" style = \"font-weight: bold; text-align: right;\">1</td><td style = \"text-align: right;\">9.14153e-15</td><td style = \"text-align: right;\">-4.60798</td><td style = \"text-align: right;\">-4.60798</td><td style = \"text-align: right;\">48.0378</td></tr><tr><td class = \"rowNumber\" style = \"font-weight: bold; text-align: right;\">2</td><td style = \"text-align: right;\">-4.60798</td><td style = \"text-align: right;\">-4.60798</td><td style = \"text-align: right;\">-4.60798</td><td style = \"text-align: right;\">87.0568</td></tr><tr><td class = \"rowNumber\" style = \"font-weight: bold; text-align: right;\">3</td><td style = \"text-align: right;\">4.60798</td><td style = \"text-align: right;\">-4.60798</td><td style = \"text-align: right;\">-4.60798</td><td style = \"text-align: right;\">87.0568</td></tr><tr><td class = \"rowNumber\" style = \"font-weight: bold; text-align: right;\">4</td><td style = \"text-align: right;\">9.03326e-15</td><td style = \"text-align: right;\">2.53969e-14</td><td style = \"text-align: right;\">-4.60798</td><td style = \"text-align: right;\">9.01892</td></tr><tr><td class = \"rowNumber\" style = \"font-weight: bold; text-align: right;\">5</td><td style = \"text-align: right;\">-4.60798</td><td style = \"text-align: right;\">2.57726e-14</td><td style = \"text-align: right;\">-4.60798</td><td style = \"text-align: right;\">48.0378</td></tr><tr><td class = \"rowNumber\" style = \"font-weight: bold; text-align: right;\">6</td><td style = \"text-align: right;\">4.60798</td><td style = \"text-align: right;\">2.56519e-14</td><td style = \"text-align: right;\">-4.60798</td><td style = \"text-align: right;\">48.0378</td></tr><tr><td class = \"rowNumber\" style = \"font-weight: bold; text-align: right;\">7</td><td style = \"text-align: right;\">8.40975e-15</td><td style = \"text-align: right;\">4.60798</td><td style = \"text-align: right;\">-4.60798</td><td style = \"text-align: right;\">48.0378</td></tr><tr><td class = \"rowNumber\" style = \"font-weight: bold; text-align: right;\">8</td><td style = \"text-align: right;\">-4.60798</td><td style = \"text-align: right;\">4.60798</td><td style = \"text-align: right;\">-4.60798</td><td style = \"text-align: right;\">87.0568</td></tr><tr><td class = \"rowNumber\" style = \"font-weight: bold; text-align: right;\">9</td><td style = \"text-align: right;\">4.60798</td><td style = \"text-align: right;\">4.60798</td><td style = \"text-align: right;\">-4.60798</td><td style = \"text-align: right;\">87.0568</td></tr><tr><td class = \"rowNumber\" style = \"font-weight: bold; text-align: right;\">10</td><td style = \"text-align: right;\">0.0</td><td style = \"text-align: right;\">0.0</td><td style = \"text-align: right;\">6.67211e-14</td><td style = \"text-align: right;\">-30.0</td></tr><tr><td class = \"rowNumber\" style = \"font-weight: bold; text-align: right;\">11</td><td style = \"text-align: right;\">4.60798</td><td style = \"text-align: right;\">4.60798</td><td style = \"text-align: right;\">6.74979e-14</td><td style = \"text-align: right;\">48.0378</td></tr><tr><td class = \"rowNumber\" style = \"font-weight: bold; text-align: right;\">12</td><td style = \"text-align: right;\">0.0</td><td style = \"text-align: right;\">0.0</td><td style = \"text-align: right;\">6.93917e-14</td><td style = \"text-align: right;\">-30.0</td></tr><tr><td class = \"rowNumber\" style = \"font-weight: bold; text-align: right;\">13</td><td style = \"text-align: right;\">0.0</td><td style = \"text-align: right;\">0.0</td><td style = \"text-align: right;\">7.72588e-14</td><td style = \"text-align: right;\">-30.0</td></tr><tr><td style = \"text-align: right;\">&vellip;</td><td style = \"text-align: right;\">&vellip;</td><td style = \"text-align: right;\">&vellip;</td><td style = \"text-align: right;\">&vellip;</td><td style = \"text-align: right;\">&vellip;</td></tr><tr><td class = \"rowNumber\" style = \"font-weight: bold; text-align: right;\">16</td><td style = \"text-align: right;\">0.0</td><td style = \"text-align: right;\">0.0</td><td style = \"text-align: right;\">8.02615e-14</td><td style = \"text-align: right;\">-30.0</td></tr><tr><td class = \"rowNumber\" style = \"font-weight: bold; text-align: right;\">17</td><td style = \"text-align: right;\">0.0</td><td style = \"text-align: right;\">0.0</td><td style = \"text-align: right;\">8.17456e-14</td><td style = \"text-align: right;\">-30.0</td></tr><tr><td class = \"rowNumber\" style = \"font-weight: bold; text-align: right;\">18</td><td style = \"text-align: right;\">0.0</td><td style = \"text-align: right;\">0.0</td><td style = \"text-align: right;\">8.33384e-14</td><td style = \"text-align: right;\">-30.0</td></tr><tr><td class = \"rowNumber\" style = \"font-weight: bold; text-align: right;\">19</td><td style = \"text-align: right;\">-4.60798</td><td style = \"text-align: right;\">4.60798</td><td style = \"text-align: right;\">4.60798</td><td style = \"text-align: right;\">87.0568</td></tr><tr><td class = \"rowNumber\" style = \"font-weight: bold; text-align: right;\">20</td><td style = \"text-align: right;\">4.60798</td><td style = \"text-align: right;\">4.60798</td><td style = \"text-align: right;\">4.60798</td><td style = \"text-align: right;\">87.0568</td></tr><tr><td class = \"rowNumber\" style = \"font-weight: bold; text-align: right;\">21</td><td style = \"text-align: right;\">7.21918e-15</td><td style = \"text-align: right;\">4.60798</td><td style = \"text-align: right;\">4.60798</td><td style = \"text-align: right;\">48.0378</td></tr><tr><td class = \"rowNumber\" style = \"font-weight: bold; text-align: right;\">22</td><td style = \"text-align: right;\">-4.60798</td><td style = \"text-align: right;\">-4.60798</td><td style = \"text-align: right;\">4.60798</td><td style = \"text-align: right;\">87.0568</td></tr><tr><td class = \"rowNumber\" style = \"font-weight: bold; text-align: right;\">23</td><td style = \"text-align: right;\">4.60798</td><td style = \"text-align: right;\">-4.60798</td><td style = \"text-align: right;\">4.60798</td><td style = \"text-align: right;\">87.0568</td></tr><tr><td class = \"rowNumber\" style = \"font-weight: bold; text-align: right;\">24</td><td style = \"text-align: right;\">-4.60798</td><td style = \"text-align: right;\">1.72574e-14</td><td style = \"text-align: right;\">4.60798</td><td style = \"text-align: right;\">48.0378</td></tr><tr><td class = \"rowNumber\" style = \"font-weight: bold; text-align: right;\">25</td><td style = \"text-align: right;\">7.71578e-15</td><td style = \"text-align: right;\">-4.60798</td><td style = \"text-align: right;\">4.60798</td><td style = \"text-align: right;\">48.0378</td></tr><tr><td class = \"rowNumber\" style = \"font-weight: bold; text-align: right;\">26</td><td style = \"text-align: right;\">4.60798</td><td style = \"text-align: right;\">1.77158e-14</td><td style = \"text-align: right;\">4.60798</td><td style = \"text-align: right;\">48.0378</td></tr><tr><td class = \"rowNumber\" style = \"font-weight: bold; text-align: right;\">27</td><td style = \"text-align: right;\">8.10941e-15</td><td style = \"text-align: right;\">1.57199e-14</td><td style = \"text-align: right;\">4.60798</td><td style = \"text-align: right;\">9.01892</td></tr></tbody></table></div>"
      ],
      "text/latex": [
       "\\begin{tabular}{r|cccc}\n",
       "\t& x1 & x2 & x3 & z\\\\\n",
       "\t\\hline\n",
       "\t& Float64 & Float64 & Float64 & Float64\\\\\n",
       "\t\\hline\n",
       "\t1 & 9.14153e-15 & -4.60798 & -4.60798 & 48.0378 \\\\\n",
       "\t2 & -4.60798 & -4.60798 & -4.60798 & 87.0568 \\\\\n",
       "\t3 & 4.60798 & -4.60798 & -4.60798 & 87.0568 \\\\\n",
       "\t4 & 9.03326e-15 & 2.53969e-14 & -4.60798 & 9.01892 \\\\\n",
       "\t5 & -4.60798 & 2.57726e-14 & -4.60798 & 48.0378 \\\\\n",
       "\t6 & 4.60798 & 2.56519e-14 & -4.60798 & 48.0378 \\\\\n",
       "\t7 & 8.40975e-15 & 4.60798 & -4.60798 & 48.0378 \\\\\n",
       "\t8 & -4.60798 & 4.60798 & -4.60798 & 87.0568 \\\\\n",
       "\t9 & 4.60798 & 4.60798 & -4.60798 & 87.0568 \\\\\n",
       "\t10 & 0.0 & 0.0 & 6.67211e-14 & -30.0 \\\\\n",
       "\t11 & 4.60798 & 4.60798 & 6.74979e-14 & 48.0378 \\\\\n",
       "\t12 & 0.0 & 0.0 & 6.93917e-14 & -30.0 \\\\\n",
       "\t13 & 0.0 & 0.0 & 7.72588e-14 & -30.0 \\\\\n",
       "\t14 & 0.0 & 0.0 & 7.82943e-14 & -30.0 \\\\\n",
       "\t15 & 0.0 & 0.0 & 7.84557e-14 & -30.0 \\\\\n",
       "\t16 & 0.0 & 0.0 & 8.02615e-14 & -30.0 \\\\\n",
       "\t17 & 0.0 & 0.0 & 8.17456e-14 & -30.0 \\\\\n",
       "\t18 & 0.0 & 0.0 & 8.33384e-14 & -30.0 \\\\\n",
       "\t19 & -4.60798 & 4.60798 & 4.60798 & 87.0568 \\\\\n",
       "\t20 & 4.60798 & 4.60798 & 4.60798 & 87.0568 \\\\\n",
       "\t21 & 7.21918e-15 & 4.60798 & 4.60798 & 48.0378 \\\\\n",
       "\t22 & -4.60798 & -4.60798 & 4.60798 & 87.0568 \\\\\n",
       "\t23 & 4.60798 & -4.60798 & 4.60798 & 87.0568 \\\\\n",
       "\t24 & -4.60798 & 1.72574e-14 & 4.60798 & 48.0378 \\\\\n",
       "\t$\\dots$ & $\\dots$ & $\\dots$ & $\\dots$ & $\\dots$ \\\\\n",
       "\\end{tabular}\n"
      ],
      "text/plain": [
       "\u001b[1m27×4 DataFrame\u001b[0m\n",
       "\u001b[1m Row \u001b[0m│\u001b[1m x1           \u001b[0m\u001b[1m x2           \u001b[0m\u001b[1m x3           \u001b[0m\u001b[1m z         \u001b[0m\n",
       "     │\u001b[90m Float64      \u001b[0m\u001b[90m Float64      \u001b[0m\u001b[90m Float64      \u001b[0m\u001b[90m Float64   \u001b[0m\n",
       "─────┼─────────────────────────────────────────────────────\n",
       "   1 │  9.14153e-15  -4.60798      -4.60798       48.0378\n",
       "   2 │ -4.60798      -4.60798      -4.60798       87.0568\n",
       "   3 │  4.60798      -4.60798      -4.60798       87.0568\n",
       "   4 │  9.03326e-15   2.53969e-14  -4.60798        9.01892\n",
       "   5 │ -4.60798       2.57726e-14  -4.60798       48.0378\n",
       "   6 │  4.60798       2.56519e-14  -4.60798       48.0378\n",
       "   7 │  8.40975e-15   4.60798      -4.60798       48.0378\n",
       "   8 │ -4.60798       4.60798      -4.60798       87.0568\n",
       "  ⋮  │      ⋮             ⋮             ⋮            ⋮\n",
       "  21 │  7.21918e-15   4.60798       4.60798       48.0378\n",
       "  22 │ -4.60798      -4.60798       4.60798       87.0568\n",
       "  23 │  4.60798      -4.60798       4.60798       87.0568\n",
       "  24 │ -4.60798       1.72574e-14   4.60798       48.0378\n",
       "  25 │  7.71578e-15  -4.60798       4.60798       48.0378\n",
       "  26 │  4.60798       1.77158e-14   4.60798       48.0378\n",
       "  27 │  8.10941e-15   1.57199e-14   4.60798        9.01892\n",
       "\u001b[36m                                            12 rows omitted\u001b[0m"
      ]
     },
     "metadata": {},
     "output_type": "display_data"
    }
   ],
   "source": [
    "df_cheb = solve_and_parse(pol_cheb, x, f, TR)"
   ]
  },
  {
   "cell_type": "code",
   "execution_count": 7,
   "metadata": {},
   "outputs": [
    {
     "data": {
      "text/plain": [
       "61×61×61 Array{Float64, 3}:\n",
       "[:, :, 1] =\n",
       " 56.5042  55.8158  54.6176  53.311   …  53.311   54.6176  55.8158  56.5042\n",
       " 55.8158  55.1274  53.9292  52.6226     52.6226  53.9292  55.1274  55.8158\n",
       " 54.6176  53.9292  52.7309  51.4243     51.4243  52.7309  53.9292  54.6176\n",
       " 53.311   52.6226  51.4243  50.1177     50.1177  51.4243  52.6226  53.311\n",
       " 52.5571  51.8687  50.6705  49.3639     49.3639  50.6705  51.8687  52.5571\n",
       " 53.198   52.5096  51.3114  50.0048  …  50.0048  51.3114  52.5096  53.198\n",
       " 55.9215  55.2331  54.0349  52.7283     52.7283  54.0349  55.2331  55.9215\n",
       " 60.617   59.9286  58.7304  57.4238     57.4238  58.7304  59.9286  60.617\n",
       " 65.6821  64.9937  63.7954  62.4888     62.4888  63.7954  64.9937  65.6821\n",
       " 68.0201  67.3317  66.1335  64.8269     64.8269  66.1335  67.3317  68.0201\n",
       "  ⋮                                  ⋱                              ⋮\n",
       " 65.6821  64.9937  63.7954  62.4888     62.4888  63.7954  64.9937  65.6821\n",
       " 60.617   59.9286  58.7304  57.4238     57.4238  58.7304  59.9286  60.617\n",
       " 55.9215  55.2331  54.0349  52.7283     52.7283  54.0349  55.2331  55.9215\n",
       " 53.198   52.5096  51.3114  50.0048  …  50.0048  51.3114  52.5096  53.198\n",
       " 52.5571  51.8687  50.6705  49.3639     49.3639  50.6705  51.8687  52.5571\n",
       " 53.311   52.6226  51.4243  50.1177     50.1177  51.4243  52.6226  53.311\n",
       " 54.6176  53.9292  52.7309  51.4243     51.4243  52.7309  53.9292  54.6176\n",
       " 55.8158  55.1274  53.9292  52.6226     52.6226  53.9292  55.1274  55.8158\n",
       " 56.5042  55.8158  54.6176  53.311   …  53.311   54.6176  55.8158  56.5042\n",
       "\n",
       "[:, :, 2] =\n",
       " 55.8158  55.1274  53.9292  52.6226  …  52.6226  53.9292  55.1274  55.8158\n",
       " 55.1274  54.439   53.2407  51.9341     51.9341  53.2407  54.439   55.1274\n",
       " 53.9292  53.2407  52.0425  50.7359     50.7359  52.0425  53.2407  53.9292\n",
       " 52.6226  51.9341  50.7359  49.4293     49.4293  50.7359  51.9341  52.6226\n",
       " 51.8687  51.1803  49.9821  48.6755     48.6755  49.9821  51.1803  51.8687\n",
       " 52.5096  51.8212  50.623   49.3164  …  49.3164  50.623   51.8212  52.5096\n",
       " 55.2331  54.5447  53.3464  52.0398     52.0398  53.3464  54.5447  55.2331\n",
       " 59.9286  59.2402  58.0419  56.7353     56.7353  58.0419  59.2402  59.9286\n",
       " 64.9937  64.3052  63.107   61.8004     61.8004  63.107   64.3052  64.9937\n",
       " 67.3317  66.6433  65.4451  64.1385     64.1385  65.4451  66.6433  67.3317\n",
       "  ⋮                                  ⋱                              ⋮\n",
       " 64.9937  64.3052  63.107   61.8004     61.8004  63.107   64.3052  64.9937\n",
       " 59.9286  59.2402  58.0419  56.7353     56.7353  58.0419  59.2402  59.9286\n",
       " 55.2331  54.5447  53.3464  52.0398     52.0398  53.3464  54.5447  55.2331\n",
       " 52.5096  51.8212  50.623   49.3164  …  49.3164  50.623   51.8212  52.5096\n",
       " 51.8687  51.1803  49.9821  48.6755     48.6755  49.9821  51.1803  51.8687\n",
       " 52.6226  51.9341  50.7359  49.4293     49.4293  50.7359  51.9341  52.6226\n",
       " 53.9292  53.2407  52.0425  50.7359     50.7359  52.0425  53.2407  53.9292\n",
       " 55.1274  54.439   53.2407  51.9341     51.9341  53.2407  54.439   55.1274\n",
       " 55.8158  55.1274  53.9292  52.6226  …  52.6226  53.9292  55.1274  55.8158\n",
       "\n",
       "[:, :, 3] =\n",
       " 54.6176  53.9292  52.7309  51.4243  …  51.4243  52.7309  53.9292  54.6176\n",
       " 53.9292  53.2407  52.0425  50.7359     50.7359  52.0425  53.2407  53.9292\n",
       " 52.7309  52.0425  50.8443  49.5377     49.5377  50.8443  52.0425  52.7309\n",
       " 51.4243  50.7359  49.5377  48.2311     48.2311  49.5377  50.7359  51.4243\n",
       " 50.6705  49.9821  48.7839  47.4773     47.4773  48.7839  49.9821  50.6705\n",
       " 51.3114  50.623   49.4247  48.1181  …  48.1181  49.4247  50.623   51.3114\n",
       " 54.0349  53.3464  52.1482  50.8416     50.8416  52.1482  53.3464  54.0349\n",
       " 58.7304  58.0419  56.8437  55.5371     55.5371  56.8437  58.0419  58.7304\n",
       " 63.7954  63.107   61.9088  60.6022     60.6022  61.9088  63.107   63.7954\n",
       " 66.1335  65.4451  64.2469  62.9403     62.9403  64.2469  65.4451  66.1335\n",
       "  ⋮                                  ⋱                              ⋮\n",
       " 63.7954  63.107   61.9088  60.6022     60.6022  61.9088  63.107   63.7954\n",
       " 58.7304  58.0419  56.8437  55.5371     55.5371  56.8437  58.0419  58.7304\n",
       " 54.0349  53.3464  52.1482  50.8416     50.8416  52.1482  53.3464  54.0349\n",
       " 51.3114  50.623   49.4247  48.1181  …  48.1181  49.4247  50.623   51.3114\n",
       " 50.6705  49.9821  48.7839  47.4773     47.4773  48.7839  49.9821  50.6705\n",
       " 51.4243  50.7359  49.5377  48.2311     48.2311  49.5377  50.7359  51.4243\n",
       " 52.7309  52.0425  50.8443  49.5377     49.5377  50.8443  52.0425  52.7309\n",
       " 53.9292  53.2407  52.0425  50.7359     50.7359  52.0425  53.2407  53.9292\n",
       " 54.6176  53.9292  52.7309  51.4243  …  51.4243  52.7309  53.9292  54.6176\n",
       "\n",
       ";;; … \n",
       "\n",
       "[:, :, 59] =\n",
       " 54.6176  53.9292  52.7309  51.4243  …  51.4243  52.7309  53.9292  54.6176\n",
       " 53.9292  53.2407  52.0425  50.7359     50.7359  52.0425  53.2407  53.9292\n",
       " 52.7309  52.0425  50.8443  49.5377     49.5377  50.8443  52.0425  52.7309\n",
       " 51.4243  50.7359  49.5377  48.2311     48.2311  49.5377  50.7359  51.4243\n",
       " 50.6705  49.9821  48.7839  47.4773     47.4773  48.7839  49.9821  50.6705\n",
       " 51.3114  50.623   49.4247  48.1181  …  48.1181  49.4247  50.623   51.3114\n",
       " 54.0349  53.3464  52.1482  50.8416     50.8416  52.1482  53.3464  54.0349\n",
       " 58.7304  58.0419  56.8437  55.5371     55.5371  56.8437  58.0419  58.7304\n",
       " 63.7954  63.107   61.9088  60.6022     60.6022  61.9088  63.107   63.7954\n",
       " 66.1335  65.4451  64.2469  62.9403     62.9403  64.2469  65.4451  66.1335\n",
       "  ⋮                                  ⋱                              ⋮\n",
       " 63.7954  63.107   61.9088  60.6022     60.6022  61.9088  63.107   63.7954\n",
       " 58.7304  58.0419  56.8437  55.5371     55.5371  56.8437  58.0419  58.7304\n",
       " 54.0349  53.3464  52.1482  50.8416     50.8416  52.1482  53.3464  54.0349\n",
       " 51.3114  50.623   49.4247  48.1181  …  48.1181  49.4247  50.623   51.3114\n",
       " 50.6705  49.9821  48.7839  47.4773     47.4773  48.7839  49.9821  50.6705\n",
       " 51.4243  50.7359  49.5377  48.2311     48.2311  49.5377  50.7359  51.4243\n",
       " 52.7309  52.0425  50.8443  49.5377     49.5377  50.8443  52.0425  52.7309\n",
       " 53.9292  53.2407  52.0425  50.7359     50.7359  52.0425  53.2407  53.9292\n",
       " 54.6176  53.9292  52.7309  51.4243  …  51.4243  52.7309  53.9292  54.6176\n",
       "\n",
       "[:, :, 60] =\n",
       " 55.8158  55.1274  53.9292  52.6226  …  52.6226  53.9292  55.1274  55.8158\n",
       " 55.1274  54.439   53.2407  51.9341     51.9341  53.2407  54.439   55.1274\n",
       " 53.9292  53.2407  52.0425  50.7359     50.7359  52.0425  53.2407  53.9292\n",
       " 52.6226  51.9341  50.7359  49.4293     49.4293  50.7359  51.9341  52.6226\n",
       " 51.8687  51.1803  49.9821  48.6755     48.6755  49.9821  51.1803  51.8687\n",
       " 52.5096  51.8212  50.623   49.3164  …  49.3164  50.623   51.8212  52.5096\n",
       " 55.2331  54.5447  53.3464  52.0398     52.0398  53.3464  54.5447  55.2331\n",
       " 59.9286  59.2402  58.0419  56.7353     56.7353  58.0419  59.2402  59.9286\n",
       " 64.9937  64.3052  63.107   61.8004     61.8004  63.107   64.3052  64.9937\n",
       " 67.3317  66.6433  65.4451  64.1385     64.1385  65.4451  66.6433  67.3317\n",
       "  ⋮                                  ⋱                              ⋮\n",
       " 64.9937  64.3052  63.107   61.8004     61.8004  63.107   64.3052  64.9937\n",
       " 59.9286  59.2402  58.0419  56.7353     56.7353  58.0419  59.2402  59.9286\n",
       " 55.2331  54.5447  53.3464  52.0398     52.0398  53.3464  54.5447  55.2331\n",
       " 52.5096  51.8212  50.623   49.3164  …  49.3164  50.623   51.8212  52.5096\n",
       " 51.8687  51.1803  49.9821  48.6755     48.6755  49.9821  51.1803  51.8687\n",
       " 52.6226  51.9341  50.7359  49.4293     49.4293  50.7359  51.9341  52.6226\n",
       " 53.9292  53.2407  52.0425  50.7359     50.7359  52.0425  53.2407  53.9292\n",
       " 55.1274  54.439   53.2407  51.9341     51.9341  53.2407  54.439   55.1274\n",
       " 55.8158  55.1274  53.9292  52.6226  …  52.6226  53.9292  55.1274  55.8158\n",
       "\n",
       "[:, :, 61] =\n",
       " 56.5042  55.8158  54.6176  53.311   …  53.311   54.6176  55.8158  56.5042\n",
       " 55.8158  55.1274  53.9292  52.6226     52.6226  53.9292  55.1274  55.8158\n",
       " 54.6176  53.9292  52.7309  51.4243     51.4243  52.7309  53.9292  54.6176\n",
       " 53.311   52.6226  51.4243  50.1177     50.1177  51.4243  52.6226  53.311\n",
       " 52.5571  51.8687  50.6705  49.3639     49.3639  50.6705  51.8687  52.5571\n",
       " 53.198   52.5096  51.3114  50.0048  …  50.0048  51.3114  52.5096  53.198\n",
       " 55.9215  55.2331  54.0349  52.7283     52.7283  54.0349  55.2331  55.9215\n",
       " 60.617   59.9286  58.7304  57.4238     57.4238  58.7304  59.9286  60.617\n",
       " 65.6821  64.9937  63.7954  62.4888     62.4888  63.7954  64.9937  65.6821\n",
       " 68.0201  67.3317  66.1335  64.8269     64.8269  66.1335  67.3317  68.0201\n",
       "  ⋮                                  ⋱                              ⋮\n",
       " 65.6821  64.9937  63.7954  62.4888     62.4888  63.7954  64.9937  65.6821\n",
       " 60.617   59.9286  58.7304  57.4238     57.4238  58.7304  59.9286  60.617\n",
       " 55.9215  55.2331  54.0349  52.7283     52.7283  54.0349  55.2331  55.9215\n",
       " 53.198   52.5096  51.3114  50.0048  …  50.0048  51.3114  52.5096  53.198\n",
       " 52.5571  51.8687  50.6705  49.3639     49.3639  50.6705  51.8687  52.5571\n",
       " 53.311   52.6226  51.4243  50.1177     50.1177  51.4243  52.6226  53.311\n",
       " 54.6176  53.9292  52.7309  51.4243     51.4243  52.7309  53.9292  54.6176\n",
       " 55.8158  55.1274  53.9292  52.6226     52.6226  53.9292  55.1274  55.8158\n",
       " 56.5042  55.8158  54.6176  53.311   …  53.311   54.6176  55.8158  56.5042"
      ]
     },
     "metadata": {},
     "output_type": "display_data"
    }
   ],
   "source": [
    "using StaticArrays\n",
    "using GLMakie\n",
    "include(\"../trials/Visual.jl\")\n",
    "\n",
    "grid = scale_factor * generate_grid(3, 60)  # 3D grid\n",
    "values = map(f, grid) # Prepare level set data for specific level"
   ]
  },
  {
   "cell_type": "code",
   "execution_count": 11,
   "metadata": {},
   "outputs": [],
   "source": [
    "level_set = prepare_level_set_data(grid, values,8.0, tolerance=0.1)\n",
    "\n",
    "plot_level_set(to_makie_format(level_set))\n"
   ]
  }
 ],
 "metadata": {
  "kernelspec": {
   "display_name": "Julia 1.11.2",
   "language": "julia",
   "name": "julia-1.11"
  },
  "language_info": {
   "file_extension": ".jl",
   "mimetype": "application/julia",
   "name": "julia",
   "version": "1.11.2"
  }
 },
 "nbformat": 4,
 "nbformat_minor": 2
}
