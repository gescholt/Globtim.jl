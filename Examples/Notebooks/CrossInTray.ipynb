{
 "cells": [
  {
   "cell_type": "markdown",
   "metadata": {},
   "source": [
    "Cross in Tray Function\n",
    "======================"
   ]
  },
  {
   "cell_type": "code",
   "execution_count": 1,
   "metadata": {},
   "outputs": [
    {
     "name": "stderr",
     "output_type": "stream",
     "text": [
      "\u001b[32m\u001b[1m  Activating\u001b[22m\u001b[39m project at `~/globtim`\n"
     ]
    }
   ],
   "source": [
    "using Pkg\n",
    "Pkg.activate(\"../../.\")\n",
    "using Globtim\n",
    "using DynamicPolynomials, DataFrames\n",
    "using ProgressLogging"
   ]
  },
  {
   "cell_type": "markdown",
   "metadata": {},
   "source": [
    "We define the center and range of the square domain of approximation."
   ]
  },
  {
   "cell_type": "code",
   "execution_count": 2,
   "metadata": {},
   "outputs": [
    {
     "name": "stdout",
     "output_type": "stream",
     "text": [
      "Number of samples: 40000\n"
     ]
    },
    {
     "data": {
      "text/plain": [
       "test_input(2, [0.0, 0.0], 200, (0.1, 0.5), 0.002, (0.0, 0.0), 10.0, 1.0, 6, Globtim.CrossInTray)"
      ]
     },
     "metadata": {},
     "output_type": "display_data"
    }
   ],
   "source": [
    "# Constants and Parameters\n",
    "n = 2\n",
    "a = 10\n",
    "b = 1\n",
    "scale_factor = a / b\n",
    "f = CrossInTray # Objective function\n",
    "d = 8 # Initial Degree \n",
    "SMPL = 200   \n",
    "println(\"Number of samples: \", SMPL^2)\n",
    "TR = test_input(f, \n",
    "                dim = n,\n",
    "                center = [0.0, 0.0],\n",
    "                GN = SMPL, \n",
    "                sample_range = scale_factor\n",
    "                )"
   ]
  },
  {
   "cell_type": "markdown",
   "metadata": {},
   "source": [
    "The `Constructor` function computes the coefficients of the polynomial approximant in the basis specified, with `GN^2` samples distributed following the measure with respect to which the polynomial basis is orthogonal.\n",
    "The `RationalPrecision` specifies that the conversion of the polynomial's coefficients from the tensorized orthogonal basis to the standard monomial basis is carried out in high precision."
   ]
  },
  {
   "cell_type": "code",
   "execution_count": 3,
   "metadata": {},
   "outputs": [
    {
     "name": "stdout",
     "output_type": "stream",
     "text": [
      "current L2-norm: 5.055933321263663\n",
      "current L2-norm: 4.629454025514614\n"
     ]
    }
   ],
   "source": [
    "pol_cheb = Constructor(TR, d, basis=:chebyshev, precision=RationalPrecision)\n",
    "pol_lege = Constructor(TR, d, basis=:legendre, precision=RationalPrecision, normalized=true);"
   ]
  },
  {
   "cell_type": "markdown",
   "metadata": {},
   "source": [
    "Note that with the `Legendre` polynomials, it is necessary to run with the `normalized` option to ensure that the polynomials are orthonormal with respect to the uniform measure on the domain of approximation."
   ]
  },
  {
   "cell_type": "code",
   "execution_count": 4,
   "metadata": {},
   "outputs": [
    {
     "name": "stdout",
     "output_type": "stream",
     "text": [
      "\u001b[32mTracking 49 paths...   4%|█▎                            |  ETA: 0:01:14\u001b[39m\u001b[K\n",
      "\n",
      "\n",
      "\n",
      "\u001b[32mTracking 49 paths... 100%|██████████████████████████████| Time: 0:00:03\u001b[39m\u001b[K\n",
      "\u001b[34m                   # paths tracked: 49\u001b[39m\u001b[K\n",
      "\u001b[34m   # non-singular solutions (real): 49 (25)\u001b[39m\u001b[K\n",
      "\u001b[34m       # singular endpoints (real): 0 (0)\u001b[39m\u001b[K\n",
      "\u001b[34m          # total solutions (real): 49 (25)\u001b[39m\u001b[K\n",
      "\u001b[32mTracking 49 paths...   4%|█▎                            |  ETA: 0:00:20\u001b[39m\u001b[K\n",
      "\n",
      "\n",
      "\n",
      "\u001b[32mTracking 49 paths... 100%|██████████████████████████████| Time: 0:00:00\u001b[39m\u001b[K\n",
      "\u001b[34m                   # paths tracked: 49\u001b[39m\u001b[K\n",
      "\u001b[34m   # non-singular solutions (real): 49 (5)\u001b[39m\u001b[K\n",
      "\u001b[34m       # singular endpoints (real): 0 (0)\u001b[39m\u001b[K\n",
      "\u001b[34m          # total solutions (real): 49 (5)\u001b[39m\u001b[K\n"
     ]
    }
   ],
   "source": [
    "@polyvar(x[1:n]) # Define polynomial ring \n",
    "real_pts_cheb = solve_polynomial_system(\n",
    "    x, n, d, pol_cheb.coeffs;\n",
    "    basis=pol_cheb.basis,\n",
    "    precision=pol_cheb.precision,\n",
    "    normalized=pol_cheb.normalized,\n",
    ")\n",
    "\n",
    "real_pts_lege = solve_polynomial_system(\n",
    "    x, n, d, pol_lege.coeffs;\n",
    "    basis=pol_lege.basis,\n",
    "    precision=pol_lege.precision,\n",
    "    normalized=pol_lege.normalized)\n",
    "\n",
    "df_cheb = process_crit_pts(real_pts_cheb, f, TR)\n",
    "df_lege = process_crit_pts(real_pts_lege, f, TR);"
   ]
  },
  {
   "cell_type": "code",
   "execution_count": 5,
   "metadata": {},
   "outputs": [
    {
     "name": "stdout",
     "output_type": "stream",
     "text": [
      "Processing point 1 of 25\n",
      "Optimization status: \u001b[31m✗\u001b[0m (outside bounds)\n",
      "Processing point 2 of 25\n",
      "Optimization status: \u001b[31m✗\u001b[0m (outside bounds)\n",
      "Processing point 3 of 25\n",
      "Optimization status: \u001b[31m✗\u001b[0m (outside bounds)\n",
      "Processing point 4 of 25\n",
      "Optimization status: \u001b[31m✗\u001b[0m (outside bounds)\n",
      "Processing point 5 of 25\n",
      "Optimization status: \u001b[31m✗\u001b[0m (outside bounds)\n",
      "Processing point 6 of 25\n",
      "Optimization status: \u001b[31m✗\u001b[0m (did not converge)\n",
      "Processing point 7 of 25\n",
      "Optimization status: \u001b[31m✗\u001b[0m (outside bounds)\n",
      "Processing point 8 of 25\n",
      "Optimization status: \u001b[31m✗\u001b[0m (outside bounds)\n",
      "Processing point 9 of 25\n",
      "Optimization status: \u001b[31m✗\u001b[0m (outside bounds)\n",
      "Processing point 10 of 25\n",
      "Optimization status: \u001b[31m✗\u001b[0m (outside bounds)\n",
      "Processing point 11 of 25\n",
      "Optimization status: \u001b[31m✗\u001b[0m (outside bounds)\n",
      "Processing point 12 of 25\n",
      "Optimization status: \u001b[31m✗\u001b[0m (outside bounds)\n",
      "Processing point 13 of 25\n",
      "Optimization status: \u001b[31m✗\u001b[0m (outside bounds)\n",
      "Processing point 14 of 25\n",
      "Optimization status: \u001b[31m✗\u001b[0m (outside bounds)\n",
      "Processing point 15 of 25\n",
      "Optimization status: \u001b[31m✗\u001b[0m (outside bounds)\n",
      "Processing point 16 of 25\n",
      "Optimization status: \u001b[31m✗\u001b[0m (outside bounds)\n",
      "Processing point 17 of 25\n",
      "Optimization status: \u001b[31m✗\u001b[0m (outside bounds)\n",
      "Processing point 18 of 25\n",
      "Optimization status: \u001b[31m✗\u001b[0m (outside bounds)\n",
      "Processing point 19 of 25\n",
      "Optimization status: \u001b[31m✗\u001b[0m (outside bounds)\n",
      "Processing point 20 of 25\n",
      "Optimization status: \u001b[31m✗\u001b[0m (outside bounds)\n",
      "Processing point 21 of 25\n",
      "Optimization status: \u001b[31m✗\u001b[0m (outside bounds)\n",
      "Processing point 22 of 25\n",
      "Optimization status: \u001b[31m✗\u001b[0m (outside bounds)\n",
      "Processing point 23 of 25\n",
      "Optimization status: \u001b[31m✗\u001b[0m (did not converge)\n",
      "Processing point 24 of 25\n",
      "Optimization status: \u001b[31m✗\u001b[0m (outside bounds)\n",
      "Processing point 25 of 25\n",
      "Optimization has converged within bounds: \u001b[32m✓\u001b[0m\n",
      "\n",
      "=== Computing Enhanced Statistics ===\n",
      "Computing spatial regions...\n",
      "Clustering function values...\n",
      "Computing nearest neighbor distances...\n",
      "Computing gradient norms at critical points...\n",
      "Analyzing basins of attraction...\n",
      "Computing gradient norms at minimizers...\n",
      "Enhanced statistics computed successfully!\n",
      "New df columns: region_id, function_value_cluster, nearest_neighbor_dist, gradient_norm\n",
      "New df_min columns: basin_points, average_convergence_steps, region_coverage_count, gradient_norm_at_min\n",
      "\n",
      "=== Computing Complete Hessian Analysis ===\n",
      "Computing Hessian matrices...\n",
      "Computing all eigenvalues...\n",
      "Classifying critical points...\n",
      "Extracting critical eigenvalues...\n",
      "Computing Hessian norms...\n",
      "Computing eigenvalue statistics...\n",
      "Computing Hessian analysis for minimizers...\n",
      "Hessian analysis complete!\n",
      "New df columns: critical_point_type, smallest_positive_eigenval, largest_negative_eigenval, hessian_norm, hessian_*\n",
      "New df_min columns: same Hessian-based columns as df\n",
      "Processing point 1 of 1\n",
      "Optimization status: \u001b[31m✗\u001b[0m (outside bounds)\n",
      "\n",
      "=== Computing Enhanced Statistics ===\n",
      "Computing spatial regions...\n",
      "Clustering function values...\n",
      "Computing nearest neighbor distances...\n",
      "Computing gradient norms at critical points...\n",
      "Enhanced statistics computed successfully!\n",
      "New df columns: region_id, function_value_cluster, nearest_neighbor_dist, gradient_norm\n",
      "\n",
      "=== Computing Complete Hessian Analysis ===\n",
      "Computing Hessian matrices...\n",
      "Computing all eigenvalues...\n",
      "Classifying critical points...\n",
      "Extracting critical eigenvalues...\n",
      "Computing Hessian norms...\n",
      "Computing eigenvalue statistics...\n",
      "Hessian analysis complete!\n",
      "New df columns: critical_point_type, smallest_positive_eigenval, largest_negative_eigenval, hessian_norm, hessian_*\n"
     ]
    }
   ],
   "source": [
    "using Optim\n",
    "df_cheb, df_min_cheb = analyze_critical_points(f, df_cheb, TR, tol_dist=0.00125);\n",
    "df_lege, df_min_lege = analyze_critical_points(f, df_lege, TR, tol_dist=0.00125);"
   ]
  },
  {
   "cell_type": "code",
   "execution_count": 6,
   "metadata": {},
   "outputs": [
    {
     "name": "stderr",
     "output_type": "stream",
     "text": [
      "\u001b[91m\u001b[1mERROR: \u001b[22m\u001b[39mLoadError: UndefVarError: `XYBased` not defined in `Makie`\n",
      "Suggestion: check for spelling errors or missing imports.\n",
      "Stacktrace:\n",
      " [1] \u001b[0m\u001b[1mgetproperty\u001b[22m\u001b[0m\u001b[1m(\u001b[22m\u001b[90mx\u001b[39m::\u001b[0mModule, \u001b[90mf\u001b[39m::\u001b[0mSymbol\u001b[0m\u001b[1m)\u001b[22m\n",
      "\u001b[90m   @\u001b[39m \u001b[90mBase\u001b[39m \u001b[90m./\u001b[39m\u001b[90m\u001b[4mBase.jl:42\u001b[24m\u001b[39m\n",
      " [2] top-level scope\n",
      "\u001b[90m   @\u001b[39m \u001b[90m~/.julia/packages/Polynomials/13Ozz/ext/\u001b[39m\u001b[90m\u001b[4mPolynomialsMakieExt.jl:6\u001b[24m\u001b[39m\n",
      " [3] \u001b[0m\u001b[1minclude\u001b[22m\n",
      "\u001b[90m   @\u001b[39m \u001b[90m./\u001b[39m\u001b[90m\u001b[4mBase.jl:562\u001b[24m\u001b[39m\u001b[90m [inlined]\u001b[39m\n",
      " [4] \u001b[0m\u001b[1minclude_package_for_output\u001b[22m\u001b[0m\u001b[1m(\u001b[22m\u001b[90mpkg\u001b[39m::\u001b[0mBase.PkgId, \u001b[90minput\u001b[39m::\u001b[0mString, \u001b[90mdepot_path\u001b[39m::\u001b[0mVector\u001b[90m{String}\u001b[39m, \u001b[90mdl_load_path\u001b[39m::\u001b[0mVector\u001b[90m{String}\u001b[39m, \u001b[90mload_path\u001b[39m::\u001b[0mVector\u001b[90m{String}\u001b[39m, \u001b[90mconcrete_deps\u001b[39m::\u001b[0mVector\u001b[90m{Pair{Base.PkgId, UInt128}}\u001b[39m, \u001b[90msource\u001b[39m::\u001b[0mString\u001b[0m\u001b[1m)\u001b[22m\n",
      "\u001b[90m   @\u001b[39m \u001b[90mBase\u001b[39m \u001b[90m./\u001b[39m\u001b[90m\u001b[4mloading.jl:2881\u001b[24m\u001b[39m\n",
      " [5] top-level scope\n",
      "\u001b[90m   @\u001b[39m \u001b[90m\u001b[4mstdin:6\u001b[24m\u001b[39m\n",
      "in expression starting at /Users/ghscholt/.julia/packages/Polynomials/13Ozz/ext/PolynomialsMakieExt.jl:1\n",
      "in expression starting at stdin:6\n",
      "┌ Error: Error during loading of extension PolynomialsMakieExt of Polynomials, use `Base.retry_load_extensions()` to retry.\n",
      "│   exception = \u001b[0m1-element ExceptionStack:\n",
      "Failed to precompile PolynomialsMakieExt [6a4b1961-d857-5aa3-b7f6-fc7c46de29bb] to \"/Users/ghscholt/.julia/compiled/v1.11/PolynomialsMakieExt/jl_lCmrGs\".\n",
      "Stacktrace:\n",
      "  [1] \u001b[0m\u001b[1merror\u001b[22m\u001b[0m\u001b[1m(\u001b[22m\u001b[90ms\u001b[39m::\u001b[0mString\u001b[0m\u001b[1m)\u001b[22m\n",
      "\u001b[90m    @\u001b[39m \u001b[90mBase\u001b[39m \u001b[90m./\u001b[39m\u001b[90m\u001b[4merror.jl:35\u001b[24m\u001b[39m\n",
      "  [2] \u001b[0m\u001b[1mcompilecache\u001b[22m\u001b[0m\u001b[1m(\u001b[22m\u001b[90mpkg\u001b[39m::\u001b[0mBase.PkgId, \u001b[90mpath\u001b[39m::\u001b[0mString, \u001b[90minternal_stderr\u001b[39m::\u001b[0mIO, \u001b[90minternal_stdout\u001b[39m::\u001b[0mIO, \u001b[90mkeep_loaded_modules\u001b[39m::\u001b[0mBool; \u001b[90mflags\u001b[39m::\u001b[0mCmd, \u001b[90mcacheflags\u001b[39m::\u001b[0mBase.CacheFlags, \u001b[90mreasons\u001b[39m::\u001b[0mDict\u001b[90m{String, Int64}\u001b[39m, \u001b[90mloadable_exts\u001b[39m::\u001b[0mVector\u001b[90m{Base.PkgId}\u001b[39m\u001b[0m\u001b[1m)\u001b[22m\n",
      "\u001b[90m    @\u001b[39m \u001b[90mBase\u001b[39m \u001b[90m./\u001b[39m\u001b[90m\u001b[4mloading.jl:3174\u001b[24m\u001b[39m\n",
      "  [3] \u001b[0m\u001b[1m(::Base.var\"#1110#1111\"{Base.PkgId})\u001b[22m\u001b[0m\u001b[1m(\u001b[22m\u001b[0m\u001b[1m)\u001b[22m\n",
      "\u001b[90m    @\u001b[39m \u001b[90mBase\u001b[39m \u001b[90m./\u001b[39m\u001b[90m\u001b[4mloading.jl:2579\u001b[24m\u001b[39m\n",
      "  [4] \u001b[0m\u001b[1mmkpidlock\u001b[22m\u001b[0m\u001b[1m(\u001b[22m\u001b[90mf\u001b[39m::\u001b[0mBase.var\"#1110#1111\"\u001b[90m{Base.PkgId}\u001b[39m, \u001b[90mat\u001b[39m::\u001b[0mString, \u001b[90mpid\u001b[39m::\u001b[0mInt32; \u001b[90mkwopts\u001b[39m::\u001b[0m@Kwargs\u001b[90m{stale_age::Int64, wait::Bool}\u001b[39m\u001b[0m\u001b[1m)\u001b[22m\n",
      "\u001b[90m    @\u001b[39m \u001b[35mFileWatching.Pidfile\u001b[39m \u001b[90m~/.julia/juliaup/julia-1.11.6+0.aarch64.apple.darwin14/share/julia/stdlib/v1.11/FileWatching/src/\u001b[39m\u001b[90m\u001b[4mpidfile.jl:95\u001b[24m\u001b[39m\n",
      "  [5] \u001b[0m\u001b[1m#mkpidlock#6\u001b[22m\n",
      "\u001b[90m    @\u001b[39m \u001b[90m~/.julia/juliaup/julia-1.11.6+0.aarch64.apple.darwin14/share/julia/stdlib/v1.11/FileWatching/src/\u001b[39m\u001b[90m\u001b[4mpidfile.jl:90\u001b[24m\u001b[39m\u001b[90m [inlined]\u001b[39m\n",
      "  [6] \u001b[0m\u001b[1mtrymkpidlock\u001b[22m\u001b[0m\u001b[1m(\u001b[22m::\u001b[0mFunction, ::\u001b[0mVararg\u001b[90m{Any}\u001b[39m; \u001b[90mkwargs\u001b[39m::\u001b[0m@Kwargs\u001b[90m{stale_age::Int64}\u001b[39m\u001b[0m\u001b[1m)\u001b[22m\n",
      "\u001b[90m    @\u001b[39m \u001b[35mFileWatching.Pidfile\u001b[39m \u001b[90m~/.julia/juliaup/julia-1.11.6+0.aarch64.apple.darwin14/share/julia/stdlib/v1.11/FileWatching/src/\u001b[39m\u001b[90m\u001b[4mpidfile.jl:116\u001b[24m\u001b[39m\n",
      "  [7] \u001b[0m\u001b[1m#invokelatest#2\u001b[22m\n",
      "\u001b[90m    @\u001b[39m \u001b[90m./\u001b[39m\u001b[90m\u001b[4messentials.jl:1057\u001b[24m\u001b[39m\u001b[90m [inlined]\u001b[39m\n",
      "  [8] \u001b[0m\u001b[1minvokelatest\u001b[22m\n",
      "\u001b[90m    @\u001b[39m \u001b[90m./\u001b[39m\u001b[90m\u001b[4messentials.jl:1052\u001b[24m\u001b[39m\u001b[90m [inlined]\u001b[39m\n",
      "  [9] \u001b[0m\u001b[1mmaybe_cachefile_lock\u001b[22m\u001b[0m\u001b[1m(\u001b[22m\u001b[90mf\u001b[39m::\u001b[0mBase.var\"#1110#1111\"\u001b[90m{Base.PkgId}\u001b[39m, \u001b[90mpkg\u001b[39m::\u001b[0mBase.PkgId, \u001b[90msrcpath\u001b[39m::\u001b[0mString; \u001b[90mstale_age\u001b[39m::\u001b[0mInt64\u001b[0m\u001b[1m)\u001b[22m\n",
      "\u001b[90m    @\u001b[39m \u001b[90mBase\u001b[39m \u001b[90m./\u001b[39m\u001b[90m\u001b[4mloading.jl:3698\u001b[24m\u001b[39m\n",
      " [10] \u001b[0m\u001b[1mmaybe_cachefile_lock\u001b[22m\n",
      "\u001b[90m    @\u001b[39m \u001b[90m./\u001b[39m\u001b[90m\u001b[4mloading.jl:3695\u001b[24m\u001b[39m\u001b[90m [inlined]\u001b[39m\n",
      " [11] \u001b[0m\u001b[1m_require\u001b[22m\u001b[0m\u001b[1m(\u001b[22m\u001b[90mpkg\u001b[39m::\u001b[0mBase.PkgId, \u001b[90menv\u001b[39m::\u001b[0mNothing\u001b[0m\u001b[1m)\u001b[22m\n",
      "\u001b[90m    @\u001b[39m \u001b[90mBase\u001b[39m \u001b[90m./\u001b[39m\u001b[90m\u001b[4mloading.jl:2565\u001b[24m\u001b[39m\n",
      " [12] \u001b[0m\u001b[1m__require_prelocked\u001b[22m\u001b[0m\u001b[1m(\u001b[22m\u001b[90muuidkey\u001b[39m::\u001b[0mBase.PkgId, \u001b[90menv\u001b[39m::\u001b[0mNothing\u001b[0m\u001b[1m)\u001b[22m\n",
      "\u001b[90m    @\u001b[39m \u001b[90mBase\u001b[39m \u001b[90m./\u001b[39m\u001b[90m\u001b[4mloading.jl:2388\u001b[24m\u001b[39m\n",
      " [13] \u001b[0m\u001b[1m#invoke_in_world#3\u001b[22m\n",
      "\u001b[90m    @\u001b[39m \u001b[90m./\u001b[39m\u001b[90m\u001b[4messentials.jl:1089\u001b[24m\u001b[39m\u001b[90m [inlined]\u001b[39m\n",
      " [14] \u001b[0m\u001b[1minvoke_in_world\u001b[22m\n",
      "\u001b[90m    @\u001b[39m \u001b[90m./\u001b[39m\u001b[90m\u001b[4messentials.jl:1086\u001b[24m\u001b[39m\u001b[90m [inlined]\u001b[39m\n",
      " [15] \u001b[0m\u001b[1m_require_prelocked\u001b[22m\n",
      "\u001b[90m    @\u001b[39m \u001b[90m./\u001b[39m\u001b[90m\u001b[4mloading.jl:2375\u001b[24m\u001b[39m\u001b[90m [inlined]\u001b[39m\n",
      " [16] \u001b[0m\u001b[1m_require_prelocked\u001b[22m\n",
      "\u001b[90m    @\u001b[39m \u001b[90m./\u001b[39m\u001b[90m\u001b[4mloading.jl:2374\u001b[24m\u001b[39m\u001b[90m [inlined]\u001b[39m\n",
      " [17] \u001b[0m\u001b[1mrun_extension_callbacks\u001b[22m\u001b[0m\u001b[1m(\u001b[22m\u001b[90mextid\u001b[39m::\u001b[0mBase.ExtensionId\u001b[0m\u001b[1m)\u001b[22m\n",
      "\u001b[90m    @\u001b[39m \u001b[90mBase\u001b[39m \u001b[90m./\u001b[39m\u001b[90m\u001b[4mloading.jl:1544\u001b[24m\u001b[39m\n",
      " [18] \u001b[0m\u001b[1mrun_extension_callbacks\u001b[22m\u001b[0m\u001b[1m(\u001b[22m\u001b[90mpkgid\u001b[39m::\u001b[0mBase.PkgId\u001b[0m\u001b[1m)\u001b[22m\n",
      "\u001b[90m    @\u001b[39m \u001b[90mBase\u001b[39m \u001b[90m./\u001b[39m\u001b[90m\u001b[4mloading.jl:1576\u001b[24m\u001b[39m\n",
      " [19] \u001b[0m\u001b[1mrun_package_callbacks\u001b[22m\u001b[0m\u001b[1m(\u001b[22m\u001b[90mmodkey\u001b[39m::\u001b[0mBase.PkgId\u001b[0m\u001b[1m)\u001b[22m\n",
      "\u001b[90m    @\u001b[39m \u001b[90mBase\u001b[39m \u001b[90m./\u001b[39m\u001b[90m\u001b[4mloading.jl:1396\u001b[24m\u001b[39m\n",
      " [20] \u001b[0m\u001b[1m_require_search_from_serialized\u001b[22m\u001b[0m\u001b[1m(\u001b[22m\u001b[90mpkg\u001b[39m::\u001b[0mBase.PkgId, \u001b[90msourcepath\u001b[39m::\u001b[0mString, \u001b[90mbuild_id\u001b[39m::\u001b[0mUInt128, \u001b[90mstalecheck\u001b[39m::\u001b[0mBool; \u001b[90mreasons\u001b[39m::\u001b[0mDict\u001b[90m{String, Int64}\u001b[39m, \u001b[90mDEPOT_PATH\u001b[39m::\u001b[0mVector\u001b[90m{String}\u001b[39m\u001b[0m\u001b[1m)\u001b[22m\n",
      "\u001b[90m    @\u001b[39m \u001b[90mBase\u001b[39m \u001b[90m./\u001b[39m\u001b[90m\u001b[4mloading.jl:2065\u001b[24m\u001b[39m\n",
      " [21] \u001b[0m\u001b[1m_require\u001b[22m\u001b[0m\u001b[1m(\u001b[22m\u001b[90mpkg\u001b[39m::\u001b[0mBase.PkgId, \u001b[90menv\u001b[39m::\u001b[0mString\u001b[0m\u001b[1m)\u001b[22m\n",
      "\u001b[90m    @\u001b[39m \u001b[90mBase\u001b[39m \u001b[90m./\u001b[39m\u001b[90m\u001b[4mloading.jl:2527\u001b[24m\u001b[39m\n",
      " [22] \u001b[0m\u001b[1m__require_prelocked\u001b[22m\u001b[0m\u001b[1m(\u001b[22m\u001b[90muuidkey\u001b[39m::\u001b[0mBase.PkgId, \u001b[90menv\u001b[39m::\u001b[0mString\u001b[0m\u001b[1m)\u001b[22m\n",
      "\u001b[90m    @\u001b[39m \u001b[90mBase\u001b[39m \u001b[90m./\u001b[39m\u001b[90m\u001b[4mloading.jl:2388\u001b[24m\u001b[39m\n",
      " [23] \u001b[0m\u001b[1m#invoke_in_world#3\u001b[22m\n",
      "\u001b[90m    @\u001b[39m \u001b[90m./\u001b[39m\u001b[90m\u001b[4messentials.jl:1089\u001b[24m\u001b[39m\u001b[90m [inlined]\u001b[39m\n",
      " [24] \u001b[0m\u001b[1minvoke_in_world\u001b[22m\n",
      "\u001b[90m    @\u001b[39m \u001b[90m./\u001b[39m\u001b[90m\u001b[4messentials.jl:1086\u001b[24m\u001b[39m\u001b[90m [inlined]\u001b[39m\n",
      " [25] \u001b[0m\u001b[1m_require_prelocked\u001b[22m\u001b[0m\u001b[1m(\u001b[22m\u001b[90muuidkey\u001b[39m::\u001b[0mBase.PkgId, \u001b[90menv\u001b[39m::\u001b[0mString\u001b[0m\u001b[1m)\u001b[22m\n",
      "\u001b[90m    @\u001b[39m \u001b[90mBase\u001b[39m \u001b[90m./\u001b[39m\u001b[90m\u001b[4mloading.jl:2375\u001b[24m\u001b[39m\n",
      " [26] \u001b[0m\u001b[1mmacro expansion\u001b[22m\n",
      "\u001b[90m    @\u001b[39m \u001b[90m./\u001b[39m\u001b[90m\u001b[4mloading.jl:2314\u001b[24m\u001b[39m\u001b[90m [inlined]\u001b[39m\n",
      " [27] \u001b[0m\u001b[1mmacro expansion\u001b[22m\n",
      "\u001b[90m    @\u001b[39m \u001b[90m./\u001b[39m\u001b[90m\u001b[4mlock.jl:273\u001b[24m\u001b[39m\u001b[90m [inlined]\u001b[39m\n",
      " [28] \u001b[0m\u001b[1m__require\u001b[22m\u001b[0m\u001b[1m(\u001b[22m\u001b[90minto\u001b[39m::\u001b[0mModule, \u001b[90mmod\u001b[39m::\u001b[0mSymbol\u001b[0m\u001b[1m)\u001b[22m\n",
      "\u001b[90m    @\u001b[39m \u001b[90mBase\u001b[39m \u001b[90m./\u001b[39m\u001b[90m\u001b[4mloading.jl:2271\u001b[24m\u001b[39m\n",
      " [29] \u001b[0m\u001b[1m#invoke_in_world#3\u001b[22m\n",
      "\u001b[90m    @\u001b[39m \u001b[90m./\u001b[39m\u001b[90m\u001b[4messentials.jl:1089\u001b[24m\u001b[39m\u001b[90m [inlined]\u001b[39m\n",
      " [30] \u001b[0m\u001b[1minvoke_in_world\u001b[22m\n",
      "\u001b[90m    @\u001b[39m \u001b[90m./\u001b[39m\u001b[90m\u001b[4messentials.jl:1086\u001b[24m\u001b[39m\u001b[90m [inlined]\u001b[39m\n",
      " [31] \u001b[0m\u001b[1mrequire\u001b[22m\u001b[0m\u001b[1m(\u001b[22m\u001b[90minto\u001b[39m::\u001b[0mModule, \u001b[90mmod\u001b[39m::\u001b[0mSymbol\u001b[0m\u001b[1m)\u001b[22m\n",
      "\u001b[90m    @\u001b[39m \u001b[90mBase\u001b[39m \u001b[90m./\u001b[39m\u001b[90m\u001b[4mloading.jl:2260\u001b[24m\u001b[39m\n",
      " [32] \u001b[0m\u001b[1meval\u001b[22m\n",
      "\u001b[90m    @\u001b[39m \u001b[90m./\u001b[39m\u001b[90m\u001b[4mboot.jl:430\u001b[24m\u001b[39m\u001b[90m [inlined]\u001b[39m\n",
      " [33] \u001b[0m\u001b[1minclude_string\u001b[22m\u001b[0m\u001b[1m(\u001b[22m\u001b[90mmapexpr\u001b[39m::\u001b[0mtypeof(REPL.softscope), \u001b[90mmod\u001b[39m::\u001b[0mModule, \u001b[90mcode\u001b[39m::\u001b[0mString, \u001b[90mfilename\u001b[39m::\u001b[0mString\u001b[0m\u001b[1m)\u001b[22m\n",
      "\u001b[90m    @\u001b[39m \u001b[90mBase\u001b[39m \u001b[90m./\u001b[39m\u001b[90m\u001b[4mloading.jl:2734\u001b[24m\u001b[39m\n",
      " [34] \u001b[0m\u001b[1m#invokelatest#2\u001b[22m\n",
      "\u001b[90m    @\u001b[39m \u001b[90m./\u001b[39m\u001b[90m\u001b[4messentials.jl:1055\u001b[24m\u001b[39m\u001b[90m [inlined]\u001b[39m\n",
      " [35] \u001b[0m\u001b[1minvokelatest\u001b[22m\n",
      "\u001b[90m    @\u001b[39m \u001b[90m./\u001b[39m\u001b[90m\u001b[4messentials.jl:1052\u001b[24m\u001b[39m\u001b[90m [inlined]\u001b[39m\n",
      " [36] \u001b[0m\u001b[1m(::VSCodeServer.var\"#217#218\"{VSCodeServer.NotebookRunCellArguments, String})\u001b[22m\u001b[0m\u001b[1m(\u001b[22m\u001b[0m\u001b[1m)\u001b[22m\n",
      "\u001b[90m    @\u001b[39m \u001b[36mVSCodeServer\u001b[39m \u001b[90m~/.vscode/extensions/julialang.language-julia-1.149.2/scripts/packages/VSCodeServer/src/\u001b[39m\u001b[90m\u001b[4mserve_notebook.jl:24\u001b[24m\u001b[39m\n",
      " [37] \u001b[0m\u001b[1mwithpath\u001b[22m\u001b[0m\u001b[1m(\u001b[22m\u001b[90mf\u001b[39m::\u001b[0mVSCodeServer.var\"#217#218\"\u001b[90m{VSCodeServer.NotebookRunCellArguments, String}\u001b[39m, \u001b[90mpath\u001b[39m::\u001b[0mString\u001b[0m\u001b[1m)\u001b[22m\n",
      "\u001b[90m    @\u001b[39m \u001b[36mVSCodeServer\u001b[39m \u001b[90m~/.vscode/extensions/julialang.language-julia-1.149.2/scripts/packages/VSCodeServer/src/\u001b[39m\u001b[90m\u001b[4mrepl.jl:276\u001b[24m\u001b[39m\n",
      " [38] \u001b[0m\u001b[1mnotebook_runcell_request\u001b[22m\u001b[0m\u001b[1m(\u001b[22m\u001b[90mconn\u001b[39m::\u001b[0mVSCodeServer.JSONRPC.JSONRPCEndpoint\u001b[90m{Base.PipeEndpoint, Base.PipeEndpoint, VSCodeServer.JSON.Serializations.StandardSerialization}\u001b[39m, \u001b[90mparams\u001b[39m::\u001b[0mVSCodeServer.NotebookRunCellArguments, \u001b[90mtoken\u001b[39m::\u001b[0mVSCodeServer.CancellationTokens.CancellationToken\u001b[0m\u001b[1m)\u001b[22m\n",
      "\u001b[90m    @\u001b[39m \u001b[36mVSCodeServer\u001b[39m \u001b[90m~/.vscode/extensions/julialang.language-julia-1.149.2/scripts/packages/VSCodeServer/src/\u001b[39m\u001b[90m\u001b[4mserve_notebook.jl:13\u001b[24m\u001b[39m\n",
      " [39] \u001b[0m\u001b[1mdispatch_msg\u001b[22m\u001b[0m\u001b[1m(\u001b[22m\u001b[90mx\u001b[39m::\u001b[0mVSCodeServer.JSONRPC.JSONRPCEndpoint\u001b[90m{Base.PipeEndpoint, Base.PipeEndpoint, VSCodeServer.JSON.Serializations.StandardSerialization}\u001b[39m, \u001b[90mdispatcher\u001b[39m::\u001b[0mVSCodeServer.JSONRPC.MsgDispatcher, \u001b[90mmsg\u001b[39m::\u001b[0mVSCodeServer.JSONRPC.Request\u001b[0m\u001b[1m)\u001b[22m\n",
      "\u001b[90m    @\u001b[39m \u001b[36mVSCodeServer.JSONRPC\u001b[39m \u001b[90m~/.vscode/extensions/julialang.language-julia-1.149.2/scripts/packages/JSONRPC/src/\u001b[39m\u001b[90m\u001b[4mtyped.jl:68\u001b[24m\u001b[39m\n",
      " [40] \u001b[0m\u001b[1mserve_notebook\u001b[22m\u001b[0m\u001b[1m(\u001b[22m\u001b[90mpipename\u001b[39m::\u001b[0mString, \u001b[90mdebugger_pipename\u001b[39m::\u001b[0mString, \u001b[90moutputchannel_logger\u001b[39m::\u001b[0mBase.CoreLogging.SimpleLogger; \u001b[90merror_handler\u001b[39m::\u001b[0mvar\"#5#10\"\u001b[90m{String}\u001b[39m\u001b[0m\u001b[1m)\u001b[22m\n",
      "\u001b[90m    @\u001b[39m \u001b[36mVSCodeServer\u001b[39m \u001b[90m~/.vscode/extensions/julialang.language-julia-1.149.2/scripts/packages/VSCodeServer/src/\u001b[39m\u001b[90m\u001b[4mserve_notebook.jl:147\u001b[24m\u001b[39m\n",
      " [41] top-level scope\n",
      "\u001b[90m    @\u001b[39m \u001b[90m~/.vscode/extensions/julialang.language-julia-1.149.2/scripts/notebook/\u001b[39m\u001b[90m\u001b[4mnotebook.jl:35\u001b[24m\u001b[39m\n",
      " [42] \u001b[0m\u001b[1minclude\u001b[22m\u001b[0m\u001b[1m(\u001b[22m\u001b[90mmod\u001b[39m::\u001b[0mModule, \u001b[90m_path\u001b[39m::\u001b[0mString\u001b[0m\u001b[1m)\u001b[22m\n",
      "\u001b[90m    @\u001b[39m \u001b[90mBase\u001b[39m \u001b[90m./\u001b[39m\u001b[90m\u001b[4mBase.jl:562\u001b[24m\u001b[39m\n",
      " [43] \u001b[0m\u001b[1mexec_options\u001b[22m\u001b[0m\u001b[1m(\u001b[22m\u001b[90mopts\u001b[39m::\u001b[0mBase.JLOptions\u001b[0m\u001b[1m)\u001b[22m\n",
      "\u001b[90m    @\u001b[39m \u001b[90mBase\u001b[39m \u001b[90m./\u001b[39m\u001b[90m\u001b[4mclient.jl:323\u001b[24m\u001b[39m\n",
      " [44] \u001b[0m\u001b[1m_start\u001b[22m\u001b[0m\u001b[1m(\u001b[22m\u001b[0m\u001b[1m)\u001b[22m\n",
      "\u001b[90m    @\u001b[39m \u001b[90mBase\u001b[39m \u001b[90m./\u001b[39m\u001b[90m\u001b[4mclient.jl:531\u001b[24m\u001b[39m\n",
      "└ @ Base loading.jl:1550\n"
     ]
    }
   ],
   "source": [
    "using CairoMakie\n",
    "CairoMakie.activate!()"
   ]
  },
  {
   "cell_type": "code",
   "execution_count": 7,
   "metadata": {},
   "outputs": [
    {
     "name": "stdout",
     "output_type": "stream",
     "text": []
    }
   ],
   "source": [
    "fig_2 = cairo_plot_polyapprox_levelset(pol_lege, TR, df_lege, df_min_lege, chebyshev_levels=true)"
   ]
  },
  {
   "cell_type": "markdown",
   "metadata": {},
   "source": [
    "Note that with the `Legendre` polynomials, it is necessary to run with the `normalized` option to ensure that the polynomials are orthonormal with respect to the uniform measure on the domain of approximation."
   ]
  }
 ],
 "metadata": {
  "kernelspec": {
   "display_name": "Julia 1.11.6",
   "language": "julia",
   "name": "julia-1.11"
  },
  "language_info": {
   "file_extension": ".jl",
   "mimetype": "application/julia",
   "name": "julia",
   "version": "1.11.6"
  }
 },
 "nbformat": 4,
 "nbformat_minor": 2
}
