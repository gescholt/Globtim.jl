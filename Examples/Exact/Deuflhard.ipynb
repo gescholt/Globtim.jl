{
 "cells": [
  {
   "cell_type": "markdown",
   "metadata": {},
   "source": [
    "## Deuflhard Function"
   ]
  },
  {
   "cell_type": "code",
   "execution_count": 1,
   "metadata": {},
   "outputs": [
    {
     "name": "stderr",
     "output_type": "stream",
     "text": [
      "\u001b[32m\u001b[1m  Activating\u001b[22m\u001b[39m project at `~/Globtim.jl`\n"
     ]
    }
   ],
   "source": [
    "using Pkg\n",
    "Pkg.activate(\"../../.\")\n",
    "using Globtim\n",
    "using DynamicPolynomials, DataFrames\n",
    "using ProgressLogging"
   ]
  },
  {
   "cell_type": "code",
   "execution_count": 2,
   "metadata": {},
   "outputs": [
    {
     "data": {
      "text/plain": [
       "Deuflhard (generic function with 1 method)"
      ]
     },
     "metadata": {},
     "output_type": "display_data"
    }
   ],
   "source": [
    "# Constants and Parameters\n",
    "const n, a, b = 2, 11, 10\n",
    "const scale_factor = a / b   # Scaling factor appears in `main_computation`, maybe it should be a parameter.\n",
    "const delta, alpha = 0.5, 1 / 10  # Sampling parameters\n",
    "const tol_l2 = 3e-4            # Define the tolerance for the L2-norm\n",
    "f = Deuflhard # Objective function"
   ]
  },
  {
   "cell_type": "code",
   "execution_count": 3,
   "metadata": {},
   "outputs": [
    {
     "name": "stdout",
     "output_type": "stream",
     "text": [
      "current L2-norm: 0.009384317330376233\n",
      "Number of samples: 40\n",
      "current L2-norm: 0.009679838314339191\n",
      "Number of samples: 40\n"
     ]
    }
   ],
   "source": [
    "d = 8 # Initial Degree \n",
    "SMPL = 40 # Number of samples\n",
    "center = [0.0, 0.0]\n",
    "TR = test_input(n, center, (alpha, delta), tol_l2, (0.0, 0.0), scale_factor, 1.0, f)\n",
    "pol_cheb = Constructor(TR, d, GN=SMPL, basis=:chebyshev)\n",
    "pol_lege = Constructor(TR, d, GN=SMPL, basis=:legendre);"
   ]
  },
  {
   "cell_type": "code",
   "execution_count": 4,
   "metadata": {},
   "outputs": [],
   "source": [
    "@polyvar(x[1:n]); # Define polynomial ring "
   ]
  },
  {
   "cell_type": "code",
   "execution_count": 5,
   "metadata": {},
   "outputs": [
    {
     "name": "stdout",
     "output_type": "stream",
     "text": [
      "\u001b[32mTracking 49 paths...   4%|█▎                            |  ETA: 0:04:39\u001b[39m\u001b[K\n",
      "\n",
      "\n",
      "\n",
      "\u001b[32mTracking 49 paths... 100%|██████████████████████████████| Time: 0:00:12\u001b[39m\u001b[K\n",
      "\u001b[34m  # paths tracked:                  49\u001b[39m\u001b[K\n",
      "\u001b[34m  # non-singular solutions (real):  49 (9)\u001b[39m\u001b[K\n",
      "\u001b[34m  # singular endpoints (real):      0 (0)\u001b[39m\u001b[K\n",
      "\u001b[34m  # total solutions (real):         49 (9)\u001b[39m\u001b[K\n",
      "\u001b[32mTracking 49 paths...   4%|█▎                            |  ETA: 0:01:54\u001b[39m\u001b[K\n",
      "\n",
      "\n",
      "\n",
      "\u001b[32mTracking 49 paths...  12%|███▋                          |  ETA: 0:00:39\u001b[39m\u001b[K\n",
      "\n",
      "\n",
      "\n",
      "\u001b[32mTracking 49 paths...  33%|█████████▊                    |  ETA: 0:00:12\u001b[39m\u001b[K\n",
      "\n",
      "\n",
      "\n",
      "\u001b[32mTracking 49 paths...  47%|██████████████▏               |  ETA: 0:00:07\u001b[39m\u001b[K\n",
      "\n",
      "\n",
      "\n",
      "\u001b[32mTracking 49 paths...  69%|████████████████████▉         |  ETA: 0:00:03\u001b[39m\u001b[K\n",
      "\n",
      "\n",
      "\n",
      "\u001b[32mTracking 49 paths...  86%|█████████████████████████▊    |  ETA: 0:00:01\u001b[39m\u001b[K\n",
      "\n",
      "\n",
      "\n",
      "\u001b[32mTracking 49 paths... 100%|██████████████████████████████| Time: 0:00:06\u001b[39m\u001b[K\n",
      "\u001b[34m  # paths tracked:                  49\u001b[39m\u001b[K\n",
      "\u001b[34m  # non-singular solutions (real):  49 (13)\u001b[39m\u001b[K\n",
      "\u001b[34m  # singular endpoints (real):      0 (0)\u001b[39m\u001b[K\n",
      "\u001b[34m  # total solutions (real):         49 (13)\u001b[39m\u001b[K\n"
     ]
    },
    {
     "data": {
      "text/html": [
       "<div><div style = \"float: left;\"><span>13×3 DataFrame</span></div><div style = \"clear: both;\"></div></div><div class = \"data-frame\" style = \"overflow-x: scroll;\"><table class = \"data-frame\" style = \"margin-bottom: 6px;\"><thead><tr class = \"header\"><th class = \"rowNumber\" style = \"font-weight: bold; text-align: right;\">Row</th><th style = \"text-align: left;\">x1</th><th style = \"text-align: left;\">x2</th><th style = \"text-align: left;\">z</th></tr><tr class = \"subheader headerLastRow\"><th class = \"rowNumber\" style = \"font-weight: bold; text-align: right;\"></th><th title = \"Float64\" style = \"text-align: left;\">Float64</th><th title = \"Float64\" style = \"text-align: left;\">Float64</th><th title = \"Float64\" style = \"text-align: left;\">Float64</th></tr></thead><tbody><tr><td class = \"rowNumber\" style = \"font-weight: bold; text-align: right;\">1</td><td style = \"text-align: right;\">-0.375961</td><td style = \"text-align: right;\">0.98458</td><td style = \"text-align: right;\">0.130242</td></tr><tr><td class = \"rowNumber\" style = \"font-weight: bold; text-align: right;\">2</td><td style = \"text-align: right;\">-0.772423</td><td style = \"text-align: right;\">0.772423</td><td style = \"text-align: right;\">0.0887214</td></tr><tr><td class = \"rowNumber\" style = \"font-weight: bold; text-align: right;\">3</td><td style = \"text-align: right;\">-0.655946</td><td style = \"text-align: right;\">0.865381</td><td style = \"text-align: right;\">0.206448</td></tr><tr><td class = \"rowNumber\" style = \"font-weight: bold; text-align: right;\">4</td><td style = \"text-align: right;\">0.98458</td><td style = \"text-align: right;\">-0.375961</td><td style = \"text-align: right;\">0.130242</td></tr><tr><td class = \"rowNumber\" style = \"font-weight: bold; text-align: right;\">5</td><td style = \"text-align: right;\">0.394318</td><td style = \"text-align: right;\">0.394318</td><td style = \"text-align: right;\">2.68186</td></tr><tr><td class = \"rowNumber\" style = \"font-weight: bold; text-align: right;\">6</td><td style = \"text-align: right;\">-0.98458</td><td style = \"text-align: right;\">0.375961</td><td style = \"text-align: right;\">0.130242</td></tr><tr><td class = \"rowNumber\" style = \"font-weight: bold; text-align: right;\">7</td><td style = \"text-align: right;\">-0.394318</td><td style = \"text-align: right;\">-0.394318</td><td style = \"text-align: right;\">2.68186</td></tr><tr><td class = \"rowNumber\" style = \"font-weight: bold; text-align: right;\">8</td><td style = \"text-align: right;\">0.772423</td><td style = \"text-align: right;\">-0.772423</td><td style = \"text-align: right;\">0.0887214</td></tr><tr><td class = \"rowNumber\" style = \"font-weight: bold; text-align: right;\">9</td><td style = \"text-align: right;\">0.655946</td><td style = \"text-align: right;\">-0.865381</td><td style = \"text-align: right;\">0.206448</td></tr><tr><td class = \"rowNumber\" style = \"font-weight: bold; text-align: right;\">10</td><td style = \"text-align: right;\">0.865381</td><td style = \"text-align: right;\">-0.655946</td><td style = \"text-align: right;\">0.206448</td></tr><tr><td class = \"rowNumber\" style = \"font-weight: bold; text-align: right;\">11</td><td style = \"text-align: right;\">0.375961</td><td style = \"text-align: right;\">-0.98458</td><td style = \"text-align: right;\">0.130242</td></tr><tr><td class = \"rowNumber\" style = \"font-weight: bold; text-align: right;\">12</td><td style = \"text-align: right;\">-2.81796e-16</td><td style = \"text-align: right;\">1.23498e-15</td><td style = \"text-align: right;\">4.0</td></tr><tr><td class = \"rowNumber\" style = \"font-weight: bold; text-align: right;\">13</td><td style = \"text-align: right;\">-0.865381</td><td style = \"text-align: right;\">0.655946</td><td style = \"text-align: right;\">0.206448</td></tr></tbody></table></div>"
      ],
      "text/latex": [
       "\\begin{tabular}{r|ccc}\n",
       "\t& x1 & x2 & z\\\\\n",
       "\t\\hline\n",
       "\t& Float64 & Float64 & Float64\\\\\n",
       "\t\\hline\n",
       "\t1 & -0.375961 & 0.98458 & 0.130242 \\\\\n",
       "\t2 & -0.772423 & 0.772423 & 0.0887214 \\\\\n",
       "\t3 & -0.655946 & 0.865381 & 0.206448 \\\\\n",
       "\t4 & 0.98458 & -0.375961 & 0.130242 \\\\\n",
       "\t5 & 0.394318 & 0.394318 & 2.68186 \\\\\n",
       "\t6 & -0.98458 & 0.375961 & 0.130242 \\\\\n",
       "\t7 & -0.394318 & -0.394318 & 2.68186 \\\\\n",
       "\t8 & 0.772423 & -0.772423 & 0.0887214 \\\\\n",
       "\t9 & 0.655946 & -0.865381 & 0.206448 \\\\\n",
       "\t10 & 0.865381 & -0.655946 & 0.206448 \\\\\n",
       "\t11 & 0.375961 & -0.98458 & 0.130242 \\\\\n",
       "\t12 & -2.81796e-16 & 1.23498e-15 & 4.0 \\\\\n",
       "\t13 & -0.865381 & 0.655946 & 0.206448 \\\\\n",
       "\\end{tabular}\n"
      ],
      "text/plain": [
       "\u001b[1m13×3 DataFrame\u001b[0m\n",
       "\u001b[1m Row \u001b[0m│\u001b[1m x1           \u001b[0m\u001b[1m x2           \u001b[0m\u001b[1m z         \u001b[0m\n",
       "     │\u001b[90m Float64      \u001b[0m\u001b[90m Float64      \u001b[0m\u001b[90m Float64   \u001b[0m\n",
       "─────┼───────────────────────────────────────\n",
       "   1 │ -0.375961      0.98458      0.130242\n",
       "   2 │ -0.772423      0.772423     0.0887214\n",
       "   3 │ -0.655946      0.865381     0.206448\n",
       "   4 │  0.98458      -0.375961     0.130242\n",
       "   5 │  0.394318      0.394318     2.68186\n",
       "   6 │ -0.98458       0.375961     0.130242\n",
       "   7 │ -0.394318     -0.394318     2.68186\n",
       "   8 │  0.772423     -0.772423     0.0887214\n",
       "   9 │  0.655946     -0.865381     0.206448\n",
       "  10 │  0.865381     -0.655946     0.206448\n",
       "  11 │  0.375961     -0.98458      0.130242\n",
       "  12 │ -2.81796e-16   1.23498e-15  4.0\n",
       "  13 │ -0.865381      0.655946     0.206448"
      ]
     },
     "metadata": {},
     "output_type": "display_data"
    }
   ],
   "source": [
    "real_pts_cheb = solve_polynomial_system(x, n, d, pol_cheb.coeffs; basis=:chebyshev, bigint=true)\n",
    "real_pts_lege = solve_polynomial_system(x, n, d, pol_lege.coeffs; basis=:legendre, bigint=true)\n",
    "# Usage example:\n",
    "df_cheb = process_critical_points(real_pts_cheb, f, scale_factor)\n",
    "df_lege = process_critical_points(real_pts_lege, f, scale_factor)"
   ]
  },
  {
   "cell_type": "code",
   "execution_count": 8,
   "metadata": {},
   "outputs": [
    {
     "data": {
      "text/html": [
       "<div><div style = \"float: left;\"><span>9×3 DataFrame</span></div><div style = \"clear: both;\"></div></div><div class = \"data-frame\" style = \"overflow-x: scroll;\"><table class = \"data-frame\" style = \"margin-bottom: 6px;\"><thead><tr class = \"header\"><th class = \"rowNumber\" style = \"font-weight: bold; text-align: right;\">Row</th><th style = \"text-align: left;\">x1</th><th style = \"text-align: left;\">x2</th><th style = \"text-align: left;\">z</th></tr><tr class = \"subheader headerLastRow\"><th class = \"rowNumber\" style = \"font-weight: bold; text-align: right;\"></th><th title = \"Float64\" style = \"text-align: left;\">Float64</th><th title = \"Float64\" style = \"text-align: left;\">Float64</th><th title = \"Float64\" style = \"text-align: left;\">Float64</th></tr></thead><tbody><tr><td class = \"rowNumber\" style = \"font-weight: bold; text-align: right;\">1</td><td style = \"text-align: right;\">0.39892</td><td style = \"text-align: right;\">0.39892</td><td style = \"text-align: right;\">2.65526</td></tr><tr><td class = \"rowNumber\" style = \"font-weight: bold; text-align: right;\">2</td><td style = \"text-align: right;\">-0.780329</td><td style = \"text-align: right;\">0.780329</td><td style = \"text-align: right;\">0.144272</td></tr><tr><td class = \"rowNumber\" style = \"font-weight: bold; text-align: right;\">3</td><td style = \"text-align: right;\">-0.39892</td><td style = \"text-align: right;\">-0.39892</td><td style = \"text-align: right;\">2.65526</td></tr><tr><td class = \"rowNumber\" style = \"font-weight: bold; text-align: right;\">4</td><td style = \"text-align: right;\">-0.998837</td><td style = \"text-align: right;\">0.316356</td><td style = \"text-align: right;\">0.0424662</td></tr><tr><td class = \"rowNumber\" style = \"font-weight: bold; text-align: right;\">5</td><td style = \"text-align: right;\">-0.316356</td><td style = \"text-align: right;\">0.998837</td><td style = \"text-align: right;\">0.0424662</td></tr><tr><td class = \"rowNumber\" style = \"font-weight: bold; text-align: right;\">6</td><td style = \"text-align: right;\">0.316356</td><td style = \"text-align: right;\">-0.998837</td><td style = \"text-align: right;\">0.0424662</td></tr><tr><td class = \"rowNumber\" style = \"font-weight: bold; text-align: right;\">7</td><td style = \"text-align: right;\">0.998837</td><td style = \"text-align: right;\">-0.316356</td><td style = \"text-align: right;\">0.0424662</td></tr><tr><td class = \"rowNumber\" style = \"font-weight: bold; text-align: right;\">8</td><td style = \"text-align: right;\">0.780329</td><td style = \"text-align: right;\">-0.780329</td><td style = \"text-align: right;\">0.144272</td></tr><tr><td class = \"rowNumber\" style = \"font-weight: bold; text-align: right;\">9</td><td style = \"text-align: right;\">1.04917e-15</td><td style = \"text-align: right;\">-4.33605e-15</td><td style = \"text-align: right;\">4.0</td></tr></tbody></table></div>"
      ],
      "text/latex": [
       "\\begin{tabular}{r|ccc}\n",
       "\t& x1 & x2 & z\\\\\n",
       "\t\\hline\n",
       "\t& Float64 & Float64 & Float64\\\\\n",
       "\t\\hline\n",
       "\t1 & 0.39892 & 0.39892 & 2.65526 \\\\\n",
       "\t2 & -0.780329 & 0.780329 & 0.144272 \\\\\n",
       "\t3 & -0.39892 & -0.39892 & 2.65526 \\\\\n",
       "\t4 & -0.998837 & 0.316356 & 0.0424662 \\\\\n",
       "\t5 & -0.316356 & 0.998837 & 0.0424662 \\\\\n",
       "\t6 & 0.316356 & -0.998837 & 0.0424662 \\\\\n",
       "\t7 & 0.998837 & -0.316356 & 0.0424662 \\\\\n",
       "\t8 & 0.780329 & -0.780329 & 0.144272 \\\\\n",
       "\t9 & 1.04917e-15 & -4.33605e-15 & 4.0 \\\\\n",
       "\\end{tabular}\n"
      ],
      "text/plain": [
       "\u001b[1m9×3 DataFrame\u001b[0m\n",
       "\u001b[1m Row \u001b[0m│\u001b[1m x1           \u001b[0m\u001b[1m x2           \u001b[0m\u001b[1m z         \u001b[0m\n",
       "     │\u001b[90m Float64      \u001b[0m\u001b[90m Float64      \u001b[0m\u001b[90m Float64   \u001b[0m\n",
       "─────┼───────────────────────────────────────\n",
       "   1 │  0.39892       0.39892      2.65526\n",
       "   2 │ -0.780329      0.780329     0.144272\n",
       "   3 │ -0.39892      -0.39892      2.65526\n",
       "   4 │ -0.998837      0.316356     0.0424662\n",
       "   5 │ -0.316356      0.998837     0.0424662\n",
       "   6 │  0.316356     -0.998837     0.0424662\n",
       "   7 │  0.998837     -0.316356     0.0424662\n",
       "   8 │  0.780329     -0.780329     0.144272\n",
       "   9 │  1.04917e-15  -4.33605e-15  4.0"
      ]
     },
     "metadata": {},
     "output_type": "display_data"
    }
   ],
   "source": [
    "process_critical_points(real_pts_cheb, f, scale_factor)"
   ]
  },
  {
   "cell_type": "code",
   "execution_count": 13,
   "metadata": {},
   "outputs": [
    {
     "name": "stderr",
     "output_type": "stream",
     "text": [
      "2024-12-10 17:05:14.963 julia[84023:2180828] +[IMKClient subclass]: chose IMKClient_Modern\n",
      "2024-12-10 17:05:16.722 julia[84023:2180828] +[IMKInputSession subclass]: chose IMKInputSession_Modern\n"
     ]
    },
    {
     "data": {
      "text/plain": [
       "GLMakie.Screen(...)"
      ]
     },
     "metadata": {},
     "output_type": "display_data"
    }
   ],
   "source": [
    "using GLMakie\n",
    "\n",
    "# Extract coordinates and function values\n",
    "# Change the coordinates to uniform grid\n",
    "coords = pol_cheb.scale_factor * pol_lege.grid\n",
    "z_coords = pol_lege.z\n",
    "\n",
    "if size(coords)[2] == 2  # Plot if the dimensions are 2\n",
    "    fig = Figure(size=(800, 600))\n",
    "    ax = Axis3(fig[1, 1], title=\"Deuflhard Function\",\n",
    "        xlabel=\"X-axis\", ylabel=\"Y-axis\", zlabel=\"Z-axis\")\n",
    "\n",
    "    # Scale the domain\n",
    "    scale_factor = pol_cheb.scale_factor  # Using the scale factor from your polynomial\n",
    "\n",
    "    # Define threshold for switching between scatter and surface\n",
    "    point_threshold = 1000  # Adjust this value based on your needs\n",
    "    sample_fraction = 0.2   # Fraction of points to use if exceeding threshold\n",
    "\n",
    "    if length(z_coords) > point_threshold\n",
    "        # Create a regular grid for surface plotting\n",
    "        x_unique = sort(unique(coords[:, 1]))\n",
    "        y_unique = sort(unique(coords[:, 2]))\n",
    "\n",
    "        # Determine grid dimensions\n",
    "        nx = length(x_unique)\n",
    "        ny = length(y_unique)\n",
    "\n",
    "        # Reshape data into a grid\n",
    "        z_grid = reshape(z_coords, nx, ny)\n",
    "\n",
    "        # Create surface plot with scaled domain\n",
    "        surface!(ax, scale_factor .* x_unique, scale_factor .* y_unique, z_grid,\n",
    "            colormap=:viridis,\n",
    "            transparency=true,\n",
    "            alpha=0.8)\n",
    "\n",
    "        # Sample a fraction of points for scatter overlay\n",
    "        n_points = length(z_coords)\n",
    "        sample_indices = rand(1:n_points, Int(floor(n_points * sample_fraction)))\n",
    "\n",
    "        # Plot sampled scatter points with scaled domain\n",
    "        scatter!(ax, scale_factor .* coords[sample_indices, 1],\n",
    "            scale_factor .* coords[sample_indices, 2],\n",
    "            z_coords[sample_indices],\n",
    "            markersize=2,\n",
    "            color=:black,\n",
    "            label=\"Sampled Data Points\")\n",
    "    else\n",
    "        # Original scatter plot for smaller datasets with scaled domain\n",
    "        scatter!(ax, scale_factor .* coords[:, 1],\n",
    "            scale_factor .* coords[:, 2],\n",
    "            z_coords,\n",
    "            markersize=2,\n",
    "            color=:black,\n",
    "            label=\"Sampled Data Core\")\n",
    "\n",
    "        scatter!(ax, scale_factor .* coords[:, 1],\n",
    "            scale_factor .* coords[:, 2],\n",
    "            z_coords,\n",
    "            markersize=4,\n",
    "            color=z_coords,\n",
    "            colormap=:viridis,\n",
    "            label=\"Sampled Data Halo\")\n",
    "    end\n",
    "\n",
    "    # Plot the critical points with scaled domain\n",
    "    scatter!(ax, scale_factor .* df_cheb.x1,\n",
    "        scale_factor .* df_cheb.x2,\n",
    "        df_cheb.z,\n",
    "        markersize=10,\n",
    "        color=:orange,\n",
    "        label=\"Chebyshev approximant critical points\")\n",
    "\n",
    "    scatter!(ax, scale_factor .* df_lege.x1,\n",
    "        scale_factor .* df_lege.x2,\n",
    "        df_lege.z,\n",
    "        markersize=10,\n",
    "        color=:yellow,\n",
    "        label=\"Legendre approximant critical points\")\n",
    "\n",
    "    display(fig)\n",
    "end"
   ]
  },
  {
   "cell_type": "code",
   "execution_count": 10,
   "metadata": {},
   "outputs": [],
   "source": [
    "# GLMakie.closeall()"
   ]
  }
 ],
 "metadata": {
  "kernelspec": {
   "display_name": "Julia 1.11.2",
   "language": "julia",
   "name": "julia-1.11"
  },
  "language_info": {
   "file_extension": ".jl",
   "mimetype": "application/julia",
   "name": "julia",
   "version": "1.11.2"
  }
 },
 "nbformat": 4,
 "nbformat_minor": 2
}
