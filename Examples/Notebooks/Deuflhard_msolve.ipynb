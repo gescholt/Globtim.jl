{
 "cells": [
  {
   "cell_type": "markdown",
   "metadata": {},
   "source": [
    "What we need is a small parcel to work on, with a nice contourplot with critical points and minima found after initiating local method and then a 3d plot. "
   ]
  },
  {
   "cell_type": "code",
   "execution_count": 1,
   "metadata": {},
   "outputs": [
    {
     "name": "stderr",
     "output_type": "stream",
     "text": [
      "\u001b[32m\u001b[1m  Activating\u001b[22m\u001b[39m project at `~/globtim`\n",
      "\u001b[91m\u001b[1mERROR: \u001b[22m\u001b[39mLoadError: UndefVarError: `XYBased` not defined in `Makie`\n",
      "Suggestion: check for spelling errors or missing imports.\n",
      "Stacktrace:\n",
      " [1] \u001b[0m\u001b[1mgetproperty\u001b[22m\u001b[0m\u001b[1m(\u001b[22m\u001b[90mx\u001b[39m::\u001b[0mModule, \u001b[90mf\u001b[39m::\u001b[0mSymbol\u001b[0m\u001b[1m)\u001b[22m\n",
      "\u001b[90m   @\u001b[39m \u001b[90mBase\u001b[39m \u001b[90m./\u001b[39m\u001b[90m\u001b[4mBase.jl:42\u001b[24m\u001b[39m\n",
      " [2] top-level scope\n",
      "\u001b[90m   @\u001b[39m \u001b[90m~/.julia/packages/Polynomials/13Ozz/ext/\u001b[39m\u001b[90m\u001b[4mPolynomialsMakieExt.jl:6\u001b[24m\u001b[39m\n",
      " [3] \u001b[0m\u001b[1minclude\u001b[22m\n",
      "\u001b[90m   @\u001b[39m \u001b[90m./\u001b[39m\u001b[90m\u001b[4mBase.jl:562\u001b[24m\u001b[39m\u001b[90m [inlined]\u001b[39m\n",
      " [4] \u001b[0m\u001b[1minclude_package_for_output\u001b[22m\u001b[0m\u001b[1m(\u001b[22m\u001b[90mpkg\u001b[39m::\u001b[0mBase.PkgId, \u001b[90minput\u001b[39m::\u001b[0mString, \u001b[90mdepot_path\u001b[39m::\u001b[0mVector\u001b[90m{String}\u001b[39m, \u001b[90mdl_load_path\u001b[39m::\u001b[0mVector\u001b[90m{String}\u001b[39m, \u001b[90mload_path\u001b[39m::\u001b[0mVector\u001b[90m{String}\u001b[39m, \u001b[90mconcrete_deps\u001b[39m::\u001b[0mVector\u001b[90m{Pair{Base.PkgId, UInt128}}\u001b[39m, \u001b[90msource\u001b[39m::\u001b[0mString\u001b[0m\u001b[1m)\u001b[22m\n",
      "\u001b[90m   @\u001b[39m \u001b[90mBase\u001b[39m \u001b[90m./\u001b[39m\u001b[90m\u001b[4mloading.jl:2881\u001b[24m\u001b[39m\n",
      " [5] top-level scope\n",
      "\u001b[90m   @\u001b[39m \u001b[90m\u001b[4mstdin:6\u001b[24m\u001b[39m\n",
      "in expression starting at /Users/ghscholt/.julia/packages/Polynomials/13Ozz/ext/PolynomialsMakieExt.jl:1\n",
      "in expression starting at stdin:6\n",
      "┌ Error: Error during loading of extension PolynomialsMakieExt of Polynomials, use `Base.retry_load_extensions()` to retry.\n",
      "│   exception = \u001b[0m1-element ExceptionStack:\n",
      "Failed to precompile PolynomialsMakieExt [6a4b1961-d857-5aa3-b7f6-fc7c46de29bb] to \"/Users/ghscholt/.julia/compiled/v1.11/PolynomialsMakieExt/jl_3TCpws\".\n",
      "Stacktrace:\n",
      "  [1] \u001b[0m\u001b[1merror\u001b[22m\u001b[0m\u001b[1m(\u001b[22m\u001b[90ms\u001b[39m::\u001b[0mString\u001b[0m\u001b[1m)\u001b[22m\n",
      "\u001b[90m    @\u001b[39m \u001b[90mBase\u001b[39m \u001b[90m./\u001b[39m\u001b[90m\u001b[4merror.jl:35\u001b[24m\u001b[39m\n",
      "  [2] \u001b[0m\u001b[1mcompilecache\u001b[22m\u001b[0m\u001b[1m(\u001b[22m\u001b[90mpkg\u001b[39m::\u001b[0mBase.PkgId, \u001b[90mpath\u001b[39m::\u001b[0mString, \u001b[90minternal_stderr\u001b[39m::\u001b[0mIO, \u001b[90minternal_stdout\u001b[39m::\u001b[0mIO, \u001b[90mkeep_loaded_modules\u001b[39m::\u001b[0mBool; \u001b[90mflags\u001b[39m::\u001b[0mCmd, \u001b[90mcacheflags\u001b[39m::\u001b[0mBase.CacheFlags, \u001b[90mreasons\u001b[39m::\u001b[0mDict\u001b[90m{String, Int64}\u001b[39m, \u001b[90mloadable_exts\u001b[39m::\u001b[0mVector\u001b[90m{Base.PkgId}\u001b[39m\u001b[0m\u001b[1m)\u001b[22m\n",
      "\u001b[90m    @\u001b[39m \u001b[90mBase\u001b[39m \u001b[90m./\u001b[39m\u001b[90m\u001b[4mloading.jl:3174\u001b[24m\u001b[39m\n",
      "  [3] \u001b[0m\u001b[1m(::Base.var\"#1110#1111\"{Base.PkgId})\u001b[22m\u001b[0m\u001b[1m(\u001b[22m\u001b[0m\u001b[1m)\u001b[22m\n",
      "\u001b[90m    @\u001b[39m \u001b[90mBase\u001b[39m \u001b[90m./\u001b[39m\u001b[90m\u001b[4mloading.jl:2579\u001b[24m\u001b[39m\n",
      "  [4] \u001b[0m\u001b[1mmkpidlock\u001b[22m\u001b[0m\u001b[1m(\u001b[22m\u001b[90mf\u001b[39m::\u001b[0mBase.var\"#1110#1111\"\u001b[90m{Base.PkgId}\u001b[39m, \u001b[90mat\u001b[39m::\u001b[0mString, \u001b[90mpid\u001b[39m::\u001b[0mInt32; \u001b[90mkwopts\u001b[39m::\u001b[0m@Kwargs\u001b[90m{stale_age::Int64, wait::Bool}\u001b[39m\u001b[0m\u001b[1m)\u001b[22m\n",
      "\u001b[90m    @\u001b[39m \u001b[35mFileWatching.Pidfile\u001b[39m \u001b[90m~/.julia/juliaup/julia-1.11.6+0.aarch64.apple.darwin14/share/julia/stdlib/v1.11/FileWatching/src/\u001b[39m\u001b[90m\u001b[4mpidfile.jl:95\u001b[24m\u001b[39m\n",
      "  [5] \u001b[0m\u001b[1m#mkpidlock#6\u001b[22m\n",
      "\u001b[90m    @\u001b[39m \u001b[90m~/.julia/juliaup/julia-1.11.6+0.aarch64.apple.darwin14/share/julia/stdlib/v1.11/FileWatching/src/\u001b[39m\u001b[90m\u001b[4mpidfile.jl:90\u001b[24m\u001b[39m\u001b[90m [inlined]\u001b[39m\n",
      "  [6] \u001b[0m\u001b[1mtrymkpidlock\u001b[22m\u001b[0m\u001b[1m(\u001b[22m::\u001b[0mFunction, ::\u001b[0mVararg\u001b[90m{Any}\u001b[39m; \u001b[90mkwargs\u001b[39m::\u001b[0m@Kwargs\u001b[90m{stale_age::Int64}\u001b[39m\u001b[0m\u001b[1m)\u001b[22m\n",
      "\u001b[90m    @\u001b[39m \u001b[35mFileWatching.Pidfile\u001b[39m \u001b[90m~/.julia/juliaup/julia-1.11.6+0.aarch64.apple.darwin14/share/julia/stdlib/v1.11/FileWatching/src/\u001b[39m\u001b[90m\u001b[4mpidfile.jl:116\u001b[24m\u001b[39m\n",
      "  [7] \u001b[0m\u001b[1m#invokelatest#2\u001b[22m\n",
      "\u001b[90m    @\u001b[39m \u001b[90m./\u001b[39m\u001b[90m\u001b[4messentials.jl:1057\u001b[24m\u001b[39m\u001b[90m [inlined]\u001b[39m\n",
      "  [8] \u001b[0m\u001b[1minvokelatest\u001b[22m\n",
      "\u001b[90m    @\u001b[39m \u001b[90m./\u001b[39m\u001b[90m\u001b[4messentials.jl:1052\u001b[24m\u001b[39m\u001b[90m [inlined]\u001b[39m\n",
      "  [9] \u001b[0m\u001b[1mmaybe_cachefile_lock\u001b[22m\u001b[0m\u001b[1m(\u001b[22m\u001b[90mf\u001b[39m::\u001b[0mBase.var\"#1110#1111\"\u001b[90m{Base.PkgId}\u001b[39m, \u001b[90mpkg\u001b[39m::\u001b[0mBase.PkgId, \u001b[90msrcpath\u001b[39m::\u001b[0mString; \u001b[90mstale_age\u001b[39m::\u001b[0mInt64\u001b[0m\u001b[1m)\u001b[22m\n",
      "\u001b[90m    @\u001b[39m \u001b[90mBase\u001b[39m \u001b[90m./\u001b[39m\u001b[90m\u001b[4mloading.jl:3698\u001b[24m\u001b[39m\n",
      " [10] \u001b[0m\u001b[1mmaybe_cachefile_lock\u001b[22m\n",
      "\u001b[90m    @\u001b[39m \u001b[90m./\u001b[39m\u001b[90m\u001b[4mloading.jl:3695\u001b[24m\u001b[39m\u001b[90m [inlined]\u001b[39m\n",
      " [11] \u001b[0m\u001b[1m_require\u001b[22m\u001b[0m\u001b[1m(\u001b[22m\u001b[90mpkg\u001b[39m::\u001b[0mBase.PkgId, \u001b[90menv\u001b[39m::\u001b[0mNothing\u001b[0m\u001b[1m)\u001b[22m\n",
      "\u001b[90m    @\u001b[39m \u001b[90mBase\u001b[39m \u001b[90m./\u001b[39m\u001b[90m\u001b[4mloading.jl:2565\u001b[24m\u001b[39m\n",
      " [12] \u001b[0m\u001b[1m__require_prelocked\u001b[22m\u001b[0m\u001b[1m(\u001b[22m\u001b[90muuidkey\u001b[39m::\u001b[0mBase.PkgId, \u001b[90menv\u001b[39m::\u001b[0mNothing\u001b[0m\u001b[1m)\u001b[22m\n",
      "\u001b[90m    @\u001b[39m \u001b[90mBase\u001b[39m \u001b[90m./\u001b[39m\u001b[90m\u001b[4mloading.jl:2388\u001b[24m\u001b[39m\n",
      " [13] \u001b[0m\u001b[1m#invoke_in_world#3\u001b[22m\n",
      "\u001b[90m    @\u001b[39m \u001b[90m./\u001b[39m\u001b[90m\u001b[4messentials.jl:1089\u001b[24m\u001b[39m\u001b[90m [inlined]\u001b[39m\n",
      " [14] \u001b[0m\u001b[1minvoke_in_world\u001b[22m\n",
      "\u001b[90m    @\u001b[39m \u001b[90m./\u001b[39m\u001b[90m\u001b[4messentials.jl:1086\u001b[24m\u001b[39m\u001b[90m [inlined]\u001b[39m\n",
      " [15] \u001b[0m\u001b[1m_require_prelocked\u001b[22m\n",
      "\u001b[90m    @\u001b[39m \u001b[90m./\u001b[39m\u001b[90m\u001b[4mloading.jl:2375\u001b[24m\u001b[39m\u001b[90m [inlined]\u001b[39m\n",
      " [16] \u001b[0m\u001b[1m_require_prelocked\u001b[22m\n",
      "\u001b[90m    @\u001b[39m \u001b[90m./\u001b[39m\u001b[90m\u001b[4mloading.jl:2374\u001b[24m\u001b[39m\u001b[90m [inlined]\u001b[39m\n",
      " [17] \u001b[0m\u001b[1mrun_extension_callbacks\u001b[22m\u001b[0m\u001b[1m(\u001b[22m\u001b[90mextid\u001b[39m::\u001b[0mBase.ExtensionId\u001b[0m\u001b[1m)\u001b[22m\n",
      "\u001b[90m    @\u001b[39m \u001b[90mBase\u001b[39m \u001b[90m./\u001b[39m\u001b[90m\u001b[4mloading.jl:1544\u001b[24m\u001b[39m\n",
      " [18] \u001b[0m\u001b[1mrun_extension_callbacks\u001b[22m\u001b[0m\u001b[1m(\u001b[22m\u001b[90mpkgid\u001b[39m::\u001b[0mBase.PkgId\u001b[0m\u001b[1m)\u001b[22m\n",
      "\u001b[90m    @\u001b[39m \u001b[90mBase\u001b[39m \u001b[90m./\u001b[39m\u001b[90m\u001b[4mloading.jl:1576\u001b[24m\u001b[39m\n",
      " [19] \u001b[0m\u001b[1mrun_package_callbacks\u001b[22m\u001b[0m\u001b[1m(\u001b[22m\u001b[90mmodkey\u001b[39m::\u001b[0mBase.PkgId\u001b[0m\u001b[1m)\u001b[22m\n",
      "\u001b[90m    @\u001b[39m \u001b[90mBase\u001b[39m \u001b[90m./\u001b[39m\u001b[90m\u001b[4mloading.jl:1396\u001b[24m\u001b[39m\n",
      " [20] \u001b[0m\u001b[1m_require_search_from_serialized\u001b[22m\u001b[0m\u001b[1m(\u001b[22m\u001b[90mpkg\u001b[39m::\u001b[0mBase.PkgId, \u001b[90msourcepath\u001b[39m::\u001b[0mString, \u001b[90mbuild_id\u001b[39m::\u001b[0mUInt128, \u001b[90mstalecheck\u001b[39m::\u001b[0mBool; \u001b[90mreasons\u001b[39m::\u001b[0mDict\u001b[90m{String, Int64}\u001b[39m, \u001b[90mDEPOT_PATH\u001b[39m::\u001b[0mVector\u001b[90m{String}\u001b[39m\u001b[0m\u001b[1m)\u001b[22m\n",
      "\u001b[90m    @\u001b[39m \u001b[90mBase\u001b[39m \u001b[90m./\u001b[39m\u001b[90m\u001b[4mloading.jl:2065\u001b[24m\u001b[39m\n",
      " [21] \u001b[0m\u001b[1m_require\u001b[22m\u001b[0m\u001b[1m(\u001b[22m\u001b[90mpkg\u001b[39m::\u001b[0mBase.PkgId, \u001b[90menv\u001b[39m::\u001b[0mString\u001b[0m\u001b[1m)\u001b[22m\n",
      "\u001b[90m    @\u001b[39m \u001b[90mBase\u001b[39m \u001b[90m./\u001b[39m\u001b[90m\u001b[4mloading.jl:2527\u001b[24m\u001b[39m\n",
      " [22] \u001b[0m\u001b[1m__require_prelocked\u001b[22m\u001b[0m\u001b[1m(\u001b[22m\u001b[90muuidkey\u001b[39m::\u001b[0mBase.PkgId, \u001b[90menv\u001b[39m::\u001b[0mString\u001b[0m\u001b[1m)\u001b[22m\n",
      "\u001b[90m    @\u001b[39m \u001b[90mBase\u001b[39m \u001b[90m./\u001b[39m\u001b[90m\u001b[4mloading.jl:2388\u001b[24m\u001b[39m\n",
      " [23] \u001b[0m\u001b[1m#invoke_in_world#3\u001b[22m\n",
      "\u001b[90m    @\u001b[39m \u001b[90m./\u001b[39m\u001b[90m\u001b[4messentials.jl:1089\u001b[24m\u001b[39m\u001b[90m [inlined]\u001b[39m\n",
      " [24] \u001b[0m\u001b[1minvoke_in_world\u001b[22m\n",
      "\u001b[90m    @\u001b[39m \u001b[90m./\u001b[39m\u001b[90m\u001b[4messentials.jl:1086\u001b[24m\u001b[39m\u001b[90m [inlined]\u001b[39m\n",
      " [25] \u001b[0m\u001b[1m_require_prelocked\u001b[22m\u001b[0m\u001b[1m(\u001b[22m\u001b[90muuidkey\u001b[39m::\u001b[0mBase.PkgId, \u001b[90menv\u001b[39m::\u001b[0mString\u001b[0m\u001b[1m)\u001b[22m\n",
      "\u001b[90m    @\u001b[39m \u001b[90mBase\u001b[39m \u001b[90m./\u001b[39m\u001b[90m\u001b[4mloading.jl:2375\u001b[24m\u001b[39m\n",
      " [26] \u001b[0m\u001b[1mmacro expansion\u001b[22m\n",
      "\u001b[90m    @\u001b[39m \u001b[90m./\u001b[39m\u001b[90m\u001b[4mloading.jl:2314\u001b[24m\u001b[39m\u001b[90m [inlined]\u001b[39m\n",
      " [27] \u001b[0m\u001b[1mmacro expansion\u001b[22m\n",
      "\u001b[90m    @\u001b[39m \u001b[90m./\u001b[39m\u001b[90m\u001b[4mlock.jl:273\u001b[24m\u001b[39m\u001b[90m [inlined]\u001b[39m\n",
      " [28] \u001b[0m\u001b[1m__require\u001b[22m\u001b[0m\u001b[1m(\u001b[22m\u001b[90minto\u001b[39m::\u001b[0mModule, \u001b[90mmod\u001b[39m::\u001b[0mSymbol\u001b[0m\u001b[1m)\u001b[22m\n",
      "\u001b[90m    @\u001b[39m \u001b[90mBase\u001b[39m \u001b[90m./\u001b[39m\u001b[90m\u001b[4mloading.jl:2271\u001b[24m\u001b[39m\n",
      " [29] \u001b[0m\u001b[1m#invoke_in_world#3\u001b[22m\n",
      "\u001b[90m    @\u001b[39m \u001b[90m./\u001b[39m\u001b[90m\u001b[4messentials.jl:1089\u001b[24m\u001b[39m\u001b[90m [inlined]\u001b[39m\n",
      " [30] \u001b[0m\u001b[1minvoke_in_world\u001b[22m\n",
      "\u001b[90m    @\u001b[39m \u001b[90m./\u001b[39m\u001b[90m\u001b[4messentials.jl:1086\u001b[24m\u001b[39m\u001b[90m [inlined]\u001b[39m\n",
      " [31] \u001b[0m\u001b[1mrequire\u001b[22m\u001b[0m\u001b[1m(\u001b[22m\u001b[90minto\u001b[39m::\u001b[0mModule, \u001b[90mmod\u001b[39m::\u001b[0mSymbol\u001b[0m\u001b[1m)\u001b[22m\n",
      "\u001b[90m    @\u001b[39m \u001b[90mBase\u001b[39m \u001b[90m./\u001b[39m\u001b[90m\u001b[4mloading.jl:2260\u001b[24m\u001b[39m\n",
      " [32] \u001b[0m\u001b[1meval\u001b[22m\n",
      "\u001b[90m    @\u001b[39m \u001b[90m./\u001b[39m\u001b[90m\u001b[4mboot.jl:430\u001b[24m\u001b[39m\u001b[90m [inlined]\u001b[39m\n",
      " [33] \u001b[0m\u001b[1minclude_string\u001b[22m\u001b[0m\u001b[1m(\u001b[22m\u001b[90mmapexpr\u001b[39m::\u001b[0mtypeof(REPL.softscope), \u001b[90mmod\u001b[39m::\u001b[0mModule, \u001b[90mcode\u001b[39m::\u001b[0mString, \u001b[90mfilename\u001b[39m::\u001b[0mString\u001b[0m\u001b[1m)\u001b[22m\n",
      "\u001b[90m    @\u001b[39m \u001b[90mBase\u001b[39m \u001b[90m./\u001b[39m\u001b[90m\u001b[4mloading.jl:2734\u001b[24m\u001b[39m\n",
      " [34] \u001b[0m\u001b[1m#invokelatest#2\u001b[22m\n",
      "\u001b[90m    @\u001b[39m \u001b[90m./\u001b[39m\u001b[90m\u001b[4messentials.jl:1055\u001b[24m\u001b[39m\u001b[90m [inlined]\u001b[39m\n",
      " [35] \u001b[0m\u001b[1minvokelatest\u001b[22m\n",
      "\u001b[90m    @\u001b[39m \u001b[90m./\u001b[39m\u001b[90m\u001b[4messentials.jl:1052\u001b[24m\u001b[39m\u001b[90m [inlined]\u001b[39m\n",
      " [36] \u001b[0m\u001b[1m(::VSCodeServer.var\"#217#218\"{VSCodeServer.NotebookRunCellArguments, String})\u001b[22m\u001b[0m\u001b[1m(\u001b[22m\u001b[0m\u001b[1m)\u001b[22m\n",
      "\u001b[90m    @\u001b[39m \u001b[36mVSCodeServer\u001b[39m \u001b[90m~/.vscode/extensions/julialang.language-julia-1.149.2/scripts/packages/VSCodeServer/src/\u001b[39m\u001b[90m\u001b[4mserve_notebook.jl:24\u001b[24m\u001b[39m\n",
      " [37] \u001b[0m\u001b[1mwithpath\u001b[22m\u001b[0m\u001b[1m(\u001b[22m\u001b[90mf\u001b[39m::\u001b[0mVSCodeServer.var\"#217#218\"\u001b[90m{VSCodeServer.NotebookRunCellArguments, String}\u001b[39m, \u001b[90mpath\u001b[39m::\u001b[0mString\u001b[0m\u001b[1m)\u001b[22m\n",
      "\u001b[90m    @\u001b[39m \u001b[36mVSCodeServer\u001b[39m \u001b[90m~/.vscode/extensions/julialang.language-julia-1.149.2/scripts/packages/VSCodeServer/src/\u001b[39m\u001b[90m\u001b[4mrepl.jl:276\u001b[24m\u001b[39m\n",
      " [38] \u001b[0m\u001b[1mnotebook_runcell_request\u001b[22m\u001b[0m\u001b[1m(\u001b[22m\u001b[90mconn\u001b[39m::\u001b[0mVSCodeServer.JSONRPC.JSONRPCEndpoint\u001b[90m{Base.PipeEndpoint, Base.PipeEndpoint, VSCodeServer.JSON.Serializations.StandardSerialization}\u001b[39m, \u001b[90mparams\u001b[39m::\u001b[0mVSCodeServer.NotebookRunCellArguments, \u001b[90mtoken\u001b[39m::\u001b[0mVSCodeServer.CancellationTokens.CancellationToken\u001b[0m\u001b[1m)\u001b[22m\n",
      "\u001b[90m    @\u001b[39m \u001b[36mVSCodeServer\u001b[39m \u001b[90m~/.vscode/extensions/julialang.language-julia-1.149.2/scripts/packages/VSCodeServer/src/\u001b[39m\u001b[90m\u001b[4mserve_notebook.jl:13\u001b[24m\u001b[39m\n",
      " [39] \u001b[0m\u001b[1mdispatch_msg\u001b[22m\u001b[0m\u001b[1m(\u001b[22m\u001b[90mx\u001b[39m::\u001b[0mVSCodeServer.JSONRPC.JSONRPCEndpoint\u001b[90m{Base.PipeEndpoint, Base.PipeEndpoint, VSCodeServer.JSON.Serializations.StandardSerialization}\u001b[39m, \u001b[90mdispatcher\u001b[39m::\u001b[0mVSCodeServer.JSONRPC.MsgDispatcher, \u001b[90mmsg\u001b[39m::\u001b[0mVSCodeServer.JSONRPC.Request\u001b[0m\u001b[1m)\u001b[22m\n",
      "\u001b[90m    @\u001b[39m \u001b[36mVSCodeServer.JSONRPC\u001b[39m \u001b[90m~/.vscode/extensions/julialang.language-julia-1.149.2/scripts/packages/JSONRPC/src/\u001b[39m\u001b[90m\u001b[4mtyped.jl:68\u001b[24m\u001b[39m\n",
      " [40] \u001b[0m\u001b[1mserve_notebook\u001b[22m\u001b[0m\u001b[1m(\u001b[22m\u001b[90mpipename\u001b[39m::\u001b[0mString, \u001b[90mdebugger_pipename\u001b[39m::\u001b[0mString, \u001b[90moutputchannel_logger\u001b[39m::\u001b[0mBase.CoreLogging.SimpleLogger; \u001b[90merror_handler\u001b[39m::\u001b[0mvar\"#5#10\"\u001b[90m{String}\u001b[39m\u001b[0m\u001b[1m)\u001b[22m\n",
      "\u001b[90m    @\u001b[39m \u001b[36mVSCodeServer\u001b[39m \u001b[90m~/.vscode/extensions/julialang.language-julia-1.149.2/scripts/packages/VSCodeServer/src/\u001b[39m\u001b[90m\u001b[4mserve_notebook.jl:147\u001b[24m\u001b[39m\n",
      " [41] top-level scope\n",
      "\u001b[90m    @\u001b[39m \u001b[90m~/.vscode/extensions/julialang.language-julia-1.149.2/scripts/notebook/\u001b[39m\u001b[90m\u001b[4mnotebook.jl:35\u001b[24m\u001b[39m\n",
      " [42] \u001b[0m\u001b[1minclude\u001b[22m\u001b[0m\u001b[1m(\u001b[22m\u001b[90mmod\u001b[39m::\u001b[0mModule, \u001b[90m_path\u001b[39m::\u001b[0mString\u001b[0m\u001b[1m)\u001b[22m\n",
      "\u001b[90m    @\u001b[39m \u001b[90mBase\u001b[39m \u001b[90m./\u001b[39m\u001b[90m\u001b[4mBase.jl:562\u001b[24m\u001b[39m\n",
      " [43] \u001b[0m\u001b[1mexec_options\u001b[22m\u001b[0m\u001b[1m(\u001b[22m\u001b[90mopts\u001b[39m::\u001b[0mBase.JLOptions\u001b[0m\u001b[1m)\u001b[22m\n",
      "\u001b[90m    @\u001b[39m \u001b[90mBase\u001b[39m \u001b[90m./\u001b[39m\u001b[90m\u001b[4mclient.jl:323\u001b[24m\u001b[39m\n",
      " [44] \u001b[0m\u001b[1m_start\u001b[22m\u001b[0m\u001b[1m(\u001b[22m\u001b[0m\u001b[1m)\u001b[22m\n",
      "\u001b[90m    @\u001b[39m \u001b[90mBase\u001b[39m \u001b[90m./\u001b[39m\u001b[90m\u001b[4mclient.jl:531\u001b[24m\u001b[39m\n",
      "└ @ Base loading.jl:1550\n"
     ]
    }
   ],
   "source": [
    "using Pkg\n",
    "Pkg.activate(\"../../.\")\n",
    "using CairoMakie\n",
    "CairoMakie.activate!()\n",
    "using Globtim\n",
    "using DynamicPolynomials, DataFrames"
   ]
  },
  {
   "cell_type": "code",
   "execution_count": 2,
   "metadata": {},
   "outputs": [
    {
     "data": {
      "text/plain": [
       "Deuflhard (generic function with 1 method)"
      ]
     },
     "metadata": {},
     "output_type": "display_data"
    }
   ],
   "source": [
    "# Constants and Parameters\n",
    "const n, a, b = 2, 7, 5\n",
    "const scale_factor = a / b  \n",
    "f = Deuflhard # Objective function"
   ]
  },
  {
   "cell_type": "code",
   "execution_count": 3,
   "metadata": {},
   "outputs": [
    {
     "name": "stdout",
     "output_type": "stream",
     "text": [
      "current L2-norm: 38.835956522396295\n",
      "current L2-norm: 24.737307728426945\n"
     ]
    }
   ],
   "source": [
    "d = 8 # Initial Degree \n",
    "SMPL = 200 # Number of samples\n",
    "TR = test_input(f, \n",
    "                dim = n,\n",
    "                center=[0.0, 0.0],\n",
    "                GN=SMPL, \n",
    "                sample_range=scale_factor\n",
    "                )\n",
    "pol_cheb = Constructor(TR, d, basis=:chebyshev);\n",
    "pol_lege = Constructor(TR, d, basis=:legendre);"
   ]
  },
  {
   "cell_type": "code",
   "execution_count": 4,
   "metadata": {},
   "outputs": [
    {
     "name": "stdout",
     "output_type": "stream",
     "text": [
      "\n",
      "=== Starting MSolve Parser (dimension: 2) ===\n",
      "Processed 25 points (0.0s)\n",
      "\n",
      "=== Starting MSolve Parser (dimension: 2) ===\n",
      "Processed 25 points (0.0s)\n"
     ]
    },
    {
     "data": {
      "text/html": [
       "<div><div style = \"float: left;\"><span>23×3 DataFrame</span></div><div style = \"clear: both;\"></div></div><div class = \"data-frame\" style = \"overflow-x: scroll;\"><table class = \"data-frame\" style = \"margin-bottom: 6px;\"><thead><tr class = \"header\"><th class = \"rowNumber\" style = \"font-weight: bold; text-align: right;\">Row</th><th style = \"text-align: left;\">x1</th><th style = \"text-align: left;\">x2</th><th style = \"text-align: left;\">z</th></tr><tr class = \"subheader headerLastRow\"><th class = \"rowNumber\" style = \"font-weight: bold; text-align: right;\"></th><th title = \"Float64\" style = \"text-align: left;\">Float64</th><th title = \"Float64\" style = \"text-align: left;\">Float64</th><th title = \"Float64\" style = \"text-align: left;\">Float64</th></tr></thead><tbody><tr><td class = \"rowNumber\" style = \"font-weight: bold; text-align: right;\">1</td><td style = \"text-align: right;\">0.14189</td><td style = \"text-align: right;\">0.14189</td><td style = \"text-align: right;\">4.05672</td></tr><tr><td class = \"rowNumber\" style = \"font-weight: bold; text-align: right;\">2</td><td style = \"text-align: right;\">-1.12444</td><td style = \"text-align: right;\">-1.12444</td><td style = \"text-align: right;\">94.2099</td></tr><tr><td class = \"rowNumber\" style = \"font-weight: bold; text-align: right;\">3</td><td style = \"text-align: right;\">1.12222</td><td style = \"text-align: right;\">1.12222</td><td style = \"text-align: right;\">91.88</td></tr><tr><td class = \"rowNumber\" style = \"font-weight: bold; text-align: right;\">4</td><td style = \"text-align: right;\">0.0428787</td><td style = \"text-align: right;\">0.0428787</td><td style = \"text-align: right;\">4.01373</td></tr><tr><td class = \"rowNumber\" style = \"font-weight: bold; text-align: right;\">5</td><td style = \"text-align: right;\">-0.85371</td><td style = \"text-align: right;\">-0.85371</td><td style = \"text-align: right;\">8.56762</td></tr><tr><td class = \"rowNumber\" style = \"font-weight: bold; text-align: right;\">6</td><td style = \"text-align: right;\">0.843946</td><td style = \"text-align: right;\">0.843946</td><td style = \"text-align: right;\">8.23594</td></tr><tr><td class = \"rowNumber\" style = \"font-weight: bold; text-align: right;\">7</td><td style = \"text-align: right;\">0.0106953</td><td style = \"text-align: right;\">0.0106953</td><td style = \"text-align: right;\">4.00091</td></tr><tr><td class = \"rowNumber\" style = \"font-weight: bold; text-align: right;\">8</td><td style = \"text-align: right;\">0.503003</td><td style = \"text-align: right;\">0.503003</td><td style = \"text-align: right;\">2.57837</td></tr><tr><td class = \"rowNumber\" style = \"font-weight: bold; text-align: right;\">9</td><td style = \"text-align: right;\">-0.496337</td><td style = \"text-align: right;\">-0.496337</td><td style = \"text-align: right;\">2.54712</td></tr><tr><td class = \"rowNumber\" style = \"font-weight: bold; text-align: right;\">10</td><td style = \"text-align: right;\">1.09435</td><td style = \"text-align: right;\">1.09435</td><td style = \"text-align: right;\">67.1748</td></tr><tr><td class = \"rowNumber\" style = \"font-weight: bold; text-align: right;\">11</td><td style = \"text-align: right;\">0.767113</td><td style = \"text-align: right;\">0.767113</td><td style = \"text-align: right;\">6.45159</td></tr><tr><td class = \"rowNumber\" style = \"font-weight: bold; text-align: right;\">12</td><td style = \"text-align: right;\">-1.51288e-16</td><td style = \"text-align: right;\">-1.51288e-16</td><td style = \"text-align: right;\">4.0</td></tr><tr><td class = \"rowNumber\" style = \"font-weight: bold; text-align: right;\">13</td><td style = \"text-align: right;\">-0.767113</td><td style = \"text-align: right;\">-0.767113</td><td style = \"text-align: right;\">6.45159</td></tr><tr><td class = \"rowNumber\" style = \"font-weight: bold; text-align: right;\">14</td><td style = \"text-align: right;\">-1.09435</td><td style = \"text-align: right;\">-1.09435</td><td style = \"text-align: right;\">67.1748</td></tr><tr><td class = \"rowNumber\" style = \"font-weight: bold; text-align: right;\">15</td><td style = \"text-align: right;\">0.496337</td><td style = \"text-align: right;\">0.496337</td><td style = \"text-align: right;\">2.54712</td></tr><tr><td class = \"rowNumber\" style = \"font-weight: bold; text-align: right;\">16</td><td style = \"text-align: right;\">-0.503003</td><td style = \"text-align: right;\">-0.503003</td><td style = \"text-align: right;\">2.57837</td></tr><tr><td class = \"rowNumber\" style = \"font-weight: bold; text-align: right;\">17</td><td style = \"text-align: right;\">-0.0106953</td><td style = \"text-align: right;\">-0.0106953</td><td style = \"text-align: right;\">4.00091</td></tr><tr><td class = \"rowNumber\" style = \"font-weight: bold; text-align: right;\">18</td><td style = \"text-align: right;\">-0.843946</td><td style = \"text-align: right;\">-0.843946</td><td style = \"text-align: right;\">8.23594</td></tr><tr><td class = \"rowNumber\" style = \"font-weight: bold; text-align: right;\">19</td><td style = \"text-align: right;\">0.85371</td><td style = \"text-align: right;\">0.85371</td><td style = \"text-align: right;\">8.56762</td></tr><tr><td class = \"rowNumber\" style = \"font-weight: bold; text-align: right;\">20</td><td style = \"text-align: right;\">-0.0428787</td><td style = \"text-align: right;\">-0.0428787</td><td style = \"text-align: right;\">4.01373</td></tr><tr><td class = \"rowNumber\" style = \"font-weight: bold; text-align: right;\">21</td><td style = \"text-align: right;\">-1.12222</td><td style = \"text-align: right;\">-1.12222</td><td style = \"text-align: right;\">91.88</td></tr><tr><td class = \"rowNumber\" style = \"font-weight: bold; text-align: right;\">22</td><td style = \"text-align: right;\">1.12444</td><td style = \"text-align: right;\">1.12444</td><td style = \"text-align: right;\">94.2099</td></tr><tr><td class = \"rowNumber\" style = \"font-weight: bold; text-align: right;\">23</td><td style = \"text-align: right;\">-0.14189</td><td style = \"text-align: right;\">-0.14189</td><td style = \"text-align: right;\">4.05672</td></tr></tbody></table></div>"
      ],
      "text/latex": [
       "\\begin{tabular}{r|ccc}\n",
       "\t& x1 & x2 & z\\\\\n",
       "\t\\hline\n",
       "\t& Float64 & Float64 & Float64\\\\\n",
       "\t\\hline\n",
       "\t1 & 0.14189 & 0.14189 & 4.05672 \\\\\n",
       "\t2 & -1.12444 & -1.12444 & 94.2099 \\\\\n",
       "\t3 & 1.12222 & 1.12222 & 91.88 \\\\\n",
       "\t4 & 0.0428787 & 0.0428787 & 4.01373 \\\\\n",
       "\t5 & -0.85371 & -0.85371 & 8.56762 \\\\\n",
       "\t6 & 0.843946 & 0.843946 & 8.23594 \\\\\n",
       "\t7 & 0.0106953 & 0.0106953 & 4.00091 \\\\\n",
       "\t8 & 0.503003 & 0.503003 & 2.57837 \\\\\n",
       "\t9 & -0.496337 & -0.496337 & 2.54712 \\\\\n",
       "\t10 & 1.09435 & 1.09435 & 67.1748 \\\\\n",
       "\t11 & 0.767113 & 0.767113 & 6.45159 \\\\\n",
       "\t12 & -1.51288e-16 & -1.51288e-16 & 4.0 \\\\\n",
       "\t13 & -0.767113 & -0.767113 & 6.45159 \\\\\n",
       "\t14 & -1.09435 & -1.09435 & 67.1748 \\\\\n",
       "\t15 & 0.496337 & 0.496337 & 2.54712 \\\\\n",
       "\t16 & -0.503003 & -0.503003 & 2.57837 \\\\\n",
       "\t17 & -0.0106953 & -0.0106953 & 4.00091 \\\\\n",
       "\t18 & -0.843946 & -0.843946 & 8.23594 \\\\\n",
       "\t19 & 0.85371 & 0.85371 & 8.56762 \\\\\n",
       "\t20 & -0.0428787 & -0.0428787 & 4.01373 \\\\\n",
       "\t21 & -1.12222 & -1.12222 & 91.88 \\\\\n",
       "\t22 & 1.12444 & 1.12444 & 94.2099 \\\\\n",
       "\t23 & -0.14189 & -0.14189 & 4.05672 \\\\\n",
       "\\end{tabular}\n"
      ],
      "text/plain": [
       "\u001b[1m23×3 DataFrame\u001b[0m\n",
       "\u001b[1m Row \u001b[0m│\u001b[1m x1         \u001b[0m\u001b[1m x2         \u001b[0m\u001b[1m z        \u001b[0m\n",
       "     │\u001b[90m Float64    \u001b[0m\u001b[90m Float64    \u001b[0m\u001b[90m Float64  \u001b[0m\n",
       "─────┼──────────────────────────────────\n",
       "   1 │  0.14189     0.14189     4.05672\n",
       "   2 │ -1.12444    -1.12444    94.2099\n",
       "   3 │  1.12222     1.12222    91.88\n",
       "   4 │  0.0428787   0.0428787   4.01373\n",
       "   5 │ -0.85371    -0.85371     8.56762\n",
       "   6 │  0.843946    0.843946    8.23594\n",
       "   7 │  0.0106953   0.0106953   4.00091\n",
       "   8 │  0.503003    0.503003    2.57837\n",
       "  ⋮  │     ⋮           ⋮          ⋮\n",
       "  17 │ -0.0106953  -0.0106953   4.00091\n",
       "  18 │ -0.843946   -0.843946    8.23594\n",
       "  19 │  0.85371     0.85371     8.56762\n",
       "  20 │ -0.0428787  -0.0428787   4.01373\n",
       "  21 │ -1.12222    -1.12222    91.88\n",
       "  22 │  1.12444     1.12444    94.2099\n",
       "  23 │ -0.14189    -0.14189     4.05672\n",
       "\u001b[36m                          8 rows omitted\u001b[0m"
      ]
     },
     "metadata": {},
     "output_type": "display_data"
    }
   ],
   "source": [
    "@polyvar(x[1:n]); # Define polynomial ring \n",
    "df_cheb = solve_and_parse(pol_cheb, x, f, TR)\n",
    "df_lege = solve_and_parse(pol_lege, x, f, TR)"
   ]
  },
  {
   "cell_type": "code",
   "execution_count": 5,
   "metadata": {},
   "outputs": [
    {
     "name": "stdout",
     "output_type": "stream",
     "text": [
      "Processing point 1 of 23\n",
      "Optimization has converged within bounds: \u001b[32m✓\u001b[0m\n",
      "Processing point 2 of 23\n",
      "Optimization has converged within bounds: \u001b[32m✓\u001b[0m\n",
      "Processing point 3 of 23\n",
      "Optimization has converged within bounds: \u001b[32m✓\u001b[0m\n",
      "Processing point 4 of 23\n",
      "Optimization has converged within bounds: \u001b[32m✓\u001b[0m\n",
      "Processing point 5 of 23\n",
      "Optimization has converged within bounds: \u001b[32m✓\u001b[0m\n",
      "Processing point 6 of 23\n",
      "Optimization has converged within bounds: \u001b[32m✓\u001b[0m\n",
      "Processing point 7 of 23\n",
      "Optimization has converged within bounds: \u001b[32m✓\u001b[0m\n",
      "Processing point 8 of 23\n",
      "Optimization has converged within bounds: \u001b[32m✓\u001b[0m\n",
      "Processing point 9 of 23\n",
      "Optimization has converged within bounds: \u001b[32m✓\u001b[0m\n",
      "Processing point 10 of 23\n",
      "Optimization has converged within bounds: \u001b[32m✓\u001b[0m\n",
      "Processing point 11 of 23\n",
      "Optimization has converged within bounds: \u001b[32m✓\u001b[0m\n",
      "Processing point 12 of 23\n",
      "Optimization has converged within bounds: \u001b[32m✓\u001b[0m\n",
      "Processing point 13 of 23\n",
      "Optimization has converged within bounds: \u001b[32m✓\u001b[0m\n",
      "Processing point 14 of 23\n",
      "Optimization has converged within bounds: \u001b[32m✓\u001b[0m\n",
      "Processing point 15 of 23\n",
      "Optimization has converged within bounds: \u001b[32m✓\u001b[0m\n",
      "Processing point 16 of 23\n",
      "Optimization has converged within bounds: \u001b[32m✓\u001b[0m\n",
      "Processing point 17 of 23\n",
      "Optimization has converged within bounds: \u001b[32m✓\u001b[0m\n",
      "Processing point 18 of 23\n",
      "Optimization has converged within bounds: \u001b[32m✓\u001b[0m\n",
      "Processing point 19 of 23\n",
      "Optimization has converged within bounds: \u001b[32m✓\u001b[0m\n",
      "Processing point 20 of 23\n",
      "Optimization has converged within bounds: \u001b[32m✓\u001b[0m\n",
      "Processing point 21 of 23\n",
      "Optimization has converged within bounds: \u001b[32m✓\u001b[0m\n",
      "Processing point 22 of 23\n",
      "Optimization has converged within bounds: \u001b[32m✓\u001b[0m\n",
      "Processing point 23 of 23\n",
      "Optimization has converged within bounds: \u001b[32m✓\u001b[0m\n",
      "\n",
      "=== Computing Enhanced Statistics ===\n",
      "Computing spatial regions...\n",
      "Clustering function values...\n",
      "Computing nearest neighbor distances...\n",
      "Computing gradient norms at critical points...\n",
      "Analyzing basins of attraction...\n",
      "Computing gradient norms at minimizers...\n",
      "Enhanced statistics computed successfully!\n",
      "New df columns: region_id, function_value_cluster, nearest_neighbor_dist, gradient_norm\n",
      "New df_min columns: basin_points, average_convergence_steps, region_coverage_count, gradient_norm_at_min\n",
      "\n",
      "=== Computing Complete Hessian Analysis ===\n",
      "Computing Hessian matrices...\n",
      "Computing all eigenvalues...\n",
      "Classifying critical points...\n",
      "Extracting critical eigenvalues...\n",
      "Computing Hessian norms...\n",
      "Computing eigenvalue statistics...\n",
      "Computing Hessian analysis for minimizers...\n",
      "Hessian analysis complete!\n",
      "New df columns: critical_point_type, smallest_positive_eigenval, largest_negative_eigenval, hessian_norm, hessian_*\n",
      "New df_min columns: same Hessian-based columns as df\n",
      "Processing point 1 of 23\n",
      "Optimization has converged within bounds: \u001b[32m✓\u001b[0m\n",
      "Processing point 2 of 23\n",
      "Optimization has converged within bounds: \u001b[32m✓\u001b[0m\n",
      "Processing point 3 of 23\n",
      "Optimization has converged within bounds: \u001b[32m✓\u001b[0m\n",
      "Processing point 4 of 23\n",
      "Optimization has converged within bounds: \u001b[32m✓\u001b[0m\n",
      "Processing point 5 of 23\n",
      "Optimization has converged within bounds: \u001b[32m✓\u001b[0m\n",
      "Processing point 6 of 23\n",
      "Optimization has converged within bounds: \u001b[32m✓\u001b[0m\n",
      "Processing point 7 of 23\n",
      "Optimization has converged within bounds: \u001b[32m✓\u001b[0m\n",
      "Processing point 8 of 23\n",
      "Optimization has converged within bounds: \u001b[32m✓\u001b[0m\n",
      "Processing point 9 of 23\n",
      "Optimization has converged within bounds: \u001b[32m✓\u001b[0m\n",
      "Processing point 10 of 23\n",
      "Optimization has converged within bounds: \u001b[32m✓\u001b[0m\n",
      "Processing point 11 of 23\n",
      "Optimization has converged within bounds: \u001b[32m✓\u001b[0m\n",
      "Processing point 12 of 23\n",
      "Optimization has converged within bounds: \u001b[32m✓\u001b[0m\n",
      "Processing point 13 of 23\n",
      "Optimization has converged within bounds: \u001b[32m✓\u001b[0m\n",
      "Processing point 14 of 23\n",
      "Optimization has converged within bounds: \u001b[32m✓\u001b[0m\n",
      "Processing point 15 of 23\n",
      "Optimization has converged within bounds: \u001b[32m✓\u001b[0m\n",
      "Processing point 16 of 23\n",
      "Optimization has converged within bounds: \u001b[32m✓\u001b[0m\n",
      "Processing point 17 of 23\n",
      "Optimization has converged within bounds: \u001b[32m✓\u001b[0m\n",
      "Processing point 18 of 23\n",
      "Optimization has converged within bounds: \u001b[32m✓\u001b[0m\n",
      "Processing point 19 of 23\n",
      "Optimization has converged within bounds: \u001b[32m✓\u001b[0m\n",
      "Processing point 20 of 23\n",
      "Optimization has converged within bounds: \u001b[32m✓\u001b[0m\n",
      "Processing point 21 of 23\n",
      "Optimization has converged within bounds: \u001b[32m✓\u001b[0m\n",
      "Processing point 22 of 23\n",
      "Optimization has converged within bounds: \u001b[32m✓\u001b[0m\n",
      "Processing point 23 of 23\n",
      "Optimization has converged within bounds: \u001b[32m✓\u001b[0m\n",
      "\n",
      "=== Computing Enhanced Statistics ===\n",
      "Computing spatial regions...\n",
      "Clustering function values...\n",
      "Computing nearest neighbor distances...\n",
      "Computing gradient norms at critical points...\n",
      "Analyzing basins of attraction...\n",
      "Computing gradient norms at minimizers...\n",
      "Enhanced statistics computed successfully!\n",
      "New df columns: region_id, function_value_cluster, nearest_neighbor_dist, gradient_norm\n",
      "New df_min columns: basin_points, average_convergence_steps, region_coverage_count, gradient_norm_at_min\n",
      "\n",
      "=== Computing Complete Hessian Analysis ===\n",
      "Computing Hessian matrices...\n",
      "Computing all eigenvalues...\n",
      "Classifying critical points...\n",
      "Extracting critical eigenvalues...\n",
      "Computing Hessian norms...\n",
      "Computing eigenvalue statistics...\n",
      "Computing Hessian analysis for minimizers...\n",
      "Hessian analysis complete!\n",
      "New df columns: critical_point_type, smallest_positive_eigenval, largest_negative_eigenval, hessian_norm, hessian_*\n",
      "New df_min columns: same Hessian-based columns as df\n"
     ]
    }
   ],
   "source": [
    "using Optim\n",
    "df_cheb, df_min_cheb = analyze_critical_points(f, df_cheb, TR, tol_dist=0.05);\n",
    "df_lege, df_min_lege = analyze_critical_points(f, df_lege, TR, tol_dist=0.05);"
   ]
  },
  {
   "cell_type": "code",
   "execution_count": 6,
   "metadata": {},
   "outputs": [
    {
     "ename": "MethodError",
     "evalue": "MethodError: no method matching plot_polyapprox_levelset(::ApproxPoly{Float64, Float64}, ::test_input, ::DataFrame, ::DataFrame; chebyshev_levels::Bool)\nThe function `plot_polyapprox_levelset` exists, but no method is defined for this combination of argument types.",
     "output_type": "error",
     "traceback": [
      "MethodError: no method matching plot_polyapprox_levelset(::ApproxPoly{Float64, Float64}, ::test_input, ::DataFrame, ::DataFrame; chebyshev_levels::Bool)\n",
      "The function `plot_polyapprox_levelset` exists, but no method is defined for this combination of argument types.\n",
      "\n",
      "Stacktrace:\n",
      " [1] top-level scope\n",
      "   @ ~/globtim/Examples/Notebooks/jl_notebook_cell_df34fa98e69747e1a8f8a730347b8e2f_W6sZmlsZQ==.jl:1"
     ]
    }
   ],
   "source": [
    "fig_1 = plot_polyapprox_levelset(pol_cheb, TR, df_cheb, df_min_cheb, chebyshev_levels=true)"
   ]
  },
  {
   "cell_type": "code",
   "execution_count": 7,
   "metadata": {},
   "outputs": [
    {
     "ename": "MethodError",
     "evalue": "MethodError: no method matching plot_polyapprox_levelset(::ApproxPoly{Float64, Float64}, ::test_input, ::DataFrame, ::DataFrame; chebyshev_levels::Bool)\nThe function `plot_polyapprox_levelset` exists, but no method is defined for this combination of argument types.",
     "output_type": "error",
     "traceback": [
      "MethodError: no method matching plot_polyapprox_levelset(::ApproxPoly{Float64, Float64}, ::test_input, ::DataFrame, ::DataFrame; chebyshev_levels::Bool)\n",
      "The function `plot_polyapprox_levelset` exists, but no method is defined for this combination of argument types.\n",
      "\n",
      "Stacktrace:\n",
      " [1] top-level scope\n",
      "   @ ~/globtim/Examples/Notebooks/jl_notebook_cell_df34fa98e69747e1a8f8a730347b8e2f_X10sZmlsZQ==.jl:1"
     ]
    }
   ],
   "source": [
    "fig_1 = plot_polyapprox_levelset(pol_cheb, TR, df_cheb, df_min_cheb, chebyshev_levels=true)"
   ]
  },
  {
   "cell_type": "code",
   "execution_count": 8,
   "metadata": {},
   "outputs": [
    {
     "ename": "MethodError",
     "evalue": "MethodError: no method matching plot_polyapprox_levelset(::ApproxPoly{Float64, Float64}, ::test_input, ::DataFrame, ::DataFrame; chebyshev_levels::Bool)\nThe function `plot_polyapprox_levelset` exists, but no method is defined for this combination of argument types.",
     "output_type": "error",
     "traceback": [
      "MethodError: no method matching plot_polyapprox_levelset(::ApproxPoly{Float64, Float64}, ::test_input, ::DataFrame, ::DataFrame; chebyshev_levels::Bool)\n",
      "The function `plot_polyapprox_levelset` exists, but no method is defined for this combination of argument types.\n",
      "\n",
      "Stacktrace:\n",
      " [1] top-level scope\n",
      "   @ ~/globtim/Examples/Notebooks/jl_notebook_cell_df34fa98e69747e1a8f8a730347b8e2f_X11sZmlsZQ==.jl:1"
     ]
    }
   ],
   "source": [
    "fig_2 = plot_polyapprox_levelset(pol_lege, TR, df_lege, df_min_lege, chebyshev_levels=false)"
   ]
  }
 ],
 "metadata": {
  "kernelspec": {
   "display_name": "Julia 1.11.6",
   "language": "julia",
   "name": "julia-1.11"
  },
  "language_info": {
   "file_extension": ".jl",
   "mimetype": "application/julia",
   "name": "julia",
   "version": "1.11.6"
  }
 },
 "nbformat": 4,
 "nbformat_minor": 2
}
