{
 "cells": [
  {
   "cell_type": "code",
   "execution_count": 1,
   "metadata": {},
   "outputs": [
    {
     "name": "stderr",
     "output_type": "stream",
     "text": [
      "\u001b[32m\u001b[1m  Activating\u001b[22m\u001b[39m project at `~/globtim`\n"
     ]
    },
    {
     "data": {
      "text/plain": [
       "Rastringin (generic function with 1 method)"
      ]
     },
     "metadata": {},
     "output_type": "display_data"
    }
   ],
   "source": [
    "using Pkg\n",
    "using Revise\n",
    "Pkg.activate(joinpath(@__DIR__, \"../../\"))\n",
    "using Globtim\n",
    "using DynamicPolynomials, DataFrames\n",
    "# Constants and Parameters\n",
    "const n, a, b = 3, 1, 1\n",
    "const scale_factor = a / b   # Scaling factor appears in `main_computation`, maybe it should be a parameter.\n",
    "const delta, alpha = 0.5, 1 / 10  # Sampling parameters\n",
    "const tol_l2 = 3e-4            # Define the tolerance for the L2-norm\n",
    "f = Rastringin # Objective function"
   ]
  },
  {
   "cell_type": "markdown",
   "metadata": {},
   "source": [
    "We set the number of samples used to generate the approximant. It is annoying that the error goes up while the degree has increased."
   ]
  },
  {
   "cell_type": "code",
   "execution_count": 2,
   "metadata": {},
   "outputs": [
    {
     "name": "stdout",
     "output_type": "stream",
     "text": [
      "current L2-norm: 8.892146854778785e-5\n",
      "current L2-norm: 0.06280960975634996\n"
     ]
    }
   ],
   "source": [
    "rand_center = [0.0, 0.0, 0,];\n",
    "d = 10 # initial degree \n",
    "SMPL = 40 # Number of samples\n",
    "TR = test_input(f, \n",
    "                dim = n,\n",
    "                center=rand_center,\n",
    "                GN=SMPL, \n",
    "                sample_range=scale_factor, \n",
    "                degree_max =d+4\n",
    "                )\n",
    "pol_cheb = Constructor(TR, d, basis=:chebyshev)\n",
    "pol_lege = Constructor(TR, d, basis=:legendre);\n",
    "\n",
    "@polyvar(x[1:n]); # Define polynomial ring "
   ]
  },
  {
   "cell_type": "markdown",
   "metadata": {},
   "source": [
    "Solve the system of partial derivatives using `Msolve`. We should allow for points slightly outside the domain. "
   ]
  },
  {
   "cell_type": "code",
   "execution_count": 8,
   "metadata": {},
   "outputs": [
    {
     "name": "stdout",
     "output_type": "stream",
     "text": [
      "\n",
      "=== Starting MSolve Parser (dimension: 3) ===\n",
      "Processed 125 points (0.005s)\n"
     ]
    },
    {
     "data": {
      "text/html": [
       "<div><div style = \"float: left;\"><span>125×4 DataFrame</span></div><div style = \"float: right;\"><span style = \"font-style: italic;\">100 rows omitted</span></div><div style = \"clear: both;\"></div></div><div class = \"data-frame\" style = \"overflow-x: scroll;\"><table class = \"data-frame\" style = \"margin-bottom: 6px;\"><thead><tr class = \"header\"><th class = \"rowNumber\" style = \"font-weight: bold; text-align: right;\">Row</th><th style = \"text-align: left;\">x1</th><th style = \"text-align: left;\">x2</th><th style = \"text-align: left;\">x3</th><th style = \"text-align: left;\">z</th></tr><tr class = \"subheader headerLastRow\"><th class = \"rowNumber\" style = \"font-weight: bold; text-align: right;\"></th><th title = \"Float64\" style = \"text-align: left;\">Float64</th><th title = \"Float64\" style = \"text-align: left;\">Float64</th><th title = \"Float64\" style = \"text-align: left;\">Float64</th><th title = \"Float64\" style = \"text-align: left;\">Float64</th></tr></thead><tbody><tr><td class = \"rowNumber\" style = \"font-weight: bold; text-align: right;\">1</td><td style = \"text-align: right;\">0.0</td><td style = \"text-align: right;\">0.0</td><td style = \"text-align: right;\">-2.79995e-16</td><td style = \"text-align: right;\">-30.0</td></tr><tr><td class = \"rowNumber\" style = \"font-weight: bold; text-align: right;\">2</td><td style = \"text-align: right;\">0.0</td><td style = \"text-align: right;\">0.0</td><td style = \"text-align: right;\">-2.64482e-16</td><td style = \"text-align: right;\">-30.0</td></tr><tr><td class = \"rowNumber\" style = \"font-weight: bold; text-align: right;\">3</td><td style = \"text-align: right;\">0.0</td><td style = \"text-align: right;\">0.0</td><td style = \"text-align: right;\">-1.70165e-16</td><td style = \"text-align: right;\">-30.0</td></tr><tr><td class = \"rowNumber\" style = \"font-weight: bold; text-align: right;\">4</td><td style = \"text-align: right;\">0.0</td><td style = \"text-align: right;\">0.0</td><td style = \"text-align: right;\">-1.37169e-16</td><td style = \"text-align: right;\">-30.0</td></tr><tr><td class = \"rowNumber\" style = \"font-weight: bold; text-align: right;\">5</td><td style = \"text-align: right;\">0.0</td><td style = \"text-align: right;\">0.0</td><td style = \"text-align: right;\">-1.30726e-16</td><td style = \"text-align: right;\">-30.0</td></tr><tr><td class = \"rowNumber\" style = \"font-weight: bold; text-align: right;\">6</td><td style = \"text-align: right;\">0.0</td><td style = \"text-align: right;\">0.0</td><td style = \"text-align: right;\">-1.22857e-16</td><td style = \"text-align: right;\">-30.0</td></tr><tr><td class = \"rowNumber\" style = \"font-weight: bold; text-align: right;\">7</td><td style = \"text-align: right;\">0.0</td><td style = \"text-align: right;\">0.0</td><td style = \"text-align: right;\">-1.21412e-16</td><td style = \"text-align: right;\">-30.0</td></tr><tr><td class = \"rowNumber\" style = \"font-weight: bold; text-align: right;\">8</td><td style = \"text-align: right;\">0.0</td><td style = \"text-align: right;\">0.0</td><td style = \"text-align: right;\">-1.16693e-16</td><td style = \"text-align: right;\">-30.0</td></tr><tr><td class = \"rowNumber\" style = \"font-weight: bold; text-align: right;\">9</td><td style = \"text-align: right;\">0.0</td><td style = \"text-align: right;\">0.0</td><td style = \"text-align: right;\">-1.1623e-16</td><td style = \"text-align: right;\">-30.0</td></tr><tr><td class = \"rowNumber\" style = \"font-weight: bold; text-align: right;\">10</td><td style = \"text-align: right;\">0.0</td><td style = \"text-align: right;\">0.0</td><td style = \"text-align: right;\">-4.30319e-17</td><td style = \"text-align: right;\">-30.0</td></tr><tr><td class = \"rowNumber\" style = \"font-weight: bold; text-align: right;\">11</td><td style = \"text-align: right;\">0.0</td><td style = \"text-align: right;\">0.0</td><td style = \"text-align: right;\">-3.08327e-17</td><td style = \"text-align: right;\">-30.0</td></tr><tr><td class = \"rowNumber\" style = \"font-weight: bold; text-align: right;\">12</td><td style = \"text-align: right;\">0.0</td><td style = \"text-align: right;\">0.0</td><td style = \"text-align: right;\">-2.83739e-17</td><td style = \"text-align: right;\">-30.0</td></tr><tr><td class = \"rowNumber\" style = \"font-weight: bold; text-align: right;\">13</td><td style = \"text-align: right;\">0.0</td><td style = \"text-align: right;\">0.0</td><td style = \"text-align: right;\">-2.74115e-17</td><td style = \"text-align: right;\">-30.0</td></tr><tr><td style = \"text-align: right;\">&vellip;</td><td style = \"text-align: right;\">&vellip;</td><td style = \"text-align: right;\">&vellip;</td><td style = \"text-align: right;\">&vellip;</td><td style = \"text-align: right;\">&vellip;</td></tr><tr><td class = \"rowNumber\" style = \"font-weight: bold; text-align: right;\">114</td><td style = \"text-align: right;\">-0.991184</td><td style = \"text-align: right;\">-0.502484</td><td style = \"text-align: right;\">-0.502484</td><td style = \"text-align: right;\">11.5003</td></tr><tr><td class = \"rowNumber\" style = \"font-weight: bold; text-align: right;\">115</td><td style = \"text-align: right;\">0.991184</td><td style = \"text-align: right;\">-0.502484</td><td style = \"text-align: right;\">-0.502484</td><td style = \"text-align: right;\">11.5003</td></tr><tr><td class = \"rowNumber\" style = \"font-weight: bold; text-align: right;\">116</td><td style = \"text-align: right;\">0.991184</td><td style = \"text-align: right;\">-0.502484</td><td style = \"text-align: right;\">0.502484</td><td style = \"text-align: right;\">11.5003</td></tr><tr><td class = \"rowNumber\" style = \"font-weight: bold; text-align: right;\">117</td><td style = \"text-align: right;\">0.502484</td><td style = \"text-align: right;\">0.502484</td><td style = \"text-align: right;\">0.991184</td><td style = \"text-align: right;\">11.5003</td></tr><tr><td class = \"rowNumber\" style = \"font-weight: bold; text-align: right;\">118</td><td style = \"text-align: right;\">-0.502484</td><td style = \"text-align: right;\">-0.502484</td><td style = \"text-align: right;\">-0.502484</td><td style = \"text-align: right;\">30.7538</td></tr><tr><td class = \"rowNumber\" style = \"font-weight: bold; text-align: right;\">119</td><td style = \"text-align: right;\">0.502484</td><td style = \"text-align: right;\">-0.502484</td><td style = \"text-align: right;\">-0.502484</td><td style = \"text-align: right;\">30.7538</td></tr><tr><td class = \"rowNumber\" style = \"font-weight: bold; text-align: right;\">120</td><td style = \"text-align: right;\">0.502484</td><td style = \"text-align: right;\">0.502484</td><td style = \"text-align: right;\">-0.502484</td><td style = \"text-align: right;\">30.7538</td></tr><tr><td class = \"rowNumber\" style = \"font-weight: bold; text-align: right;\">121</td><td style = \"text-align: right;\">-0.502484</td><td style = \"text-align: right;\">0.502484</td><td style = \"text-align: right;\">-0.502484</td><td style = \"text-align: right;\">30.7538</td></tr><tr><td class = \"rowNumber\" style = \"font-weight: bold; text-align: right;\">122</td><td style = \"text-align: right;\">0.502484</td><td style = \"text-align: right;\">0.502484</td><td style = \"text-align: right;\">0.502484</td><td style = \"text-align: right;\">30.7538</td></tr><tr><td class = \"rowNumber\" style = \"font-weight: bold; text-align: right;\">123</td><td style = \"text-align: right;\">0.502484</td><td style = \"text-align: right;\">-0.502484</td><td style = \"text-align: right;\">0.502484</td><td style = \"text-align: right;\">30.7538</td></tr><tr><td class = \"rowNumber\" style = \"font-weight: bold; text-align: right;\">124</td><td style = \"text-align: right;\">-0.502484</td><td style = \"text-align: right;\">0.502484</td><td style = \"text-align: right;\">0.502484</td><td style = \"text-align: right;\">30.7538</td></tr><tr><td class = \"rowNumber\" style = \"font-weight: bold; text-align: right;\">125</td><td style = \"text-align: right;\">-0.502484</td><td style = \"text-align: right;\">-0.502484</td><td style = \"text-align: right;\">0.502484</td><td style = \"text-align: right;\">30.7538</td></tr></tbody></table></div>"
      ],
      "text/latex": [
       "\\begin{tabular}{r|cccc}\n",
       "\t& x1 & x2 & x3 & z\\\\\n",
       "\t\\hline\n",
       "\t& Float64 & Float64 & Float64 & Float64\\\\\n",
       "\t\\hline\n",
       "\t1 & 0.0 & 0.0 & -2.79995e-16 & -30.0 \\\\\n",
       "\t2 & 0.0 & 0.0 & -2.64482e-16 & -30.0 \\\\\n",
       "\t3 & 0.0 & 0.0 & -1.70165e-16 & -30.0 \\\\\n",
       "\t4 & 0.0 & 0.0 & -1.37169e-16 & -30.0 \\\\\n",
       "\t5 & 0.0 & 0.0 & -1.30726e-16 & -30.0 \\\\\n",
       "\t6 & 0.0 & 0.0 & -1.22857e-16 & -30.0 \\\\\n",
       "\t7 & 0.0 & 0.0 & -1.21412e-16 & -30.0 \\\\\n",
       "\t8 & 0.0 & 0.0 & -1.16693e-16 & -30.0 \\\\\n",
       "\t9 & 0.0 & 0.0 & -1.1623e-16 & -30.0 \\\\\n",
       "\t10 & 0.0 & 0.0 & -4.30319e-17 & -30.0 \\\\\n",
       "\t11 & 0.0 & 0.0 & -3.08327e-17 & -30.0 \\\\\n",
       "\t12 & 0.0 & 0.0 & -2.83739e-17 & -30.0 \\\\\n",
       "\t13 & 0.0 & 0.0 & -2.74115e-17 & -30.0 \\\\\n",
       "\t14 & 0.0 & 0.0 & -1.05868e-17 & -30.0 \\\\\n",
       "\t15 & 0.0 & 0.0 & 4.68195e-19 & -30.0 \\\\\n",
       "\t16 & 0.0 & 0.0 & 5.48997e-18 & -30.0 \\\\\n",
       "\t17 & 0.0 & 0.0 & 1.41223e-17 & -30.0 \\\\\n",
       "\t18 & 0.0 & 0.0 & 1.03506e-16 & -30.0 \\\\\n",
       "\t19 & 0.0 & 0.0 & 1.42134e-16 & -30.0 \\\\\n",
       "\t20 & 0.0 & 0.0 & 1.51385e-16 & -30.0 \\\\\n",
       "\t21 & 0.0 & 0.0 & 2.26396e-16 & -30.0 \\\\\n",
       "\t22 & 0.0 & 0.0 & 2.40146e-16 & -30.0 \\\\\n",
       "\t23 & 0.0 & 0.0 & 3.05601e-16 & -30.0 \\\\\n",
       "\t24 & 0.0 & 0.0 & 3.48018e-16 & -30.0 \\\\\n",
       "\t$\\dots$ & $\\dots$ & $\\dots$ & $\\dots$ & $\\dots$ \\\\\n",
       "\\end{tabular}\n"
      ],
      "text/plain": [
       "\u001b[1m125×4 DataFrame\u001b[0m\n",
       "\u001b[1m Row \u001b[0m│\u001b[1m x1        \u001b[0m\u001b[1m x2        \u001b[0m\u001b[1m x3           \u001b[0m\u001b[1m z        \u001b[0m\n",
       "     │\u001b[90m Float64   \u001b[0m\u001b[90m Float64   \u001b[0m\u001b[90m Float64      \u001b[0m\u001b[90m Float64  \u001b[0m\n",
       "─────┼──────────────────────────────────────────────\n",
       "   1 │  0.0        0.0       -2.79995e-16  -30.0\n",
       "   2 │  0.0        0.0       -2.64482e-16  -30.0\n",
       "   3 │  0.0        0.0       -1.70165e-16  -30.0\n",
       "   4 │  0.0        0.0       -1.37169e-16  -30.0\n",
       "   5 │  0.0        0.0       -1.30726e-16  -30.0\n",
       "   6 │  0.0        0.0       -1.22857e-16  -30.0\n",
       "   7 │  0.0        0.0       -1.21412e-16  -30.0\n",
       "   8 │  0.0        0.0       -1.16693e-16  -30.0\n",
       "  ⋮  │     ⋮          ⋮           ⋮           ⋮\n",
       " 119 │  0.502484  -0.502484  -0.502484      30.7538\n",
       " 120 │  0.502484   0.502484  -0.502484      30.7538\n",
       " 121 │ -0.502484   0.502484  -0.502484      30.7538\n",
       " 122 │  0.502484   0.502484   0.502484      30.7538\n",
       " 123 │  0.502484  -0.502484   0.502484      30.7538\n",
       " 124 │ -0.502484   0.502484   0.502484      30.7538\n",
       " 125 │ -0.502484  -0.502484   0.502484      30.7538\n",
       "\u001b[36m                                    110 rows omitted\u001b[0m"
      ]
     },
     "metadata": {},
     "output_type": "display_data"
    }
   ],
   "source": [
    "¡# df_cheb = solve_and_parse(pol_cheb, x, f, TR)\n",
    "df_cheb = msolve_parser(\"tmp_output_GDJnbt8n.ms\", f, TR)\n",
    "sort!(df_cheb, :z, rev=false)"
   ]
  },
  {
   "cell_type": "code",
   "execution_count": 4,
   "metadata": {},
   "outputs": [],
   "source": [
    "using StaticArrays\n",
    "using GLMakie\n",
    "include(\"LevelSetViz.jl\")\n",
    "using .LevelSetViz"
   ]
  },
  {
   "cell_type": "code",
   "execution_count": 5,
   "metadata": {},
   "outputs": [],
   "source": [
    "grid = scale_factor * generate_grid(3, 100)  # 3D grid\n",
    "values = map(f, grid); # Prepare level set data for specific level"
   ]
  },
  {
   "cell_type": "code",
   "execution_count": 9,
   "metadata": {},
   "outputs": [],
   "source": [
    "fig = create_level_set_visualization(f, grid, df_cheb, (-30.0, 30.))"
   ]
  },
  {
   "cell_type": "code",
   "execution_count": 7,
   "metadata": {},
   "outputs": [],
   "source": [
    "# GLMakie.closeall()"
   ]
  }
 ],
 "metadata": {
  "kernelspec": {
   "display_name": "Julia 1.11.2",
   "language": "julia",
   "name": "julia-1.11"
  },
  "language_info": {
   "file_extension": ".jl",
   "mimetype": "application/julia",
   "name": "julia",
   "version": "1.11.2"
  }
 },
 "nbformat": 4,
 "nbformat_minor": 2
}
