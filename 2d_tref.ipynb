{
 "cells": [
  {
   "cell_type": "code",
   "execution_count": 1,
   "metadata": {},
   "outputs": [
    {
     "data": {
      "text/plain": [
       "(0.5, 0.9)"
      ]
     },
     "metadata": {},
     "output_type": "display_data"
    }
   ],
   "source": [
    "\n",
    "using DynamicPolynomials, MultivariatePolynomials, HomotopyContinuation, JSON\n",
    "include(\"construct_lib.jl\")\n",
    "\n",
    "# Constants and Parameters\n",
    "const d1, d2, ds = 3, 5, 1  # Degree range and step\n",
    "const n, a, b = 2, 1, 3\n",
    "const C = a / b  # Scaling constant\n",
    "const delta, alph = 1 / 2, 9 / 10  # Sampling parameters"
   ]
  },
  {
   "cell_type": "code",
   "execution_count": 2,
   "metadata": {},
   "outputs": [
    {
     "ename": "UndefVarError",
     "evalue": "UndefVarError: `y` not defined",
     "output_type": "error",
     "traceback": [
      "UndefVarError: `y` not defined\n",
      "\n",
      "Stacktrace:\n",
      " [1] top-level scope\n",
      "   @ none:1"
     ]
    }
   ],
   "source": [
    "L2 = []\n",
    "function discrete_l2_norm(P, tref, C)\n",
    "    # Define the grid\n",
    "    n = 100\n",
    "    x_vals = range(-C, C, length=n)\n",
    "    y_vals = range(-C, C, length=n)\n",
    "    \n",
    "    # Initialize the norm\n",
    "    norm = 0.0\n",
    "\n",
    "    # Compute the difference and sum up the squares\n",
    "    for x_val in x_vals, y_val in y_vals\n",
    "        P_val = subs(P, x[1] => x_val, x[2] => y_val)\n",
    "        println(P_val)\n",
    "        f_val = tref(x_val, y_val)\n",
    "        diff = P_val - f_val\n",
    "        norm += diff^2\n",
    "    end\n",
    "\n",
    "    # Take the square root and normalize by the grid size\n",
    "    norm = sqrt(norm / (n * n))\n",
    "\n",
    "    return norm\n",
    "end\n",
    "\n",
    "for (i, d) in enumerate(d1:ds:d2)\n",
    "    ## Read and parse the files\n",
    "    file_path_pts = expanduser(\"data/pts_rat_msolve_d$(d)_C_$(a)_$b.txt\")\n",
    "    file_path_pol = expanduser(\"data/pol_rat_msolve_d$(d)_C_$(a)_$b.txt\")\n",
    "\n",
    "    # Collect the polynomial\n",
    "    data_pol = read(file_path_pol, String)\n",
    "    # Read the polynomial approximant\n",
    "    polynomial = eval(Meta.parse(data_pol))\n",
    "    push!(L2, discrete_l2_norm(polynomial, tref, C))\n",
    "\n",
    "end\n",
    "println(L2)"
   ]
  },
  {
   "cell_type": "code",
   "execution_count": 3,
   "metadata": {},
   "outputs": [
    {
     "ename": "InterruptException",
     "evalue": "InterruptException:",
     "output_type": "error",
     "traceback": [
      "InterruptException:\n",
      "\n",
      "Stacktrace:\n",
      " [1] solve(args::System; show_progress::Bool, threading::Bool, catch_interrupt::Bool, target_parameters::Nothing, stop_early_cb::Function, transform_result::Nothing, transform_parameters::typeof(identity), flatten::Nothing, target_subspaces::Nothing, kwargs::Base.Pairs{Symbol, Union{}, Tuple{}, NamedTuple{(), Tuple{}}})\n",
      "   @ HomotopyContinuation ~/.julia/packages/HomotopyContinuation/zGEDd/src/solve.jl:487\n",
      " [2] solve(args::System)\n",
      "   @ HomotopyContinuation ~/.julia/packages/HomotopyContinuation/zGEDd/src/solve.jl:432\n",
      " [3] RR_xy_solve(n::Int64, p1::DynamicPolynomials.Polynomial{DynamicPolynomials.Commutative{DynamicPolynomials.CreationOrder}, Graded{LexOrder}, Float64}, p2::DynamicPolynomials.Polynomial{DynamicPolynomials.Commutative{DynamicPolynomials.CreationOrder}, Graded{LexOrder}, Float64})\n",
      "   @ Main ~/globtim/construct_lib.jl:305\n",
      " [4] top-level scope\n",
      "   @ ~/globtim/2d_tref.ipynb:27"
     ]
    }
   ],
   "source": [
    "@polyvar(x, y) # Define polynomial ring\n",
    "array_of_vectors_x = Vector{Vector{Float64}}()\n",
    "array_of_vectors_y = Vector{Vector{Float64}}()\n",
    "\n",
    "for (i, d) in enumerate(d1:ds:d2)\n",
    "    ## Read and parse the files\n",
    "    file_path_pts = expanduser(\"data/pts_rat_msolve_d$(d)_C_$(a)_$b.txt\")\n",
    "    file_path_pol = expanduser(\"data/pol_rat_msolve_d$(d)_C_$(a)_$b.txt\")\n",
    "\n",
    "    # Read points msolve\n",
    "    data_pts = read(file_path_pts, String)\n",
    "    trimmed_content = strip(data_pts, ['[', ']']) # trim brackets\n",
    "    rows = split(trimmed_content, \"], [\") # split into two arrays\n",
    "    # Collect the two arrays of msolve PlotlyKaleidopoints\n",
    "    data_array = [parse.(Float64, split(strip(row, ['[', ']']), \", \")) for row in rows]\n",
    "\n",
    "    # Collect the polynomial\n",
    "    data_pol = read(file_path_pol, String)\n",
    "    # Read the polynomial approximant\n",
    "    polynomial = eval(Meta.parse(data_pol))\n",
    "\n",
    "    # Compute derivatives\n",
    "    P1 = differentiate(polynomial, x)\n",
    "    P2 = differentiate(polynomial, y)\n",
    "\n",
    "    # Compute Homotopy Continuation\n",
    "    homoto = RR_xy_solve(n, P1, P2)\n",
    "\n",
    "    # Define the condition for filtering\n",
    "    condition(point) = -1 < point[1] < 1 && -1 < point[2] < 1\n",
    "\n",
    "    # Filter points using the filter function\n",
    "    filtered_points = filter(condition, homoto)\n",
    "    h_x = [point[1] for point in filtered_points] # for plotting\n",
    "    h_y = [point[2] for point in filtered_points]\n",
    "    push!(array_of_vectors_x, h_x)\n",
    "    push!(array_of_vectors_y, h_y)\n",
    "\n",
    "end\n"
   ]
  },
  {
   "cell_type": "code",
   "execution_count": 4,
   "metadata": {},
   "outputs": [],
   "source": [
    "function create_vector_of_pairs(vec1, vec2)\n",
    "    @assert length(vec1) == length(vec2) \"Vectors must be of the same length\"\n",
    "    return collect(zip(vec1, vec2))\n",
    "end\n",
    "\n",
    "PTS_pair = create_vector_of_pairs(array_of_vectors_x,array_of_vectors_y)\n",
    "J = []\n",
    "for x in PTS_pair\n",
    "    push!(J, create_vector_of_pairs(x[1], x[2]))\n",
    "    println(create_vector_of_pairs(x[1], x[2]))Plotl\n",
    "end"
   ]
  },
  {
   "cell_type": "markdown",
   "metadata": {},
   "source": [
    "Goal is to have an identification of all local minima and maxima into two arrays of points. This is to be done by evaluating f and then generating a black and white picture, where each pixel is the average change compared to evaluations of f on the direct neighbors.  "
   ]
  },
  {
   "cell_type": "code",
   "execution_count": 1,
   "metadata": {},
   "outputs": [
    {
     "name": "stderr",
     "output_type": "stream",
     "text": [
      "┌ Warning: `PlotlyKaleido` 2.2.4 is not compatible with this version of `Plots`. The declared compatibility is 1.\n",
      "└ @ Plots /home/georgy/.julia/packages/Plots/ju9dp/src/backends.jl:55\n"
     ]
    },
    {
     "ename": "UndefVarError",
     "evalue": "UndefVarError: `C` not defined",
     "output_type": "error",
     "traceback": [
      "UndefVarError: `C` not defined\n",
      "\n",
      "Stacktrace:\n",
      " [1] top-level scope\n",
      "   @ ~/globtim/2d_tref.ipynb:8"
     ]
    }
   ],
   "source": [
    "using Plots\n",
    "plotly()  # or gr()\n",
    "\n",
    "# Define the function and domain\n",
    "\n",
    "# Generate the grid and evaluate the function\n",
    "N = 100  # resolution of the grid\n",
    "x = range(-C, C, length=N)\n",
    "y = range(-C, C, length=N)\n",
    "z = [tref(xi, yi) for xi in x, yi in y]\n",
    "\n",
    "scatter!(PTS_pair, label=\"Homotopy Continuation Points\")\n",
    "\n",
    "# Create the plot with more contours and smooth transitions\n",
    "contour(x, y, z, fill=true, color=:viridis,\n",
    "    xlabel=\"x\", ylabel=\"y\", levels=50, c=:viridis)"
   ]
  },
  {
   "cell_type": "code",
   "execution_count": null,
   "metadata": {},
   "outputs": [],
   "source": [
    "plotlyjs()\n",
    "\n",
    "plot(x, y, z, st=:surface, title=\"3D plot of tref(x,y)\", xlabel=\"x\", ylabel=\"y\", zlabel=\"z\", color=:viridis)\n"
   ]
  },
  {
   "cell_type": "code",
   "execution_count": null,
   "metadata": {},
   "outputs": [],
   "source": [
    "\n",
    "using Distances\n",
    "plotlyjs()\n",
    "\n",
    "# Define the function and domain\n",
    "\n",
    "# Generate the grid and evaluate the function\n",
    "N = 50  # resolution of the grid\n",
    "x = range(-C, C, length=N)\n",
    "y = range(-C, C, length=N)\n",
    "z = [tref(xi, yi) for xi in x, yi in y]\n",
    "\n",
    "# Convert z to a matrix for easier indexing\n",
    "z_matrix = reshape(z, N, N)\n",
    "\n",
    "# Function to find local minima and maxima\n",
    "function find_extrema(z::Array{Float64,2})\n",
    "    n, m = size(z)\n",
    "    minima = []\n",
    "    maxima = []\n",
    "    for i in 2:n-1\n",
    "        for j in 2:m-1\n",
    "            neighborhood = z[i-1:i+1, j-1:j+1]\n",
    "            center = z[i, j]\n",
    "            if center == minimum(neighborhood)\n",
    "                push!(minima, (i, j))\n",
    "            elseif center == maximum(neighborhood)\n",
    "                push!(maxima, (i, j))\n",
    "            end\n",
    "        end\n",
    "    end\n",
    "    return minima, maxima\n",
    "end\n",
    "\n",
    "# Find local minima and maxima\n",
    "minima_indices, maxima_indices = find_extrema(z_matrix)\n",
    "\n",
    "# Extract the coordinates of the minima and maxima\n",
    "minima_coords = [(x[i], y[j]) for (i, j) in minima_indices]\n",
    "maxima_coords = [(x[i], y[j]) for (i, j) in maxima_indices]\n",
    "\n",
    "# Combine minima and maxima coordinates\n",
    "extrema_coords = vcat(minima_coords, maxima_coords)\n",
    "\n",
    "# Compute pairwise distances between all extrema\n",
    "dist_matrix = pairwise(Euclidean(), extrema_coords)\n",
    "\n",
    "# Find the minimum non-zero distance\n",
    "min_dist = minimum(dist_matrix[dist_matrix.>0])\n",
    "\n",
    "# The smallest radius for disjoint circles is half of the minimum distance\n",
    "radius = min_dist / 2\n",
    "\n",
    "# Create the 2D contour plot\n",
    "contour(x, y, z_matrix, fill=true, color=:viridis, title=\"Contour plot of tref(x,y) with Minima and Maxima\",\n",
    "    xlabel=\"x\", ylabel=\"y\", levels=30, smooth=true, c=:viridis)\n",
    "\n",
    "# Plot the minima and maxima points\n",
    "scatter!(first.(minima_coords), last.(minima_coords), color=\"blue\", marker=:circle, label=\"Minima\")\n",
    "scatter!(first.(maxima_coords), last.(maxima_coords), color=\"red\", marker=:diamond, label=\"Maxima\")\n",
    "\n",
    "# Plot circles around each extremum\n",
    "for coord in extrema_coords\n",
    "    scatter!([coord[1]], [coord[2]], m=(0.1, :black), label=false)\n",
    "    plot!([coord[1] .+ radius * cos(θ) for θ in range(0, stop=2pi, length=100)],\n",
    "        [coord[2] .+ radius * sin(θ) for θ in range(0, stop=2pi, length=100)],\n",
    "        color=:black, label=false)\n",
    "end\n"
   ]
  },
  {
   "cell_type": "markdown",
   "metadata": {},
   "source": [
    "Generate the discrete L2-norm of the error of $f(x,y)$ and the approximant $p(x, y)$ on a grid of size $100\\times 100$"
   ]
  }
 ],
 "metadata": {
  "kernelspec": {
   "display_name": "Julia 1.10.4",
   "language": "julia",
   "name": "julia-1.10"
  },
  "language_info": {
   "file_extension": ".jl",
   "mimetype": "application/julia",
   "name": "julia",
   "version": "1.10.4"
  }
 },
 "nbformat": 4,
 "nbformat_minor": 2
}
