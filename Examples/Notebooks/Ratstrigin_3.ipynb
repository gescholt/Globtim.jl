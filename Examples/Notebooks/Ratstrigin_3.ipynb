{
 "cells": [
  {
   "cell_type": "code",
   "execution_count": 1,
   "metadata": {},
   "outputs": [
    {
     "name": "stderr",
     "output_type": "stream",
     "text": [
      "\u001b[32m\u001b[1m  Activating\u001b[22m\u001b[39m project at `~/globtim`\n"
     ]
    },
    {
     "data": {
      "text/plain": [
       "Rastringin (generic function with 1 method)"
      ]
     },
     "metadata": {},
     "output_type": "display_data"
    }
   ],
   "source": [
    "using Pkg\n",
    "using Revise\n",
    "Pkg.activate(joinpath(@__DIR__, \"../../\"))\n",
    "using Globtim\n",
    "using DynamicPolynomials, DataFrames\n",
    "# Constants and Parameters\n",
    "const n, a, b = 3, 1, 1\n",
    "const scale_factor = a / b   # Scaling factor appears in `main_computation`, maybe it should be a parameter.\n",
    "const delta, alpha = 0.5, 1 / 10  # Sampling parameters\n",
    "const tol_l2 = 3e-4            # Define the tolerance for the L2-norm\n",
    "f = Rastringin # Objective function"
   ]
  },
  {
   "cell_type": "markdown",
   "metadata": {},
   "source": [
    "We set the number of samples used to generate the approximant. It is annoying that the error goes up while the degree has increased."
   ]
  },
  {
   "cell_type": "code",
   "execution_count": 1,
   "metadata": {},
   "outputs": [
    {
     "ename": "UndefVarError",
     "evalue": "UndefVarError: `n` not defined in `Main`\nSuggestion: check for spelling errors or missing imports.",
     "output_type": "error",
     "traceback": [
      "UndefVarError: `n` not defined in `Main`\n",
      "Suggestion: check for spelling errors or missing imports.\n",
      "\n",
      "Stacktrace:\n",
      " [1] top-level scope\n",
      "   @ ~/globtim/Examples/Notebooks/jl_notebook_cell_df34fa98e69747e1a8f8a730347b8e2f_W2sZmlsZQ==.jl:4"
     ]
    }
   ],
   "source": [
    "rand_center = [0.0, 0.0, 0,];\n",
    "d = 10 # initial degree \n",
    "SMPL = 40 # Number of samples\n",
    "TR = test_input(f, \n",
    "                dim = n,\n",
    "                center=rand_center,\n",
    "                GN=SMPL, \n",
    "                sample_range=scale_factor, \n",
    "                degree_max =d+4\n",
    "                )\n",
    "pol_cheb = Constructor(TR, d, basis=:chebyshev)\n",
    "pol_lege = Constructor(TR, d, basis=:legendre);\n",
    "\n",
    "@polyvar(x[1:n]); # Define polynomial ring "
   ]
  },
  {
   "cell_type": "markdown",
   "metadata": {},
   "source": [
    "Solve the system of partial derivatives using `Homotopy_COntinuation.jl`. "
   ]
  },
  {
   "cell_type": "code",
   "execution_count": null,
   "metadata": {},
   "outputs": [
    {
     "name": "stdout",
     "output_type": "stream",
     "text": [
      "Dimension m of the vector space: 286\n",
      "\u001b[32mTracking 729 paths...   0%|▏                            |  ETA: 0:34:16\u001b[39m\u001b[K\n",
      "\n",
      "\n",
      "\n",
      "\u001b[32mTracking 729 paths... 100%|█████████████████████████████| Time: 0:00:06\u001b[39m\u001b[K\n",
      "\u001b[34m  # paths tracked:                  729\u001b[39m\u001b[K\n",
      "\u001b[34m  # non-singular solutions (real):  729 (125)\u001b[39m\u001b[K\n",
      "\u001b[34m  # singular endpoints (real):      0 (0)\u001b[39m\u001b[K\n",
      "\u001b[34m  # total solutions (real):         729 (125)\u001b[39m\u001b[K\n",
      "\n",
      "=== Starting Critical Points Processing (dimension: 3) ===\n",
      "Processed 125 points (0.077s)\n"
     ]
    },
    {
     "data": {
      "text/html": [
       "<div><div style = \"float: left;\"><span>125×4 DataFrame</span></div><div style = \"float: right;\"><span style = \"font-style: italic;\">100 rows omitted</span></div><div style = \"clear: both;\"></div></div><div class = \"data-frame\" style = \"overflow-x: scroll;\"><table class = \"data-frame\" style = \"margin-bottom: 6px;\"><thead><tr class = \"header\"><th class = \"rowNumber\" style = \"font-weight: bold; text-align: right;\">Row</th><th style = \"text-align: left;\">x1</th><th style = \"text-align: left;\">x2</th><th style = \"text-align: left;\">x3</th><th style = \"text-align: left;\">z</th></tr><tr class = \"subheader headerLastRow\"><th class = \"rowNumber\" style = \"font-weight: bold; text-align: right;\"></th><th title = \"Float64\" style = \"text-align: left;\">Float64</th><th title = \"Float64\" style = \"text-align: left;\">Float64</th><th title = \"Float64\" style = \"text-align: left;\">Float64</th><th title = \"Float64\" style = \"text-align: left;\">Float64</th></tr></thead><tbody><tr><td class = \"rowNumber\" style = \"font-weight: bold; text-align: right;\">1</td><td style = \"text-align: right;\">-1.07878e-17</td><td style = \"text-align: right;\">-1.13714e-16</td><td style = \"text-align: right;\">1.90256e-17</td><td style = \"text-align: right;\">-30.0</td></tr><tr><td class = \"rowNumber\" style = \"font-weight: bold; text-align: right;\">2</td><td style = \"text-align: right;\">-1.53547e-17</td><td style = \"text-align: right;\">-0.991184</td><td style = \"text-align: right;\">5.43618e-16</td><td style = \"text-align: right;\">-29.0022</td></tr><tr><td class = \"rowNumber\" style = \"font-weight: bold; text-align: right;\">3</td><td style = \"text-align: right;\">-1.20943e-17</td><td style = \"text-align: right;\">-1.5946e-16</td><td style = \"text-align: right;\">0.991184</td><td style = \"text-align: right;\">-29.0022</td></tr><tr><td class = \"rowNumber\" style = \"font-weight: bold; text-align: right;\">4</td><td style = \"text-align: right;\">-5.65745e-18</td><td style = \"text-align: right;\">0.991184</td><td style = \"text-align: right;\">2.6312e-16</td><td style = \"text-align: right;\">-29.0022</td></tr><tr><td class = \"rowNumber\" style = \"font-weight: bold; text-align: right;\">5</td><td style = \"text-align: right;\">0.991184</td><td style = \"text-align: right;\">-3.88227e-17</td><td style = \"text-align: right;\">4.47476e-18</td><td style = \"text-align: right;\">-29.0022</td></tr><tr><td class = \"rowNumber\" style = \"font-weight: bold; text-align: right;\">6</td><td style = \"text-align: right;\">-0.991184</td><td style = \"text-align: right;\">-3.92811e-17</td><td style = \"text-align: right;\">1.0711e-17</td><td style = \"text-align: right;\">-29.0022</td></tr><tr><td class = \"rowNumber\" style = \"font-weight: bold; text-align: right;\">7</td><td style = \"text-align: right;\">-1.08507e-17</td><td style = \"text-align: right;\">-2.97316e-16</td><td style = \"text-align: right;\">-0.991184</td><td style = \"text-align: right;\">-29.0022</td></tr><tr><td class = \"rowNumber\" style = \"font-weight: bold; text-align: right;\">8</td><td style = \"text-align: right;\">0.991184</td><td style = \"text-align: right;\">0.991184</td><td style = \"text-align: right;\">2.27085e-16</td><td style = \"text-align: right;\">-28.0044</td></tr><tr><td class = \"rowNumber\" style = \"font-weight: bold; text-align: right;\">9</td><td style = \"text-align: right;\">0.991184</td><td style = \"text-align: right;\">-0.991184</td><td style = \"text-align: right;\">5.15841e-16</td><td style = \"text-align: right;\">-28.0044</td></tr><tr><td class = \"rowNumber\" style = \"font-weight: bold; text-align: right;\">10</td><td style = \"text-align: right;\">-0.991184</td><td style = \"text-align: right;\">-0.991184</td><td style = \"text-align: right;\">5.22777e-16</td><td style = \"text-align: right;\">-28.0044</td></tr><tr><td class = \"rowNumber\" style = \"font-weight: bold; text-align: right;\">11</td><td style = \"text-align: right;\">0.991184</td><td style = \"text-align: right;\">-1.11233e-16</td><td style = \"text-align: right;\">0.991184</td><td style = \"text-align: right;\">-28.0044</td></tr><tr><td class = \"rowNumber\" style = \"font-weight: bold; text-align: right;\">12</td><td style = \"text-align: right;\">-1.18489e-17</td><td style = \"text-align: right;\">-0.991184</td><td style = \"text-align: right;\">0.991184</td><td style = \"text-align: right;\">-28.0044</td></tr><tr><td class = \"rowNumber\" style = \"font-weight: bold; text-align: right;\">13</td><td style = \"text-align: right;\">-0.991184</td><td style = \"text-align: right;\">0.991184</td><td style = \"text-align: right;\">2.34123e-16</td><td style = \"text-align: right;\">-28.0044</td></tr><tr><td style = \"text-align: right;\">&vellip;</td><td style = \"text-align: right;\">&vellip;</td><td style = \"text-align: right;\">&vellip;</td><td style = \"text-align: right;\">&vellip;</td><td style = \"text-align: right;\">&vellip;</td></tr><tr><td class = \"rowNumber\" style = \"font-weight: bold; text-align: right;\">114</td><td style = \"text-align: right;\">-0.502484</td><td style = \"text-align: right;\">0.502484</td><td style = \"text-align: right;\">0.991184</td><td style = \"text-align: right;\">11.5003</td></tr><tr><td class = \"rowNumber\" style = \"font-weight: bold; text-align: right;\">115</td><td style = \"text-align: right;\">-0.502484</td><td style = \"text-align: right;\">-0.502484</td><td style = \"text-align: right;\">-0.991184</td><td style = \"text-align: right;\">11.5003</td></tr><tr><td class = \"rowNumber\" style = \"font-weight: bold; text-align: right;\">116</td><td style = \"text-align: right;\">0.502484</td><td style = \"text-align: right;\">-0.502484</td><td style = \"text-align: right;\">-0.991184</td><td style = \"text-align: right;\">11.5003</td></tr><tr><td class = \"rowNumber\" style = \"font-weight: bold; text-align: right;\">117</td><td style = \"text-align: right;\">0.991184</td><td style = \"text-align: right;\">-0.502484</td><td style = \"text-align: right;\">-0.502484</td><td style = \"text-align: right;\">11.5003</td></tr><tr><td class = \"rowNumber\" style = \"font-weight: bold; text-align: right;\">118</td><td style = \"text-align: right;\">0.502484</td><td style = \"text-align: right;\">0.502484</td><td style = \"text-align: right;\">-0.502484</td><td style = \"text-align: right;\">30.7538</td></tr><tr><td class = \"rowNumber\" style = \"font-weight: bold; text-align: right;\">119</td><td style = \"text-align: right;\">-0.502484</td><td style = \"text-align: right;\">-0.502484</td><td style = \"text-align: right;\">-0.502484</td><td style = \"text-align: right;\">30.7538</td></tr><tr><td class = \"rowNumber\" style = \"font-weight: bold; text-align: right;\">120</td><td style = \"text-align: right;\">0.502484</td><td style = \"text-align: right;\">-0.502484</td><td style = \"text-align: right;\">-0.502484</td><td style = \"text-align: right;\">30.7538</td></tr><tr><td class = \"rowNumber\" style = \"font-weight: bold; text-align: right;\">121</td><td style = \"text-align: right;\">-0.502484</td><td style = \"text-align: right;\">0.502484</td><td style = \"text-align: right;\">-0.502484</td><td style = \"text-align: right;\">30.7538</td></tr><tr><td class = \"rowNumber\" style = \"font-weight: bold; text-align: right;\">122</td><td style = \"text-align: right;\">-0.502484</td><td style = \"text-align: right;\">-0.502484</td><td style = \"text-align: right;\">0.502484</td><td style = \"text-align: right;\">30.7538</td></tr><tr><td class = \"rowNumber\" style = \"font-weight: bold; text-align: right;\">123</td><td style = \"text-align: right;\">0.502484</td><td style = \"text-align: right;\">-0.502484</td><td style = \"text-align: right;\">0.502484</td><td style = \"text-align: right;\">30.7538</td></tr><tr><td class = \"rowNumber\" style = \"font-weight: bold; text-align: right;\">124</td><td style = \"text-align: right;\">-0.502484</td><td style = \"text-align: right;\">0.502484</td><td style = \"text-align: right;\">0.502484</td><td style = \"text-align: right;\">30.7538</td></tr><tr><td class = \"rowNumber\" style = \"font-weight: bold; text-align: right;\">125</td><td style = \"text-align: right;\">0.502484</td><td style = \"text-align: right;\">0.502484</td><td style = \"text-align: right;\">0.502484</td><td style = \"text-align: right;\">30.7538</td></tr></tbody></table></div>"
      ],
      "text/latex": [
       "\\begin{tabular}{r|cccc}\n",
       "\t& x1 & x2 & x3 & z\\\\\n",
       "\t\\hline\n",
       "\t& Float64 & Float64 & Float64 & Float64\\\\\n",
       "\t\\hline\n",
       "\t1 & -1.07878e-17 & -1.13714e-16 & 1.90256e-17 & -30.0 \\\\\n",
       "\t2 & -1.53547e-17 & -0.991184 & 5.43618e-16 & -29.0022 \\\\\n",
       "\t3 & -1.20943e-17 & -1.5946e-16 & 0.991184 & -29.0022 \\\\\n",
       "\t4 & -5.65745e-18 & 0.991184 & 2.6312e-16 & -29.0022 \\\\\n",
       "\t5 & 0.991184 & -3.88227e-17 & 4.47476e-18 & -29.0022 \\\\\n",
       "\t6 & -0.991184 & -3.92811e-17 & 1.0711e-17 & -29.0022 \\\\\n",
       "\t7 & -1.08507e-17 & -2.97316e-16 & -0.991184 & -29.0022 \\\\\n",
       "\t8 & 0.991184 & 0.991184 & 2.27085e-16 & -28.0044 \\\\\n",
       "\t9 & 0.991184 & -0.991184 & 5.15841e-16 & -28.0044 \\\\\n",
       "\t10 & -0.991184 & -0.991184 & 5.22777e-16 & -28.0044 \\\\\n",
       "\t11 & 0.991184 & -1.11233e-16 & 0.991184 & -28.0044 \\\\\n",
       "\t12 & -1.18489e-17 & -0.991184 & 0.991184 & -28.0044 \\\\\n",
       "\t13 & -0.991184 & 0.991184 & 2.34123e-16 & -28.0044 \\\\\n",
       "\t14 & -3.5363e-18 & 0.991184 & 0.991184 & -28.0044 \\\\\n",
       "\t15 & -0.991184 & -1.12713e-16 & 0.991184 & -28.0044 \\\\\n",
       "\t16 & 0.991184 & -2.38384e-16 & -0.991184 & -28.0044 \\\\\n",
       "\t17 & -0.991184 & -2.40346e-16 & -0.991184 & -28.0044 \\\\\n",
       "\t18 & -6.31515e-18 & 0.991184 & -0.991184 & -28.0044 \\\\\n",
       "\t19 & 1.55111e-18 & -0.991184 & -0.991184 & -28.0044 \\\\\n",
       "\t20 & 0.991184 & 0.991184 & 0.991184 & -27.0066 \\\\\n",
       "\t21 & -0.991184 & 0.991184 & 0.991184 & -27.0066 \\\\\n",
       "\t22 & -0.991184 & -0.991184 & 0.991184 & -27.0066 \\\\\n",
       "\t23 & -0.991184 & -0.991184 & -0.991184 & -27.0066 \\\\\n",
       "\t24 & 0.991184 & 0.991184 & -0.991184 & -27.0066 \\\\\n",
       "\t$\\dots$ & $\\dots$ & $\\dots$ & $\\dots$ & $\\dots$ \\\\\n",
       "\\end{tabular}\n"
      ],
      "text/plain": [
       "\u001b[1m125×4 DataFrame\u001b[0m\n",
       "\u001b[1m Row \u001b[0m│\u001b[1m x1           \u001b[0m\u001b[1m x2           \u001b[0m\u001b[1m x3           \u001b[0m\u001b[1m z        \u001b[0m\n",
       "     │\u001b[90m Float64      \u001b[0m\u001b[90m Float64      \u001b[0m\u001b[90m Float64      \u001b[0m\u001b[90m Float64  \u001b[0m\n",
       "─────┼────────────────────────────────────────────────────\n",
       "   1 │ -1.07878e-17  -1.13714e-16   1.90256e-17  -30.0\n",
       "   2 │ -1.53547e-17  -0.991184      5.43618e-16  -29.0022\n",
       "   3 │ -1.20943e-17  -1.5946e-16    0.991184     -29.0022\n",
       "   4 │ -5.65745e-18   0.991184      2.6312e-16   -29.0022\n",
       "   5 │  0.991184     -3.88227e-17   4.47476e-18  -29.0022\n",
       "   6 │ -0.991184     -3.92811e-17   1.0711e-17   -29.0022\n",
       "   7 │ -1.08507e-17  -2.97316e-16  -0.991184     -29.0022\n",
       "   8 │  0.991184      0.991184      2.27085e-16  -28.0044\n",
       "  ⋮  │      ⋮             ⋮             ⋮           ⋮\n",
       " 119 │ -0.502484     -0.502484     -0.502484      30.7538\n",
       " 120 │  0.502484     -0.502484     -0.502484      30.7538\n",
       " 121 │ -0.502484      0.502484     -0.502484      30.7538\n",
       " 122 │ -0.502484     -0.502484      0.502484      30.7538\n",
       " 123 │  0.502484     -0.502484      0.502484      30.7538\n",
       " 124 │ -0.502484      0.502484      0.502484      30.7538\n",
       " 125 │  0.502484      0.502484      0.502484      30.7538\n",
       "\u001b[36m                                          110 rows omitted\u001b[0m"
      ]
     },
     "metadata": {},
     "output_type": "display_data"
    }
   ],
   "source": [
    "# df_cheb = solve_and_parse(pol_cheb, x, f, TR)\n",
    "pts_cheb = solve_polynomial_system(x, TR.dim, d, pol_cheb.coeffs; basis=:chebyshev)\n",
    "df_cheb = process_crit_pts(pts_cheb, f, TR)\n",
    "sort!(df_cheb, :z, rev=false)"
   ]
  },
  {
   "cell_type": "code",
   "execution_count": 4,
   "metadata": {},
   "outputs": [],
   "source": [
    "using GLMakie"
   ]
  },
  {
   "cell_type": "code",
   "execution_count": 5,
   "metadata": {},
   "outputs": [],
   "source": [
    "grid = scale_factor * generate_grid(3, 100)  # 3D grid\n",
    "values = map(f, grid); # Prepare level set data for specific level"
   ]
  },
  {
   "cell_type": "code",
   "execution_count": 6,
   "metadata": {},
   "outputs": [],
   "source": [
    "fig = create_level_set_visualization(f, grid, df_cheb, (-30.0, 30.))"
   ]
  },
  {
   "cell_type": "code",
   "execution_count": 7,
   "metadata": {},
   "outputs": [],
   "source": [
    "GLMakie.closeall()"
   ]
  }
 ],
 "metadata": {
  "kernelspec": {
   "display_name": "Julia 1.11.3",
   "language": "julia",
   "name": "julia-1.11"
  },
  "language_info": {
   "file_extension": ".jl",
   "mimetype": "application/julia",
   "name": "julia",
   "version": "1.11.3"
  }
 },
 "nbformat": 4,
 "nbformat_minor": 2
}
