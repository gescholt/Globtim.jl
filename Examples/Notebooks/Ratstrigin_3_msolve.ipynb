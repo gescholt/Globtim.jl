{
 "cells": [
  {
   "cell_type": "code",
   "execution_count": 1,
   "metadata": {},
   "outputs": [
    {
     "name": "stderr",
     "output_type": "stream",
     "text": [
      "\u001b[32m\u001b[1m  Activating\u001b[22m\u001b[39m project at `~/globtim`\n"
     ]
    },
    {
     "data": {
      "text/plain": [
       "Rastringin (generic function with 1 method)"
      ]
     },
     "metadata": {},
     "output_type": "display_data"
    }
   ],
   "source": [
    "using Pkg\n",
    "Pkg.activate(joinpath(@__DIR__, \"../../\"))\n",
    "using Globtim\n",
    "using DynamicPolynomials, DataFrames\n",
    "# Constants and Parameters\n",
    "const n, a, b = 3, 1, 1\n",
    "const scale_factor = a / b   # Scaling factor appears in `main_computation`, maybe it should be a parameter.\n",
    "const delta, alpha = 0.5, 1 / 10  # Sampling parameters\n",
    "const tol_l2 = 3e-4            # Define the tolerance for the L2-norm\n",
    "f = Rastringin # Objective function"
   ]
  },
  {
   "cell_type": "markdown",
   "metadata": {},
   "source": [
    "We set the number of samples used to generate the approximant. It is annoying that the error goes up while the degree has increased."
   ]
  },
  {
   "cell_type": "code",
   "execution_count": null,
   "metadata": {},
   "outputs": [],
   "source": [
    "rand_center = [0.0, 0.0, 0,];\n",
    "d = 10 # initial degree \n",
    "SMPL = 40 # Number of samples\n",
    "TR = test_input(f, \n",
    "                dim = n,\n",
    "                center=rand_center,\n",
    "                GN=SMPL, \n",
    "                sample_range=scale_factor, \n",
    "                degree_max =d+4\n",
    "                )\n",
    "pol_cheb = Constructor(TR, d, basis=:chebyshev)\n",
    "# pol_lege = Constructor(TR, d, basis=:legendre);\n",
    "\n",
    "@polyvar(x[1:n]); # Define polynomial ring "
   ]
  },
  {
   "cell_type": "markdown",
   "metadata": {},
   "source": [
    "Solve the system of partial derivatives using `Msolve`. We should allow for points slightly outside the domain. "
   ]
  },
  {
   "cell_type": "code",
   "metadata": {},
   "outputs": [],
   "source": "df_cheb = solve_and_parse(pol_cheb, x, f, TR)\nsort!(df_cheb, :z, rev=false)\n\n# Enhanced analysis with new statistics  \nusing Optim\ndf_cheb_enhanced, df_min_cheb = analyze_critical_points(f, df_cheb, TR, tol_dist=0.05, verbose=true)\n\nprintln(\"\\n=== Enhanced Statistics Summary ===\")\nprintln(\"Enhanced DataFrame columns: $(names(df_cheb_enhanced))\")\nprintln(\"Enhanced DataFrame size: $(size(df_cheb_enhanced))\")\nprintln(\"Minimizers DataFrame columns: $(names(df_min_cheb))\")\nprintln(\"Minimizers DataFrame size: $(size(df_min_cheb))\")\n\nprintln(\"\\n=== Sample Enhanced Data ===\")\nif nrow(df_cheb_enhanced) > 0 && :region_id in names(df_cheb_enhanced)\n    println(\"First 3 rows with enhanced statistics:\")\n    enhanced_cols = [:x1, :x2, :x3, :z, :region_id, :function_value_cluster, :nearest_neighbor_dist, :gradient_norm]\n    available_cols = [col for col in enhanced_cols if col in names(df_cheb_enhanced)]\n    println(first(df_cheb_enhanced[!, available_cols], 3))\nend\n\nif nrow(df_min_cheb) > 0 && :basin_points in names(df_min_cheb)\n    println(\"\\nMinimizers with basin analysis:\")\n    basin_cols = [:x1, :x2, :x3, :value, :basin_points, :average_convergence_steps, :region_coverage_count, :gradient_norm_at_min]\n    available_basin_cols = [col for col in basin_cols if col in names(df_min_cheb)]\n    println(df_min_cheb[!, available_basin_cols])\nend\n\n# Update df_cheb to use enhanced version for visualization\ndf_cheb = df_cheb_enhanced"
  },
  {
   "cell_type": "code",
   "execution_count": null,
   "metadata": {},
   "outputs": [],
   "source": [
    "# using StaticArrays\n",
    "using GLMakie"
   ]
  },
  {
   "cell_type": "code",
   "execution_count": null,
   "metadata": {},
   "outputs": [],
   "source": [
    "grid = scale_factor * generate_grid(3, 100)  # 3D grid\n",
    "values = map(f, grid); # Prepare level set data for specific level"
   ]
  },
  {
   "cell_type": "code",
   "execution_count": null,
   "metadata": {},
   "outputs": [],
   "source": [
    "fig = create_level_set_visualization(f, grid, df_cheb, (-30.0, 30.))"
   ]
  },
  {
   "cell_type": "code",
   "execution_count": null,
   "metadata": {},
   "outputs": [],
   "source": [
    "# GLMakie.closeall()"
   ]
  }
 ],
 "metadata": {
  "kernelspec": {
   "display_name": "Julia 1.11.3",
   "language": "julia",
   "name": "julia-1.11"
  },
  "language_info": {
   "file_extension": ".jl",
   "mimetype": "application/julia",
   "name": "julia",
   "version": "1.11.3"
  }
 },
 "nbformat": 4,
 "nbformat_minor": 2
}