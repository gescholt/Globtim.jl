{
 "cells": [
  {
   "cell_type": "code",
   "execution_count": 1,
   "metadata": {},
   "outputs": [
    {
     "data": {
      "text/plain": [
       "tref (generic function with 1 method)"
      ]
     },
     "metadata": {},
     "output_type": "display_data"
    }
   ],
   "source": [
    "include(\"optim_lib.jl\")\n",
    "include(\"lib_func.jl\")\n",
    "\n",
    "# Constants and Parameters\n",
    "d1, d2, ds = 10, 10, 1  # Degree range and step\n",
    "const n, a, b = 2, 2, 10 \n",
    "const C = a / b  # Scaling constant, C is appears in `main_computation`, maybe it should be a parameter.\n",
    "const delta, alph = .5 , 9 / 10  # Sampling parameters\n",
    "f = tref # Objective function"
   ]
  },
  {
   "cell_type": "code",
   "execution_count": 2,
   "metadata": {},
   "outputs": [
    {
     "name": "stdout",
     "output_type": "stream",
     "text": [
      "dimension Vector space: 66\n",
      "sample size: 729\n",
      "dimension Vector space: 66\n",
      "sample size: 729\n"
     ]
    },
    {
     "data": {
      "text/plain": [
       "1-element Vector{Vector{BigFloat}}:\n",
       " [1.163396863853211792393444463025765380254987769974704233637658564137226148884713, 0.08794815361798803194743677254502048381208877958083788106651677212839702996209218, -0.082035570920905304153729651735062090770951067987921054470919342504065311122715, 0.2713670219757378067816243157083952016817635912839023595445217956453260522563232, -0.07113466526678588274449848419104244162405784714636411969004963981550342296306271, -0.0781328685654424234865171447274294226031700901065300803076757301848493767959917, -0.03045695196712847785936389071031625962484552182295057806031375234941395919127915, -0.1537586009292908222689652826003441195379924808057757585227415401643231306512439, 0.0392607032272859444139790999714585680645738581026471605621421415339373836625261, 0.458363429688199085641268371049017768088086053376407038923021500462508029673575  …  -0.4604650893755408722260909791455069364261240629249595658982608680760197607310251, 3.20102699405426483462180378001755565832165250591467505846657378265271807599003e-18, -0.0002469048908728514342989113288176605565955821251053708326030241661934598059994719, -1.460279220769934410454536423141322779554988997163706598858454301493721959985068e-17, -0.003538945922998339687071132204554816961700182293102348274614236839411563894186813, -5.1165992117568162316592601901194251040182081693758472889068771403720428721865e-05, -1.596873288026049828959052995000405840780462338167974291842958271269611640190978e-17, -0.6477751841223469819801841827444039281433312408480001317412922245690763955316385, -4.197240374987160917190571186405752025405272426033021414683623970084061709723315e-17, 0.3658819653004998893651362775174775697164700712217162658728707854334547125564952]"
      ]
     },
     "metadata": {},
     "output_type": "display_data"
    }
   ],
   "source": [
    "coeffs_poly_approx = main_gen(f, n, d1, d2, ds, delta, alph, C, 0.1)\n",
    "coeffs_poly_precis = precise_gen(f, n, d1, d2, ds, delta, alph, C, 0.1)"
   ]
  },
  {
   "cell_type": "code",
   "execution_count": 3,
   "metadata": {},
   "outputs": [
    {
     "name": "stderr",
     "output_type": "stream",
     "text": [
      "\u001b[32mComputing mixed cells... 2    Time: 0:00:00\u001b[39m\u001b[K\n",
      "\u001b[32mComputing mixed cells... 14    Time: 0:00:02\u001b[39m\u001b[K\n",
      "\u001b[34m  mixed_volume:  81\u001b[39m\u001b[K\n"
     ]
    },
    {
     "name": "stdout",
     "output_type": "stream",
     "text": [
      "\u001b[32mTracking 81 paths...   2%|▊                             |  ETA: 0:08:02\u001b[39m\u001b[K\n",
      "\n",
      "\n",
      "\n",
      "\u001b[32mTracking 81 paths... 100%|██████████████████████████████| Time: 0:00:13\u001b[39m\u001b[K\n",
      "\u001b[34m  # paths tracked:                  81\u001b[39m\u001b[K\n",
      "\u001b[34m  # non-singular solutions (real):  81 (81)\u001b[39m\u001b[K\n",
      "\u001b[34m  # singular endpoints (real):      0 (0)\u001b[39m\u001b[K\n",
      "\u001b[34m  # total solutions (real):         81 (81)\u001b[39m\u001b[K\n",
      "Degree: 10\n",
      "Number of solutions: 64\n"
     ]
    },
    {
     "ename": "MethodError",
     "evalue": "MethodError: no method matching main_2d(::Int64, ::Int64, ::Int64, ::Int64, ::Vector{Vector{BigFloat}})\n\nClosest candidates are:\n  main_2d(::Int64, ::Int64, ::Int64, ::Int64, !Matched::Vector{Vector{Float64}})\n   @ Main ~/globtim/hom_solve.jl:58\n",
     "output_type": "error",
     "traceback": [
      "MethodError: no method matching main_2d(::Int64, ::Int64, ::Int64, ::Int64, ::Vector{Vector{BigFloat}})\n",
      "\n",
      "Closest candidates are:\n",
      "  main_2d(::Int64, ::Int64, ::Int64, ::Int64, !Matched::Vector{Vector{Float64}})\n",
      "   @ Main ~/globtim/hom_solve.jl:58\n",
      "\n",
      "\n",
      "Stacktrace:\n",
      " [1] top-level scope\n",
      "   @ ~/globtim/trefethen.ipynb:6"
     ]
    }
   ],
   "source": [
    "using DynamicPolynomials, MultivariatePolynomials, HomotopyContinuation, ProgressLogging, DataFrames\n",
    "\n",
    "include(\"hom_solve.jl\") # Include the homotopy solver and main function\n",
    "vars = @polyvar(x[1:n]) # Define polynomial ring \n",
    "h_x, h_y, col = main_2d(n, d1, d2, ds, coeffs_poly_approx) # main_2d is in hom_solve.jl\n",
    "h_prec_x, h_prec_y, col_prec = main_2d(n, d1, d2, ds, coeffs_poly_precis) # Is the type going to work here?\n",
    "df = DataFrame(x=C * h_x, y=C * h_y, col=col)\n",
    "df[!, :result] = [f([df.x[i], df.y[i]]) for i in 1:nrow(df)];\n",
    "df[!, :local_minima] = zeros(nrow(df))\n",
    "df[!, :distance_to_minima] = zeros(nrow(df))\n",
    "df[!, :steps] = zeros(Int, nrow(df))\n",
    "df[!, :converged] = falses(nrow(df))\n",
    "\n",
    "dh = DataFrame(x=C * h_prec_x, y=C * h_prec_y, col=col)\n",
    "dh[!, :result] = [f([dh.x[i], dh.y[i]]) for i in 1:nrow(dh)];\n",
    "dh[!, :local_minima] = zeros(nrow(dh))\n",
    "dh[!, :distance_to_minima] = zeros(nrow(dh))\n",
    "dh[!, :steps] = zeros(Int, nrow(dh))\n",
    "dh[!, :converged] = falses(nrow(dh))\n",
    "\n",
    "println(df)\n",
    "println(dh)"
   ]
  },
  {
   "cell_type": "markdown",
   "metadata": {},
   "source": [
    "Initialize Zeroth order optimization method at each of the critical points of the approximants. \n",
    "Record the distance between critical point and output of LBFGS."
   ]
  },
  {
   "cell_type": "code",
   "execution_count": 4,
   "metadata": {},
   "outputs": [
    {
     "ename": "UndefVarError",
     "evalue": "UndefVarError: `df` not defined",
     "output_type": "error",
     "traceback": [
      "UndefVarError: `df` not defined\n",
      "\n",
      "Stacktrace:\n",
      " [1] top-level scope\n",
      "   @ ~/globtim/trefethen.ipynb:2"
     ]
    }
   ],
   "source": [
    "using Optim\n",
    "for i in 1:nrow(df)\n",
    "    try\n",
    "        println(\"Optimizing for point $i\")\n",
    "        x0 = [df.x[i], df.y[i]]\n",
    "        res = Optim.optimize(f, x0, LBFGS(), Optim.Options(show_trace=true))\n",
    "        minimizer = Optim.minimizer(res)\n",
    "        min_value = Optim.minimum(res)\n",
    "        steps = res.iterations\n",
    "        converged = Optim.converged(res)\n",
    "        distance = norm(x0 - minimizer) \n",
    "        df.local_minima[i] = min_value\n",
    "        df.distance_to_minima[i] = distance\n",
    "        df.steps[i] = steps\n",
    "        df.converged[i] = converged\n",
    "    catch e\n",
    "        println(\"Error: $e\")\n",
    "    end\n",
    "end\n"
   ]
  },
  {
   "cell_type": "code",
   "execution_count": 5,
   "metadata": {},
   "outputs": [
    {
     "ename": "UndefVarError",
     "evalue": "UndefVarError: `filtered_df` not defined",
     "output_type": "error",
     "traceback": [
      "UndefVarError: `filtered_df` not defined\n",
      "\n",
      "Stacktrace:\n",
      " [1] top-level scope\n",
      "   @ ~/globtim/trefethen.ipynb:2"
     ]
    }
   ],
   "source": [
    "# filtered_df = df[df.col.==6, :];\n",
    "sorted_df = sort(filtered_df, :local_minima)"
   ]
  },
  {
   "cell_type": "markdown",
   "metadata": {},
   "source": [
    "Plot all the critical points on the contour plot of the objective, colored by degree."
   ]
  },
  {
   "cell_type": "code",
   "execution_count": 6,
   "metadata": {},
   "outputs": [],
   "source": [
    "using PlotlyJS, Colors\n",
    "\n",
    "# Generate the grid and evaluate the function\n",
    "N = 150  # resolution of the grid\n",
    "x = range(-C, C, length=N)\n",
    "y = range(-C, C, length=N)\n",
    "z = [f([xi, yi]) for yi in y, xi in x]\n",
    "# Generate a color palette based on the number of unique `col` values\n",
    "unique_cols = unique(df.col)\n",
    "num_colors = length(unique_cols)\n",
    "color_palette = distinguishable_colors(num_colors)\n",
    "# Map the `col` values to the corresponding colors\n",
    "col_to_color = Dict(unique_cols .=> color_palette)\n",
    "# Create individual scatter traces for each unique `col` value\n",
    "scatter_traces = [scatter(x=df[df.col .== c, :x], y=df[df.col .== c, :y], mode=\"markers\", marker=attr(color=col_to_color[c], size=5), name=\"Degree $c\") for c in unique_cols]\n",
    "# Create the contour plot\n",
    "cp = contour(x=x, y=y, z=z, ncontours=80, colorscale=\"Viridis\", showscale=false)\n",
    "# Combine contour plot and scatter traces\n",
    "all_traces = [cp; scatter_traces...]\n",
    "# Customize layout to handle legend groups\n",
    "layout = Layout(\n",
    "    title=\"Scatter and Contour Plot\",\n",
    "    xaxis_title=\"X-axis\",\n",
    "    yaxis_title=\"Y-axis\",\n",
    "    legend=(tracegroupgap=10, groupclick=\"toggleitem\"),\n",
    "    height=800 # Increase the height to make room for the legend \n",
    ")\n",
    "# Display the combined plot with legend\n",
    "display(plot(all_traces, layout))"
   ]
  },
  {
   "cell_type": "markdown",
   "metadata": {},
   "source": [
    "Doesn't make too much sense, but maybe we could plot the level sets of the polynomial approximants"
   ]
  },
  {
   "cell_type": "code",
   "execution_count": null,
   "metadata": {},
   "outputs": [],
   "source": [
    "# plot on subdomain \n",
    "SmC = 0.5 * C\n",
    "x = range(-C, C, length=N)\n",
    "y = range(-C, C, length=N)\n",
    "# Generate the grid and evaluate the function\n",
    "zi = [f([xi, yi]) for yi in y, xi in x]\n",
    "# Create the plot\n",
    "sf = surface(x=x, y=y, z=zi)\n",
    "# Layout for the plot\n",
    "layout = Layout(title=\"3D Plot of f(x, y) = sin(πx) * sin(πy)\",\n",
    "    scene=attr(\n",
    "        xaxis_title=\"x\",\n",
    "        yaxis_title=\"y\",\n",
    "        zaxis_title=\"f(x, y)\"\n",
    "    ))\n",
    "# Display the plot\n",
    "plot(sf, layout)"
   ]
  },
  {
   "cell_type": "markdown",
   "metadata": {},
   "source": []
  },
  {
   "cell_type": "code",
   "execution_count": null,
   "metadata": {},
   "outputs": [],
   "source": [
    "println(tref)"
   ]
  }
 ],
 "metadata": {
  "kernelspec": {
   "display_name": "Julia 1.10.4",
   "language": "julia",
   "name": "julia-1.10"
  },
  "language_info": {
   "file_extension": ".jl",
   "mimetype": "application/julia",
   "name": "julia",
   "version": "1.10.4"
  }
 },
 "nbformat": 4,
 "nbformat_minor": 2
}
