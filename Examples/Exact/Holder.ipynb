{
 "cells": [
  {
   "cell_type": "markdown",
   "metadata": {},
   "source": [
    "Holder Table Function \n",
    "=====================\n"
   ]
  },
  {
   "cell_type": "code",
   "execution_count": 1,
   "metadata": {},
   "outputs": [
    {
     "name": "stderr",
     "output_type": "stream",
     "text": [
      "\u001b[32m\u001b[1m  Activating\u001b[22m\u001b[39m project at `~/Globtim.jl`\n"
     ]
    },
    {
     "data": {
      "text/plain": [
       "HolderTable (generic function with 1 method)"
      ]
     },
     "metadata": {},
     "output_type": "display_data"
    }
   ],
   "source": [
    "using Pkg\n",
    "Pkg.activate(\"../../.\")\n",
    "using Globtim\n",
    "# include(\"../../../src/lib_func.jl\") # Include the library of functions\n",
    "\n",
    "# Constants and Parameters\n",
    "d = 2 # Initial Degree \n",
    "const n, a, b = 2, 10, 1 \n",
    "const scale_factor = a / b       # Scaling factor appears in `main_computation`, maybe it should be a parameter.\n",
    "const delta, alpha = .5 , 1 / 10  # Sampling parameters\n",
    "const tol_l2 = 1.5e-2            # Define the tolerance for the L2-norm\n",
    "\n",
    "f = HolderTable # Objective function"
   ]
  },
  {
   "cell_type": "code",
   "execution_count": 2,
   "metadata": {},
   "outputs": [
    {
     "name": "stdout",
     "output_type": "stream",
     "text": [
      "current L2-norm: 0.3225768101075613\n",
      "Number of samples: 8\n",
      "Current degree: 2\n",
      "current L2-norm: 0.34164522984081835\n",
      "Number of samples: 12\n",
      "Current degree: 3\n",
      "current L2-norm: 0.15420669778631205\n",
      "Number of samples: 17\n",
      "Current degree: 4\n",
      "current L2-norm: 0.16150972067976094\n",
      "Number of samples: 22\n",
      "Current degree: 5\n",
      "current L2-norm: 0.10982203454764894\n",
      "Number of samples: 28\n",
      "Current degree: 6\n",
      "current L2-norm: 0.09002980177601799\n",
      "Number of samples: 34\n",
      "Current degree: 7\n",
      "current L2-norm: 0.07219154289178054\n",
      "Number of samples: 41\n",
      "Current degree: 8\n",
      "current L2-norm: 0.061872080671082644\n",
      "Number of samples: 48\n",
      "Current degree: 9\n",
      "current L2-norm: 0.0424716817826579\n",
      "Number of samples: 56\n",
      "Current degree: 10\n",
      "current L2-norm: 0.03650326901605909\n",
      "Number of samples: 65\n",
      "Current degree: 11\n",
      "current L2-norm: 0.026535168562028325\n",
      "Number of samples: 74\n",
      "Current degree: 12\n",
      "current L2-norm: 0.02370545610011522\n",
      "Number of samples: 83\n",
      "Current degree: 13\n",
      "current L2-norm: 0.018346228636119927\n",
      "Number of samples: 93\n",
      "Current degree: 14\n",
      "current L2-norm: 0.016636834911585414\n",
      "Number of samples: 103\n",
      "Current degree: 15\n",
      "attained the desired L2-norm: 0.0130365366992963\n"
     ]
    }
   ],
   "source": [
    "while true # Potential infinite loop\n",
    "    global poly_approx = MainGenerate(f, 2, d, delta, alpha, scale_factor, 0.2) # computes the approximant in Chebyshev basis\n",
    "    if poly_approx.nrm < tol_l2\n",
    "        println(\"attained the desired L2-norm: \", poly_approx.nrm)\n",
    "        break\n",
    "    else\n",
    "        println(\"current L2-norm: \", poly_approx.nrm)\n",
    "        println(\"Number of samples: \", poly_approx.N)\n",
    "        println(\"Current degree: \", d)\n",
    "        global d += 1\n",
    "    end\n",
    "end;"
   ]
  },
  {
   "cell_type": "code",
   "execution_count": 3,
   "metadata": {},
   "outputs": [
    {
     "name": "stderr",
     "output_type": "stream",
     "text": [
      "\u001b[91m\u001b[1mERROR: \u001b[22m\u001b[39mLoadError: UndefVarError: `backend` not defined in `GPUArraysCore`\n",
      "Stacktrace:\n",
      " [1] \u001b[0m\u001b[1mgetproperty\u001b[22m\u001b[0m\u001b[1m(\u001b[22m\u001b[90mx\u001b[39m::\u001b[0mModule, \u001b[90mf\u001b[39m::\u001b[0mSymbol\u001b[0m\u001b[1m)\u001b[22m\n",
      "\u001b[90m   @\u001b[39m \u001b[90mBase\u001b[39m \u001b[90m./\u001b[39m\u001b[90m\u001b[4mBase.jl:42\u001b[24m\u001b[39m\n",
      " [2] top-level scope\n",
      "\u001b[90m   @\u001b[39m \u001b[90m~/.julia/packages/StructArrays/CjQ4L/ext/\u001b[39m\u001b[90m\u001b[4mStructArraysGPUArraysCoreExt.jl:12\u001b[24m\u001b[39m\n",
      " [3] \u001b[0m\u001b[1minclude\u001b[22m\n",
      "\u001b[90m   @\u001b[39m \u001b[90m./\u001b[39m\u001b[90m\u001b[4mBase.jl:557\u001b[24m\u001b[39m\u001b[90m [inlined]\u001b[39m\n",
      " [4] \u001b[0m\u001b[1minclude_package_for_output\u001b[22m\u001b[0m\u001b[1m(\u001b[22m\u001b[90mpkg\u001b[39m::\u001b[0mBase.PkgId, \u001b[90minput\u001b[39m::\u001b[0mString, \u001b[90mdepot_path\u001b[39m::\u001b[0mVector\u001b[90m{String}\u001b[39m, \u001b[90mdl_load_path\u001b[39m::\u001b[0mVector\u001b[90m{String}\u001b[39m, \u001b[90mload_path\u001b[39m::\u001b[0mVector\u001b[90m{String}\u001b[39m, \u001b[90mconcrete_deps\u001b[39m::\u001b[0mVector\u001b[90m{Pair{Base.PkgId, UInt128}}\u001b[39m, \u001b[90msource\u001b[39m::\u001b[0mString\u001b[0m\u001b[1m)\u001b[22m\n",
      "\u001b[90m   @\u001b[39m \u001b[90mBase\u001b[39m \u001b[90m./\u001b[39m\u001b[90m\u001b[4mloading.jl:2790\u001b[24m\u001b[39m\n",
      " [5] top-level scope\n",
      "\u001b[90m   @\u001b[39m \u001b[90m\u001b[4mstdin:5\u001b[24m\u001b[39m\n",
      "in expression starting at /Users/ghscholt/.julia/packages/StructArrays/CjQ4L/ext/StructArraysGPUArraysCoreExt.jl:1\n",
      "in expression starting at stdin:5\n",
      "┌ Error: Error during loading of extension StructArraysGPUArraysCoreExt of StructArrays, use `Base.retry_load_extensions()` to retry.\n",
      "│   exception = \u001b[0m1-element ExceptionStack:\n",
      "Failed to precompile StructArraysGPUArraysCoreExt [cbbf52aa-d660-55d4-8a5a-33845bbaa85d] to \"/Users/ghscholt/.julia/compiled/v1.11/StructArraysGPUArraysCoreExt/jl_QkyG2t\".\n",
      "Stacktrace:\n",
      "  [1] \u001b[0m\u001b[1merror\u001b[22m\u001b[0m\u001b[1m(\u001b[22m\u001b[90ms\u001b[39m::\u001b[0mString\u001b[0m\u001b[1m)\u001b[22m\n",
      "\u001b[90m    @\u001b[39m \u001b[90mBase\u001b[39m \u001b[90m./\u001b[39m\u001b[90m\u001b[4merror.jl:35\u001b[24m\u001b[39m\n",
      "  [2] \u001b[0m\u001b[1mcompilecache\u001b[22m\u001b[0m\u001b[1m(\u001b[22m\u001b[90mpkg\u001b[39m::\u001b[0mBase.PkgId, \u001b[90mpath\u001b[39m::\u001b[0mString, \u001b[90minternal_stderr\u001b[39m::\u001b[0mIO, \u001b[90minternal_stdout\u001b[39m::\u001b[0mIO, \u001b[90mkeep_loaded_modules\u001b[39m::\u001b[0mBool; \u001b[90mflags\u001b[39m::\u001b[0mCmd, \u001b[90mcacheflags\u001b[39m::\u001b[0mBase.CacheFlags, \u001b[90mreasons\u001b[39m::\u001b[0mDict\u001b[90m{String, Int64}\u001b[39m, \u001b[90misext\u001b[39m::\u001b[0mBool\u001b[0m\u001b[1m)\u001b[22m\n",
      "\u001b[90m    @\u001b[39m \u001b[90mBase\u001b[39m \u001b[90m./\u001b[39m\u001b[90m\u001b[4mloading.jl:3085\u001b[24m\u001b[39m\n",
      "  [3] \u001b[0m\u001b[1m(::Base.var\"#1082#1083\"{Base.PkgId})\u001b[22m\u001b[0m\u001b[1m(\u001b[22m\u001b[0m\u001b[1m)\u001b[22m\n",
      "\u001b[90m    @\u001b[39m \u001b[90mBase\u001b[39m \u001b[90m./\u001b[39m\u001b[90m\u001b[4mloading.jl:2492\u001b[24m\u001b[39m\n",
      "  [4] \u001b[0m\u001b[1mmkpidlock\u001b[22m\u001b[0m\u001b[1m(\u001b[22m\u001b[90mf\u001b[39m::\u001b[0mBase.var\"#1082#1083\"\u001b[90m{Base.PkgId}\u001b[39m, \u001b[90mat\u001b[39m::\u001b[0mString, \u001b[90mpid\u001b[39m::\u001b[0mInt32; \u001b[90mkwopts\u001b[39m::\u001b[0m@Kwargs\u001b[90m{stale_age::Int64, wait::Bool}\u001b[39m\u001b[0m\u001b[1m)\u001b[22m\n",
      "\u001b[90m    @\u001b[39m \u001b[35mFileWatching.Pidfile\u001b[39m \u001b[90m~/.julia/juliaup/julia-1.11.1+0.x64.apple.darwin14/share/julia/stdlib/v1.11/FileWatching/src/\u001b[39m\u001b[90m\u001b[4mpidfile.jl:95\u001b[24m\u001b[39m\n",
      "  [5] \u001b[0m\u001b[1m#mkpidlock#6\u001b[22m\n",
      "\u001b[90m    @\u001b[39m \u001b[90m~/.julia/juliaup/julia-1.11.1+0.x64.apple.darwin14/share/julia/stdlib/v1.11/FileWatching/src/\u001b[39m\u001b[90m\u001b[4mpidfile.jl:90\u001b[24m\u001b[39m\u001b[90m [inlined]\u001b[39m\n",
      "  [6] \u001b[0m\u001b[1mtrymkpidlock\u001b[22m\u001b[0m\u001b[1m(\u001b[22m::\u001b[0mFunction, ::\u001b[0mVararg\u001b[90m{Any}\u001b[39m; \u001b[90mkwargs\u001b[39m::\u001b[0m@Kwargs\u001b[90m{stale_age::Int64}\u001b[39m\u001b[0m\u001b[1m)\u001b[22m\n",
      "\u001b[90m    @\u001b[39m \u001b[35mFileWatching.Pidfile\u001b[39m \u001b[90m~/.julia/juliaup/julia-1.11.1+0.x64.apple.darwin14/share/julia/stdlib/v1.11/FileWatching/src/\u001b[39m\u001b[90m\u001b[4mpidfile.jl:116\u001b[24m\u001b[39m\n",
      "  [7] \u001b[0m\u001b[1m#invokelatest#2\u001b[22m\n",
      "\u001b[90m    @\u001b[39m \u001b[90m./\u001b[39m\u001b[90m\u001b[4messentials.jl:1057\u001b[24m\u001b[39m\u001b[90m [inlined]\u001b[39m\n",
      "  [8] \u001b[0m\u001b[1minvokelatest\u001b[22m\n",
      "\u001b[90m    @\u001b[39m \u001b[90m./\u001b[39m\u001b[90m\u001b[4messentials.jl:1052\u001b[24m\u001b[39m\u001b[90m [inlined]\u001b[39m\n",
      "  [9] \u001b[0m\u001b[1mmaybe_cachefile_lock\u001b[22m\u001b[0m\u001b[1m(\u001b[22m\u001b[90mf\u001b[39m::\u001b[0mBase.var\"#1082#1083\"\u001b[90m{Base.PkgId}\u001b[39m, \u001b[90mpkg\u001b[39m::\u001b[0mBase.PkgId, \u001b[90msrcpath\u001b[39m::\u001b[0mString; \u001b[90mstale_age\u001b[39m::\u001b[0mInt64\u001b[0m\u001b[1m)\u001b[22m\n",
      "\u001b[90m    @\u001b[39m \u001b[90mBase\u001b[39m \u001b[90m./\u001b[39m\u001b[90m\u001b[4mloading.jl:3609\u001b[24m\u001b[39m\n",
      " [10] \u001b[0m\u001b[1mmaybe_cachefile_lock\u001b[22m\n",
      "\u001b[90m    @\u001b[39m \u001b[90m./\u001b[39m\u001b[90m\u001b[4mloading.jl:3606\u001b[24m\u001b[39m\u001b[90m [inlined]\u001b[39m\n",
      " [11] \u001b[0m\u001b[1m_require\u001b[22m\u001b[0m\u001b[1m(\u001b[22m\u001b[90mpkg\u001b[39m::\u001b[0mBase.PkgId, \u001b[90menv\u001b[39m::\u001b[0mNothing\u001b[0m\u001b[1m)\u001b[22m\n",
      "\u001b[90m    @\u001b[39m \u001b[90mBase\u001b[39m \u001b[90m./\u001b[39m\u001b[90m\u001b[4mloading.jl:2488\u001b[24m\u001b[39m\n",
      " [12] \u001b[0m\u001b[1m__require_prelocked\u001b[22m\u001b[0m\u001b[1m(\u001b[22m\u001b[90muuidkey\u001b[39m::\u001b[0mBase.PkgId, \u001b[90menv\u001b[39m::\u001b[0mNothing\u001b[0m\u001b[1m)\u001b[22m\n",
      "\u001b[90m    @\u001b[39m \u001b[90mBase\u001b[39m \u001b[90m./\u001b[39m\u001b[90m\u001b[4mloading.jl:2315\u001b[24m\u001b[39m\n",
      " [13] \u001b[0m\u001b[1m#invoke_in_world#3\u001b[22m\n",
      "\u001b[90m    @\u001b[39m \u001b[90m./\u001b[39m\u001b[90m\u001b[4messentials.jl:1089\u001b[24m\u001b[39m\u001b[90m [inlined]\u001b[39m\n",
      " [14] \u001b[0m\u001b[1minvoke_in_world\u001b[22m\n",
      "\u001b[90m    @\u001b[39m \u001b[90m./\u001b[39m\u001b[90m\u001b[4messentials.jl:1086\u001b[24m\u001b[39m\u001b[90m [inlined]\u001b[39m\n",
      " [15] \u001b[0m\u001b[1m_require_prelocked\u001b[22m\n",
      "\u001b[90m    @\u001b[39m \u001b[90m./\u001b[39m\u001b[90m\u001b[4mloading.jl:2302\u001b[24m\u001b[39m\u001b[90m [inlined]\u001b[39m\n",
      " [16] \u001b[0m\u001b[1m_require_prelocked\u001b[22m\n",
      "\u001b[90m    @\u001b[39m \u001b[90m./\u001b[39m\u001b[90m\u001b[4mloading.jl:2301\u001b[24m\u001b[39m\u001b[90m [inlined]\u001b[39m\n",
      " [17] \u001b[0m\u001b[1mrun_extension_callbacks\u001b[22m\u001b[0m\u001b[1m(\u001b[22m\u001b[90mextid\u001b[39m::\u001b[0mBase.ExtensionId\u001b[0m\u001b[1m)\u001b[22m\n",
      "\u001b[90m    @\u001b[39m \u001b[90mBase\u001b[39m \u001b[90m./\u001b[39m\u001b[90m\u001b[4mloading.jl:1500\u001b[24m\u001b[39m\n",
      " [18] \u001b[0m\u001b[1mrun_extension_callbacks\u001b[22m\u001b[0m\u001b[1m(\u001b[22m\u001b[90mpkgid\u001b[39m::\u001b[0mBase.PkgId\u001b[0m\u001b[1m)\u001b[22m\n",
      "\u001b[90m    @\u001b[39m \u001b[90mBase\u001b[39m \u001b[90m./\u001b[39m\u001b[90m\u001b[4mloading.jl:1535\u001b[24m\u001b[39m\n",
      " [19] \u001b[0m\u001b[1mrun_package_callbacks\u001b[22m\u001b[0m\u001b[1m(\u001b[22m\u001b[90mmodkey\u001b[39m::\u001b[0mBase.PkgId\u001b[0m\u001b[1m)\u001b[22m\n",
      "\u001b[90m    @\u001b[39m \u001b[90mBase\u001b[39m \u001b[90m./\u001b[39m\u001b[90m\u001b[4mloading.jl:1354\u001b[24m\u001b[39m\n",
      " [20] \u001b[0m\u001b[1m_require_search_from_serialized\u001b[22m\u001b[0m\u001b[1m(\u001b[22m\u001b[90mpkg\u001b[39m::\u001b[0mBase.PkgId, \u001b[90msourcepath\u001b[39m::\u001b[0mString, \u001b[90mbuild_id\u001b[39m::\u001b[0mUInt128, \u001b[90mstalecheck\u001b[39m::\u001b[0mBool; \u001b[90mreasons\u001b[39m::\u001b[0mDict\u001b[90m{String, Int64}\u001b[39m, \u001b[90mDEPOT_PATH\u001b[39m::\u001b[0mVector\u001b[90m{String}\u001b[39m\u001b[0m\u001b[1m)\u001b[22m\n",
      "\u001b[90m    @\u001b[39m \u001b[90mBase\u001b[39m \u001b[90m./\u001b[39m\u001b[90m\u001b[4mloading.jl:1993\u001b[24m\u001b[39m\n",
      " [21] \u001b[0m\u001b[1m_require\u001b[22m\u001b[0m\u001b[1m(\u001b[22m\u001b[90mpkg\u001b[39m::\u001b[0mBase.PkgId, \u001b[90menv\u001b[39m::\u001b[0mString\u001b[0m\u001b[1m)\u001b[22m\n",
      "\u001b[90m    @\u001b[39m \u001b[90mBase\u001b[39m \u001b[90m./\u001b[39m\u001b[90m\u001b[4mloading.jl:2450\u001b[24m\u001b[39m\n",
      " [22] \u001b[0m\u001b[1m__require_prelocked\u001b[22m\u001b[0m\u001b[1m(\u001b[22m\u001b[90muuidkey\u001b[39m::\u001b[0mBase.PkgId, \u001b[90menv\u001b[39m::\u001b[0mString\u001b[0m\u001b[1m)\u001b[22m\n",
      "\u001b[90m    @\u001b[39m \u001b[90mBase\u001b[39m \u001b[90m./\u001b[39m\u001b[90m\u001b[4mloading.jl:2315\u001b[24m\u001b[39m\n",
      " [23] \u001b[0m\u001b[1m#invoke_in_world#3\u001b[22m\n",
      "\u001b[90m    @\u001b[39m \u001b[90m./\u001b[39m\u001b[90m\u001b[4messentials.jl:1089\u001b[24m\u001b[39m\u001b[90m [inlined]\u001b[39m\n",
      " [24] \u001b[0m\u001b[1minvoke_in_world\u001b[22m\n",
      "\u001b[90m    @\u001b[39m \u001b[90m./\u001b[39m\u001b[90m\u001b[4messentials.jl:1086\u001b[24m\u001b[39m\u001b[90m [inlined]\u001b[39m\n",
      " [25] \u001b[0m\u001b[1m_require_prelocked\u001b[22m\u001b[0m\u001b[1m(\u001b[22m\u001b[90muuidkey\u001b[39m::\u001b[0mBase.PkgId, \u001b[90menv\u001b[39m::\u001b[0mString\u001b[0m\u001b[1m)\u001b[22m\n",
      "\u001b[90m    @\u001b[39m \u001b[90mBase\u001b[39m \u001b[90m./\u001b[39m\u001b[90m\u001b[4mloading.jl:2302\u001b[24m\u001b[39m\n",
      " [26] \u001b[0m\u001b[1mmacro expansion\u001b[22m\n",
      "\u001b[90m    @\u001b[39m \u001b[90m./\u001b[39m\u001b[90m\u001b[4mloading.jl:2241\u001b[24m\u001b[39m\u001b[90m [inlined]\u001b[39m\n",
      " [27] \u001b[0m\u001b[1mmacro expansion\u001b[22m\n",
      "\u001b[90m    @\u001b[39m \u001b[90m./\u001b[39m\u001b[90m\u001b[4mlock.jl:273\u001b[24m\u001b[39m\u001b[90m [inlined]\u001b[39m\n",
      " [28] \u001b[0m\u001b[1m__require\u001b[22m\u001b[0m\u001b[1m(\u001b[22m\u001b[90minto\u001b[39m::\u001b[0mModule, \u001b[90mmod\u001b[39m::\u001b[0mSymbol\u001b[0m\u001b[1m)\u001b[22m\n",
      "\u001b[90m    @\u001b[39m \u001b[90mBase\u001b[39m \u001b[90m./\u001b[39m\u001b[90m\u001b[4mloading.jl:2198\u001b[24m\u001b[39m\n",
      " [29] \u001b[0m\u001b[1m#invoke_in_world#3\u001b[22m\n",
      "\u001b[90m    @\u001b[39m \u001b[90m./\u001b[39m\u001b[90m\u001b[4messentials.jl:1089\u001b[24m\u001b[39m\u001b[90m [inlined]\u001b[39m\n",
      " [30] \u001b[0m\u001b[1minvoke_in_world\u001b[22m\n",
      "\u001b[90m    @\u001b[39m \u001b[90m./\u001b[39m\u001b[90m\u001b[4messentials.jl:1086\u001b[24m\u001b[39m\u001b[90m [inlined]\u001b[39m\n",
      " [31] \u001b[0m\u001b[1mrequire\u001b[22m\u001b[0m\u001b[1m(\u001b[22m\u001b[90minto\u001b[39m::\u001b[0mModule, \u001b[90mmod\u001b[39m::\u001b[0mSymbol\u001b[0m\u001b[1m)\u001b[22m\n",
      "\u001b[90m    @\u001b[39m \u001b[90mBase\u001b[39m \u001b[90m./\u001b[39m\u001b[90m\u001b[4mloading.jl:2191\u001b[24m\u001b[39m\n",
      " [32] \u001b[0m\u001b[1meval\u001b[22m\n",
      "\u001b[90m    @\u001b[39m \u001b[90m./\u001b[39m\u001b[90m\u001b[4mboot.jl:430\u001b[24m\u001b[39m\u001b[90m [inlined]\u001b[39m\n",
      " [33] \u001b[0m\u001b[1minclude_string\u001b[22m\u001b[0m\u001b[1m(\u001b[22m\u001b[90mmapexpr\u001b[39m::\u001b[0mtypeof(REPL.softscope), \u001b[90mmod\u001b[39m::\u001b[0mModule, \u001b[90mcode\u001b[39m::\u001b[0mString, \u001b[90mfilename\u001b[39m::\u001b[0mString\u001b[0m\u001b[1m)\u001b[22m\n",
      "\u001b[90m    @\u001b[39m \u001b[90mBase\u001b[39m \u001b[90m./\u001b[39m\u001b[90m\u001b[4mloading.jl:2643\u001b[24m\u001b[39m\n",
      " [34] \u001b[0m\u001b[1m#invokelatest#2\u001b[22m\n",
      "\u001b[90m    @\u001b[39m \u001b[90m./\u001b[39m\u001b[90m\u001b[4messentials.jl:1055\u001b[24m\u001b[39m\u001b[90m [inlined]\u001b[39m\n",
      " [35] \u001b[0m\u001b[1minvokelatest\u001b[22m\n",
      "\u001b[90m    @\u001b[39m \u001b[90m./\u001b[39m\u001b[90m\u001b[4messentials.jl:1052\u001b[24m\u001b[39m\u001b[90m [inlined]\u001b[39m\n",
      " [36] \u001b[0m\u001b[1m(::VSCodeServer.var\"#217#218\"{VSCodeServer.NotebookRunCellArguments, String})\u001b[22m\u001b[0m\u001b[1m(\u001b[22m\u001b[0m\u001b[1m)\u001b[22m\n",
      "\u001b[90m    @\u001b[39m \u001b[36mVSCodeServer\u001b[39m \u001b[90m~/.vscode/extensions/julialang.language-julia-1.127.2/scripts/packages/VSCodeServer/src/\u001b[39m\u001b[90m\u001b[4mserve_notebook.jl:24\u001b[24m\u001b[39m\n",
      " [37] \u001b[0m\u001b[1mwithpath\u001b[22m\u001b[0m\u001b[1m(\u001b[22m\u001b[90mf\u001b[39m::\u001b[0mVSCodeServer.var\"#217#218\"\u001b[90m{VSCodeServer.NotebookRunCellArguments, String}\u001b[39m, \u001b[90mpath\u001b[39m::\u001b[0mString\u001b[0m\u001b[1m)\u001b[22m\n",
      "\u001b[90m    @\u001b[39m \u001b[36mVSCodeServer\u001b[39m \u001b[90m~/.vscode/extensions/julialang.language-julia-1.127.2/scripts/packages/VSCodeServer/src/\u001b[39m\u001b[90m\u001b[4mrepl.jl:276\u001b[24m\u001b[39m\n",
      " [38] \u001b[0m\u001b[1mnotebook_runcell_request\u001b[22m\u001b[0m\u001b[1m(\u001b[22m\u001b[90mconn\u001b[39m::\u001b[0mVSCodeServer.JSONRPC.JSONRPCEndpoint\u001b[90m{Base.PipeEndpoint, Base.PipeEndpoint}\u001b[39m, \u001b[90mparams\u001b[39m::\u001b[0mVSCodeServer.NotebookRunCellArguments\u001b[0m\u001b[1m)\u001b[22m\n",
      "\u001b[90m    @\u001b[39m \u001b[36mVSCodeServer\u001b[39m \u001b[90m~/.vscode/extensions/julialang.language-julia-1.127.2/scripts/packages/VSCodeServer/src/\u001b[39m\u001b[90m\u001b[4mserve_notebook.jl:13\u001b[24m\u001b[39m\n",
      " [39] \u001b[0m\u001b[1mdispatch_msg\u001b[22m\u001b[0m\u001b[1m(\u001b[22m\u001b[90mx\u001b[39m::\u001b[0mVSCodeServer.JSONRPC.JSONRPCEndpoint\u001b[90m{Base.PipeEndpoint, Base.PipeEndpoint}\u001b[39m, \u001b[90mdispatcher\u001b[39m::\u001b[0mVSCodeServer.JSONRPC.MsgDispatcher, \u001b[90mmsg\u001b[39m::\u001b[0mDict\u001b[90m{String, Any}\u001b[39m\u001b[0m\u001b[1m)\u001b[22m\n",
      "\u001b[90m    @\u001b[39m \u001b[36mVSCodeServer.JSONRPC\u001b[39m \u001b[90m~/.vscode/extensions/julialang.language-julia-1.127.2/scripts/packages/JSONRPC/src/\u001b[39m\u001b[90m\u001b[4mtyped.jl:67\u001b[24m\u001b[39m\n",
      " [40] \u001b[0m\u001b[1mserve_notebook\u001b[22m\u001b[0m\u001b[1m(\u001b[22m\u001b[90mpipename\u001b[39m::\u001b[0mString, \u001b[90mdebugger_pipename\u001b[39m::\u001b[0mString, \u001b[90moutputchannel_logger\u001b[39m::\u001b[0mBase.CoreLogging.SimpleLogger; \u001b[90merror_handler\u001b[39m::\u001b[0mvar\"#5#10\"\u001b[90m{String}\u001b[39m\u001b[0m\u001b[1m)\u001b[22m\n",
      "\u001b[90m    @\u001b[39m \u001b[36mVSCodeServer\u001b[39m \u001b[90m~/.vscode/extensions/julialang.language-julia-1.127.2/scripts/packages/VSCodeServer/src/\u001b[39m\u001b[90m\u001b[4mserve_notebook.jl:147\u001b[24m\u001b[39m\n",
      " [41] top-level scope\n",
      "\u001b[90m    @\u001b[39m \u001b[90m~/.vscode/extensions/julialang.language-julia-1.127.2/scripts/notebook/\u001b[39m\u001b[90m\u001b[4mnotebook.jl:35\u001b[24m\u001b[39m\n",
      " [42] \u001b[0m\u001b[1minclude\u001b[22m\u001b[0m\u001b[1m(\u001b[22m\u001b[90mmod\u001b[39m::\u001b[0mModule, \u001b[90m_path\u001b[39m::\u001b[0mString\u001b[0m\u001b[1m)\u001b[22m\n",
      "\u001b[90m    @\u001b[39m \u001b[90mBase\u001b[39m \u001b[90m./\u001b[39m\u001b[90m\u001b[4mBase.jl:557\u001b[24m\u001b[39m\n",
      " [43] \u001b[0m\u001b[1mexec_options\u001b[22m\u001b[0m\u001b[1m(\u001b[22m\u001b[90mopts\u001b[39m::\u001b[0mBase.JLOptions\u001b[0m\u001b[1m)\u001b[22m\n",
      "\u001b[90m    @\u001b[39m \u001b[90mBase\u001b[39m \u001b[90m./\u001b[39m\u001b[90m\u001b[4mclient.jl:323\u001b[24m\u001b[39m\n",
      " [44] \u001b[0m\u001b[1m_start\u001b[22m\u001b[0m\u001b[1m(\u001b[22m\u001b[0m\u001b[1m)\u001b[22m\n",
      "\u001b[90m    @\u001b[39m \u001b[90mBase\u001b[39m \u001b[90m./\u001b[39m\u001b[90m\u001b[4mclient.jl:531\u001b[24m\u001b[39m\n",
      "└ @ Base loading.jl:1506\n"
     ]
    },
    {
     "name": "stdout",
     "output_type": "stream",
     "text": [
      "The polynomial is: -272287136774817571//1152921504606846976 + 108604667564791267587//1298074214633706907132624082305024*x[2] + 51546911033889635303//2596148429267413814265248164610048*x[1] + 21875266918444178683//576460752303423488*x[2]^2 - 38284420041259286213//5192296858534827628530496329220096*x[1]*x[2] - 51485708243114346853//576460752303423488*x[1]^2 - 395674829397065464791//162259276829213363391578010288128*x[2]^3 + 76400145264082167513//1298074214633706907132624082305024*x[1]*x[2]^2 - 175761119289352194891//649037107316853453566312041152512*x[1]^2*x[2] - 441271482591076931629//649037107316853453566312041152512*x[1]^3 - 60974340487694403993//72057594037927936*x[2]^4 + 88351814539797080555//649037107316853453566312041152512*x[1]*x[2]^3 - 20543039454962597891//288230376151711744*x[1]^2*x[2]^2 + 69289945661599678741//1298074214633706907132624082305024*x[1]^3*x[2] + 145754934449090454647//72057594037927936*x[1]^4 + 1664234892650102350865//81129638414606681695789005144064*x[2]^5 - 97195843122571349545//162259276829213363391578010288128*x[1]*x[2]^4 + 8929577369882718919//81129638414606681695789005144064*x[1]^2*x[2]^3 + 42250799465870818093//324518553658426726783156020576256*x[1]^3*x[2]^2 + 11302212682559141397//5070602400912917605986812821504*x[1]^4*x[2] + 1100293022143934367983//162259276829213363391578010288128*x[1]^5 + 269550221779180048803//36028797018963968*x[2]^6 - 246300716307770372165//324518553658426726783156020576256*x[1]*x[2]^5 + 68763931777457020657//36028797018963968*x[1]^2*x[2]^4 - 41132464704393264027//162259276829213363391578010288128*x[1]^3*x[2]^3 - 40915916434357583223//36028797018963968*x[1]^4*x[2]^2 - 154428555160189639737//324518553658426726783156020576256*x[1]^5*x[2] - 612471729137555673053//36028797018963968*x[1]^6 - 1622671969160678312447//20282409603651670423947251286016*x[2]^7 + 175155445766872085855//81129638414606681695789005144064*x[1]*x[2]^6 + 90121440812802271367//40564819207303340847894502572032*x[1]^2*x[2]^5 + 71072658031118585103//40564819207303340847894502572032*x[1]^3*x[2]^4 - 18464435386703092941//5070602400912917605986812821504*x[1]^4*x[2]^3 - 253727695479593705911//81129638414606681695789005144064*x[1]^5*x[2]^2 - 32553737791173227049//5070602400912917605986812821504*x[1]^6*x[2] - 614248381753209885979//20282409603651670423947251286016*x[1]^7 - 9209984980245431555//281474976710656*x[2]^8 + 145386221527416531719//81129638414606681695789005144064*x[1]*x[2]^7 - 181382746100632291179//18014398509481984*x[1]^2*x[2]^6 + 103023352812417799157//81129638414606681695789005144064*x[1]^3*x[2]^5 - 13395868043632761059//4503599627370496*x[1]^4*x[2]^4 + 13548514235507114939//40564819207303340847894502572032*x[1]^5*x[2]^3 + 163714940839439768021//18014398509481984*x[1]^6*x[2]^2 + 9967050849796524797//5070602400912917605986812821504*x[1]^7*x[2] + 19495246711625817845//281474976710656*x[1]^8 + 841739232286688920963//5070602400912917605986812821504*x[2]^9 - 47210373842665270835//10141204801825835211973625643008*x[1]*x[2]^8 - 77348551188660832825//10141204801825835211973625643008*x[1]^2*x[2]^7 - 64126966050784408585//20282409603651670423947251286016*x[1]^3*x[2]^6 + 1883779848604210743//633825300114114700748351602688*x[1]^4*x[2]^5 - 22513841285380645845//10141204801825835211973625643008*x[1]^5*x[2]^4 + 23780702370681209737//2535301200456458802993406410752*x[1]^6*x[2]^3 + 121880701129984179939//10141204801825835211973625643008*x[1]^7*x[2]^2 + 10514646227025815407//1267650600228229401496703205376*x[1]^8*x[2] + 357015224620577418131//5070602400912917605986812821504*x[1]^9 + 5390021488765821027//70368744177664*x[2]^10 - 2810097856259913035//1267650600228229401496703205376*x[1]*x[2]^9 + 7594254636722529957//281474976710656*x[1]^2*x[2]^8 - 56067782274948327703//20282409603651670423947251286016*x[1]^3*x[2]^7 + 6719170972437538049//2251799813685248*x[1]^4*x[2]^6 - 5847596256748357049//20282409603651670423947251286016*x[1]^5*x[2]^5 + 27255229612073826489//2251799813685248*x[1]^6*x[2]^4 - 381670794648608463//316912650057057350374175801344*x[1]^7*x[2]^3 - 545958430113588605//17592186044416*x[1]^8*x[2]^2 - 19258948068390401283//5070602400912917605986812821504*x[1]^9*x[2] - 10676386616142881743//70368744177664*x[1]^10 - 14985611915109568601//79228162514264337593543950336*x[2]^11 + 31147960872358992895//5070602400912917605986812821504*x[1]*x[2]^10 + 28231769480647388477//2535301200456458802993406410752*x[1]^2*x[2]^9 + 4040216877702453443//2535301200456458802993406410752*x[1]^3*x[2]^8 - 140313433703898743//316912650057057350374175801344*x[1]^4*x[2]^7 + 24184670255028948119//5070602400912917605986812821504*x[1]^5*x[2]^6 - 1247137051499230189//158456325028528675187087900672*x[1]^6*x[2]^5 - 334610959051898649//1267650600228229401496703205376*x[1]^7*x[2]^4 - 1380590751885334625//158456325028528675187087900672*x[1]^8*x[2]^3 - 50778691121145341691//2535301200456458802993406410752*x[1]^9*x[2]^2 - 216919471897724245//39614081257132168796771975168*x[1]^10*x[2] - 7030138218617762811//79228162514264337593543950336*x[1]^11 - 1718000219493913745//17592186044416*x[2]^12 + 71253865906090447//39614081257132168796771975168*x[1]*x[2]^11 - 1270580638907460767//35184372088832*x[1]^2*x[2]^10 + 22745910268211965//9903520314283042199192993792*x[1]^3*x[2]^9 - 439257730340385365//70368744177664*x[1]^4*x[2]^8 + 5126621737189738235//5070602400912917605986812821504*x[1]^5*x[2]^7 - 1906839101823597011//1125899906842624*x[1]^6*x[2]^6 + 48237538588705177//316912650057057350374175801344*x[1]^7*x[2]^5 - 431531820419426833//17592186044416*x[1]^8*x[2]^4 + 2400090490486408483//1267650600228229401496703205376*x[1]^9*x[2]^3 + 1807719962904150847//35184372088832*x[1]^10*x[2]^2 + 4705893036614338237//1267650600228229401496703205376*x[1]^11*x[2] + 802436263218868569//4398046511104*x[1]^12 + 277139310036967321//2475880078570760549798248448*x[2]^13 - 690892256449244879//158456325028528675187087900672*x[1]*x[2]^12 - 154398348507207613//19807040628566084398385987584*x[1]^2*x[2]^11 + 267783909603908225//1267650600228229401496703205376*x[1]^3*x[2]^10 - 29321418450278565//39614081257132168796771975168*x[1]^4*x[2]^9 - 1577055633911029215//633825300114114700748351602688*x[1]^5*x[2]^8 + 354899318453233017//158456325028528675187087900672*x[1]^6*x[2]^7 - 1491585891648503221//633825300114114700748351602688*x[1]^7*x[2]^6 + 600775416464911539//79228162514264337593543950336*x[1]^8*x[2]^5 + 624074889341800961//316912650057057350374175801344*x[1]^9*x[2]^4 + 5241360010951457//4951760157141521099596496896*x[1]^10*x[2]^3 + 154901290585839419//9903520314283042199192993792*x[1]^11*x[2]^2 + 12848788171280495//4951760157141521099596496896*x[1]^12*x[2] + 284826070119527511//4951760157141521099596496896*x[1]^13 + 4386646758748107//68719476736*x[2]^14 - 87748937828711361//79228162514264337593543950336*x[1]*x[2]^13 + 206251148359464133//8796093022208*x[1]^2*x[2]^12 - 3431466996743299//19807040628566084398385987584*x[1]^3*x[2]^11 + 27559691313494073//4398046511104*x[1]^4*x[2]^10 - 70444366366653139//39614081257132168796771975168*x[1]^5*x[2]^9 - 12548763873403839//17592186044416*x[1]^6*x[2]^8 + 62379730966935973//79228162514264337593543950336*x[1]^7*x[2]^7 + 4666555205274357//1099511627776*x[1]^8*x[2]^6 - 251362304107102551//316912650057057350374175801344*x[1]^9*x[2]^5 + 92445560794295485//4398046511104*x[1]^10*x[2]^4 - 371617416643823229//316912650057057350374175801344*x[1]^11*x[2]^3 - 22195236909632223//549755813888*x[1]^12*x[2]^2 - 139417485503229569//79228162514264337593543950336*x[1]^13*x[2] - 15578644164787009//137438953472*x[1]^14 - 2084776975867485//77371252455336267181195264*x[2]^15 + 6139940100692115//4951760157141521099596496896*x[1]*x[2]^14 + 2640430793020287//1237940039285380274899124224*x[1]^2*x[2]^13 - 5927322669595139//39614081257132168796771975168*x[1]^3*x[2]^12 + 5065772953515505//9903520314283042199192993792*x[1]^4*x[2]^11 - 5264785159722541//316912650057057350374175801344*x[1]^5*x[2]^10 - 8042527479351861//9903520314283042199192993792*x[1]^6*x[2]^9 + 6329983185848157//4951760157141521099596496896*x[1]^7*x[2]^8 - 4497172148647645//19807040628566084398385987584*x[1]^8*x[2]^7 - 5766954002079651//158456325028528675187087900672*x[1]^9*x[2]^6 - 3781358282474667//1237940039285380274899124224*x[1]^10*x[2]^5 - 8026257801569671//9903520314283042199192993792*x[1]^11*x[2]^4 + 3899874669233525//2475880078570760549798248448*x[1]^12*x[2]^3 - 5807275106171483//1237940039285380274899124224*x[1]^13*x[2]^2 - 2353390357039843//2475880078570760549798248448*x[1]^14*x[2] - 4652473246478055//309485009821345068724781056*x[1]^15 - 143731949214549//8589934592*x[2]^16 + 7205212685830709//19807040628566084398385987584*x[1]*x[2]^15 - 3260873501576697//549755813888*x[1]^2*x[2]^14 - 2038806025494577//4951760157141521099596496896*x[1]^3*x[2]^13 - 1916227194297801//1099511627776*x[1]^4*x[2]^12 + 603594071674651//618970019642690137449562112*x[1]^5*x[2]^11 - 2627984562419563//2199023255552*x[1]^6*x[2]^10 - 6469237213801185//9903520314283042199192993792*x[1]^7*x[2]^9 + 4019930397356387//2199023255552*x[1]^8*x[2]^8 + 7311032925856101//19807040628566084398385987584*x[1]^9*x[2]^7 - 7282539018336581//2199023255552*x[1]^10*x[2]^6 + 7055456534647989//79228162514264337593543950336*x[1]^11*x[2]^5 - 3401208499966699//549755813888*x[1]^12*x[2]^4 + 3051921058838387//9903520314283042199192993792*x[1]^13*x[2]^3 + 6628496422386279//549755813888*x[1]^14*x[2]^2 + 6113158007234793//19807040628566084398385987584*x[1]^15*x[2] + 488258625583281//17179869184*x[1]^16\n",
      "The system is of degree: 15\n"
     ]
    }
   ],
   "source": [
    "using DynamicPolynomials, DataFrames\n",
    "using HomotopyContinuation, ProgressLogging\n",
    "\n",
    "@polyvar(x[1:n]) # Define polynomial ring \n",
    "pol = main_nd(x, n, d, poly_approx.coeffs) \n",
    "\n",
    "println(\"The polynomial is: \", pol)\n",
    "grad = differentiate.(pol, x)\n",
    "sys = System(grad)\n",
    "println(\"The system is of degree: \", d-1)"
   ]
  },
  {
   "cell_type": "code",
   "execution_count": 4,
   "metadata": {},
   "outputs": [
    {
     "name": "stderr",
     "output_type": "stream",
     "text": [
      "\u001b[32mComputing mixed cells... 2    Time: 0:00:00\u001b[39m\u001b[K\n",
      "\u001b[32mComputing mixed cells... 21    Time: 0:00:00\u001b[39m\u001b[K\n",
      "\u001b[34m  mixed_volume:  225\u001b[39m\u001b[K\n"
     ]
    },
    {
     "name": "stdout",
     "output_type": "stream",
     "text": [
      "\u001b[32mTracking 225 paths...   1%|▎                            |  ETA: 0:26:40\u001b[39m\u001b[K\n",
      "\n",
      "\n",
      "\n",
      "\u001b[32mTracking 225 paths...  46%|█████████████▎               |  ETA: 0:00:18\u001b[39m\u001b[K\n",
      "\n",
      "\n",
      "\n",
      "\u001b[32mTracking 225 paths...  88%|█████████████████████████▋   |  ETA: 0:00:02\u001b[39m\u001b[K\n",
      "\n",
      "\n",
      "\n",
      "\u001b[32mTracking 225 paths... 100%|█████████████████████████████| Time: 0:00:15\u001b[39m\u001b[K\n",
      "\u001b[34m  # paths tracked:                  225\u001b[39m\u001b[K\n",
      "\u001b[34m  # non-singular solutions (real):  225 (189)\u001b[39m\u001b[K\n",
      "\u001b[34m  # singular endpoints (real):      0 (0)\u001b[39m\u001b[K\n",
      "\u001b[34m  # total solutions (real):         225 (189)\u001b[39m\u001b[K\n"
     ]
    }
   ],
   "source": [
    "Real_sol_lstsq = HomotopyContinuation.solve(sys)\n",
    "real_pts = HomotopyContinuation.real_solutions(Real_sol_lstsq; only_real=true, multiple_results=false);"
   ]
  },
  {
   "cell_type": "code",
   "execution_count": 5,
   "metadata": {},
   "outputs": [],
   "source": [
    "condition(point) = -1 < point[1] < 1 && -1 < point[2] < 1\n",
    "filtered_points = filter(condition, real_pts) # Filter points using the filter function\n",
    "# Colllect the critical points of the approximant \n",
    "h_x = Float64[point[1] for point in filtered_points] # Initialize the x vector for critical points of approximant\n",
    "h_y = Float64[point[2] for point in filtered_points] # Initialize the y vector\n",
    "h_z = map(p -> f([p[1], p[2]]), zip(scale_factor * h_x, scale_factor * h_y))\n",
    "df = DataFrame(x=scale_factor * h_x, y=scale_factor * h_y, z=h_z); # Create a DataFrame"
   ]
  },
  {
   "cell_type": "code",
   "execution_count": 6,
   "metadata": {},
   "outputs": [],
   "source": [
    "using GLMakie\n",
    "# Extract coordinates and function values\n",
    "coords = poly_approx.scale_factor * poly_approx.grid\n",
    "z_coords = poly_approx.z;\n"
   ]
  },
  {
   "cell_type": "code",
   "execution_count": 7,
   "metadata": {},
   "outputs": [
    {
     "name": "stderr",
     "output_type": "stream",
     "text": [
      "2024-12-02 14:46:17.056 julia[76744:805240] +[IMKClient subclass]: chose IMKClient_Modern\n",
      "2024-12-02 14:46:17.056 julia[76744:805240] +[IMKInputSession subclass]: chose IMKInputSession_Modern\n"
     ]
    },
    {
     "data": {
      "text/plain": [
       "GLMakie.Screen(...)"
      ]
     },
     "metadata": {},
     "output_type": "display_data"
    }
   ],
   "source": [
    "if size(coords)[2] == 2  # Plot the 3D scatter plot if the dimensions are 2\n",
    "    fig = Figure(size=(800, 600))\n",
    "    ax = Axis3(fig[1, 1], title=\"Holder Table Sample Points\", xlabel=\"X-axis\", ylabel=\"Y-axis\", zlabel=\"Z-axis\")\n",
    "\n",
    "    # Plot the sampled data with a darker core\n",
    "    scatter!(ax, coords[:, 1], coords[:, 2], z_coords, markersize=2, color=:black, label=\"Sampled Data Core\")\n",
    "\n",
    "    # Plot the sampled data with adjusted size and color to create a halo effect\n",
    "    scatter!(ax, coords[:, 1], coords[:, 2], z_coords, markersize=4, color=z_coords, colormap=:viridis, label=\"Sampled Data Halo\")\n",
    "\n",
    "    # Plot the exact approximant critical points with adjusted size\n",
    "    scatter!(ax, df.x, df.y, df.z, markersize=10, color=:red, label=\"Exact approximant critical points\")\n",
    "\n",
    "    display(fig)\n",
    "end"
   ]
  },
  {
   "cell_type": "markdown",
   "metadata": {},
   "source": [
    "Should plot the polynomial approximant too."
   ]
  }
 ],
 "metadata": {
  "kernelspec": {
   "display_name": "Julia 1.11.1",
   "language": "julia",
   "name": "julia-1.11"
  },
  "language_info": {
   "file_extension": ".jl",
   "mimetype": "application/julia",
   "name": "julia",
   "version": "1.11.1"
  }
 },
 "nbformat": 4,
 "nbformat_minor": 2
}
