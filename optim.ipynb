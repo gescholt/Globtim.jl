{
 "cells": [
  {
   "cell_type": "markdown",
   "metadata": {},
   "source": [
    "With Homotopy continuation, try some higher dimension global optimization problems. "
   ]
  },
  {
   "cell_type": "code",
   "execution_count": null,
   "metadata": {},
   "outputs": [],
   "source": [
    "include(\"construct_lib.jl\")\n",
    "include(\"functions_eval.jl\")\n",
    "using DynamicPolynomials, MultivariatePolynomials, HomotopyContinuation, JSON\n",
    "\n",
    "\n",
    "# Constants and Parameters\n",
    "const d1, d2, ds = 2, 8, 1  # Degree range and step\n",
    "const n, a, b = 2, 1, 1\n",
    "const C = a / b  # Scaling constant\n",
    "const delta, alph = 1/2, 6 / 10  # Sampling parameters"
   ]
  }
 ],
 "metadata": {
  "kernelspec": {
   "display_name": "Julia 1.9.4",
   "language": "julia",
   "name": "julia-1.9"
  },
  "language_info": {
   "file_extension": ".jl",
   "mimetype": "application/julia",
   "name": "julia",
   "version": "1.9.4"
  }
 },
 "nbformat": 4,
 "nbformat_minor": 2
}
