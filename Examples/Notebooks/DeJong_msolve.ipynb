{
 "cells": [
  {
   "cell_type": "markdown",
   "metadata": {},
   "source": [
    "What we need is a small parcel to work on, with a nice contourplot with critical points and minima found after initiating local method and then a 3d plot. "
   ]
  },
  {
   "cell_type": "code",
   "execution_count": 1,
   "metadata": {},
   "outputs": [
    {
     "name": "stderr",
     "output_type": "stream",
     "text": [
      "\u001b[32m\u001b[1m  Activating\u001b[22m\u001b[39m project at `~/globtim`\n"
     ]
    }
   ],
   "source": [
    "using Pkg\n",
    "Pkg.activate(\"../../.\")\n",
    "using Globtim\n",
    "using DynamicPolynomials, DataFrames"
   ]
  },
  {
   "cell_type": "code",
   "execution_count": 3,
   "metadata": {},
   "outputs": [
    {
     "data": {
      "text/plain": [
       "dejong5 (generic function with 1 method)"
      ]
     },
     "metadata": {},
     "output_type": "display_data"
    }
   ],
   "source": [
    "# Constants and Parameters\n",
    "const n, a, b = 2, 50, 1\n",
    "const scale_factor = a / b  \n",
    "f = dejong5 # Objective function"
   ]
  },
  {
   "cell_type": "code",
   "execution_count": 4,
   "metadata": {},
   "outputs": [
    {
     "name": "stdout",
     "output_type": "stream",
     "text": [
      "current L2-norm: 213.69909618903978\n",
      "current L2-norm: 213.17134889216047\n"
     ]
    }
   ],
   "source": [
    "d = 8 # Initial Degree \n",
    "SMPL = 200 # Number of samples\n",
    "TR = test_input(f, \n",
    "                dim = n,\n",
    "                center=[0.0, 0.0],\n",
    "                GN=SMPL, \n",
    "                sample_range=scale_factor\n",
    "                )\n",
    "pol_cheb = Constructor(TR, d, basis=:chebyshev);\n",
    "pol_lege = Constructor(TR, d, basis=:legendre, normalized=true);"
   ]
  },
  {
   "cell_type": "code",
   "execution_count": null,
   "metadata": {},
   "outputs": [],
   "source": [
    "@polyvar(x[1:n]); # Define polynomial ring \n",
    "df_cheb = solve_and_parse(pol_cheb, x, f, TR)\n",
    "df_lege = solve_and_parse(pol_lege, x, f, TR)"
   ]
  },
  {
   "cell_type": "code",
   "execution_count": null,
   "metadata": {},
   "outputs": [],
   "source": [
    "using Optim\n",
    "df_cheb, df_min_cheb = analyze_critical_points(f, df_cheb, TR, tol_dist=0.05);\n",
    "df_lege, df_min_lege = analyze_critical_points(f, df_lege, TR, tol_dist=0.05);"
   ]
  },
  {
   "cell_type": "code",
   "execution_count": null,
   "metadata": {},
   "outputs": [],
   "source": [
    "using CairoMakie\n",
    "CairoMakie.activate!"
   ]
  },
  {
   "cell_type": "code",
   "execution_count": 1,
   "metadata": {},
   "outputs": [
    {
     "ename": "UndefVarError",
     "evalue": "UndefVarError: `cairo_plot_polyapprox_levelset` not defined in `Main`\nSuggestion: check for spelling errors or missing imports.",
     "output_type": "error",
     "traceback": [
      "UndefVarError: `cairo_plot_polyapprox_levelset` not defined in `Main`\n",
      "Suggestion: check for spelling errors or missing imports.\n",
      "\n",
      "Stacktrace:\n",
      " [1] top-level scope\n",
      "   @ ~/globtim/Examples/Notebooks/jl_notebook_cell_df34fa98e69747e1a8f8a730347b8e2f_X10sZmlsZQ==.jl:1"
     ]
    }
   ],
   "source": [
    "fig_1 = cairo_plot_polyapprox_levelset(pol_cheb, TR, df_cheb, df_min_cheb, chebyshev_levels=true)"
   ]
  },
  {
   "cell_type": "code",
   "execution_count": null,
   "metadata": {},
   "outputs": [],
   "source": [
    "# fig_2 = cairo_plot_polyapprox_levelset(pol_lege, TR, df_lege, df_min_lege, chebyshev_levels=false)"
   ]
  }
 ],
 "metadata": {
  "kernelspec": {
   "display_name": "Julia 1.11.3",
   "language": "julia",
   "name": "julia-1.11"
  },
  "language_info": {
   "file_extension": ".jl",
   "mimetype": "application/julia",
   "name": "julia",
   "version": "1.11.3"
  }
 },
 "nbformat": 4,
 "nbformat_minor": 2
}
