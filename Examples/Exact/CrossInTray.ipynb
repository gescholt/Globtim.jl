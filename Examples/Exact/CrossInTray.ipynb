{
 "cells": [
  {
   "cell_type": "markdown",
   "metadata": {},
   "source": [
    "CrossInTray Function \n",
    "=====================\n"
   ]
  },
  {
   "cell_type": "code",
   "execution_count": 11,
   "metadata": {},
   "outputs": [
    {
     "name": "stderr",
     "output_type": "stream",
     "text": [
      "\u001b[32m\u001b[1m  Activating\u001b[22m\u001b[39m project at `~/Globtim.jl`\n",
      "WARNING: redefinition of constant Main.tol_l2. This may fail, cause incorrect answers, or produce other errors.\n"
     ]
    },
    {
     "data": {
      "text/plain": [
       "CrossInTray (generic function with 1 method)"
      ]
     },
     "metadata": {},
     "output_type": "display_data"
    }
   ],
   "source": [
    "using Pkg\n",
    "Pkg.activate(\"../../.\")\n",
    "using Globtim\n",
    "# include(\"../../../src/lib_func.jl\") # Include the library of functions\n",
    "\n",
    "# Constants and Parameters\n",
    "d = 2 # Initial Degree \n",
    "const n, a, b = 2, 10, 1 \n",
    "const scale_factor = a / b       # Scaling factor appears in `main_computation`, maybe it should be a parameter.\n",
    "const delta, alpha = .5 , 1 / 10  # Sampling parameters\n",
    "const tol_l2 = 1e-2            # Define the tolerance for the L2-norm\n",
    "\n",
    "f = CrossInTray # Objective function"
   ]
  },
  {
   "cell_type": "code",
   "execution_count": 12,
   "metadata": {},
   "outputs": [
    {
     "name": "stdout",
     "output_type": "stream",
     "text": [
      "current L2-norm: 0.6430142328608683\n",
      "Number of samples: 8\n",
      "Current degree: 2\n",
      "current L2-norm: 0.46901359098832557\n",
      "Number of samples: 12\n",
      "Current degree: 3\n",
      "current L2-norm: 0.042265307871778346\n",
      "Number of samples: 17\n",
      "Current degree: 4\n",
      "current L2-norm: 0.21877316208032135\n",
      "Number of samples: 22\n",
      "Current degree: 5\n",
      "current L2-norm: 0.1377083991915426\n",
      "Number of samples: 28\n",
      "Current degree: 6\n",
      "current L2-norm: 0.10505309468453336\n",
      "Number of samples: 34\n",
      "Current degree: 7\n",
      "current L2-norm: 0.03621782979045448\n",
      "Number of samples: 41\n",
      "Current degree: 8\n",
      "current L2-norm: 0.07094406778061033\n",
      "Number of samples: 48\n",
      "Current degree: 9\n",
      "current L2-norm: 0.05115099061623992\n",
      "Number of samples: 56\n",
      "Current degree: 10\n",
      "current L2-norm: 0.019432636381024184\n",
      "Number of samples: 65\n",
      "Current degree: 11\n",
      "current L2-norm: 0.03512857325759277\n",
      "Number of samples: 74\n",
      "Current degree: 12\n",
      "current L2-norm: 0.016815599842854596\n",
      "Number of samples: 83\n",
      "Current degree: 13\n",
      "current L2-norm: 0.014656516853746946\n",
      "Number of samples: 93\n",
      "Current degree: 14\n",
      "current L2-norm: 0.015679484325254726\n",
      "Number of samples: 103\n",
      "Current degree: 15\n",
      "current L2-norm: 0.01995167276587204\n",
      "Number of samples: 114\n",
      "Current degree: 16\n",
      "attained the desired L2-norm: 0.008883881317490601\n"
     ]
    }
   ],
   "source": [
    "while true # Potential infinite loop\n",
    "    global poly_approx = MainGenerate(f, 2, d, delta, alpha, scale_factor, 0.2) # computes the approximant in Chebyshev basis\n",
    "    if poly_approx.nrm < tol_l2\n",
    "        println(\"attained the desired L2-norm: \", poly_approx.nrm)\n",
    "        break\n",
    "    else\n",
    "        println(\"current L2-norm: \", poly_approx.nrm)\n",
    "        println(\"Number of samples: \", poly_approx.N)\n",
    "        println(\"Current degree: \", d)\n",
    "        global d += 1\n",
    "    end\n",
    "end;"
   ]
  },
  {
   "cell_type": "code",
   "execution_count": 14,
   "metadata": {},
   "outputs": [
    {
     "name": "stdout",
     "output_type": "stream",
     "text": [
      "The system is of degree: 16\n"
     ]
    }
   ],
   "source": [
    "using DynamicPolynomials, DataFrames\n",
    "using HomotopyContinuation, ProgressLogging\n",
    "\n",
    "@polyvar(x[1:n]) # Define polynomial ring \n",
    "pol = main_nd(x, n, d, poly_approx.coeffs) \n",
    "\n",
    "grad = differentiate.(pol, x)\n",
    "sys = System(grad)\n",
    "println(\"The system is of degree: \", d-1)"
   ]
  },
  {
   "cell_type": "code",
   "execution_count": 13,
   "metadata": {},
   "outputs": [
    {
     "name": "stdout",
     "output_type": "stream",
     "text": [
      "\u001b[32mTracking 100 paths...   2%|▋                            |  ETA: 0:07:49\u001b[39m\u001b[K\n",
      "\n",
      "\n",
      "\n",
      "\u001b[32mTracking 100 paths...  66%|███████████████████▏         |  ETA: 0:00:05\u001b[39m\u001b[K\n",
      "\n",
      "\n",
      "\n",
      "\u001b[32mTracking 100 paths... 100%|█████████████████████████████| Time: 0:00:09\u001b[39m\u001b[K\n",
      "\u001b[34m  # paths tracked:                  100\u001b[39m\u001b[K\n",
      "\u001b[34m  # non-singular solutions (real):  100 (84)\u001b[39m\u001b[K\n",
      "\u001b[34m  # singular endpoints (real):      0 (0)\u001b[39m\u001b[K\n",
      "\u001b[34m  # total solutions (real):         100 (84)\u001b[39m\u001b[K\n"
     ]
    }
   ],
   "source": [
    "Real_sol_lstsq = HomotopyContinuation.solve(sys)\n",
    "real_pts = HomotopyContinuation.real_solutions(Real_sol_lstsq; only_real=true, multiple_results=false);"
   ]
  },
  {
   "cell_type": "code",
   "execution_count": 6,
   "metadata": {},
   "outputs": [],
   "source": [
    "condition(point) = -1 < point[1] < 1 && -1 < point[2] < 1\n",
    "filtered_points = filter(condition, real_pts) # Filter points using the filter function\n",
    "# Colllect the critical points of the approximant \n",
    "h_x = Float64[point[1] for point in filtered_points] # Initialize the x vector for critical points of approximant\n",
    "h_y = Float64[point[2] for point in filtered_points] # Initialize the y vector\n",
    "h_z = map(p -> f([p[1], p[2]]), zip(scale_factor * h_x, scale_factor * h_y))\n",
    "df = DataFrame(x=scale_factor * h_x, y=scale_factor * h_y, z=h_z); # Create a DataFrame"
   ]
  },
  {
   "cell_type": "code",
   "execution_count": 7,
   "metadata": {},
   "outputs": [],
   "source": [
    "using GLMakie\n",
    "# Extract coordinates and function values\n",
    "coords = poly_approx.scale_factor * poly_approx.grid\n",
    "z_coords = poly_approx.z;"
   ]
  },
  {
   "cell_type": "code",
   "execution_count": 8,
   "metadata": {},
   "outputs": [
    {
     "name": "stderr",
     "output_type": "stream",
     "text": [
      "2024-11-29 14:48:36.938 julia[8320:78876] +[IMKClient subclass]: chose IMKClient_Modern\n",
      "2024-11-29 14:48:36.938 julia[8320:78876] +[IMKInputSession subclass]: chose IMKInputSession_Modern\n"
     ]
    },
    {
     "data": {
      "text/plain": [
       "GLMakie.Screen(...)"
      ]
     },
     "metadata": {},
     "output_type": "display_data"
    }
   ],
   "source": [
    "if size(coords)[2] == 2  # Plot the 3D scatter plot if the dimensions are 2\n",
    "    fig = Figure(size=(800, 600))\n",
    "    ax = Axis3(fig[1, 1], title=\"Cross In Tray Sample Points\", xlabel=\"X-axis\", ylabel=\"Y-axis\", zlabel=\"Z-axis\")\n",
    "\n",
    "    # Plot the sampled data with a darker core\n",
    "    scatter!(ax, coords[:, 1], coords[:, 2], z_coords, markersize=2, color=:black, label=\"Sampled Data Core\")\n",
    "\n",
    "    # Plot the sampled data with adjusted size and color to create a halo effect\n",
    "    scatter!(ax, coords[:, 1], coords[:, 2], z_coords, markersize=4, color=z_coords, colormap=:viridis, label=\"Sampled Data Halo\")\n",
    "\n",
    "    # Plot the exact approximant critical points with adjusted size\n",
    "    scatter!(ax, df.x, df.y, df.z, markersize=10, color=:red, label=\"Exact approximant critical points\")\n",
    "\n",
    "    display(fig)\n",
    "end"
   ]
  }
 ],
 "metadata": {
  "kernelspec": {
   "display_name": "Julia 1.11.1",
   "language": "julia",
   "name": "julia-1.11"
  },
  "language_info": {
   "file_extension": ".jl",
   "mimetype": "application/julia",
   "name": "julia",
   "version": "1.11.1"
  }
 },
 "nbformat": 4,
 "nbformat_minor": 2
}
